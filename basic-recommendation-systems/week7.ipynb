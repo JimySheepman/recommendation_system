{
 "cells": [
  {
   "cell_type": "code",
   "execution_count": 31,
   "metadata": {},
   "outputs": [],
   "source": [
    "import numpy as np\n",
    "import pandas as pd\n",
    "import matplotlib.pyplot as plt\n",
    "import seaborn as sns\n",
    "from scipy import spatial #To cumopute distance between each pair of the two collections of inputs.\n",
    "import operator #to perform comparisons between e.g it(a,b) is equal to a<b\n",
    "from sklearn.model_selection import train_test_split\n",
    "from sklearn.preprocessing import StandardScaler\n",
    "from sklearn.preprocessing import MultiLabelBinarizer\n",
    "from sklearn.neighbors import KNeighborsClassifier\n",
    "from sklearn.multioutput import MultiOutputClassifier\n",
    "from sklearn.metrics import confusion_matrix\n",
    "from sklearn.metrics import f1_score\n",
    "from sklearn.metrics import accuracy_score\n",
    "from sklearn.metrics import mean_squared_error\n",
    "import math\n",
    "import warnings\n",
    "warnings.simplefilter(\"ignore\")"
   ]
  },
  {
   "cell_type": "markdown",
   "metadata": {},
   "source": [
    "# tabloları ekleyim elimizdeki veriler bakıyoruz ve tabloları ilişkilerine göre birleştiriyoruz"
   ]
  },
  {
   "cell_type": "markdown",
   "metadata": {},
   "source": [
    "## u.data ekliyip ilk 10 tanesine bakalım"
   ]
  },
  {
   "cell_type": "code",
   "execution_count": 32,
   "metadata": {},
   "outputs": [
    {
     "data": {
      "text/html": [
       "<div>\n",
       "<style scoped>\n",
       "    .dataframe tbody tr th:only-of-type {\n",
       "        vertical-align: middle;\n",
       "    }\n",
       "\n",
       "    .dataframe tbody tr th {\n",
       "        vertical-align: top;\n",
       "    }\n",
       "\n",
       "    .dataframe thead th {\n",
       "        text-align: right;\n",
       "    }\n",
       "</style>\n",
       "<table border=\"1\" class=\"dataframe\">\n",
       "  <thead>\n",
       "    <tr style=\"text-align: right;\">\n",
       "      <th></th>\n",
       "      <th>userid</th>\n",
       "      <th>movieid</th>\n",
       "      <th>rating</th>\n",
       "      <th>timestamp</th>\n",
       "    </tr>\n",
       "  </thead>\n",
       "  <tbody>\n",
       "    <tr>\n",
       "      <th>0</th>\n",
       "      <td>196</td>\n",
       "      <td>242</td>\n",
       "      <td>3</td>\n",
       "      <td>881250949</td>\n",
       "    </tr>\n",
       "    <tr>\n",
       "      <th>1</th>\n",
       "      <td>186</td>\n",
       "      <td>302</td>\n",
       "      <td>3</td>\n",
       "      <td>891717742</td>\n",
       "    </tr>\n",
       "    <tr>\n",
       "      <th>2</th>\n",
       "      <td>22</td>\n",
       "      <td>377</td>\n",
       "      <td>1</td>\n",
       "      <td>878887116</td>\n",
       "    </tr>\n",
       "    <tr>\n",
       "      <th>3</th>\n",
       "      <td>244</td>\n",
       "      <td>51</td>\n",
       "      <td>2</td>\n",
       "      <td>880606923</td>\n",
       "    </tr>\n",
       "    <tr>\n",
       "      <th>4</th>\n",
       "      <td>166</td>\n",
       "      <td>346</td>\n",
       "      <td>1</td>\n",
       "      <td>886397596</td>\n",
       "    </tr>\n",
       "    <tr>\n",
       "      <th>5</th>\n",
       "      <td>298</td>\n",
       "      <td>474</td>\n",
       "      <td>4</td>\n",
       "      <td>884182806</td>\n",
       "    </tr>\n",
       "    <tr>\n",
       "      <th>6</th>\n",
       "      <td>115</td>\n",
       "      <td>265</td>\n",
       "      <td>2</td>\n",
       "      <td>881171488</td>\n",
       "    </tr>\n",
       "    <tr>\n",
       "      <th>7</th>\n",
       "      <td>253</td>\n",
       "      <td>465</td>\n",
       "      <td>5</td>\n",
       "      <td>891628467</td>\n",
       "    </tr>\n",
       "    <tr>\n",
       "      <th>8</th>\n",
       "      <td>305</td>\n",
       "      <td>451</td>\n",
       "      <td>3</td>\n",
       "      <td>886324817</td>\n",
       "    </tr>\n",
       "    <tr>\n",
       "      <th>9</th>\n",
       "      <td>6</td>\n",
       "      <td>86</td>\n",
       "      <td>3</td>\n",
       "      <td>883603013</td>\n",
       "    </tr>\n",
       "  </tbody>\n",
       "</table>\n",
       "</div>"
      ],
      "text/plain": [
       "   userid  movieid  rating  timestamp\n",
       "0     196      242       3  881250949\n",
       "1     186      302       3  891717742\n",
       "2      22      377       1  878887116\n",
       "3     244       51       2  880606923\n",
       "4     166      346       1  886397596\n",
       "5     298      474       4  884182806\n",
       "6     115      265       2  881171488\n",
       "7     253      465       5  891628467\n",
       "8     305      451       3  886324817\n",
       "9       6       86       3  883603013"
      ]
     },
     "execution_count": 32,
     "metadata": {},
     "output_type": "execute_result"
    }
   ],
   "source": [
    "columns = ['userid', 'movieid', 'rating', 'timestamp']\n",
    "ratings = pd.read_csv('ml-100k/u.data', sep='\\t',names= columns )\n",
    "ratings.head(10)"
   ]
  },
  {
   "cell_type": "code",
   "execution_count": 33,
   "metadata": {},
   "outputs": [
    {
     "data": {
      "text/plain": [
       "(100000, 4)"
      ]
     },
     "execution_count": 33,
     "metadata": {},
     "output_type": "execute_result"
    }
   ],
   "source": [
    "ratings.shape"
   ]
  },
  {
   "cell_type": "markdown",
   "metadata": {},
   "source": [
    "## u.item ekliyip ilk 10 tanesine bakalım"
   ]
  },
  {
   "cell_type": "code",
   "execution_count": 34,
   "metadata": {},
   "outputs": [
    {
     "data": {
      "text/html": [
       "<div>\n",
       "<style scoped>\n",
       "    .dataframe tbody tr th:only-of-type {\n",
       "        vertical-align: middle;\n",
       "    }\n",
       "\n",
       "    .dataframe tbody tr th {\n",
       "        vertical-align: top;\n",
       "    }\n",
       "\n",
       "    .dataframe thead th {\n",
       "        text-align: right;\n",
       "    }\n",
       "</style>\n",
       "<table border=\"1\" class=\"dataframe\">\n",
       "  <thead>\n",
       "    <tr style=\"text-align: right;\">\n",
       "      <th></th>\n",
       "      <th>movieid</th>\n",
       "      <th>movie title</th>\n",
       "      <th>release date</th>\n",
       "      <th>video release date</th>\n",
       "      <th>IMDb URL</th>\n",
       "      <th>unknown</th>\n",
       "      <th>action</th>\n",
       "      <th>adventure</th>\n",
       "      <th>animation</th>\n",
       "      <th>childrens</th>\n",
       "      <th>...</th>\n",
       "      <th>fantasy</th>\n",
       "      <th>film-nior</th>\n",
       "      <th>horror</th>\n",
       "      <th>musical</th>\n",
       "      <th>mystery</th>\n",
       "      <th>romance</th>\n",
       "      <th>sci-fi</th>\n",
       "      <th>thriler</th>\n",
       "      <th>war</th>\n",
       "      <th>westen</th>\n",
       "    </tr>\n",
       "  </thead>\n",
       "  <tbody>\n",
       "    <tr>\n",
       "      <th>0</th>\n",
       "      <td>1</td>\n",
       "      <td>Toy Story (1995)</td>\n",
       "      <td>01-Jan-1995</td>\n",
       "      <td>NaN</td>\n",
       "      <td>http://us.imdb.com/M/title-exact?Toy%20Story%2...</td>\n",
       "      <td>0</td>\n",
       "      <td>0</td>\n",
       "      <td>0</td>\n",
       "      <td>1</td>\n",
       "      <td>1</td>\n",
       "      <td>...</td>\n",
       "      <td>0</td>\n",
       "      <td>0</td>\n",
       "      <td>0</td>\n",
       "      <td>0</td>\n",
       "      <td>0</td>\n",
       "      <td>0</td>\n",
       "      <td>0</td>\n",
       "      <td>0</td>\n",
       "      <td>0</td>\n",
       "      <td>0</td>\n",
       "    </tr>\n",
       "    <tr>\n",
       "      <th>1</th>\n",
       "      <td>2</td>\n",
       "      <td>GoldenEye (1995)</td>\n",
       "      <td>01-Jan-1995</td>\n",
       "      <td>NaN</td>\n",
       "      <td>http://us.imdb.com/M/title-exact?GoldenEye%20(...</td>\n",
       "      <td>0</td>\n",
       "      <td>1</td>\n",
       "      <td>1</td>\n",
       "      <td>0</td>\n",
       "      <td>0</td>\n",
       "      <td>...</td>\n",
       "      <td>0</td>\n",
       "      <td>0</td>\n",
       "      <td>0</td>\n",
       "      <td>0</td>\n",
       "      <td>0</td>\n",
       "      <td>0</td>\n",
       "      <td>0</td>\n",
       "      <td>1</td>\n",
       "      <td>0</td>\n",
       "      <td>0</td>\n",
       "    </tr>\n",
       "    <tr>\n",
       "      <th>2</th>\n",
       "      <td>3</td>\n",
       "      <td>Four Rooms (1995)</td>\n",
       "      <td>01-Jan-1995</td>\n",
       "      <td>NaN</td>\n",
       "      <td>http://us.imdb.com/M/title-exact?Four%20Rooms%...</td>\n",
       "      <td>0</td>\n",
       "      <td>0</td>\n",
       "      <td>0</td>\n",
       "      <td>0</td>\n",
       "      <td>0</td>\n",
       "      <td>...</td>\n",
       "      <td>0</td>\n",
       "      <td>0</td>\n",
       "      <td>0</td>\n",
       "      <td>0</td>\n",
       "      <td>0</td>\n",
       "      <td>0</td>\n",
       "      <td>0</td>\n",
       "      <td>1</td>\n",
       "      <td>0</td>\n",
       "      <td>0</td>\n",
       "    </tr>\n",
       "    <tr>\n",
       "      <th>3</th>\n",
       "      <td>4</td>\n",
       "      <td>Get Shorty (1995)</td>\n",
       "      <td>01-Jan-1995</td>\n",
       "      <td>NaN</td>\n",
       "      <td>http://us.imdb.com/M/title-exact?Get%20Shorty%...</td>\n",
       "      <td>0</td>\n",
       "      <td>1</td>\n",
       "      <td>0</td>\n",
       "      <td>0</td>\n",
       "      <td>0</td>\n",
       "      <td>...</td>\n",
       "      <td>0</td>\n",
       "      <td>0</td>\n",
       "      <td>0</td>\n",
       "      <td>0</td>\n",
       "      <td>0</td>\n",
       "      <td>0</td>\n",
       "      <td>0</td>\n",
       "      <td>0</td>\n",
       "      <td>0</td>\n",
       "      <td>0</td>\n",
       "    </tr>\n",
       "    <tr>\n",
       "      <th>4</th>\n",
       "      <td>5</td>\n",
       "      <td>Copycat (1995)</td>\n",
       "      <td>01-Jan-1995</td>\n",
       "      <td>NaN</td>\n",
       "      <td>http://us.imdb.com/M/title-exact?Copycat%20(1995)</td>\n",
       "      <td>0</td>\n",
       "      <td>0</td>\n",
       "      <td>0</td>\n",
       "      <td>0</td>\n",
       "      <td>0</td>\n",
       "      <td>...</td>\n",
       "      <td>0</td>\n",
       "      <td>0</td>\n",
       "      <td>0</td>\n",
       "      <td>0</td>\n",
       "      <td>0</td>\n",
       "      <td>0</td>\n",
       "      <td>0</td>\n",
       "      <td>1</td>\n",
       "      <td>0</td>\n",
       "      <td>0</td>\n",
       "    </tr>\n",
       "    <tr>\n",
       "      <th>5</th>\n",
       "      <td>6</td>\n",
       "      <td>Shanghai Triad (Yao a yao yao dao waipo qiao) ...</td>\n",
       "      <td>01-Jan-1995</td>\n",
       "      <td>NaN</td>\n",
       "      <td>http://us.imdb.com/Title?Yao+a+yao+yao+dao+wai...</td>\n",
       "      <td>0</td>\n",
       "      <td>0</td>\n",
       "      <td>0</td>\n",
       "      <td>0</td>\n",
       "      <td>0</td>\n",
       "      <td>...</td>\n",
       "      <td>0</td>\n",
       "      <td>0</td>\n",
       "      <td>0</td>\n",
       "      <td>0</td>\n",
       "      <td>0</td>\n",
       "      <td>0</td>\n",
       "      <td>0</td>\n",
       "      <td>0</td>\n",
       "      <td>0</td>\n",
       "      <td>0</td>\n",
       "    </tr>\n",
       "    <tr>\n",
       "      <th>6</th>\n",
       "      <td>7</td>\n",
       "      <td>Twelve Monkeys (1995)</td>\n",
       "      <td>01-Jan-1995</td>\n",
       "      <td>NaN</td>\n",
       "      <td>http://us.imdb.com/M/title-exact?Twelve%20Monk...</td>\n",
       "      <td>0</td>\n",
       "      <td>0</td>\n",
       "      <td>0</td>\n",
       "      <td>0</td>\n",
       "      <td>0</td>\n",
       "      <td>...</td>\n",
       "      <td>0</td>\n",
       "      <td>0</td>\n",
       "      <td>0</td>\n",
       "      <td>0</td>\n",
       "      <td>0</td>\n",
       "      <td>0</td>\n",
       "      <td>1</td>\n",
       "      <td>0</td>\n",
       "      <td>0</td>\n",
       "      <td>0</td>\n",
       "    </tr>\n",
       "    <tr>\n",
       "      <th>7</th>\n",
       "      <td>8</td>\n",
       "      <td>Babe (1995)</td>\n",
       "      <td>01-Jan-1995</td>\n",
       "      <td>NaN</td>\n",
       "      <td>http://us.imdb.com/M/title-exact?Babe%20(1995)</td>\n",
       "      <td>0</td>\n",
       "      <td>0</td>\n",
       "      <td>0</td>\n",
       "      <td>0</td>\n",
       "      <td>1</td>\n",
       "      <td>...</td>\n",
       "      <td>0</td>\n",
       "      <td>0</td>\n",
       "      <td>0</td>\n",
       "      <td>0</td>\n",
       "      <td>0</td>\n",
       "      <td>0</td>\n",
       "      <td>0</td>\n",
       "      <td>0</td>\n",
       "      <td>0</td>\n",
       "      <td>0</td>\n",
       "    </tr>\n",
       "    <tr>\n",
       "      <th>8</th>\n",
       "      <td>9</td>\n",
       "      <td>Dead Man Walking (1995)</td>\n",
       "      <td>01-Jan-1995</td>\n",
       "      <td>NaN</td>\n",
       "      <td>http://us.imdb.com/M/title-exact?Dead%20Man%20...</td>\n",
       "      <td>0</td>\n",
       "      <td>0</td>\n",
       "      <td>0</td>\n",
       "      <td>0</td>\n",
       "      <td>0</td>\n",
       "      <td>...</td>\n",
       "      <td>0</td>\n",
       "      <td>0</td>\n",
       "      <td>0</td>\n",
       "      <td>0</td>\n",
       "      <td>0</td>\n",
       "      <td>0</td>\n",
       "      <td>0</td>\n",
       "      <td>0</td>\n",
       "      <td>0</td>\n",
       "      <td>0</td>\n",
       "    </tr>\n",
       "    <tr>\n",
       "      <th>9</th>\n",
       "      <td>10</td>\n",
       "      <td>Richard III (1995)</td>\n",
       "      <td>22-Jan-1996</td>\n",
       "      <td>NaN</td>\n",
       "      <td>http://us.imdb.com/M/title-exact?Richard%20III...</td>\n",
       "      <td>0</td>\n",
       "      <td>0</td>\n",
       "      <td>0</td>\n",
       "      <td>0</td>\n",
       "      <td>0</td>\n",
       "      <td>...</td>\n",
       "      <td>0</td>\n",
       "      <td>0</td>\n",
       "      <td>0</td>\n",
       "      <td>0</td>\n",
       "      <td>0</td>\n",
       "      <td>0</td>\n",
       "      <td>0</td>\n",
       "      <td>0</td>\n",
       "      <td>1</td>\n",
       "      <td>0</td>\n",
       "    </tr>\n",
       "  </tbody>\n",
       "</table>\n",
       "<p>10 rows × 24 columns</p>\n",
       "</div>"
      ],
      "text/plain": [
       "   movieid                                        movie title release date  \\\n",
       "0        1                                   Toy Story (1995)  01-Jan-1995   \n",
       "1        2                                   GoldenEye (1995)  01-Jan-1995   \n",
       "2        3                                  Four Rooms (1995)  01-Jan-1995   \n",
       "3        4                                  Get Shorty (1995)  01-Jan-1995   \n",
       "4        5                                     Copycat (1995)  01-Jan-1995   \n",
       "5        6  Shanghai Triad (Yao a yao yao dao waipo qiao) ...  01-Jan-1995   \n",
       "6        7                              Twelve Monkeys (1995)  01-Jan-1995   \n",
       "7        8                                        Babe (1995)  01-Jan-1995   \n",
       "8        9                            Dead Man Walking (1995)  01-Jan-1995   \n",
       "9       10                                 Richard III (1995)  22-Jan-1996   \n",
       "\n",
       "   video release date                                           IMDb URL  \\\n",
       "0                 NaN  http://us.imdb.com/M/title-exact?Toy%20Story%2...   \n",
       "1                 NaN  http://us.imdb.com/M/title-exact?GoldenEye%20(...   \n",
       "2                 NaN  http://us.imdb.com/M/title-exact?Four%20Rooms%...   \n",
       "3                 NaN  http://us.imdb.com/M/title-exact?Get%20Shorty%...   \n",
       "4                 NaN  http://us.imdb.com/M/title-exact?Copycat%20(1995)   \n",
       "5                 NaN  http://us.imdb.com/Title?Yao+a+yao+yao+dao+wai...   \n",
       "6                 NaN  http://us.imdb.com/M/title-exact?Twelve%20Monk...   \n",
       "7                 NaN     http://us.imdb.com/M/title-exact?Babe%20(1995)   \n",
       "8                 NaN  http://us.imdb.com/M/title-exact?Dead%20Man%20...   \n",
       "9                 NaN  http://us.imdb.com/M/title-exact?Richard%20III...   \n",
       "\n",
       "   unknown  action  adventure  animation  childrens  ...  fantasy  film-nior  \\\n",
       "0        0       0          0          1          1  ...        0          0   \n",
       "1        0       1          1          0          0  ...        0          0   \n",
       "2        0       0          0          0          0  ...        0          0   \n",
       "3        0       1          0          0          0  ...        0          0   \n",
       "4        0       0          0          0          0  ...        0          0   \n",
       "5        0       0          0          0          0  ...        0          0   \n",
       "6        0       0          0          0          0  ...        0          0   \n",
       "7        0       0          0          0          1  ...        0          0   \n",
       "8        0       0          0          0          0  ...        0          0   \n",
       "9        0       0          0          0          0  ...        0          0   \n",
       "\n",
       "   horror  musical  mystery  romance  sci-fi  thriler  war  westen  \n",
       "0       0        0        0        0       0        0    0       0  \n",
       "1       0        0        0        0       0        1    0       0  \n",
       "2       0        0        0        0       0        1    0       0  \n",
       "3       0        0        0        0       0        0    0       0  \n",
       "4       0        0        0        0       0        1    0       0  \n",
       "5       0        0        0        0       0        0    0       0  \n",
       "6       0        0        0        0       1        0    0       0  \n",
       "7       0        0        0        0       0        0    0       0  \n",
       "8       0        0        0        0       0        0    0       0  \n",
       "9       0        0        0        0       0        0    1       0  \n",
       "\n",
       "[10 rows x 24 columns]"
      ]
     },
     "execution_count": 34,
     "metadata": {},
     "output_type": "execute_result"
    }
   ],
   "source": [
    "# importing the u.item dataset\n",
    "movie_titles = ['movieid', 'movie title', 'release date', 'video release date', 'IMDb URL', 'unknown', 'action', 'adventure','animation','childrens', 'comedy','crime','documentary','drama','fantasy','film-nior','horror','musical','mystery','romance','sci-fi','thriler','war','westen']\n",
    "titles = pd.read_csv('ml-100k/u.item', sep='|',encoding='latin-1', names= movie_titles)\n",
    "titles.head(10)"
   ]
  },
  {
   "cell_type": "code",
   "execution_count": 35,
   "metadata": {},
   "outputs": [
    {
     "data": {
      "text/plain": [
       "(1682, 24)"
      ]
     },
     "execution_count": 35,
     "metadata": {},
     "output_type": "execute_result"
    }
   ],
   "source": [
    "titles.shape"
   ]
  },
  {
   "cell_type": "markdown",
   "metadata": {},
   "source": [
    "## u.genre ekliyip ilk 10 tanesine bakalım"
   ]
  },
  {
   "cell_type": "code",
   "execution_count": 36,
   "metadata": {},
   "outputs": [
    {
     "data": {
      "text/html": [
       "<div>\n",
       "<style scoped>\n",
       "    .dataframe tbody tr th:only-of-type {\n",
       "        vertical-align: middle;\n",
       "    }\n",
       "\n",
       "    .dataframe tbody tr th {\n",
       "        vertical-align: top;\n",
       "    }\n",
       "\n",
       "    .dataframe thead th {\n",
       "        text-align: right;\n",
       "    }\n",
       "</style>\n",
       "<table border=\"1\" class=\"dataframe\">\n",
       "  <thead>\n",
       "    <tr style=\"text-align: right;\">\n",
       "      <th></th>\n",
       "      <th>type</th>\n",
       "      <th>genreid</th>\n",
       "    </tr>\n",
       "  </thead>\n",
       "  <tbody>\n",
       "    <tr>\n",
       "      <th>0</th>\n",
       "      <td>unknown</td>\n",
       "      <td>0</td>\n",
       "    </tr>\n",
       "    <tr>\n",
       "      <th>1</th>\n",
       "      <td>Action</td>\n",
       "      <td>1</td>\n",
       "    </tr>\n",
       "    <tr>\n",
       "      <th>2</th>\n",
       "      <td>Adventure</td>\n",
       "      <td>2</td>\n",
       "    </tr>\n",
       "    <tr>\n",
       "      <th>3</th>\n",
       "      <td>Animation</td>\n",
       "      <td>3</td>\n",
       "    </tr>\n",
       "    <tr>\n",
       "      <th>4</th>\n",
       "      <td>Children's</td>\n",
       "      <td>4</td>\n",
       "    </tr>\n",
       "    <tr>\n",
       "      <th>5</th>\n",
       "      <td>Comedy</td>\n",
       "      <td>5</td>\n",
       "    </tr>\n",
       "    <tr>\n",
       "      <th>6</th>\n",
       "      <td>Crime</td>\n",
       "      <td>6</td>\n",
       "    </tr>\n",
       "    <tr>\n",
       "      <th>7</th>\n",
       "      <td>Documentary</td>\n",
       "      <td>7</td>\n",
       "    </tr>\n",
       "    <tr>\n",
       "      <th>8</th>\n",
       "      <td>Drama</td>\n",
       "      <td>8</td>\n",
       "    </tr>\n",
       "    <tr>\n",
       "      <th>9</th>\n",
       "      <td>Fantasy</td>\n",
       "      <td>9</td>\n",
       "    </tr>\n",
       "  </tbody>\n",
       "</table>\n",
       "</div>"
      ],
      "text/plain": [
       "          type  genreid\n",
       "0      unknown        0\n",
       "1       Action        1\n",
       "2    Adventure        2\n",
       "3    Animation        3\n",
       "4   Children's        4\n",
       "5       Comedy        5\n",
       "6        Crime        6\n",
       "7  Documentary        7\n",
       "8        Drama        8\n",
       "9      Fantasy        9"
      ]
     },
     "execution_count": 36,
     "metadata": {},
     "output_type": "execute_result"
    }
   ],
   "source": [
    "genType = ['type','genreid']\n",
    "genre = pd.read_csv('ml-100k/u.genre',sep='|',names=genType)\n",
    "genre.head(10)"
   ]
  },
  {
   "cell_type": "code",
   "execution_count": 37,
   "metadata": {},
   "outputs": [
    {
     "data": {
      "text/plain": [
       "(19, 2)"
      ]
     },
     "execution_count": 37,
     "metadata": {},
     "output_type": "execute_result"
    }
   ],
   "source": [
    "genre.shape"
   ]
  },
  {
   "cell_type": "markdown",
   "metadata": {},
   "source": [
    "## u.user ekliyip ilk 10 tanesine bakalım"
   ]
  },
  {
   "cell_type": "code",
   "execution_count": 38,
   "metadata": {},
   "outputs": [
    {
     "data": {
      "text/html": [
       "<div>\n",
       "<style scoped>\n",
       "    .dataframe tbody tr th:only-of-type {\n",
       "        vertical-align: middle;\n",
       "    }\n",
       "\n",
       "    .dataframe tbody tr th {\n",
       "        vertical-align: top;\n",
       "    }\n",
       "\n",
       "    .dataframe thead th {\n",
       "        text-align: right;\n",
       "    }\n",
       "</style>\n",
       "<table border=\"1\" class=\"dataframe\">\n",
       "  <thead>\n",
       "    <tr style=\"text-align: right;\">\n",
       "      <th></th>\n",
       "      <th>userid</th>\n",
       "      <th>age</th>\n",
       "      <th>gender</th>\n",
       "      <th>occupations</th>\n",
       "      <th>zip code</th>\n",
       "    </tr>\n",
       "  </thead>\n",
       "  <tbody>\n",
       "    <tr>\n",
       "      <th>0</th>\n",
       "      <td>1</td>\n",
       "      <td>24</td>\n",
       "      <td>M</td>\n",
       "      <td>technician</td>\n",
       "      <td>85711</td>\n",
       "    </tr>\n",
       "    <tr>\n",
       "      <th>1</th>\n",
       "      <td>2</td>\n",
       "      <td>53</td>\n",
       "      <td>F</td>\n",
       "      <td>other</td>\n",
       "      <td>94043</td>\n",
       "    </tr>\n",
       "    <tr>\n",
       "      <th>2</th>\n",
       "      <td>3</td>\n",
       "      <td>23</td>\n",
       "      <td>M</td>\n",
       "      <td>writer</td>\n",
       "      <td>32067</td>\n",
       "    </tr>\n",
       "    <tr>\n",
       "      <th>3</th>\n",
       "      <td>4</td>\n",
       "      <td>24</td>\n",
       "      <td>M</td>\n",
       "      <td>technician</td>\n",
       "      <td>43537</td>\n",
       "    </tr>\n",
       "    <tr>\n",
       "      <th>4</th>\n",
       "      <td>5</td>\n",
       "      <td>33</td>\n",
       "      <td>F</td>\n",
       "      <td>other</td>\n",
       "      <td>15213</td>\n",
       "    </tr>\n",
       "    <tr>\n",
       "      <th>5</th>\n",
       "      <td>6</td>\n",
       "      <td>42</td>\n",
       "      <td>M</td>\n",
       "      <td>executive</td>\n",
       "      <td>98101</td>\n",
       "    </tr>\n",
       "    <tr>\n",
       "      <th>6</th>\n",
       "      <td>7</td>\n",
       "      <td>57</td>\n",
       "      <td>M</td>\n",
       "      <td>administrator</td>\n",
       "      <td>91344</td>\n",
       "    </tr>\n",
       "    <tr>\n",
       "      <th>7</th>\n",
       "      <td>8</td>\n",
       "      <td>36</td>\n",
       "      <td>M</td>\n",
       "      <td>administrator</td>\n",
       "      <td>05201</td>\n",
       "    </tr>\n",
       "    <tr>\n",
       "      <th>8</th>\n",
       "      <td>9</td>\n",
       "      <td>29</td>\n",
       "      <td>M</td>\n",
       "      <td>student</td>\n",
       "      <td>01002</td>\n",
       "    </tr>\n",
       "    <tr>\n",
       "      <th>9</th>\n",
       "      <td>10</td>\n",
       "      <td>53</td>\n",
       "      <td>M</td>\n",
       "      <td>lawyer</td>\n",
       "      <td>90703</td>\n",
       "    </tr>\n",
       "  </tbody>\n",
       "</table>\n",
       "</div>"
      ],
      "text/plain": [
       "   userid  age gender    occupations zip code\n",
       "0       1   24      M     technician    85711\n",
       "1       2   53      F          other    94043\n",
       "2       3   23      M         writer    32067\n",
       "3       4   24      M     technician    43537\n",
       "4       5   33      F          other    15213\n",
       "5       6   42      M      executive    98101\n",
       "6       7   57      M  administrator    91344\n",
       "7       8   36      M  administrator    05201\n",
       "8       9   29      M        student    01002\n",
       "9      10   53      M         lawyer    90703"
      ]
     },
     "execution_count": 38,
     "metadata": {},
     "output_type": "execute_result"
    }
   ],
   "source": [
    "user_info = ['userid', 'age', 'gender','occupations','zip code']\n",
    "users = pd.read_csv('ml-100k/u.user',sep='|',encoding='latin-1', names= user_info)\n",
    "users.head(10)"
   ]
  },
  {
   "cell_type": "code",
   "execution_count": 39,
   "metadata": {},
   "outputs": [
    {
     "data": {
      "text/plain": [
       "(943, 5)"
      ]
     },
     "execution_count": 39,
     "metadata": {},
     "output_type": "execute_result"
    }
   ],
   "source": [
    "users.shape"
   ]
  },
  {
   "cell_type": "markdown",
   "metadata": {},
   "source": [
    "## u_data ile u_user birleştirip sıralıyoruz"
   ]
  },
  {
   "cell_type": "code",
   "execution_count": 40,
   "metadata": {},
   "outputs": [
    {
     "data": {
      "text/html": [
       "<div>\n",
       "<style scoped>\n",
       "    .dataframe tbody tr th:only-of-type {\n",
       "        vertical-align: middle;\n",
       "    }\n",
       "\n",
       "    .dataframe tbody tr th {\n",
       "        vertical-align: top;\n",
       "    }\n",
       "\n",
       "    .dataframe thead th {\n",
       "        text-align: right;\n",
       "    }\n",
       "</style>\n",
       "<table border=\"1\" class=\"dataframe\">\n",
       "  <thead>\n",
       "    <tr style=\"text-align: right;\">\n",
       "      <th></th>\n",
       "      <th>userid</th>\n",
       "      <th>movieid</th>\n",
       "      <th>rating</th>\n",
       "      <th>timestamp</th>\n",
       "      <th>age</th>\n",
       "      <th>gender</th>\n",
       "      <th>occupations</th>\n",
       "      <th>zip code</th>\n",
       "    </tr>\n",
       "  </thead>\n",
       "  <tbody>\n",
       "    <tr>\n",
       "      <th>0</th>\n",
       "      <td>196</td>\n",
       "      <td>242</td>\n",
       "      <td>3</td>\n",
       "      <td>881250949</td>\n",
       "      <td>49</td>\n",
       "      <td>M</td>\n",
       "      <td>writer</td>\n",
       "      <td>55105</td>\n",
       "    </tr>\n",
       "    <tr>\n",
       "      <th>1</th>\n",
       "      <td>196</td>\n",
       "      <td>393</td>\n",
       "      <td>4</td>\n",
       "      <td>881251863</td>\n",
       "      <td>49</td>\n",
       "      <td>M</td>\n",
       "      <td>writer</td>\n",
       "      <td>55105</td>\n",
       "    </tr>\n",
       "    <tr>\n",
       "      <th>2</th>\n",
       "      <td>196</td>\n",
       "      <td>381</td>\n",
       "      <td>4</td>\n",
       "      <td>881251728</td>\n",
       "      <td>49</td>\n",
       "      <td>M</td>\n",
       "      <td>writer</td>\n",
       "      <td>55105</td>\n",
       "    </tr>\n",
       "    <tr>\n",
       "      <th>3</th>\n",
       "      <td>196</td>\n",
       "      <td>251</td>\n",
       "      <td>3</td>\n",
       "      <td>881251274</td>\n",
       "      <td>49</td>\n",
       "      <td>M</td>\n",
       "      <td>writer</td>\n",
       "      <td>55105</td>\n",
       "    </tr>\n",
       "    <tr>\n",
       "      <th>4</th>\n",
       "      <td>196</td>\n",
       "      <td>655</td>\n",
       "      <td>5</td>\n",
       "      <td>881251793</td>\n",
       "      <td>49</td>\n",
       "      <td>M</td>\n",
       "      <td>writer</td>\n",
       "      <td>55105</td>\n",
       "    </tr>\n",
       "  </tbody>\n",
       "</table>\n",
       "</div>"
      ],
      "text/plain": [
       "   userid  movieid  rating  timestamp  age gender occupations zip code\n",
       "0     196      242       3  881250949   49      M      writer    55105\n",
       "1     196      393       4  881251863   49      M      writer    55105\n",
       "2     196      381       4  881251728   49      M      writer    55105\n",
       "3     196      251       3  881251274   49      M      writer    55105\n",
       "4     196      655       5  881251793   49      M      writer    55105"
      ]
     },
     "execution_count": 40,
     "metadata": {},
     "output_type": "execute_result"
    }
   ],
   "source": [
    "ratings = pd.merge(ratings, users, on= 'userid')# userid'e göre\n",
    "ratings.head()"
   ]
  },
  {
   "cell_type": "code",
   "execution_count": 41,
   "metadata": {},
   "outputs": [
    {
     "data": {
      "text/plain": [
       "(100000, 8)"
      ]
     },
     "execution_count": 41,
     "metadata": {},
     "output_type": "execute_result"
    }
   ],
   "source": [
    "ratings.shape"
   ]
  },
  {
   "cell_type": "markdown",
   "metadata": {},
   "source": [
    "##  u_data ile u_movies birleştirip sıralıyoruz"
   ]
  },
  {
   "cell_type": "code",
   "execution_count": 42,
   "metadata": {},
   "outputs": [
    {
     "data": {
      "text/html": [
       "<div>\n",
       "<style scoped>\n",
       "    .dataframe tbody tr th:only-of-type {\n",
       "        vertical-align: middle;\n",
       "    }\n",
       "\n",
       "    .dataframe tbody tr th {\n",
       "        vertical-align: top;\n",
       "    }\n",
       "\n",
       "    .dataframe thead th {\n",
       "        text-align: right;\n",
       "    }\n",
       "</style>\n",
       "<table border=\"1\" class=\"dataframe\">\n",
       "  <thead>\n",
       "    <tr style=\"text-align: right;\">\n",
       "      <th></th>\n",
       "      <th>movieid</th>\n",
       "      <th>movie title</th>\n",
       "      <th>release date</th>\n",
       "      <th>video release date</th>\n",
       "      <th>IMDb URL</th>\n",
       "      <th>unknown</th>\n",
       "      <th>action</th>\n",
       "      <th>adventure</th>\n",
       "      <th>animation</th>\n",
       "      <th>childrens</th>\n",
       "      <th>...</th>\n",
       "      <th>thriler</th>\n",
       "      <th>war</th>\n",
       "      <th>westen</th>\n",
       "      <th>userid</th>\n",
       "      <th>rating</th>\n",
       "      <th>timestamp</th>\n",
       "      <th>age</th>\n",
       "      <th>gender</th>\n",
       "      <th>occupations</th>\n",
       "      <th>zip code</th>\n",
       "    </tr>\n",
       "  </thead>\n",
       "  <tbody>\n",
       "    <tr>\n",
       "      <th>0</th>\n",
       "      <td>1</td>\n",
       "      <td>Toy Story (1995)</td>\n",
       "      <td>01-Jan-1995</td>\n",
       "      <td>NaN</td>\n",
       "      <td>http://us.imdb.com/M/title-exact?Toy%20Story%2...</td>\n",
       "      <td>0</td>\n",
       "      <td>0</td>\n",
       "      <td>0</td>\n",
       "      <td>1</td>\n",
       "      <td>1</td>\n",
       "      <td>...</td>\n",
       "      <td>0</td>\n",
       "      <td>0</td>\n",
       "      <td>0</td>\n",
       "      <td>244</td>\n",
       "      <td>4</td>\n",
       "      <td>880604405</td>\n",
       "      <td>28</td>\n",
       "      <td>M</td>\n",
       "      <td>technician</td>\n",
       "      <td>80525</td>\n",
       "    </tr>\n",
       "    <tr>\n",
       "      <th>1</th>\n",
       "      <td>1</td>\n",
       "      <td>Toy Story (1995)</td>\n",
       "      <td>01-Jan-1995</td>\n",
       "      <td>NaN</td>\n",
       "      <td>http://us.imdb.com/M/title-exact?Toy%20Story%2...</td>\n",
       "      <td>0</td>\n",
       "      <td>0</td>\n",
       "      <td>0</td>\n",
       "      <td>1</td>\n",
       "      <td>1</td>\n",
       "      <td>...</td>\n",
       "      <td>0</td>\n",
       "      <td>0</td>\n",
       "      <td>0</td>\n",
       "      <td>298</td>\n",
       "      <td>5</td>\n",
       "      <td>884126061</td>\n",
       "      <td>44</td>\n",
       "      <td>M</td>\n",
       "      <td>executive</td>\n",
       "      <td>01581</td>\n",
       "    </tr>\n",
       "    <tr>\n",
       "      <th>2</th>\n",
       "      <td>1</td>\n",
       "      <td>Toy Story (1995)</td>\n",
       "      <td>01-Jan-1995</td>\n",
       "      <td>NaN</td>\n",
       "      <td>http://us.imdb.com/M/title-exact?Toy%20Story%2...</td>\n",
       "      <td>0</td>\n",
       "      <td>0</td>\n",
       "      <td>0</td>\n",
       "      <td>1</td>\n",
       "      <td>1</td>\n",
       "      <td>...</td>\n",
       "      <td>0</td>\n",
       "      <td>0</td>\n",
       "      <td>0</td>\n",
       "      <td>253</td>\n",
       "      <td>5</td>\n",
       "      <td>891628467</td>\n",
       "      <td>26</td>\n",
       "      <td>F</td>\n",
       "      <td>librarian</td>\n",
       "      <td>22903</td>\n",
       "    </tr>\n",
       "    <tr>\n",
       "      <th>3</th>\n",
       "      <td>1</td>\n",
       "      <td>Toy Story (1995)</td>\n",
       "      <td>01-Jan-1995</td>\n",
       "      <td>NaN</td>\n",
       "      <td>http://us.imdb.com/M/title-exact?Toy%20Story%2...</td>\n",
       "      <td>0</td>\n",
       "      <td>0</td>\n",
       "      <td>0</td>\n",
       "      <td>1</td>\n",
       "      <td>1</td>\n",
       "      <td>...</td>\n",
       "      <td>0</td>\n",
       "      <td>0</td>\n",
       "      <td>0</td>\n",
       "      <td>305</td>\n",
       "      <td>5</td>\n",
       "      <td>886323153</td>\n",
       "      <td>23</td>\n",
       "      <td>M</td>\n",
       "      <td>programmer</td>\n",
       "      <td>94086</td>\n",
       "    </tr>\n",
       "    <tr>\n",
       "      <th>4</th>\n",
       "      <td>1</td>\n",
       "      <td>Toy Story (1995)</td>\n",
       "      <td>01-Jan-1995</td>\n",
       "      <td>NaN</td>\n",
       "      <td>http://us.imdb.com/M/title-exact?Toy%20Story%2...</td>\n",
       "      <td>0</td>\n",
       "      <td>0</td>\n",
       "      <td>0</td>\n",
       "      <td>1</td>\n",
       "      <td>1</td>\n",
       "      <td>...</td>\n",
       "      <td>0</td>\n",
       "      <td>0</td>\n",
       "      <td>0</td>\n",
       "      <td>6</td>\n",
       "      <td>4</td>\n",
       "      <td>883599478</td>\n",
       "      <td>42</td>\n",
       "      <td>M</td>\n",
       "      <td>executive</td>\n",
       "      <td>98101</td>\n",
       "    </tr>\n",
       "  </tbody>\n",
       "</table>\n",
       "<p>5 rows × 31 columns</p>\n",
       "</div>"
      ],
      "text/plain": [
       "   movieid       movie title release date  video release date  \\\n",
       "0        1  Toy Story (1995)  01-Jan-1995                 NaN   \n",
       "1        1  Toy Story (1995)  01-Jan-1995                 NaN   \n",
       "2        1  Toy Story (1995)  01-Jan-1995                 NaN   \n",
       "3        1  Toy Story (1995)  01-Jan-1995                 NaN   \n",
       "4        1  Toy Story (1995)  01-Jan-1995                 NaN   \n",
       "\n",
       "                                            IMDb URL  unknown  action  \\\n",
       "0  http://us.imdb.com/M/title-exact?Toy%20Story%2...        0       0   \n",
       "1  http://us.imdb.com/M/title-exact?Toy%20Story%2...        0       0   \n",
       "2  http://us.imdb.com/M/title-exact?Toy%20Story%2...        0       0   \n",
       "3  http://us.imdb.com/M/title-exact?Toy%20Story%2...        0       0   \n",
       "4  http://us.imdb.com/M/title-exact?Toy%20Story%2...        0       0   \n",
       "\n",
       "   adventure  animation  childrens  ...  thriler  war  westen  userid  rating  \\\n",
       "0          0          1          1  ...        0    0       0     244       4   \n",
       "1          0          1          1  ...        0    0       0     298       5   \n",
       "2          0          1          1  ...        0    0       0     253       5   \n",
       "3          0          1          1  ...        0    0       0     305       5   \n",
       "4          0          1          1  ...        0    0       0       6       4   \n",
       "\n",
       "   timestamp  age  gender  occupations  zip code  \n",
       "0  880604405   28       M   technician     80525  \n",
       "1  884126061   44       M    executive     01581  \n",
       "2  891628467   26       F    librarian     22903  \n",
       "3  886323153   23       M   programmer     94086  \n",
       "4  883599478   42       M    executive     98101  \n",
       "\n",
       "[5 rows x 31 columns]"
      ]
     },
     "execution_count": 42,
     "metadata": {},
     "output_type": "execute_result"
    }
   ],
   "source": [
    "titles = pd.merge(titles,ratings, on='movieid')# film id'sine göre\n",
    "titles.head()"
   ]
  },
  {
   "cell_type": "code",
   "execution_count": 43,
   "metadata": {},
   "outputs": [
    {
     "data": {
      "text/plain": [
       "(100000, 31)"
      ]
     },
     "execution_count": 43,
     "metadata": {},
     "output_type": "execute_result"
    }
   ],
   "source": [
    "titles.shape"
   ]
  },
  {
   "cell_type": "code",
   "execution_count": 46,
   "metadata": {},
   "outputs": [
    {
     "data": {
      "text/plain": [
       "movie title\n",
       "Marlene Dietrich: Shadow and Light (1996)            5.0\n",
       "Prefontaine (1997)                                   5.0\n",
       "Santa with Muscles (1996)                            5.0\n",
       "Star Kid (1997)                                      5.0\n",
       "Someone Else's America (1995)                        5.0\n",
       "Entertaining Angels: The Dorothy Day Story (1996)    5.0\n",
       "Saint of Fort Washington, The (1993)                 5.0\n",
       "Great Day in Harlem, A (1994)                        5.0\n",
       "They Made Me a Criminal (1939)                       5.0\n",
       "Aiqing wansui (1994)                                 5.0\n",
       "Name: rating, dtype: float64"
      ]
     },
     "execution_count": 46,
     "metadata": {},
     "output_type": "execute_result"
    }
   ],
   "source": [
    "#tür tabanlı en yüksek ratingler\n",
    "titles.groupby('movie title')['rating'].mean().sort_values(ascending=False).head(10)"
   ]
  },
  {
   "cell_type": "code",
   "execution_count": 47,
   "metadata": {},
   "outputs": [
    {
     "data": {
      "text/plain": [
       "movie title\n",
       "Star Wars (1977)                 583\n",
       "Contact (1997)                   509\n",
       "Fargo (1996)                     508\n",
       "Return of the Jedi (1983)        507\n",
       "Liar Liar (1997)                 485\n",
       "English Patient, The (1996)      481\n",
       "Scream (1996)                    478\n",
       "Toy Story (1995)                 452\n",
       "Air Force One (1997)             431\n",
       "Independence Day (ID4) (1996)    429\n",
       "Name: rating, dtype: int64"
      ]
     },
     "execution_count": 47,
     "metadata": {},
     "output_type": "execute_result"
    }
   ],
   "source": [
    "#ratinglerin count'u\n",
    "titles.groupby('movie title')['rating'].count().sort_values(ascending=False).head(10)"
   ]
  },
  {
   "cell_type": "code",
   "execution_count": 50,
   "metadata": {},
   "outputs": [
    {
     "data": {
      "text/html": [
       "<div>\n",
       "<style scoped>\n",
       "    .dataframe tbody tr th:only-of-type {\n",
       "        vertical-align: middle;\n",
       "    }\n",
       "\n",
       "    .dataframe tbody tr th {\n",
       "        vertical-align: top;\n",
       "    }\n",
       "\n",
       "    .dataframe thead th {\n",
       "        text-align: right;\n",
       "    }\n",
       "</style>\n",
       "<table border=\"1\" class=\"dataframe\">\n",
       "  <thead>\n",
       "    <tr style=\"text-align: right;\">\n",
       "      <th></th>\n",
       "      <th>rating</th>\n",
       "    </tr>\n",
       "    <tr>\n",
       "      <th>movie title</th>\n",
       "      <th></th>\n",
       "    </tr>\n",
       "  </thead>\n",
       "  <tbody>\n",
       "    <tr>\n",
       "      <th>'Til There Was You (1997)</th>\n",
       "      <td>2.0</td>\n",
       "    </tr>\n",
       "    <tr>\n",
       "      <th>1-900 (1994)</th>\n",
       "      <td>3.0</td>\n",
       "    </tr>\n",
       "    <tr>\n",
       "      <th>101 Dalmatians (1996)</th>\n",
       "      <td>3.0</td>\n",
       "    </tr>\n",
       "    <tr>\n",
       "      <th>12 Angry Men (1957)</th>\n",
       "      <td>4.0</td>\n",
       "    </tr>\n",
       "    <tr>\n",
       "      <th>187 (1997)</th>\n",
       "      <td>3.0</td>\n",
       "    </tr>\n",
       "    <tr>\n",
       "      <th>...</th>\n",
       "      <td>...</td>\n",
       "    </tr>\n",
       "    <tr>\n",
       "      <th>Young Guns II (1990)</th>\n",
       "      <td>3.0</td>\n",
       "    </tr>\n",
       "    <tr>\n",
       "      <th>Young Poisoner's Handbook, The (1995)</th>\n",
       "      <td>3.0</td>\n",
       "    </tr>\n",
       "    <tr>\n",
       "      <th>Zeus and Roxanne (1997)</th>\n",
       "      <td>2.0</td>\n",
       "    </tr>\n",
       "    <tr>\n",
       "      <th>unknown</th>\n",
       "      <td>3.0</td>\n",
       "    </tr>\n",
       "    <tr>\n",
       "      <th>Á köldum klaka (Cold Fever) (1994)</th>\n",
       "      <td>3.0</td>\n",
       "    </tr>\n",
       "  </tbody>\n",
       "</table>\n",
       "<p>1664 rows × 1 columns</p>\n",
       "</div>"
      ],
      "text/plain": [
       "                                       rating\n",
       "movie title                                  \n",
       "'Til There Was You (1997)                 2.0\n",
       "1-900 (1994)                              3.0\n",
       "101 Dalmatians (1996)                     3.0\n",
       "12 Angry Men (1957)                       4.0\n",
       "187 (1997)                                3.0\n",
       "...                                       ...\n",
       "Young Guns II (1990)                      3.0\n",
       "Young Poisoner's Handbook, The (1995)     3.0\n",
       "Zeus and Roxanne (1997)                   2.0\n",
       "unknown                                   3.0\n",
       "Á köldum klaka (Cold Fever) (1994)        3.0\n",
       "\n",
       "[1664 rows x 1 columns]"
      ]
     },
     "execution_count": 50,
     "metadata": {},
     "output_type": "execute_result"
    }
   ],
   "source": [
    "# ortalama değeri bulmak \n",
    "meanrating= pd.DataFrame(titles.groupby('movie title')['rating'].mean())\n",
    "meanrating.round()"
   ]
  },
  {
   "cell_type": "code",
   "execution_count": 51,
   "metadata": {},
   "outputs": [
    {
     "data": {
      "text/html": [
       "<div>\n",
       "<style scoped>\n",
       "    .dataframe tbody tr th:only-of-type {\n",
       "        vertical-align: middle;\n",
       "    }\n",
       "\n",
       "    .dataframe tbody tr th {\n",
       "        vertical-align: top;\n",
       "    }\n",
       "\n",
       "    .dataframe thead th {\n",
       "        text-align: right;\n",
       "    }\n",
       "</style>\n",
       "<table border=\"1\" class=\"dataframe\">\n",
       "  <thead>\n",
       "    <tr style=\"text-align: right;\">\n",
       "      <th></th>\n",
       "      <th>rating</th>\n",
       "      <th>num of ratings</th>\n",
       "    </tr>\n",
       "    <tr>\n",
       "      <th>movie title</th>\n",
       "      <th></th>\n",
       "      <th></th>\n",
       "    </tr>\n",
       "  </thead>\n",
       "  <tbody>\n",
       "    <tr>\n",
       "      <th>'Til There Was You (1997)</th>\n",
       "      <td>2.0</td>\n",
       "      <td>9</td>\n",
       "    </tr>\n",
       "    <tr>\n",
       "      <th>1-900 (1994)</th>\n",
       "      <td>3.0</td>\n",
       "      <td>5</td>\n",
       "    </tr>\n",
       "    <tr>\n",
       "      <th>101 Dalmatians (1996)</th>\n",
       "      <td>3.0</td>\n",
       "      <td>109</td>\n",
       "    </tr>\n",
       "    <tr>\n",
       "      <th>12 Angry Men (1957)</th>\n",
       "      <td>4.0</td>\n",
       "      <td>125</td>\n",
       "    </tr>\n",
       "    <tr>\n",
       "      <th>187 (1997)</th>\n",
       "      <td>3.0</td>\n",
       "      <td>41</td>\n",
       "    </tr>\n",
       "    <tr>\n",
       "      <th>...</th>\n",
       "      <td>...</td>\n",
       "      <td>...</td>\n",
       "    </tr>\n",
       "    <tr>\n",
       "      <th>Young Guns II (1990)</th>\n",
       "      <td>3.0</td>\n",
       "      <td>44</td>\n",
       "    </tr>\n",
       "    <tr>\n",
       "      <th>Young Poisoner's Handbook, The (1995)</th>\n",
       "      <td>3.0</td>\n",
       "      <td>41</td>\n",
       "    </tr>\n",
       "    <tr>\n",
       "      <th>Zeus and Roxanne (1997)</th>\n",
       "      <td>2.0</td>\n",
       "      <td>6</td>\n",
       "    </tr>\n",
       "    <tr>\n",
       "      <th>unknown</th>\n",
       "      <td>3.0</td>\n",
       "      <td>9</td>\n",
       "    </tr>\n",
       "    <tr>\n",
       "      <th>Á köldum klaka (Cold Fever) (1994)</th>\n",
       "      <td>3.0</td>\n",
       "      <td>1</td>\n",
       "    </tr>\n",
       "  </tbody>\n",
       "</table>\n",
       "<p>1664 rows × 2 columns</p>\n",
       "</div>"
      ],
      "text/plain": [
       "                                       rating  num of ratings\n",
       "movie title                                                  \n",
       "'Til There Was You (1997)                 2.0               9\n",
       "1-900 (1994)                              3.0               5\n",
       "101 Dalmatians (1996)                     3.0             109\n",
       "12 Angry Men (1957)                       4.0             125\n",
       "187 (1997)                                3.0              41\n",
       "...                                       ...             ...\n",
       "Young Guns II (1990)                      3.0              44\n",
       "Young Poisoner's Handbook, The (1995)     3.0              41\n",
       "Zeus and Roxanne (1997)                   2.0               6\n",
       "unknown                                   3.0               9\n",
       "Á köldum klaka (Cold Fever) (1994)        3.0               1\n",
       "\n",
       "[1664 rows x 2 columns]"
      ]
     },
     "execution_count": 51,
     "metadata": {},
     "output_type": "execute_result"
    }
   ],
   "source": [
    "# tabloya count ekleme\n",
    "meanrating['num of ratings'] = pd.DataFrame(titles.groupby('movie title')['rating'].count())\n",
    "meanrating.round()"
   ]
  },
  {
   "cell_type": "code",
   "execution_count": 52,
   "metadata": {},
   "outputs": [],
   "source": [
    "# mean rating with genre \n",
    "def get(x):\n",
    "    moviegen = titles.iloc[:,x]==1\n",
    "    moviegen = titles.iloc[moviegen]\n",
    "    return moviegen"
   ]
  },
  {
   "cell_type": "code",
   "execution_count": 53,
   "metadata": {},
   "outputs": [
    {
     "name": "stdout",
     "output_type": "stream",
     "text": [
      "['unknown', 'Action', 'Adventure', 'Animation', \"Children's\", 'Comedy', 'Crime', 'Documentary', 'Drama', 'Fantasy', 'Film-Noir', 'Horror', 'Musical', 'Mystery', 'Romance', 'Sci-Fi', 'Thriller', 'War', 'Western']\n"
     ]
    }
   ],
   "source": [
    "#importing u.genre dataset \n",
    "genType = ['type','genreid']\n",
    "genre = pd.read_csv('ml-100k/u.genre',sep='|',names=genType)\n",
    "genre.drop(labels = 'genreid', axis = 1)\n",
    "gens = list(genre['type'].values)\n",
    "print(gens)"
   ]
  },
  {
   "cell_type": "code",
   "execution_count": 54,
   "metadata": {},
   "outputs": [
    {
     "data": {
      "text/plain": [
       "<matplotlib.axes._subplots.AxesSubplot at 0x27cab737788>"
      ]
     },
     "execution_count": 54,
     "metadata": {},
     "output_type": "execute_result"
    },
    {
     "data": {
      "image/png": "[encoded data removed]",
      "text/plain": [
       "<Figure size 720x288 with 1 Axes>"
      ]
     },
     "metadata": {
      "needs_background": "light"
     },
     "output_type": "display_data"
    }
   ],
   "source": [
    "plt.figure(figsize=(10,4))\n",
    "meanrating['rating'].hist(bins=70)"
   ]
  },
  {
   "cell_type": "code",
   "execution_count": 56,
   "metadata": {},
   "outputs": [
    {
     "data": {
      "text/html": [
       "<div>\n",
       "<style scoped>\n",
       "    .dataframe tbody tr th:only-of-type {\n",
       "        vertical-align: middle;\n",
       "    }\n",
       "\n",
       "    .dataframe tbody tr th {\n",
       "        vertical-align: top;\n",
       "    }\n",
       "\n",
       "    .dataframe thead th {\n",
       "        text-align: right;\n",
       "    }\n",
       "</style>\n",
       "<table border=\"1\" class=\"dataframe\">\n",
       "  <thead>\n",
       "    <tr style=\"text-align: right;\">\n",
       "      <th></th>\n",
       "      <th>movieid</th>\n",
       "      <th>rating</th>\n",
       "    </tr>\n",
       "    <tr>\n",
       "      <th>userid</th>\n",
       "      <th></th>\n",
       "      <th></th>\n",
       "    </tr>\n",
       "  </thead>\n",
       "  <tbody>\n",
       "    <tr>\n",
       "      <th>196</th>\n",
       "      <td>242</td>\n",
       "      <td>3</td>\n",
       "    </tr>\n",
       "    <tr>\n",
       "      <th>186</th>\n",
       "      <td>302</td>\n",
       "      <td>3</td>\n",
       "    </tr>\n",
       "    <tr>\n",
       "      <th>22</th>\n",
       "      <td>377</td>\n",
       "      <td>1</td>\n",
       "    </tr>\n",
       "    <tr>\n",
       "      <th>244</th>\n",
       "      <td>51</td>\n",
       "      <td>2</td>\n",
       "    </tr>\n",
       "    <tr>\n",
       "      <th>166</th>\n",
       "      <td>346</td>\n",
       "      <td>1</td>\n",
       "    </tr>\n",
       "  </tbody>\n",
       "</table>\n",
       "</div>"
      ],
      "text/plain": [
       "        movieid  rating\n",
       "userid                 \n",
       "196         242       3\n",
       "186         302       3\n",
       "22          377       1\n",
       "244          51       2\n",
       "166         346       1"
      ]
     },
     "execution_count": 56,
     "metadata": {},
     "output_type": "execute_result"
    }
   ],
   "source": [
    "columns = ['userid', 'movieid', 'rating', 'timestamp']\n",
    "df = pd.read_csv('ml-100k/u.data', sep='\\t',names= columns,index_col=0 )\n",
    "newdf = df.drop(columns=['timestamp'])\n",
    "newdf.head()"
   ]
  },
  {
   "cell_type": "code",
   "execution_count": 57,
   "metadata": {},
   "outputs": [
    {
     "data": {
      "text/html": [
       "<div>\n",
       "<style scoped>\n",
       "    .dataframe tbody tr th:only-of-type {\n",
       "        vertical-align: middle;\n",
       "    }\n",
       "\n",
       "    .dataframe tbody tr th {\n",
       "        vertical-align: top;\n",
       "    }\n",
       "\n",
       "    .dataframe thead th {\n",
       "        text-align: right;\n",
       "    }\n",
       "</style>\n",
       "<table border=\"1\" class=\"dataframe\">\n",
       "  <thead>\n",
       "    <tr style=\"text-align: right;\">\n",
       "      <th>movieid</th>\n",
       "      <th>1</th>\n",
       "      <th>2</th>\n",
       "      <th>3</th>\n",
       "      <th>4</th>\n",
       "      <th>5</th>\n",
       "      <th>6</th>\n",
       "      <th>7</th>\n",
       "      <th>8</th>\n",
       "      <th>9</th>\n",
       "      <th>10</th>\n",
       "      <th>...</th>\n",
       "      <th>1673</th>\n",
       "      <th>1674</th>\n",
       "      <th>1675</th>\n",
       "      <th>1676</th>\n",
       "      <th>1677</th>\n",
       "      <th>1678</th>\n",
       "      <th>1679</th>\n",
       "      <th>1680</th>\n",
       "      <th>1681</th>\n",
       "      <th>1682</th>\n",
       "    </tr>\n",
       "    <tr>\n",
       "      <th>userid</th>\n",
       "      <th></th>\n",
       "      <th></th>\n",
       "      <th></th>\n",
       "      <th></th>\n",
       "      <th></th>\n",
       "      <th></th>\n",
       "      <th></th>\n",
       "      <th></th>\n",
       "      <th></th>\n",
       "      <th></th>\n",
       "      <th></th>\n",
       "      <th></th>\n",
       "      <th></th>\n",
       "      <th></th>\n",
       "      <th></th>\n",
       "      <th></th>\n",
       "      <th></th>\n",
       "      <th></th>\n",
       "      <th></th>\n",
       "      <th></th>\n",
       "      <th></th>\n",
       "    </tr>\n",
       "  </thead>\n",
       "  <tbody>\n",
       "    <tr>\n",
       "      <th>1</th>\n",
       "      <td>5.0</td>\n",
       "      <td>3.0</td>\n",
       "      <td>4.0</td>\n",
       "      <td>3.0</td>\n",
       "      <td>3.0</td>\n",
       "      <td>5.0</td>\n",
       "      <td>4.0</td>\n",
       "      <td>1.0</td>\n",
       "      <td>5.0</td>\n",
       "      <td>3.0</td>\n",
       "      <td>...</td>\n",
       "      <td>NaN</td>\n",
       "      <td>NaN</td>\n",
       "      <td>NaN</td>\n",
       "      <td>NaN</td>\n",
       "      <td>NaN</td>\n",
       "      <td>NaN</td>\n",
       "      <td>NaN</td>\n",
       "      <td>NaN</td>\n",
       "      <td>NaN</td>\n",
       "      <td>NaN</td>\n",
       "    </tr>\n",
       "    <tr>\n",
       "      <th>2</th>\n",
       "      <td>4.0</td>\n",
       "      <td>NaN</td>\n",
       "      <td>NaN</td>\n",
       "      <td>NaN</td>\n",
       "      <td>NaN</td>\n",
       "      <td>NaN</td>\n",
       "      <td>NaN</td>\n",
       "      <td>NaN</td>\n",
       "      <td>NaN</td>\n",
       "      <td>2.0</td>\n",
       "      <td>...</td>\n",
       "      <td>NaN</td>\n",
       "      <td>NaN</td>\n",
       "      <td>NaN</td>\n",
       "      <td>NaN</td>\n",
       "      <td>NaN</td>\n",
       "      <td>NaN</td>\n",
       "      <td>NaN</td>\n",
       "      <td>NaN</td>\n",
       "      <td>NaN</td>\n",
       "      <td>NaN</td>\n",
       "    </tr>\n",
       "    <tr>\n",
       "      <th>3</th>\n",
       "      <td>NaN</td>\n",
       "      <td>NaN</td>\n",
       "      <td>NaN</td>\n",
       "      <td>NaN</td>\n",
       "      <td>NaN</td>\n",
       "      <td>NaN</td>\n",
       "      <td>NaN</td>\n",
       "      <td>NaN</td>\n",
       "      <td>NaN</td>\n",
       "      <td>NaN</td>\n",
       "      <td>...</td>\n",
       "      <td>NaN</td>\n",
       "      <td>NaN</td>\n",
       "      <td>NaN</td>\n",
       "      <td>NaN</td>\n",
       "      <td>NaN</td>\n",
       "      <td>NaN</td>\n",
       "      <td>NaN</td>\n",
       "      <td>NaN</td>\n",
       "      <td>NaN</td>\n",
       "      <td>NaN</td>\n",
       "    </tr>\n",
       "    <tr>\n",
       "      <th>4</th>\n",
       "      <td>NaN</td>\n",
       "      <td>NaN</td>\n",
       "      <td>NaN</td>\n",
       "      <td>NaN</td>\n",
       "      <td>NaN</td>\n",
       "      <td>NaN</td>\n",
       "      <td>NaN</td>\n",
       "      <td>NaN</td>\n",
       "      <td>NaN</td>\n",
       "      <td>NaN</td>\n",
       "      <td>...</td>\n",
       "      <td>NaN</td>\n",
       "      <td>NaN</td>\n",
       "      <td>NaN</td>\n",
       "      <td>NaN</td>\n",
       "      <td>NaN</td>\n",
       "      <td>NaN</td>\n",
       "      <td>NaN</td>\n",
       "      <td>NaN</td>\n",
       "      <td>NaN</td>\n",
       "      <td>NaN</td>\n",
       "    </tr>\n",
       "    <tr>\n",
       "      <th>5</th>\n",
       "      <td>4.0</td>\n",
       "      <td>3.0</td>\n",
       "      <td>NaN</td>\n",
       "      <td>NaN</td>\n",
       "      <td>NaN</td>\n",
       "      <td>NaN</td>\n",
       "      <td>NaN</td>\n",
       "      <td>NaN</td>\n",
       "      <td>NaN</td>\n",
       "      <td>NaN</td>\n",
       "      <td>...</td>\n",
       "      <td>NaN</td>\n",
       "      <td>NaN</td>\n",
       "      <td>NaN</td>\n",
       "      <td>NaN</td>\n",
       "      <td>NaN</td>\n",
       "      <td>NaN</td>\n",
       "      <td>NaN</td>\n",
       "      <td>NaN</td>\n",
       "      <td>NaN</td>\n",
       "      <td>NaN</td>\n",
       "    </tr>\n",
       "    <tr>\n",
       "      <th>6</th>\n",
       "      <td>4.0</td>\n",
       "      <td>NaN</td>\n",
       "      <td>NaN</td>\n",
       "      <td>NaN</td>\n",
       "      <td>NaN</td>\n",
       "      <td>NaN</td>\n",
       "      <td>2.0</td>\n",
       "      <td>4.0</td>\n",
       "      <td>4.0</td>\n",
       "      <td>NaN</td>\n",
       "      <td>...</td>\n",
       "      <td>NaN</td>\n",
       "      <td>NaN</td>\n",
       "      <td>NaN</td>\n",
       "      <td>NaN</td>\n",
       "      <td>NaN</td>\n",
       "      <td>NaN</td>\n",
       "      <td>NaN</td>\n",
       "      <td>NaN</td>\n",
       "      <td>NaN</td>\n",
       "      <td>NaN</td>\n",
       "    </tr>\n",
       "    <tr>\n",
       "      <th>7</th>\n",
       "      <td>NaN</td>\n",
       "      <td>NaN</td>\n",
       "      <td>NaN</td>\n",
       "      <td>5.0</td>\n",
       "      <td>NaN</td>\n",
       "      <td>NaN</td>\n",
       "      <td>5.0</td>\n",
       "      <td>5.0</td>\n",
       "      <td>5.0</td>\n",
       "      <td>4.0</td>\n",
       "      <td>...</td>\n",
       "      <td>NaN</td>\n",
       "      <td>NaN</td>\n",
       "      <td>NaN</td>\n",
       "      <td>NaN</td>\n",
       "      <td>NaN</td>\n",
       "      <td>NaN</td>\n",
       "      <td>NaN</td>\n",
       "      <td>NaN</td>\n",
       "      <td>NaN</td>\n",
       "      <td>NaN</td>\n",
       "    </tr>\n",
       "    <tr>\n",
       "      <th>8</th>\n",
       "      <td>NaN</td>\n",
       "      <td>NaN</td>\n",
       "      <td>NaN</td>\n",
       "      <td>NaN</td>\n",
       "      <td>NaN</td>\n",
       "      <td>NaN</td>\n",
       "      <td>3.0</td>\n",
       "      <td>NaN</td>\n",
       "      <td>NaN</td>\n",
       "      <td>NaN</td>\n",
       "      <td>...</td>\n",
       "      <td>NaN</td>\n",
       "      <td>NaN</td>\n",
       "      <td>NaN</td>\n",
       "      <td>NaN</td>\n",
       "      <td>NaN</td>\n",
       "      <td>NaN</td>\n",
       "      <td>NaN</td>\n",
       "      <td>NaN</td>\n",
       "      <td>NaN</td>\n",
       "      <td>NaN</td>\n",
       "    </tr>\n",
       "    <tr>\n",
       "      <th>9</th>\n",
       "      <td>NaN</td>\n",
       "      <td>NaN</td>\n",
       "      <td>NaN</td>\n",
       "      <td>NaN</td>\n",
       "      <td>NaN</td>\n",
       "      <td>5.0</td>\n",
       "      <td>4.0</td>\n",
       "      <td>NaN</td>\n",
       "      <td>NaN</td>\n",
       "      <td>NaN</td>\n",
       "      <td>...</td>\n",
       "      <td>NaN</td>\n",
       "      <td>NaN</td>\n",
       "      <td>NaN</td>\n",
       "      <td>NaN</td>\n",
       "      <td>NaN</td>\n",
       "      <td>NaN</td>\n",
       "      <td>NaN</td>\n",
       "      <td>NaN</td>\n",
       "      <td>NaN</td>\n",
       "      <td>NaN</td>\n",
       "    </tr>\n",
       "    <tr>\n",
       "      <th>10</th>\n",
       "      <td>4.0</td>\n",
       "      <td>NaN</td>\n",
       "      <td>NaN</td>\n",
       "      <td>4.0</td>\n",
       "      <td>NaN</td>\n",
       "      <td>NaN</td>\n",
       "      <td>4.0</td>\n",
       "      <td>NaN</td>\n",
       "      <td>4.0</td>\n",
       "      <td>NaN</td>\n",
       "      <td>...</td>\n",
       "      <td>NaN</td>\n",
       "      <td>NaN</td>\n",
       "      <td>NaN</td>\n",
       "      <td>NaN</td>\n",
       "      <td>NaN</td>\n",
       "      <td>NaN</td>\n",
       "      <td>NaN</td>\n",
       "      <td>NaN</td>\n",
       "      <td>NaN</td>\n",
       "      <td>NaN</td>\n",
       "    </tr>\n",
       "  </tbody>\n",
       "</table>\n",
       "<p>10 rows × 1682 columns</p>\n",
       "</div>"
      ],
      "text/plain": [
       "movieid  1     2     3     4     5     6     7     8     9     10    ...  \\\n",
       "userid                                                               ...   \n",
       "1         5.0   3.0   4.0   3.0   3.0   5.0   4.0   1.0   5.0   3.0  ...   \n",
       "2         4.0   NaN   NaN   NaN   NaN   NaN   NaN   NaN   NaN   2.0  ...   \n",
       "3         NaN   NaN   NaN   NaN   NaN   NaN   NaN   NaN   NaN   NaN  ...   \n",
       "4         NaN   NaN   NaN   NaN   NaN   NaN   NaN   NaN   NaN   NaN  ...   \n",
       "5         4.0   3.0   NaN   NaN   NaN   NaN   NaN   NaN   NaN   NaN  ...   \n",
       "6         4.0   NaN   NaN   NaN   NaN   NaN   2.0   4.0   4.0   NaN  ...   \n",
       "7         NaN   NaN   NaN   5.0   NaN   NaN   5.0   5.0   5.0   4.0  ...   \n",
       "8         NaN   NaN   NaN   NaN   NaN   NaN   3.0   NaN   NaN   NaN  ...   \n",
       "9         NaN   NaN   NaN   NaN   NaN   5.0   4.0   NaN   NaN   NaN  ...   \n",
       "10        4.0   NaN   NaN   4.0   NaN   NaN   4.0   NaN   4.0   NaN  ...   \n",
       "\n",
       "movieid  1673  1674  1675  1676  1677  1678  1679  1680  1681  1682  \n",
       "userid                                                               \n",
       "1         NaN   NaN   NaN   NaN   NaN   NaN   NaN   NaN   NaN   NaN  \n",
       "2         NaN   NaN   NaN   NaN   NaN   NaN   NaN   NaN   NaN   NaN  \n",
       "3         NaN   NaN   NaN   NaN   NaN   NaN   NaN   NaN   NaN   NaN  \n",
       "4         NaN   NaN   NaN   NaN   NaN   NaN   NaN   NaN   NaN   NaN  \n",
       "5         NaN   NaN   NaN   NaN   NaN   NaN   NaN   NaN   NaN   NaN  \n",
       "6         NaN   NaN   NaN   NaN   NaN   NaN   NaN   NaN   NaN   NaN  \n",
       "7         NaN   NaN   NaN   NaN   NaN   NaN   NaN   NaN   NaN   NaN  \n",
       "8         NaN   NaN   NaN   NaN   NaN   NaN   NaN   NaN   NaN   NaN  \n",
       "9         NaN   NaN   NaN   NaN   NaN   NaN   NaN   NaN   NaN   NaN  \n",
       "10        NaN   NaN   NaN   NaN   NaN   NaN   NaN   NaN   NaN   NaN  \n",
       "\n",
       "[10 rows x 1682 columns]"
      ]
     },
     "execution_count": 57,
     "metadata": {},
     "output_type": "execute_result"
    }
   ],
   "source": [
    "#Creating a new dataframe with the movie title and the rating from each user.\n",
    "moviemat = titles.pivot_table(index='userid', columns ='movieid', values='rating')\n",
    "moviemat.head(10)"
   ]
  },
  {
   "cell_type": "code",
   "execution_count": 58,
   "metadata": {},
   "outputs": [
    {
     "data": {
      "text/plain": [
       "(943, 1682)"
      ]
     },
     "execution_count": 58,
     "metadata": {},
     "output_type": "execute_result"
    }
   ],
   "source": [
    "moviemat.shape"
   ]
  },
  {
   "cell_type": "code",
   "execution_count": 59,
   "metadata": {},
   "outputs": [],
   "source": [
    "#Replacing the missing values with the mean of the movie\n",
    "newMatrix = moviemat.fillna(moviemat.mean()).round(2)"
   ]
  },
  {
   "cell_type": "code",
   "execution_count": 60,
   "metadata": {},
   "outputs": [
    {
     "data": {
      "text/html": [
       "<div>\n",
       "<style scoped>\n",
       "    .dataframe tbody tr th:only-of-type {\n",
       "        vertical-align: middle;\n",
       "    }\n",
       "\n",
       "    .dataframe tbody tr th {\n",
       "        vertical-align: top;\n",
       "    }\n",
       "\n",
       "    .dataframe thead th {\n",
       "        text-align: right;\n",
       "    }\n",
       "</style>\n",
       "<table border=\"1\" class=\"dataframe\">\n",
       "  <thead>\n",
       "    <tr style=\"text-align: right;\">\n",
       "      <th>movieid</th>\n",
       "      <th>1</th>\n",
       "      <th>2</th>\n",
       "      <th>3</th>\n",
       "      <th>4</th>\n",
       "      <th>5</th>\n",
       "      <th>6</th>\n",
       "      <th>7</th>\n",
       "      <th>8</th>\n",
       "      <th>9</th>\n",
       "      <th>10</th>\n",
       "      <th>...</th>\n",
       "      <th>1673</th>\n",
       "      <th>1674</th>\n",
       "      <th>1675</th>\n",
       "      <th>1676</th>\n",
       "      <th>1677</th>\n",
       "      <th>1678</th>\n",
       "      <th>1679</th>\n",
       "      <th>1680</th>\n",
       "      <th>1681</th>\n",
       "      <th>1682</th>\n",
       "    </tr>\n",
       "    <tr>\n",
       "      <th>userid</th>\n",
       "      <th></th>\n",
       "      <th></th>\n",
       "      <th></th>\n",
       "      <th></th>\n",
       "      <th></th>\n",
       "      <th></th>\n",
       "      <th></th>\n",
       "      <th></th>\n",
       "      <th></th>\n",
       "      <th></th>\n",
       "      <th></th>\n",
       "      <th></th>\n",
       "      <th></th>\n",
       "      <th></th>\n",
       "      <th></th>\n",
       "      <th></th>\n",
       "      <th></th>\n",
       "      <th></th>\n",
       "      <th></th>\n",
       "      <th></th>\n",
       "      <th></th>\n",
       "    </tr>\n",
       "  </thead>\n",
       "  <tbody>\n",
       "    <tr>\n",
       "      <th>1</th>\n",
       "      <td>5.00</td>\n",
       "      <td>3.00</td>\n",
       "      <td>4.00</td>\n",
       "      <td>3.00</td>\n",
       "      <td>3.0</td>\n",
       "      <td>5.00</td>\n",
       "      <td>4.0</td>\n",
       "      <td>1.0</td>\n",
       "      <td>5.0</td>\n",
       "      <td>3.00</td>\n",
       "      <td>...</td>\n",
       "      <td>3.0</td>\n",
       "      <td>4.0</td>\n",
       "      <td>3.0</td>\n",
       "      <td>2.0</td>\n",
       "      <td>3.0</td>\n",
       "      <td>1.0</td>\n",
       "      <td>3.0</td>\n",
       "      <td>2.0</td>\n",
       "      <td>3.0</td>\n",
       "      <td>3.0</td>\n",
       "    </tr>\n",
       "    <tr>\n",
       "      <th>2</th>\n",
       "      <td>4.00</td>\n",
       "      <td>3.21</td>\n",
       "      <td>3.03</td>\n",
       "      <td>3.55</td>\n",
       "      <td>3.3</td>\n",
       "      <td>3.58</td>\n",
       "      <td>3.8</td>\n",
       "      <td>4.0</td>\n",
       "      <td>3.9</td>\n",
       "      <td>2.00</td>\n",
       "      <td>...</td>\n",
       "      <td>3.0</td>\n",
       "      <td>4.0</td>\n",
       "      <td>3.0</td>\n",
       "      <td>2.0</td>\n",
       "      <td>3.0</td>\n",
       "      <td>1.0</td>\n",
       "      <td>3.0</td>\n",
       "      <td>2.0</td>\n",
       "      <td>3.0</td>\n",
       "      <td>3.0</td>\n",
       "    </tr>\n",
       "    <tr>\n",
       "      <th>3</th>\n",
       "      <td>3.88</td>\n",
       "      <td>3.21</td>\n",
       "      <td>3.03</td>\n",
       "      <td>3.55</td>\n",
       "      <td>3.3</td>\n",
       "      <td>3.58</td>\n",
       "      <td>3.8</td>\n",
       "      <td>4.0</td>\n",
       "      <td>3.9</td>\n",
       "      <td>3.83</td>\n",
       "      <td>...</td>\n",
       "      <td>3.0</td>\n",
       "      <td>4.0</td>\n",
       "      <td>3.0</td>\n",
       "      <td>2.0</td>\n",
       "      <td>3.0</td>\n",
       "      <td>1.0</td>\n",
       "      <td>3.0</td>\n",
       "      <td>2.0</td>\n",
       "      <td>3.0</td>\n",
       "      <td>3.0</td>\n",
       "    </tr>\n",
       "    <tr>\n",
       "      <th>4</th>\n",
       "      <td>3.88</td>\n",
       "      <td>3.21</td>\n",
       "      <td>3.03</td>\n",
       "      <td>3.55</td>\n",
       "      <td>3.3</td>\n",
       "      <td>3.58</td>\n",
       "      <td>3.8</td>\n",
       "      <td>4.0</td>\n",
       "      <td>3.9</td>\n",
       "      <td>3.83</td>\n",
       "      <td>...</td>\n",
       "      <td>3.0</td>\n",
       "      <td>4.0</td>\n",
       "      <td>3.0</td>\n",
       "      <td>2.0</td>\n",
       "      <td>3.0</td>\n",
       "      <td>1.0</td>\n",
       "      <td>3.0</td>\n",
       "      <td>2.0</td>\n",
       "      <td>3.0</td>\n",
       "      <td>3.0</td>\n",
       "    </tr>\n",
       "    <tr>\n",
       "      <th>5</th>\n",
       "      <td>4.00</td>\n",
       "      <td>3.00</td>\n",
       "      <td>3.03</td>\n",
       "      <td>3.55</td>\n",
       "      <td>3.3</td>\n",
       "      <td>3.58</td>\n",
       "      <td>3.8</td>\n",
       "      <td>4.0</td>\n",
       "      <td>3.9</td>\n",
       "      <td>3.83</td>\n",
       "      <td>...</td>\n",
       "      <td>3.0</td>\n",
       "      <td>4.0</td>\n",
       "      <td>3.0</td>\n",
       "      <td>2.0</td>\n",
       "      <td>3.0</td>\n",
       "      <td>1.0</td>\n",
       "      <td>3.0</td>\n",
       "      <td>2.0</td>\n",
       "      <td>3.0</td>\n",
       "      <td>3.0</td>\n",
       "    </tr>\n",
       "    <tr>\n",
       "      <th>6</th>\n",
       "      <td>4.00</td>\n",
       "      <td>3.21</td>\n",
       "      <td>3.03</td>\n",
       "      <td>3.55</td>\n",
       "      <td>3.3</td>\n",
       "      <td>3.58</td>\n",
       "      <td>2.0</td>\n",
       "      <td>4.0</td>\n",
       "      <td>4.0</td>\n",
       "      <td>3.83</td>\n",
       "      <td>...</td>\n",
       "      <td>3.0</td>\n",
       "      <td>4.0</td>\n",
       "      <td>3.0</td>\n",
       "      <td>2.0</td>\n",
       "      <td>3.0</td>\n",
       "      <td>1.0</td>\n",
       "      <td>3.0</td>\n",
       "      <td>2.0</td>\n",
       "      <td>3.0</td>\n",
       "      <td>3.0</td>\n",
       "    </tr>\n",
       "    <tr>\n",
       "      <th>7</th>\n",
       "      <td>3.88</td>\n",
       "      <td>3.21</td>\n",
       "      <td>3.03</td>\n",
       "      <td>5.00</td>\n",
       "      <td>3.3</td>\n",
       "      <td>3.58</td>\n",
       "      <td>5.0</td>\n",
       "      <td>5.0</td>\n",
       "      <td>5.0</td>\n",
       "      <td>4.00</td>\n",
       "      <td>...</td>\n",
       "      <td>3.0</td>\n",
       "      <td>4.0</td>\n",
       "      <td>3.0</td>\n",
       "      <td>2.0</td>\n",
       "      <td>3.0</td>\n",
       "      <td>1.0</td>\n",
       "      <td>3.0</td>\n",
       "      <td>2.0</td>\n",
       "      <td>3.0</td>\n",
       "      <td>3.0</td>\n",
       "    </tr>\n",
       "    <tr>\n",
       "      <th>8</th>\n",
       "      <td>3.88</td>\n",
       "      <td>3.21</td>\n",
       "      <td>3.03</td>\n",
       "      <td>3.55</td>\n",
       "      <td>3.3</td>\n",
       "      <td>3.58</td>\n",
       "      <td>3.0</td>\n",
       "      <td>4.0</td>\n",
       "      <td>3.9</td>\n",
       "      <td>3.83</td>\n",
       "      <td>...</td>\n",
       "      <td>3.0</td>\n",
       "      <td>4.0</td>\n",
       "      <td>3.0</td>\n",
       "      <td>2.0</td>\n",
       "      <td>3.0</td>\n",
       "      <td>1.0</td>\n",
       "      <td>3.0</td>\n",
       "      <td>2.0</td>\n",
       "      <td>3.0</td>\n",
       "      <td>3.0</td>\n",
       "    </tr>\n",
       "    <tr>\n",
       "      <th>9</th>\n",
       "      <td>3.88</td>\n",
       "      <td>3.21</td>\n",
       "      <td>3.03</td>\n",
       "      <td>3.55</td>\n",
       "      <td>3.3</td>\n",
       "      <td>5.00</td>\n",
       "      <td>4.0</td>\n",
       "      <td>4.0</td>\n",
       "      <td>3.9</td>\n",
       "      <td>3.83</td>\n",
       "      <td>...</td>\n",
       "      <td>3.0</td>\n",
       "      <td>4.0</td>\n",
       "      <td>3.0</td>\n",
       "      <td>2.0</td>\n",
       "      <td>3.0</td>\n",
       "      <td>1.0</td>\n",
       "      <td>3.0</td>\n",
       "      <td>2.0</td>\n",
       "      <td>3.0</td>\n",
       "      <td>3.0</td>\n",
       "    </tr>\n",
       "    <tr>\n",
       "      <th>10</th>\n",
       "      <td>4.00</td>\n",
       "      <td>3.21</td>\n",
       "      <td>3.03</td>\n",
       "      <td>4.00</td>\n",
       "      <td>3.3</td>\n",
       "      <td>3.58</td>\n",
       "      <td>4.0</td>\n",
       "      <td>4.0</td>\n",
       "      <td>4.0</td>\n",
       "      <td>3.83</td>\n",
       "      <td>...</td>\n",
       "      <td>3.0</td>\n",
       "      <td>4.0</td>\n",
       "      <td>3.0</td>\n",
       "      <td>2.0</td>\n",
       "      <td>3.0</td>\n",
       "      <td>1.0</td>\n",
       "      <td>3.0</td>\n",
       "      <td>2.0</td>\n",
       "      <td>3.0</td>\n",
       "      <td>3.0</td>\n",
       "    </tr>\n",
       "  </tbody>\n",
       "</table>\n",
       "<p>10 rows × 1682 columns</p>\n",
       "</div>"
      ],
      "text/plain": [
       "movieid  1     2     3     4     5     6     7     8     9     10    ...  \\\n",
       "userid                                                               ...   \n",
       "1        5.00  3.00  4.00  3.00   3.0  5.00   4.0   1.0   5.0  3.00  ...   \n",
       "2        4.00  3.21  3.03  3.55   3.3  3.58   3.8   4.0   3.9  2.00  ...   \n",
       "3        3.88  3.21  3.03  3.55   3.3  3.58   3.8   4.0   3.9  3.83  ...   \n",
       "4        3.88  3.21  3.03  3.55   3.3  3.58   3.8   4.0   3.9  3.83  ...   \n",
       "5        4.00  3.00  3.03  3.55   3.3  3.58   3.8   4.0   3.9  3.83  ...   \n",
       "6        4.00  3.21  3.03  3.55   3.3  3.58   2.0   4.0   4.0  3.83  ...   \n",
       "7        3.88  3.21  3.03  5.00   3.3  3.58   5.0   5.0   5.0  4.00  ...   \n",
       "8        3.88  3.21  3.03  3.55   3.3  3.58   3.0   4.0   3.9  3.83  ...   \n",
       "9        3.88  3.21  3.03  3.55   3.3  5.00   4.0   4.0   3.9  3.83  ...   \n",
       "10       4.00  3.21  3.03  4.00   3.3  3.58   4.0   4.0   4.0  3.83  ...   \n",
       "\n",
       "movieid  1673  1674  1675  1676  1677  1678  1679  1680  1681  1682  \n",
       "userid                                                               \n",
       "1         3.0   4.0   3.0   2.0   3.0   1.0   3.0   2.0   3.0   3.0  \n",
       "2         3.0   4.0   3.0   2.0   3.0   1.0   3.0   2.0   3.0   3.0  \n",
       "3         3.0   4.0   3.0   2.0   3.0   1.0   3.0   2.0   3.0   3.0  \n",
       "4         3.0   4.0   3.0   2.0   3.0   1.0   3.0   2.0   3.0   3.0  \n",
       "5         3.0   4.0   3.0   2.0   3.0   1.0   3.0   2.0   3.0   3.0  \n",
       "6         3.0   4.0   3.0   2.0   3.0   1.0   3.0   2.0   3.0   3.0  \n",
       "7         3.0   4.0   3.0   2.0   3.0   1.0   3.0   2.0   3.0   3.0  \n",
       "8         3.0   4.0   3.0   2.0   3.0   1.0   3.0   2.0   3.0   3.0  \n",
       "9         3.0   4.0   3.0   2.0   3.0   1.0   3.0   2.0   3.0   3.0  \n",
       "10        3.0   4.0   3.0   2.0   3.0   1.0   3.0   2.0   3.0   3.0  \n",
       "\n",
       "[10 rows x 1682 columns]"
      ]
     },
     "execution_count": 60,
     "metadata": {},
     "output_type": "execute_result"
    }
   ],
   "source": [
    "newMatrix.head(10)"
   ]
  },
  {
   "cell_type": "code",
   "execution_count": 61,
   "metadata": {},
   "outputs": [
    {
     "name": "stdout",
     "output_type": "stream",
     "text": [
      "   userid  movieid  rating  timestamp\n",
      "0       1        1       5  874965758\n",
      "1       1        2       3  876893171\n",
      "2       1        3       4  878542960\n",
      "3       1        4       3  876893119\n",
      "4       1        5       3  889751712\n"
     ]
    }
   ],
   "source": [
    "features = ['userid','movieid','rating','timestamp']\n",
    "traindataset = pd.read_csv('ml-100k/u1.base', sep ='\\t', names=features)\n",
    "print(traindataset.head())"
   ]
  },
  {
   "cell_type": "code",
   "execution_count": 62,
   "metadata": {},
   "outputs": [
    {
     "data": {
      "text/plain": [
       "userid       0\n",
       "movieid      0\n",
       "rating       0\n",
       "timestamp    0\n",
       "dtype: int64"
      ]
     },
     "execution_count": 62,
     "metadata": {},
     "output_type": "execute_result"
    }
   ],
   "source": [
    "traindataset.isnull().sum()"
   ]
  },
  {
   "cell_type": "code",
   "execution_count": 63,
   "metadata": {},
   "outputs": [
    {
     "data": {
      "text/plain": [
       "userid             42013256\n",
       "movieid            34056416\n",
       "rating               282268\n",
       "timestamp    70685157472259\n",
       "dtype: int64"
      ]
     },
     "execution_count": 63,
     "metadata": {},
     "output_type": "execute_result"
    }
   ],
   "source": [
    "traindataset.sum()"
   ]
  },
  {
   "cell_type": "code",
   "execution_count": 64,
   "metadata": {},
   "outputs": [
    {
     "data": {
      "text/plain": [
       "(80000, 4)"
      ]
     },
     "execution_count": 64,
     "metadata": {},
     "output_type": "execute_result"
    }
   ],
   "source": [
    "traindataset.shape"
   ]
  },
  {
   "cell_type": "code",
   "execution_count": 65,
   "metadata": {},
   "outputs": [
    {
     "name": "stdout",
     "output_type": "stream",
     "text": [
      "   userid  movieid  rating  timestamp\n",
      "0       1        6       5  887431973\n",
      "1       1       10       3  875693118\n",
      "2       1       12       5  878542960\n",
      "3       1       14       5  874965706\n",
      "4       1       17       3  875073198\n"
     ]
    }
   ],
   "source": [
    "features = ['userid','movieid','rating','timestamp']\n",
    "testdataset = pd.read_csv('ml-100k/u1.test', sep ='\\t', names=features)\n",
    "print(testdataset.head())"
   ]
  },
  {
   "cell_type": "code",
   "execution_count": 66,
   "metadata": {},
   "outputs": [
    {
     "data": {
      "text/plain": [
       "userid       0\n",
       "movieid      0\n",
       "rating       0\n",
       "timestamp    0\n",
       "dtype: int64"
      ]
     },
     "execution_count": 66,
     "metadata": {},
     "output_type": "execute_result"
    }
   ],
   "source": [
    "testdataset.isnull().sum()"
   ]
  },
  {
   "cell_type": "code",
   "execution_count": 67,
   "metadata": {},
   "outputs": [
    {
     "data": {
      "text/plain": [
       "userid              4235219\n",
       "movieid             8496597\n",
       "rating                70718\n",
       "timestamp    17667727676603\n",
       "dtype: int64"
      ]
     },
     "execution_count": 67,
     "metadata": {},
     "output_type": "execute_result"
    }
   ],
   "source": [
    "testdataset.sum()"
   ]
  },
  {
   "cell_type": "code",
   "execution_count": 68,
   "metadata": {},
   "outputs": [
    {
     "data": {
      "text/plain": [
       "(20000, 4)"
      ]
     },
     "execution_count": 68,
     "metadata": {},
     "output_type": "execute_result"
    }
   ],
   "source": [
    "testdataset.shape"
   ]
  },
  {
   "cell_type": "code",
   "execution_count": 69,
   "metadata": {},
   "outputs": [],
   "source": [
    "#spliting datasets\n",
    "X = traindataset.iloc[:,0:2]\n",
    "y = traindataset.iloc[:,2]\n",
    "X_train, X_test, y_train, y_test = train_test_split(X, y, random_state=0, test_size = 0.2)"
   ]
  },
  {
   "cell_type": "code",
   "execution_count": 70,
   "metadata": {},
   "outputs": [],
   "source": [
    "#Feature Scaling \n",
    "sc_X = StandardScaler()\n",
    "X_train = sc_X.fit_transform(X_train)\n",
    "X_test = sc_X.transform(X_test)"
   ]
  },
  {
   "cell_type": "code",
   "execution_count": 71,
   "metadata": {},
   "outputs": [
    {
     "data": {
      "text/plain": [
       "126.49110640673517"
      ]
     },
     "execution_count": 71,
     "metadata": {},
     "output_type": "execute_result"
    }
   ],
   "source": [
    "math.sqrt(len(y_test))"
   ]
  },
  {
   "cell_type": "code",
   "execution_count": 73,
   "metadata": {},
   "outputs": [],
   "source": [
    "#Defining the model\n",
    "classifier = KNeighborsClassifier(n_neighbors=125, p=2, metric='cosine')"
   ]
  },
  {
   "cell_type": "code",
   "execution_count": 74,
   "metadata": {},
   "outputs": [
    {
     "data": {
      "text/plain": [
       "KNeighborsClassifier(metric='cosine', n_neighbors=125)"
      ]
     },
     "execution_count": 74,
     "metadata": {},
     "output_type": "execute_result"
    }
   ],
   "source": [
    "#fiting the model\n",
    "classifier.fit(X_train, y_train)"
   ]
  },
  {
   "cell_type": "code",
   "execution_count": 75,
   "metadata": {},
   "outputs": [],
   "source": [
    "#predicting the test set results\n",
    "y_pred = classifier.predict(X_test)"
   ]
  },
  {
   "cell_type": "code",
   "execution_count": 76,
   "metadata": {},
   "outputs": [
    {
     "data": {
      "text/plain": [
       "array([3, 4, 3, ..., 3, 3, 4], dtype=int64)"
      ]
     },
     "execution_count": 76,
     "metadata": {},
     "output_type": "execute_result"
    }
   ],
   "source": [
    "y_pred"
   ]
  },
  {
   "cell_type": "code",
   "execution_count": 77,
   "metadata": {},
   "outputs": [
    {
     "name": "stdout",
     "output_type": "stream",
     "text": [
      "[[  10    0  289  570   33]\n",
      " [   5    0  535 1307   54]\n",
      " [  10    0 1165 3136  140]\n",
      " [  13    0 1162 4089  165]\n",
      " [   3    0  557 2615  142]]\n"
     ]
    }
   ],
   "source": [
    "#evaluation model\n",
    "cm = confusion_matrix(y_test, y_pred)\n",
    "print(cm)\n"
   ]
  },
  {
   "cell_type": "code",
   "execution_count": 78,
   "metadata": {},
   "outputs": [
    {
     "name": "stdout",
     "output_type": "stream",
     "text": [
      "0.17149855116254667\n"
     ]
    }
   ],
   "source": [
    "#f1 score\n",
    "print(f1_score(y_test, y_pred,average='macro'))"
   ]
  },
  {
   "cell_type": "code",
   "execution_count": 79,
   "metadata": {},
   "outputs": [
    {
     "name": "stdout",
     "output_type": "stream",
     "text": [
      "0.337875\n"
     ]
    }
   ],
   "source": [
    "#accuracy score\n",
    "print(accuracy_score(y_test, y_pred))"
   ]
  },
  {
   "cell_type": "code",
   "execution_count": 80,
   "metadata": {},
   "outputs": [
    {
     "data": {
      "text/plain": [
       "1.4461875"
      ]
     },
     "execution_count": 80,
     "metadata": {},
     "output_type": "execute_result"
    }
   ],
   "source": [
    "#mean_squared_error\n",
    "mean_squared_error(y_pred, y_test)"
   ]
  },
  {
   "cell_type": "markdown",
   "metadata": {},
   "source": [
    "# U2.BASE DATASET AND U2.TEST DATASET"
   ]
  },
  {
   "cell_type": "code",
   "execution_count": 81,
   "metadata": {},
   "outputs": [
    {
     "name": "stdout",
     "output_type": "stream",
     "text": [
      "   userid  movieid  rating  timestamp\n",
      "0       1        3       4  878542960\n",
      "1       1        4       3  876893119\n",
      "2       1        5       3  889751712\n",
      "3       1        6       5  887431973\n",
      "4       1        7       4  875071561\n"
     ]
    }
   ],
   "source": [
    "features = ['userid','movieid','rating','timestamp']\n",
    "traindataset2 = pd.read_csv('ml-100k/u2.base', sep ='\\t', names=features)\n",
    "print(traindataset2.head())"
   ]
  },
  {
   "cell_type": "code",
   "execution_count": 82,
   "metadata": {},
   "outputs": [
    {
     "data": {
      "text/plain": [
       "userid       0\n",
       "movieid      0\n",
       "rating       0\n",
       "timestamp    0\n",
       "dtype: int64"
      ]
     },
     "execution_count": 82,
     "metadata": {},
     "output_type": "execute_result"
    }
   ],
   "source": [
    "traindataset2.isnull().sum()"
   ]
  },
  {
   "cell_type": "code",
   "execution_count": 83,
   "metadata": {},
   "outputs": [
    {
     "data": {
      "text/plain": [
       "userid             39560651\n",
       "movieid            33999239\n",
       "rating               282117\n",
       "timestamp    70683739483331\n",
       "dtype: int64"
      ]
     },
     "execution_count": 83,
     "metadata": {},
     "output_type": "execute_result"
    }
   ],
   "source": [
    "traindataset2.sum()"
   ]
  },
  {
   "cell_type": "code",
   "execution_count": 84,
   "metadata": {},
   "outputs": [
    {
     "data": {
      "text/plain": [
       "(80000, 4)"
      ]
     },
     "execution_count": 84,
     "metadata": {},
     "output_type": "execute_result"
    }
   ],
   "source": [
    "traindataset2.shape"
   ]
  },
  {
   "cell_type": "code",
   "execution_count": 85,
   "metadata": {},
   "outputs": [
    {
     "name": "stdout",
     "output_type": "stream",
     "text": [
      "   userid  movieid  rating  timestamp\n",
      "0       1        1       5  874965758\n",
      "1       1        2       3  876893171\n",
      "2       1        8       1  875072484\n",
      "3       1        9       5  878543541\n",
      "4       1       21       1  878542772\n"
     ]
    }
   ],
   "source": [
    "features = ['userid','movieid','rating','timestamp']\n",
    "testdataset2 = pd.read_csv('ml-100k/u2.test', sep ='\\t', names=features)\n",
    "print(testdataset2.head())"
   ]
  },
  {
   "cell_type": "code",
   "execution_count": 86,
   "metadata": {},
   "outputs": [
    {
     "data": {
      "text/plain": [
       "userid       0\n",
       "movieid      0\n",
       "rating       0\n",
       "timestamp    0\n",
       "dtype: int64"
      ]
     },
     "execution_count": 86,
     "metadata": {},
     "output_type": "execute_result"
    }
   ],
   "source": [
    "testdataset2.isnull().sum()"
   ]
  },
  {
   "cell_type": "code",
   "execution_count": 87,
   "metadata": {},
   "outputs": [
    {
     "data": {
      "text/plain": [
       "userid              6687824\n",
       "movieid             8553774\n",
       "rating                70869\n",
       "timestamp    17669145665531\n",
       "dtype: int64"
      ]
     },
     "execution_count": 87,
     "metadata": {},
     "output_type": "execute_result"
    }
   ],
   "source": [
    "testdataset2.sum()"
   ]
  },
  {
   "cell_type": "code",
   "execution_count": 88,
   "metadata": {},
   "outputs": [
    {
     "data": {
      "text/plain": [
       "(20000, 4)"
      ]
     },
     "execution_count": 88,
     "metadata": {},
     "output_type": "execute_result"
    }
   ],
   "source": [
    "testdataset2.shape"
   ]
  },
  {
   "cell_type": "code",
   "execution_count": 90,
   "metadata": {},
   "outputs": [],
   "source": [
    "#spliting datasets\n",
    "X2 = traindataset2.iloc[:,0:2]\n",
    "y2 = traindataset2.iloc[:,2]\n",
    "X_train, X_test, y_train, y_test = train_test_split(X2, y2, random_state=0, test_size = 0.2)"
   ]
  },
  {
   "cell_type": "code",
   "execution_count": 91,
   "metadata": {},
   "outputs": [],
   "source": [
    "#Feature Scaling \n",
    "sc_X2 = StandardScaler()\n",
    "X_train = sc_X2.fit_transform(X_train)\n",
    "X_test = sc_X2.transform(X_test)"
   ]
  },
  {
   "cell_type": "code",
   "execution_count": 92,
   "metadata": {},
   "outputs": [
    {
     "data": {
      "text/plain": [
       "126.49110640673517"
      ]
     },
     "execution_count": 92,
     "metadata": {},
     "output_type": "execute_result"
    }
   ],
   "source": [
    "math.sqrt(len(y_test))"
   ]
  },
  {
   "cell_type": "code",
   "execution_count": 93,
   "metadata": {},
   "outputs": [],
   "source": [
    "#Defining the model\n",
    "classifier = KNeighborsClassifier(n_neighbors=125, p=2, metric='cosine')"
   ]
  },
  {
   "cell_type": "code",
   "execution_count": 94,
   "metadata": {},
   "outputs": [
    {
     "data": {
      "text/plain": [
       "KNeighborsClassifier(metric='cosine', n_neighbors=125)"
      ]
     },
     "execution_count": 94,
     "metadata": {},
     "output_type": "execute_result"
    }
   ],
   "source": [
    "#fiting the model\n",
    "classifier.fit(X_train, y_train)"
   ]
  },
  {
   "cell_type": "code",
   "execution_count": 95,
   "metadata": {},
   "outputs": [],
   "source": [
    "#predicting the test set results\n",
    "y_pred = classifier.predict(X_test)"
   ]
  },
  {
   "cell_type": "code",
   "execution_count": 96,
   "metadata": {},
   "outputs": [
    {
     "data": {
      "text/plain": [
       "array([3, 4, 3, ..., 3, 4, 5], dtype=int64)"
      ]
     },
     "execution_count": 96,
     "metadata": {},
     "output_type": "execute_result"
    }
   ],
   "source": [
    "y_pred"
   ]
  },
  {
   "cell_type": "code",
   "execution_count": 97,
   "metadata": {},
   "outputs": [
    {
     "name": "stdout",
     "output_type": "stream",
     "text": [
      "[[  20    2  293  595   18]\n",
      " [  12    2  547 1217   36]\n",
      " [   5    4 1191 3137  114]\n",
      " [  18    4 1149 4076  171]\n",
      " [  10    2  595 2660  122]]\n"
     ]
    }
   ],
   "source": [
    "#evaluation model\n",
    "cm2 = confusion_matrix(y_test, y_pred)\n",
    "print(cm2)"
   ]
  },
  {
   "cell_type": "code",
   "execution_count": 98,
   "metadata": {},
   "outputs": [
    {
     "name": "stdout",
     "output_type": "stream",
     "text": [
      "0.17441159261279868\n"
     ]
    }
   ],
   "source": [
    "#f1 score\n",
    "print(f1_score(y_test, y_pred,average='macro'))"
   ]
  },
  {
   "cell_type": "code",
   "execution_count": 99,
   "metadata": {},
   "outputs": [
    {
     "name": "stdout",
     "output_type": "stream",
     "text": [
      "0.3381875\n"
     ]
    }
   ],
   "source": [
    "#accuracy score\n",
    "print(accuracy_score(y_test, y_pred))"
   ]
  },
  {
   "cell_type": "code",
   "execution_count": 100,
   "metadata": {},
   "outputs": [
    {
     "data": {
      "text/plain": [
       "1.4313125"
      ]
     },
     "execution_count": 100,
     "metadata": {},
     "output_type": "execute_result"
    }
   ],
   "source": [
    "#mean_squared_error\n",
    "\n",
    "mean_squared_error(y_pred, y_test)"
   ]
  },
  {
   "cell_type": "markdown",
   "metadata": {},
   "source": [
    "# U3.BASE DATASET AND U3.TEST DATASET"
   ]
  },
  {
   "cell_type": "code",
   "execution_count": 102,
   "metadata": {},
   "outputs": [],
   "source": [
    "a=np.array([[5,1231,53,123],[1234,123,2,4],[123,455,12,86]])"
   ]
  },
  {
   "cell_type": "code",
   "execution_count": 103,
   "metadata": {},
   "outputs": [
    {
     "data": {
      "text/plain": [
       "array([[   5, 1231,   53,  123],\n",
       "       [1234,  123,    2,    4],\n",
       "       [ 123,  455,   12,   86]])"
      ]
     },
     "execution_count": 103,
     "metadata": {},
     "output_type": "execute_result"
    }
   ],
   "source": [
    "a"
   ]
  },
  {
   "cell_type": "code",
   "execution_count": 109,
   "metadata": {},
   "outputs": [
    {
     "data": {
      "text/plain": [
       "array([[0, 2, 3, 1],\n",
       "       [2, 3, 1, 0],\n",
       "       [2, 3, 0, 1]], dtype=int64)"
      ]
     },
     "execution_count": 109,
     "metadata": {},
     "output_type": "execute_result"
    }
   ],
   "source": [
    "a.argsort()"
   ]
  },
  {
   "cell_type": "code",
   "execution_count": 124,
   "metadata": {},
   "outputs": [
    {
     "data": {
      "text/plain": [
       "array([[3, 1],\n",
       "       [1, 0],\n",
       "       [0, 1]], dtype=int64)"
      ]
     },
     "execution_count": 124,
     "metadata": {},
     "output_type": "execute_result"
    }
   ],
   "source": [
    "a.argsort()[:,2:]# stunları alıyor soldan sağ doğru gidyor"
   ]
  },
  {
   "cell_type": "code",
   "execution_count": 133,
   "metadata": {},
   "outputs": [
    {
     "data": {
      "text/plain": [
       "array([[1, 3],\n",
       "       [0, 1],\n",
       "       [1, 0]], dtype=int64)"
      ]
     },
     "execution_count": 133,
     "metadata": {},
     "output_type": "execute_result"
    }
   ],
   "source": [
    "a.argsort()[:,2:][:,::-1] # doğru çalışıyor indexleri doğru arlıyor"
   ]
  },
  {
   "cell_type": "code",
   "execution_count": 134,
   "metadata": {},
   "outputs": [
    {
     "name": "stdout",
     "output_type": "stream",
     "text": [
      "   userid  movieid  rating  timestamp\n",
      "0       1        1       5  874965758\n",
      "1       1        2       3  876893171\n",
      "2       1        3       4  878542960\n",
      "3       1        4       3  876893119\n",
      "4       1        6       5  887431973\n"
     ]
    }
   ],
   "source": [
    "features = ['userid','movieid','rating','timestamp']\n",
    "traindataset3 = pd.read_csv('ml-100k/u3.base', sep ='\\t', names=features)\n",
    "print(traindataset3.head())"
   ]
  },
  {
   "cell_type": "code",
   "execution_count": 135,
   "metadata": {},
   "outputs": [
    {
     "data": {
      "text/plain": [
       "userid       0\n",
       "movieid      0\n",
       "rating       0\n",
       "timestamp    0\n",
       "dtype: int64"
      ]
     },
     "execution_count": 135,
     "metadata": {},
     "output_type": "execute_result"
    }
   ],
   "source": [
    "#checkng for null values\n",
    "traindataset3.isnull().sum()"
   ]
  },
  {
   "cell_type": "code",
   "execution_count": 136,
   "metadata": {},
   "outputs": [
    {
     "data": {
      "text/plain": [
       "userid             36431188\n",
       "movieid            34046417\n",
       "rating               282487\n",
       "timestamp    70678510410518\n",
       "dtype: int64"
      ]
     },
     "execution_count": 136,
     "metadata": {},
     "output_type": "execute_result"
    }
   ],
   "source": [
    "traindataset3.sum()"
   ]
  },
  {
   "cell_type": "code",
   "execution_count": 137,
   "metadata": {},
   "outputs": [
    {
     "data": {
      "text/plain": [
       "(80000, 4)"
      ]
     },
     "execution_count": 137,
     "metadata": {},
     "output_type": "execute_result"
    }
   ],
   "source": [
    "traindataset3.shape"
   ]
  },
  {
   "cell_type": "code",
   "execution_count": 139,
   "metadata": {},
   "outputs": [
    {
     "name": "stdout",
     "output_type": "stream",
     "text": [
      "   userid  movieid  rating  timestamp\n",
      "0       1        5       3  889751712\n",
      "1       1       11       2  875072262\n",
      "2       1       16       5  878543541\n",
      "3       1       25       4  875071805\n",
      "4       1       35       1  878542420\n"
     ]
    }
   ],
   "source": [
    "features = ['userid','movieid','rating','timestamp']\n",
    "testdataset3 = pd.read_csv('ml-100k/u3.test', sep ='\\t', names=features)\n",
    "print(testdataset3.head())"
   ]
  },
  {
   "cell_type": "code",
   "execution_count": 140,
   "metadata": {},
   "outputs": [
    {
     "data": {
      "text/plain": [
       "userid       0\n",
       "movieid      0\n",
       "rating       0\n",
       "timestamp    0\n",
       "dtype: int64"
      ]
     },
     "execution_count": 140,
     "metadata": {},
     "output_type": "execute_result"
    }
   ],
   "source": [
    "testdataset3.isnull().sum()"
   ]
  },
  {
   "cell_type": "code",
   "execution_count": 141,
   "metadata": {},
   "outputs": [
    {
     "data": {
      "text/plain": [
       "userid              9817287\n",
       "movieid             8506596\n",
       "rating                70499\n",
       "timestamp    17674374738344\n",
       "dtype: int64"
      ]
     },
     "execution_count": 141,
     "metadata": {},
     "output_type": "execute_result"
    }
   ],
   "source": [
    "testdataset3.sum()"
   ]
  },
  {
   "cell_type": "code",
   "execution_count": 142,
   "metadata": {},
   "outputs": [
    {
     "data": {
      "text/plain": [
       "(20000, 4)"
      ]
     },
     "execution_count": 142,
     "metadata": {},
     "output_type": "execute_result"
    }
   ],
   "source": [
    "testdataset3.shape"
   ]
  },
  {
   "cell_type": "code",
   "execution_count": 144,
   "metadata": {},
   "outputs": [],
   "source": [
    "#spliting datasets\n",
    "X3 = traindataset3.iloc[:,0:2]\n",
    "y3 = traindataset3.iloc[:,2]\n",
    "X3_train, X3_test, y3_train, y3_test = train_test_split(X3, y3, random_state=0, test_size = 0.2)"
   ]
  },
  {
   "cell_type": "code",
   "execution_count": 145,
   "metadata": {},
   "outputs": [],
   "source": [
    "#Feature Scaling \n",
    "sc_X3 = StandardScaler()\n",
    "X3_train = sc_X3.fit_transform(X3_train)\n",
    "X3_test = sc_X3.transform(X3_test)"
   ]
  },
  {
   "cell_type": "code",
   "execution_count": 146,
   "metadata": {},
   "outputs": [
    {
     "data": {
      "text/plain": [
       "126.49110640673517"
      ]
     },
     "execution_count": 146,
     "metadata": {},
     "output_type": "execute_result"
    }
   ],
   "source": [
    "math.sqrt(len(y_test))"
   ]
  },
  {
   "cell_type": "code",
   "execution_count": 147,
   "metadata": {},
   "outputs": [],
   "source": [
    "#Defining the model\n",
    "classifier = KNeighborsClassifier(n_neighbors=125, p=2, metric='cosine')"
   ]
  },
  {
   "cell_type": "code",
   "execution_count": 148,
   "metadata": {},
   "outputs": [
    {
     "data": {
      "text/plain": [
       "KNeighborsClassifier(metric='cosine', n_neighbors=125)"
      ]
     },
     "execution_count": 148,
     "metadata": {},
     "output_type": "execute_result"
    }
   ],
   "source": [
    "#fiting the model\n",
    "classifier.fit(X3_train, y3_train)"
   ]
  },
  {
   "cell_type": "code",
   "execution_count": 149,
   "metadata": {},
   "outputs": [],
   "source": [
    "#predicting the test set results\n",
    "y_pred = classifier.predict(X3_test)"
   ]
  },
  {
   "cell_type": "code",
   "execution_count": 150,
   "metadata": {},
   "outputs": [
    {
     "data": {
      "text/plain": [
       "array([4, 3, 4, ..., 3, 4, 4], dtype=int64)"
      ]
     },
     "execution_count": 150,
     "metadata": {},
     "output_type": "execute_result"
    }
   ],
   "source": [
    "y_pred"
   ]
  },
  {
   "cell_type": "code",
   "execution_count": 151,
   "metadata": {},
   "outputs": [
    {
     "name": "stdout",
     "output_type": "stream",
     "text": [
      "[[   4    1  226  661   36]\n",
      " [   7    2  417 1317   71]\n",
      " [  10    2 1084 3215  140]\n",
      " [  19    1 1272 3922  204]\n",
      " [  10    3  783 2475  118]]\n"
     ]
    }
   ],
   "source": [
    "#evaluation model\n",
    "cm3 = confusion_matrix(y_test, y_pred)\n",
    "print(cm3)"
   ]
  },
  {
   "cell_type": "code",
   "execution_count": 152,
   "metadata": {},
   "outputs": [
    {
     "name": "stdout",
     "output_type": "stream",
     "text": [
      "0.1589050898769749\n"
     ]
    }
   ],
   "source": [
    "#f1 score\n",
    "print(f1_score(y_test, y_pred,average='macro'))"
   ]
  },
  {
   "cell_type": "code",
   "execution_count": 153,
   "metadata": {},
   "outputs": [
    {
     "name": "stdout",
     "output_type": "stream",
     "text": [
      "0.320625\n"
     ]
    }
   ],
   "source": [
    "#accuracy score\n",
    "print(accuracy_score(y_test, y_pred))"
   ]
  },
  {
   "cell_type": "code",
   "execution_count": 154,
   "metadata": {},
   "outputs": [
    {
     "data": {
      "text/plain": [
       "1.5639375"
      ]
     },
     "execution_count": 154,
     "metadata": {},
     "output_type": "execute_result"
    }
   ],
   "source": [
    "mean_squared_error(y_pred, y_test)"
   ]
  },
  {
   "cell_type": "markdown",
   "metadata": {},
   "source": [
    "# U4.BASE DATASET AND U4.TEST DATASET"
   ]
  },
  {
   "cell_type": "code",
   "execution_count": 157,
   "metadata": {},
   "outputs": [
    {
     "name": "stdout",
     "output_type": "stream",
     "text": [
      "   userid  movieid  rating  timestamp\n",
      "0       1        1       5  874965758\n",
      "1       1        2       3  876893171\n",
      "2       1        3       4  878542960\n",
      "3       1        5       3  889751712\n",
      "4       1        6       5  887431973\n"
     ]
    }
   ],
   "source": [
    "features = ['userid','movieid','rating','timestamp']\n",
    "traindataset4 = pd.read_csv('ml-100k/u4.base', sep ='\\t', names=features)\n",
    "print(traindataset4.head())"
   ]
  },
  {
   "cell_type": "code",
   "execution_count": 158,
   "metadata": {},
   "outputs": [
    {
     "data": {
      "text/plain": [
       "userid       0\n",
       "movieid      0\n",
       "rating       0\n",
       "timestamp    0\n",
       "dtype: int64"
      ]
     },
     "execution_count": 158,
     "metadata": {},
     "output_type": "execute_result"
    }
   ],
   "source": [
    "traindataset4.isnull().sum()"
   ]
  },
  {
   "cell_type": "code",
   "execution_count": 159,
   "metadata": {},
   "outputs": [
    {
     "data": {
      "text/plain": [
       "userid             33828257\n",
       "movieid            34096233\n",
       "rating               282549\n",
       "timestamp    70682380062248\n",
       "dtype: int64"
      ]
     },
     "execution_count": 159,
     "metadata": {},
     "output_type": "execute_result"
    }
   ],
   "source": [
    "traindataset4.sum()"
   ]
  },
  {
   "cell_type": "code",
   "execution_count": 160,
   "metadata": {},
   "outputs": [
    {
     "data": {
      "text/plain": [
       "(80000, 4)"
      ]
     },
     "execution_count": 160,
     "metadata": {},
     "output_type": "execute_result"
    }
   ],
   "source": [
    "traindataset4.shape"
   ]
  },
  {
   "cell_type": "code",
   "execution_count": 161,
   "metadata": {},
   "outputs": [
    {
     "name": "stdout",
     "output_type": "stream",
     "text": [
      "   userid  movieid  rating  timestamp\n",
      "0       1        4       3  876893119\n",
      "1       1        7       4  875071561\n",
      "2       1       42       5  876892425\n",
      "3       1       43       4  878542869\n",
      "4       1       55       5  875072688\n"
     ]
    }
   ],
   "source": [
    "features = ['userid','movieid','rating','timestamp']\n",
    "testdataset4 = pd.read_csv('ml-100k/u4.test', sep ='\\t', names=features)\n",
    "print(testdataset4.head())"
   ]
  },
  {
   "cell_type": "code",
   "execution_count": 162,
   "metadata": {},
   "outputs": [
    {
     "data": {
      "text/plain": [
       "userid       0\n",
       "movieid      0\n",
       "rating       0\n",
       "timestamp    0\n",
       "dtype: int64"
      ]
     },
     "execution_count": 162,
     "metadata": {},
     "output_type": "execute_result"
    }
   ],
   "source": [
    "testdataset4.isnull().sum()"
   ]
  },
  {
   "cell_type": "code",
   "execution_count": 163,
   "metadata": {},
   "outputs": [
    {
     "data": {
      "text/plain": [
       "userid             12420218\n",
       "movieid             8456780\n",
       "rating                70437\n",
       "timestamp    17670505086614\n",
       "dtype: int64"
      ]
     },
     "execution_count": 163,
     "metadata": {},
     "output_type": "execute_result"
    }
   ],
   "source": [
    "testdataset4.sum()"
   ]
  },
  {
   "cell_type": "code",
   "execution_count": 164,
   "metadata": {},
   "outputs": [
    {
     "data": {
      "text/plain": [
       "(20000, 4)"
      ]
     },
     "execution_count": 164,
     "metadata": {},
     "output_type": "execute_result"
    }
   ],
   "source": [
    "testdataset4.shape"
   ]
  },
  {
   "cell_type": "code",
   "execution_count": 165,
   "metadata": {},
   "outputs": [],
   "source": [
    "#spliting datasets\n",
    "X4 = traindataset4.iloc[:,0:2]\n",
    "y4 = traindataset4.iloc[:,2]\n",
    "X_train, X_test, y_train, y_test = train_test_split(X4, y4, random_state=0, test_size = 0.2)"
   ]
  },
  {
   "cell_type": "code",
   "execution_count": 166,
   "metadata": {},
   "outputs": [],
   "source": [
    "#Feature Scaling \n",
    "sc_X4 = StandardScaler()\n",
    "X_train = sc_X4.fit_transform(X_train)\n",
    "X_test = sc_X4.transform(X_test)"
   ]
  },
  {
   "cell_type": "code",
   "execution_count": 167,
   "metadata": {},
   "outputs": [
    {
     "data": {
      "text/plain": [
       "126.49110640673517"
      ]
     },
     "execution_count": 167,
     "metadata": {},
     "output_type": "execute_result"
    }
   ],
   "source": [
    "math.sqrt(len(y_test))"
   ]
  },
  {
   "cell_type": "code",
   "execution_count": 168,
   "metadata": {},
   "outputs": [],
   "source": [
    "#Defining the model\n",
    "classifier = KNeighborsClassifier(n_neighbors=125, p=2, metric='cosine')"
   ]
  },
  {
   "cell_type": "code",
   "execution_count": 169,
   "metadata": {},
   "outputs": [
    {
     "data": {
      "text/plain": [
       "KNeighborsClassifier(metric='cosine', n_neighbors=125)"
      ]
     },
     "execution_count": 169,
     "metadata": {},
     "output_type": "execute_result"
    }
   ],
   "source": [
    "#fiting the model\n",
    "classifier.fit(X_train, y_train)"
   ]
  },
  {
   "cell_type": "code",
   "execution_count": 170,
   "metadata": {},
   "outputs": [],
   "source": [
    "#predicting the test set results\n",
    "y_pred = classifier.predict(X_test)"
   ]
  },
  {
   "cell_type": "code",
   "execution_count": 171,
   "metadata": {},
   "outputs": [
    {
     "data": {
      "text/plain": [
       "array([4, 3, 4, ..., 3, 4, 1], dtype=int64)"
      ]
     },
     "execution_count": 171,
     "metadata": {},
     "output_type": "execute_result"
    }
   ],
   "source": [
    "y_pred"
   ]
  },
  {
   "cell_type": "code",
   "execution_count": 172,
   "metadata": {},
   "outputs": [
    {
     "name": "stdout",
     "output_type": "stream",
     "text": [
      "[[  34    0  329  653   27]\n",
      " [  11    0  493 1242   52]\n",
      " [  22    1 1078 3133  120]\n",
      " [  17    0 1055 4136  206]\n",
      " [   8    0  533 2700  150]]\n"
     ]
    }
   ],
   "source": [
    "#evaluation model\n",
    "cm4 = confusion_matrix(y_test, y_pred)\n",
    "print(cm4)"
   ]
  },
  {
   "cell_type": "code",
   "execution_count": 173,
   "metadata": {},
   "outputs": [
    {
     "name": "stdout",
     "output_type": "stream",
     "text": [
      "0.17792544610905148\n"
     ]
    }
   ],
   "source": [
    "#f1 score\n",
    "print(f1_score(y_test, y_pred,average='macro'))"
   ]
  },
  {
   "cell_type": "code",
   "execution_count": 174,
   "metadata": {},
   "outputs": [
    {
     "name": "stdout",
     "output_type": "stream",
     "text": [
      "0.337375\n"
     ]
    }
   ],
   "source": [
    "#accuracy score\n",
    "print(accuracy_score(y_test, y_pred))"
   ]
  },
  {
   "cell_type": "code",
   "execution_count": 175,
   "metadata": {},
   "outputs": [
    {
     "data": {
      "text/plain": [
       "1.4775625"
      ]
     },
     "execution_count": 175,
     "metadata": {},
     "output_type": "execute_result"
    }
   ],
   "source": [
    "#mean_squared_error\n",
    "mean_squared_error(y_pred, y_test)"
   ]
  },
  {
   "cell_type": "markdown",
   "metadata": {},
   "source": [
    "# U5.BASE DATASET AND U5.TEST DATASET"
   ]
  },
  {
   "cell_type": "code",
   "execution_count": 177,
   "metadata": {},
   "outputs": [
    {
     "name": "stdout",
     "output_type": "stream",
     "text": [
      "   userid  movieid  rating  timestamp\n",
      "0       1        1       5  874965758\n",
      "1       1        2       3  876893171\n",
      "2       1        4       3  876893119\n",
      "3       1        5       3  889751712\n",
      "4       1        6       5  887431973\n"
     ]
    }
   ],
   "source": [
    "features = ['userid','movieid','rating','timestamp']\n",
    "traindataset5 = pd.read_csv('ml-100k/u5.base', sep ='\\t', names=features)\n",
    "print(traindataset5.head())"
   ]
  },
  {
   "cell_type": "code",
   "execution_count": 178,
   "metadata": {},
   "outputs": [
    {
     "data": {
      "text/plain": [
       "userid       0\n",
       "movieid      0\n",
       "rating       0\n",
       "timestamp    0\n",
       "dtype: int64"
      ]
     },
     "execution_count": 178,
     "metadata": {},
     "output_type": "execute_result"
    }
   ],
   "source": [
    "traindataset5.isnull().sum()"
   ]
  },
  {
   "cell_type": "code",
   "execution_count": 179,
   "metadata": {},
   "outputs": [
    {
     "data": {
      "text/plain": [
       "userid             33160548\n",
       "movieid            34013747\n",
       "rating               282523\n",
       "timestamp    70681753167092\n",
       "dtype: int64"
      ]
     },
     "execution_count": 179,
     "metadata": {},
     "output_type": "execute_result"
    }
   ],
   "source": [
    "traindataset5.sum()"
   ]
  },
  {
   "cell_type": "code",
   "execution_count": 180,
   "metadata": {},
   "outputs": [
    {
     "data": {
      "text/plain": [
       "(80000, 4)"
      ]
     },
     "execution_count": 180,
     "metadata": {},
     "output_type": "execute_result"
    }
   ],
   "source": [
    "traindataset5.shape"
   ]
  },
  {
   "cell_type": "code",
   "execution_count": 181,
   "metadata": {},
   "outputs": [
    {
     "name": "stdout",
     "output_type": "stream",
     "text": [
      "   userid  movieid  rating  timestamp\n",
      "0       1        3       4  878542960\n",
      "1       1       13       5  875071805\n",
      "2       1       15       5  875071608\n",
      "3       1       18       4  887432020\n",
      "4       1       19       5  875071515\n"
     ]
    }
   ],
   "source": [
    "features = ['userid','movieid','rating','timestamp']\n",
    "testdataset5 = pd.read_csv('ml-100k/u5.test', sep ='\\t', names=features)\n",
    "print(testdataset5.head())"
   ]
  },
  {
   "cell_type": "code",
   "execution_count": 182,
   "metadata": {},
   "outputs": [
    {
     "data": {
      "text/plain": [
       "userid       0\n",
       "movieid      0\n",
       "rating       0\n",
       "timestamp    0\n",
       "dtype: int64"
      ]
     },
     "execution_count": 182,
     "metadata": {},
     "output_type": "execute_result"
    }
   ],
   "source": [
    "testdataset5.isnull().sum()"
   ]
  },
  {
   "cell_type": "code",
   "execution_count": 183,
   "metadata": {},
   "outputs": [
    {
     "data": {
      "text/plain": [
       "userid             13087927\n",
       "movieid             8539266\n",
       "rating                70463\n",
       "timestamp    17671131981770\n",
       "dtype: int64"
      ]
     },
     "execution_count": 183,
     "metadata": {},
     "output_type": "execute_result"
    }
   ],
   "source": [
    "testdataset5.sum()"
   ]
  },
  {
   "cell_type": "code",
   "execution_count": 184,
   "metadata": {},
   "outputs": [
    {
     "data": {
      "text/plain": [
       "(20000, 4)"
      ]
     },
     "execution_count": 184,
     "metadata": {},
     "output_type": "execute_result"
    }
   ],
   "source": [
    "testdataset5.shape"
   ]
  },
  {
   "cell_type": "code",
   "execution_count": 185,
   "metadata": {},
   "outputs": [],
   "source": [
    "X5 = traindataset5.iloc[:,0:2]\n",
    "y5 = traindataset5.iloc[:,2]\n",
    "X_train, X_test, y_train, y_test = train_test_split(X5, y5, random_state=0, test_size = 0.2)"
   ]
  },
  {
   "cell_type": "code",
   "execution_count": 186,
   "metadata": {},
   "outputs": [],
   "source": [
    "sc_X5 = StandardScaler()\n",
    "X_train = sc_X5.fit_transform(X_train)\n",
    "X_test = sc_X5.transform(X_test)"
   ]
  },
  {
   "cell_type": "code",
   "execution_count": 187,
   "metadata": {},
   "outputs": [
    {
     "data": {
      "text/plain": [
       "126.49110640673517"
      ]
     },
     "execution_count": 187,
     "metadata": {},
     "output_type": "execute_result"
    }
   ],
   "source": [
    "math.sqrt(len(y_test))"
   ]
  },
  {
   "cell_type": "code",
   "execution_count": 188,
   "metadata": {},
   "outputs": [],
   "source": [
    "#Defining the model\n",
    "classifier = KNeighborsClassifier(n_neighbors=10, p=2, metric='cosine')"
   ]
  },
  {
   "cell_type": "code",
   "execution_count": 189,
   "metadata": {},
   "outputs": [
    {
     "data": {
      "text/plain": [
       "KNeighborsClassifier(metric='cosine', n_neighbors=10)"
      ]
     },
     "execution_count": 189,
     "metadata": {},
     "output_type": "execute_result"
    }
   ],
   "source": [
    "#fiting the model\n",
    "classifier.fit(X_train, y_train)"
   ]
  },
  {
   "cell_type": "code",
   "execution_count": 190,
   "metadata": {},
   "outputs": [],
   "source": [
    "#predicting the test set results\n",
    "y_pred = classifier.predict(X_test)"
   ]
  },
  {
   "cell_type": "code",
   "execution_count": 191,
   "metadata": {},
   "outputs": [
    {
     "data": {
      "text/plain": [
       "array([4, 3, 2, ..., 5, 2, 4], dtype=int64)"
      ]
     },
     "execution_count": 191,
     "metadata": {},
     "output_type": "execute_result"
    }
   ],
   "source": [
    "y_pred"
   ]
  },
  {
   "cell_type": "code",
   "execution_count": 192,
   "metadata": {},
   "outputs": [
    {
     "name": "stdout",
     "output_type": "stream",
     "text": [
      "[[  64   64  353  373   95]\n",
      " [  48  127  644  768  210]\n",
      " [ 105  267 1630 1916  503]\n",
      " [  79  319 1848 2478  722]\n",
      " [  40  171 1099 1577  500]]\n"
     ]
    }
   ],
   "source": [
    "#evaluation model\n",
    "cm5 = confusion_matrix(y_test, y_pred)\n",
    "print(cm5)"
   ]
  },
  {
   "cell_type": "code",
   "execution_count": 193,
   "metadata": {},
   "outputs": [
    {
     "name": "stdout",
     "output_type": "stream",
     "text": [
      "0.21951174128400147\n"
     ]
    }
   ],
   "source": [
    "#f1 score\n",
    "print(f1_score(y_test, y_pred,average='macro'))"
   ]
  },
  {
   "cell_type": "code",
   "execution_count": 194,
   "metadata": {},
   "outputs": [
    {
     "name": "stdout",
     "output_type": "stream",
     "text": [
      "0.2999375\n"
     ]
    }
   ],
   "source": [
    "#accuracy score\n",
    "print(accuracy_score(y_test, y_pred))"
   ]
  },
  {
   "cell_type": "code",
   "execution_count": 195,
   "metadata": {},
   "outputs": [
    {
     "data": {
      "text/plain": [
       "1.8331875"
      ]
     },
     "execution_count": 195,
     "metadata": {},
     "output_type": "execute_result"
    }
   ],
   "source": [
    "#mean_squared_error\n",
    "\n",
    "mean_squared_error(y_pred, y_test)"
   ]
  },
  {
   "cell_type": "markdown",
   "metadata": {},
   "source": [
    "# MERGING U.USER DATASET TO U1.BASE DATASET"
   ]
  },
  {
   "cell_type": "code",
   "execution_count": 196,
   "metadata": {},
   "outputs": [
    {
     "name": "stdout",
     "output_type": "stream",
     "text": [
      "   userid  movieid  rating  timestamp\n",
      "0       1        1       5  874965758\n",
      "1       1        2       3  876893171\n",
      "2       1        3       4  878542960\n",
      "3       1        4       3  876893119\n",
      "4       1        5       3  889751712\n"
     ]
    }
   ],
   "source": [
    "features = ['userid','movieid','rating','timestamp']\n",
    "Utraindataset = pd.read_csv('ml-100k/u1.base', sep ='\\t', names=features)\n",
    "print(Utraindataset.head())"
   ]
  },
  {
   "cell_type": "code",
   "execution_count": 197,
   "metadata": {},
   "outputs": [
    {
     "name": "stdout",
     "output_type": "stream",
     "text": [
      "   userid  age gender  occupation zipcode\n",
      "0       1   24      M  technician   85711\n",
      "1       2   53      F       other   94043\n",
      "2       3   23      M      writer   32067\n",
      "3       4   24      M  technician   43537\n",
      "4       5   33      F       other   15213\n"
     ]
    }
   ],
   "source": [
    "features = ['userid','age','gender','occupation','zipcode']\n",
    "uUser = pd.read_csv('ml-100k/u.user', sep ='|', names=features)\n",
    "print(uUser.head())"
   ]
  },
  {
   "cell_type": "code",
   "execution_count": 198,
   "metadata": {},
   "outputs": [
    {
     "name": "stdout",
     "output_type": "stream",
     "text": [
      "   userid  movieid  rating  timestamp\n",
      "0       1        6       5  887431973\n",
      "1       1       10       3  875693118\n",
      "2       1       12       5  878542960\n",
      "3       1       14       5  874965706\n",
      "4       1       17       3  875073198\n"
     ]
    }
   ],
   "source": [
    "features = ['userid','movieid','rating','timestamp']\n",
    "Utestdataset = pd.read_csv('ml-100k/u1.test', sep ='\\t', names=features)\n",
    "print(Utestdataset.head())"
   ]
  },
  {
   "cell_type": "code",
   "execution_count": 199,
   "metadata": {},
   "outputs": [],
   "source": [
    "Utraindataset = pd.merge(Utraindataset,uUser, on='userid')"
   ]
  },
  {
   "cell_type": "code",
   "execution_count": 200,
   "metadata": {},
   "outputs": [
    {
     "name": "stdout",
     "output_type": "stream",
     "text": [
      "   userid  movieid  rating  timestamp  age gender  occupation zipcode\n",
      "0       1        1       5  874965758   24      M  technician   85711\n",
      "1       1        2       3  876893171   24      M  technician   85711\n",
      "2       1        3       4  878542960   24      M  technician   85711\n",
      "3       1        4       3  876893119   24      M  technician   85711\n",
      "4       1        5       3  889751712   24      M  technician   85711\n"
     ]
    }
   ],
   "source": [
    "print(Utraindataset.head())"
   ]
  },
  {
   "cell_type": "code",
   "execution_count": 201,
   "metadata": {},
   "outputs": [],
   "source": [
    "Utraindataset= Utraindataset[['userid','movieid','age','gender','occupation','zipcode','timestamp','rating']]"
   ]
  },
  {
   "cell_type": "code",
   "execution_count": 202,
   "metadata": {},
   "outputs": [
    {
     "name": "stdout",
     "output_type": "stream",
     "text": [
      "   userid  movieid  age gender  occupation zipcode  timestamp  rating\n",
      "0       1        1   24      M  technician   85711  874965758       5\n",
      "1       1        2   24      M  technician   85711  876893171       3\n",
      "2       1        3   24      M  technician   85711  878542960       4\n",
      "3       1        4   24      M  technician   85711  876893119       3\n",
      "4       1        5   24      M  technician   85711  889751712       3\n"
     ]
    }
   ],
   "source": [
    "print(Utraindataset.head())"
   ]
  },
  {
   "cell_type": "code",
   "execution_count": 203,
   "metadata": {},
   "outputs": [],
   "source": [
    "Utraindataset = pd.get_dummies(Utraindataset, columns=['occupation', 'gender'])"
   ]
  },
  {
   "cell_type": "code",
   "execution_count": 204,
   "metadata": {},
   "outputs": [
    {
     "name": "stdout",
     "output_type": "stream",
     "text": [
      "   userid  movieid  age zipcode  timestamp  rating  occupation_administrator  \\\n",
      "0       1        1   24   85711  874965758       5                         0   \n",
      "1       1        2   24   85711  876893171       3                         0   \n",
      "2       1        3   24   85711  878542960       4                         0   \n",
      "3       1        4   24   85711  876893119       3                         0   \n",
      "4       1        5   24   85711  889751712       3                         0   \n",
      "\n",
      "   occupation_artist  occupation_doctor  occupation_educator  ...  \\\n",
      "0                  0                  0                    0  ...   \n",
      "1                  0                  0                    0  ...   \n",
      "2                  0                  0                    0  ...   \n",
      "3                  0                  0                    0  ...   \n",
      "4                  0                  0                    0  ...   \n",
      "\n",
      "   occupation_other  occupation_programmer  occupation_retired  \\\n",
      "0                 0                      0                   0   \n",
      "1                 0                      0                   0   \n",
      "2                 0                      0                   0   \n",
      "3                 0                      0                   0   \n",
      "4                 0                      0                   0   \n",
      "\n",
      "   occupation_salesman  occupation_scientist  occupation_student  \\\n",
      "0                    0                     0                   0   \n",
      "1                    0                     0                   0   \n",
      "2                    0                     0                   0   \n",
      "3                    0                     0                   0   \n",
      "4                    0                     0                   0   \n",
      "\n",
      "   occupation_technician  occupation_writer  gender_F  gender_M  \n",
      "0                      1                  0         0         1  \n",
      "1                      1                  0         0         1  \n",
      "2                      1                  0         0         1  \n",
      "3                      1                  0         0         1  \n",
      "4                      1                  0         0         1  \n",
      "\n",
      "[5 rows x 29 columns]\n"
     ]
    }
   ],
   "source": [
    "print(Utraindataset.head())"
   ]
  },
  {
   "cell_type": "code",
   "execution_count": 205,
   "metadata": {},
   "outputs": [
    {
     "data": {
      "text/plain": [
       "userid                      0\n",
       "movieid                     0\n",
       "age                         0\n",
       "zipcode                     0\n",
       "timestamp                   0\n",
       "rating                      0\n",
       "occupation_administrator    0\n",
       "occupation_artist           0\n",
       "occupation_doctor           0\n",
       "occupation_educator         0\n",
       "occupation_engineer         0\n",
       "occupation_entertainment    0\n",
       "occupation_executive        0\n",
       "occupation_healthcare       0\n",
       "occupation_homemaker        0\n",
       "occupation_lawyer           0\n",
       "occupation_librarian        0\n",
       "occupation_marketing        0\n",
       "occupation_none             0\n",
       "occupation_other            0\n",
       "occupation_programmer       0\n",
       "occupation_retired          0\n",
       "occupation_salesman         0\n",
       "occupation_scientist        0\n",
       "occupation_student          0\n",
       "occupation_technician       0\n",
       "occupation_writer           0\n",
       "gender_F                    0\n",
       "gender_M                    0\n",
       "dtype: int64"
      ]
     },
     "execution_count": 205,
     "metadata": {},
     "output_type": "execute_result"
    }
   ],
   "source": [
    "Utraindataset.isnull().sum()"
   ]
  },
  {
   "cell_type": "code",
   "execution_count": 206,
   "metadata": {},
   "outputs": [],
   "source": [
    "Utraindataset = Utraindataset.drop(['gender_F', 'occupation_none'], axis =1)\n",
    "Utraindataset = Utraindataset.drop(['zipcode'], axis =1)"
   ]
  },
  {
   "cell_type": "code",
   "execution_count": 207,
   "metadata": {},
   "outputs": [
    {
     "name": "stdout",
     "output_type": "stream",
     "text": [
      "   userid  movieid  age  timestamp  rating  occupation_administrator  \\\n",
      "0       1        1   24  874965758       5                         0   \n",
      "1       1        2   24  876893171       3                         0   \n",
      "2       1        3   24  878542960       4                         0   \n",
      "3       1        4   24  876893119       3                         0   \n",
      "4       1        5   24  889751712       3                         0   \n",
      "\n",
      "   occupation_artist  occupation_doctor  occupation_educator  \\\n",
      "0                  0                  0                    0   \n",
      "1                  0                  0                    0   \n",
      "2                  0                  0                    0   \n",
      "3                  0                  0                    0   \n",
      "4                  0                  0                    0   \n",
      "\n",
      "   occupation_engineer  ...  occupation_marketing  occupation_other  \\\n",
      "0                    0  ...                     0                 0   \n",
      "1                    0  ...                     0                 0   \n",
      "2                    0  ...                     0                 0   \n",
      "3                    0  ...                     0                 0   \n",
      "4                    0  ...                     0                 0   \n",
      "\n",
      "   occupation_programmer  occupation_retired  occupation_salesman  \\\n",
      "0                      0                   0                    0   \n",
      "1                      0                   0                    0   \n",
      "2                      0                   0                    0   \n",
      "3                      0                   0                    0   \n",
      "4                      0                   0                    0   \n",
      "\n",
      "   occupation_scientist  occupation_student  occupation_technician  \\\n",
      "0                     0                   0                      1   \n",
      "1                     0                   0                      1   \n",
      "2                     0                   0                      1   \n",
      "3                     0                   0                      1   \n",
      "4                     0                   0                      1   \n",
      "\n",
      "   occupation_writer  gender_M  \n",
      "0                  0         1  \n",
      "1                  0         1  \n",
      "2                  0         1  \n",
      "3                  0         1  \n",
      "4                  0         1  \n",
      "\n",
      "[5 rows x 26 columns]\n"
     ]
    }
   ],
   "source": [
    "print(Utraindataset.head(5))"
   ]
  },
  {
   "cell_type": "code",
   "execution_count": 208,
   "metadata": {},
   "outputs": [],
   "source": [
    "Utraindataset= Utraindataset[['userid','movieid','age','gender_M','occupation_librarian','occupation_lawyer','occupation_homemaker','occupation_healthcare','occupation_executive','occupation_entertainment','occupation_writer','occupation_technician','occupation_student','occupation_scientist','occupation_salesman','occupation_retired','occupation_programmer','occupation_other','occupation_marketing','occupation_engineer','occupation_educator','occupation_doctor','occupation_administrator','occupation_artist','timestamp','rating']]"
   ]
  },
  {
   "cell_type": "code",
   "execution_count": 209,
   "metadata": {},
   "outputs": [
    {
     "data": {
      "text/plain": [
       "userid                            42013256\n",
       "movieid                           34056416\n",
       "age                                2626147\n",
       "gender_M                             59093\n",
       "occupation_librarian                  3992\n",
       "occupation_lawyer                      983\n",
       "occupation_homemaker                   253\n",
       "occupation_healthcare                 2428\n",
       "occupation_executive                  2576\n",
       "occupation_entertainment              1442\n",
       "occupation_writer                     4575\n",
       "occupation_technician                 2778\n",
       "occupation_student                   17901\n",
       "occupation_scientist                  1743\n",
       "occupation_salesman                    726\n",
       "occupation_retired                    1101\n",
       "occupation_programmer                 6190\n",
       "occupation_other                      9117\n",
       "occupation_marketing                  1461\n",
       "occupation_engineer                   6912\n",
       "occupation_educator                   7467\n",
       "occupation_doctor                      350\n",
       "occupation_administrator              5594\n",
       "occupation_artist                     1860\n",
       "timestamp                   70685157472259\n",
       "rating                              282268\n",
       "dtype: int64"
      ]
     },
     "execution_count": 209,
     "metadata": {},
     "output_type": "execute_result"
    }
   ],
   "source": [
    "Utraindataset.sum()"
   ]
  },
  {
   "cell_type": "code",
   "execution_count": 210,
   "metadata": {},
   "outputs": [
    {
     "data": {
      "text/plain": [
       "(80000, 26)"
      ]
     },
     "execution_count": 210,
     "metadata": {},
     "output_type": "execute_result"
    }
   ],
   "source": [
    "Utraindataset.shape"
   ]
  },
  {
   "cell_type": "code",
   "execution_count": 212,
   "metadata": {},
   "outputs": [],
   "source": [
    "#spliting datasets\n",
    "XU = Utraindataset.iloc[:,0:24]\n",
    "yU = Utraindataset.iloc[:,25]\n",
    "X_train, X_test, y_train, y_test = train_test_split(XU, yU, random_state=0, test_size = 0.2)"
   ]
  },
  {
   "cell_type": "code",
   "execution_count": 213,
   "metadata": {},
   "outputs": [],
   "source": [
    "#Feature Scaling \n",
    "sc_XU = StandardScaler()\n",
    "X_train = sc_XU.fit_transform(X_train)\n",
    "X_test = sc_XU.transform(X_test)"
   ]
  },
  {
   "cell_type": "code",
   "execution_count": 214,
   "metadata": {},
   "outputs": [
    {
     "data": {
      "text/plain": [
       "126.49110640673517"
      ]
     },
     "execution_count": 214,
     "metadata": {},
     "output_type": "execute_result"
    }
   ],
   "source": [
    "math.sqrt(len(y_test))"
   ]
  },
  {
   "cell_type": "code",
   "execution_count": 215,
   "metadata": {},
   "outputs": [],
   "source": [
    "#Defining the model\n",
    "classifier = KNeighborsClassifier(n_neighbors=10, p=2, metric='cosine')"
   ]
  },
  {
   "cell_type": "code",
   "execution_count": 216,
   "metadata": {},
   "outputs": [
    {
     "data": {
      "text/plain": [
       "KNeighborsClassifier(metric='cosine', n_neighbors=10)"
      ]
     },
     "execution_count": 216,
     "metadata": {},
     "output_type": "execute_result"
    }
   ],
   "source": [
    "#fiting the model\n",
    "classifier.fit(X_train, y_train)"
   ]
  },
  {
   "cell_type": "code",
   "execution_count": 217,
   "metadata": {},
   "outputs": [],
   "source": [
    "#predicting the test set results\n",
    "y_pred = classifier.predict(X_test)"
   ]
  },
  {
   "cell_type": "code",
   "execution_count": 218,
   "metadata": {},
   "outputs": [
    {
     "data": {
      "text/plain": [
       "array([5, 4, 3, ..., 4, 4, 4], dtype=int64)"
      ]
     },
     "execution_count": 218,
     "metadata": {},
     "output_type": "execute_result"
    }
   ],
   "source": [
    "y_pred"
   ]
  },
  {
   "cell_type": "code",
   "execution_count": 219,
   "metadata": {},
   "outputs": [
    {
     "name": "stdout",
     "output_type": "stream",
     "text": [
      "[[ 216  113  233  246   94]\n",
      " [ 134  290  725  581  171]\n",
      " [ 128  400 1780 1717  426]\n",
      " [ 137  302 1646 2522  822]\n",
      " [  78  133  656 1436 1014]]\n"
     ]
    }
   ],
   "source": [
    "#evaluation model\n",
    "cmU = confusion_matrix(y_test, y_pred)\n",
    "print(cmU)"
   ]
  },
  {
   "cell_type": "code",
   "execution_count": 220,
   "metadata": {},
   "outputs": [
    {
     "name": "stdout",
     "output_type": "stream",
     "text": [
      "0.363875\n"
     ]
    }
   ],
   "source": [
    "#accuracy score\n",
    "print(accuracy_score(y_test, y_pred))"
   ]
  },
  {
   "cell_type": "code",
   "execution_count": 221,
   "metadata": {},
   "outputs": [
    {
     "data": {
      "text/plain": [
       "1.577"
      ]
     },
     "execution_count": 221,
     "metadata": {},
     "output_type": "execute_result"
    }
   ],
   "source": [
    "#mean_squared_error\n",
    "mean_squared_error(y_pred, y_test)"
   ]
  },
  {
   "cell_type": "markdown",
   "metadata": {},
   "source": [
    "# MERGING U.USER DATASET TO U2.BASE DATASET AND USING U2.TEST"
   ]
  },
  {
   "cell_type": "code",
   "execution_count": 222,
   "metadata": {},
   "outputs": [
    {
     "name": "stdout",
     "output_type": "stream",
     "text": [
      "   userid  movieid  rating  timestamp\n",
      "0       1        3       4  878542960\n",
      "1       1        4       3  876893119\n",
      "2       1        5       3  889751712\n",
      "3       1        6       5  887431973\n",
      "4       1        7       4  875071561\n"
     ]
    }
   ],
   "source": [
    "#mporting u2.base dataset\n",
    "features = ['userid','movieid','rating','timestamp']\n",
    "Utraindataset2 = pd.read_csv('ml-100k/u2.base', sep ='\\t', names=features)\n",
    "print(Utraindataset2.head())"
   ]
  },
  {
   "cell_type": "code",
   "execution_count": 223,
   "metadata": {},
   "outputs": [
    {
     "name": "stdout",
     "output_type": "stream",
     "text": [
      "   userid  age gender  occupation zipcode\n",
      "0       1   24      M  technician   85711\n",
      "1       2   53      F       other   94043\n",
      "2       3   23      M      writer   32067\n",
      "3       4   24      M  technician   43537\n",
      "4       5   33      F       other   15213\n"
     ]
    }
   ],
   "source": [
    "#mporting u2.base dataset\n",
    "features = ['userid','age','gender','occupation','zipcode']\n",
    "uUser2 = pd.read_csv('ml-100k/u.user', sep ='|', names=features)\n",
    "print(uUser2.head())"
   ]
  },
  {
   "cell_type": "code",
   "execution_count": 224,
   "metadata": {},
   "outputs": [],
   "source": [
    "#merging the u2.base dataset with the u.user dataset\n",
    "Utraindataset2 = pd.merge(Utraindataset2,uUser, on='userid')"
   ]
  },
  {
   "cell_type": "code",
   "execution_count": 225,
   "metadata": {},
   "outputs": [
    {
     "name": "stdout",
     "output_type": "stream",
     "text": [
      "   userid  movieid  rating  timestamp  age gender  occupation zipcode\n",
      "0       1        3       4  878542960   24      M  technician   85711\n",
      "1       1        4       3  876893119   24      M  technician   85711\n",
      "2       1        5       3  889751712   24      M  technician   85711\n",
      "3       1        6       5  887431973   24      M  technician   85711\n",
      "4       1        7       4  875071561   24      M  technician   85711\n"
     ]
    }
   ],
   "source": [
    "print(Utraindataset2.head())"
   ]
  },
  {
   "cell_type": "code",
   "execution_count": 226,
   "metadata": {},
   "outputs": [],
   "source": [
    "Utraindataset2 = pd.get_dummies(Utraindataset2, columns=['occupation', 'gender'])"
   ]
  },
  {
   "cell_type": "code",
   "execution_count": 227,
   "metadata": {},
   "outputs": [
    {
     "name": "stdout",
     "output_type": "stream",
     "text": [
      "   userid  movieid  rating  timestamp  age zipcode  occupation_administrator  \\\n",
      "0       1        3       4  878542960   24   85711                         0   \n",
      "1       1        4       3  876893119   24   85711                         0   \n",
      "2       1        5       3  889751712   24   85711                         0   \n",
      "3       1        6       5  887431973   24   85711                         0   \n",
      "4       1        7       4  875071561   24   85711                         0   \n",
      "\n",
      "   occupation_artist  occupation_doctor  occupation_educator  ...  \\\n",
      "0                  0                  0                    0  ...   \n",
      "1                  0                  0                    0  ...   \n",
      "2                  0                  0                    0  ...   \n",
      "3                  0                  0                    0  ...   \n",
      "4                  0                  0                    0  ...   \n",
      "\n",
      "   occupation_other  occupation_programmer  occupation_retired  \\\n",
      "0                 0                      0                   0   \n",
      "1                 0                      0                   0   \n",
      "2                 0                      0                   0   \n",
      "3                 0                      0                   0   \n",
      "4                 0                      0                   0   \n",
      "\n",
      "   occupation_salesman  occupation_scientist  occupation_student  \\\n",
      "0                    0                     0                   0   \n",
      "1                    0                     0                   0   \n",
      "2                    0                     0                   0   \n",
      "3                    0                     0                   0   \n",
      "4                    0                     0                   0   \n",
      "\n",
      "   occupation_technician  occupation_writer  gender_F  gender_M  \n",
      "0                      1                  0         0         1  \n",
      "1                      1                  0         0         1  \n",
      "2                      1                  0         0         1  \n",
      "3                      1                  0         0         1  \n",
      "4                      1                  0         0         1  \n",
      "\n",
      "[5 rows x 29 columns]\n"
     ]
    }
   ],
   "source": [
    "print(Utraindataset2.head())"
   ]
  },
  {
   "cell_type": "code",
   "execution_count": 228,
   "metadata": {},
   "outputs": [],
   "source": [
    "Utraindataset2 = Utraindataset2.drop(['gender_F', 'occupation_none'], axis =1)\n",
    "Utraindataset2 = Utraindataset2.drop(['zipcode'], axis =1)"
   ]
  },
  {
   "cell_type": "code",
   "execution_count": 229,
   "metadata": {},
   "outputs": [
    {
     "name": "stdout",
     "output_type": "stream",
     "text": [
      "   userid  movieid  rating  timestamp  age  occupation_administrator  \\\n",
      "0       1        3       4  878542960   24                         0   \n",
      "1       1        4       3  876893119   24                         0   \n",
      "2       1        5       3  889751712   24                         0   \n",
      "3       1        6       5  887431973   24                         0   \n",
      "4       1        7       4  875071561   24                         0   \n",
      "\n",
      "   occupation_artist  occupation_doctor  occupation_educator  \\\n",
      "0                  0                  0                    0   \n",
      "1                  0                  0                    0   \n",
      "2                  0                  0                    0   \n",
      "3                  0                  0                    0   \n",
      "4                  0                  0                    0   \n",
      "\n",
      "   occupation_engineer  ...  occupation_marketing  occupation_other  \\\n",
      "0                    0  ...                     0                 0   \n",
      "1                    0  ...                     0                 0   \n",
      "2                    0  ...                     0                 0   \n",
      "3                    0  ...                     0                 0   \n",
      "4                    0  ...                     0                 0   \n",
      "\n",
      "   occupation_programmer  occupation_retired  occupation_salesman  \\\n",
      "0                      0                   0                    0   \n",
      "1                      0                   0                    0   \n",
      "2                      0                   0                    0   \n",
      "3                      0                   0                    0   \n",
      "4                      0                   0                    0   \n",
      "\n",
      "   occupation_scientist  occupation_student  occupation_technician  \\\n",
      "0                     0                   0                      1   \n",
      "1                     0                   0                      1   \n",
      "2                     0                   0                      1   \n",
      "3                     0                   0                      1   \n",
      "4                     0                   0                      1   \n",
      "\n",
      "   occupation_writer  gender_M  \n",
      "0                  0         1  \n",
      "1                  0         1  \n",
      "2                  0         1  \n",
      "3                  0         1  \n",
      "4                  0         1  \n",
      "\n",
      "[5 rows x 26 columns]\n"
     ]
    }
   ],
   "source": [
    "print(Utraindataset2.head(5))"
   ]
  },
  {
   "cell_type": "code",
   "execution_count": 230,
   "metadata": {},
   "outputs": [],
   "source": [
    "Utraindataset2= Utraindataset2[['userid','movieid','age','gender_M','occupation_librarian','occupation_lawyer','occupation_homemaker','occupation_healthcare','occupation_executive','occupation_entertainment','occupation_writer','occupation_technician','occupation_student','occupation_scientist','occupation_salesman','occupation_retired','occupation_programmer','occupation_other','occupation_marketing','occupation_engineer','occupation_educator','occupation_doctor','occupation_administrator','occupation_artist','timestamp','rating']]"
   ]
  },
  {
   "cell_type": "code",
   "execution_count": 231,
   "metadata": {},
   "outputs": [
    {
     "data": {
      "text/html": [
       "<div>\n",
       "<style scoped>\n",
       "    .dataframe tbody tr th:only-of-type {\n",
       "        vertical-align: middle;\n",
       "    }\n",
       "\n",
       "    .dataframe tbody tr th {\n",
       "        vertical-align: top;\n",
       "    }\n",
       "\n",
       "    .dataframe thead th {\n",
       "        text-align: right;\n",
       "    }\n",
       "</style>\n",
       "<table border=\"1\" class=\"dataframe\">\n",
       "  <thead>\n",
       "    <tr style=\"text-align: right;\">\n",
       "      <th></th>\n",
       "      <th>userid</th>\n",
       "      <th>movieid</th>\n",
       "      <th>age</th>\n",
       "      <th>gender_M</th>\n",
       "      <th>occupation_librarian</th>\n",
       "      <th>occupation_lawyer</th>\n",
       "      <th>occupation_homemaker</th>\n",
       "      <th>occupation_healthcare</th>\n",
       "      <th>occupation_executive</th>\n",
       "      <th>occupation_entertainment</th>\n",
       "      <th>...</th>\n",
       "      <th>occupation_programmer</th>\n",
       "      <th>occupation_other</th>\n",
       "      <th>occupation_marketing</th>\n",
       "      <th>occupation_engineer</th>\n",
       "      <th>occupation_educator</th>\n",
       "      <th>occupation_doctor</th>\n",
       "      <th>occupation_administrator</th>\n",
       "      <th>occupation_artist</th>\n",
       "      <th>timestamp</th>\n",
       "      <th>rating</th>\n",
       "    </tr>\n",
       "  </thead>\n",
       "  <tbody>\n",
       "    <tr>\n",
       "      <th>0</th>\n",
       "      <td>1</td>\n",
       "      <td>3</td>\n",
       "      <td>24</td>\n",
       "      <td>1</td>\n",
       "      <td>0</td>\n",
       "      <td>0</td>\n",
       "      <td>0</td>\n",
       "      <td>0</td>\n",
       "      <td>0</td>\n",
       "      <td>0</td>\n",
       "      <td>...</td>\n",
       "      <td>0</td>\n",
       "      <td>0</td>\n",
       "      <td>0</td>\n",
       "      <td>0</td>\n",
       "      <td>0</td>\n",
       "      <td>0</td>\n",
       "      <td>0</td>\n",
       "      <td>0</td>\n",
       "      <td>878542960</td>\n",
       "      <td>4</td>\n",
       "    </tr>\n",
       "    <tr>\n",
       "      <th>1</th>\n",
       "      <td>1</td>\n",
       "      <td>4</td>\n",
       "      <td>24</td>\n",
       "      <td>1</td>\n",
       "      <td>0</td>\n",
       "      <td>0</td>\n",
       "      <td>0</td>\n",
       "      <td>0</td>\n",
       "      <td>0</td>\n",
       "      <td>0</td>\n",
       "      <td>...</td>\n",
       "      <td>0</td>\n",
       "      <td>0</td>\n",
       "      <td>0</td>\n",
       "      <td>0</td>\n",
       "      <td>0</td>\n",
       "      <td>0</td>\n",
       "      <td>0</td>\n",
       "      <td>0</td>\n",
       "      <td>876893119</td>\n",
       "      <td>3</td>\n",
       "    </tr>\n",
       "    <tr>\n",
       "      <th>2</th>\n",
       "      <td>1</td>\n",
       "      <td>5</td>\n",
       "      <td>24</td>\n",
       "      <td>1</td>\n",
       "      <td>0</td>\n",
       "      <td>0</td>\n",
       "      <td>0</td>\n",
       "      <td>0</td>\n",
       "      <td>0</td>\n",
       "      <td>0</td>\n",
       "      <td>...</td>\n",
       "      <td>0</td>\n",
       "      <td>0</td>\n",
       "      <td>0</td>\n",
       "      <td>0</td>\n",
       "      <td>0</td>\n",
       "      <td>0</td>\n",
       "      <td>0</td>\n",
       "      <td>0</td>\n",
       "      <td>889751712</td>\n",
       "      <td>3</td>\n",
       "    </tr>\n",
       "    <tr>\n",
       "      <th>3</th>\n",
       "      <td>1</td>\n",
       "      <td>6</td>\n",
       "      <td>24</td>\n",
       "      <td>1</td>\n",
       "      <td>0</td>\n",
       "      <td>0</td>\n",
       "      <td>0</td>\n",
       "      <td>0</td>\n",
       "      <td>0</td>\n",
       "      <td>0</td>\n",
       "      <td>...</td>\n",
       "      <td>0</td>\n",
       "      <td>0</td>\n",
       "      <td>0</td>\n",
       "      <td>0</td>\n",
       "      <td>0</td>\n",
       "      <td>0</td>\n",
       "      <td>0</td>\n",
       "      <td>0</td>\n",
       "      <td>887431973</td>\n",
       "      <td>5</td>\n",
       "    </tr>\n",
       "    <tr>\n",
       "      <th>4</th>\n",
       "      <td>1</td>\n",
       "      <td>7</td>\n",
       "      <td>24</td>\n",
       "      <td>1</td>\n",
       "      <td>0</td>\n",
       "      <td>0</td>\n",
       "      <td>0</td>\n",
       "      <td>0</td>\n",
       "      <td>0</td>\n",
       "      <td>0</td>\n",
       "      <td>...</td>\n",
       "      <td>0</td>\n",
       "      <td>0</td>\n",
       "      <td>0</td>\n",
       "      <td>0</td>\n",
       "      <td>0</td>\n",
       "      <td>0</td>\n",
       "      <td>0</td>\n",
       "      <td>0</td>\n",
       "      <td>875071561</td>\n",
       "      <td>4</td>\n",
       "    </tr>\n",
       "  </tbody>\n",
       "</table>\n",
       "<p>5 rows × 26 columns</p>\n",
       "</div>"
      ],
      "text/plain": [
       "   userid  movieid  age  gender_M  occupation_librarian  occupation_lawyer  \\\n",
       "0       1        3   24         1                     0                  0   \n",
       "1       1        4   24         1                     0                  0   \n",
       "2       1        5   24         1                     0                  0   \n",
       "3       1        6   24         1                     0                  0   \n",
       "4       1        7   24         1                     0                  0   \n",
       "\n",
       "   occupation_homemaker  occupation_healthcare  occupation_executive  \\\n",
       "0                     0                      0                     0   \n",
       "1                     0                      0                     0   \n",
       "2                     0                      0                     0   \n",
       "3                     0                      0                     0   \n",
       "4                     0                      0                     0   \n",
       "\n",
       "   occupation_entertainment  ...  occupation_programmer  occupation_other  \\\n",
       "0                         0  ...                      0                 0   \n",
       "1                         0  ...                      0                 0   \n",
       "2                         0  ...                      0                 0   \n",
       "3                         0  ...                      0                 0   \n",
       "4                         0  ...                      0                 0   \n",
       "\n",
       "   occupation_marketing  occupation_engineer  occupation_educator  \\\n",
       "0                     0                    0                    0   \n",
       "1                     0                    0                    0   \n",
       "2                     0                    0                    0   \n",
       "3                     0                    0                    0   \n",
       "4                     0                    0                    0   \n",
       "\n",
       "   occupation_doctor  occupation_administrator  occupation_artist  timestamp  \\\n",
       "0                  0                         0                  0  878542960   \n",
       "1                  0                         0                  0  876893119   \n",
       "2                  0                         0                  0  889751712   \n",
       "3                  0                         0                  0  887431973   \n",
       "4                  0                         0                  0  875071561   \n",
       "\n",
       "   rating  \n",
       "0       4  \n",
       "1       3  \n",
       "2       3  \n",
       "3       5  \n",
       "4       4  \n",
       "\n",
       "[5 rows x 26 columns]"
      ]
     },
     "execution_count": 231,
     "metadata": {},
     "output_type": "execute_result"
    }
   ],
   "source": [
    "Utraindataset2.head(5)"
   ]
  },
  {
   "cell_type": "code",
   "execution_count": 232,
   "metadata": {},
   "outputs": [
    {
     "data": {
      "text/plain": [
       "(80000, 26)"
      ]
     },
     "execution_count": 232,
     "metadata": {},
     "output_type": "execute_result"
    }
   ],
   "source": [
    "Utraindataset2.shape"
   ]
  },
  {
   "cell_type": "code",
   "execution_count": 233,
   "metadata": {},
   "outputs": [],
   "source": [
    "#spliting datasets\n",
    "XU2 = Utraindataset2.iloc[:,0:24]\n",
    "yU2 = Utraindataset2.iloc[:,25]\n",
    "X_train, X_test, y_train, y_test = train_test_split(XU2, yU2, random_state=0, test_size = 0.2)"
   ]
  },
  {
   "cell_type": "code",
   "execution_count": 234,
   "metadata": {},
   "outputs": [],
   "source": [
    "#Feature Scaling \n",
    "sc_XU2 = StandardScaler()\n",
    "X_trainu2 = sc_XU2.fit_transform(X_train)\n",
    "X_testu2 = sc_XU2.transform(X_test)"
   ]
  },
  {
   "cell_type": "code",
   "execution_count": 235,
   "metadata": {},
   "outputs": [
    {
     "data": {
      "text/plain": [
       "126.49110640673517"
      ]
     },
     "execution_count": 235,
     "metadata": {},
     "output_type": "execute_result"
    }
   ],
   "source": [
    "math.sqrt(len(y_test))"
   ]
  },
  {
   "cell_type": "code",
   "execution_count": 236,
   "metadata": {},
   "outputs": [],
   "source": [
    "#Defining the model\n",
    "classifier = KNeighborsClassifier(n_neighbors=10, p=2, metric='cosine')"
   ]
  },
  {
   "cell_type": "code",
   "execution_count": 237,
   "metadata": {},
   "outputs": [
    {
     "data": {
      "text/plain": [
       "KNeighborsClassifier(metric='cosine', n_neighbors=10)"
      ]
     },
     "execution_count": 237,
     "metadata": {},
     "output_type": "execute_result"
    }
   ],
   "source": [
    "#fiting the model\n",
    "classifier.fit(X_train, y_train)"
   ]
  },
  {
   "cell_type": "code",
   "execution_count": 238,
   "metadata": {},
   "outputs": [],
   "source": [
    "#predicting the test set results\n",
    "y_pred = classifier.predict(X_test)"
   ]
  },
  {
   "cell_type": "code",
   "execution_count": 240,
   "metadata": {},
   "outputs": [
    {
     "data": {
      "text/plain": [
       "array([4, 5, 4, ..., 4, 2, 4], dtype=int64)"
      ]
     },
     "execution_count": 240,
     "metadata": {},
     "output_type": "execute_result"
    }
   ],
   "source": [
    "y_pred"
   ]
  },
  {
   "cell_type": "code",
   "execution_count": 241,
   "metadata": {},
   "outputs": [
    {
     "name": "stdout",
     "output_type": "stream",
     "text": [
      "[[ 101   89  348  304   86]\n",
      " [  67  157  673  741  176]\n",
      " [ 128  313 1657 1898  455]\n",
      " [ 114  322 1838 2460  684]\n",
      " [  66  174 1058 1590  501]]\n"
     ]
    }
   ],
   "source": [
    "#evaluation model\n",
    "cmU2 = confusion_matrix(y_test, y_pred)\n",
    "print(cmU2)"
   ]
  },
  {
   "cell_type": "code",
   "execution_count": 242,
   "metadata": {},
   "outputs": [
    {
     "name": "stdout",
     "output_type": "stream",
     "text": [
      "0.30475\n"
     ]
    }
   ],
   "source": [
    "#accuracy score\n",
    "print(accuracy_score(y_test, y_pred))"
   ]
  },
  {
   "cell_type": "code",
   "execution_count": 243,
   "metadata": {},
   "outputs": [
    {
     "data": {
      "text/plain": [
       "1.794"
      ]
     },
     "execution_count": 243,
     "metadata": {},
     "output_type": "execute_result"
    }
   ],
   "source": [
    "#mean_squared_error\n",
    "mean_squared_error(y_pred, y_test)"
   ]
  },
  {
   "cell_type": "markdown",
   "metadata": {},
   "source": [
    "# MERGING U.USER DATASET TO U3.BASE DATASET AND USING U3.TEST"
   ]
  },
  {
   "cell_type": "code",
   "execution_count": 244,
   "metadata": {},
   "outputs": [
    {
     "name": "stdout",
     "output_type": "stream",
     "text": [
      "   userid  movieid  rating  timestamp\n",
      "0       1        1       5  874965758\n",
      "1       1        2       3  876893171\n",
      "2       1        3       4  878542960\n",
      "3       1        4       3  876893119\n",
      "4       1        6       5  887431973\n"
     ]
    }
   ],
   "source": [
    "#mporting u3.base dataset\n",
    "features = ['userid','movieid','rating','timestamp']\n",
    "Utraindataset3 = pd.read_csv('ml-100k/u3.base', sep ='\\t', names=features)\n",
    "print(Utraindataset3.head())"
   ]
  },
  {
   "cell_type": "code",
   "execution_count": 245,
   "metadata": {},
   "outputs": [
    {
     "name": "stdout",
     "output_type": "stream",
     "text": [
      "   userid  age gender  occupation zipcode\n",
      "0       1   24      M  technician   85711\n",
      "1       2   53      F       other   94043\n",
      "2       3   23      M      writer   32067\n",
      "3       4   24      M  technician   43537\n",
      "4       5   33      F       other   15213\n"
     ]
    }
   ],
   "source": [
    "#mporting u3.base dataset \n",
    "features = ['userid','age','gender','occupation','zipcode']\n",
    "uUser3 = pd.read_csv('ml-100k/u.user', sep ='|', names=features)\n",
    "print(uUser3.head())"
   ]
  },
  {
   "cell_type": "code",
   "execution_count": 246,
   "metadata": {},
   "outputs": [],
   "source": [
    "#merging the u3.base dataset with the u.user dataset\n",
    "Utraindataset3 = pd.merge(Utraindataset3,uUser, on='userid')"
   ]
  },
  {
   "cell_type": "code",
   "execution_count": 247,
   "metadata": {},
   "outputs": [],
   "source": [
    "Utraindataset3 = pd.get_dummies(Utraindataset3, columns=['occupation', 'gender'])"
   ]
  },
  {
   "cell_type": "code",
   "execution_count": 248,
   "metadata": {},
   "outputs": [
    {
     "data": {
      "text/html": [
       "<div>\n",
       "<style scoped>\n",
       "    .dataframe tbody tr th:only-of-type {\n",
       "        vertical-align: middle;\n",
       "    }\n",
       "\n",
       "    .dataframe tbody tr th {\n",
       "        vertical-align: top;\n",
       "    }\n",
       "\n",
       "    .dataframe thead th {\n",
       "        text-align: right;\n",
       "    }\n",
       "</style>\n",
       "<table border=\"1\" class=\"dataframe\">\n",
       "  <thead>\n",
       "    <tr style=\"text-align: right;\">\n",
       "      <th></th>\n",
       "      <th>userid</th>\n",
       "      <th>movieid</th>\n",
       "      <th>rating</th>\n",
       "      <th>timestamp</th>\n",
       "      <th>age</th>\n",
       "      <th>zipcode</th>\n",
       "      <th>occupation_administrator</th>\n",
       "      <th>occupation_artist</th>\n",
       "      <th>occupation_doctor</th>\n",
       "      <th>occupation_educator</th>\n",
       "      <th>...</th>\n",
       "      <th>occupation_other</th>\n",
       "      <th>occupation_programmer</th>\n",
       "      <th>occupation_retired</th>\n",
       "      <th>occupation_salesman</th>\n",
       "      <th>occupation_scientist</th>\n",
       "      <th>occupation_student</th>\n",
       "      <th>occupation_technician</th>\n",
       "      <th>occupation_writer</th>\n",
       "      <th>gender_F</th>\n",
       "      <th>gender_M</th>\n",
       "    </tr>\n",
       "  </thead>\n",
       "  <tbody>\n",
       "    <tr>\n",
       "      <th>0</th>\n",
       "      <td>1</td>\n",
       "      <td>1</td>\n",
       "      <td>5</td>\n",
       "      <td>874965758</td>\n",
       "      <td>24</td>\n",
       "      <td>85711</td>\n",
       "      <td>0</td>\n",
       "      <td>0</td>\n",
       "      <td>0</td>\n",
       "      <td>0</td>\n",
       "      <td>...</td>\n",
       "      <td>0</td>\n",
       "      <td>0</td>\n",
       "      <td>0</td>\n",
       "      <td>0</td>\n",
       "      <td>0</td>\n",
       "      <td>0</td>\n",
       "      <td>1</td>\n",
       "      <td>0</td>\n",
       "      <td>0</td>\n",
       "      <td>1</td>\n",
       "    </tr>\n",
       "    <tr>\n",
       "      <th>1</th>\n",
       "      <td>1</td>\n",
       "      <td>2</td>\n",
       "      <td>3</td>\n",
       "      <td>876893171</td>\n",
       "      <td>24</td>\n",
       "      <td>85711</td>\n",
       "      <td>0</td>\n",
       "      <td>0</td>\n",
       "      <td>0</td>\n",
       "      <td>0</td>\n",
       "      <td>...</td>\n",
       "      <td>0</td>\n",
       "      <td>0</td>\n",
       "      <td>0</td>\n",
       "      <td>0</td>\n",
       "      <td>0</td>\n",
       "      <td>0</td>\n",
       "      <td>1</td>\n",
       "      <td>0</td>\n",
       "      <td>0</td>\n",
       "      <td>1</td>\n",
       "    </tr>\n",
       "    <tr>\n",
       "      <th>2</th>\n",
       "      <td>1</td>\n",
       "      <td>3</td>\n",
       "      <td>4</td>\n",
       "      <td>878542960</td>\n",
       "      <td>24</td>\n",
       "      <td>85711</td>\n",
       "      <td>0</td>\n",
       "      <td>0</td>\n",
       "      <td>0</td>\n",
       "      <td>0</td>\n",
       "      <td>...</td>\n",
       "      <td>0</td>\n",
       "      <td>0</td>\n",
       "      <td>0</td>\n",
       "      <td>0</td>\n",
       "      <td>0</td>\n",
       "      <td>0</td>\n",
       "      <td>1</td>\n",
       "      <td>0</td>\n",
       "      <td>0</td>\n",
       "      <td>1</td>\n",
       "    </tr>\n",
       "    <tr>\n",
       "      <th>3</th>\n",
       "      <td>1</td>\n",
       "      <td>4</td>\n",
       "      <td>3</td>\n",
       "      <td>876893119</td>\n",
       "      <td>24</td>\n",
       "      <td>85711</td>\n",
       "      <td>0</td>\n",
       "      <td>0</td>\n",
       "      <td>0</td>\n",
       "      <td>0</td>\n",
       "      <td>...</td>\n",
       "      <td>0</td>\n",
       "      <td>0</td>\n",
       "      <td>0</td>\n",
       "      <td>0</td>\n",
       "      <td>0</td>\n",
       "      <td>0</td>\n",
       "      <td>1</td>\n",
       "      <td>0</td>\n",
       "      <td>0</td>\n",
       "      <td>1</td>\n",
       "    </tr>\n",
       "    <tr>\n",
       "      <th>4</th>\n",
       "      <td>1</td>\n",
       "      <td>6</td>\n",
       "      <td>5</td>\n",
       "      <td>887431973</td>\n",
       "      <td>24</td>\n",
       "      <td>85711</td>\n",
       "      <td>0</td>\n",
       "      <td>0</td>\n",
       "      <td>0</td>\n",
       "      <td>0</td>\n",
       "      <td>...</td>\n",
       "      <td>0</td>\n",
       "      <td>0</td>\n",
       "      <td>0</td>\n",
       "      <td>0</td>\n",
       "      <td>0</td>\n",
       "      <td>0</td>\n",
       "      <td>1</td>\n",
       "      <td>0</td>\n",
       "      <td>0</td>\n",
       "      <td>1</td>\n",
       "    </tr>\n",
       "  </tbody>\n",
       "</table>\n",
       "<p>5 rows × 29 columns</p>\n",
       "</div>"
      ],
      "text/plain": [
       "   userid  movieid  rating  timestamp  age zipcode  occupation_administrator  \\\n",
       "0       1        1       5  874965758   24   85711                         0   \n",
       "1       1        2       3  876893171   24   85711                         0   \n",
       "2       1        3       4  878542960   24   85711                         0   \n",
       "3       1        4       3  876893119   24   85711                         0   \n",
       "4       1        6       5  887431973   24   85711                         0   \n",
       "\n",
       "   occupation_artist  occupation_doctor  occupation_educator  ...  \\\n",
       "0                  0                  0                    0  ...   \n",
       "1                  0                  0                    0  ...   \n",
       "2                  0                  0                    0  ...   \n",
       "3                  0                  0                    0  ...   \n",
       "4                  0                  0                    0  ...   \n",
       "\n",
       "   occupation_other  occupation_programmer  occupation_retired  \\\n",
       "0                 0                      0                   0   \n",
       "1                 0                      0                   0   \n",
       "2                 0                      0                   0   \n",
       "3                 0                      0                   0   \n",
       "4                 0                      0                   0   \n",
       "\n",
       "   occupation_salesman  occupation_scientist  occupation_student  \\\n",
       "0                    0                     0                   0   \n",
       "1                    0                     0                   0   \n",
       "2                    0                     0                   0   \n",
       "3                    0                     0                   0   \n",
       "4                    0                     0                   0   \n",
       "\n",
       "   occupation_technician  occupation_writer  gender_F  gender_M  \n",
       "0                      1                  0         0         1  \n",
       "1                      1                  0         0         1  \n",
       "2                      1                  0         0         1  \n",
       "3                      1                  0         0         1  \n",
       "4                      1                  0         0         1  \n",
       "\n",
       "[5 rows x 29 columns]"
      ]
     },
     "execution_count": 248,
     "metadata": {},
     "output_type": "execute_result"
    }
   ],
   "source": [
    "Utraindataset3.head(5)"
   ]
  },
  {
   "cell_type": "code",
   "execution_count": 249,
   "metadata": {},
   "outputs": [],
   "source": [
    "Utraindataset3 = Utraindataset3.drop(['gender_F', 'occupation_none'], axis =1)\n",
    "Utraindataset3 = Utraindataset3.drop(['zipcode'], axis =1)"
   ]
  },
  {
   "cell_type": "code",
   "execution_count": 250,
   "metadata": {},
   "outputs": [
    {
     "name": "stdout",
     "output_type": "stream",
     "text": [
      "   userid  movieid  rating  timestamp  age  occupation_administrator  \\\n",
      "0       1        1       5  874965758   24                         0   \n",
      "1       1        2       3  876893171   24                         0   \n",
      "2       1        3       4  878542960   24                         0   \n",
      "3       1        4       3  876893119   24                         0   \n",
      "4       1        6       5  887431973   24                         0   \n",
      "\n",
      "   occupation_artist  occupation_doctor  occupation_educator  \\\n",
      "0                  0                  0                    0   \n",
      "1                  0                  0                    0   \n",
      "2                  0                  0                    0   \n",
      "3                  0                  0                    0   \n",
      "4                  0                  0                    0   \n",
      "\n",
      "   occupation_engineer  ...  occupation_marketing  occupation_other  \\\n",
      "0                    0  ...                     0                 0   \n",
      "1                    0  ...                     0                 0   \n",
      "2                    0  ...                     0                 0   \n",
      "3                    0  ...                     0                 0   \n",
      "4                    0  ...                     0                 0   \n",
      "\n",
      "   occupation_programmer  occupation_retired  occupation_salesman  \\\n",
      "0                      0                   0                    0   \n",
      "1                      0                   0                    0   \n",
      "2                      0                   0                    0   \n",
      "3                      0                   0                    0   \n",
      "4                      0                   0                    0   \n",
      "\n",
      "   occupation_scientist  occupation_student  occupation_technician  \\\n",
      "0                     0                   0                      1   \n",
      "1                     0                   0                      1   \n",
      "2                     0                   0                      1   \n",
      "3                     0                   0                      1   \n",
      "4                     0                   0                      1   \n",
      "\n",
      "   occupation_writer  gender_M  \n",
      "0                  0         1  \n",
      "1                  0         1  \n",
      "2                  0         1  \n",
      "3                  0         1  \n",
      "4                  0         1  \n",
      "\n",
      "[5 rows x 26 columns]\n"
     ]
    }
   ],
   "source": [
    "print(Utraindataset3.head(5))"
   ]
  },
  {
   "cell_type": "code",
   "execution_count": 251,
   "metadata": {},
   "outputs": [],
   "source": [
    "Utraindataset3= Utraindataset3[['userid','movieid','age','gender_M','occupation_librarian','occupation_lawyer','occupation_homemaker','occupation_healthcare','occupation_executive','occupation_entertainment','occupation_writer','occupation_technician','occupation_student','occupation_scientist','occupation_salesman','occupation_retired','occupation_programmer','occupation_other','occupation_marketing','occupation_engineer','occupation_educator','occupation_doctor','occupation_administrator','occupation_artist','timestamp','rating']]"
   ]
  },
  {
   "cell_type": "code",
   "execution_count": 252,
   "metadata": {},
   "outputs": [
    {
     "data": {
      "text/plain": [
       "(80000, 26)"
      ]
     },
     "execution_count": 252,
     "metadata": {},
     "output_type": "execute_result"
    }
   ],
   "source": [
    "Utraindataset3.shape"
   ]
  },
  {
   "cell_type": "code",
   "execution_count": 253,
   "metadata": {},
   "outputs": [],
   "source": [
    "#spliting datasets\n",
    "XU3 = Utraindataset3.iloc[:,0:24]\n",
    "yU3 = Utraindataset3.iloc[:,25]\n",
    "X_train, X_test, y_train, y_test = train_test_split(XU3, yU3, random_state=0, test_size = 0.2)"
   ]
  },
  {
   "cell_type": "code",
   "execution_count": 254,
   "metadata": {},
   "outputs": [],
   "source": [
    "#Feature Scaling \n",
    "sc_XU3 = StandardScaler()\n",
    "X_trainu3 = sc_XU3.fit_transform(X_train)\n",
    "X_testu3 = sc_XU3.transform(X_test)"
   ]
  },
  {
   "cell_type": "code",
   "execution_count": 255,
   "metadata": {},
   "outputs": [
    {
     "data": {
      "text/plain": [
       "126.49110640673517"
      ]
     },
     "execution_count": 255,
     "metadata": {},
     "output_type": "execute_result"
    }
   ],
   "source": [
    "import math\n",
    "math.sqrt(len(y_test))"
   ]
  },
  {
   "cell_type": "code",
   "execution_count": 256,
   "metadata": {},
   "outputs": [],
   "source": [
    "#Defining the model\n",
    "classifier = KNeighborsClassifier(n_neighbors=10, p=2, metric='cosine')"
   ]
  },
  {
   "cell_type": "code",
   "execution_count": 257,
   "metadata": {},
   "outputs": [
    {
     "data": {
      "text/plain": [
       "KNeighborsClassifier(metric='cosine', n_neighbors=10)"
      ]
     },
     "execution_count": 257,
     "metadata": {},
     "output_type": "execute_result"
    }
   ],
   "source": [
    "#fiting the model\n",
    "classifier.fit(X_train, y_train)"
   ]
  },
  {
   "cell_type": "code",
   "execution_count": 258,
   "metadata": {},
   "outputs": [],
   "source": [
    "#predicting the test set results\n",
    "y_pred = classifier.predict(X_test)"
   ]
  },
  {
   "cell_type": "code",
   "execution_count": 259,
   "metadata": {},
   "outputs": [
    {
     "data": {
      "text/plain": [
       "array([3, 2, 3, ..., 2, 3, 4], dtype=int64)"
      ]
     },
     "execution_count": 259,
     "metadata": {},
     "output_type": "execute_result"
    }
   ],
   "source": [
    "y_pred"
   ]
  },
  {
   "cell_type": "code",
   "execution_count": 260,
   "metadata": {},
   "outputs": [
    {
     "name": "stdout",
     "output_type": "stream",
     "text": [
      "[[ 131   83  318  323   89]\n",
      " [  95  169  675  711  221]\n",
      " [ 147  295 1576 1810  480]\n",
      " [ 121  311 1823 2503  670]\n",
      " [  54  185 1045 1573  592]]\n"
     ]
    }
   ],
   "source": [
    "#evaluation model\n",
    "cmU3 = confusion_matrix(y_test, y_pred)\n",
    "print(cmU3)"
   ]
  },
  {
   "cell_type": "code",
   "execution_count": 261,
   "metadata": {},
   "outputs": [
    {
     "name": "stdout",
     "output_type": "stream",
     "text": [
      "0.3106875\n"
     ]
    }
   ],
   "source": [
    "#accuracy score\n",
    "print(accuracy_score(y_test, y_pred))"
   ]
  },
  {
   "cell_type": "code",
   "execution_count": 262,
   "metadata": {},
   "outputs": [
    {
     "data": {
      "text/plain": [
       "1.813125"
      ]
     },
     "execution_count": 262,
     "metadata": {},
     "output_type": "execute_result"
    }
   ],
   "source": [
    "#mean_squared_error\n",
    "mean_squared_error(y_pred, y_test)"
   ]
  },
  {
   "cell_type": "markdown",
   "metadata": {},
   "source": [
    "# MERGING U.USER DATASET TO U4.BASE DATASET AND USING U4.TEST"
   ]
  },
  {
   "cell_type": "code",
   "execution_count": 265,
   "metadata": {},
   "outputs": [
    {
     "name": "stdout",
     "output_type": "stream",
     "text": [
      "   userid  movieid  rating  timestamp\n",
      "0       1        1       5  874965758\n",
      "1       1        2       3  876893171\n",
      "2       1        3       4  878542960\n",
      "3       1        5       3  889751712\n",
      "4       1        6       5  887431973\n"
     ]
    }
   ],
   "source": [
    "#mporting u4.base dataset ml-100k/\n",
    "features = ['userid','movieid','rating','timestamp']\n",
    "Utraindataset4 = pd.read_csv('ml-100k/u4.base', sep ='\\t', names=features)\n",
    "print(Utraindataset4.head())"
   ]
  },
  {
   "cell_type": "code",
   "execution_count": 266,
   "metadata": {},
   "outputs": [
    {
     "name": "stdout",
     "output_type": "stream",
     "text": [
      "   userid  age gender  occupation zipcode\n",
      "0       1   24      M  technician   85711\n",
      "1       2   53      F       other   94043\n",
      "2       3   23      M      writer   32067\n",
      "3       4   24      M  technician   43537\n",
      "4       5   33      F       other   15213\n"
     ]
    }
   ],
   "source": [
    "#mporting u4.base dataset\n",
    "features = ['userid','age','gender','occupation','zipcode']\n",
    "uUser4 = pd.read_csv('ml-100k/u.user', sep ='|', names=features)\n",
    "print(uUser4.head())"
   ]
  },
  {
   "cell_type": "code",
   "execution_count": 267,
   "metadata": {},
   "outputs": [],
   "source": [
    "#merging the u4.base dataset with the u.user dataset\n",
    "Utraindataset4 = pd.merge(Utraindataset4,uUser, on='userid')"
   ]
  },
  {
   "cell_type": "code",
   "execution_count": 268,
   "metadata": {},
   "outputs": [
    {
     "name": "stdout",
     "output_type": "stream",
     "text": [
      "   userid  movieid  rating  timestamp  age gender  occupation zipcode\n",
      "0       1        1       5  874965758   24      M  technician   85711\n",
      "1       1        2       3  876893171   24      M  technician   85711\n",
      "2       1        3       4  878542960   24      M  technician   85711\n",
      "3       1        5       3  889751712   24      M  technician   85711\n",
      "4       1        6       5  887431973   24      M  technician   85711\n"
     ]
    }
   ],
   "source": [
    "print(Utraindataset4.head())"
   ]
  },
  {
   "cell_type": "code",
   "execution_count": 269,
   "metadata": {},
   "outputs": [],
   "source": [
    "Utraindataset4 = pd.get_dummies(Utraindataset4, columns=['occupation', 'gender'])"
   ]
  },
  {
   "cell_type": "code",
   "execution_count": 270,
   "metadata": {},
   "outputs": [
    {
     "data": {
      "text/html": [
       "<div>\n",
       "<style scoped>\n",
       "    .dataframe tbody tr th:only-of-type {\n",
       "        vertical-align: middle;\n",
       "    }\n",
       "\n",
       "    .dataframe tbody tr th {\n",
       "        vertical-align: top;\n",
       "    }\n",
       "\n",
       "    .dataframe thead th {\n",
       "        text-align: right;\n",
       "    }\n",
       "</style>\n",
       "<table border=\"1\" class=\"dataframe\">\n",
       "  <thead>\n",
       "    <tr style=\"text-align: right;\">\n",
       "      <th></th>\n",
       "      <th>userid</th>\n",
       "      <th>movieid</th>\n",
       "      <th>rating</th>\n",
       "      <th>timestamp</th>\n",
       "      <th>age</th>\n",
       "      <th>zipcode</th>\n",
       "      <th>occupation_administrator</th>\n",
       "      <th>occupation_artist</th>\n",
       "      <th>occupation_doctor</th>\n",
       "      <th>occupation_educator</th>\n",
       "      <th>...</th>\n",
       "      <th>occupation_other</th>\n",
       "      <th>occupation_programmer</th>\n",
       "      <th>occupation_retired</th>\n",
       "      <th>occupation_salesman</th>\n",
       "      <th>occupation_scientist</th>\n",
       "      <th>occupation_student</th>\n",
       "      <th>occupation_technician</th>\n",
       "      <th>occupation_writer</th>\n",
       "      <th>gender_F</th>\n",
       "      <th>gender_M</th>\n",
       "    </tr>\n",
       "  </thead>\n",
       "  <tbody>\n",
       "    <tr>\n",
       "      <th>0</th>\n",
       "      <td>1</td>\n",
       "      <td>1</td>\n",
       "      <td>5</td>\n",
       "      <td>874965758</td>\n",
       "      <td>24</td>\n",
       "      <td>85711</td>\n",
       "      <td>0</td>\n",
       "      <td>0</td>\n",
       "      <td>0</td>\n",
       "      <td>0</td>\n",
       "      <td>...</td>\n",
       "      <td>0</td>\n",
       "      <td>0</td>\n",
       "      <td>0</td>\n",
       "      <td>0</td>\n",
       "      <td>0</td>\n",
       "      <td>0</td>\n",
       "      <td>1</td>\n",
       "      <td>0</td>\n",
       "      <td>0</td>\n",
       "      <td>1</td>\n",
       "    </tr>\n",
       "    <tr>\n",
       "      <th>1</th>\n",
       "      <td>1</td>\n",
       "      <td>2</td>\n",
       "      <td>3</td>\n",
       "      <td>876893171</td>\n",
       "      <td>24</td>\n",
       "      <td>85711</td>\n",
       "      <td>0</td>\n",
       "      <td>0</td>\n",
       "      <td>0</td>\n",
       "      <td>0</td>\n",
       "      <td>...</td>\n",
       "      <td>0</td>\n",
       "      <td>0</td>\n",
       "      <td>0</td>\n",
       "      <td>0</td>\n",
       "      <td>0</td>\n",
       "      <td>0</td>\n",
       "      <td>1</td>\n",
       "      <td>0</td>\n",
       "      <td>0</td>\n",
       "      <td>1</td>\n",
       "    </tr>\n",
       "    <tr>\n",
       "      <th>2</th>\n",
       "      <td>1</td>\n",
       "      <td>3</td>\n",
       "      <td>4</td>\n",
       "      <td>878542960</td>\n",
       "      <td>24</td>\n",
       "      <td>85711</td>\n",
       "      <td>0</td>\n",
       "      <td>0</td>\n",
       "      <td>0</td>\n",
       "      <td>0</td>\n",
       "      <td>...</td>\n",
       "      <td>0</td>\n",
       "      <td>0</td>\n",
       "      <td>0</td>\n",
       "      <td>0</td>\n",
       "      <td>0</td>\n",
       "      <td>0</td>\n",
       "      <td>1</td>\n",
       "      <td>0</td>\n",
       "      <td>0</td>\n",
       "      <td>1</td>\n",
       "    </tr>\n",
       "    <tr>\n",
       "      <th>3</th>\n",
       "      <td>1</td>\n",
       "      <td>5</td>\n",
       "      <td>3</td>\n",
       "      <td>889751712</td>\n",
       "      <td>24</td>\n",
       "      <td>85711</td>\n",
       "      <td>0</td>\n",
       "      <td>0</td>\n",
       "      <td>0</td>\n",
       "      <td>0</td>\n",
       "      <td>...</td>\n",
       "      <td>0</td>\n",
       "      <td>0</td>\n",
       "      <td>0</td>\n",
       "      <td>0</td>\n",
       "      <td>0</td>\n",
       "      <td>0</td>\n",
       "      <td>1</td>\n",
       "      <td>0</td>\n",
       "      <td>0</td>\n",
       "      <td>1</td>\n",
       "    </tr>\n",
       "    <tr>\n",
       "      <th>4</th>\n",
       "      <td>1</td>\n",
       "      <td>6</td>\n",
       "      <td>5</td>\n",
       "      <td>887431973</td>\n",
       "      <td>24</td>\n",
       "      <td>85711</td>\n",
       "      <td>0</td>\n",
       "      <td>0</td>\n",
       "      <td>0</td>\n",
       "      <td>0</td>\n",
       "      <td>...</td>\n",
       "      <td>0</td>\n",
       "      <td>0</td>\n",
       "      <td>0</td>\n",
       "      <td>0</td>\n",
       "      <td>0</td>\n",
       "      <td>0</td>\n",
       "      <td>1</td>\n",
       "      <td>0</td>\n",
       "      <td>0</td>\n",
       "      <td>1</td>\n",
       "    </tr>\n",
       "  </tbody>\n",
       "</table>\n",
       "<p>5 rows × 29 columns</p>\n",
       "</div>"
      ],
      "text/plain": [
       "   userid  movieid  rating  timestamp  age zipcode  occupation_administrator  \\\n",
       "0       1        1       5  874965758   24   85711                         0   \n",
       "1       1        2       3  876893171   24   85711                         0   \n",
       "2       1        3       4  878542960   24   85711                         0   \n",
       "3       1        5       3  889751712   24   85711                         0   \n",
       "4       1        6       5  887431973   24   85711                         0   \n",
       "\n",
       "   occupation_artist  occupation_doctor  occupation_educator  ...  \\\n",
       "0                  0                  0                    0  ...   \n",
       "1                  0                  0                    0  ...   \n",
       "2                  0                  0                    0  ...   \n",
       "3                  0                  0                    0  ...   \n",
       "4                  0                  0                    0  ...   \n",
       "\n",
       "   occupation_other  occupation_programmer  occupation_retired  \\\n",
       "0                 0                      0                   0   \n",
       "1                 0                      0                   0   \n",
       "2                 0                      0                   0   \n",
       "3                 0                      0                   0   \n",
       "4                 0                      0                   0   \n",
       "\n",
       "   occupation_salesman  occupation_scientist  occupation_student  \\\n",
       "0                    0                     0                   0   \n",
       "1                    0                     0                   0   \n",
       "2                    0                     0                   0   \n",
       "3                    0                     0                   0   \n",
       "4                    0                     0                   0   \n",
       "\n",
       "   occupation_technician  occupation_writer  gender_F  gender_M  \n",
       "0                      1                  0         0         1  \n",
       "1                      1                  0         0         1  \n",
       "2                      1                  0         0         1  \n",
       "3                      1                  0         0         1  \n",
       "4                      1                  0         0         1  \n",
       "\n",
       "[5 rows x 29 columns]"
      ]
     },
     "execution_count": 270,
     "metadata": {},
     "output_type": "execute_result"
    }
   ],
   "source": [
    "Utraindataset4.head(5)"
   ]
  },
  {
   "cell_type": "code",
   "execution_count": 271,
   "metadata": {},
   "outputs": [],
   "source": [
    "Utraindataset4 = Utraindataset4.drop(['gender_F', 'occupation_none'], axis =1)\n",
    "Utraindataset4 = Utraindataset4.drop(['zipcode'], axis =1)"
   ]
  },
  {
   "cell_type": "code",
   "execution_count": 272,
   "metadata": {},
   "outputs": [
    {
     "name": "stdout",
     "output_type": "stream",
     "text": [
      "   userid  movieid  rating  timestamp  age  occupation_administrator  \\\n",
      "0       1        1       5  874965758   24                         0   \n",
      "1       1        2       3  876893171   24                         0   \n",
      "2       1        3       4  878542960   24                         0   \n",
      "3       1        5       3  889751712   24                         0   \n",
      "4       1        6       5  887431973   24                         0   \n",
      "\n",
      "   occupation_artist  occupation_doctor  occupation_educator  \\\n",
      "0                  0                  0                    0   \n",
      "1                  0                  0                    0   \n",
      "2                  0                  0                    0   \n",
      "3                  0                  0                    0   \n",
      "4                  0                  0                    0   \n",
      "\n",
      "   occupation_engineer  ...  occupation_marketing  occupation_other  \\\n",
      "0                    0  ...                     0                 0   \n",
      "1                    0  ...                     0                 0   \n",
      "2                    0  ...                     0                 0   \n",
      "3                    0  ...                     0                 0   \n",
      "4                    0  ...                     0                 0   \n",
      "\n",
      "   occupation_programmer  occupation_retired  occupation_salesman  \\\n",
      "0                      0                   0                    0   \n",
      "1                      0                   0                    0   \n",
      "2                      0                   0                    0   \n",
      "3                      0                   0                    0   \n",
      "4                      0                   0                    0   \n",
      "\n",
      "   occupation_scientist  occupation_student  occupation_technician  \\\n",
      "0                     0                   0                      1   \n",
      "1                     0                   0                      1   \n",
      "2                     0                   0                      1   \n",
      "3                     0                   0                      1   \n",
      "4                     0                   0                      1   \n",
      "\n",
      "   occupation_writer  gender_M  \n",
      "0                  0         1  \n",
      "1                  0         1  \n",
      "2                  0         1  \n",
      "3                  0         1  \n",
      "4                  0         1  \n",
      "\n",
      "[5 rows x 26 columns]\n"
     ]
    }
   ],
   "source": [
    "print(Utraindataset4.head(5))"
   ]
  },
  {
   "cell_type": "code",
   "execution_count": 273,
   "metadata": {},
   "outputs": [],
   "source": [
    "Utraindataset4= Utraindataset4[['userid','movieid','age','gender_M','occupation_librarian','occupation_lawyer','occupation_homemaker','occupation_healthcare','occupation_executive','occupation_entertainment','occupation_writer','occupation_technician','occupation_student','occupation_scientist','occupation_salesman','occupation_retired','occupation_programmer','occupation_other','occupation_marketing','occupation_engineer','occupation_educator','occupation_doctor','occupation_administrator','occupation_artist','timestamp','rating']]"
   ]
  },
  {
   "cell_type": "code",
   "execution_count": 274,
   "metadata": {},
   "outputs": [
    {
     "data": {
      "text/plain": [
       "(80000, 26)"
      ]
     },
     "execution_count": 274,
     "metadata": {},
     "output_type": "execute_result"
    }
   ],
   "source": [
    "Utraindataset4.shape"
   ]
  },
  {
   "cell_type": "code",
   "execution_count": 275,
   "metadata": {},
   "outputs": [],
   "source": [
    "#spliting datasets\n",
    "XU4 = Utraindataset4.iloc[:,0:24]\n",
    "yU4 = Utraindataset4.iloc[:,25]\n",
    "X_train, X_test, y_train, y_test = train_test_split(XU4, yU4, random_state=0, test_size = 0.2)"
   ]
  },
  {
   "cell_type": "code",
   "execution_count": 276,
   "metadata": {},
   "outputs": [],
   "source": [
    "#Feature Scaling \n",
    "sc_XU4 = StandardScaler()\n",
    "X_trainu4 = sc_XU4.fit_transform(X_train)\n",
    "X_testu4 = sc_XU4.transform(X_test)"
   ]
  },
  {
   "cell_type": "code",
   "execution_count": 277,
   "metadata": {},
   "outputs": [
    {
     "data": {
      "text/plain": [
       "126.49110640673517"
      ]
     },
     "execution_count": 277,
     "metadata": {},
     "output_type": "execute_result"
    }
   ],
   "source": [
    "import math\n",
    "math.sqrt(len(y_test))"
   ]
  },
  {
   "cell_type": "code",
   "execution_count": 278,
   "metadata": {},
   "outputs": [],
   "source": [
    "#Defining the model\n",
    "classifier = KNeighborsClassifier(n_neighbors=10, p=2, metric='cosine')"
   ]
  },
  {
   "cell_type": "code",
   "execution_count": 279,
   "metadata": {},
   "outputs": [
    {
     "data": {
      "text/plain": [
       "KNeighborsClassifier(metric='cosine', n_neighbors=10)"
      ]
     },
     "execution_count": 279,
     "metadata": {},
     "output_type": "execute_result"
    }
   ],
   "source": [
    "#fiting the model\n",
    "classifier.fit(X_train, y_train)"
   ]
  },
  {
   "cell_type": "code",
   "execution_count": 280,
   "metadata": {},
   "outputs": [],
   "source": [
    "#predicting the test set results\n",
    "y_pred = classifier.predict(X_test)"
   ]
  },
  {
   "cell_type": "code",
   "execution_count": 281,
   "metadata": {},
   "outputs": [
    {
     "data": {
      "text/plain": [
       "array([4, 3, 3, ..., 5, 4, 4], dtype=int64)"
      ]
     },
     "execution_count": 281,
     "metadata": {},
     "output_type": "execute_result"
    }
   ],
   "source": [
    "y_pred"
   ]
  },
  {
   "cell_type": "code",
   "execution_count": 282,
   "metadata": {},
   "outputs": [
    {
     "name": "stdout",
     "output_type": "stream",
     "text": [
      "[[ 144  106  344  368   81]\n",
      " [  80  145  700  699  174]\n",
      " [ 118  309 1541 1928  458]\n",
      " [ 121  286 1835 2470  702]\n",
      " [  58  154 1044 1568  567]]\n"
     ]
    }
   ],
   "source": [
    "#evaluation model\n",
    "cmU4 = confusion_matrix(y_test, y_pred)\n",
    "print(cmU4)"
   ]
  },
  {
   "cell_type": "code",
   "execution_count": 283,
   "metadata": {},
   "outputs": [
    {
     "name": "stdout",
     "output_type": "stream",
     "text": [
      "0.3041875\n"
     ]
    }
   ],
   "source": [
    "#accuracy score\n",
    "print(accuracy_score(y_test, y_pred))"
   ]
  },
  {
   "cell_type": "code",
   "execution_count": 284,
   "metadata": {},
   "outputs": [
    {
     "data": {
      "text/plain": [
       "1.7875625"
      ]
     },
     "execution_count": 284,
     "metadata": {},
     "output_type": "execute_result"
    }
   ],
   "source": [
    "#mean_squared_error\n",
    "mean_squared_error(y_pred, y_test)"
   ]
  },
  {
   "cell_type": "markdown",
   "metadata": {},
   "source": [
    "# MERGING U.USER DATASET TO U5.BASE DATASET AND USING U5.TEST"
   ]
  },
  {
   "cell_type": "code",
   "execution_count": 286,
   "metadata": {},
   "outputs": [
    {
     "name": "stdout",
     "output_type": "stream",
     "text": [
      "   userid  movieid  rating  timestamp\n",
      "0       1        1       5  874965758\n",
      "1       1        2       3  876893171\n",
      "2       1        4       3  876893119\n",
      "3       1        5       3  889751712\n",
      "4       1        6       5  887431973\n"
     ]
    }
   ],
   "source": [
    "#mporting u4.base dataset\n",
    "features = ['userid','movieid','rating','timestamp']\n",
    "Utraindataset5 = pd.read_csv('ml-100k/u5.base', sep ='\\t', names=features)\n",
    "print(Utraindataset5.head())"
   ]
  },
  {
   "cell_type": "code",
   "execution_count": 287,
   "metadata": {},
   "outputs": [
    {
     "name": "stdout",
     "output_type": "stream",
     "text": [
      "   userid  age gender  occupation zipcode\n",
      "0       1   24      M  technician   85711\n",
      "1       2   53      F       other   94043\n",
      "2       3   23      M      writer   32067\n",
      "3       4   24      M  technician   43537\n",
      "4       5   33      F       other   15213\n"
     ]
    }
   ],
   "source": [
    "#mporting u4.base dataset\n",
    "features = ['userid','age','gender','occupation','zipcode']\n",
    "uUser5 = pd.read_csv('ml-100k/u.user', sep ='|', names=features)\n",
    "print(uUser5.head())"
   ]
  },
  {
   "cell_type": "code",
   "execution_count": 288,
   "metadata": {},
   "outputs": [],
   "source": [
    "#merging the u4.base dataset with the u.user dataset\n",
    "Utraindataset5 = pd.merge(Utraindataset5,uUser, on='userid')"
   ]
  },
  {
   "cell_type": "code",
   "execution_count": 289,
   "metadata": {},
   "outputs": [
    {
     "name": "stdout",
     "output_type": "stream",
     "text": [
      "   userid  movieid  rating  timestamp  age gender  occupation zipcode\n",
      "0       1        1       5  874965758   24      M  technician   85711\n",
      "1       1        2       3  876893171   24      M  technician   85711\n",
      "2       1        4       3  876893119   24      M  technician   85711\n",
      "3       1        5       3  889751712   24      M  technician   85711\n",
      "4       1        6       5  887431973   24      M  technician   85711\n"
     ]
    }
   ],
   "source": [
    "print(Utraindataset5.head())"
   ]
  },
  {
   "cell_type": "code",
   "execution_count": 290,
   "metadata": {},
   "outputs": [],
   "source": [
    "Utraindataset5 = pd.get_dummies(Utraindataset5, columns=['occupation', 'gender'])"
   ]
  },
  {
   "cell_type": "code",
   "execution_count": 291,
   "metadata": {},
   "outputs": [
    {
     "data": {
      "text/html": [
       "<div>\n",
       "<style scoped>\n",
       "    .dataframe tbody tr th:only-of-type {\n",
       "        vertical-align: middle;\n",
       "    }\n",
       "\n",
       "    .dataframe tbody tr th {\n",
       "        vertical-align: top;\n",
       "    }\n",
       "\n",
       "    .dataframe thead th {\n",
       "        text-align: right;\n",
       "    }\n",
       "</style>\n",
       "<table border=\"1\" class=\"dataframe\">\n",
       "  <thead>\n",
       "    <tr style=\"text-align: right;\">\n",
       "      <th></th>\n",
       "      <th>userid</th>\n",
       "      <th>movieid</th>\n",
       "      <th>rating</th>\n",
       "      <th>timestamp</th>\n",
       "      <th>age</th>\n",
       "      <th>zipcode</th>\n",
       "      <th>occupation_administrator</th>\n",
       "      <th>occupation_artist</th>\n",
       "      <th>occupation_doctor</th>\n",
       "      <th>occupation_educator</th>\n",
       "      <th>...</th>\n",
       "      <th>occupation_other</th>\n",
       "      <th>occupation_programmer</th>\n",
       "      <th>occupation_retired</th>\n",
       "      <th>occupation_salesman</th>\n",
       "      <th>occupation_scientist</th>\n",
       "      <th>occupation_student</th>\n",
       "      <th>occupation_technician</th>\n",
       "      <th>occupation_writer</th>\n",
       "      <th>gender_F</th>\n",
       "      <th>gender_M</th>\n",
       "    </tr>\n",
       "  </thead>\n",
       "  <tbody>\n",
       "    <tr>\n",
       "      <th>0</th>\n",
       "      <td>1</td>\n",
       "      <td>1</td>\n",
       "      <td>5</td>\n",
       "      <td>874965758</td>\n",
       "      <td>24</td>\n",
       "      <td>85711</td>\n",
       "      <td>0</td>\n",
       "      <td>0</td>\n",
       "      <td>0</td>\n",
       "      <td>0</td>\n",
       "      <td>...</td>\n",
       "      <td>0</td>\n",
       "      <td>0</td>\n",
       "      <td>0</td>\n",
       "      <td>0</td>\n",
       "      <td>0</td>\n",
       "      <td>0</td>\n",
       "      <td>1</td>\n",
       "      <td>0</td>\n",
       "      <td>0</td>\n",
       "      <td>1</td>\n",
       "    </tr>\n",
       "    <tr>\n",
       "      <th>1</th>\n",
       "      <td>1</td>\n",
       "      <td>2</td>\n",
       "      <td>3</td>\n",
       "      <td>876893171</td>\n",
       "      <td>24</td>\n",
       "      <td>85711</td>\n",
       "      <td>0</td>\n",
       "      <td>0</td>\n",
       "      <td>0</td>\n",
       "      <td>0</td>\n",
       "      <td>...</td>\n",
       "      <td>0</td>\n",
       "      <td>0</td>\n",
       "      <td>0</td>\n",
       "      <td>0</td>\n",
       "      <td>0</td>\n",
       "      <td>0</td>\n",
       "      <td>1</td>\n",
       "      <td>0</td>\n",
       "      <td>0</td>\n",
       "      <td>1</td>\n",
       "    </tr>\n",
       "    <tr>\n",
       "      <th>2</th>\n",
       "      <td>1</td>\n",
       "      <td>4</td>\n",
       "      <td>3</td>\n",
       "      <td>876893119</td>\n",
       "      <td>24</td>\n",
       "      <td>85711</td>\n",
       "      <td>0</td>\n",
       "      <td>0</td>\n",
       "      <td>0</td>\n",
       "      <td>0</td>\n",
       "      <td>...</td>\n",
       "      <td>0</td>\n",
       "      <td>0</td>\n",
       "      <td>0</td>\n",
       "      <td>0</td>\n",
       "      <td>0</td>\n",
       "      <td>0</td>\n",
       "      <td>1</td>\n",
       "      <td>0</td>\n",
       "      <td>0</td>\n",
       "      <td>1</td>\n",
       "    </tr>\n",
       "    <tr>\n",
       "      <th>3</th>\n",
       "      <td>1</td>\n",
       "      <td>5</td>\n",
       "      <td>3</td>\n",
       "      <td>889751712</td>\n",
       "      <td>24</td>\n",
       "      <td>85711</td>\n",
       "      <td>0</td>\n",
       "      <td>0</td>\n",
       "      <td>0</td>\n",
       "      <td>0</td>\n",
       "      <td>...</td>\n",
       "      <td>0</td>\n",
       "      <td>0</td>\n",
       "      <td>0</td>\n",
       "      <td>0</td>\n",
       "      <td>0</td>\n",
       "      <td>0</td>\n",
       "      <td>1</td>\n",
       "      <td>0</td>\n",
       "      <td>0</td>\n",
       "      <td>1</td>\n",
       "    </tr>\n",
       "    <tr>\n",
       "      <th>4</th>\n",
       "      <td>1</td>\n",
       "      <td>6</td>\n",
       "      <td>5</td>\n",
       "      <td>887431973</td>\n",
       "      <td>24</td>\n",
       "      <td>85711</td>\n",
       "      <td>0</td>\n",
       "      <td>0</td>\n",
       "      <td>0</td>\n",
       "      <td>0</td>\n",
       "      <td>...</td>\n",
       "      <td>0</td>\n",
       "      <td>0</td>\n",
       "      <td>0</td>\n",
       "      <td>0</td>\n",
       "      <td>0</td>\n",
       "      <td>0</td>\n",
       "      <td>1</td>\n",
       "      <td>0</td>\n",
       "      <td>0</td>\n",
       "      <td>1</td>\n",
       "    </tr>\n",
       "  </tbody>\n",
       "</table>\n",
       "<p>5 rows × 29 columns</p>\n",
       "</div>"
      ],
      "text/plain": [
       "   userid  movieid  rating  timestamp  age zipcode  occupation_administrator  \\\n",
       "0       1        1       5  874965758   24   85711                         0   \n",
       "1       1        2       3  876893171   24   85711                         0   \n",
       "2       1        4       3  876893119   24   85711                         0   \n",
       "3       1        5       3  889751712   24   85711                         0   \n",
       "4       1        6       5  887431973   24   85711                         0   \n",
       "\n",
       "   occupation_artist  occupation_doctor  occupation_educator  ...  \\\n",
       "0                  0                  0                    0  ...   \n",
       "1                  0                  0                    0  ...   \n",
       "2                  0                  0                    0  ...   \n",
       "3                  0                  0                    0  ...   \n",
       "4                  0                  0                    0  ...   \n",
       "\n",
       "   occupation_other  occupation_programmer  occupation_retired  \\\n",
       "0                 0                      0                   0   \n",
       "1                 0                      0                   0   \n",
       "2                 0                      0                   0   \n",
       "3                 0                      0                   0   \n",
       "4                 0                      0                   0   \n",
       "\n",
       "   occupation_salesman  occupation_scientist  occupation_student  \\\n",
       "0                    0                     0                   0   \n",
       "1                    0                     0                   0   \n",
       "2                    0                     0                   0   \n",
       "3                    0                     0                   0   \n",
       "4                    0                     0                   0   \n",
       "\n",
       "   occupation_technician  occupation_writer  gender_F  gender_M  \n",
       "0                      1                  0         0         1  \n",
       "1                      1                  0         0         1  \n",
       "2                      1                  0         0         1  \n",
       "3                      1                  0         0         1  \n",
       "4                      1                  0         0         1  \n",
       "\n",
       "[5 rows x 29 columns]"
      ]
     },
     "execution_count": 291,
     "metadata": {},
     "output_type": "execute_result"
    }
   ],
   "source": [
    "Utraindataset5.head(5)"
   ]
  },
  {
   "cell_type": "code",
   "execution_count": 292,
   "metadata": {},
   "outputs": [],
   "source": [
    "Utraindataset5 = Utraindataset5.drop(['gender_F', 'occupation_none'], axis =1)\n",
    "Utraindataset5 = Utraindataset5.drop(['zipcode'], axis =1)"
   ]
  },
  {
   "cell_type": "code",
   "execution_count": 293,
   "metadata": {},
   "outputs": [
    {
     "name": "stdout",
     "output_type": "stream",
     "text": [
      "   userid  movieid  rating  timestamp  age  occupation_administrator  \\\n",
      "0       1        1       5  874965758   24                         0   \n",
      "1       1        2       3  876893171   24                         0   \n",
      "2       1        4       3  876893119   24                         0   \n",
      "3       1        5       3  889751712   24                         0   \n",
      "4       1        6       5  887431973   24                         0   \n",
      "\n",
      "   occupation_artist  occupation_doctor  occupation_educator  \\\n",
      "0                  0                  0                    0   \n",
      "1                  0                  0                    0   \n",
      "2                  0                  0                    0   \n",
      "3                  0                  0                    0   \n",
      "4                  0                  0                    0   \n",
      "\n",
      "   occupation_engineer  ...  occupation_marketing  occupation_other  \\\n",
      "0                    0  ...                     0                 0   \n",
      "1                    0  ...                     0                 0   \n",
      "2                    0  ...                     0                 0   \n",
      "3                    0  ...                     0                 0   \n",
      "4                    0  ...                     0                 0   \n",
      "\n",
      "   occupation_programmer  occupation_retired  occupation_salesman  \\\n",
      "0                      0                   0                    0   \n",
      "1                      0                   0                    0   \n",
      "2                      0                   0                    0   \n",
      "3                      0                   0                    0   \n",
      "4                      0                   0                    0   \n",
      "\n",
      "   occupation_scientist  occupation_student  occupation_technician  \\\n",
      "0                     0                   0                      1   \n",
      "1                     0                   0                      1   \n",
      "2                     0                   0                      1   \n",
      "3                     0                   0                      1   \n",
      "4                     0                   0                      1   \n",
      "\n",
      "   occupation_writer  gender_M  \n",
      "0                  0         1  \n",
      "1                  0         1  \n",
      "2                  0         1  \n",
      "3                  0         1  \n",
      "4                  0         1  \n",
      "\n",
      "[5 rows x 26 columns]\n"
     ]
    }
   ],
   "source": [
    "print(Utraindataset5.head(5))"
   ]
  },
  {
   "cell_type": "code",
   "execution_count": 294,
   "metadata": {},
   "outputs": [],
   "source": [
    "Utraindataset5= Utraindataset5[['userid','movieid','age','gender_M','occupation_librarian','occupation_lawyer','occupation_homemaker','occupation_healthcare','occupation_executive','occupation_entertainment','occupation_writer','occupation_technician','occupation_student','occupation_scientist','occupation_salesman','occupation_retired','occupation_programmer','occupation_other','occupation_marketing','occupation_engineer','occupation_educator','occupation_doctor','occupation_administrator','occupation_artist','timestamp','rating']]"
   ]
  },
  {
   "cell_type": "code",
   "execution_count": 295,
   "metadata": {},
   "outputs": [
    {
     "data": {
      "text/plain": [
       "(80000, 26)"
      ]
     },
     "execution_count": 295,
     "metadata": {},
     "output_type": "execute_result"
    }
   ],
   "source": [
    "Utraindataset5.shape"
   ]
  },
  {
   "cell_type": "code",
   "execution_count": 296,
   "metadata": {},
   "outputs": [],
   "source": [
    "#spliting datasets\n",
    "XU5 = Utraindataset5.iloc[:,0:24]\n",
    "yU5 = Utraindataset5.iloc[:,25]\n",
    "X_train, X_test, y_train, y_test = train_test_split(XU5, yU5, random_state=0, test_size = 0.2)"
   ]
  },
  {
   "cell_type": "code",
   "execution_count": 297,
   "metadata": {},
   "outputs": [],
   "source": [
    "#Feature Scaling \n",
    "sc_XU5 = StandardScaler()\n",
    "X_trainu5 = sc_XU5.fit_transform(X_train)\n",
    "X_testu5 = sc_XU5.transform(X_test)"
   ]
  },
  {
   "cell_type": "code",
   "execution_count": 298,
   "metadata": {},
   "outputs": [
    {
     "data": {
      "text/plain": [
       "126.49110640673517"
      ]
     },
     "execution_count": 298,
     "metadata": {},
     "output_type": "execute_result"
    }
   ],
   "source": [
    "import math\n",
    "math.sqrt(len(y_test))"
   ]
  },
  {
   "cell_type": "code",
   "execution_count": 299,
   "metadata": {},
   "outputs": [],
   "source": [
    "#Defining the model\n",
    "classifier = KNeighborsClassifier(n_neighbors=10, p=2, metric='cosine')"
   ]
  },
  {
   "cell_type": "code",
   "execution_count": 300,
   "metadata": {},
   "outputs": [
    {
     "data": {
      "text/plain": [
       "KNeighborsClassifier(metric='cosine', n_neighbors=10)"
      ]
     },
     "execution_count": 300,
     "metadata": {},
     "output_type": "execute_result"
    }
   ],
   "source": [
    "#fiting the model\n",
    "classifier.fit(X_train, y_train)"
   ]
  },
  {
   "cell_type": "code",
   "execution_count": 301,
   "metadata": {},
   "outputs": [],
   "source": [
    "#predicting the test set results\n",
    "y_pred = classifier.predict(X_test)"
   ]
  },
  {
   "cell_type": "code",
   "execution_count": 302,
   "metadata": {},
   "outputs": [
    {
     "data": {
      "text/plain": [
       "array([2, 4, 4, ..., 4, 3, 3], dtype=int64)"
      ]
     },
     "execution_count": 302,
     "metadata": {},
     "output_type": "execute_result"
    }
   ],
   "source": [
    "y_pred"
   ]
  },
  {
   "cell_type": "code",
   "execution_count": 303,
   "metadata": {},
   "outputs": [
    {
     "name": "stdout",
     "output_type": "stream",
     "text": [
      "[[ 143   83  318  332   73]\n",
      " [  66  171  650  734  176]\n",
      " [ 126  311 1581 1923  480]\n",
      " [ 122  335 1804 2523  662]\n",
      " [  68  148  991 1628  552]]\n"
     ]
    }
   ],
   "source": [
    "#evaluation model\n",
    "cmU5 = confusion_matrix(y_test, y_pred)\n",
    "print(cmU5)"
   ]
  },
  {
   "cell_type": "code",
   "execution_count": 304,
   "metadata": {},
   "outputs": [
    {
     "name": "stdout",
     "output_type": "stream",
     "text": [
      "0.310625\n"
     ]
    }
   ],
   "source": [
    "#accuracy score\n",
    "print(accuracy_score(y_test, y_pred))"
   ]
  },
  {
   "cell_type": "code",
   "execution_count": 305,
   "metadata": {},
   "outputs": [
    {
     "data": {
      "text/plain": [
       "1.7700625"
      ]
     },
     "execution_count": 305,
     "metadata": {},
     "output_type": "execute_result"
    }
   ],
   "source": [
    "#mean_squared_error\n",
    "mean_squared_error(y_pred, y_test)"
   ]
  },
  {
   "cell_type": "markdown",
   "metadata": {},
   "source": [
    "# TASK2 - FINDING RECOMMENDED MOVIES BASED ON MOVIE ID"
   ]
  },
  {
   "cell_type": "code",
   "execution_count": 311,
   "metadata": {},
   "outputs": [],
   "source": [
    "# Get ratings people give to movies\n",
    "features = ['user_id', 'movie_id', 'rating']\n",
    "ratings = pd.read_csv('ml-100k/u.data', sep='\\t', names=features, usecols=range(3))"
   ]
  },
  {
   "cell_type": "code",
   "execution_count": 312,
   "metadata": {},
   "outputs": [
    {
     "data": {
      "text/html": [
       "<div>\n",
       "<style scoped>\n",
       "    .dataframe tbody tr th:only-of-type {\n",
       "        vertical-align: middle;\n",
       "    }\n",
       "\n",
       "    .dataframe tbody tr th {\n",
       "        vertical-align: top;\n",
       "    }\n",
       "\n",
       "    .dataframe thead th {\n",
       "        text-align: right;\n",
       "    }\n",
       "</style>\n",
       "<table border=\"1\" class=\"dataframe\">\n",
       "  <thead>\n",
       "    <tr style=\"text-align: right;\">\n",
       "      <th></th>\n",
       "      <th>user_id</th>\n",
       "      <th>movie_id</th>\n",
       "      <th>rating</th>\n",
       "    </tr>\n",
       "  </thead>\n",
       "  <tbody>\n",
       "    <tr>\n",
       "      <th>0</th>\n",
       "      <td>196</td>\n",
       "      <td>242</td>\n",
       "      <td>3</td>\n",
       "    </tr>\n",
       "    <tr>\n",
       "      <th>1</th>\n",
       "      <td>186</td>\n",
       "      <td>302</td>\n",
       "      <td>3</td>\n",
       "    </tr>\n",
       "    <tr>\n",
       "      <th>2</th>\n",
       "      <td>22</td>\n",
       "      <td>377</td>\n",
       "      <td>1</td>\n",
       "    </tr>\n",
       "    <tr>\n",
       "      <th>3</th>\n",
       "      <td>244</td>\n",
       "      <td>51</td>\n",
       "      <td>2</td>\n",
       "    </tr>\n",
       "    <tr>\n",
       "      <th>4</th>\n",
       "      <td>166</td>\n",
       "      <td>346</td>\n",
       "      <td>1</td>\n",
       "    </tr>\n",
       "  </tbody>\n",
       "</table>\n",
       "</div>"
      ],
      "text/plain": [
       "   user_id  movie_id  rating\n",
       "0      196       242       3\n",
       "1      186       302       3\n",
       "2       22       377       1\n",
       "3      244        51       2\n",
       "4      166       346       1"
      ]
     },
     "execution_count": 312,
     "metadata": {},
     "output_type": "execute_result"
    }
   ],
   "source": [
    "ratings.head(5)"
   ]
  },
  {
   "cell_type": "code",
   "execution_count": 313,
   "metadata": {},
   "outputs": [
    {
     "data": {
      "text/plain": [
       "(100000, 3)"
      ]
     },
     "execution_count": 313,
     "metadata": {},
     "output_type": "execute_result"
    }
   ],
   "source": [
    "ratings.shape"
   ]
  },
  {
   "cell_type": "code",
   "execution_count": 314,
   "metadata": {},
   "outputs": [],
   "source": [
    "# Divide film ratings into total size and average\n",
    "movieProperties = ratings.groupby('movie_id').agg({'rating': [np.size, np.mean]})"
   ]
  },
  {
   "cell_type": "code",
   "execution_count": 315,
   "metadata": {},
   "outputs": [
    {
     "data": {
      "text/plain": [
       "(1682, 2)"
      ]
     },
     "execution_count": 315,
     "metadata": {},
     "output_type": "execute_result"
    }
   ],
   "source": [
    "movieProperties.shape"
   ]
  },
  {
   "cell_type": "code",
   "execution_count": 316,
   "metadata": {},
   "outputs": [
    {
     "data": {
      "text/html": [
       "<div>\n",
       "<style scoped>\n",
       "    .dataframe tbody tr th:only-of-type {\n",
       "        vertical-align: middle;\n",
       "    }\n",
       "\n",
       "    .dataframe tbody tr th {\n",
       "        vertical-align: top;\n",
       "    }\n",
       "\n",
       "    .dataframe thead tr th {\n",
       "        text-align: left;\n",
       "    }\n",
       "\n",
       "    .dataframe thead tr:last-of-type th {\n",
       "        text-align: right;\n",
       "    }\n",
       "</style>\n",
       "<table border=\"1\" class=\"dataframe\">\n",
       "  <thead>\n",
       "    <tr>\n",
       "      <th></th>\n",
       "      <th colspan=\"2\" halign=\"left\">rating</th>\n",
       "    </tr>\n",
       "    <tr>\n",
       "      <th></th>\n",
       "      <th>size</th>\n",
       "      <th>mean</th>\n",
       "    </tr>\n",
       "    <tr>\n",
       "      <th>movie_id</th>\n",
       "      <th></th>\n",
       "      <th></th>\n",
       "    </tr>\n",
       "  </thead>\n",
       "  <tbody>\n",
       "    <tr>\n",
       "      <th>1</th>\n",
       "      <td>452</td>\n",
       "      <td>3.878319</td>\n",
       "    </tr>\n",
       "    <tr>\n",
       "      <th>2</th>\n",
       "      <td>131</td>\n",
       "      <td>3.206107</td>\n",
       "    </tr>\n",
       "    <tr>\n",
       "      <th>3</th>\n",
       "      <td>90</td>\n",
       "      <td>3.033333</td>\n",
       "    </tr>\n",
       "    <tr>\n",
       "      <th>4</th>\n",
       "      <td>209</td>\n",
       "      <td>3.550239</td>\n",
       "    </tr>\n",
       "    <tr>\n",
       "      <th>5</th>\n",
       "      <td>86</td>\n",
       "      <td>3.302326</td>\n",
       "    </tr>\n",
       "  </tbody>\n",
       "</table>\n",
       "</div>"
      ],
      "text/plain": [
       "         rating          \n",
       "           size      mean\n",
       "movie_id                 \n",
       "1           452  3.878319\n",
       "2           131  3.206107\n",
       "3            90  3.033333\n",
       "4           209  3.550239\n",
       "5            86  3.302326"
      ]
     },
     "execution_count": 316,
     "metadata": {},
     "output_type": "execute_result"
    }
   ],
   "source": [
    "movieProperties.head(5)"
   ]
  },
  {
   "cell_type": "code",
   "execution_count": 317,
   "metadata": {},
   "outputs": [],
   "source": [
    "# Normalize rating sizes of movies\n",
    "movieNumRatings = pd.DataFrame(movieProperties['rating']['size'])\n",
    "movieNormalizedNumRatings = movieNumRatings.apply(lambda x: (x - np.min(x)) / (np.max(x) - np.min(x)))"
   ]
  },
  {
   "cell_type": "code",
   "execution_count": 318,
   "metadata": {},
   "outputs": [
    {
     "data": {
      "text/html": [
       "<div>\n",
       "<style scoped>\n",
       "    .dataframe tbody tr th:only-of-type {\n",
       "        vertical-align: middle;\n",
       "    }\n",
       "\n",
       "    .dataframe tbody tr th {\n",
       "        vertical-align: top;\n",
       "    }\n",
       "\n",
       "    .dataframe thead th {\n",
       "        text-align: right;\n",
       "    }\n",
       "</style>\n",
       "<table border=\"1\" class=\"dataframe\">\n",
       "  <thead>\n",
       "    <tr style=\"text-align: right;\">\n",
       "      <th></th>\n",
       "      <th>size</th>\n",
       "    </tr>\n",
       "    <tr>\n",
       "      <th>movie_id</th>\n",
       "      <th></th>\n",
       "    </tr>\n",
       "  </thead>\n",
       "  <tbody>\n",
       "    <tr>\n",
       "      <th>1</th>\n",
       "      <td>0.774914</td>\n",
       "    </tr>\n",
       "    <tr>\n",
       "      <th>2</th>\n",
       "      <td>0.223368</td>\n",
       "    </tr>\n",
       "    <tr>\n",
       "      <th>3</th>\n",
       "      <td>0.152921</td>\n",
       "    </tr>\n",
       "    <tr>\n",
       "      <th>4</th>\n",
       "      <td>0.357388</td>\n",
       "    </tr>\n",
       "    <tr>\n",
       "      <th>5</th>\n",
       "      <td>0.146048</td>\n",
       "    </tr>\n",
       "  </tbody>\n",
       "</table>\n",
       "</div>"
      ],
      "text/plain": [
       "              size\n",
       "movie_id          \n",
       "1         0.774914\n",
       "2         0.223368\n",
       "3         0.152921\n",
       "4         0.357388\n",
       "5         0.146048"
      ]
     },
     "execution_count": 318,
     "metadata": {},
     "output_type": "execute_result"
    }
   ],
   "source": [
    "movieNormalizedNumRatings.head(5)"
   ]
  },
  {
   "cell_type": "code",
   "execution_count": 319,
   "metadata": {},
   "outputs": [
    {
     "data": {
      "text/plain": [
       "(1682, 1)"
      ]
     },
     "execution_count": 319,
     "metadata": {},
     "output_type": "execute_result"
    }
   ],
   "source": [
    "movieNormalizedNumRatings.shape"
   ]
  },
  {
   "cell_type": "code",
   "execution_count": 321,
   "metadata": {},
   "outputs": [],
   "source": [
    "# Get film data\n",
    "movieDict = {}\n",
    "with open('ml-100k/u.item', mode='r', encoding='latin-1') as f:\n",
    "    temp = ''\n",
    "    for line in f:\n",
    "        fields = line.rstrip('\\n').split('|')\n",
    "        movieID = int(fields[0])\n",
    "        name = fields[1]\n",
    "        genres = fields[5:25]\n",
    "        genres = list(map(int, genres))\n",
    "        movieDict[movieID] = (name, genres, movieNormalizedNumRatings.loc[movieID].get('size'),\n",
    "                              movieProperties.loc[movieID].rating.get('mean'))"
   ]
  },
  {
   "cell_type": "code",
   "execution_count": 322,
   "metadata": {},
   "outputs": [
    {
     "name": "stdout",
     "output_type": "stream",
     "text": [
      "{1: ('Toy Story (1995)', [0, 0, 0, 1, 1, 1, 0, 0, 0, 0, 0, 0, 0, 0, 0, 0, 0, 0, 0], 0.7749140893470791, 3.8783185840707963), 2: ('GoldenEye (1995)', [0, 1, 1, 0, 0, 0, 0, 0, 0, 0, 0, 0, 0, 0, 0, 0, 1, 0, 0], 0.22336769759450173, 3.2061068702290076), 3: ('Four Rooms (1995)', [0, 0, 0, 0, 0, 0, 0, 0, 0, 0, 0, 0, 0, 0, 0, 0, 1, 0, 0], 0.15292096219931273, 3.033333333333333), 4: ('Get Shorty (1995)', [0, 1, 0, 0, 0, 1, 0, 0, 1, 0, 0, 0, 0, 0, 0, 0, 0, 0, 0], 0.35738831615120276, 3.550239234449761), 5: ('Copycat (1995)', [0, 0, 0, 0, 0, 0, 1, 0, 1, 0, 0, 0, 0, 0, 0, 0, 1, 0, 0], 0.14604810996563575, 3.302325581395349), 6: ('Shanghai Triad (Yao a yao yao dao waipo qiao) (1995)', [0, 0, 0, 0, 0, 0, 0, 0, 1, 0, 0, 0, 0, 0, 0, 0, 0, 0, 0], 0.0429553264604811, 3.576923076923077), 7: ('Twelve Monkeys (1995)', [0, 0, 0, 0, 0, 0, 0, 0, 1, 0, 0, 0, 0, 0, 0, 1, 0, 0, 0], 0.6718213058419243, 3.798469387755102), 8: ('Babe (1995)', [0, 0, 0, 0, 1, 1, 0, 0, 1, 0, 0, 0, 0, 0, 0, 0, 0, 0, 0], 0.3745704467353952, 3.9954337899543377), 9: ('Dead Man Walking (1995)', [0, 0, 0, 0, 0, 0, 0, 0, 1, 0, 0, 0, 0, 0, 0, 0, 0, 0, 0], 0.5120274914089347, 3.8963210702341136), 10: ('Richard III (1995)', [0, 0, 0, 0, 0, 0, 0, 0, 1, 0, 0, 0, 0, 0, 0, 0, 0, 1, 0], 0.15120274914089346, 3.831460674157303), 11: ('Seven (Se7en) (1995)', [0, 0, 0, 0, 0, 0, 1, 0, 0, 0, 0, 0, 0, 0, 0, 0, 1, 0, 0], 0.40378006872852235, 3.847457627118644), 12: ('Usual Suspects, The (1995)', [0, 0, 0, 0, 0, 0, 1, 0, 0, 0, 0, 0, 0, 0, 0, 0, 1, 0, 0], 0.4570446735395189, 4.385767790262173), 13: ('Mighty Aphrodite (1995)', [0, 0, 0, 0, 0, 1, 0, 0, 0, 0, 0, 0, 0, 0, 0, 0, 0, 0, 0], 0.31443298969072164, 3.4184782608695654), 14: ('Postino, Il (1994)', [0, 0, 0, 0, 0, 0, 0, 0, 1, 0, 0, 0, 0, 0, 1, 0, 0, 0, 0], 0.3127147766323024, 3.9672131147540983), 15: (\"Mr. Holland's Opus (1995)\", [0, 0, 0, 0, 0, 0, 0, 0, 1, 0, 0, 0, 0, 0, 0, 0, 0, 0, 0], 0.5017182130584192, 3.7781569965870307), 16: ('French Twist (Gazon maudit) (1995)', [0, 0, 0, 0, 0, 1, 0, 0, 0, 0, 0, 0, 0, 0, 1, 0, 0, 0, 0], 0.06529209621993128, 3.2051282051282053), 17: ('From Dusk Till Dawn (1996)', [0, 1, 0, 0, 0, 1, 1, 0, 0, 0, 0, 1, 0, 0, 0, 0, 1, 0, 0], 0.1563573883161512, 3.119565217391304), 18: ('White Balloon, The (1995)', [0, 0, 0, 0, 0, 0, 0, 0, 1, 0, 0, 0, 0, 0, 0, 0, 0, 0, 0], 0.015463917525773196, 2.8), 19: (\"Antonia's Line (1995)\", [0, 0, 0, 0, 0, 0, 0, 0, 1, 0, 0, 0, 0, 0, 0, 0, 0, 0, 0], 0.11683848797250859, 3.9565217391304346), 20: ('Angels and Insects (1995)', [0, 0, 0, 0, 0, 0, 0, 0, 1, 0, 0, 0, 0, 0, 1, 0, 0, 0, 0], 0.12199312714776632, 3.4166666666666665), 21: ('Muppet Treasure Island (1996)', [0, 1, 1, 0, 0, 1, 0, 0, 0, 0, 0, 0, 1, 0, 0, 0, 1, 0, 0], 0.14261168384879724, 2.761904761904762), 22: ('Braveheart (1995)', [0, 1, 0, 0, 0, 0, 0, 0, 1, 0, 0, 0, 0, 0, 0, 0, 0, 1, 0], 0.5085910652920962, 4.151515151515151), 23: ('Taxi Driver (1976)', [0, 0, 0, 0, 0, 0, 0, 0, 1, 0, 0, 0, 0, 0, 0, 0, 1, 0, 0], 0.31099656357388317, 4.1208791208791204), 24: ('Rumble in the Bronx (1995)', [0, 1, 1, 0, 0, 0, 1, 0, 0, 0, 0, 0, 0, 0, 0, 0, 0, 0, 0], 0.2972508591065292, 3.4482758620689653), 25: ('Birdcage, The (1996)', [0, 0, 0, 0, 0, 1, 0, 0, 0, 0, 0, 0, 0, 0, 0, 0, 0, 0, 0], 0.5017182130584192, 3.4436860068259385), 26: ('Brothers McMullen, The (1995)', [0, 0, 0, 0, 0, 1, 0, 0, 0, 0, 0, 0, 0, 0, 0, 0, 0, 0, 0], 0.12371134020618557, 3.452054794520548), 27: ('Bad Boys (1995)', [0, 1, 0, 0, 0, 0, 0, 0, 0, 0, 0, 0, 0, 0, 0, 0, 0, 0, 0], 0.09621993127147767, 3.1052631578947367), 28: ('Apollo 13 (1995)', [0, 1, 0, 0, 0, 0, 0, 0, 1, 0, 0, 0, 0, 0, 0, 0, 1, 0, 0], 0.4725085910652921, 3.931159420289855), 29: ('Batman Forever (1995)', [0, 1, 1, 0, 0, 1, 1, 0, 0, 0, 0, 0, 0, 0, 0, 0, 0, 0, 0], 0.19415807560137457, 2.6666666666666665), 30: ('Belle de jour (1967)', [0, 0, 0, 0, 0, 0, 0, 0, 1, 0, 0, 0, 0, 0, 0, 0, 0, 0, 0], 0.061855670103092786, 3.945945945945946), 31: ('Crimson Tide (1995)', [0, 0, 0, 0, 0, 0, 0, 0, 1, 0, 0, 0, 0, 0, 0, 0, 1, 1, 0], 0.26288659793814434, 3.6298701298701297), 32: ('Crumb (1994)', [0, 0, 0, 0, 0, 0, 0, 1, 0, 0, 0, 0, 0, 0, 0, 0, 0, 0, 0], 0.13745704467353953, 3.7901234567901234), 33: ('Desperado (1995)', [0, 1, 0, 0, 0, 0, 0, 0, 0, 0, 0, 0, 0, 0, 1, 0, 1, 0, 0], 0.16494845360824742, 3.4536082474226806), 34: ('Doom Generation, The (1995)', [0, 0, 0, 0, 0, 1, 0, 0, 1, 0, 0, 0, 0, 0, 0, 0, 0, 0, 0], 0.010309278350515464, 2.7142857142857144), 35: ('Free Willy 2: The Adventure Home (1995)', [0, 0, 1, 0, 1, 0, 0, 0, 1, 0, 0, 0, 0, 0, 0, 0, 0, 0, 0], 0.01718213058419244, 2.1818181818181817), 36: ('Mad Love (1995)', [0, 0, 0, 0, 0, 0, 0, 0, 1, 0, 0, 0, 0, 0, 1, 0, 0, 0, 0], 0.020618556701030927, 2.1538461538461537), 37: ('Nadja (1994)', [0, 0, 0, 0, 0, 0, 0, 0, 1, 0, 0, 0, 0, 0, 0, 0, 0, 0, 0], 0.012027491408934709, 2.25), 38: ('Net, The (1995)', [0, 0, 0, 0, 0, 0, 0, 0, 0, 0, 0, 0, 0, 0, 0, 1, 1, 0, 0], 0.20446735395189003, 3.0083333333333333), 39: ('Strange Days (1995)', [0, 1, 0, 0, 0, 0, 1, 0, 0, 0, 0, 0, 0, 0, 0, 1, 0, 0, 0], 0.14776632302405499, 3.264367816091954), 40: ('To Wong Foo, Thanks for Everything! Julie Newmar (1995)', [0, 0, 0, 0, 0, 1, 0, 0, 0, 0, 0, 0, 0, 0, 0, 0, 0, 0, 0], 0.09621993127147767, 2.8947368421052633), 41: ('Billy Madison (1995)', [0, 0, 0, 0, 0, 1, 0, 0, 0, 0, 0, 0, 0, 0, 0, 0, 0, 0, 0], 0.061855670103092786, 3.081081081081081), 42: ('Clerks (1994)', [0, 0, 0, 0, 0, 1, 0, 0, 0, 0, 0, 0, 0, 0, 0, 0, 0, 0, 0], 0.25257731958762886, 3.804054054054054), 43: ('Disclosure (1994)', [0, 0, 0, 0, 0, 0, 0, 0, 1, 0, 0, 0, 0, 0, 0, 0, 1, 0, 0], 0.06701030927835051, 3.0), 44: ('Dolores Claiborne (1994)', [0, 0, 0, 0, 0, 0, 0, 0, 1, 0, 0, 0, 0, 0, 0, 0, 1, 0, 0], 0.13402061855670103, 3.3417721518987342), 45: ('Eat Drink Man Woman (1994)', [0, 0, 0, 0, 0, 1, 0, 0, 1, 0, 0, 0, 0, 0, 0, 0, 0, 0, 0], 0.13573883161512026, 4.05), 46: ('Exotica (1994)', [0, 0, 0, 0, 0, 0, 0, 0, 1, 0, 0, 0, 0, 0, 0, 0, 0, 0, 0], 0.044673539518900345, 3.5555555555555554), 47: ('Ed Wood (1994)', [0, 0, 0, 0, 0, 1, 0, 0, 1, 0, 0, 0, 0, 0, 0, 0, 0, 0, 0], 0.2268041237113402, 3.601503759398496), 48: ('Hoop Dreams (1994)', [0, 0, 0, 0, 0, 0, 0, 1, 0, 0, 0, 0, 0, 0, 0, 0, 0, 0, 0], 0.19931271477663232, 4.094017094017094), 49: ('I.Q. (1994)', [0, 0, 0, 0, 0, 1, 0, 0, 0, 0, 0, 0, 0, 0, 1, 0, 0, 0, 0], 0.13745704467353953, 3.3209876543209877), 50: ('Star Wars (1977)', [0, 1, 1, 0, 0, 0, 0, 0, 0, 0, 0, 0, 0, 0, 1, 1, 0, 1, 0], 1.0, 4.3584905660377355), 51: ('Legends of the Fall (1994)', [0, 0, 0, 0, 0, 0, 0, 0, 1, 0, 0, 0, 0, 0, 1, 0, 0, 1, 1], 0.13745704467353953, 3.45679012345679), 52: ('Madness of King George, The (1994)', [0, 0, 0, 0, 0, 0, 0, 0, 1, 0, 0, 0, 0, 0, 0, 0, 0, 0, 0], 0.15463917525773196, 3.769230769230769), 53: ('Natural Born Killers (1994)', [0, 1, 0, 0, 0, 0, 0, 0, 0, 0, 0, 0, 0, 0, 0, 0, 1, 0, 0], 0.218213058419244, 2.953125), 54: ('Outbreak (1995)', [0, 1, 0, 0, 0, 0, 0, 0, 1, 0, 0, 0, 0, 0, 0, 0, 1, 0, 0], 0.17697594501718214, 3.2403846153846154), 55: ('Professional, The (1994)', [0, 0, 0, 0, 0, 0, 1, 0, 1, 0, 0, 0, 0, 0, 1, 0, 1, 0, 0], 0.2542955326460481, 3.704697986577181), 56: ('Pulp Fiction (1994)', [0, 0, 0, 0, 0, 0, 1, 0, 1, 0, 0, 0, 0, 0, 0, 0, 0, 0, 0], 0.6752577319587629, 4.060913705583756), 57: ('Priest (1994)', [0, 0, 0, 0, 0, 0, 0, 0, 1, 0, 0, 0, 0, 0, 0, 0, 0, 0, 0], 0.06701030927835051, 4.0), 58: ('Quiz Show (1994)', [0, 0, 0, 0, 0, 0, 0, 0, 1, 0, 0, 0, 0, 0, 0, 0, 0, 0, 0], 0.29896907216494845, 3.645714285714286), 59: ('Three Colors: Red (1994)', [0, 0, 0, 0, 0, 0, 0, 0, 1, 0, 0, 0, 0, 0, 0, 0, 0, 0, 0], 0.140893470790378, 4.0602409638554215), 60: ('Three Colors: Blue (1993)', [0, 0, 0, 0, 0, 0, 0, 0, 1, 0, 0, 0, 0, 0, 0, 0, 0, 0, 0], 0.10824742268041238, 4.015625), 61: ('Three Colors: White (1994)', [0, 0, 0, 0, 0, 0, 0, 0, 1, 0, 0, 0, 0, 0, 0, 0, 0, 0, 0], 0.09965635738831616, 3.864406779661017), 62: ('Stargate (1994)', [0, 1, 1, 0, 0, 0, 0, 0, 0, 0, 0, 0, 0, 0, 0, 1, 0, 0, 0], 0.21649484536082475, 3.141732283464567), 63: ('Santa Clause, The (1994)', [0, 0, 0, 0, 1, 1, 0, 0, 0, 0, 0, 0, 0, 0, 0, 0, 0, 0, 0], 0.13917525773195877, 3.097560975609756), 64: ('Shawshank Redemption, The (1994)', [0, 0, 0, 0, 0, 0, 0, 0, 1, 0, 0, 0, 0, 0, 0, 0, 0, 0, 0], 0.4845360824742268, 4.445229681978798), 65: (\"What's Eating Gilbert Grape (1993)\", [0, 0, 0, 0, 0, 1, 0, 0, 1, 0, 0, 0, 0, 0, 0, 0, 0, 0, 0], 0.1958762886597938, 3.5391304347826087), 66: ('While You Were Sleeping (1995)', [0, 0, 0, 0, 0, 1, 0, 0, 0, 0, 0, 0, 0, 0, 1, 0, 0, 0, 0], 0.2766323024054983, 3.549382716049383), 67: ('Ace Ventura: Pet Detective (1994)', [0, 0, 0, 0, 0, 1, 0, 0, 0, 0, 0, 0, 0, 0, 0, 0, 0, 0, 0], 0.17525773195876287, 3.0485436893203883), 68: ('Crow, The (1994)', [0, 1, 0, 0, 0, 0, 0, 0, 0, 0, 0, 0, 0, 0, 1, 0, 1, 0, 0], 0.22852233676975944, 3.417910447761194), 69: ('Forrest Gump (1994)', [0, 0, 0, 0, 0, 1, 0, 0, 0, 0, 0, 0, 0, 0, 1, 0, 0, 1, 0], 0.5498281786941581, 3.853582554517134), 70: ('Four Weddings and a Funeral (1994)', [0, 0, 0, 0, 0, 1, 0, 0, 0, 0, 0, 0, 0, 0, 1, 0, 0, 0, 0], 0.42955326460481097, 3.6613545816733066), 71: ('Lion King, The (1994)', [0, 0, 0, 1, 1, 0, 0, 0, 0, 0, 0, 0, 1, 0, 0, 0, 0, 0, 0], 0.37628865979381443, 3.7818181818181817), 72: ('Mask, The (1994)', [0, 0, 0, 0, 0, 1, 1, 0, 0, 1, 0, 0, 0, 0, 0, 0, 0, 0, 0], 0.21993127147766323, 3.193798449612403), 73: ('Maverick (1994)', [0, 1, 0, 0, 0, 1, 0, 0, 0, 0, 0, 0, 0, 0, 0, 0, 0, 0, 1], 0.218213058419244, 3.46875), 74: ('Faster Pussycat! Kill! Kill! (1965)', [0, 1, 0, 0, 0, 1, 0, 0, 1, 0, 0, 0, 0, 0, 0, 0, 0, 0, 0], 0.010309278350515464, 3.0), 75: ('Brother Minister: The Assassination of Malcolm X (1994)', [0, 0, 0, 0, 0, 0, 0, 1, 0, 0, 0, 0, 0, 0, 0, 0, 0, 0, 0], 0.006872852233676976, 3.0), 76: (\"Carlito's Way (1993)\", [0, 0, 0, 0, 0, 0, 1, 0, 1, 0, 0, 0, 0, 0, 0, 0, 0, 0, 0], 0.09106529209621993, 3.4074074074074074), 77: ('Firm, The (1993)', [0, 0, 0, 0, 0, 0, 0, 0, 1, 0, 0, 0, 0, 0, 0, 0, 1, 0, 0], 0.25773195876288657, 3.2781456953642385), 78: ('Free Willy (1993)', [0, 0, 1, 0, 1, 0, 0, 0, 1, 0, 0, 0, 0, 0, 0, 0, 0, 0, 0], 0.054982817869415807, 2.4545454545454546), 79: ('Fugitive, The (1993)', [0, 1, 0, 0, 0, 0, 0, 0, 0, 0, 0, 0, 0, 0, 0, 0, 1, 0, 0], 0.5756013745704467, 4.044642857142857), 80: ('Hot Shots! Part Deux (1993)', [0, 1, 0, 0, 0, 1, 0, 0, 0, 0, 0, 0, 0, 0, 0, 0, 0, 1, 0], 0.11512027491408934, 2.764705882352941), 81: ('Hudsucker Proxy, The (1994)', [0, 0, 0, 0, 0, 1, 0, 0, 0, 0, 0, 0, 0, 0, 1, 0, 0, 0, 0], 0.1872852233676976, 3.5545454545454547), 82: ('Jurassic Park (1993)', [0, 1, 1, 0, 0, 0, 0, 0, 0, 0, 0, 0, 0, 0, 0, 1, 0, 0, 0], 0.44673539518900346, 3.7203065134099615), 83: ('Much Ado About Nothing (1993)', [0, 0, 0, 0, 0, 1, 0, 0, 0, 0, 0, 0, 0, 0, 1, 0, 0, 0, 0], 0.3006872852233677, 4.0625), 84: (\"Robert A. Heinlein's The Puppet Masters (1994)\", [0, 0, 0, 0, 0, 0, 0, 0, 0, 0, 0, 1, 0, 0, 0, 1, 0, 0, 0], 0.029209621993127148, 3.0), 85: ('Ref, The (1994)', [0, 0, 0, 0, 0, 1, 0, 0, 0, 0, 0, 0, 0, 0, 0, 0, 0, 0, 0], 0.0979381443298969, 3.0344827586206895), 86: ('Remains of the Day, The (1993)', [0, 0, 0, 0, 0, 0, 0, 0, 1, 0, 0, 0, 0, 0, 0, 0, 0, 0, 0], 0.25601374570446733, 3.94), 87: ('Searching for Bobby Fischer (1993)', [0, 0, 0, 0, 0, 0, 0, 0, 1, 0, 0, 0, 0, 0, 0, 0, 0, 0, 0], 0.23539518900343642, 3.9057971014492754), 88: ('Sleepless in Seattle (1993)', [0, 0, 0, 0, 0, 1, 0, 0, 0, 0, 0, 0, 0, 0, 1, 0, 0, 0, 0], 0.3642611683848797, 3.539906103286385), 89: ('Blade Runner (1982)', [0, 0, 0, 0, 0, 0, 0, 0, 0, 0, 1, 0, 0, 0, 0, 1, 0, 0, 0], 0.47079037800687284, 4.138181818181818), 90: ('So I Married an Axe Murderer (1993)', [0, 0, 0, 0, 0, 1, 0, 0, 0, 0, 0, 0, 0, 0, 1, 0, 1, 0, 0], 0.16151202749140894, 3.0526315789473686), 91: ('Nightmare Before Christmas, The (1993)', [0, 0, 0, 0, 1, 1, 0, 0, 0, 0, 0, 0, 1, 0, 0, 0, 0, 0, 0], 0.24398625429553264, 3.5874125874125875), 92: ('True Romance (1993)', [0, 1, 0, 0, 0, 0, 1, 0, 0, 0, 0, 0, 0, 0, 1, 0, 0, 0, 0], 0.17697594501718214, 3.6153846153846154), 93: ('Welcome to the Dollhouse (1995)', [0, 0, 0, 0, 0, 1, 0, 0, 1, 0, 0, 0, 0, 0, 0, 0, 0, 0, 0], 0.19072164948453607, 3.7232142857142856), 94: ('Home Alone (1990)', [0, 0, 0, 0, 1, 1, 0, 0, 0, 0, 0, 0, 0, 0, 0, 0, 0, 0, 0], 0.23367697594501718, 3.0875912408759123), 95: ('Aladdin (1992)', [0, 0, 0, 1, 1, 1, 0, 0, 0, 0, 0, 0, 1, 0, 0, 0, 0, 0, 0], 0.3745704467353952, 3.8127853881278537), 96: ('Terminator 2: Judgment Day (1991)', [0, 1, 0, 0, 0, 0, 0, 0, 0, 0, 0, 0, 0, 0, 0, 1, 1, 0, 0], 0.5051546391752577, 4.0067796610169495), 97: ('Dances with Wolves (1990)', [0, 0, 1, 0, 0, 0, 0, 0, 1, 0, 0, 0, 0, 0, 0, 0, 0, 0, 1], 0.4381443298969072, 3.79296875), 98: ('Silence of the Lambs, The (1991)', [0, 0, 0, 0, 0, 0, 0, 0, 1, 0, 0, 0, 0, 0, 0, 0, 1, 0, 0], 0.6683848797250859, 4.28974358974359), 99: ('Snow White and the Seven Dwarfs (1937)', [0, 0, 0, 1, 1, 0, 0, 0, 0, 0, 0, 0, 1, 0, 0, 0, 0, 0, 0], 0.29381443298969073, 3.7093023255813953), 100: ('Fargo (1996)', [0, 0, 0, 0, 0, 0, 1, 0, 1, 0, 0, 0, 0, 0, 0, 0, 1, 0, 0], 0.8711340206185567, 4.155511811023622), 101: ('Heavy Metal (1981)', [0, 1, 1, 1, 0, 0, 0, 0, 0, 0, 0, 1, 0, 0, 0, 1, 0, 0, 0], 0.12371134020618557, 3.26027397260274), 102: ('Aristocats, The (1970)', [0, 0, 0, 1, 1, 0, 0, 0, 0, 0, 0, 0, 0, 0, 0, 0, 0, 0, 0], 0.09106529209621993, 3.1296296296296298), 103: ('All Dogs Go to Heaven 2 (1996)', [0, 0, 0, 1, 1, 0, 0, 0, 0, 0, 0, 0, 1, 0, 0, 0, 0, 0, 0], 0.024054982817869417, 1.8666666666666667), 104: ('Theodore Rex (1995)', [0, 0, 0, 0, 0, 1, 0, 0, 0, 0, 0, 0, 0, 0, 0, 0, 0, 0, 0], 0.006872852233676976, 1.4), 105: ('Sgt. Bilko (1996)', [0, 0, 0, 0, 0, 1, 0, 0, 0, 0, 0, 0, 0, 0, 0, 0, 0, 0, 0], 0.1254295532646048, 2.5675675675675675), 106: ('Diabolique (1996)', [0, 0, 0, 0, 0, 0, 0, 0, 1, 0, 0, 0, 0, 0, 0, 0, 1, 0, 0], 0.12027491408934708, 2.887323943661972), 107: ('Moll Flanders (1996)', [0, 0, 0, 0, 0, 0, 0, 0, 1, 0, 0, 0, 0, 0, 0, 0, 0, 0, 0], 0.070446735395189, 3.5), 108: ('Kids in the Hall: Brain Candy (1996)', [0, 0, 0, 0, 0, 1, 0, 0, 0, 0, 0, 0, 0, 0, 0, 0, 0, 0, 0], 0.10996563573883161, 3.076923076923077), 109: ('Mystery Science Theater 3000: The Movie (1996)', [0, 0, 0, 0, 0, 1, 0, 0, 0, 0, 0, 0, 0, 0, 0, 1, 0, 0, 0], 0.22164948453608246, 3.4307692307692306), 110: ('Operation Dumbo Drop (1995)', [0, 1, 1, 0, 0, 1, 0, 0, 0, 0, 0, 0, 0, 0, 0, 0, 0, 1, 0], 0.05154639175257732, 2.5161290322580645), 111: ('Truth About Cats & Dogs, The (1996)', [0, 0, 0, 0, 0, 1, 0, 0, 0, 0, 0, 0, 0, 0, 1, 0, 0, 0, 0], 0.46563573883161513, 3.485294117647059), 112: ('Flipper (1996)', [0, 0, 1, 0, 1, 0, 0, 0, 0, 0, 0, 0, 0, 0, 0, 0, 0, 0, 0], 0.03264604810996564, 2.45), 113: ('Horseman on the Roof, The (Hussard sur le toit, Le) (1995)', [0, 0, 0, 0, 0, 0, 0, 0, 1, 0, 0, 0, 0, 0, 0, 0, 0, 0, 0], 0.013745704467353952, 4.111111111111111), 114: ('Wallace & Gromit: The Best of Aardman Animation (1996)', [0, 0, 0, 1, 0, 0, 0, 0, 0, 0, 0, 0, 0, 0, 0, 0, 0, 0, 0], 0.1134020618556701, 4.447761194029851), 115: ('Haunted World of Edward D. Wood Jr., The (1995)', [0, 0, 0, 0, 0, 0, 0, 1, 0, 0, 0, 0, 0, 0, 0, 0, 0, 0, 0], 0.024054982817869417, 3.7333333333333334), 116: ('Cold Comfort Farm (1995)', [0, 0, 0, 0, 0, 1, 0, 0, 0, 0, 0, 0, 0, 0, 0, 0, 0, 0, 0], 0.21305841924398625, 3.824), 117: ('Rock, The (1996)', [0, 1, 1, 0, 0, 0, 0, 0, 0, 0, 0, 0, 0, 0, 0, 0, 1, 0, 0], 0.647766323024055, 3.693121693121693), 118: ('Twister (1996)', [0, 1, 1, 0, 0, 0, 0, 0, 0, 0, 0, 0, 0, 0, 0, 0, 1, 0, 0], 0.5017182130584192, 3.2150170648464163), 119: ('Maya Lin: A Strong Clear Vision (1994)', [0, 0, 0, 0, 0, 0, 0, 1, 0, 0, 0, 0, 0, 0, 0, 0, 0, 0, 0], 0.005154639175257732, 4.5), 120: ('Striptease (1996)', [0, 0, 0, 0, 0, 1, 1, 0, 0, 0, 0, 0, 0, 0, 0, 0, 0, 0, 0], 0.1134020618556701, 2.2388059701492535), 121: ('Independence Day (ID4) (1996)', [0, 1, 0, 0, 0, 0, 0, 0, 0, 0, 0, 0, 0, 0, 0, 1, 0, 1, 0], 0.7353951890034365, 3.438228438228438), 122: ('Cable Guy, The (1996)', [0, 0, 0, 0, 0, 1, 0, 0, 0, 0, 0, 0, 0, 0, 0, 0, 0, 0, 0], 0.18041237113402062, 2.339622641509434), 123: ('Frighteners, The (1996)', [0, 0, 0, 0, 0, 1, 0, 0, 0, 0, 0, 1, 0, 0, 0, 0, 0, 0, 0], 0.1958762886597938, 3.234782608695652), 124: ('Lone Star (1996)', [0, 0, 0, 0, 0, 0, 0, 0, 1, 0, 0, 0, 0, 1, 0, 0, 0, 0, 0], 0.31958762886597936, 4.053475935828877), 125: ('Phenomenon (1996)', [0, 0, 0, 0, 0, 0, 0, 0, 1, 0, 0, 0, 0, 0, 1, 0, 0, 0, 0], 0.4175257731958763, 3.557377049180328), 126: ('Spitfire Grill, The (1996)', [0, 0, 0, 0, 0, 0, 0, 0, 1, 0, 0, 0, 0, 0, 0, 0, 0, 0, 0], 0.16494845360824742, 3.804123711340206), 127: ('Godfather, The (1972)', [0, 1, 0, 0, 0, 0, 1, 0, 1, 0, 0, 0, 0, 0, 0, 0, 0, 0, 0], 0.7079037800687286, 4.283292978208232), 128: ('Supercop (1992)', [0, 1, 0, 0, 0, 0, 0, 0, 0, 0, 0, 0, 0, 0, 0, 0, 1, 0, 0], 0.10996563573883161, 3.5384615384615383), 129: ('Bound (1996)', [0, 0, 0, 0, 0, 0, 1, 0, 1, 0, 0, 0, 0, 0, 1, 0, 1, 0, 0], 0.21993127147766323, 3.8217054263565893), 130: ('Kansas City (1996)', [0, 0, 0, 0, 0, 0, 1, 0, 0, 0, 0, 0, 0, 0, 0, 0, 0, 0, 0], 0.037800687285223365, 2.260869565217391), 131: (\"Breakfast at Tiffany's (1961)\", [0, 0, 0, 0, 0, 0, 0, 0, 1, 0, 0, 0, 0, 0, 1, 0, 0, 0, 0], 0.16151202749140894, 3.7263157894736842), 132: ('Wizard of Oz, The (1939)', [0, 0, 1, 0, 1, 0, 0, 0, 1, 0, 0, 0, 1, 0, 0, 0, 0, 0, 0], 0.4209621993127148, 4.0772357723577235), 133: ('Gone with the Wind (1939)', [0, 0, 0, 0, 0, 0, 0, 0, 1, 0, 0, 0, 0, 0, 1, 0, 0, 1, 0], 0.2920962199312715, 3.871345029239766), 134: ('Citizen Kane (1941)', [0, 0, 0, 0, 0, 0, 0, 0, 1, 0, 0, 0, 0, 0, 0, 0, 0, 0, 0], 0.3384879725085911, 4.292929292929293), 135: ('2001: A Space Odyssey (1968)', [0, 0, 0, 0, 0, 0, 0, 0, 1, 0, 0, 0, 0, 1, 0, 1, 1, 0, 0], 0.44329896907216493, 3.969111969111969), 136: ('Mr. Smith Goes to Washington (1939)', [0, 0, 0, 0, 0, 0, 0, 0, 1, 0, 0, 0, 0, 0, 0, 0, 0, 0, 0], 0.17869415807560138, 4.123809523809523), 137: ('Big Night (1996)', [0, 0, 0, 0, 0, 0, 0, 0, 1, 0, 0, 0, 0, 0, 0, 0, 0, 0, 0], 0.2920962199312715, 3.9005847953216373), 138: ('D3: The Mighty Ducks (1996)', [0, 0, 0, 0, 1, 1, 0, 0, 0, 0, 0, 0, 0, 0, 0, 0, 0, 0, 0], 0.030927835051546393, 2.5789473684210527), 139: ('Love Bug, The (1969)', [0, 0, 0, 0, 1, 1, 0, 0, 0, 0, 0, 0, 0, 0, 0, 0, 0, 0, 0], 0.08419243986254296, 2.78), 140: ('Homeward Bound: The Incredible Journey (1993)', [0, 0, 1, 0, 1, 0, 0, 0, 0, 0, 0, 0, 0, 0, 0, 0, 0, 0, 0], 0.10309278350515463, 3.2131147540983607), 141: ('20,000 Leagues Under the Sea (1954)', [0, 0, 1, 0, 1, 0, 0, 0, 0, 1, 0, 0, 0, 0, 0, 1, 0, 0, 0], 0.12199312714776632, 3.5), 142: ('Bedknobs and Broomsticks (1971)', [0, 0, 1, 0, 1, 0, 0, 0, 0, 0, 0, 0, 1, 0, 0, 0, 0, 0, 0], 0.09621993127147767, 3.0701754385964914), 143: ('Sound of Music, The (1965)', [0, 0, 0, 0, 0, 0, 0, 0, 0, 0, 0, 0, 1, 0, 0, 0, 0, 0, 0], 0.3797250859106529, 3.765765765765766), 144: ('Die Hard (1988)', [0, 1, 0, 0, 0, 0, 0, 0, 0, 0, 0, 0, 0, 0, 0, 0, 1, 0, 0], 0.41580756013745707, 3.8724279835390947), 145: ('Lawnmower Man, The (1992)', [0, 1, 0, 0, 0, 0, 0, 0, 0, 0, 0, 0, 0, 0, 0, 1, 1, 0, 0], 0.10996563573883161, 2.4461538461538463), 146: ('Unhook the Stars (1996)', [0, 0, 0, 0, 0, 0, 0, 0, 1, 0, 0, 0, 0, 0, 0, 0, 0, 0, 0], 0.015463917525773196, 2.5), 147: ('Long Kiss Goodnight, The (1996)', [0, 1, 0, 0, 0, 0, 0, 0, 0, 0, 0, 0, 0, 0, 0, 0, 1, 0, 0], 0.3161512027491409, 3.4702702702702704), 148: ('Ghost and the Darkness, The (1996)', [0, 1, 1, 0, 0, 0, 0, 0, 0, 0, 0, 0, 0, 0, 0, 0, 0, 0, 0], 0.218213058419244, 3.203125), 149: ('Jude (1996)', [0, 0, 0, 0, 0, 0, 0, 0, 1, 0, 0, 0, 0, 0, 0, 0, 0, 0, 0], 0.037800687285223365, 3.0), 150: ('Swingers (1996)', [0, 0, 0, 0, 0, 1, 0, 0, 1, 0, 0, 0, 0, 0, 0, 0, 0, 0, 0], 0.26804123711340205, 3.828025477707006), 151: ('Willy Wonka and the Chocolate Factory (1971)', [0, 0, 1, 0, 1, 1, 0, 0, 0, 0, 0, 0, 0, 0, 0, 0, 0, 0, 0], 0.5584192439862543, 3.6319018404907975), 152: ('Sleeper (1973)', [0, 0, 0, 0, 0, 1, 0, 0, 0, 0, 0, 0, 0, 0, 0, 1, 0, 0, 0], 0.13917525773195877, 3.6341463414634148), 153: ('Fish Called Wanda, A (1988)', [0, 0, 0, 0, 0, 1, 0, 0, 0, 0, 0, 0, 0, 0, 0, 0, 0, 0, 0], 0.422680412371134, 3.785425101214575), 154: (\"Monty Python's Life of Brian (1979)\", [0, 0, 0, 0, 0, 1, 0, 0, 0, 0, 0, 0, 0, 0, 0, 0, 0, 0, 0], 0.2972508591065292, 3.7471264367816093), 155: ('Dirty Dancing (1987)', [0, 0, 0, 0, 0, 0, 0, 0, 0, 0, 0, 0, 1, 0, 1, 0, 0, 0, 0], 0.16666666666666666, 3.1020408163265305), 156: ('Reservoir Dogs (1992)', [0, 0, 0, 0, 0, 0, 1, 0, 0, 0, 0, 0, 0, 0, 0, 0, 1, 0, 0], 0.25257731958762886, 3.9864864864864864), 157: ('Platoon (1986)', [0, 0, 0, 0, 0, 0, 0, 0, 1, 0, 0, 0, 0, 0, 0, 0, 0, 1, 0], 0.21649484536082475, 3.6929133858267718), 158: (\"Weekend at Bernie's (1989)\", [0, 0, 0, 0, 0, 1, 0, 0, 0, 0, 0, 0, 0, 0, 0, 0, 0, 0, 0], 0.1013745704467354, 2.6166666666666667), 159: ('Basic Instinct (1992)', [0, 0, 0, 0, 0, 0, 0, 0, 0, 0, 0, 0, 0, 1, 0, 0, 1, 0, 0], 0.1718213058419244, 3.227722772277228), 160: ('Glengarry Glen Ross (1992)', [0, 0, 0, 0, 0, 0, 0, 0, 1, 0, 0, 0, 0, 0, 0, 0, 0, 0, 0], 0.11683848797250859, 3.463768115942029), 161: ('Top Gun (1986)', [0, 1, 0, 0, 0, 0, 0, 0, 0, 0, 0, 0, 0, 0, 1, 0, 0, 0, 0], 0.37628865979381443, 3.481818181818182), 162: ('On Golden Pond (1981)', [0, 0, 0, 0, 0, 0, 0, 0, 1, 0, 0, 0, 0, 0, 0, 0, 0, 0, 0], 0.18041237113402062, 3.556603773584906), 163: ('Return of the Pink Panther, The (1974)', [0, 0, 0, 0, 0, 1, 0, 0, 0, 0, 0, 0, 0, 0, 0, 0, 0, 0, 0], 0.1563573883161512, 3.5543478260869565), 164: ('Abyss, The (1989)', [0, 1, 1, 0, 0, 0, 0, 0, 0, 0, 0, 0, 0, 0, 0, 1, 1, 0, 0], 0.25773195876288657, 3.589403973509934), 165: ('Jean de Florette (1986)', [0, 0, 0, 0, 0, 0, 0, 0, 1, 0, 0, 0, 0, 0, 0, 0, 0, 0, 0], 0.10824742268041238, 4.109375), 166: ('Manon of the Spring (Manon des sources) (1986)', [0, 0, 0, 0, 0, 0, 0, 0, 1, 0, 0, 0, 0, 0, 0, 0, 0, 0, 0], 0.0979381443298969, 4.120689655172414), 167: ('Private Benjamin (1980)', [0, 0, 0, 0, 0, 1, 0, 0, 0, 0, 0, 0, 0, 0, 0, 0, 0, 0, 0], 0.1134020618556701, 2.955223880597015), 168: ('Monty Python and the Holy Grail (1974)', [0, 0, 0, 0, 0, 1, 0, 0, 0, 0, 0, 0, 0, 0, 0, 0, 0, 0, 0], 0.5412371134020618, 4.0664556962025316), 169: ('Wrong Trousers, The (1993)', [0, 0, 0, 1, 0, 1, 0, 0, 0, 0, 0, 0, 0, 0, 0, 0, 0, 0, 0], 0.20103092783505155, 4.466101694915254), 170: ('Cinema Paradiso (1988)', [0, 0, 0, 0, 0, 1, 0, 0, 1, 0, 0, 0, 0, 0, 1, 0, 0, 0, 0], 0.20618556701030927, 4.1735537190082646), 171: ('Delicatessen (1991)', [0, 0, 0, 0, 0, 1, 0, 0, 0, 0, 0, 0, 0, 0, 0, 1, 0, 0, 0], 0.10996563573883161, 3.876923076923077), 172: ('Empire Strikes Back, The (1980)', [0, 1, 1, 0, 0, 0, 0, 0, 1, 0, 0, 0, 0, 0, 1, 1, 0, 1, 0], 0.6288659793814433, 4.204359673024523), 173: ('Princess Bride, The (1987)', [0, 1, 1, 0, 0, 1, 0, 0, 0, 0, 0, 0, 0, 0, 1, 0, 0, 0, 0], 0.5549828178694158, 4.172839506172839), 174: ('Raiders of the Lost Ark (1981)', [0, 1, 1, 0, 0, 0, 0, 0, 0, 0, 0, 0, 0, 0, 0, 0, 0, 0, 0], 0.7199312714776632, 4.252380952380952), 175: ('Brazil (1985)', [0, 0, 0, 0, 0, 0, 0, 0, 0, 0, 0, 0, 0, 0, 0, 1, 0, 0, 0], 0.3556701030927835, 3.8173076923076925), 176: ('Aliens (1986)', [0, 1, 0, 0, 0, 0, 0, 0, 0, 0, 0, 0, 0, 0, 0, 1, 1, 1, 0], 0.48625429553264604, 3.9471830985915495), 177: ('Good, The Bad and The Ugly, The (1966)', [0, 1, 0, 0, 0, 0, 0, 0, 0, 0, 0, 0, 0, 0, 0, 0, 0, 0, 1], 0.23367697594501718, 3.8613138686131387), 178: ('12 Angry Men (1957)', [0, 0, 0, 0, 0, 0, 0, 0, 1, 0, 0, 0, 0, 0, 0, 0, 0, 0, 0], 0.21305841924398625, 4.344), 179: ('Clockwork Orange, A (1971)', [0, 0, 0, 0, 0, 0, 0, 0, 0, 0, 0, 0, 0, 0, 0, 1, 0, 0, 0], 0.37800687285223367, 3.909502262443439), 180: ('Apocalypse Now (1979)', [0, 0, 0, 0, 0, 0, 0, 0, 1, 0, 0, 0, 0, 0, 0, 0, 0, 1, 0], 0.37800687285223367, 4.04524886877828), 181: ('Return of the Jedi (1983)', [0, 1, 1, 0, 0, 0, 0, 0, 0, 0, 0, 0, 0, 0, 1, 1, 0, 1, 0], 0.8694158075601375, 4.007889546351085), 182: ('GoodFellas (1990)', [0, 0, 0, 0, 0, 0, 1, 0, 1, 0, 0, 0, 0, 0, 0, 0, 0, 0, 0], 0.3865979381443299, 3.9513274336283186), 183: ('Alien (1979)', [0, 1, 0, 0, 0, 0, 0, 0, 0, 0, 0, 1, 0, 0, 0, 1, 1, 0, 0], 0.49828178694158076, 4.034364261168385), 184: ('Army of Darkness (1993)', [0, 1, 1, 0, 0, 1, 0, 0, 0, 0, 0, 1, 0, 0, 0, 1, 0, 0, 0], 0.19759450171821305, 3.4310344827586206), 185: ('Psycho (1960)', [0, 0, 0, 0, 0, 0, 0, 0, 0, 0, 0, 1, 0, 0, 1, 0, 1, 0, 0], 0.40893470790378006, 4.100418410041841), 186: ('Blues Brothers, The (1980)', [0, 1, 0, 0, 0, 1, 0, 0, 0, 0, 0, 0, 1, 0, 0, 0, 0, 0, 0], 0.42955326460481097, 3.8366533864541834), 187: ('Godfather: Part II, The (1974)', [0, 1, 0, 0, 0, 0, 1, 0, 1, 0, 0, 0, 0, 0, 0, 0, 0, 0, 0], 0.35738831615120276, 4.186602870813397), 188: ('Full Metal Jacket (1987)', [0, 1, 0, 0, 0, 0, 0, 0, 1, 0, 0, 0, 0, 0, 0, 0, 0, 1, 0], 0.29037800687285226, 3.6823529411764704), 189: ('Grand Day Out, A (1992)', [0, 0, 0, 1, 0, 1, 0, 0, 0, 0, 0, 0, 0, 0, 0, 0, 0, 0, 0], 0.11168384879725086, 4.106060606060606), 190: ('Henry V (1989)', [0, 0, 0, 0, 0, 0, 0, 0, 1, 0, 0, 0, 0, 0, 0, 0, 0, 1, 0], 0.211340206185567, 4.137096774193548), 191: ('Amadeus (1984)', [0, 0, 0, 0, 0, 0, 0, 0, 1, 0, 0, 0, 0, 1, 0, 0, 0, 0, 0], 0.4725085910652921, 4.163043478260869), 192: ('Raging Bull (1980)', [0, 0, 0, 0, 0, 0, 0, 0, 1, 0, 0, 0, 0, 0, 0, 0, 0, 0, 0], 0.19759450171821305, 4.120689655172414), 193: ('Right Stuff, The (1983)', [0, 0, 0, 0, 0, 0, 0, 0, 1, 0, 0, 0, 0, 0, 0, 0, 0, 0, 0], 0.26804123711340205, 3.917197452229299), 194: ('Sting, The (1973)', [0, 0, 0, 0, 0, 1, 1, 0, 0, 0, 0, 0, 0, 0, 0, 0, 0, 0, 0], 0.41237113402061853, 4.058091286307054), 195: ('Terminator, The (1984)', [0, 1, 0, 0, 0, 0, 0, 0, 0, 0, 0, 0, 0, 0, 0, 1, 1, 0, 0], 0.5154639175257731, 3.9335548172757475), 196: ('Dead Poets Society (1989)', [0, 0, 0, 0, 0, 0, 0, 0, 1, 0, 0, 0, 0, 0, 0, 0, 0, 0, 0], 0.42955326460481097, 3.9163346613545817), 197: ('Graduate, The (1967)', [0, 0, 0, 0, 0, 0, 0, 0, 1, 0, 0, 0, 0, 0, 1, 0, 0, 0, 0], 0.40893470790378006, 4.104602510460251), 198: ('Nikita (La Femme Nikita) (1990)', [0, 0, 0, 0, 0, 0, 0, 0, 0, 0, 0, 0, 0, 0, 0, 0, 1, 0, 0], 0.21649484536082475, 4.0078740157480315), 199: ('Bridge on the River Kwai, The (1957)', [0, 0, 0, 0, 0, 0, 0, 0, 1, 0, 0, 0, 0, 0, 0, 0, 0, 1, 0], 0.281786941580756, 4.175757575757576), 200: ('Shining, The (1980)', [0, 0, 0, 0, 0, 0, 0, 0, 0, 0, 0, 1, 0, 0, 0, 0, 0, 0, 0], 0.35223367697594504, 3.825242718446602), 201: ('Evil Dead II (1987)', [0, 1, 1, 0, 0, 1, 0, 0, 0, 0, 0, 1, 0, 0, 0, 0, 0, 0, 0], 0.15120274914089346, 3.5168539325842696), 202: ('Groundhog Day (1993)', [0, 0, 0, 0, 0, 1, 0, 0, 0, 0, 0, 0, 0, 0, 1, 0, 0, 0, 0], 0.4793814432989691, 3.7642857142857142), 203: ('Unforgiven (1992)', [0, 0, 0, 0, 0, 0, 0, 0, 0, 0, 0, 0, 0, 0, 0, 0, 0, 0, 1], 0.31099656357388317, 3.868131868131868), 204: ('Back to the Future (1985)', [0, 0, 0, 0, 0, 1, 0, 0, 0, 0, 0, 0, 0, 0, 0, 1, 0, 0, 0], 0.5996563573883161, 3.834285714285714), 205: ('Patton (1970)', [0, 0, 0, 0, 0, 0, 0, 0, 1, 0, 0, 0, 0, 0, 0, 0, 0, 1, 0], 0.23195876288659795, 3.9926470588235294), 206: ('Akira (1988)', [0, 0, 1, 1, 0, 0, 0, 0, 0, 0, 0, 0, 0, 0, 0, 1, 1, 0, 0], 0.08419243986254296, 3.38), 207: ('Cyrano de Bergerac (1990)', [0, 1, 0, 0, 0, 0, 0, 0, 1, 0, 0, 0, 0, 0, 1, 0, 0, 0, 0], 0.11168384879725086, 3.8181818181818183), 208: ('Young Frankenstein (1974)', [0, 0, 0, 0, 0, 1, 0, 0, 0, 0, 0, 1, 0, 0, 0, 0, 0, 0, 0], 0.34192439862542956, 3.945), 209: ('This Is Spinal Tap (1984)', [0, 0, 0, 0, 0, 1, 0, 0, 1, 0, 0, 0, 1, 0, 0, 0, 0, 0, 0], 0.32646048109965636, 3.905759162303665), 210: ('Indiana Jones and the Last Crusade (1989)', [0, 1, 1, 0, 0, 0, 0, 0, 0, 0, 0, 0, 0, 0, 0, 0, 0, 0, 0], 0.5670103092783505, 3.930513595166163), 211: ('M*A*S*H (1970)', [0, 0, 0, 0, 0, 1, 0, 0, 0, 0, 0, 0, 0, 0, 0, 0, 0, 1, 0], 0.35223367697594504, 3.912621359223301), 212: ('Unbearable Lightness of Being, The (1988)', [0, 0, 0, 0, 0, 0, 0, 0, 1, 0, 0, 0, 0, 0, 0, 0, 0, 0, 0], 0.1563573883161512, 3.4565217391304346), 213: ('Room with a View, A (1986)', [0, 0, 0, 0, 0, 0, 0, 0, 1, 0, 0, 0, 0, 0, 1, 0, 0, 0, 0], 0.22852233676975944, 3.985074626865672), 214: ('Pink Floyd - The Wall (1982)', [0, 0, 0, 0, 0, 0, 0, 0, 1, 0, 0, 0, 1, 0, 0, 0, 0, 1, 0], 0.19415807560137457, 3.3508771929824563), 215: ('Field of Dreams (1989)', [0, 0, 0, 0, 0, 0, 0, 0, 1, 0, 0, 0, 0, 0, 0, 0, 0, 0, 0], 0.36254295532646047, 3.69811320754717), 216: ('When Harry Met Sally... (1989)', [0, 0, 0, 0, 0, 1, 0, 0, 0, 0, 0, 0, 0, 0, 1, 0, 0, 0, 0], 0.4965635738831615, 3.910344827586207), 217: (\"Bram Stoker's Dracula (1992)\", [0, 0, 0, 0, 0, 0, 0, 0, 0, 0, 0, 1, 0, 0, 1, 0, 0, 0, 0], 0.20446735395189003, 3.158333333333333), 218: ('Cape Fear (1991)', [0, 0, 0, 0, 0, 0, 0, 0, 0, 0, 0, 0, 0, 0, 0, 0, 1, 0, 0], 0.2920962199312715, 3.456140350877193), 219: ('Nightmare on Elm Street, A (1984)', [0, 0, 0, 0, 0, 0, 0, 0, 0, 0, 0, 1, 0, 0, 0, 0, 0, 0, 0], 0.18900343642611683, 3.171171171171171), 220: ('Mirror Has Two Faces, The (1996)', [0, 0, 0, 0, 0, 1, 0, 0, 0, 0, 0, 0, 0, 0, 1, 0, 0, 0, 0], 0.11168384879725086, 3.3636363636363638), 221: ('Breaking the Waves (1996)', [0, 0, 0, 0, 0, 0, 0, 0, 1, 0, 0, 0, 0, 0, 0, 0, 0, 0, 0], 0.1254295532646048, 3.72972972972973), 222: ('Star Trek: First Contact (1996)', [0, 1, 1, 0, 0, 0, 0, 0, 0, 0, 0, 0, 0, 0, 0, 1, 0, 0, 0], 0.6254295532646048, 3.66027397260274), 223: ('Sling Blade (1996)', [0, 0, 0, 0, 0, 0, 0, 0, 1, 0, 0, 0, 0, 0, 0, 0, 1, 0, 0], 0.23195876288659795, 4.198529411764706), 224: ('Ridicule (1996)', [0, 0, 0, 0, 0, 0, 0, 0, 1, 0, 0, 0, 0, 0, 0, 0, 0, 0, 0], 0.07388316151202749, 3.7045454545454546), 225: ('101 Dalmatians (1996)', [0, 0, 0, 0, 1, 1, 0, 0, 0, 0, 0, 0, 0, 0, 0, 0, 0, 0, 0], 0.18556701030927836, 2.908256880733945), 226: ('Die Hard 2 (1990)', [0, 1, 0, 0, 0, 0, 0, 0, 0, 0, 0, 0, 0, 0, 0, 0, 1, 0, 0], 0.28350515463917525, 3.355421686746988), 227: ('Star Trek VI: The Undiscovered Country (1991)', [0, 1, 1, 0, 0, 0, 0, 0, 0, 0, 0, 0, 0, 0, 0, 1, 0, 0, 0], 0.27491408934707906, 3.279503105590062), 228: ('Star Trek: The Wrath of Khan (1982)', [0, 1, 1, 0, 0, 0, 0, 0, 0, 0, 0, 0, 0, 0, 0, 1, 0, 0, 0], 0.4175257731958763, 3.8155737704918034), 229: ('Star Trek III: The Search for Spock (1984)', [0, 1, 1, 0, 0, 0, 0, 0, 0, 0, 0, 0, 0, 0, 0, 1, 0, 0, 0], 0.2920962199312715, 3.111111111111111), 230: ('Star Trek IV: The Voyage Home (1986)', [0, 1, 1, 0, 0, 0, 0, 0, 0, 0, 0, 0, 0, 0, 0, 1, 0, 0, 0], 0.3402061855670103, 3.4472361809045227), 231: ('Batman Returns (1992)', [0, 1, 1, 0, 0, 1, 1, 0, 0, 0, 0, 0, 0, 0, 0, 0, 0, 0, 0], 0.2422680412371134, 2.683098591549296), 232: ('Young Guns (1988)', [0, 1, 0, 0, 0, 1, 0, 0, 0, 0, 0, 0, 0, 0, 0, 0, 0, 0, 1], 0.1718213058419244, 3.207920792079208), 233: ('Under Siege (1992)', [0, 1, 0, 0, 0, 0, 0, 0, 0, 0, 0, 0, 0, 0, 0, 0, 0, 0, 0], 0.211340206185567, 3.2903225806451615), 234: ('Jaws (1975)', [0, 1, 0, 0, 0, 0, 0, 0, 0, 0, 0, 1, 0, 0, 0, 0, 0, 0, 0], 0.4793814432989691, 3.775), 235: ('Mars Attacks! (1996)', [0, 1, 0, 0, 0, 1, 0, 0, 0, 0, 0, 0, 0, 0, 0, 1, 0, 1, 0], 0.3711340206185567, 2.847926267281106), 236: ('Citizen Ruth (1996)', [0, 0, 0, 0, 0, 1, 0, 0, 1, 0, 0, 0, 0, 0, 0, 0, 0, 0, 0], 0.07560137457044673, 3.6222222222222222), 237: ('Jerry Maguire (1996)', [0, 0, 0, 0, 0, 0, 0, 0, 1, 0, 0, 0, 0, 0, 1, 0, 0, 0, 0], 0.6580756013745704, 3.7109375), 238: ('Raising Arizona (1987)', [0, 0, 0, 0, 0, 1, 0, 0, 0, 0, 0, 0, 0, 0, 0, 0, 0, 0, 0], 0.4381443298969072, 3.875), 239: ('Sneakers (1992)', [0, 0, 0, 0, 0, 0, 1, 0, 1, 0, 0, 0, 0, 0, 0, 1, 0, 0, 0], 0.25601374570446733, 3.513333333333333), 240: ('Beavis and Butt-head Do America (1996)', [0, 0, 0, 1, 0, 1, 0, 0, 0, 0, 0, 0, 0, 0, 0, 0, 0, 0, 0], 0.2663230240549828, 2.7884615384615383), 241: ('Last of the Mohicans, The (1992)', [0, 1, 0, 0, 0, 0, 0, 0, 0, 0, 0, 0, 0, 0, 1, 0, 0, 1, 0], 0.218213058419244, 3.546875), 242: ('Kolya (1996)', [0, 0, 0, 0, 0, 1, 0, 0, 0, 0, 0, 0, 0, 0, 0, 0, 0, 0, 0], 0.19931271477663232, 3.9914529914529915), 243: ('Jungle2Jungle (1997)', [0, 0, 0, 0, 1, 1, 0, 0, 0, 0, 0, 0, 0, 0, 0, 0, 0, 0, 0], 0.22508591065292097, 2.4393939393939394), 244: (\"Smilla's Sense of Snow (1997)\", [0, 1, 0, 0, 0, 0, 0, 0, 1, 0, 0, 0, 0, 0, 0, 0, 1, 0, 0], 0.08075601374570447, 3.1666666666666665), 245: (\"Devil's Own, The (1997)\", [0, 1, 0, 0, 0, 0, 0, 0, 1, 0, 0, 0, 0, 0, 0, 0, 1, 1, 0], 0.4106529209621993, 3.1083333333333334), 246: ('Chasing Amy (1997)', [0, 0, 0, 0, 0, 0, 0, 0, 1, 0, 0, 0, 0, 0, 1, 0, 0, 0, 0], 0.211340206185567, 3.935483870967742), 247: ('Turbo: A Power Rangers Movie (1997)', [0, 1, 1, 0, 1, 0, 0, 0, 0, 0, 0, 0, 0, 0, 0, 0, 0, 0, 0], 0.006872852233676976, 1.8), 248: ('Grosse Pointe Blank (1997)', [0, 0, 0, 0, 0, 1, 1, 0, 0, 0, 0, 0, 0, 0, 0, 0, 0, 0, 0], 0.27319587628865977, 3.675), 249: ('Austin Powers: International Man of Mystery (1997)', [0, 0, 0, 0, 0, 1, 0, 0, 0, 0, 0, 0, 0, 0, 0, 0, 0, 0, 0], 0.22164948453608246, 3.246153846153846), 250: ('Fifth Element, The (1997)', [0, 1, 0, 0, 0, 0, 0, 0, 0, 0, 0, 0, 0, 0, 0, 1, 0, 0, 0], 0.33676975945017185, 3.4771573604060912), 251: ('Shall We Dance? (1996)', [0, 0, 0, 0, 0, 1, 0, 0, 0, 0, 0, 0, 0, 0, 0, 0, 0, 0, 0], 0.07731958762886598, 4.260869565217392), 252: ('Lost World: Jurassic Park, The (1997)', [0, 1, 1, 0, 0, 0, 0, 0, 0, 0, 0, 0, 0, 0, 0, 1, 1, 0, 0], 0.2697594501718213, 2.9430379746835444), 253: ('Pillow Book, The (1995)', [0, 0, 0, 0, 0, 0, 0, 0, 1, 0, 0, 0, 0, 0, 1, 0, 0, 0, 0], 0.0429553264604811, 3.6923076923076925), 254: ('Batman & Robin (1997)', [0, 1, 1, 0, 0, 0, 1, 0, 0, 0, 0, 0, 0, 0, 0, 0, 0, 0, 0], 0.10481099656357389, 2.4516129032258065), 255: (\"My Best Friend's Wedding (1997)\", [0, 0, 0, 0, 0, 1, 0, 0, 0, 0, 0, 0, 0, 0, 1, 0, 0, 0, 0], 0.29381443298969073, 3.36046511627907), 256: ('When the Cats Away (Chacun cherche son chat) (1996)', [0, 0, 0, 0, 0, 1, 0, 0, 0, 0, 0, 0, 0, 0, 1, 0, 0, 0, 0], 0.02577319587628866, 3.5625), 257: ('Men in Black (1997)', [0, 1, 1, 0, 0, 1, 0, 0, 0, 0, 0, 0, 0, 0, 0, 1, 0, 0, 0], 0.5189003436426117, 3.745874587458746), 258: ('Contact (1997)', [0, 0, 0, 0, 0, 0, 0, 0, 1, 0, 0, 0, 0, 0, 0, 1, 0, 0, 0], 0.872852233676976, 3.8035363457760316), 259: ('George of the Jungle (1997)', [0, 0, 0, 0, 1, 1, 0, 0, 0, 0, 0, 0, 0, 0, 0, 0, 0, 0, 0], 0.2766323024054983, 2.685185185185185), 260: ('Event Horizon (1997)', [0, 1, 0, 0, 0, 0, 0, 0, 0, 0, 0, 0, 0, 1, 0, 1, 1, 0, 0], 0.21649484536082475, 2.574803149606299), 261: ('Air Bud (1997)', [0, 0, 0, 0, 1, 1, 0, 0, 0, 0, 0, 0, 0, 0, 0, 0, 0, 0, 0], 0.07216494845360824, 2.558139534883721), 262: ('In the Company of Men (1997)', [0, 0, 0, 0, 0, 0, 0, 0, 1, 0, 0, 0, 0, 0, 0, 0, 0, 0, 0], 0.11168384879725086, 3.712121212121212), 263: ('Steel (1997)', [0, 1, 0, 0, 0, 0, 0, 0, 0, 0, 0, 0, 0, 0, 0, 0, 0, 0, 0], 0.030927835051546393, 2.1578947368421053), 264: ('Mimic (1997)', [0, 0, 0, 0, 0, 0, 0, 0, 0, 0, 0, 0, 0, 0, 0, 1, 1, 0, 0], 0.1718213058419244, 2.742574257425743), 265: ('Hunt for Red October, The (1990)', [0, 1, 0, 0, 0, 0, 0, 0, 0, 0, 0, 0, 0, 0, 0, 0, 1, 0, 0], 0.38831615120274915, 3.8634361233480177), 266: ('Kull the Conqueror (1997)', [0, 1, 1, 0, 0, 0, 0, 0, 0, 0, 0, 0, 0, 0, 0, 0, 0, 0, 0], 0.058419243986254296, 2.7142857142857144), 267: ('unknown', [1, 0, 0, 0, 0, 0, 0, 0, 0, 0, 0, 0, 0, 0, 0, 0, 0, 0, 0], 0.013745704467353952, 3.4444444444444446), 268: ('Chasing Amy (1997)', [0, 0, 0, 0, 0, 0, 0, 0, 1, 0, 0, 0, 0, 0, 1, 0, 0, 0, 0], 0.436426116838488, 3.792156862745098), 269: ('Full Monty, The (1997)', [0, 0, 0, 0, 0, 1, 0, 0, 0, 0, 0, 0, 0, 0, 0, 0, 0, 0, 0], 0.5395189003436426, 3.926984126984127), 270: ('Gattaca (1997)', [0, 0, 0, 0, 0, 0, 0, 0, 1, 0, 0, 0, 0, 0, 0, 1, 1, 0, 0], 0.23195876288659795, 3.5955882352941178), 271: ('Starship Troopers (1997)', [0, 1, 1, 0, 0, 0, 0, 0, 0, 0, 0, 0, 0, 0, 0, 1, 0, 1, 0], 0.36082474226804123, 3.2322274881516586), 272: ('Good Will Hunting (1997)', [0, 0, 0, 0, 0, 0, 0, 0, 1, 0, 0, 0, 0, 0, 0, 0, 0, 0, 0], 0.3384879725085911, 4.262626262626263), 273: ('Heat (1995)', [0, 1, 0, 0, 0, 0, 1, 0, 0, 0, 0, 0, 0, 0, 0, 0, 1, 0, 0], 0.38144329896907214, 3.569506726457399), 274: ('Sabrina (1995)', [0, 0, 0, 0, 0, 1, 0, 0, 0, 0, 0, 0, 0, 0, 1, 0, 0, 0, 0], 0.3247422680412371, 3.5), 275: ('Sense and Sensibility (1995)', [0, 0, 0, 0, 0, 0, 0, 0, 1, 0, 0, 0, 0, 0, 1, 0, 0, 0, 0], 0.4587628865979381, 4.0111940298507465), 276: ('Leaving Las Vegas (1995)', [0, 0, 0, 0, 0, 0, 0, 0, 1, 0, 0, 0, 0, 0, 1, 0, 0, 0, 0], 0.5103092783505154, 3.697986577181208), 277: ('Restoration (1995)', [0, 0, 0, 0, 0, 0, 0, 0, 1, 0, 0, 0, 0, 0, 0, 0, 0, 0, 0], 0.12027491408934708, 3.464788732394366), 278: ('Bed of Roses (1996)', [0, 0, 0, 0, 0, 0, 0, 0, 1, 0, 0, 0, 0, 0, 1, 0, 0, 0, 0], 0.1013745704467354, 3.2333333333333334), 279: ('Once Upon a Time... When We Were Colored (1995)', [0, 0, 0, 0, 0, 0, 0, 0, 1, 0, 0, 0, 0, 0, 0, 0, 0, 0, 0], 0.04639175257731959, 3.2857142857142856), 280: ('Up Close and Personal (1996)', [0, 0, 0, 0, 0, 0, 0, 0, 1, 0, 0, 0, 0, 0, 1, 0, 0, 0, 0], 0.14432989690721648, 3.1882352941176473), 281: ('River Wild, The (1994)', [0, 1, 0, 0, 0, 0, 0, 0, 0, 0, 0, 0, 0, 0, 0, 0, 1, 0, 0], 0.24914089347079038, 3.143835616438356), 282: ('Time to Kill, A (1996)', [0, 0, 0, 0, 0, 0, 0, 0, 1, 0, 0, 0, 0, 0, 0, 0, 0, 0, 0], 0.39690721649484534, 3.685344827586207), 283: ('Emma (1996)', [0, 0, 0, 0, 0, 0, 0, 0, 1, 0, 0, 0, 0, 0, 1, 0, 0, 0, 0], 0.3024054982817869, 3.7175141242937855), 284: ('Tin Cup (1996)', [0, 0, 0, 0, 0, 1, 0, 0, 0, 0, 0, 0, 0, 0, 1, 0, 0, 0, 0], 0.32989690721649484, 3.160621761658031), 285: ('Secrets & Lies (1996)', [0, 0, 0, 0, 0, 0, 0, 0, 1, 0, 0, 0, 0, 0, 0, 0, 0, 0, 0], 0.2766323024054983, 4.265432098765432), 286: ('English Patient, The (1996)', [0, 0, 0, 0, 0, 0, 0, 0, 1, 0, 0, 0, 0, 0, 1, 0, 0, 1, 0], 0.8247422680412371, 3.656964656964657), 287: (\"Marvin's Room (1996)\", [0, 0, 0, 0, 0, 0, 0, 0, 1, 0, 0, 0, 0, 0, 0, 0, 0, 0, 0], 0.1323024054982818, 3.58974358974359), 288: ('Scream (1996)', [0, 0, 0, 0, 0, 0, 0, 0, 0, 0, 0, 1, 0, 0, 0, 0, 1, 0, 0], 0.8195876288659794, 3.4414225941422596), 289: ('Evita (1996)', [0, 0, 0, 0, 0, 0, 0, 0, 1, 0, 0, 0, 1, 0, 0, 0, 0, 0, 0], 0.44329896907216493, 2.9806949806949805), 290: ('Fierce Creatures (1997)', [0, 0, 0, 0, 0, 1, 0, 0, 0, 0, 0, 0, 0, 0, 0, 0, 0, 0, 0], 0.16323024054982818, 3.1145833333333335), 291: ('Absolute Power (1997)', [0, 0, 0, 0, 0, 0, 0, 0, 0, 0, 0, 0, 0, 1, 0, 0, 1, 0, 0], 0.21649484536082475, 3.37007874015748), 292: ('Rosewood (1997)', [0, 0, 0, 0, 0, 0, 0, 0, 1, 0, 0, 0, 0, 0, 0, 0, 0, 0, 0], 0.19415807560137457, 3.6666666666666665), 293: ('Donnie Brasco (1997)', [0, 0, 0, 0, 0, 0, 1, 0, 1, 0, 0, 0, 0, 0, 0, 0, 0, 0, 0], 0.2508591065292096, 3.802721088435374), 294: ('Liar Liar (1997)', [0, 0, 0, 0, 0, 1, 0, 0, 0, 0, 0, 0, 0, 0, 0, 0, 0, 0, 0], 0.8316151202749141, 3.156701030927835), 295: ('Breakdown (1997)', [0, 1, 0, 0, 0, 0, 0, 0, 0, 0, 0, 0, 0, 0, 0, 0, 1, 0, 0], 0.13058419243986255, 3.4025974025974026), 296: ('Promesse, La (1996)', [0, 0, 0, 0, 0, 0, 0, 0, 1, 0, 0, 0, 0, 0, 0, 0, 0, 0, 0], 0.00859106529209622, 3.3333333333333335), 297: (\"Ulee's Gold (1997)\", [0, 0, 0, 0, 0, 0, 0, 0, 1, 0, 0, 0, 0, 0, 0, 0, 0, 0, 0], 0.08419243986254296, 3.96), 298: ('Face/Off (1997)', [0, 1, 0, 0, 0, 0, 0, 0, 0, 0, 0, 0, 0, 0, 0, 1, 1, 0, 0], 0.3316151202749141, 3.768041237113402), 299: ('Hoodlum (1997)', [0, 0, 0, 0, 0, 0, 1, 0, 1, 0, 1, 0, 0, 0, 0, 0, 0, 0, 0], 0.12371134020618557, 2.9315068493150687), 300: ('Air Force One (1997)', [0, 1, 0, 0, 0, 0, 0, 0, 0, 0, 0, 0, 0, 0, 0, 0, 1, 0, 0], 0.738831615120275, 3.6310904872389793), 301: ('In & Out (1997)', [0, 0, 0, 0, 0, 1, 0, 0, 0, 0, 0, 0, 0, 0, 0, 0, 0, 0, 0], 0.39347079037800686, 3.3043478260869565), 302: ('L.A. Confidential (1997)', [0, 0, 0, 0, 0, 0, 1, 0, 0, 0, 1, 0, 0, 1, 0, 0, 1, 0, 0], 0.5085910652920962, 4.161616161616162), 303: (\"Ulee's Gold (1997)\", [0, 0, 0, 0, 0, 0, 0, 0, 1, 0, 0, 0, 0, 0, 0, 0, 0, 0, 0], 0.22852233676975944, 3.6865671641791047), 304: ('Fly Away Home (1996)', [0, 0, 1, 0, 1, 0, 0, 0, 0, 0, 0, 0, 0, 0, 0, 0, 0, 0, 0], 0.2542955326460481, 3.5369127516778525), 305: ('Ice Storm, The (1997)', [0, 0, 0, 0, 0, 0, 0, 0, 1, 0, 0, 0, 0, 0, 0, 0, 0, 0, 0], 0.14776632302405499, 3.6436781609195403), 306: ('Mrs. Brown (Her Majesty, Mrs. Brown) (1997)', [0, 0, 0, 0, 0, 0, 0, 0, 1, 0, 0, 0, 0, 0, 1, 0, 0, 0, 0], 0.16323024054982818, 3.9479166666666665), 307: (\"Devil's Advocate, The (1997)\", [0, 0, 0, 0, 0, 0, 1, 0, 0, 0, 0, 1, 0, 1, 0, 0, 1, 0, 0], 0.32130584192439865, 3.515957446808511), 308: ('FairyTale: A True Story (1997)', [0, 0, 0, 0, 1, 0, 0, 0, 1, 1, 0, 0, 0, 0, 0, 0, 0, 0, 0], 0.04982817869415808, 2.966666666666667), 309: ('Deceiver (1997)', [0, 0, 0, 0, 0, 0, 1, 0, 0, 0, 0, 0, 0, 0, 0, 0, 0, 0, 0], 0.04639175257731959, 2.857142857142857), 310: ('Rainmaker, The (1997)', [0, 0, 0, 0, 0, 0, 0, 0, 1, 0, 0, 0, 0, 0, 0, 0, 0, 0, 0], 0.24742268041237114, 3.6), 311: ('Wings of the Dove, The (1997)', [0, 0, 0, 0, 0, 0, 0, 0, 1, 0, 0, 0, 0, 0, 1, 0, 1, 0, 0], 0.12714776632302405, 3.68), 312: ('Midnight in the Garden of Good and Evil (1997)', [0, 0, 0, 0, 0, 1, 1, 0, 1, 0, 0, 0, 0, 1, 0, 0, 0, 0, 0], 0.13573883161512026, 3.1625), 313: ('Titanic (1997)', [0, 1, 0, 0, 0, 0, 0, 0, 1, 0, 0, 0, 0, 0, 1, 0, 0, 0, 0], 0.5996563573883161, 4.2457142857142856), 314: ('3 Ninjas: High Noon At Mega Mountain (1998)', [0, 1, 0, 0, 1, 0, 0, 0, 0, 0, 0, 0, 0, 0, 0, 0, 0, 0, 0], 0.006872852233676976, 1.0), 315: ('Apt Pupil (1998)', [0, 0, 0, 0, 0, 0, 0, 0, 1, 0, 0, 0, 0, 0, 0, 0, 1, 0, 0], 0.27319587628865977, 4.1), 316: ('As Good As It Gets (1997)', [0, 0, 0, 0, 0, 1, 0, 0, 1, 0, 0, 0, 0, 0, 0, 0, 0, 0, 0], 0.19072164948453607, 4.196428571428571), 317: ('In the Name of the Father (1993)', [0, 0, 0, 0, 0, 0, 0, 0, 1, 0, 0, 0, 0, 0, 0, 0, 0, 0, 0], 0.17353951890034364, 3.911764705882353), 318: (\"Schindler's List (1993)\", [0, 0, 0, 0, 0, 0, 0, 0, 1, 0, 0, 0, 0, 0, 0, 0, 0, 1, 0], 0.5103092783505154, 4.466442953020135), 319: ('Everyone Says I Love You (1996)', [0, 0, 0, 0, 0, 1, 0, 0, 0, 0, 0, 0, 1, 0, 1, 0, 0, 0, 0], 0.2869415807560137, 3.2738095238095237), 320: ('Paradise Lost: The Child Murders at Robin Hood Hills (1996)', [0, 0, 0, 0, 0, 0, 0, 1, 0, 0, 0, 0, 0, 0, 0, 0, 0, 0, 0], 0.03264604810996564, 4.05), 321: ('Mother (1996)', [0, 0, 0, 0, 0, 1, 0, 0, 0, 0, 0, 0, 0, 0, 0, 0, 0, 0, 0], 0.28865979381443296, 3.1301775147928996), 322: ('Murder at 1600 (1997)', [0, 0, 0, 0, 0, 0, 0, 0, 0, 0, 0, 0, 0, 1, 0, 0, 1, 0, 0], 0.37285223367697595, 3.0871559633027523), 323: (\"Dante's Peak (1997)\", [0, 1, 0, 0, 0, 0, 0, 0, 0, 0, 0, 0, 0, 0, 0, 0, 1, 0, 0], 0.4106529209621993, 2.933333333333333), 324: ('Lost Highway (1997)', [0, 0, 0, 0, 0, 0, 0, 0, 0, 0, 0, 0, 0, 1, 0, 0, 0, 0, 0], 0.21305841924398625, 3.136), 325: ('Crash (1996)', [0, 0, 0, 0, 0, 0, 0, 0, 1, 0, 0, 0, 0, 0, 0, 0, 1, 0, 0], 0.218213058419244, 2.546875), 326: ('G.I. Jane (1997)', [0, 1, 0, 0, 0, 0, 0, 0, 1, 0, 0, 0, 0, 0, 0, 0, 0, 1, 0], 0.29896907216494845, 3.36), 327: ('Cop Land (1997)', [0, 0, 0, 0, 0, 0, 1, 0, 1, 0, 0, 0, 0, 1, 0, 0, 0, 0, 0], 0.29896907216494845, 3.3771428571428572), 328: ('Conspiracy Theory (1997)', [0, 1, 0, 0, 0, 0, 0, 0, 0, 0, 0, 0, 0, 1, 1, 0, 1, 0, 0], 0.5051546391752577, 3.4237288135593222), 329: ('Desperate Measures (1998)', [0, 0, 0, 0, 0, 0, 1, 0, 1, 0, 0, 0, 0, 0, 0, 0, 1, 0, 0], 0.07560137457044673, 3.3333333333333335), 330: ('187 (1997)', [0, 0, 0, 0, 0, 0, 0, 0, 1, 0, 0, 0, 0, 0, 0, 0, 0, 0, 0], 0.06872852233676977, 3.024390243902439), 331: ('Edge, The (1997)', [0, 0, 1, 0, 0, 0, 0, 0, 0, 0, 0, 0, 0, 0, 0, 0, 1, 0, 0], 0.19243986254295534, 3.5398230088495577), 332: ('Kiss the Girls (1997)', [0, 0, 0, 0, 0, 0, 1, 0, 1, 0, 0, 0, 0, 0, 0, 0, 1, 0, 0], 0.24398625429553264, 3.4615384615384617), 333: ('Game, The (1997)', [0, 0, 0, 0, 0, 0, 0, 0, 0, 0, 0, 0, 0, 1, 0, 0, 1, 0, 0], 0.42955326460481097, 3.593625498007968), 334: ('U Turn (1997)', [0, 1, 0, 0, 0, 0, 1, 0, 0, 0, 0, 0, 0, 1, 0, 0, 0, 0, 0], 0.10824742268041238, 3.359375), 335: ('How to Be a Player (1997)', [0, 0, 0, 0, 0, 1, 0, 0, 0, 0, 0, 0, 0, 0, 0, 0, 0, 0, 0], 0.03436426116838488, 2.761904761904762), 336: ('Playing God (1997)', [0, 0, 0, 0, 0, 0, 1, 0, 0, 0, 0, 0, 0, 0, 0, 0, 1, 0, 0], 0.07216494845360824, 2.627906976744186), 337: ('House of Yes, The (1997)', [0, 0, 0, 0, 0, 1, 0, 0, 1, 0, 0, 0, 0, 0, 0, 0, 1, 0, 0], 0.029209621993127148, 3.0), 338: ('Bean (1997)', [0, 0, 0, 0, 0, 1, 0, 0, 0, 0, 0, 0, 0, 0, 0, 0, 0, 0, 0], 0.15463917525773196, 2.659340659340659), 339: ('Mad City (1997)', [0, 1, 0, 0, 0, 0, 0, 0, 1, 0, 0, 0, 0, 0, 0, 0, 0, 0, 0], 0.07903780068728522, 3.25531914893617), 340: ('Boogie Nights (1997)', [0, 0, 0, 0, 0, 0, 0, 0, 1, 0, 0, 0, 0, 0, 0, 0, 0, 0, 0], 0.3230240549828179, 3.5873015873015874), 341: ('Critical Care (1997)', [0, 0, 0, 0, 0, 1, 0, 0, 0, 0, 0, 0, 0, 0, 0, 0, 0, 0, 0], 0.01718213058419244, 3.090909090909091), 342: ('Man Who Knew Too Little, The (1997)', [0, 0, 0, 0, 0, 1, 0, 0, 0, 0, 0, 0, 0, 1, 0, 0, 0, 0, 0], 0.08762886597938144, 2.923076923076923), 343: ('Alien: Resurrection (1997)', [0, 1, 0, 0, 0, 0, 0, 0, 0, 0, 0, 1, 0, 0, 0, 1, 0, 0, 0], 0.211340206185567, 3.096774193548387), 344: ('Apostle, The (1997)', [0, 0, 0, 0, 0, 0, 0, 0, 1, 0, 0, 0, 0, 0, 0, 0, 0, 0, 0], 0.09278350515463918, 3.6545454545454548), 345: ('Deconstructing Harry (1997)', [0, 0, 0, 0, 0, 1, 0, 0, 1, 0, 0, 0, 0, 0, 0, 0, 0, 0, 0], 0.10996563573883161, 3.4), 346: ('Jackie Brown (1997)', [0, 0, 0, 0, 0, 0, 1, 0, 1, 0, 0, 0, 0, 0, 0, 0, 0, 0, 0], 0.21477663230240548, 3.642857142857143), 347: ('Wag the Dog (1997)', [0, 0, 0, 0, 0, 1, 0, 0, 1, 0, 0, 0, 0, 0, 0, 0, 0, 0, 0], 0.23367697594501718, 3.510948905109489), 348: ('Desperate Measures (1998)', [0, 0, 0, 0, 0, 0, 1, 0, 1, 0, 0, 0, 0, 0, 0, 0, 1, 0, 0], 0.044673539518900345, 3.2962962962962963), 349: ('Hard Rain (1998)', [0, 1, 0, 0, 0, 0, 0, 0, 0, 0, 0, 0, 0, 0, 0, 0, 1, 0, 0], 0.05154639175257732, 2.903225806451613), 350: ('Fallen (1998)', [0, 1, 0, 0, 0, 0, 0, 0, 0, 0, 0, 0, 0, 1, 0, 0, 1, 0, 0], 0.06872852233676977, 3.1463414634146343), 351: ('Prophecy II, The (1998)', [0, 0, 0, 0, 0, 0, 0, 0, 0, 0, 0, 1, 0, 0, 0, 0, 0, 0, 0], 0.03264604810996564, 2.7), 352: ('Spice World (1997)', [0, 0, 0, 0, 0, 1, 0, 0, 0, 0, 0, 0, 1, 0, 0, 0, 0, 0, 0], 0.0429553264604811, 2.1153846153846154), 353: ('Deep Rising (1998)', [0, 1, 0, 0, 0, 0, 0, 0, 0, 0, 0, 1, 0, 0, 0, 1, 0, 0, 0], 0.022336769759450172, 2.4285714285714284), 354: ('Wedding Singer, The (1998)', [0, 0, 0, 0, 0, 1, 0, 0, 0, 0, 0, 0, 0, 0, 1, 0, 0, 0, 0], 0.12199312714776632, 3.486111111111111), 355: ('Sphere (1998)', [0, 0, 1, 0, 0, 0, 0, 0, 0, 0, 0, 0, 0, 0, 0, 1, 1, 0, 0], 0.06872852233676977, 2.926829268292683), 356: ('Client, The (1994)', [0, 0, 0, 0, 0, 0, 0, 0, 1, 0, 0, 0, 0, 1, 0, 0, 1, 0, 0], 0.16494845360824742, 3.381443298969072), 357: (\"One Flew Over the Cuckoo's Nest (1975)\", [0, 0, 0, 0, 0, 0, 0, 0, 1, 0, 0, 0, 0, 0, 0, 0, 0, 0, 0], 0.4518900343642612, 4.291666666666667), 358: ('Spawn (1997)', [0, 1, 1, 0, 0, 0, 0, 0, 0, 0, 0, 0, 0, 0, 0, 1, 1, 0, 0], 0.24398625429553264, 2.6153846153846154), 359: ('Assignment, The (1997)', [0, 0, 0, 0, 0, 0, 0, 0, 0, 0, 0, 0, 0, 0, 0, 0, 1, 0, 0], 0.029209621993127148, 3.5), 360: ('Wonderland (1997)', [0, 0, 0, 0, 0, 0, 0, 1, 0, 0, 0, 0, 0, 0, 0, 0, 0, 0, 0], 0.015463917525773196, 3.2), 361: ('Incognito (1997)', [0, 0, 0, 0, 0, 0, 1, 0, 0, 0, 0, 0, 0, 0, 0, 0, 1, 0, 0], 0.015463917525773196, 3.5), 362: ('Blues Brothers 2000 (1998)', [0, 1, 0, 0, 0, 1, 0, 0, 0, 0, 0, 0, 1, 0, 0, 0, 0, 0, 0], 0.04639175257731959, 2.8214285714285716), 363: ('Sudden Death (1995)', [0, 1, 0, 0, 0, 0, 0, 0, 0, 0, 0, 0, 0, 0, 0, 0, 0, 0, 0], 0.07903780068728522, 2.723404255319149), 364: ('Ace Ventura: When Nature Calls (1995)', [0, 0, 0, 0, 0, 1, 0, 0, 0, 0, 0, 0, 0, 0, 0, 0, 0, 0, 0], 0.061855670103092786, 2.675675675675676), 365: ('Powder (1995)', [0, 0, 0, 0, 0, 0, 0, 0, 1, 0, 0, 0, 0, 0, 0, 0, 0, 0, 0], 0.08075601374570447, 3.2083333333333335), 366: ('Dangerous Minds (1995)', [0, 0, 0, 0, 0, 0, 0, 0, 1, 0, 0, 0, 0, 0, 0, 0, 0, 0, 0], 0.07903780068728522, 3.3404255319148937), 367: ('Clueless (1995)', [0, 0, 0, 0, 0, 1, 0, 0, 0, 0, 0, 0, 0, 0, 0, 0, 0, 0, 0], 0.29037800687285226, 3.458823529411765), 368: ('Bio-Dome (1996)', [0, 0, 0, 0, 0, 1, 0, 0, 0, 0, 0, 0, 0, 0, 0, 0, 0, 0, 0], 0.05154639175257732, 1.903225806451613), 369: ('Black Sheep (1996)', [0, 0, 0, 0, 0, 1, 0, 0, 0, 0, 0, 0, 0, 0, 0, 0, 0, 0, 0], 0.09278350515463918, 2.6363636363636362), 370: ('Mary Reilly (1996)', [0, 0, 0, 0, 0, 0, 0, 0, 1, 0, 0, 0, 0, 0, 0, 0, 1, 0, 0], 0.06529209621993128, 2.8205128205128207), 371: ('Bridges of Madison County, The (1995)', [0, 0, 0, 0, 0, 0, 0, 0, 1, 0, 0, 0, 0, 0, 1, 0, 0, 0, 0], 0.1134020618556701, 3.1641791044776117), 372: ('Jeffrey (1995)', [0, 0, 0, 0, 0, 1, 0, 0, 0, 0, 0, 0, 0, 0, 0, 0, 0, 0, 0], 0.05670103092783505, 3.5294117647058822), 373: ('Judge Dredd (1995)', [0, 1, 1, 0, 0, 0, 0, 0, 0, 0, 0, 0, 0, 0, 0, 1, 0, 0, 0], 0.06529209621993128, 2.8974358974358974), 374: ('Mighty Morphin Power Rangers: The Movie (1995)', [0, 1, 0, 0, 1, 0, 0, 0, 0, 0, 0, 0, 0, 0, 0, 0, 0, 0, 0], 0.01718213058419244, 2.272727272727273), 375: ('Showgirls (1995)', [0, 0, 0, 0, 0, 0, 0, 0, 1, 0, 0, 0, 0, 0, 0, 0, 0, 0, 0], 0.037800687285223365, 1.9565217391304348), 376: ('Houseguest (1994)', [0, 0, 0, 0, 0, 1, 0, 0, 0, 0, 0, 0, 0, 0, 0, 0, 0, 0, 0], 0.03951890034364261, 2.8333333333333335), 377: ('Heavyweights (1994)', [0, 0, 0, 0, 1, 1, 0, 0, 0, 0, 0, 0, 0, 0, 0, 0, 0, 0, 0], 0.020618556701030927, 2.1538461538461537), 378: ('Miracle on 34th Street (1994)', [0, 0, 0, 0, 0, 0, 0, 0, 1, 0, 0, 0, 0, 0, 0, 0, 0, 0, 0], 0.1718213058419244, 3.722772277227723), 379: ('Tales From the Crypt Presents: Demon Knight (1995)', [0, 0, 0, 0, 0, 0, 0, 0, 0, 0, 0, 1, 0, 0, 0, 0, 0, 0, 0], 0.07216494845360824, 2.9767441860465116), 380: ('Star Trek: Generations (1994)', [0, 1, 1, 0, 0, 0, 0, 0, 0, 0, 0, 0, 0, 0, 0, 1, 0, 0, 0], 0.19759450171821305, 3.336206896551724), 381: (\"Muriel's Wedding (1994)\", [0, 0, 0, 0, 0, 1, 0, 0, 0, 0, 0, 0, 0, 0, 1, 0, 0, 0, 0], 0.17010309278350516, 3.55), 382: ('Adventures of Priscilla, Queen of the Desert, The (1994)', [0, 0, 0, 0, 0, 1, 0, 0, 1, 0, 0, 0, 0, 0, 0, 0, 0, 0, 0], 0.18900343642611683, 3.5945945945945947), 383: ('Flintstones, The (1994)', [0, 0, 0, 0, 1, 1, 0, 0, 0, 0, 0, 0, 0, 0, 0, 0, 0, 0, 0], 0.05154639175257732, 2.064516129032258), 384: ('Naked Gun 33 1/3: The Final Insult (1994)', [0, 0, 0, 0, 0, 1, 0, 0, 0, 0, 0, 0, 0, 0, 0, 0, 0, 0, 0], 0.11683848797250859, 2.782608695652174), 385: ('True Lies (1994)', [0, 1, 1, 0, 0, 1, 0, 0, 0, 0, 0, 0, 0, 0, 1, 0, 0, 0, 0], 0.3556701030927835, 3.5625), 386: ('Addams Family Values (1993)', [0, 0, 0, 0, 0, 1, 0, 0, 0, 0, 0, 0, 0, 0, 0, 0, 0, 0, 0], 0.14776632302405499, 2.8160919540229883), 387: ('Age of Innocence, The (1993)', [0, 0, 0, 0, 0, 0, 0, 0, 1, 0, 0, 0, 0, 0, 0, 0, 0, 0, 0], 0.10996563573883161, 3.3846153846153846), 388: ('Beverly Hills Cop III (1994)', [0, 1, 0, 0, 0, 1, 0, 0, 0, 0, 0, 0, 0, 0, 0, 0, 0, 0, 0], 0.04639175257731959, 2.392857142857143), 389: ('Black Beauty (1994)', [0, 0, 1, 0, 1, 0, 0, 0, 0, 0, 0, 0, 0, 0, 0, 0, 0, 0, 0], 0.044673539518900345, 3.4444444444444446), 390: ('Fear of a Black Hat (1993)', [0, 0, 0, 0, 0, 1, 0, 0, 0, 0, 0, 0, 0, 0, 0, 0, 0, 0, 0], 0.015463917525773196, 3.2), 391: ('Last Action Hero (1993)', [0, 1, 0, 0, 0, 1, 0, 0, 0, 0, 0, 0, 0, 0, 0, 0, 0, 0, 0], 0.09965635738831616, 2.7457627118644066), 392: ('Man Without a Face, The (1993)', [0, 0, 0, 0, 0, 0, 0, 0, 1, 0, 0, 0, 0, 0, 0, 0, 0, 0, 0], 0.11512027491408934, 3.5441176470588234), 393: ('Mrs. Doubtfire (1993)', [0, 0, 0, 0, 0, 1, 0, 0, 0, 0, 0, 0, 0, 0, 0, 0, 0, 0, 0], 0.3281786941580756, 3.4114583333333335), 394: ('Radioland Murders (1994)', [0, 0, 0, 0, 0, 1, 0, 0, 0, 0, 0, 0, 0, 1, 1, 0, 0, 0, 0], 0.018900343642611683, 3.3333333333333335), 395: ('Robin Hood: Men in Tights (1993)', [0, 0, 0, 0, 0, 1, 0, 0, 0, 0, 0, 0, 0, 0, 0, 0, 0, 0, 0], 0.09450171821305842, 2.5892857142857144), 396: ('Serial Mom (1994)', [0, 0, 0, 0, 0, 1, 1, 0, 0, 0, 0, 1, 0, 0, 0, 0, 0, 0, 0], 0.09106529209621993, 2.814814814814815), 397: ('Striking Distance (1993)', [0, 1, 0, 0, 0, 0, 0, 0, 0, 0, 0, 0, 0, 0, 0, 0, 0, 0, 0], 0.018900343642611683, 2.5833333333333335), 398: ('Super Mario Bros. (1993)', [0, 1, 1, 0, 1, 0, 0, 0, 0, 0, 0, 0, 0, 0, 0, 1, 0, 0, 0], 0.0429553264604811, 2.076923076923077), 399: ('Three Musketeers, The (1993)', [0, 1, 1, 0, 0, 1, 0, 0, 0, 0, 0, 0, 0, 0, 0, 0, 0, 0, 0], 0.15120274914089346, 3.303370786516854), 400: ('Little Rascals, The (1994)', [0, 0, 0, 0, 1, 1, 0, 0, 0, 0, 0, 0, 0, 0, 0, 0, 0, 0, 0], 0.029209621993127148, 2.7222222222222223), 401: ('Brady Bunch Movie, The (1995)', [0, 0, 0, 0, 0, 1, 0, 0, 0, 0, 0, 0, 0, 0, 0, 0, 0, 0, 0], 0.12886597938144329, 2.8026315789473686), 402: ('Ghost (1990)', [0, 0, 0, 0, 0, 1, 0, 0, 0, 0, 0, 0, 0, 0, 1, 0, 1, 0, 0], 0.29037800687285226, 3.4647058823529413), 403: ('Batman (1989)', [0, 1, 1, 0, 0, 0, 1, 0, 1, 0, 0, 0, 0, 0, 0, 0, 0, 0, 0], 0.3436426116838488, 3.427860696517413), 404: ('Pinocchio (1940)', [0, 0, 0, 1, 1, 0, 0, 0, 0, 0, 0, 0, 0, 0, 0, 0, 0, 0, 0], 0.1718213058419244, 3.6732673267326734), 405: ('Mission: Impossible (1996)', [0, 1, 1, 0, 0, 0, 0, 0, 0, 0, 0, 0, 0, 1, 0, 0, 0, 0, 0], 0.5893470790378007, 3.313953488372093), 406: ('Thinner (1996)', [0, 0, 0, 0, 0, 0, 0, 0, 0, 0, 0, 1, 0, 0, 0, 0, 1, 0, 0], 0.08247422680412371, 2.4489795918367347), 407: ('Spy Hard (1996)', [0, 0, 0, 0, 0, 1, 0, 0, 0, 0, 0, 0, 0, 0, 0, 0, 0, 0, 0], 0.07216494845360824, 2.511627906976744), 408: ('Close Shave, A (1995)', [0, 0, 0, 1, 0, 1, 0, 0, 0, 0, 0, 0, 0, 0, 0, 0, 1, 0, 0], 0.19072164948453607, 4.491071428571429), 409: ('Jack (1996)', [0, 0, 0, 0, 0, 1, 0, 0, 1, 0, 0, 0, 0, 0, 0, 0, 0, 0, 0], 0.11855670103092783, 3.142857142857143), 410: ('Kingpin (1996)', [0, 0, 0, 0, 0, 1, 0, 0, 0, 0, 0, 0, 0, 0, 0, 0, 0, 0, 0], 0.2766323024054983, 3.1296296296296298), 411: ('Nutty Professor, The (1996)', [0, 0, 0, 0, 0, 1, 0, 0, 0, 1, 0, 0, 0, 0, 1, 1, 0, 0, 0], 0.27835051546391754, 2.914110429447853), 412: ('Very Brady Sequel, A (1996)', [0, 0, 0, 0, 0, 1, 0, 0, 0, 0, 0, 0, 0, 0, 0, 0, 0, 0, 0], 0.15807560137457044, 2.3978494623655915), 413: ('Tales from the Crypt Presents: Bordello of Blood (1996)', [0, 0, 0, 0, 0, 0, 0, 0, 0, 0, 0, 1, 0, 0, 0, 0, 0, 0, 0], 0.09278350515463918, 2.6363636363636362), 414: ('My Favorite Year (1982)', [0, 0, 0, 0, 0, 1, 0, 0, 0, 0, 0, 0, 0, 0, 0, 0, 0, 0, 0], 0.10481099656357389, 3.532258064516129), 415: ('Apple Dumpling Gang, The (1975)', [0, 0, 0, 0, 1, 1, 0, 0, 0, 0, 0, 0, 0, 0, 0, 0, 0, 0, 1], 0.041237113402061855, 2.84), 416: ('Old Yeller (1957)', [0, 0, 0, 0, 1, 0, 0, 0, 1, 0, 0, 0, 0, 0, 0, 0, 0, 0, 0], 0.10824742268041238, 3.484375), 417: ('Parent Trap, The (1961)', [0, 0, 0, 0, 1, 0, 0, 0, 1, 0, 0, 0, 0, 0, 0, 0, 0, 0, 0], 0.12371134020618557, 3.095890410958904), 418: ('Cinderella (1950)', [0, 0, 0, 1, 1, 0, 0, 0, 0, 0, 0, 0, 1, 0, 0, 0, 0, 0, 0], 0.21993127147766323, 3.5813953488372094), 419: ('Mary Poppins (1964)', [0, 0, 0, 0, 1, 1, 0, 0, 0, 0, 0, 0, 1, 0, 0, 0, 0, 0, 0], 0.30412371134020616, 3.7247191011235956), 420: ('Alice in Wonderland (1951)', [0, 0, 0, 1, 1, 0, 0, 0, 0, 0, 0, 0, 1, 0, 0, 0, 0, 0, 0], 0.13745704467353953, 3.6666666666666665), 421: (\"William Shakespeare's Romeo and Juliet (1996)\", [0, 0, 0, 0, 0, 0, 0, 0, 1, 0, 0, 0, 0, 0, 1, 0, 0, 0, 0], 0.18041237113402062, 3.5943396226415096), 422: ('Aladdin and the King of Thieves (1996)', [0, 0, 0, 1, 1, 1, 0, 0, 0, 0, 0, 0, 0, 0, 0, 0, 0, 0, 0], 0.0429553264604811, 2.8461538461538463), 423: ('E.T. the Extra-Terrestrial (1982)', [0, 0, 0, 0, 1, 0, 0, 0, 1, 1, 0, 0, 0, 0, 0, 1, 0, 0, 0], 0.5137457044673539, 3.8333333333333335), 424: ('Children of the Corn: The Gathering (1996)', [0, 0, 0, 0, 0, 0, 0, 0, 0, 0, 0, 1, 0, 0, 0, 0, 0, 0, 0], 0.030927835051546393, 1.3157894736842106), 425: ('Bob Roberts (1992)', [0, 0, 0, 0, 0, 1, 0, 0, 0, 0, 0, 0, 0, 0, 0, 0, 0, 0, 0], 0.14432989690721648, 3.7411764705882353), 426: ('Transformers: The Movie, The (1986)', [0, 1, 0, 1, 1, 0, 0, 0, 0, 0, 0, 0, 0, 0, 0, 1, 1, 1, 0], 0.05326460481099656, 2.84375), 427: ('To Kill a Mockingbird (1962)', [0, 0, 0, 0, 0, 0, 0, 0, 1, 0, 0, 0, 0, 0, 0, 0, 0, 0, 0], 0.3745704467353952, 4.292237442922374), 428: ('Harold and Maude (1971)', [0, 0, 0, 0, 0, 1, 0, 0, 0, 0, 0, 0, 0, 0, 0, 0, 0, 0, 0], 0.20618556701030927, 3.8181818181818183), 429: ('Day the Earth Stood Still, The (1951)', [0, 0, 0, 0, 0, 0, 0, 0, 1, 0, 0, 0, 0, 0, 0, 1, 0, 0, 0], 0.16494845360824742, 3.9381443298969074), 430: ('Duck Soup (1933)', [0, 0, 0, 0, 0, 1, 0, 0, 0, 0, 0, 0, 0, 0, 0, 0, 0, 1, 0], 0.15807560137457044, 4.0), 431: ('Highlander (1986)', [0, 1, 1, 0, 0, 0, 0, 0, 0, 0, 0, 0, 0, 0, 0, 0, 0, 0, 0], 0.2611683848797251, 3.5359477124183005), 432: ('Fantasia (1940)', [0, 0, 0, 1, 1, 0, 0, 0, 0, 0, 0, 0, 1, 0, 0, 0, 0, 0, 0], 0.2972508591065292, 3.7701149425287355), 433: ('Heathers (1989)', [0, 0, 0, 0, 0, 1, 0, 0, 0, 0, 0, 0, 0, 0, 0, 0, 0, 0, 0], 0.2920962199312715, 3.690058479532164), 434: ('Forbidden Planet (1956)', [0, 0, 0, 0, 0, 0, 0, 0, 0, 0, 0, 0, 0, 0, 0, 1, 0, 0, 0], 0.1134020618556701, 3.8358208955223883), 435: ('Butch Cassidy and the Sundance Kid (1969)', [0, 1, 0, 0, 0, 1, 0, 0, 0, 0, 0, 0, 0, 0, 0, 0, 0, 0, 1], 0.3694158075601375, 3.949074074074074), 436: ('American Werewolf in London, An (1981)', [0, 0, 0, 0, 0, 0, 0, 0, 0, 0, 0, 1, 0, 0, 0, 0, 0, 0, 0], 0.16838487972508592, 3.5353535353535355), 437: (\"Amityville 1992: It's About Time (1992)\", [0, 0, 0, 0, 0, 0, 0, 0, 0, 0, 0, 1, 0, 0, 0, 0, 0, 0, 0], 0.006872852233676976, 1.0), 438: ('Amityville 3-D (1983)', [0, 0, 0, 0, 0, 0, 0, 0, 0, 0, 0, 1, 0, 0, 0, 0, 0, 0, 0], 0.00859106529209622, 1.1666666666666667), 439: ('Amityville: A New Generation (1993)', [0, 0, 0, 0, 0, 0, 0, 0, 0, 0, 0, 1, 0, 0, 0, 0, 0, 0, 0], 0.006872852233676976, 1.0), 440: ('Amityville II: The Possession (1982)', [0, 0, 0, 0, 0, 0, 0, 0, 0, 0, 0, 1, 0, 0, 0, 0, 0, 0, 0], 0.022336769759450172, 1.6428571428571428), 441: ('Amityville Horror, The (1979)', [0, 0, 0, 0, 0, 0, 0, 0, 0, 0, 0, 1, 0, 0, 0, 0, 0, 0, 0], 0.08934707903780069, 2.5660377358490565), 442: ('Amityville Curse, The (1990)', [0, 0, 0, 0, 0, 0, 0, 0, 0, 0, 0, 1, 0, 0, 0, 0, 0, 0, 0], 0.005154639175257732, 1.25), 443: ('Birds, The (1963)', [0, 0, 0, 0, 0, 0, 0, 0, 0, 0, 0, 1, 0, 0, 0, 0, 0, 0, 0], 0.2766323024054983, 3.808641975308642), 444: ('Blob, The (1958)', [0, 0, 0, 0, 0, 0, 0, 0, 0, 0, 0, 1, 0, 0, 0, 1, 0, 0, 0], 0.07731958762886598, 2.717391304347826), 445: ('Body Snatcher, The (1945)', [0, 0, 0, 0, 0, 0, 0, 0, 0, 0, 0, 1, 0, 0, 0, 0, 0, 0, 0], 0.03608247422680412, 3.5), 446: ('Burnt Offerings (1976)', [0, 0, 0, 0, 0, 0, 0, 0, 0, 0, 0, 1, 0, 0, 0, 0, 0, 0, 0], 0.013745704467353952, 2.4444444444444446), 447: ('Carrie (1976)', [0, 0, 0, 0, 0, 0, 0, 0, 0, 0, 0, 1, 0, 0, 0, 0, 0, 0, 0], 0.20618556701030927, 3.5041322314049586), 448: ('Omen, The (1976)', [0, 0, 0, 0, 0, 0, 0, 0, 0, 0, 0, 1, 0, 0, 0, 0, 0, 0, 0], 0.14432989690721648, 3.388235294117647), 449: ('Star Trek: The Motion Picture (1979)', [0, 1, 1, 0, 0, 0, 0, 0, 0, 0, 0, 0, 0, 0, 0, 1, 0, 0, 0], 0.19931271477663232, 3.034188034188034), 450: ('Star Trek V: The Final Frontier (1989)', [0, 1, 1, 0, 0, 0, 0, 0, 0, 0, 0, 0, 0, 0, 0, 1, 0, 0, 0], 0.10652920962199312, 2.3968253968253967), 451: ('Grease (1978)', [0, 0, 0, 0, 0, 1, 0, 0, 0, 0, 0, 0, 1, 0, 1, 0, 0, 0, 0], 0.29037800687285226, 3.347058823529412), 452: ('Jaws 2 (1978)', [0, 1, 0, 0, 0, 0, 0, 0, 0, 0, 0, 1, 0, 0, 0, 0, 0, 0, 0], 0.11168384879725086, 2.6666666666666665), 453: ('Jaws 3-D (1983)', [0, 1, 0, 0, 0, 0, 0, 0, 0, 0, 0, 1, 0, 0, 0, 0, 0, 0, 0], 0.02577319587628866, 1.9375), 454: ('Bastard Out of Carolina (1996)', [0, 0, 0, 0, 0, 0, 0, 0, 1, 0, 0, 0, 0, 0, 0, 0, 0, 0, 0], 0.02577319587628866, 2.875), 455: (\"Jackie Chan's First Strike (1996)\", [0, 1, 0, 0, 0, 0, 0, 0, 0, 0, 0, 0, 0, 0, 0, 0, 0, 0, 0], 0.24742268041237114, 3.2551724137931033), 456: ('Beverly Hills Ninja (1997)', [0, 1, 0, 0, 0, 1, 0, 0, 0, 0, 0, 0, 0, 0, 0, 0, 0, 0, 0], 0.08075601374570447, 2.3125), 457: ('Free Willy 3: The Rescue (1997)', [0, 0, 1, 0, 1, 0, 0, 0, 1, 0, 0, 0, 0, 0, 0, 0, 0, 0, 0], 0.044673539518900345, 1.7407407407407407), 458: ('Nixon (1995)', [0, 0, 0, 0, 0, 0, 0, 0, 1, 0, 0, 0, 0, 0, 0, 0, 0, 0, 0], 0.15292096219931273, 3.1222222222222222), 459: ('Cry, the Beloved Country (1995)', [0, 0, 0, 0, 0, 0, 0, 0, 1, 0, 0, 0, 0, 0, 0, 0, 0, 0, 0], 0.03951890034364261, 3.75), 460: ('Crossing Guard, The (1995)', [0, 0, 0, 0, 0, 0, 0, 0, 1, 0, 0, 0, 0, 0, 0, 0, 0, 0, 0], 0.04639175257731959, 3.0), 461: ('Smoke (1995)', [0, 0, 0, 0, 0, 0, 0, 0, 1, 0, 0, 0, 0, 0, 0, 0, 0, 0, 0], 0.1254295532646048, 3.6216216216216215), 462: ('Like Water For Chocolate (Como agua para chocolate) (1992)', [0, 0, 0, 0, 0, 0, 0, 0, 1, 0, 0, 0, 0, 0, 1, 0, 0, 0, 0], 0.25257731958762886, 3.804054054054054), 463: ('Secret of Roan Inish, The (1994)', [0, 0, 1, 0, 0, 0, 0, 0, 0, 0, 0, 0, 0, 0, 0, 0, 0, 0, 0], 0.12027491408934708, 3.859154929577465), 464: ('Vanya on 42nd Street (1994)', [0, 0, 0, 0, 0, 0, 0, 0, 1, 0, 0, 0, 0, 0, 0, 0, 0, 0, 0], 0.044673539518900345, 3.5925925925925926), 465: ('Jungle Book, The (1994)', [0, 0, 1, 0, 1, 0, 0, 0, 0, 0, 0, 0, 0, 0, 1, 0, 0, 0, 0], 0.14432989690721648, 3.5647058823529414), 466: ('Red Rock West (1992)', [0, 0, 0, 0, 0, 0, 0, 0, 0, 0, 0, 0, 0, 0, 0, 0, 1, 0, 0], 0.08762886597938144, 3.5961538461538463), 467: ('Bronx Tale, A (1993)', [0, 0, 0, 0, 0, 0, 0, 0, 1, 0, 0, 0, 0, 0, 0, 0, 0, 0, 0], 0.08075601374570447, 3.7916666666666665), 468: ('Rudy (1993)', [0, 0, 0, 0, 0, 0, 0, 0, 1, 0, 0, 0, 0, 0, 0, 0, 0, 0, 0], 0.10824742268041238, 3.3125), 469: ('Short Cuts (1993)', [0, 0, 0, 0, 0, 0, 0, 0, 1, 0, 0, 0, 0, 0, 0, 0, 0, 0, 0], 0.1134020618556701, 3.7761194029850746), 470: ('Tombstone (1993)', [0, 0, 0, 0, 0, 0, 0, 0, 0, 0, 0, 0, 0, 0, 0, 0, 0, 0, 1], 0.18384879725085912, 3.6666666666666665), 471: ('Courage Under Fire (1996)', [0, 0, 0, 0, 0, 0, 0, 0, 1, 0, 0, 0, 0, 0, 0, 0, 0, 1, 0], 0.37800687285223367, 3.6108597285067874), 472: ('Dragonheart (1996)', [0, 1, 1, 0, 0, 0, 0, 0, 0, 1, 0, 0, 0, 0, 0, 0, 0, 0, 0], 0.2697594501718213, 3.0822784810126582), 473: ('James and the Giant Peach (1996)', [0, 0, 0, 1, 1, 0, 0, 0, 0, 0, 0, 0, 1, 0, 0, 0, 0, 0, 0], 0.21477663230240548, 3.126984126984127), 474: ('Dr. Strangelove or: How I Learned to Stop Worrying and Love the Bomb (1963)', [0, 0, 0, 0, 0, 0, 0, 0, 0, 0, 0, 0, 0, 0, 0, 1, 0, 1, 0], 0.3316151202749141, 4.252577319587629), 475: ('Trainspotting (1996)', [0, 0, 0, 0, 0, 0, 0, 0, 1, 0, 0, 0, 0, 0, 0, 0, 0, 0, 0], 0.42783505154639173, 3.884), 476: ('First Wives Club, The (1996)', [0, 0, 0, 0, 0, 1, 0, 0, 0, 0, 0, 0, 0, 0, 0, 0, 0, 0, 0], 0.27319587628865977, 3.01875), 477: ('Matilda (1996)', [0, 0, 0, 0, 1, 1, 0, 0, 0, 0, 0, 0, 0, 0, 0, 0, 0, 0, 0], 0.16151202749140894, 3.210526315789474), 478: ('Philadelphia Story, The (1940)', [0, 0, 0, 0, 0, 1, 0, 0, 0, 0, 0, 0, 0, 0, 1, 0, 0, 0, 0], 0.17697594501718214, 4.115384615384615), 479: ('Vertigo (1958)', [0, 0, 0, 0, 0, 0, 0, 0, 0, 0, 0, 0, 0, 1, 0, 0, 1, 0, 0], 0.30584192439862545, 4.251396648044692), 480: ('North by Northwest (1959)', [0, 0, 0, 0, 0, 1, 0, 0, 0, 0, 0, 0, 0, 0, 0, 0, 1, 0, 0], 0.30584192439862545, 4.284916201117318), 481: ('Apartment, The (1960)', [0, 0, 0, 0, 0, 1, 0, 0, 1, 0, 0, 0, 0, 0, 0, 0, 0, 0, 0], 0.10652920962199312, 3.9365079365079363), 482: ('Some Like It Hot (1959)', [0, 0, 0, 0, 0, 1, 1, 0, 0, 0, 0, 0, 0, 0, 0, 0, 0, 0, 0], 0.218213058419244, 3.984375), 483: ('Casablanca (1942)', [0, 0, 0, 0, 0, 0, 0, 0, 1, 0, 0, 0, 0, 0, 1, 0, 0, 1, 0], 0.41580756013745707, 4.45679012345679), 484: ('Maltese Falcon, The (1941)', [0, 0, 0, 0, 0, 0, 0, 0, 0, 0, 1, 0, 0, 1, 0, 0, 0, 0, 0], 0.23539518900343642, 4.2101449275362315), 485: ('My Fair Lady (1964)', [0, 0, 0, 0, 0, 0, 0, 0, 0, 0, 0, 0, 1, 0, 1, 0, 0, 0, 0], 0.21305841924398625, 3.816), 486: ('Sabrina (1954)', [0, 0, 0, 0, 0, 1, 0, 0, 0, 0, 0, 0, 0, 0, 1, 0, 0, 0, 0], 0.10824742268041238, 3.796875), 487: ('Roman Holiday (1953)', [0, 0, 0, 0, 0, 1, 0, 0, 0, 0, 0, 0, 0, 0, 1, 0, 0, 0, 0], 0.11512027491408934, 4.102941176470588), 488: ('Sunset Blvd. (1950)', [0, 0, 0, 0, 0, 0, 0, 0, 0, 0, 1, 0, 0, 0, 0, 0, 0, 0, 0], 0.10996563573883161, 4.2), 489: ('Notorious (1946)', [0, 0, 0, 0, 0, 0, 0, 0, 0, 0, 1, 0, 0, 0, 1, 0, 1, 0, 0], 0.08762886597938144, 4.115384615384615), 490: ('To Catch a Thief (1955)', [0, 0, 0, 0, 0, 1, 0, 0, 0, 0, 0, 0, 0, 0, 1, 0, 1, 0, 0], 0.08419243986254296, 4.02), 491: ('Adventures of Robin Hood, The (1938)', [0, 1, 1, 0, 0, 0, 0, 0, 0, 0, 0, 0, 0, 0, 0, 0, 0, 0, 0], 0.1134020618556701, 3.791044776119403), 492: ('East of Eden (1955)', [0, 0, 0, 0, 0, 0, 0, 0, 1, 0, 0, 0, 0, 0, 0, 0, 0, 0, 0], 0.09965635738831616, 3.864406779661017), 493: ('Thin Man, The (1934)', [0, 0, 0, 0, 0, 0, 0, 0, 0, 0, 0, 0, 0, 1, 0, 0, 0, 0, 0], 0.1013745704467354, 4.15), 494: ('His Girl Friday (1940)', [0, 0, 0, 0, 0, 1, 0, 0, 0, 0, 0, 0, 0, 0, 0, 0, 0, 0, 0], 0.09450171821305842, 4.0), 495: ('Around the World in 80 Days (1956)', [0, 0, 1, 0, 0, 1, 0, 0, 0, 0, 0, 0, 0, 0, 0, 0, 0, 0, 0], 0.09965635738831616, 3.6610169491525424), 496: (\"It's a Wonderful Life (1946)\", [0, 0, 0, 0, 0, 0, 0, 0, 1, 0, 0, 0, 0, 0, 0, 0, 0, 0, 0], 0.3951890034364261, 4.121212121212121), 497: ('Bringing Up Baby (1938)', [0, 0, 0, 0, 0, 1, 0, 0, 0, 0, 0, 0, 0, 0, 0, 0, 0, 0, 0], 0.11512027491408934, 3.838235294117647), 498: ('African Queen, The (1951)', [0, 1, 1, 0, 0, 0, 0, 0, 0, 0, 0, 0, 0, 0, 1, 0, 0, 1, 0], 0.25945017182130586, 4.184210526315789), 499: ('Cat on a Hot Tin Roof (1958)', [0, 0, 0, 0, 0, 0, 0, 0, 1, 0, 0, 0, 0, 0, 0, 0, 0, 0, 0], 0.10481099656357389, 3.9516129032258065), 500: ('Fly Away Home (1996)', [0, 0, 1, 0, 1, 0, 0, 0, 0, 0, 0, 0, 0, 0, 0, 0, 0, 0, 0], 0.05154639175257732, 3.903225806451613), 501: ('Dumbo (1941)', [0, 0, 0, 1, 1, 0, 0, 0, 0, 0, 0, 0, 1, 0, 0, 0, 0, 0, 0], 0.20962199312714777, 3.4959349593495936), 502: ('Bananas (1971)', [0, 0, 0, 0, 0, 1, 0, 0, 0, 0, 0, 0, 0, 0, 0, 0, 0, 1, 0], 0.09621993127147767, 3.7017543859649122), 503: ('Candidate, The (1972)', [0, 0, 0, 0, 0, 0, 0, 0, 1, 0, 0, 0, 0, 0, 0, 0, 0, 0, 0], 0.06529209621993128, 3.641025641025641), 504: ('Bonnie and Clyde (1967)', [0, 0, 0, 0, 0, 0, 1, 0, 1, 0, 0, 0, 0, 0, 0, 0, 0, 0, 0], 0.20790378006872853, 3.819672131147541), 505: ('Dial M for Murder (1954)', [0, 0, 0, 0, 0, 0, 0, 0, 0, 0, 0, 0, 0, 1, 0, 0, 1, 0, 0], 0.11512027491408934, 4.0), 506: ('Rebel Without a Cause (1955)', [0, 0, 0, 0, 0, 0, 0, 0, 1, 0, 0, 0, 0, 0, 0, 0, 0, 0, 0], 0.15292096219931273, 3.8555555555555556), 507: ('Streetcar Named Desire, A (1951)', [0, 0, 0, 0, 0, 0, 0, 0, 1, 0, 0, 0, 0, 0, 0, 0, 0, 0, 0], 0.16666666666666666, 3.816326530612245), 508: ('People vs. Larry Flynt, The (1996)', [0, 0, 0, 0, 0, 0, 0, 0, 1, 0, 0, 0, 0, 0, 0, 0, 0, 0, 0], 0.36769759450171824, 3.5953488372093023), 509: ('My Left Foot (1989)', [0, 0, 0, 0, 0, 0, 0, 0, 1, 0, 0, 0, 0, 0, 0, 0, 0, 0, 0], 0.20618556701030927, 3.8512396694214877), 510: ('Magnificent Seven, The (1954)', [0, 1, 0, 0, 0, 0, 0, 0, 1, 0, 0, 0, 0, 0, 0, 0, 0, 0, 1], 0.20618556701030927, 3.9421487603305785), 511: ('Lawrence of Arabia (1962)', [0, 0, 1, 0, 0, 0, 0, 0, 0, 0, 0, 0, 0, 0, 0, 0, 0, 1, 0], 0.29553264604810997, 4.23121387283237), 512: ('Wings of Desire (1987)', [0, 0, 0, 0, 0, 1, 0, 0, 1, 0, 0, 0, 0, 0, 1, 0, 0, 0, 0], 0.09621993127147767, 4.0), 513: ('Third Man, The (1949)', [0, 0, 0, 0, 0, 0, 0, 0, 0, 0, 0, 0, 0, 1, 0, 0, 1, 0, 0], 0.12199312714776632, 4.333333333333333), 514: ('Annie Hall (1977)', [0, 0, 0, 0, 0, 1, 0, 0, 0, 0, 0, 0, 0, 0, 1, 0, 0, 0, 0], 0.3075601374570447, 3.911111111111111), 515: ('Boot, Das (1981)', [0, 1, 0, 0, 0, 0, 0, 0, 1, 0, 0, 0, 0, 0, 0, 0, 0, 1, 0], 0.3436426116838488, 4.203980099502488), 516: ('Local Hero (1983)', [0, 0, 0, 0, 0, 1, 0, 0, 0, 0, 0, 0, 0, 0, 0, 0, 0, 0, 0], 0.10652920962199312, 3.9682539682539684), 517: ('Manhattan (1979)', [0, 0, 0, 0, 0, 1, 0, 0, 1, 0, 0, 0, 0, 0, 1, 0, 0, 0, 0], 0.15463917525773196, 3.769230769230769), 518: (\"Miller's Crossing (1990)\", [0, 0, 0, 0, 0, 0, 0, 0, 1, 0, 0, 0, 0, 0, 0, 0, 0, 0, 0], 0.15120274914089346, 3.651685393258427), 519: ('Treasure of the Sierra Madre, The (1948)', [0, 0, 1, 0, 0, 0, 0, 0, 0, 0, 0, 0, 0, 0, 0, 0, 0, 0, 0], 0.13573883161512026, 4.1), 520: ('Great Escape, The (1963)', [0, 0, 1, 0, 0, 0, 0, 0, 0, 0, 0, 0, 0, 0, 0, 0, 0, 1, 0], 0.211340206185567, 4.104838709677419), 521: ('Deer Hunter, The (1978)', [0, 0, 0, 0, 0, 0, 0, 0, 1, 0, 0, 0, 0, 0, 0, 0, 0, 1, 0], 0.20446735395189003, 3.8333333333333335), 522: ('Down by Law (1986)', [0, 0, 0, 0, 0, 1, 0, 0, 1, 0, 0, 0, 0, 0, 0, 0, 0, 0, 0], 0.058419243986254296, 3.7714285714285714), 523: ('Cool Hand Luke (1967)', [0, 0, 0, 0, 0, 1, 0, 0, 1, 0, 0, 0, 0, 0, 0, 0, 0, 0, 0], 0.2800687285223368, 3.9939024390243905), 524: ('Great Dictator, The (1940)', [0, 0, 0, 0, 0, 1, 0, 0, 0, 0, 0, 0, 0, 0, 0, 0, 0, 0, 0], 0.07731958762886598, 4.021739130434782), 525: ('Big Sleep, The (1946)', [0, 0, 0, 0, 0, 0, 0, 0, 0, 0, 1, 0, 0, 1, 0, 0, 0, 0, 0], 0.12371134020618557, 4.027397260273973), 526: ('Ben-Hur (1959)', [0, 1, 1, 0, 0, 0, 0, 0, 1, 0, 0, 0, 0, 0, 0, 0, 0, 0, 0], 0.211340206185567, 3.8306451612903225), 527: ('Gandhi (1982)', [0, 0, 0, 0, 0, 0, 0, 0, 1, 0, 0, 0, 0, 0, 0, 0, 0, 0, 0], 0.3333333333333333, 4.02051282051282), 528: ('Killing Fields, The (1984)', [0, 0, 0, 0, 0, 0, 0, 0, 1, 0, 0, 0, 0, 0, 0, 0, 0, 1, 0], 0.20618556701030927, 4.132231404958677), 529: ('My Life as a Dog (Mitt liv som hund) (1985)', [0, 0, 0, 0, 0, 0, 0, 0, 1, 0, 0, 0, 0, 0, 0, 0, 0, 0, 0], 0.15807560137457044, 3.978494623655914), 530: ('Man Who Would Be King, The (1975)', [0, 0, 1, 0, 0, 0, 0, 0, 0, 0, 0, 0, 0, 0, 0, 0, 0, 0, 0], 0.13573883161512026, 4.025), 531: ('Shine (1996)', [0, 0, 0, 0, 0, 0, 0, 0, 1, 0, 0, 0, 0, 0, 1, 0, 0, 0, 0], 0.21993127147766323, 3.9224806201550386), 532: ('Kama Sutra: A Tale of Love (1996)', [0, 0, 0, 0, 0, 0, 0, 0, 0, 0, 0, 0, 0, 0, 1, 0, 0, 0, 0], 0.03608247422680412, 3.3181818181818183), 533: ('Daytrippers, The (1996)', [0, 0, 0, 0, 0, 0, 0, 0, 0, 0, 0, 0, 0, 1, 0, 0, 0, 0, 0], 0.024054982817869417, 3.6666666666666665), 534: ('Traveller (1997)', [0, 0, 0, 0, 0, 0, 0, 0, 1, 0, 0, 0, 0, 0, 0, 0, 0, 0, 0], 0.020618556701030927, 3.3076923076923075), 535: ('Addicted to Love (1997)', [0, 0, 0, 0, 0, 1, 0, 0, 0, 0, 0, 0, 0, 0, 1, 0, 0, 0, 0], 0.09106529209621993, 3.1666666666666665), 536: ('Ponette (1996)', [0, 0, 0, 0, 0, 0, 0, 0, 1, 0, 0, 0, 0, 0, 0, 0, 0, 0, 0], 0.015463917525773196, 3.3), 537: ('My Own Private Idaho (1991)', [0, 0, 0, 0, 0, 0, 0, 0, 1, 0, 0, 0, 0, 0, 0, 0, 0, 0, 0], 0.04982817869415808, 3.6333333333333333), 538: ('Anastasia (1997)', [0, 0, 0, 1, 1, 0, 0, 0, 0, 0, 0, 0, 1, 0, 0, 0, 0, 0, 0], 0.11168384879725086, 3.4242424242424243), 539: ('Mouse Hunt (1997)', [0, 0, 0, 0, 1, 1, 0, 0, 0, 0, 0, 0, 0, 0, 0, 0, 0, 0, 0], 0.07388316151202749, 2.477272727272727), 540: ('Money Train (1995)', [0, 1, 0, 0, 0, 0, 0, 0, 0, 0, 0, 0, 0, 0, 0, 0, 0, 0, 0], 0.07216494845360824, 2.511627906976744), 541: ('Mortal Kombat (1995)', [0, 1, 1, 0, 0, 0, 0, 0, 0, 0, 0, 0, 0, 0, 0, 0, 0, 0, 0], 0.08247422680412371, 2.877551020408163), 542: ('Pocahontas (1995)', [0, 0, 0, 1, 1, 0, 0, 0, 0, 0, 0, 0, 1, 0, 1, 0, 0, 0, 0], 0.0859106529209622, 2.5294117647058822), 543: ('Misérables, Les (1995)', [0, 0, 0, 0, 0, 0, 0, 0, 1, 0, 0, 0, 1, 0, 0, 0, 0, 0, 0], 0.03436426116838488, 3.619047619047619), 544: (\"Things to Do in Denver when You're Dead (1995)\", [0, 0, 0, 0, 0, 0, 1, 0, 1, 0, 0, 0, 0, 0, 1, 0, 0, 0, 0], 0.12027491408934708, 3.1549295774647885), 545: ('Vampire in Brooklyn (1995)', [0, 0, 0, 0, 0, 1, 0, 0, 0, 0, 0, 0, 0, 0, 1, 0, 0, 0, 0], 0.018900343642611683, 1.8333333333333333), 546: ('Broken Arrow (1996)', [0, 1, 0, 0, 0, 0, 0, 0, 0, 0, 0, 0, 0, 0, 0, 0, 1, 0, 0], 0.43470790378006874, 3.031496062992126), 547: (\"Young Poisoner's Handbook, The (1995)\", [0, 0, 0, 0, 0, 0, 1, 0, 0, 0, 0, 0, 0, 0, 0, 0, 0, 0, 0], 0.06872852233676977, 3.341463414634146), 548: ('NeverEnding Story III, The (1994)', [0, 0, 0, 0, 1, 0, 0, 0, 0, 1, 0, 0, 0, 0, 0, 0, 0, 0, 0], 0.018900343642611683, 2.1666666666666665), 549: ('Rob Roy (1995)', [0, 0, 0, 0, 0, 0, 0, 0, 1, 0, 0, 0, 0, 0, 1, 0, 0, 1, 0], 0.1563573883161512, 3.5652173913043477), 550: ('Die Hard: With a Vengeance (1995)', [0, 1, 0, 0, 0, 0, 0, 0, 0, 0, 0, 0, 0, 0, 0, 0, 1, 0, 0], 0.25773195876288657, 3.2847682119205297), 551: ('Lord of Illusions (1995)', [0, 0, 0, 0, 0, 0, 0, 0, 0, 0, 0, 1, 0, 0, 0, 0, 0, 0, 0], 0.03951890034364261, 2.4166666666666665), 552: ('Species (1995)', [0, 0, 0, 0, 0, 0, 0, 0, 0, 0, 0, 0, 0, 0, 0, 1, 0, 0, 0], 0.07560137457044673, 2.8666666666666667), 553: ('Walk in the Clouds, A (1995)', [0, 0, 0, 0, 0, 0, 0, 0, 1, 0, 0, 0, 0, 0, 1, 0, 0, 0, 0], 0.10652920962199312, 3.2857142857142856), 554: ('Waterworld (1995)', [0, 1, 1, 0, 0, 0, 0, 0, 0, 0, 0, 0, 0, 0, 0, 0, 0, 0, 0], 0.17353951890034364, 2.803921568627451), 555: (\"White Man's Burden (1995)\", [0, 0, 0, 0, 0, 0, 0, 0, 1, 0, 0, 0, 0, 0, 0, 0, 0, 0, 0], 0.015463917525773196, 2.0), 556: ('Wild Bill (1995)', [0, 0, 0, 0, 0, 0, 0, 0, 0, 0, 0, 0, 0, 0, 0, 0, 0, 0, 1], 0.018900343642611683, 2.5), 557: ('Farinelli: il castrato (1994)', [0, 0, 0, 0, 0, 0, 0, 0, 1, 0, 0, 0, 1, 0, 0, 0, 0, 0, 0], 0.027491408934707903, 3.1176470588235294), 558: ('Heavenly Creatures (1994)', [0, 0, 0, 0, 0, 0, 0, 0, 1, 1, 0, 0, 0, 0, 0, 0, 1, 0, 0], 0.11855670103092783, 3.6714285714285713), 559: ('Interview with the Vampire (1994)', [0, 0, 0, 0, 0, 0, 0, 0, 1, 0, 0, 1, 0, 0, 0, 0, 0, 0, 0], 0.23367697594501718, 3.1824817518248176), 560: (\"Kid in King Arthur's Court, A (1995)\", [0, 0, 1, 0, 1, 1, 0, 0, 0, 1, 0, 0, 0, 0, 1, 1, 0, 0, 0], 0.03608247422680412, 2.727272727272727), 561: (\"Mary Shelley's Frankenstein (1994)\", [0, 0, 0, 0, 0, 0, 0, 0, 1, 0, 0, 1, 0, 0, 0, 0, 0, 0, 0], 0.09965635738831616, 3.0677966101694913), 562: ('Quick and the Dead, The (1995)', [0, 1, 1, 0, 0, 0, 0, 0, 0, 0, 0, 0, 0, 0, 0, 0, 0, 0, 1], 0.08075601374570447, 3.2083333333333335), 563: (\"Stephen King's The Langoliers (1995)\", [0, 0, 0, 0, 0, 0, 0, 0, 0, 0, 0, 1, 0, 0, 0, 0, 0, 0, 0], 0.048109965635738834, 2.413793103448276), 564: ('Tales from the Hood (1995)', [0, 0, 0, 0, 0, 1, 0, 0, 0, 0, 0, 1, 0, 0, 0, 0, 0, 0, 0], 0.044673539518900345, 2.037037037037037), 565: ('Village of the Damned (1995)', [0, 0, 0, 0, 0, 0, 0, 0, 0, 0, 0, 1, 0, 0, 0, 0, 1, 0, 0], 0.03608247422680412, 2.6818181818181817), 566: ('Clear and Present Danger (1994)', [0, 1, 1, 0, 0, 0, 0, 0, 0, 0, 0, 0, 0, 0, 0, 0, 1, 0, 0], 0.30584192439862545, 3.569832402234637), 567: (\"Wes Craven's New Nightmare (1994)\", [0, 0, 0, 0, 0, 0, 0, 0, 0, 0, 0, 1, 0, 0, 0, 0, 0, 0, 0], 0.058419243986254296, 2.8), 568: ('Speed (1994)', [0, 1, 0, 0, 0, 0, 0, 0, 0, 0, 0, 0, 0, 0, 1, 0, 1, 0, 0], 0.39347079037800686, 3.6478260869565218), 569: ('Wolf (1994)', [0, 0, 0, 0, 0, 0, 0, 0, 1, 0, 0, 1, 0, 0, 0, 0, 0, 0, 0], 0.1134020618556701, 2.701492537313433), 570: ('Wyatt Earp (1994)', [0, 0, 0, 0, 0, 0, 0, 0, 0, 0, 0, 0, 0, 0, 0, 0, 0, 0, 1], 0.08419243986254296, 3.1), 571: ('Another Stakeout (1993)', [0, 0, 0, 0, 0, 1, 0, 0, 0, 0, 0, 0, 0, 0, 0, 0, 1, 0, 0], 0.04639175257731959, 2.5), 572: ('Blown Away (1994)', [0, 1, 0, 0, 0, 0, 0, 0, 0, 0, 0, 0, 0, 0, 0, 0, 1, 0, 0], 0.048109965635738834, 2.7586206896551726), 573: ('Body Snatchers (1993)', [0, 0, 0, 0, 0, 0, 0, 0, 0, 0, 0, 1, 0, 0, 0, 1, 1, 0, 0], 0.054982817869415807, 2.9393939393939394), 574: ('Boxing Helena (1993)', [0, 0, 0, 0, 0, 0, 0, 0, 0, 0, 0, 0, 0, 1, 1, 0, 1, 0, 0], 0.024054982817869417, 2.2), 575: (\"City Slickers II: The Legend of Curly's Gold (1994)\", [0, 0, 0, 0, 0, 1, 0, 0, 0, 0, 0, 0, 0, 0, 0, 0, 0, 0, 1], 0.07388316151202749, 2.5454545454545454), 576: ('Cliffhanger (1993)', [0, 1, 1, 0, 0, 0, 1, 0, 0, 0, 0, 0, 0, 0, 0, 0, 0, 0, 0], 0.15807560137457044, 3.021505376344086), 577: ('Coneheads (1993)', [0, 0, 0, 0, 0, 1, 0, 0, 0, 0, 0, 0, 0, 0, 0, 1, 0, 0, 0], 0.06872852233676977, 2.2195121951219514), 578: ('Demolition Man (1993)', [0, 1, 0, 0, 0, 0, 0, 0, 0, 0, 0, 0, 0, 0, 0, 1, 0, 0, 0], 0.1563573883161512, 3.152173913043478), 579: ('Fatal Instinct (1993)', [0, 0, 0, 0, 0, 1, 0, 0, 0, 0, 0, 0, 0, 0, 0, 0, 0, 0, 0], 0.030927835051546393, 2.6315789473684212), 580: ('Englishman Who Went Up a Hill, But Came Down a Mountain, The (1995)', [0, 0, 0, 0, 0, 1, 0, 0, 0, 0, 0, 0, 0, 0, 1, 0, 0, 0, 0], 0.05326460481099656, 3.375), 581: ('Kalifornia (1993)', [0, 0, 0, 0, 0, 0, 0, 0, 1, 0, 0, 0, 0, 0, 0, 0, 1, 0, 0], 0.09965635738831616, 3.2203389830508473), 582: ('Piano, The (1993)', [0, 0, 0, 0, 0, 0, 0, 0, 1, 0, 0, 0, 0, 0, 1, 0, 0, 0, 0], 0.2869415807560137, 3.6011904761904763), 583: ('Romeo Is Bleeding (1993)', [0, 0, 0, 0, 0, 0, 1, 0, 0, 0, 0, 0, 0, 0, 0, 0, 1, 0, 0], 0.061855670103092786, 3.0), 584: ('Secret Garden, The (1993)', [0, 0, 0, 0, 1, 0, 0, 0, 1, 0, 0, 0, 0, 0, 0, 0, 0, 0, 0], 0.13402061855670103, 3.5443037974683542), 585: ('Son in Law (1993)', [0, 0, 0, 0, 0, 1, 0, 0, 0, 0, 0, 0, 0, 0, 0, 0, 0, 0, 0], 0.06529209621993128, 2.4871794871794872), 586: ('Terminal Velocity (1994)', [0, 1, 0, 0, 0, 0, 0, 0, 0, 0, 0, 0, 0, 0, 0, 0, 0, 0, 0], 0.05670103092783505, 2.676470588235294), 587: ('Hour of the Pig, The (1993)', [0, 0, 0, 0, 0, 0, 0, 0, 1, 0, 0, 0, 0, 1, 0, 0, 0, 0, 0], 0.022336769759450172, 3.5714285714285716), 588: ('Beauty and the Beast (1991)', [0, 0, 0, 1, 1, 0, 0, 0, 0, 0, 0, 0, 1, 0, 0, 0, 0, 0, 0], 0.34536082474226804, 3.792079207920792), 589: ('Wild Bunch, The (1969)', [0, 0, 0, 0, 0, 0, 0, 0, 0, 0, 0, 0, 0, 0, 0, 0, 0, 0, 1], 0.07216494845360824, 4.023255813953488), 590: ('Hellraiser: Bloodline (1996)', [0, 1, 0, 0, 0, 0, 0, 0, 0, 0, 0, 1, 0, 0, 0, 1, 0, 0, 0], 0.029209621993127148, 2.0), 591: ('Primal Fear (1996)', [0, 0, 0, 0, 0, 0, 0, 0, 1, 0, 0, 0, 0, 0, 0, 0, 1, 0, 0], 0.30412371134020616, 3.601123595505618), 592: ('True Crime (1995)', [0, 0, 0, 0, 0, 0, 0, 0, 0, 0, 0, 0, 0, 1, 0, 0, 1, 0, 0], 0.013745704467353952, 3.3333333333333335), 593: ('Stalingrad (1993)', [0, 0, 0, 0, 0, 0, 0, 0, 0, 0, 0, 0, 0, 0, 0, 0, 0, 1, 0], 0.018900343642611683, 3.1666666666666665), 594: ('Heavy (1995)', [0, 0, 0, 0, 0, 0, 0, 0, 1, 0, 0, 0, 0, 0, 1, 0, 0, 0, 0], 0.006872852233676976, 2.4), 595: ('Fan, The (1996)', [0, 0, 0, 0, 0, 0, 0, 0, 0, 0, 0, 0, 0, 0, 0, 0, 1, 0, 0], 0.10824742268041238, 3.09375), 596: ('Hunchback of Notre Dame, The (1996)', [0, 0, 0, 1, 1, 0, 0, 0, 0, 0, 0, 0, 1, 0, 0, 0, 0, 0, 0], 0.21649484536082475, 3.377952755905512), 597: ('Eraser (1996)', [0, 1, 0, 0, 0, 0, 0, 0, 0, 0, 0, 0, 0, 0, 0, 0, 1, 0, 0], 0.35223367697594504, 3.150485436893204), 598: ('Big Squeeze, The (1996)', [0, 0, 0, 0, 0, 1, 0, 0, 1, 0, 0, 0, 0, 0, 0, 0, 0, 0, 0], 0.005154639175257732, 2.25), 599: ('Police Story 4: Project S (Chao ji ji hua) (1993)', [0, 1, 0, 0, 0, 0, 0, 0, 0, 0, 0, 0, 0, 0, 0, 0, 0, 0, 0], 0.0, 1.0), 600: (\"Daniel Defoe's Robinson Crusoe (1996)\", [0, 0, 0, 0, 1, 0, 0, 0, 0, 0, 0, 0, 0, 0, 0, 0, 0, 0, 0], 0.001718213058419244, 3.0), 601: ('For Whom the Bell Tolls (1943)', [0, 0, 1, 0, 0, 0, 0, 0, 0, 0, 0, 0, 0, 0, 0, 0, 0, 1, 0], 0.03264604810996564, 4.0), 602: ('American in Paris, An (1951)', [0, 0, 0, 0, 0, 0, 0, 0, 0, 0, 0, 0, 1, 0, 1, 0, 0, 0, 0], 0.08419243986254296, 3.7), 603: ('Rear Window (1954)', [0, 0, 0, 0, 0, 0, 0, 0, 0, 0, 0, 0, 0, 1, 0, 0, 1, 0, 0], 0.35738831615120276, 4.3875598086124405), 604: ('It Happened One Night (1934)', [0, 0, 0, 0, 0, 1, 0, 0, 0, 0, 0, 0, 0, 0, 0, 0, 0, 0, 0], 0.13745704467353953, 4.012345679012346), 605: ('Meet Me in St. Louis (1944)', [0, 0, 0, 0, 0, 0, 0, 0, 0, 0, 0, 0, 1, 0, 0, 0, 0, 0, 0], 0.05154639175257732, 3.3548387096774195), 606: ('All About Eve (1950)', [0, 0, 0, 0, 0, 0, 0, 0, 1, 0, 0, 0, 0, 0, 0, 0, 0, 0, 0], 0.11168384879725086, 4.045454545454546), 607: ('Rebecca (1940)', [0, 0, 0, 0, 0, 0, 0, 0, 0, 0, 0, 0, 0, 0, 1, 0, 1, 0, 0], 0.11168384879725086, 3.9696969696969697), 608: ('Spellbound (1945)', [0, 0, 0, 0, 0, 0, 0, 0, 0, 0, 0, 0, 0, 1, 1, 0, 1, 0, 0], 0.04982817869415808, 3.933333333333333), 609: ('Father of the Bride (1950)', [0, 0, 0, 0, 0, 1, 0, 0, 0, 0, 0, 0, 0, 0, 0, 0, 0, 0, 0], 0.1013745704467354, 3.5833333333333335), 610: ('Gigi (1958)', [0, 0, 0, 0, 0, 0, 0, 0, 0, 0, 0, 0, 1, 0, 0, 0, 0, 0, 0], 0.06872852233676977, 3.658536585365854), 611: ('Laura (1944)', [0, 0, 0, 0, 0, 0, 1, 0, 0, 0, 1, 0, 0, 1, 0, 0, 0, 0, 0], 0.06701030927835051, 4.1), 612: ('Lost Horizon (1937)', [0, 0, 0, 0, 0, 0, 0, 0, 1, 0, 0, 0, 0, 0, 0, 0, 0, 0, 0], 0.05670103092783505, 3.9411764705882355), 613: ('My Man Godfrey (1936)', [0, 0, 0, 0, 0, 1, 0, 0, 0, 0, 0, 0, 0, 0, 0, 0, 0, 0, 0], 0.044673539518900345, 4.037037037037037), 614: ('Giant (1956)', [0, 0, 0, 0, 0, 0, 0, 0, 1, 0, 0, 0, 0, 0, 0, 0, 0, 0, 0], 0.0859106529209622, 3.7450980392156863), 615: ('39 Steps, The (1935)', [0, 0, 0, 0, 0, 0, 0, 0, 0, 0, 0, 0, 0, 0, 0, 0, 1, 0, 0], 0.09965635738831616, 4.0508474576271185), 616: ('Night of the Living Dead (1968)', [0, 0, 0, 0, 0, 0, 0, 0, 0, 0, 0, 1, 0, 0, 0, 1, 0, 0, 0], 0.10824742268041238, 3.421875), 617: ('Blue Angel, The (Blaue Engel, Der) (1930)', [0, 0, 0, 0, 0, 0, 0, 0, 1, 0, 0, 0, 0, 0, 0, 0, 0, 0, 0], 0.029209621993127148, 3.7777777777777777), 618: ('Picnic (1955)', [0, 0, 0, 0, 0, 0, 0, 0, 1, 0, 0, 0, 0, 0, 0, 0, 0, 0, 0], 0.029209621993127148, 3.611111111111111), 619: ('Extreme Measures (1996)', [0, 0, 0, 0, 0, 0, 0, 0, 1, 0, 0, 0, 0, 0, 0, 0, 1, 0, 0], 0.10824742268041238, 3.171875), 620: ('Chamber, The (1996)', [0, 0, 0, 0, 0, 0, 0, 0, 1, 0, 0, 0, 0, 0, 0, 0, 0, 0, 0], 0.07216494845360824, 3.0930232558139537), 621: ('Davy Crockett, King of the Wild Frontier (1955)', [0, 0, 0, 0, 0, 0, 0, 0, 0, 0, 0, 0, 0, 0, 0, 0, 0, 0, 1], 0.01718213058419244, 2.909090909090909), 622: ('Swiss Family Robinson (1960)', [0, 0, 1, 0, 1, 0, 0, 0, 0, 0, 0, 0, 0, 0, 0, 0, 0, 0, 0], 0.06529209621993128, 3.358974358974359), 623: ('Angels in the Outfield (1994)', [0, 0, 0, 0, 1, 1, 0, 0, 0, 0, 0, 0, 0, 0, 0, 0, 0, 0, 0], 0.06529209621993128, 2.923076923076923), 624: ('Three Caballeros, The (1945)', [0, 0, 0, 1, 1, 0, 0, 0, 0, 0, 0, 0, 1, 0, 0, 0, 0, 0, 0], 0.03608247422680412, 3.272727272727273), 625: ('Sword in the Stone, The (1963)', [0, 0, 0, 1, 1, 0, 0, 0, 0, 0, 0, 0, 0, 0, 0, 0, 0, 0, 0], 0.13917525773195877, 3.3292682926829267), 626: ('So Dear to My Heart (1949)', [0, 0, 0, 0, 1, 0, 0, 0, 1, 0, 0, 0, 0, 0, 0, 0, 0, 0, 0], 0.005154639175257732, 3.25), 627: ('Robin Hood: Prince of Thieves (1991)', [0, 0, 0, 0, 0, 0, 0, 0, 1, 0, 0, 0, 0, 0, 0, 0, 0, 0, 0], 0.12714776632302405, 3.2266666666666666), 628: ('Sleepers (1996)', [0, 0, 0, 0, 0, 0, 1, 0, 1, 0, 0, 0, 0, 0, 0, 0, 0, 0, 0], 0.28865979381443296, 3.514792899408284), 629: ('Victor/Victoria (1982)', [0, 0, 0, 0, 0, 1, 0, 0, 0, 0, 0, 0, 1, 0, 0, 0, 0, 0, 0], 0.13058419243986255, 3.3376623376623376), 630: ('Great Race, The (1965)', [0, 0, 0, 0, 0, 1, 0, 0, 0, 0, 0, 0, 1, 0, 0, 0, 0, 0, 0], 0.05154639175257732, 3.2903225806451615), 631: ('Crying Game, The (1992)', [0, 1, 0, 0, 0, 0, 0, 0, 1, 0, 0, 0, 0, 0, 1, 0, 0, 1, 0], 0.2027491408934708, 3.6218487394957983), 632: (\"Sophie's Choice (1982)\", [0, 0, 0, 0, 0, 0, 0, 0, 1, 0, 0, 0, 0, 0, 0, 0, 0, 0, 0], 0.0979381443298969, 3.896551724137931), 633: ('Christmas Carol, A (1938)', [0, 0, 0, 0, 0, 0, 0, 0, 1, 0, 0, 0, 0, 0, 0, 0, 0, 0, 0], 0.11683848797250859, 4.057971014492754), 634: (\"Microcosmos: Le peuple de l'herbe (1996)\", [0, 0, 0, 0, 0, 0, 0, 1, 0, 0, 0, 0, 0, 0, 0, 0, 0, 0, 0], 0.03951890034364261, 3.75), 635: ('Fog, The (1980)', [0, 0, 0, 0, 0, 0, 0, 0, 0, 0, 0, 1, 0, 0, 0, 0, 0, 0, 0], 0.037800687285223365, 2.739130434782609), 636: ('Escape from New York (1981)', [0, 1, 1, 0, 0, 0, 0, 0, 0, 0, 0, 0, 0, 0, 0, 1, 1, 0, 0], 0.15463917525773196, 3.241758241758242), 637: ('Howling, The (1981)', [0, 0, 0, 0, 0, 1, 0, 0, 0, 0, 0, 1, 0, 0, 0, 0, 0, 0, 0], 0.06357388316151202, 3.026315789473684), 638: ('Return of Martin Guerre, The (Retour de Martin Guerre, Le) (1982)', [0, 0, 0, 0, 0, 0, 0, 0, 1, 0, 0, 0, 0, 0, 0, 0, 0, 0, 0], 0.07388316151202749, 3.772727272727273), 639: ('Tin Drum, The (Blechtrommel, Die) (1979)', [0, 0, 0, 0, 0, 0, 0, 0, 1, 0, 0, 0, 0, 0, 0, 0, 0, 0, 0], 0.06701030927835051, 3.7), 640: ('Cook the Thief His Wife & Her Lover, The (1989)', [0, 0, 0, 0, 0, 0, 0, 0, 1, 0, 0, 0, 0, 0, 0, 0, 0, 0, 0], 0.13917525773195877, 3.024390243902439), 641: ('Paths of Glory (1957)', [0, 0, 0, 0, 0, 0, 0, 0, 1, 0, 0, 0, 0, 0, 0, 0, 0, 1, 0], 0.054982817869415807, 4.212121212121212), 642: ('Grifters, The (1990)', [0, 0, 0, 0, 0, 0, 1, 0, 1, 0, 1, 0, 0, 0, 0, 0, 0, 0, 0], 0.15120274914089346, 3.4831460674157304), 643: ('The Innocent (1994)', [0, 0, 0, 0, 0, 0, 0, 0, 1, 0, 0, 0, 0, 0, 1, 0, 0, 0, 0], 0.005154639175257732, 3.0), 644: ('Thin Blue Line, The (1988)', [0, 0, 0, 0, 0, 0, 0, 1, 0, 0, 0, 0, 0, 0, 0, 0, 0, 0, 0], 0.058419243986254296, 3.7714285714285714), 645: ('Paris Is Burning (1990)', [0, 0, 0, 0, 0, 0, 0, 1, 0, 0, 0, 0, 0, 0, 0, 0, 0, 0, 0], 0.044673539518900345, 3.814814814814815), 646: ('Once Upon a Time in the West (1969)', [0, 0, 0, 0, 0, 0, 0, 0, 0, 0, 0, 0, 0, 0, 0, 0, 0, 0, 1], 0.06357388316151202, 3.8684210526315788), 647: ('Ran (1985)', [0, 0, 0, 0, 0, 0, 0, 0, 1, 0, 0, 0, 0, 0, 0, 0, 0, 1, 0], 0.11855670103092783, 4.1), 648: ('Quiet Man, The (1952)', [0, 0, 0, 0, 0, 1, 0, 0, 0, 0, 0, 0, 0, 0, 1, 0, 0, 0, 0], 0.1134020618556701, 4.029850746268656), 649: ('Once Upon a Time in America (1984)', [0, 0, 0, 0, 0, 0, 1, 0, 1, 0, 0, 0, 0, 0, 0, 0, 1, 0, 0], 0.08419243986254296, 3.4), 650: ('Seventh Seal, The (Sjunde inseglet, Det) (1957)', [0, 0, 0, 0, 0, 0, 0, 0, 1, 0, 0, 0, 0, 0, 0, 0, 0, 0, 0], 0.12199312714776632, 3.5416666666666665), 651: ('Glory (1989)', [0, 1, 0, 0, 0, 0, 0, 0, 1, 0, 0, 0, 0, 0, 0, 0, 0, 1, 0], 0.2920962199312715, 4.076023391812866), 652: ('Rosencrantz and Guildenstern Are Dead (1990)', [0, 0, 0, 0, 0, 1, 0, 0, 1, 0, 0, 0, 0, 0, 0, 0, 0, 0, 0], 0.15292096219931273, 3.888888888888889), 653: ('Touch of Evil (1958)', [0, 0, 0, 0, 0, 0, 1, 0, 0, 0, 1, 0, 0, 0, 0, 0, 1, 0, 0], 0.05670103092783505, 3.911764705882353), 654: ('Chinatown (1974)', [0, 0, 0, 0, 0, 0, 0, 0, 0, 0, 1, 0, 0, 1, 0, 0, 1, 0, 0], 0.2508591065292096, 4.136054421768708), 655: ('Stand by Me (1986)', [0, 0, 1, 0, 0, 1, 0, 0, 1, 0, 0, 0, 0, 0, 0, 0, 0, 0, 0], 0.38831615120274915, 3.881057268722467), 656: ('M (1931)', [0, 0, 0, 0, 0, 0, 1, 0, 0, 0, 1, 0, 0, 0, 0, 0, 1, 0, 0], 0.07388316151202749, 4.0), 657: ('Manchurian Candidate, The (1962)', [0, 0, 0, 0, 0, 0, 0, 0, 0, 0, 1, 0, 0, 0, 0, 0, 1, 0, 0], 0.22336769759450173, 4.259541984732825), 658: ('Pump Up the Volume (1990)', [0, 0, 0, 0, 0, 0, 0, 0, 1, 0, 0, 0, 0, 0, 0, 0, 0, 0, 0], 0.13402061855670103, 3.4177215189873418), 659: ('Arsenic and Old Lace (1944)', [0, 0, 0, 0, 0, 1, 0, 0, 0, 0, 0, 0, 0, 1, 0, 0, 1, 0, 0], 0.1958762886597938, 4.078260869565217), 660: ('Fried Green Tomatoes (1991)', [0, 0, 0, 0, 0, 0, 0, 0, 1, 0, 0, 0, 0, 0, 0, 0, 0, 0, 0], 0.2611683848797251, 3.764705882352941), 661: ('High Noon (1952)', [0, 0, 0, 0, 0, 0, 0, 0, 0, 0, 0, 0, 0, 0, 0, 0, 0, 0, 1], 0.14948453608247422, 4.1022727272727275), 662: ('Somewhere in Time (1980)', [0, 0, 0, 0, 0, 0, 0, 0, 1, 0, 0, 0, 0, 0, 1, 0, 0, 0, 0], 0.13917525773195877, 3.426829268292683), 663: ('Being There (1979)', [0, 0, 0, 0, 0, 1, 0, 0, 0, 0, 0, 0, 0, 0, 0, 0, 0, 0, 0], 0.19759450171821305, 3.9051724137931036), 664: ('Paris, Texas (1984)', [0, 0, 0, 0, 0, 0, 0, 0, 1, 0, 0, 0, 0, 0, 0, 0, 0, 0, 0], 0.07731958762886598, 3.5434782608695654), 665: ('Alien 3 (1992)', [0, 1, 0, 0, 0, 0, 0, 0, 0, 0, 0, 1, 0, 0, 0, 1, 1, 0, 0], 0.17010309278350516, 2.83), 666: (\"Blood For Dracula (Andy Warhol's Dracula) (1974)\", [0, 0, 0, 0, 0, 0, 0, 0, 0, 0, 0, 1, 0, 0, 0, 0, 0, 0, 0], 0.006872852233676976, 2.4), 667: ('Audrey Rose (1977)', [0, 0, 0, 0, 0, 0, 0, 0, 0, 0, 0, 1, 0, 0, 0, 0, 0, 0, 0], 0.018900343642611683, 2.1666666666666665), 668: ('Blood Beach (1981)', [0, 1, 0, 0, 0, 0, 0, 0, 0, 0, 0, 1, 0, 0, 0, 0, 0, 0, 0], 0.00859106529209622, 2.1666666666666665), 669: ('Body Parts (1991)', [0, 0, 0, 0, 0, 0, 0, 0, 0, 0, 0, 1, 0, 0, 0, 0, 0, 0, 0], 0.020618556701030927, 1.6153846153846154), 670: ('Body Snatchers (1993)', [0, 0, 0, 0, 0, 0, 0, 0, 0, 0, 0, 1, 0, 0, 0, 1, 1, 0, 0], 0.06013745704467354, 3.0), 671: ('Bride of Frankenstein (1935)', [0, 0, 0, 0, 0, 0, 0, 0, 0, 0, 0, 1, 0, 0, 0, 0, 0, 0, 0], 0.07731958762886598, 3.608695652173913), 672: ('Candyman (1992)', [0, 0, 0, 0, 0, 0, 0, 0, 0, 0, 0, 1, 0, 0, 0, 0, 0, 0, 0], 0.10996563573883161, 2.723076923076923), 673: ('Cape Fear (1962)', [0, 0, 0, 0, 0, 0, 0, 0, 0, 0, 1, 0, 0, 0, 0, 0, 1, 0, 0], 0.14604810996563575, 3.5232558139534884), 674: ('Cat People (1982)', [0, 0, 0, 0, 0, 0, 0, 0, 0, 0, 0, 1, 0, 0, 0, 0, 0, 0, 0], 0.08075601374570447, 2.8958333333333335), 675: ('Nosferatu (Nosferatu, eine Symphonie des Grauens) (1922)', [0, 0, 0, 0, 0, 0, 0, 0, 0, 0, 0, 1, 0, 0, 0, 0, 0, 0, 0], 0.09106529209621993, 3.5555555555555554), 676: ('Crucible, The (1996)', [0, 0, 0, 0, 0, 0, 0, 0, 1, 0, 0, 0, 0, 0, 0, 0, 0, 0, 0], 0.13058419243986255, 3.3376623376623376), 677: ('Fire on the Mountain (1996)', [0, 0, 0, 0, 0, 0, 0, 1, 0, 0, 0, 0, 0, 0, 0, 0, 0, 0, 0], 0.0, 3.0), 678: ('Volcano (1997)', [0, 0, 0, 0, 0, 0, 0, 0, 1, 0, 0, 0, 0, 0, 0, 0, 1, 0, 0], 0.3745704467353952, 2.808219178082192), 679: ('Conan the Barbarian (1981)', [0, 1, 1, 0, 0, 0, 0, 0, 0, 0, 0, 0, 0, 0, 0, 0, 0, 0, 0], 0.18213058419243985, 3.046728971962617), 680: ('Kull the Conqueror (1997)', [0, 1, 1, 0, 0, 0, 0, 0, 0, 0, 0, 0, 0, 0, 0, 0, 0, 0, 0], 0.05670103092783505, 2.5588235294117645), 681: ('Wishmaster (1997)', [0, 0, 0, 0, 0, 0, 0, 0, 0, 0, 0, 1, 0, 0, 0, 0, 0, 0, 0], 0.044673539518900345, 2.4444444444444446), 682: ('I Know What You Did Last Summer (1997)', [0, 0, 0, 0, 0, 0, 0, 0, 0, 0, 0, 1, 0, 1, 0, 0, 1, 0, 0], 0.17010309278350516, 3.06), 683: ('Rocket Man (1997)', [0, 0, 0, 0, 0, 1, 0, 0, 0, 0, 0, 0, 0, 0, 0, 0, 0, 0, 0], 0.08247422680412371, 2.4081632653061225), 684: ('In the Line of Fire (1993)', [0, 1, 0, 0, 0, 0, 0, 0, 0, 0, 0, 0, 0, 0, 0, 0, 1, 0, 0], 0.28865979381443296, 3.7928994082840237), 685: ('Executive Decision (1996)', [0, 1, 0, 0, 0, 0, 0, 0, 0, 0, 0, 0, 0, 0, 0, 0, 1, 0, 0], 0.26804123711340205, 3.356687898089172), 686: ('Perfect World, A (1993)', [0, 1, 0, 0, 0, 0, 0, 0, 1, 0, 0, 0, 0, 0, 0, 0, 0, 0, 0], 0.08419243986254296, 3.68), 687: (\"McHale's Navy (1997)\", [0, 0, 0, 0, 0, 1, 0, 0, 0, 0, 0, 0, 0, 0, 0, 0, 0, 1, 0], 0.11683848797250859, 2.1884057971014492), 688: ('Leave It to Beaver (1997)', [0, 0, 0, 0, 0, 1, 0, 0, 0, 0, 0, 0, 0, 0, 0, 0, 0, 0, 0], 0.07388316151202749, 1.8409090909090908), 689: ('Jackal, The (1997)', [0, 1, 0, 0, 0, 0, 0, 0, 0, 0, 0, 0, 0, 0, 0, 0, 1, 0, 0], 0.14776632302405499, 3.1494252873563218), 690: ('Seven Years in Tibet (1997)', [0, 0, 0, 0, 0, 0, 0, 0, 1, 0, 0, 0, 0, 0, 0, 0, 0, 1, 0], 0.2646048109965636, 3.458064516129032), 691: ('Dark City (1998)', [0, 0, 0, 0, 0, 0, 0, 0, 0, 0, 1, 0, 0, 0, 0, 1, 1, 0, 0], 0.02577319587628866, 3.5), 692: ('American President, The (1995)', [0, 0, 0, 0, 0, 1, 0, 0, 1, 0, 0, 0, 0, 0, 1, 0, 0, 0, 0], 0.2800687285223368, 3.6280487804878048), 693: ('Casino (1995)', [0, 0, 0, 0, 0, 0, 0, 0, 1, 0, 0, 0, 0, 0, 0, 0, 0, 0, 0], 0.15463917525773196, 3.6483516483516483), 694: ('Persuasion (1995)', [0, 0, 0, 0, 0, 0, 0, 0, 0, 0, 0, 0, 0, 0, 1, 0, 0, 0, 0], 0.07388316151202749, 4.045454545454546), 695: ('Kicking and Screaming (1995)', [0, 0, 0, 0, 0, 1, 0, 0, 1, 0, 0, 0, 0, 0, 0, 0, 0, 0, 0], 0.020618556701030927, 2.923076923076923), 696: ('City Hall (1996)', [0, 0, 0, 0, 0, 0, 0, 0, 1, 0, 0, 0, 0, 0, 0, 0, 1, 0, 0], 0.13402061855670103, 3.1392405063291138), 697: ('Basketball Diaries, The (1995)', [0, 0, 0, 0, 0, 0, 0, 0, 1, 0, 0, 0, 0, 0, 0, 0, 0, 0, 0], 0.06701030927835051, 3.425), 698: ('Browning Version, The (1994)', [0, 0, 0, 0, 0, 0, 0, 0, 1, 0, 0, 0, 0, 0, 0, 0, 0, 0, 0], 0.015463917525773196, 3.0), 699: ('Little Women (1994)', [0, 0, 0, 0, 0, 0, 0, 0, 1, 0, 0, 0, 0, 0, 0, 0, 0, 0, 0], 0.17353951890034364, 3.676470588235294), 700: ('Miami Rhapsody (1995)', [0, 0, 0, 0, 0, 1, 0, 0, 0, 0, 0, 0, 0, 0, 0, 0, 0, 0, 0], 0.024054982817869417, 2.6), 701: ('Wonderful, Horrible Life of Leni Riefenstahl, The (1993)', [0, 0, 0, 0, 0, 0, 0, 1, 0, 0, 0, 0, 0, 0, 0, 0, 0, 0, 0], 0.015463917525773196, 4.0), 702: ('Barcelona (1994)', [0, 0, 0, 0, 0, 1, 0, 0, 0, 0, 0, 0, 0, 0, 1, 0, 0, 0, 0], 0.08934707903780069, 3.018867924528302), 703: (\"Widows' Peak (1994)\", [0, 0, 0, 0, 0, 0, 0, 0, 1, 0, 0, 0, 0, 0, 0, 0, 0, 0, 0], 0.030927835051546393, 3.5789473684210527), 704: ('House of the Spirits, The (1993)', [0, 0, 0, 0, 0, 0, 0, 0, 1, 0, 0, 0, 0, 0, 1, 0, 0, 0, 0], 0.03951890034364261, 3.0416666666666665), 705: (\"Singin' in the Rain (1952)\", [0, 0, 0, 0, 0, 0, 0, 0, 0, 0, 0, 0, 1, 0, 1, 0, 0, 0, 0], 0.23367697594501718, 3.9927007299270074), 706: ('Bad Moon (1996)', [0, 0, 0, 0, 0, 0, 0, 0, 0, 0, 0, 1, 0, 0, 0, 0, 0, 0, 0], 0.00859106529209622, 2.6666666666666665), 707: ('Enchanted April (1991)', [0, 0, 0, 0, 0, 0, 0, 0, 1, 0, 0, 0, 0, 0, 0, 0, 0, 0, 0], 0.11855670103092783, 3.9285714285714284), 708: ('Sex, Lies, and Videotape (1989)', [0, 0, 0, 0, 0, 0, 0, 0, 1, 0, 0, 0, 0, 0, 0, 0, 0, 0, 0], 0.1718213058419244, 3.4752475247524752), 709: ('Strictly Ballroom (1992)', [0, 0, 0, 0, 0, 1, 0, 0, 0, 0, 0, 0, 0, 0, 1, 0, 0, 0, 0], 0.17697594501718214, 4.028846153846154), 710: ('Better Off Dead... (1985)', [0, 0, 0, 0, 0, 1, 0, 0, 0, 0, 0, 0, 0, 0, 0, 0, 0, 0, 0], 0.13402061855670103, 3.569620253164557), 711: ('Substance of Fire, The (1996)', [0, 0, 0, 0, 0, 0, 0, 0, 1, 0, 0, 0, 0, 0, 0, 0, 0, 0, 0], 0.0, 4.0), 712: ('Tin Men (1987)', [0, 0, 0, 0, 0, 1, 0, 0, 1, 0, 0, 0, 0, 0, 0, 0, 0, 0, 0], 0.0859106529209622, 3.0784313725490198), 713: ('Othello (1995)', [0, 0, 0, 0, 0, 0, 0, 0, 1, 0, 0, 0, 0, 0, 0, 0, 0, 0, 0], 0.12199312714776632, 3.611111111111111), 714: ('Carrington (1995)', [0, 0, 0, 0, 0, 0, 0, 0, 1, 0, 0, 0, 0, 0, 1, 0, 0, 0, 0], 0.020618556701030927, 3.230769230769231), 715: ('To Die For (1995)', [0, 0, 0, 0, 0, 1, 0, 0, 1, 0, 0, 0, 0, 0, 0, 0, 0, 0, 0], 0.14776632302405499, 3.2758620689655173), 716: ('Home for the Holidays (1995)', [0, 0, 0, 0, 0, 0, 0, 0, 1, 0, 0, 0, 0, 0, 1, 0, 0, 0, 0], 0.0979381443298969, 3.1551724137931036), 717: ('Juror, The (1996)', [0, 0, 0, 0, 0, 0, 0, 0, 1, 0, 0, 0, 0, 0, 0, 0, 1, 0, 0], 0.13917525773195877, 2.817073170731707), 718: ('In the Bleak Midwinter (1995)', [0, 0, 0, 0, 0, 1, 0, 0, 0, 0, 0, 0, 0, 0, 0, 0, 0, 0, 0], 0.02577319587628866, 3.6875), 719: ('Canadian Bacon (1994)', [0, 0, 0, 0, 0, 1, 0, 0, 0, 0, 0, 0, 0, 0, 0, 0, 0, 1, 0], 0.048109965635738834, 2.413793103448276), 720: ('First Knight (1995)', [0, 1, 1, 0, 0, 0, 0, 0, 1, 0, 0, 0, 0, 0, 1, 0, 0, 0, 0], 0.14604810996563575, 3.0232558139534884), 721: ('Mallrats (1995)', [0, 0, 0, 0, 0, 1, 0, 0, 0, 0, 0, 0, 0, 0, 0, 0, 0, 0, 0], 0.09106529209621993, 3.4444444444444446), 722: ('Nine Months (1995)', [0, 0, 0, 0, 0, 1, 0, 0, 0, 0, 0, 0, 0, 0, 0, 0, 0, 0, 0], 0.0979381443298969, 2.9310344827586206), 723: ('Boys on the Side (1995)', [0, 0, 0, 0, 0, 1, 0, 0, 1, 0, 0, 0, 0, 0, 0, 0, 0, 0, 0], 0.05670103092783505, 3.1470588235294117), 724: ('Circle of Friends (1995)', [0, 0, 0, 0, 0, 0, 0, 0, 1, 0, 0, 0, 0, 0, 1, 0, 0, 0, 0], 0.12886597938144329, 3.486842105263158), 725: ('Exit to Eden (1994)', [0, 0, 0, 0, 0, 1, 0, 0, 0, 0, 0, 0, 0, 0, 0, 0, 0, 0, 0], 0.02577319587628866, 2.75), 726: ('Fluke (1995)', [0, 0, 0, 0, 1, 0, 0, 0, 1, 0, 0, 0, 0, 0, 0, 0, 0, 0, 0], 0.022336769759450172, 2.4285714285714284), 727: ('Immortal Beloved (1994)', [0, 0, 0, 0, 0, 0, 0, 0, 1, 0, 0, 0, 0, 0, 1, 0, 0, 0, 0], 0.10652920962199312, 3.4603174603174605), 728: ('Junior (1994)', [0, 0, 0, 0, 0, 1, 0, 0, 0, 0, 0, 0, 0, 0, 0, 1, 0, 0, 0], 0.07560137457044673, 3.022222222222222), 729: ('Nell (1994)', [0, 0, 0, 0, 0, 0, 0, 0, 1, 0, 0, 0, 0, 0, 0, 0, 0, 0, 0], 0.13745704467353953, 3.4814814814814814), 730: ('Queen Margot (Reine Margot, La) (1994)', [0, 0, 0, 0, 0, 0, 0, 0, 1, 0, 0, 0, 0, 0, 1, 0, 0, 0, 0], 0.03951890034364261, 3.5), 731: ('Corrina, Corrina (1994)', [0, 0, 0, 0, 0, 1, 0, 0, 1, 0, 0, 0, 0, 0, 1, 0, 0, 0, 0], 0.06529209621993128, 3.1538461538461537), 732: ('Dave (1993)', [0, 0, 0, 0, 0, 1, 0, 0, 0, 0, 0, 0, 0, 0, 1, 0, 0, 0, 0], 0.3075601374570447, 3.65), 733: ('Go Fish (1994)', [0, 0, 0, 0, 0, 0, 0, 0, 1, 0, 0, 0, 0, 0, 1, 0, 0, 0, 0], 0.024054982817869417, 3.2), 734: ('Made in America (1993)', [0, 0, 0, 0, 0, 1, 0, 0, 0, 0, 0, 0, 0, 0, 0, 0, 0, 0, 0], 0.044673539518900345, 2.5185185185185186), 735: ('Philadelphia (1993)', [0, 0, 0, 0, 0, 0, 0, 0, 1, 0, 0, 0, 0, 0, 0, 0, 0, 0, 0], 0.23367697594501718, 3.854014598540146), 736: ('Shadowlands (1993)', [0, 0, 0, 0, 0, 0, 0, 0, 1, 0, 0, 0, 0, 0, 1, 0, 0, 0, 0], 0.1323024054982818, 3.9358974358974357), 737: ('Sirens (1994)', [0, 0, 0, 0, 0, 1, 0, 0, 1, 0, 0, 0, 0, 0, 0, 0, 0, 0, 0], 0.09965635738831616, 2.983050847457627), 738: ('Threesome (1994)', [0, 0, 0, 0, 0, 1, 0, 0, 0, 0, 0, 0, 0, 0, 1, 0, 0, 0, 0], 0.05154639175257732, 2.838709677419355), 739: ('Pretty Woman (1990)', [0, 0, 0, 0, 0, 1, 0, 0, 0, 0, 0, 0, 0, 0, 1, 0, 0, 0, 0], 0.2800687285223368, 3.323170731707317), 740: ('Jane Eyre (1996)', [0, 0, 0, 0, 0, 0, 0, 0, 1, 0, 0, 0, 0, 0, 1, 0, 0, 0, 0], 0.10652920962199312, 3.4761904761904763), 741: ('Last Supper, The (1995)', [0, 0, 0, 0, 0, 0, 0, 0, 1, 0, 0, 0, 0, 0, 0, 0, 1, 0, 0], 0.0979381443298969, 3.4482758620689653), 742: ('Ransom (1996)', [0, 0, 0, 0, 0, 0, 0, 0, 1, 0, 0, 0, 0, 0, 0, 0, 1, 0, 0], 0.4570446735395189, 3.644194756554307), 743: ('Crow: City of Angels, The (1996)', [0, 1, 0, 0, 0, 0, 0, 0, 0, 0, 0, 0, 0, 0, 0, 0, 1, 0, 0], 0.06529209621993128, 1.9487179487179487), 744: ('Michael Collins (1996)', [0, 0, 0, 0, 0, 0, 0, 0, 1, 0, 0, 0, 0, 0, 0, 0, 0, 1, 0], 0.1563573883161512, 3.4565217391304346), 745: ('Ruling Class, The (1972)', [0, 0, 0, 0, 0, 1, 0, 0, 0, 0, 0, 0, 0, 0, 0, 0, 0, 0, 0], 0.02577319587628866, 3.875), 746: ('Real Genius (1985)', [0, 0, 0, 0, 0, 1, 0, 0, 0, 0, 0, 0, 0, 0, 0, 0, 0, 0, 0], 0.2027491408934708, 3.6638655462184873), 747: ('Benny & Joon (1993)', [0, 0, 0, 0, 0, 1, 0, 0, 0, 0, 0, 0, 0, 0, 1, 0, 0, 0, 0], 0.17353951890034364, 3.4607843137254903), 748: ('Saint, The (1997)', [0, 1, 0, 0, 0, 0, 0, 0, 0, 0, 0, 0, 0, 0, 1, 0, 1, 0, 0], 0.5412371134020618, 3.1234177215189876), 749: ('MatchMaker, The (1997)', [0, 0, 0, 0, 0, 1, 0, 0, 0, 0, 0, 0, 0, 0, 1, 0, 0, 0, 0], 0.0859106529209622, 3.176470588235294), 750: ('Amistad (1997)', [0, 0, 0, 0, 0, 0, 0, 0, 1, 0, 0, 0, 0, 0, 0, 0, 0, 0, 0], 0.211340206185567, 3.8548387096774195), 751: ('Tomorrow Never Dies (1997)', [0, 1, 0, 0, 0, 0, 0, 0, 0, 0, 0, 0, 0, 0, 1, 0, 1, 0, 0], 0.3075601374570447, 3.4277777777777776), 752: ('Replacement Killers, The (1998)', [0, 1, 0, 0, 0, 0, 0, 0, 0, 0, 0, 0, 0, 0, 0, 0, 1, 0, 0], 0.06529209621993128, 3.3076923076923075), 753: ('Burnt By the Sun (1994)', [0, 0, 0, 0, 0, 0, 0, 0, 1, 0, 0, 0, 0, 0, 0, 0, 0, 0, 0], 0.03951890034364261, 3.7083333333333335), 754: ('Red Corner (1997)', [0, 0, 0, 0, 0, 0, 1, 0, 0, 0, 0, 0, 0, 0, 0, 0, 1, 0, 0], 0.09621993127147767, 3.3859649122807016), 755: ('Jumanji (1995)', [0, 1, 1, 0, 1, 0, 0, 0, 0, 1, 0, 0, 0, 0, 0, 1, 0, 0, 0], 0.16323024054982818, 3.3125), 756: ('Father of the Bride Part II (1995)', [0, 0, 0, 0, 0, 1, 0, 0, 0, 0, 0, 0, 0, 0, 0, 0, 0, 0, 0], 0.218213058419244, 2.8984375), 757: ('Across the Sea of Time (1995)', [0, 0, 0, 0, 0, 0, 0, 1, 0, 0, 0, 0, 0, 0, 0, 0, 0, 0, 0], 0.005154639175257732, 2.75), 758: ('Lawnmower Man 2: Beyond Cyberspace (1996)', [0, 0, 0, 0, 0, 0, 0, 0, 0, 0, 0, 0, 0, 0, 0, 1, 1, 0, 0], 0.03436426116838488, 1.7142857142857142), 759: ('Fair Game (1995)', [0, 1, 0, 0, 0, 0, 0, 0, 0, 0, 0, 0, 0, 0, 0, 0, 0, 0, 0], 0.01718213058419244, 2.1818181818181817), 760: ('Screamers (1995)', [0, 0, 0, 0, 0, 0, 0, 0, 0, 0, 0, 0, 0, 0, 0, 1, 0, 0, 0], 0.07731958762886598, 2.652173913043478), 761: ('Nick of Time (1995)', [0, 1, 0, 0, 0, 0, 0, 0, 0, 0, 0, 0, 0, 0, 0, 0, 1, 0, 0], 0.07388316151202749, 3.0454545454545454), 762: ('Beautiful Girls (1996)', [0, 0, 0, 0, 0, 0, 0, 0, 1, 0, 0, 0, 0, 0, 0, 0, 0, 0, 0], 0.1958762886597938, 3.391304347826087), 763: ('Happy Gilmore (1996)', [0, 0, 0, 0, 0, 1, 0, 0, 0, 0, 0, 0, 0, 0, 0, 0, 0, 0, 0], 0.2542955326460481, 3.389261744966443), 764: ('If Lucy Fell (1996)', [0, 0, 0, 0, 0, 1, 0, 0, 0, 0, 0, 0, 0, 0, 1, 0, 0, 0, 0], 0.048109965635738834, 2.7586206896551726), 765: ('Boomerang (1992)', [0, 0, 0, 0, 0, 1, 0, 0, 0, 0, 0, 0, 0, 0, 1, 0, 0, 0, 0], 0.05326460481099656, 2.8125), 766: ('Man of the Year (1995)', [0, 0, 0, 0, 0, 0, 0, 1, 0, 0, 0, 0, 0, 0, 0, 0, 0, 0, 0], 0.013745704467353952, 3.111111111111111), 767: ('Addiction, The (1995)', [0, 0, 0, 0, 0, 0, 0, 0, 0, 0, 0, 1, 0, 0, 0, 0, 0, 0, 0], 0.01718213058419244, 2.1818181818181817), 768: ('Casper (1995)', [0, 0, 1, 0, 1, 0, 0, 0, 0, 0, 0, 0, 0, 0, 0, 0, 0, 0, 0], 0.08762886597938144, 3.076923076923077), 769: ('Congo (1995)', [0, 1, 1, 0, 0, 0, 0, 0, 0, 0, 0, 0, 0, 1, 0, 1, 0, 0, 0], 0.070446735395189, 2.4523809523809526), 770: ('Devil in a Blue Dress (1995)', [0, 0, 0, 0, 0, 0, 1, 0, 0, 0, 1, 0, 0, 1, 0, 0, 1, 0, 0], 0.09621993127147767, 3.3859649122807016), 771: ('Johnny Mnemonic (1995)', [0, 1, 0, 0, 0, 0, 0, 0, 0, 0, 0, 0, 0, 0, 0, 1, 1, 0, 0], 0.06872852233676977, 2.6341463414634148), 772: ('Kids (1995)', [0, 0, 0, 0, 0, 0, 0, 0, 1, 0, 0, 0, 0, 0, 0, 0, 0, 0, 0], 0.08247422680412371, 3.061224489795918), 773: ('Mute Witness (1994)', [0, 0, 0, 0, 0, 0, 0, 0, 0, 0, 0, 0, 0, 0, 0, 0, 1, 0, 0], 0.027491408934707903, 2.9411764705882355), 774: ('Prophecy, The (1995)', [0, 0, 0, 0, 0, 0, 0, 0, 0, 0, 0, 1, 0, 0, 0, 0, 0, 0, 0], 0.05326460481099656, 2.9375), 775: ('Something to Talk About (1995)', [0, 0, 0, 0, 0, 1, 0, 0, 1, 0, 0, 0, 0, 0, 1, 0, 0, 0, 0], 0.0429553264604811, 2.769230769230769), 776: ('Three Wishes (1995)', [0, 0, 0, 0, 0, 0, 0, 0, 1, 0, 0, 0, 0, 0, 0, 0, 0, 0, 0], 0.013745704467353952, 3.2222222222222223), 777: ('Castle Freak (1995)', [0, 0, 0, 0, 0, 0, 0, 0, 0, 0, 0, 1, 0, 0, 0, 0, 0, 0, 0], 0.005154639175257732, 1.25), 778: ('Don Juan DeMarco (1995)', [0, 0, 0, 0, 0, 1, 0, 0, 1, 0, 0, 0, 0, 0, 1, 0, 0, 0, 0], 0.12886597938144329, 3.5526315789473686), 779: ('Drop Zone (1994)', [0, 1, 0, 0, 0, 0, 0, 0, 0, 0, 0, 0, 0, 0, 0, 0, 0, 0, 0], 0.05154639175257732, 2.5483870967741935), 780: ('Dumb & Dumber (1994)', [0, 0, 0, 0, 0, 1, 0, 0, 0, 0, 0, 0, 0, 0, 0, 0, 0, 0, 0], 0.11683848797250859, 3.0), 781: ('French Kiss (1995)', [0, 0, 0, 0, 0, 1, 0, 0, 0, 0, 0, 0, 0, 0, 1, 0, 0, 0, 0], 0.14261168384879724, 3.3333333333333335), 782: ('Little Odessa (1994)', [0, 0, 0, 0, 0, 0, 0, 0, 1, 0, 0, 0, 0, 0, 0, 0, 0, 0, 0], 0.015463917525773196, 2.6), 783: ('Milk Money (1994)', [0, 0, 0, 0, 0, 1, 0, 0, 0, 0, 0, 0, 0, 0, 1, 0, 0, 0, 0], 0.061855670103092786, 2.72972972972973), 784: ('Beyond Bedlam (1993)', [0, 0, 0, 0, 0, 0, 0, 0, 1, 0, 0, 1, 0, 0, 0, 0, 0, 0, 0], 0.001718213058419244, 1.0), 785: ('Only You (1994)', [0, 0, 0, 0, 0, 1, 0, 0, 0, 0, 0, 0, 0, 0, 1, 0, 0, 0, 0], 0.06529209621993128, 3.1538461538461537), 786: ('Perez Family, The (1995)', [0, 0, 0, 0, 0, 1, 0, 0, 0, 0, 0, 0, 0, 0, 1, 0, 0, 0, 0], 0.022336769759450172, 2.642857142857143), 787: ('Roommates (1995)', [0, 0, 0, 0, 0, 1, 0, 0, 1, 0, 0, 0, 0, 0, 0, 0, 0, 0, 0], 0.020618556701030927, 3.230769230769231), 788: ('Relative Fear (1994)', [0, 0, 0, 0, 0, 0, 0, 0, 0, 0, 0, 1, 0, 0, 0, 0, 1, 0, 0], 0.003436426116838488, 1.6666666666666667), 789: ('Swimming with Sharks (1995)', [0, 0, 0, 0, 0, 1, 0, 0, 1, 0, 0, 0, 0, 0, 0, 0, 0, 0, 0], 0.07903780068728522, 3.574468085106383), 790: ('Tommy Boy (1995)', [0, 0, 0, 0, 0, 1, 0, 0, 0, 0, 0, 0, 0, 0, 0, 0, 0, 0, 0], 0.11168384879725086, 2.909090909090909), 791: ('Baby-Sitters Club, The (1995)', [0, 0, 0, 0, 1, 0, 0, 0, 0, 0, 0, 0, 0, 0, 0, 0, 0, 0, 0], 0.015463917525773196, 2.5), 792: ('Bullets Over Broadway (1994)', [0, 0, 0, 0, 0, 1, 0, 0, 0, 0, 0, 0, 0, 0, 0, 0, 0, 0, 0], 0.14604810996563575, 3.7209302325581395), 793: ('Crooklyn (1994)', [0, 0, 0, 0, 0, 1, 0, 0, 0, 0, 0, 0, 0, 0, 0, 0, 0, 0, 0], 0.015463917525773196, 3.5), 794: ('It Could Happen to You (1994)', [0, 0, 0, 0, 0, 0, 0, 0, 1, 0, 0, 0, 0, 0, 1, 0, 0, 0, 0], 0.07731958762886598, 3.652173913043478), 795: ('Richie Rich (1994)', [0, 0, 0, 0, 1, 1, 0, 0, 0, 0, 0, 0, 0, 0, 0, 0, 0, 0, 0], 0.03436426116838488, 2.4285714285714284), 796: ('Speechless (1994)', [0, 0, 0, 0, 0, 1, 0, 0, 0, 0, 0, 0, 0, 0, 1, 0, 0, 0, 0], 0.06013745704467354, 3.0833333333333335), 797: ('Timecop (1994)', [0, 1, 0, 0, 0, 0, 0, 0, 0, 0, 0, 0, 0, 0, 0, 1, 0, 0, 0], 0.05154639175257732, 3.096774193548387), 798: ('Bad Company (1995)', [0, 1, 0, 0, 0, 0, 0, 0, 0, 0, 0, 0, 0, 0, 0, 0, 0, 0, 0], 0.013745704467353952, 2.2222222222222223), 799: ('Boys Life (1995)', [0, 0, 0, 0, 0, 0, 0, 0, 1, 0, 0, 0, 0, 0, 0, 0, 0, 0, 0], 0.006872852233676976, 3.2), 800: ('In the Mouth of Madness (1995)', [0, 0, 0, 0, 0, 0, 0, 0, 0, 0, 0, 1, 0, 0, 0, 0, 1, 0, 0], 0.0429553264604811, 2.8846153846153846), 801: ('Air Up There, The (1994)', [0, 0, 0, 0, 0, 1, 0, 0, 0, 0, 0, 0, 0, 0, 0, 0, 0, 0, 0], 0.02577319587628866, 2.8125), 802: ('Hard Target (1993)', [0, 1, 1, 0, 0, 0, 1, 0, 0, 0, 0, 0, 0, 0, 0, 0, 1, 0, 0], 0.06701030927835051, 2.7), 803: ('Heaven & Earth (1993)', [0, 1, 0, 0, 0, 0, 0, 0, 1, 0, 0, 0, 0, 0, 0, 0, 0, 1, 0], 0.013745704467353952, 2.5555555555555554), 804: ('Jimmy Hollywood (1994)', [0, 0, 0, 0, 0, 1, 0, 0, 0, 0, 0, 0, 0, 0, 0, 0, 0, 0, 0], 0.012027491408934709, 2.875), 805: ('Manhattan Murder Mystery (1993)', [0, 0, 0, 0, 0, 1, 0, 0, 0, 0, 0, 0, 0, 1, 0, 0, 0, 0, 0], 0.044673539518900345, 3.6296296296296298), 806: ('Menace II Society (1993)', [0, 1, 0, 0, 0, 0, 1, 0, 1, 0, 0, 0, 0, 0, 0, 0, 0, 0, 0], 0.08419243986254296, 3.46), 807: ('Poetic Justice (1993)', [0, 0, 0, 0, 0, 0, 0, 0, 1, 0, 0, 0, 0, 0, 0, 0, 0, 0, 0], 0.013745704467353952, 2.7777777777777777), 808: ('Program, The (1993)', [0, 1, 0, 0, 0, 0, 0, 0, 1, 0, 0, 0, 0, 0, 0, 0, 0, 0, 0], 0.05154639175257732, 2.838709677419355), 809: ('Rising Sun (1993)', [0, 1, 0, 0, 0, 0, 0, 0, 1, 0, 0, 0, 0, 1, 0, 0, 0, 0, 0], 0.07216494845360824, 2.9069767441860463), 810: ('Shadow, The (1994)', [0, 1, 0, 0, 0, 0, 0, 0, 0, 0, 0, 0, 0, 0, 0, 0, 0, 0, 0], 0.07560137457044673, 2.888888888888889), 811: ('Thirty-Two Short Films About Glenn Gould (1993)', [0, 0, 0, 0, 0, 0, 0, 1, 0, 0, 0, 0, 0, 0, 0, 0, 0, 0, 0], 0.029209621993127148, 3.9444444444444446), 812: ('Andre (1994)', [0, 0, 1, 0, 1, 0, 0, 0, 0, 0, 0, 0, 0, 0, 0, 0, 0, 0, 0], 0.029209621993127148, 3.111111111111111), 813: ('Celluloid Closet, The (1995)', [0, 0, 0, 0, 0, 0, 0, 1, 0, 0, 0, 0, 0, 0, 0, 0, 0, 0, 0], 0.09450171821305842, 3.892857142857143), 814: ('Great Day in Harlem, A (1994)', [0, 0, 0, 0, 0, 0, 0, 1, 0, 0, 0, 0, 0, 0, 0, 0, 0, 0, 0], 0.0, 5.0), 815: ('One Fine Day (1996)', [0, 0, 0, 0, 0, 0, 0, 0, 1, 0, 0, 0, 0, 0, 1, 0, 0, 0, 0], 0.19072164948453607, 3.232142857142857), 816: ('Candyman: Farewell to the Flesh (1995)', [0, 0, 0, 0, 0, 0, 0, 0, 0, 0, 0, 1, 0, 0, 0, 0, 0, 0, 0], 0.03436426116838488, 2.4285714285714284), 817: ('Frisk (1995)', [0, 0, 0, 0, 0, 0, 0, 0, 1, 0, 0, 0, 0, 0, 0, 0, 0, 0, 0], 0.003436426116838488, 2.6666666666666665), 818: ('Girl 6 (1996)', [0, 0, 0, 0, 0, 1, 0, 0, 0, 0, 0, 0, 0, 0, 0, 0, 0, 0, 0], 0.041237113402061855, 2.76), 819: ('Eddie (1996)', [0, 0, 0, 0, 0, 1, 0, 0, 0, 0, 0, 0, 0, 0, 0, 0, 0, 0, 0], 0.06701030927835051, 2.7), 820: ('Space Jam (1996)', [0, 0, 1, 1, 1, 1, 0, 0, 0, 1, 0, 0, 0, 0, 0, 0, 0, 0, 0], 0.15807560137457044, 2.774193548387097), 821: ('Mrs. Winterbourne (1996)', [0, 0, 0, 0, 0, 1, 0, 0, 0, 0, 0, 0, 0, 0, 1, 0, 0, 0, 0], 0.03608247422680412, 3.0454545454545454), 822: ('Faces (1968)', [0, 0, 0, 0, 0, 0, 0, 0, 1, 0, 0, 0, 0, 0, 0, 0, 0, 0, 0], 0.005154639175257732, 3.0), 823: ('Mulholland Falls (1996)', [0, 0, 0, 0, 0, 0, 1, 0, 0, 0, 1, 0, 0, 0, 0, 0, 1, 0, 0], 0.13917525773195877, 2.8780487804878048), 824: ('Great White Hype, The (1996)', [0, 0, 0, 0, 0, 1, 0, 0, 0, 0, 0, 0, 0, 0, 0, 0, 0, 0, 0], 0.08247422680412371, 2.7551020408163267), 825: ('Arrival, The (1996)', [0, 1, 0, 0, 0, 0, 0, 0, 0, 0, 0, 0, 0, 0, 0, 1, 1, 0, 0], 0.140893470790378, 3.036144578313253), 826: ('Phantom, The (1996)', [0, 0, 1, 0, 0, 0, 0, 0, 0, 0, 0, 0, 0, 0, 0, 0, 0, 0, 0], 0.13573883161512026, 2.575), 827: ('Daylight (1996)', [0, 1, 1, 0, 0, 0, 0, 0, 0, 0, 0, 0, 0, 0, 0, 0, 1, 0, 0], 0.09621993127147767, 2.7719298245614037), 828: ('Alaska (1996)', [0, 0, 1, 0, 1, 0, 0, 0, 0, 0, 0, 0, 0, 0, 0, 0, 0, 0, 0], 0.020618556701030927, 2.6923076923076925), 829: ('Fled (1996)', [0, 1, 1, 0, 0, 0, 0, 0, 0, 0, 0, 0, 0, 0, 0, 0, 0, 0, 0], 0.05670103092783505, 2.6470588235294117), 830: ('Power 98 (1995)', [0, 1, 0, 0, 0, 0, 0, 0, 0, 0, 0, 0, 0, 1, 0, 0, 1, 0, 0], 0.0, 1.0), 831: ('Escape from L.A. (1996)', [0, 1, 1, 0, 0, 0, 0, 0, 0, 0, 0, 0, 0, 0, 0, 1, 1, 0, 0], 0.15463917525773196, 2.4615384615384617), 832: ('Bogus (1996)', [0, 0, 0, 0, 1, 0, 0, 0, 1, 1, 0, 0, 0, 0, 0, 0, 0, 0, 0], 0.03608247422680412, 2.5454545454545454), 833: ('Bulletproof (1996)', [0, 1, 0, 0, 0, 0, 0, 0, 0, 0, 0, 0, 0, 0, 0, 0, 0, 0, 0], 0.08247422680412371, 3.204081632653061), 834: ('Halloween: The Curse of Michael Myers (1995)', [0, 0, 0, 0, 0, 0, 0, 0, 0, 0, 0, 1, 0, 0, 0, 0, 1, 0, 0], 0.041237113402061855, 2.2), 835: ('Gay Divorcee, The (1934)', [0, 0, 0, 0, 0, 1, 0, 0, 0, 0, 0, 0, 1, 0, 1, 0, 0, 0, 0], 0.024054982817869417, 3.8666666666666667), 836: ('Ninotchka (1939)', [0, 0, 0, 0, 0, 1, 0, 0, 0, 0, 0, 0, 0, 0, 1, 0, 0, 0, 0], 0.0429553264604811, 3.769230769230769), 837: ('Meet John Doe (1941)', [0, 0, 0, 0, 0, 0, 0, 0, 1, 0, 0, 0, 0, 0, 0, 0, 0, 0, 0], 0.041237113402061855, 3.92), 838: ('In the Line of Duty 2 (1987)', [0, 1, 0, 0, 0, 0, 0, 0, 0, 0, 0, 0, 0, 0, 0, 0, 0, 0, 0], 0.005154639175257732, 2.75), 839: ('Loch Ness (1995)', [0, 0, 0, 0, 0, 0, 0, 0, 0, 0, 0, 1, 0, 0, 0, 0, 1, 0, 0], 0.005154639175257732, 2.5), 840: ('Last Man Standing (1996)', [0, 1, 0, 0, 0, 0, 0, 0, 1, 0, 0, 0, 0, 0, 0, 0, 0, 0, 1], 0.08934707903780069, 2.660377358490566), 841: ('Glimmer Man, The (1996)', [0, 1, 0, 0, 0, 0, 0, 0, 0, 0, 0, 0, 0, 0, 0, 0, 1, 0, 0], 0.08075601374570447, 2.75), 842: ('Pollyanna (1960)', [0, 0, 0, 0, 1, 1, 0, 0, 1, 0, 0, 0, 0, 0, 0, 0, 0, 0, 0], 0.044673539518900345, 3.1481481481481484), 843: ('Shaggy Dog, The (1959)', [0, 0, 0, 0, 1, 1, 0, 0, 0, 0, 0, 0, 0, 0, 0, 0, 0, 0, 0], 0.04982817869415808, 3.0), 844: ('Freeway (1996)', [0, 0, 0, 0, 0, 0, 1, 0, 0, 0, 0, 0, 0, 0, 0, 0, 0, 0, 0], 0.070446735395189, 3.357142857142857), 845: ('That Thing You Do! (1996)', [0, 0, 0, 0, 0, 1, 0, 0, 0, 0, 0, 0, 0, 0, 0, 0, 0, 0, 0], 0.3006872852233677, 3.465909090909091), 846: ('To Gillian on Her 37th Birthday (1996)', [0, 0, 0, 0, 0, 0, 0, 0, 1, 0, 0, 0, 0, 0, 1, 0, 0, 0, 0], 0.07388316151202749, 3.0681818181818183), 847: ('Looking for Richard (1996)', [0, 0, 0, 0, 0, 0, 0, 1, 1, 0, 0, 0, 0, 0, 0, 0, 0, 0, 0], 0.09278350515463918, 3.727272727272727), 848: ('Murder, My Sweet (1944)', [0, 0, 0, 0, 0, 0, 0, 0, 0, 0, 1, 0, 0, 0, 0, 0, 1, 0, 0], 0.013745704467353952, 3.5555555555555554), 849: ('Days of Thunder (1990)', [0, 1, 0, 0, 0, 0, 0, 0, 0, 0, 0, 0, 0, 0, 1, 0, 0, 0, 0], 0.08934707903780069, 2.7169811320754715), 850: ('Perfect Candidate, A (1996)', [0, 0, 0, 0, 0, 0, 0, 1, 0, 0, 0, 0, 0, 0, 0, 0, 0, 0, 0], 0.005154639175257732, 4.0), 851: ('Two or Three Things I Know About Her (1966)', [0, 0, 0, 0, 0, 0, 0, 0, 1, 0, 0, 0, 0, 0, 0, 0, 0, 0, 0], 0.005154639175257732, 3.75), 852: ('Bloody Child, The (1996)', [0, 0, 0, 0, 0, 0, 0, 0, 1, 0, 0, 0, 0, 0, 0, 0, 1, 0, 0], 0.0, 1.0), 853: ('Braindead (1992)', [0, 0, 0, 0, 0, 1, 0, 0, 0, 0, 0, 1, 0, 0, 0, 0, 0, 0, 0], 0.022336769759450172, 3.857142857142857), 854: ('Bad Taste (1987)', [0, 0, 0, 0, 0, 1, 0, 0, 0, 0, 0, 1, 0, 0, 0, 0, 0, 0, 0], 0.02577319587628866, 3.375), 855: ('Diva (1981)', [0, 1, 0, 0, 0, 0, 0, 0, 1, 0, 0, 0, 0, 1, 1, 0, 1, 0, 0], 0.11168384879725086, 3.727272727272727), 856: ('Night on Earth (1991)', [0, 0, 0, 0, 0, 1, 0, 0, 1, 0, 0, 0, 0, 0, 0, 0, 0, 0, 0], 0.06013745704467354, 3.8333333333333335), 857: ('Paris Was a Woman (1995)', [0, 0, 0, 0, 0, 0, 0, 1, 0, 0, 0, 0, 0, 0, 0, 0, 0, 0, 0], 0.0, 3.0), 858: ('Amityville: Dollhouse (1996)', [0, 0, 0, 0, 0, 0, 0, 0, 0, 0, 0, 1, 0, 0, 0, 0, 0, 0, 0], 0.003436426116838488, 1.0), 859: (\"April Fool's Day (1986)\", [0, 0, 0, 0, 0, 1, 0, 0, 0, 0, 0, 1, 0, 0, 0, 0, 0, 0, 0], 0.024054982817869417, 2.6666666666666665), 860: ('Believers, The (1987)', [0, 0, 0, 0, 0, 0, 0, 0, 0, 0, 0, 1, 0, 0, 0, 0, 1, 0, 0], 0.02577319587628866, 2.25), 861: ('Nosferatu a Venezia (1986)', [0, 0, 0, 0, 0, 0, 0, 0, 0, 0, 0, 1, 0, 0, 0, 0, 0, 0, 0], 0.003436426116838488, 2.3333333333333335), 862: ('Jingle All the Way (1996)', [0, 0, 1, 0, 1, 1, 0, 0, 0, 0, 0, 0, 0, 0, 0, 0, 0, 0, 0], 0.029209621993127148, 2.111111111111111), 863: ('Garden of Finzi-Contini, The (Giardino dei Finzi-Contini, Il) (1970)', [0, 0, 0, 0, 0, 0, 0, 0, 1, 0, 0, 0, 0, 0, 0, 0, 0, 0, 0], 0.03951890034364261, 3.9166666666666665), 864: ('My Fellow Americans (1996)', [0, 0, 0, 0, 0, 1, 0, 0, 0, 0, 0, 0, 0, 0, 0, 0, 0, 0, 0], 0.14604810996563575, 3.1627906976744184), 865: ('Ice Storm, The (1997)', [0, 0, 0, 0, 0, 0, 0, 0, 1, 0, 0, 0, 0, 0, 0, 0, 0, 0, 0], 0.03436426116838488, 3.4761904761904763), 866: ('Michael (1996)', [0, 0, 0, 0, 0, 1, 0, 0, 0, 0, 0, 0, 0, 0, 1, 0, 0, 0, 0], 0.2027491408934708, 3.319327731092437), 867: ('Whole Wide World, The (1996)', [0, 0, 0, 0, 0, 0, 0, 0, 1, 0, 0, 0, 0, 0, 0, 0, 0, 0, 0], 0.00859106529209622, 4.0), 868: ('Hearts and Minds (1996)', [0, 0, 0, 0, 0, 0, 0, 0, 1, 0, 0, 0, 0, 0, 0, 0, 0, 0, 0], 0.006872852233676976, 3.8), 869: ('Fools Rush In (1997)', [0, 0, 0, 0, 0, 1, 0, 0, 0, 0, 0, 0, 0, 0, 1, 0, 0, 0, 0], 0.03951890034364261, 3.0), 870: ('Touch (1997)', [0, 0, 0, 0, 0, 0, 0, 0, 0, 0, 0, 0, 0, 0, 1, 0, 0, 0, 0], 0.013745704467353952, 2.7777777777777777), 871: ('Vegas Vacation (1997)', [0, 0, 0, 0, 0, 1, 0, 0, 0, 0, 0, 0, 0, 0, 0, 0, 0, 0, 0], 0.12714776632302405, 2.4), 872: ('Love Jones (1997)', [0, 0, 0, 0, 0, 0, 0, 0, 0, 0, 0, 0, 0, 0, 1, 0, 0, 0, 0], 0.070446735395189, 3.0952380952380953), 873: ('Picture Perfect (1997)', [0, 0, 0, 0, 0, 1, 0, 0, 0, 0, 0, 0, 0, 0, 1, 0, 0, 0, 0], 0.13745704467353953, 2.962962962962963), 874: ('Career Girls (1997)', [0, 0, 0, 0, 0, 0, 0, 0, 1, 0, 0, 0, 0, 0, 0, 0, 0, 0, 0], 0.06529209621993128, 3.2564102564102564), 875: (\"She's So Lovely (1997)\", [0, 0, 0, 0, 0, 0, 0, 0, 1, 0, 0, 0, 0, 0, 1, 0, 0, 0, 0], 0.08934707903780069, 2.7358490566037736), 876: ('Money Talks (1997)', [0, 1, 0, 0, 0, 1, 0, 0, 0, 0, 0, 0, 0, 0, 0, 0, 0, 0, 0], 0.07903780068728522, 2.702127659574468), 877: ('Excess Baggage (1997)', [0, 0, 1, 0, 0, 0, 0, 0, 0, 0, 0, 0, 0, 0, 1, 0, 0, 0, 0], 0.08762886597938144, 2.5384615384615383), 878: ('That Darn Cat! (1997)', [0, 0, 0, 0, 1, 1, 0, 0, 0, 0, 0, 0, 0, 1, 0, 0, 0, 0, 0], 0.054982817869415807, 2.515151515151515), 879: ('Peacemaker, The (1997)', [0, 1, 0, 0, 0, 0, 0, 0, 0, 0, 0, 0, 0, 0, 0, 0, 1, 1, 0], 0.23195876288659795, 3.2720588235294117), 880: ('Soul Food (1997)', [0, 0, 0, 0, 0, 0, 0, 0, 1, 0, 0, 0, 0, 0, 0, 0, 0, 0, 0], 0.09965635738831616, 3.169491525423729), 881: ('Money Talks (1997)', [0, 1, 0, 0, 0, 1, 0, 0, 0, 0, 0, 0, 0, 0, 0, 0, 0, 0, 0], 0.07560137457044673, 2.933333333333333), 882: ('Washington Square (1997)', [0, 0, 0, 0, 0, 0, 0, 0, 1, 0, 0, 0, 0, 0, 0, 0, 0, 0, 0], 0.05670103092783505, 3.2941176470588234), 883: ('Telling Lies in America (1997)', [0, 0, 0, 0, 0, 0, 0, 0, 1, 0, 0, 0, 0, 0, 0, 0, 0, 0, 0], 0.020618556701030927, 3.230769230769231), 884: ('Year of the Horse (1997)', [0, 0, 0, 0, 0, 0, 0, 1, 0, 0, 0, 0, 0, 0, 0, 0, 0, 0, 0], 0.010309278350515464, 3.2857142857142856), 885: ('Phantoms (1998)', [0, 0, 0, 0, 0, 0, 0, 0, 0, 0, 0, 1, 0, 0, 0, 0, 0, 0, 0], 0.020618556701030927, 2.230769230769231), 886: ('Life Less Ordinary, A (1997)', [0, 0, 0, 0, 0, 0, 0, 0, 0, 0, 0, 0, 0, 0, 1, 0, 1, 0, 0], 0.08934707903780069, 3.0754716981132075), 887: (\"Eve's Bayou (1997)\", [0, 0, 0, 0, 0, 0, 0, 0, 1, 0, 0, 0, 0, 0, 0, 0, 0, 0, 0], 0.10824742268041238, 3.609375), 888: ('One Night Stand (1997)', [0, 0, 0, 0, 0, 0, 0, 0, 1, 0, 0, 0, 0, 0, 0, 0, 0, 0, 0], 0.024054982817869417, 3.466666666666667), 889: ('Tango Lesson, The (1997)', [0, 0, 0, 0, 0, 0, 0, 0, 0, 0, 0, 0, 0, 0, 1, 0, 0, 0, 0], 0.020618556701030927, 3.3846153846153846), 890: ('Mortal Kombat: Annihilation (1997)', [0, 1, 1, 0, 0, 0, 0, 0, 0, 0, 0, 0, 0, 0, 0, 0, 0, 0, 0], 0.07216494845360824, 1.9534883720930232), 891: ('Bent (1997)', [0, 0, 0, 0, 0, 0, 0, 0, 1, 0, 0, 0, 0, 0, 0, 0, 0, 1, 0], 0.00859106529209622, 2.6666666666666665), 892: ('Flubber (1997)', [0, 0, 0, 0, 1, 1, 0, 0, 0, 1, 0, 0, 0, 0, 0, 0, 0, 0, 0], 0.08934707903780069, 2.7547169811320753), 893: ('For Richer or Poorer (1997)', [0, 0, 0, 0, 0, 1, 0, 0, 0, 0, 0, 0, 0, 0, 0, 0, 0, 0, 0], 0.022336769759450172, 2.4285714285714284), 894: ('Home Alone 3 (1997)', [0, 0, 0, 0, 1, 1, 0, 0, 0, 0, 0, 0, 0, 0, 0, 0, 0, 0, 0], 0.030927835051546393, 1.894736842105263), 895: ('Scream 2 (1997)', [0, 0, 0, 0, 0, 0, 0, 0, 0, 0, 0, 1, 0, 0, 0, 0, 1, 0, 0], 0.18041237113402062, 3.2169811320754715), 896: ('Sweet Hereafter, The (1997)', [0, 0, 0, 0, 0, 0, 0, 0, 1, 0, 0, 0, 0, 0, 0, 0, 0, 0, 0], 0.07388316151202749, 3.772727272727273), 897: ('Time Tracers (1995)', [0, 1, 1, 0, 0, 0, 0, 0, 0, 0, 0, 0, 0, 0, 0, 1, 0, 0, 0], 0.001718213058419244, 1.5), 898: ('Postman, The (1997)', [0, 0, 0, 0, 0, 0, 0, 0, 1, 0, 0, 0, 0, 0, 0, 0, 0, 0, 0], 0.0979381443298969, 3.2241379310344827), 899: ('Winter Guest, The (1997)', [0, 0, 0, 0, 0, 0, 0, 0, 1, 0, 0, 0, 0, 0, 0, 0, 0, 0, 0], 0.013745704467353952, 3.4444444444444446), 900: ('Kundun (1997)', [0, 0, 0, 0, 0, 0, 0, 0, 1, 0, 0, 0, 0, 0, 0, 0, 0, 0, 0], 0.070446735395189, 3.6904761904761907), 901: ('Mr. Magoo (1997)', [0, 0, 0, 0, 0, 1, 0, 0, 0, 0, 0, 0, 0, 0, 0, 0, 0, 0, 0], 0.018900343642611683, 1.9166666666666667), 902: ('Big Lebowski, The (1998)', [0, 0, 0, 0, 0, 1, 1, 0, 0, 0, 0, 0, 0, 1, 0, 0, 1, 0, 0], 0.070446735395189, 3.8333333333333335), 903: ('Afterglow (1997)', [0, 0, 0, 0, 0, 0, 0, 0, 1, 0, 0, 0, 0, 0, 1, 0, 0, 0, 0], 0.029209621993127148, 3.111111111111111), 904: ('Ma vie en rose (My Life in Pink) (1997)', [0, 0, 0, 0, 0, 1, 0, 0, 1, 0, 0, 0, 0, 0, 0, 0, 0, 0, 0], 0.03264604810996564, 3.45), 905: ('Great Expectations (1998)', [0, 0, 0, 0, 0, 0, 0, 0, 1, 0, 0, 0, 0, 0, 1, 0, 0, 0, 0], 0.044673539518900345, 3.2222222222222223), 906: ('Oscar & Lucinda (1997)', [0, 0, 0, 0, 0, 0, 0, 0, 1, 0, 0, 0, 0, 0, 1, 0, 0, 0, 0], 0.03436426116838488, 3.1904761904761907), 907: ('Vermin (1998)', [0, 0, 0, 0, 0, 1, 0, 0, 0, 0, 0, 0, 0, 0, 0, 0, 0, 0, 0], 0.001718213058419244, 2.0), 908: ('Half Baked (1998)', [0, 0, 0, 0, 0, 1, 0, 0, 0, 0, 0, 0, 0, 0, 0, 0, 0, 0, 0], 0.03264604810996564, 2.5), 909: ('Dangerous Beauty (1998)', [0, 0, 0, 0, 0, 0, 0, 0, 1, 0, 0, 0, 0, 0, 0, 0, 0, 0, 0], 0.020618556701030927, 3.769230769230769), 910: ('Nil By Mouth (1997)', [0, 0, 0, 0, 0, 0, 0, 0, 1, 0, 0, 0, 0, 0, 0, 0, 0, 0, 0], 0.005154639175257732, 2.0), 911: ('Twilight (1998)', [0, 0, 0, 0, 0, 0, 1, 0, 1, 0, 0, 0, 0, 0, 0, 0, 0, 0, 0], 0.005154639175257732, 2.5), 912: ('U.S. Marshalls (1998)', [0, 1, 0, 0, 0, 0, 0, 0, 0, 0, 0, 0, 0, 0, 0, 0, 1, 0, 0], 0.013745704467353952, 3.0), 913: ('Love and Death on Long Island (1997)', [0, 0, 0, 0, 0, 1, 0, 0, 0, 0, 0, 0, 0, 0, 0, 0, 0, 0, 0], 0.001718213058419244, 2.5), 914: ('Wild Things (1998)', [0, 0, 0, 0, 0, 0, 1, 0, 1, 0, 0, 0, 0, 1, 0, 0, 1, 0, 0], 0.01718213058419244, 2.727272727272727), 915: ('Primary Colors (1998)', [0, 0, 0, 0, 0, 0, 0, 0, 1, 0, 0, 0, 0, 0, 0, 0, 0, 0, 0], 0.020618556701030927, 3.923076923076923), 916: ('Lost in Space (1998)', [0, 1, 0, 0, 0, 0, 0, 0, 0, 0, 0, 0, 0, 0, 0, 1, 1, 0, 0], 0.029209621993127148, 3.1666666666666665), 917: ('Mercury Rising (1998)', [0, 1, 0, 0, 0, 0, 0, 0, 1, 0, 0, 0, 0, 0, 0, 0, 1, 0, 0], 0.010309278350515464, 3.4285714285714284), 918: ('City of Angels (1998)', [0, 0, 0, 0, 0, 0, 0, 0, 0, 0, 0, 0, 0, 0, 1, 0, 0, 0, 0], 0.012027491408934709, 3.0), 919: ('City of Lost Children, The (1995)', [0, 0, 1, 0, 0, 0, 0, 0, 0, 0, 0, 0, 0, 0, 0, 1, 0, 0, 0], 0.16323024054982818, 3.7916666666666665), 920: ('Two Bits (1995)', [0, 0, 0, 0, 0, 0, 0, 0, 1, 0, 0, 0, 0, 0, 0, 0, 0, 0, 0], 0.006872852233676976, 2.2), 921: ('Farewell My Concubine (1993)', [0, 0, 0, 0, 0, 0, 0, 0, 1, 0, 0, 0, 0, 0, 1, 0, 0, 0, 0], 0.07731958762886598, 3.9782608695652173), 922: ('Dead Man (1995)', [0, 0, 0, 0, 0, 0, 0, 0, 0, 0, 0, 0, 0, 0, 0, 0, 0, 0, 1], 0.05670103092783505, 3.823529411764706), 923: ('Raise the Red Lantern (1991)', [0, 0, 0, 0, 0, 0, 0, 0, 1, 0, 0, 0, 0, 0, 0, 0, 0, 0, 0], 0.0979381443298969, 4.155172413793103), 924: ('White Squall (1996)', [0, 0, 1, 0, 0, 0, 0, 0, 1, 0, 0, 0, 0, 0, 0, 0, 0, 0, 0], 0.14432989690721648, 3.4), 925: ('Unforgettable (1996)', [0, 0, 0, 0, 0, 0, 0, 0, 0, 0, 0, 0, 0, 0, 0, 1, 1, 0, 0], 0.05670103092783505, 3.323529411764706), 926: ('Down Periscope (1996)', [0, 0, 0, 0, 0, 1, 0, 0, 0, 0, 0, 0, 0, 0, 0, 0, 0, 0, 0], 0.1718213058419244, 2.702970297029703), 927: ('Flower of My Secret, The (Flor de mi secreto, La) (1995)', [0, 0, 0, 0, 0, 0, 0, 0, 1, 0, 0, 0, 0, 0, 0, 0, 0, 0, 0], 0.00859106529209622, 3.1666666666666665), 928: ('Craft, The (1996)', [0, 0, 0, 0, 0, 0, 0, 0, 1, 0, 0, 1, 0, 0, 0, 0, 0, 0, 0], 0.17697594501718214, 3.1153846153846154), 929: ('Harriet the Spy (1996)', [0, 0, 0, 0, 1, 1, 0, 0, 0, 0, 0, 0, 0, 0, 0, 0, 0, 0, 0], 0.06701030927835051, 2.7), 930: ('Chain Reaction (1996)', [0, 1, 1, 0, 0, 0, 0, 0, 0, 0, 0, 0, 0, 0, 0, 0, 1, 0, 0], 0.13573883161512026, 2.7), 931: ('Island of Dr. Moreau, The (1996)', [0, 0, 0, 0, 0, 0, 0, 0, 0, 0, 0, 0, 0, 0, 0, 1, 1, 0, 0], 0.09621993127147767, 2.1578947368421053), 932: ('First Kid (1996)', [0, 0, 0, 0, 1, 1, 0, 0, 0, 0, 0, 0, 0, 0, 0, 0, 0, 0, 0], 0.06701030927835051, 2.925), 933: ('Funeral, The (1996)', [0, 0, 0, 0, 0, 0, 0, 0, 1, 0, 0, 0, 0, 0, 0, 0, 0, 0, 0], 0.03436426116838488, 2.4285714285714284), 934: (\"Preacher's Wife, The (1996)\", [0, 0, 0, 0, 0, 0, 0, 0, 1, 0, 0, 0, 0, 0, 0, 0, 0, 0, 0], 0.11512027491408934, 2.926470588235294), 935: ('Paradise Road (1997)', [0, 0, 0, 0, 0, 0, 0, 0, 1, 0, 0, 0, 0, 0, 0, 0, 0, 1, 0], 0.010309278350515464, 3.2857142857142856), 936: ('Brassed Off (1996)', [0, 0, 0, 0, 0, 1, 0, 0, 1, 0, 0, 0, 0, 0, 1, 0, 0, 0, 0], 0.05326460481099656, 3.9375), 937: ('Thousand Acres, A (1997)', [0, 0, 0, 0, 0, 0, 0, 0, 1, 0, 0, 0, 0, 0, 0, 0, 0, 0, 0], 0.061855670103092786, 3.4054054054054053), 938: ('Smile Like Yours, A (1997)', [0, 0, 0, 0, 0, 1, 0, 0, 0, 0, 0, 0, 0, 0, 1, 0, 0, 0, 0], 0.041237113402061855, 2.88), 939: ('Murder in the First (1995)', [0, 0, 0, 0, 0, 0, 0, 0, 1, 0, 0, 0, 0, 0, 0, 0, 1, 0, 0], 0.1013745704467354, 3.6), 940: ('Airheads (1994)', [0, 0, 0, 0, 0, 1, 0, 0, 0, 0, 0, 0, 0, 0, 0, 0, 0, 0, 0], 0.05326460481099656, 2.34375), 941: ('With Honors (1994)', [0, 0, 0, 0, 0, 1, 0, 0, 1, 0, 0, 0, 0, 0, 0, 0, 0, 0, 0], 0.07731958762886598, 3.0652173913043477), 942: (\"What's Love Got to Do with It (1993)\", [0, 0, 0, 0, 0, 0, 0, 0, 1, 0, 0, 0, 0, 0, 0, 0, 0, 0, 0], 0.07560137457044673, 3.488888888888889), 943: ('Killing Zoe (1994)', [0, 0, 0, 0, 0, 0, 0, 0, 0, 0, 0, 0, 0, 0, 0, 0, 1, 0, 0], 0.06701030927835051, 3.475), 944: ('Renaissance Man (1994)', [0, 0, 0, 0, 0, 1, 0, 0, 1, 0, 0, 0, 0, 0, 0, 0, 0, 1, 0], 0.07216494845360824, 3.0), 945: ('Charade (1963)', [0, 0, 0, 0, 0, 1, 0, 0, 0, 0, 0, 0, 0, 1, 1, 0, 1, 0, 0], 0.06701030927835051, 3.925), 946: ('Fox and the Hound, The (1981)', [0, 0, 0, 1, 1, 0, 0, 0, 0, 0, 0, 0, 0, 0, 0, 0, 0, 0, 0], 0.10309278350515463, 3.1475409836065573), 947: ('Big Blue, The (Grand bleu, Le) (1988)', [0, 0, 1, 0, 0, 0, 0, 0, 0, 0, 0, 0, 0, 0, 1, 0, 0, 0, 0], 0.027491408934707903, 3.235294117647059), 948: ('Booty Call (1997)', [0, 0, 0, 0, 0, 1, 0, 0, 0, 0, 0, 0, 0, 0, 1, 0, 0, 0, 0], 0.08075601374570447, 2.1666666666666665), 949: ('How to Make an American Quilt (1995)', [0, 0, 0, 0, 0, 0, 0, 0, 1, 0, 0, 0, 0, 0, 1, 0, 0, 0, 0], 0.12027491408934708, 3.3380281690140845), 950: ('Georgia (1995)', [0, 0, 0, 0, 0, 0, 0, 0, 1, 0, 0, 0, 0, 0, 0, 0, 0, 0, 0], 0.04982817869415808, 2.9), 951: ('Indian in the Cupboard, The (1995)', [0, 0, 1, 0, 1, 0, 0, 0, 0, 1, 0, 0, 0, 0, 0, 0, 0, 0, 0], 0.06529209621993128, 2.8205128205128207), 952: ('Blue in the Face (1995)', [0, 0, 0, 0, 0, 1, 0, 0, 0, 0, 0, 0, 0, 0, 0, 0, 0, 0, 0], 0.07560137457044673, 3.1777777777777776), 953: ('Unstrung Heroes (1995)', [0, 0, 0, 0, 0, 1, 0, 0, 1, 0, 0, 0, 0, 0, 0, 0, 0, 0, 0], 0.03608247422680412, 3.3181818181818183), 954: ('Unzipped (1995)', [0, 0, 0, 0, 0, 0, 0, 1, 0, 0, 0, 0, 0, 0, 0, 0, 0, 0, 0], 0.01718213058419244, 3.5454545454545454), 955: ('Before Sunrise (1995)', [0, 0, 0, 0, 0, 0, 0, 0, 1, 0, 0, 0, 0, 0, 1, 0, 0, 0, 0], 0.08247422680412371, 3.4081632653061225), 956: (\"Nobody's Fool (1994)\", [0, 0, 0, 0, 0, 0, 0, 0, 1, 0, 0, 0, 0, 0, 0, 0, 0, 0, 0], 0.07731958762886598, 3.608695652173913), 957: ('Pushing Hands (1992)', [0, 0, 0, 0, 0, 1, 0, 0, 0, 0, 0, 0, 0, 0, 0, 0, 0, 0, 0], 0.001718213058419244, 2.0), 958: ('To Live (Huozhe) (1994)', [0, 0, 0, 0, 0, 0, 0, 0, 1, 0, 0, 0, 0, 0, 0, 0, 0, 0, 0], 0.022336769759450172, 3.7857142857142856), 959: ('Dazed and Confused (1993)', [0, 0, 0, 0, 0, 1, 0, 0, 0, 0, 0, 0, 0, 0, 0, 0, 0, 0, 0], 0.10824742268041238, 3.46875), 960: ('Naked (1993)', [0, 0, 0, 0, 0, 0, 0, 0, 1, 0, 0, 0, 0, 0, 0, 0, 0, 0, 0], 0.041237113402061855, 3.24), 961: ('Orlando (1993)', [0, 0, 0, 0, 0, 0, 0, 0, 1, 0, 0, 0, 0, 0, 0, 0, 0, 0, 0], 0.05670103092783505, 3.6176470588235294), 962: ('Ruby in Paradise (1993)', [0, 0, 0, 0, 0, 0, 0, 0, 1, 0, 0, 0, 0, 0, 0, 0, 0, 0, 0], 0.037800687285223365, 3.130434782608696), 963: ('Some Folks Call It a Sling Blade (1993)', [0, 0, 0, 0, 0, 0, 0, 0, 1, 0, 0, 0, 0, 0, 0, 0, 1, 0, 0], 0.06872852233676977, 4.2926829268292686), 964: ('Month by the Lake, A (1995)', [0, 0, 0, 0, 0, 1, 0, 0, 1, 0, 0, 0, 0, 0, 0, 0, 0, 0, 0], 0.013745704467353952, 3.3333333333333335), 965: ('Funny Face (1957)', [0, 0, 0, 0, 0, 1, 0, 0, 0, 0, 0, 0, 1, 0, 0, 0, 0, 0, 0], 0.03436426116838488, 3.6666666666666665), 966: ('Affair to Remember, An (1957)', [0, 0, 0, 0, 0, 0, 0, 0, 0, 0, 0, 0, 0, 0, 1, 0, 0, 0, 0], 0.0429553264604811, 4.1923076923076925), 967: ('Little Lord Fauntleroy (1936)', [0, 0, 0, 0, 0, 0, 0, 0, 1, 0, 0, 0, 0, 0, 0, 0, 0, 0, 0], 0.018900343642611683, 3.1666666666666665), 968: ('Inspector General, The (1949)', [0, 0, 0, 0, 0, 0, 0, 0, 0, 0, 0, 0, 1, 0, 0, 0, 0, 0, 0], 0.029209621993127148, 3.7222222222222223), 969: ('Winnie the Pooh and the Blustery Day (1968)', [0, 0, 0, 1, 1, 0, 0, 0, 0, 0, 0, 0, 0, 0, 0, 0, 0, 0, 0], 0.12714776632302405, 3.8), 970: ('Hear My Song (1991)', [0, 0, 0, 0, 0, 1, 0, 0, 0, 0, 0, 0, 0, 0, 0, 0, 0, 0, 0], 0.012027491408934709, 3.25), 971: ('Mediterraneo (1991)', [0, 0, 0, 0, 0, 1, 0, 0, 0, 0, 0, 0, 0, 0, 0, 0, 0, 1, 0], 0.05670103092783505, 3.676470588235294), 972: ('Passion Fish (1992)', [0, 0, 0, 0, 0, 0, 0, 0, 1, 0, 0, 0, 0, 0, 0, 0, 0, 0, 0], 0.04639175257731959, 3.1785714285714284), 973: ('Grateful Dead (1995)', [0, 0, 0, 0, 0, 0, 0, 1, 0, 0, 0, 0, 0, 0, 0, 0, 0, 0, 0], 0.005154639175257732, 3.5), 974: ('Eye for an Eye (1996)', [0, 0, 0, 0, 0, 0, 0, 0, 1, 0, 0, 0, 0, 0, 0, 0, 1, 0, 0], 0.05326460481099656, 3.03125), 975: ('Fear (1996)', [0, 0, 0, 0, 0, 0, 0, 0, 0, 0, 0, 0, 0, 0, 0, 0, 1, 0, 0], 0.07388316151202749, 3.159090909090909), 976: ('Solo (1996)', [0, 1, 0, 0, 0, 0, 0, 0, 0, 0, 0, 0, 0, 0, 0, 1, 1, 0, 0], 0.018900343642611683, 1.8333333333333333), 977: ('Substitute, The (1996)', [0, 1, 0, 0, 0, 0, 0, 0, 0, 0, 0, 0, 0, 0, 0, 0, 0, 0, 0], 0.08247422680412371, 2.693877551020408), 978: (\"Heaven's Prisoners (1996)\", [0, 0, 0, 0, 0, 0, 0, 0, 0, 0, 0, 0, 0, 1, 0, 0, 1, 0, 0], 0.044673539518900345, 2.5185185185185186), 979: ('Trigger Effect, The (1996)', [0, 0, 0, 0, 0, 0, 0, 0, 1, 0, 0, 0, 0, 0, 0, 0, 1, 0, 0], 0.058419243986254296, 3.2), 980: ('Mother Night (1996)', [0, 0, 0, 0, 0, 0, 0, 0, 1, 0, 0, 0, 0, 0, 0, 0, 0, 0, 0], 0.03608247422680412, 3.1818181818181817), 981: ('Dangerous Ground (1997)', [0, 0, 0, 0, 0, 0, 0, 0, 1, 0, 0, 0, 0, 0, 0, 0, 0, 0, 0], 0.012027491408934709, 1.75), 982: ('Maximum Risk (1996)', [0, 1, 1, 0, 0, 0, 0, 0, 0, 0, 0, 0, 0, 0, 0, 0, 1, 0, 0], 0.03264604810996564, 2.8), 983: (\"Rich Man's Wife, The (1996)\", [0, 0, 0, 0, 0, 0, 0, 0, 0, 0, 0, 0, 0, 0, 0, 0, 1, 0, 0], 0.024054982817869417, 2.4), 984: ('Shadow Conspiracy (1997)', [0, 0, 0, 0, 0, 0, 0, 0, 0, 0, 0, 0, 0, 0, 0, 0, 1, 0, 0], 0.07388316151202749, 2.8636363636363638), 985: ('Blood & Wine (1997)', [0, 0, 0, 0, 0, 0, 0, 0, 1, 0, 0, 0, 0, 0, 0, 0, 0, 0, 0], 0.03608247422680412, 2.8636363636363638), 986: ('Turbulence (1997)', [0, 0, 0, 0, 0, 0, 0, 0, 0, 0, 0, 0, 0, 0, 0, 0, 1, 0, 0], 0.037800687285223365, 2.5652173913043477), 987: ('Underworld (1997)', [0, 0, 0, 0, 0, 0, 0, 0, 0, 0, 0, 0, 0, 0, 0, 0, 1, 0, 0], 0.005154639175257732, 2.5), 988: ('Beautician and the Beast, The (1997)', [0, 0, 0, 0, 0, 1, 0, 0, 0, 0, 0, 0, 0, 0, 1, 0, 0, 0, 0], 0.14604810996563575, 2.313953488372093), 989: (\"Cats Don't Dance (1997)\", [0, 0, 0, 1, 1, 0, 0, 0, 0, 0, 0, 0, 1, 0, 0, 0, 0, 0, 0], 0.05326460481099656, 2.84375), 990: ('Anna Karenina (1997)', [0, 0, 0, 0, 0, 0, 0, 0, 1, 0, 0, 0, 0, 0, 1, 0, 0, 0, 0], 0.054982817869415807, 3.090909090909091), 991: ('Keys to Tulsa (1997)', [0, 0, 0, 0, 0, 0, 1, 0, 0, 0, 0, 0, 0, 0, 0, 0, 0, 0, 0], 0.041237113402061855, 2.24), 992: ('Head Above Water (1996)', [0, 0, 0, 0, 0, 1, 0, 0, 0, 0, 0, 0, 0, 0, 0, 0, 1, 0, 0], 0.005154639175257732, 3.0), 993: ('Hercules (1997)', [0, 0, 1, 1, 1, 1, 0, 0, 0, 0, 0, 0, 1, 0, 0, 0, 0, 0, 0], 0.11168384879725086, 3.515151515151515), 994: ('Last Time I Committed Suicide, The (1997)', [0, 0, 0, 0, 0, 0, 0, 0, 1, 0, 0, 0, 0, 0, 0, 0, 0, 0, 0], 0.010309278350515464, 2.2857142857142856), 995: ('Kiss Me, Guido (1997)', [0, 0, 0, 0, 0, 1, 0, 0, 0, 0, 0, 0, 0, 0, 0, 0, 0, 0, 0], 0.05154639175257732, 3.161290322580645), 996: ('Big Green, The (1995)', [0, 0, 0, 0, 1, 1, 0, 0, 0, 0, 0, 0, 0, 0, 0, 0, 0, 0, 0], 0.022336769759450172, 2.5), 997: ('Stuart Saves His Family (1995)', [0, 0, 0, 0, 0, 1, 0, 0, 0, 0, 0, 0, 0, 0, 0, 0, 0, 0, 0], 0.02577319587628866, 2.125), 998: ('Cabin Boy (1994)', [0, 0, 0, 0, 0, 1, 0, 0, 0, 0, 0, 0, 0, 0, 0, 0, 0, 0, 0], 0.02577319587628866, 2.5625), 999: ('Clean Slate (1994)', [0, 0, 0, 0, 0, 1, 0, 0, 0, 0, 0, 0, 0, 0, 0, 0, 0, 0, 0], 0.015463917525773196, 2.8), 1000: ('Lightning Jack (1994)', [0, 0, 0, 0, 0, 1, 0, 0, 0, 0, 0, 0, 0, 0, 0, 0, 0, 0, 1], 0.015463917525773196, 3.0), 1001: ('Stupids, The (1996)', [0, 0, 0, 0, 0, 1, 0, 0, 0, 0, 0, 0, 0, 0, 0, 0, 0, 0, 0], 0.027491408934707903, 2.0), 1002: ('Pest, The (1997)', [0, 0, 0, 0, 0, 1, 0, 0, 0, 0, 0, 0, 0, 0, 0, 0, 0, 0, 0], 0.012027491408934709, 1.875), 1003: ('That Darn Cat! (1997)', [0, 0, 0, 0, 1, 1, 0, 0, 0, 0, 0, 0, 0, 1, 0, 0, 0, 0, 0], 0.012027491408934709, 2.25), 1004: ('Geronimo: An American Legend (1993)', [0, 0, 0, 0, 0, 0, 0, 0, 1, 0, 0, 0, 0, 0, 0, 0, 0, 0, 1], 0.013745704467353952, 3.111111111111111), 1005: ('Double vie de Véronique, La (Double Life of Veronique, The) (1991)', [0, 0, 0, 0, 0, 0, 0, 0, 1, 0, 0, 0, 0, 0, 0, 0, 0, 0, 0], 0.03608247422680412, 3.6818181818181817), 1006: ('Until the End of the World (Bis ans Ende der Welt) (1991)', [0, 0, 0, 0, 0, 0, 0, 0, 1, 0, 0, 0, 0, 0, 0, 1, 0, 0, 0], 0.037800687285223365, 2.8260869565217392), 1007: ('Waiting for Guffman (1996)', [0, 0, 0, 0, 0, 1, 0, 0, 0, 0, 0, 0, 0, 0, 0, 0, 0, 0, 0], 0.07903780068728522, 4.127659574468085), 1008: ('I Shot Andy Warhol (1996)', [0, 0, 0, 0, 0, 0, 0, 0, 1, 0, 0, 0, 0, 0, 0, 0, 0, 0, 0], 0.061855670103092786, 3.3783783783783785), 1009: ('Stealing Beauty (1996)', [0, 0, 0, 0, 0, 0, 0, 0, 1, 0, 0, 0, 0, 0, 0, 0, 0, 0, 0], 0.10824742268041238, 3.375), 1010: ('Basquiat (1996)', [0, 0, 0, 0, 0, 0, 0, 0, 1, 0, 0, 0, 0, 0, 0, 0, 0, 0, 0], 0.07388316151202749, 3.25), 1011: ('2 Days in the Valley (1996)', [0, 0, 0, 0, 0, 0, 1, 0, 0, 0, 0, 0, 0, 0, 0, 0, 0, 0, 0], 0.15807560137457044, 3.225806451612903), 1012: ('Private Parts (1997)', [0, 0, 0, 0, 0, 1, 0, 0, 1, 0, 0, 0, 0, 0, 0, 0, 0, 0, 0], 0.17010309278350516, 3.53), 1013: ('Anaconda (1997)', [0, 1, 1, 0, 0, 0, 0, 0, 0, 0, 0, 0, 0, 0, 0, 0, 1, 0, 0], 0.06357388316151202, 2.289473684210526), 1014: (\"Romy and Michele's High School Reunion (1997)\", [0, 0, 0, 0, 0, 1, 0, 0, 0, 0, 0, 0, 0, 0, 0, 0, 0, 0, 0], 0.16666666666666666, 3.061224489795918), 1015: ('Shiloh (1997)', [0, 0, 0, 0, 1, 0, 0, 0, 1, 0, 0, 0, 0, 0, 0, 0, 0, 0, 0], 0.018900343642611683, 2.8333333333333335), 1016: ('Con Air (1997)', [0, 1, 1, 0, 0, 0, 0, 0, 0, 0, 0, 0, 0, 0, 0, 0, 1, 0, 0], 0.23367697594501718, 3.45985401459854), 1017: ('Trees Lounge (1996)', [0, 0, 0, 0, 0, 0, 0, 0, 1, 0, 0, 0, 0, 0, 0, 0, 0, 0, 0], 0.08419243986254296, 3.24), 1018: ('Tie Me Up! Tie Me Down! (1990)', [0, 0, 0, 0, 0, 0, 0, 0, 1, 0, 0, 0, 0, 0, 0, 0, 0, 0, 0], 0.05326460481099656, 3.1875), 1019: ('Die xue shuang xiong (Killer, The) (1989)', [0, 1, 0, 0, 0, 0, 0, 0, 0, 0, 0, 0, 0, 0, 0, 0, 1, 0, 0], 0.05154639175257732, 3.967741935483871), 1020: ('Gaslight (1944)', [0, 0, 0, 0, 0, 0, 0, 0, 0, 0, 0, 0, 0, 1, 0, 0, 1, 0, 0], 0.058419243986254296, 3.8857142857142857), 1021: ('8 1/2 (1963)', [0, 0, 0, 0, 0, 0, 0, 0, 1, 0, 0, 0, 0, 0, 0, 0, 0, 0, 0], 0.06357388316151202, 3.8157894736842106), 1022: ('Fast, Cheap & Out of Control (1997)', [0, 0, 0, 0, 0, 0, 0, 1, 0, 0, 0, 0, 0, 0, 0, 0, 0, 0, 0], 0.05326460481099656, 3.4375), 1023: (\"Fathers' Day (1997)\", [0, 0, 0, 0, 0, 1, 0, 0, 0, 0, 0, 0, 0, 0, 0, 0, 0, 0, 0], 0.05154639175257732, 2.5806451612903225), 1024: ('Mrs. Dalloway (1997)', [0, 0, 0, 0, 0, 0, 0, 0, 0, 0, 0, 0, 0, 0, 1, 0, 0, 0, 0], 0.024054982817869417, 3.6), 1025: ('Fire Down Below (1997)', [0, 1, 0, 0, 0, 0, 0, 0, 1, 0, 0, 0, 0, 0, 0, 0, 1, 0, 0], 0.07388316151202749, 2.9318181818181817), 1026: ('Lay of the Land, The (1997)', [0, 0, 0, 0, 0, 1, 0, 0, 1, 0, 0, 0, 0, 0, 0, 0, 0, 0, 0], 0.005154639175257732, 2.5), 1027: ('Shooter, The (1995)', [0, 1, 0, 0, 0, 0, 0, 0, 0, 0, 0, 0, 0, 0, 0, 0, 0, 0, 0], 0.003436426116838488, 2.6666666666666665), 1028: ('Grumpier Old Men (1995)', [0, 0, 0, 0, 0, 1, 0, 0, 0, 0, 0, 0, 0, 0, 1, 0, 0, 0, 0], 0.25257731958762886, 3.0405405405405403), 1029: ('Jury Duty (1995)', [0, 0, 0, 0, 0, 1, 0, 0, 0, 0, 0, 0, 0, 0, 0, 0, 0, 0, 0], 0.022336769759450172, 2.0), 1030: ('Beverly Hillbillies, The (1993)', [0, 0, 0, 0, 0, 1, 0, 0, 0, 0, 0, 0, 0, 0, 0, 0, 0, 0, 0], 0.03264604810996564, 2.25), 1031: ('Lassie (1994)', [0, 0, 1, 0, 1, 0, 0, 0, 0, 0, 0, 0, 0, 0, 0, 0, 0, 0, 0], 0.010309278350515464, 2.2857142857142856), 1032: ('Little Big League (1994)', [0, 0, 0, 0, 1, 1, 0, 0, 0, 0, 0, 0, 0, 0, 0, 0, 0, 0, 0], 0.02577319587628866, 2.875), 1033: ('Homeward Bound II: Lost in San Francisco (1996)', [0, 0, 1, 0, 1, 0, 0, 0, 0, 0, 0, 0, 0, 0, 0, 0, 0, 0, 0], 0.05326460481099656, 2.78125), 1034: ('Quest, The (1996)', [0, 1, 1, 0, 0, 0, 0, 0, 0, 0, 0, 0, 0, 0, 0, 0, 0, 0, 0], 0.044673539518900345, 2.5185185185185186), 1035: ('Cool Runnings (1993)', [0, 0, 0, 0, 0, 1, 0, 0, 0, 0, 0, 0, 0, 0, 0, 0, 0, 0, 0], 0.11512027491408934, 3.161764705882353), 1036: ('Drop Dead Fred (1991)', [0, 0, 0, 0, 0, 1, 0, 0, 0, 1, 0, 0, 0, 0, 0, 0, 0, 0, 0], 0.03951890034364261, 2.75), 1037: ('Grease 2 (1982)', [0, 0, 0, 0, 0, 1, 0, 0, 0, 0, 0, 0, 1, 0, 1, 0, 0, 0, 0], 0.03951890034364261, 2.0), 1038: ('Switchback (1997)', [0, 0, 0, 0, 0, 0, 0, 0, 0, 0, 0, 0, 0, 0, 0, 0, 1, 0, 0], 0.027491408934707903, 2.823529411764706), 1039: ('Hamlet (1996)', [0, 0, 0, 0, 0, 0, 0, 0, 1, 0, 0, 0, 0, 0, 0, 0, 0, 0, 0], 0.15292096219931273, 4.011111111111111), 1040: ('Two if by Sea (1996)', [0, 0, 0, 0, 0, 1, 0, 0, 0, 0, 0, 0, 0, 0, 1, 0, 0, 0, 0], 0.041237113402061855, 2.6), 1041: ('Forget Paris (1995)', [0, 0, 0, 0, 0, 1, 0, 0, 0, 0, 0, 0, 0, 0, 1, 0, 0, 0, 0], 0.10481099656357389, 3.193548387096774), 1042: ('Just Cause (1995)', [0, 0, 0, 0, 0, 0, 0, 0, 0, 0, 0, 0, 0, 1, 0, 0, 1, 0, 0], 0.04639175257731959, 3.142857142857143), 1043: ('Rent-a-Kid (1995)', [0, 0, 0, 0, 0, 1, 0, 0, 0, 0, 0, 0, 0, 0, 0, 0, 0, 0, 0], 0.012027491408934709, 3.0), 1044: ('Paper, The (1994)', [0, 0, 0, 0, 0, 1, 0, 0, 1, 0, 0, 0, 0, 0, 0, 0, 0, 0, 0], 0.06701030927835051, 3.225), 1045: ('Fearless (1993)', [0, 0, 0, 0, 0, 0, 0, 0, 1, 0, 0, 0, 0, 0, 0, 0, 0, 0, 0], 0.041237113402061855, 3.24), 1046: ('Malice (1993)', [0, 0, 0, 0, 0, 0, 0, 0, 0, 0, 0, 0, 0, 0, 0, 0, 1, 0, 0], 0.07731958762886598, 3.1739130434782608), 1047: ('Multiplicity (1996)', [0, 0, 0, 0, 0, 1, 0, 0, 0, 0, 0, 0, 0, 0, 0, 0, 0, 0, 0], 0.22852233676975944, 2.8358208955223883), 1048: (\"She's the One (1996)\", [0, 0, 0, 0, 0, 1, 0, 0, 0, 0, 0, 0, 0, 0, 1, 0, 0, 0, 0], 0.12371134020618557, 3.0136986301369864), 1049: ('House Arrest (1996)', [0, 0, 0, 0, 0, 1, 0, 0, 0, 0, 0, 0, 0, 0, 0, 0, 0, 0, 0], 0.041237113402061855, 2.52), 1050: ('Ghost and Mrs. Muir, The (1947)', [0, 0, 0, 0, 0, 0, 0, 0, 1, 0, 0, 0, 0, 0, 1, 0, 0, 0, 0], 0.07216494845360824, 3.6511627906976742), 1051: ('Associate, The (1996)', [0, 0, 0, 0, 0, 1, 0, 0, 0, 0, 0, 0, 0, 0, 0, 0, 0, 0, 0], 0.06872852233676977, 3.2439024390243905), 1052: ('Dracula: Dead and Loving It (1995)', [0, 0, 0, 0, 0, 1, 0, 0, 0, 0, 0, 1, 0, 0, 0, 0, 0, 0, 0], 0.041237113402061855, 2.28), 1053: ('Now and Then (1995)', [0, 0, 0, 0, 0, 0, 0, 0, 1, 0, 0, 0, 0, 0, 0, 0, 0, 0, 0], 0.03951890034364261, 3.4583333333333335), 1054: ('Mr. Wrong (1996)', [0, 0, 0, 0, 0, 1, 0, 0, 0, 0, 0, 0, 0, 0, 0, 0, 0, 0, 0], 0.037800687285223365, 2.3043478260869565), 1055: ('Simple Twist of Fate, A (1994)', [0, 0, 0, 0, 0, 0, 0, 0, 1, 0, 0, 0, 0, 0, 0, 0, 0, 0, 0], 0.015463917525773196, 3.2), 1056: ('Cronos (1992)', [0, 0, 0, 0, 0, 0, 0, 0, 0, 0, 0, 1, 0, 0, 0, 0, 0, 0, 0], 0.015463917525773196, 3.2), 1057: ('Pallbearer, The (1996)', [0, 0, 0, 0, 0, 1, 0, 0, 0, 0, 0, 0, 0, 0, 0, 0, 0, 0, 0], 0.03608247422680412, 2.3181818181818183), 1058: ('War, The (1994)', [0, 0, 1, 0, 0, 0, 0, 0, 1, 0, 0, 0, 0, 0, 0, 0, 0, 0, 0], 0.024054982817869417, 3.2666666666666666), 1059: (\"Don't Be a Menace to South Central While Drinking Your Juice in the Hood (1996)\", [0, 0, 0, 0, 0, 1, 0, 0, 0, 0, 0, 0, 0, 0, 0, 0, 0, 0, 0], 0.058419243986254296, 2.7714285714285714), 1060: ('Adventures of Pinocchio, The (1996)', [0, 0, 1, 0, 1, 0, 0, 0, 0, 0, 0, 0, 0, 0, 0, 0, 0, 0, 0], 0.06529209621993128, 3.051282051282051), 1061: ('Evening Star, The (1996)', [0, 0, 0, 0, 0, 1, 0, 0, 1, 0, 0, 0, 0, 0, 0, 0, 0, 0, 0], 0.048109965635738834, 2.9310344827586206), 1062: ('Four Days in September (1997)', [0, 0, 0, 0, 0, 0, 0, 0, 1, 0, 0, 0, 0, 0, 0, 0, 0, 0, 0], 0.018900343642611683, 3.75), 1063: ('Little Princess, A (1995)', [0, 0, 0, 0, 1, 0, 0, 0, 1, 0, 0, 0, 0, 0, 0, 0, 0, 0, 0], 0.06872852233676977, 3.658536585365854), 1064: ('Crossfire (1947)', [0, 0, 0, 0, 0, 0, 1, 0, 0, 0, 1, 0, 0, 0, 0, 0, 0, 0, 0], 0.005154639175257732, 4.25), 1065: ('Koyaanisqatsi (1983)', [0, 0, 0, 0, 0, 0, 0, 1, 0, 0, 0, 0, 0, 0, 0, 0, 0, 1, 0], 0.08934707903780069, 3.490566037735849), 1066: ('Balto (1995)', [0, 0, 0, 1, 1, 0, 0, 0, 0, 0, 0, 0, 0, 0, 0, 0, 0, 0, 0], 0.02577319587628866, 3.0), 1067: ('Bottle Rocket (1996)', [0, 0, 0, 0, 0, 1, 0, 0, 0, 0, 0, 0, 0, 0, 0, 0, 0, 0, 0], 0.07388316151202749, 3.4545454545454546), 1068: (\"Star Maker, The (Uomo delle stelle, L') (1995)\", [0, 0, 0, 0, 0, 0, 0, 0, 1, 0, 0, 0, 0, 0, 0, 0, 0, 0, 0], 0.018900343642611683, 3.1666666666666665), 1069: ('Amateur (1994)', [0, 0, 0, 0, 0, 0, 1, 0, 1, 0, 0, 0, 0, 0, 0, 0, 1, 0, 0], 0.029209621993127148, 3.1666666666666665), 1070: ('Living in Oblivion (1995)', [0, 0, 0, 0, 0, 1, 0, 0, 0, 0, 0, 0, 0, 0, 0, 0, 0, 0, 0], 0.044673539518900345, 3.740740740740741), 1071: ('Party Girl (1995)', [0, 0, 0, 0, 0, 1, 0, 0, 0, 0, 0, 0, 0, 0, 0, 0, 0, 0, 0], 0.02577319587628866, 2.875), 1072: (\"Pyromaniac's Love Story, A (1995)\", [0, 0, 0, 0, 0, 1, 0, 0, 0, 0, 0, 0, 0, 0, 1, 0, 0, 0, 0], 0.010309278350515464, 2.4285714285714284), 1073: ('Shallow Grave (1994)', [0, 0, 0, 0, 0, 0, 0, 0, 0, 0, 0, 0, 0, 0, 0, 0, 1, 0, 0], 0.11168384879725086, 3.8181818181818183), 1074: ('Reality Bites (1994)', [0, 0, 0, 0, 0, 1, 0, 0, 1, 0, 0, 0, 0, 0, 0, 0, 0, 0, 0], 0.13058419243986255, 2.961038961038961), 1075: ('Man of No Importance, A (1994)', [0, 0, 0, 0, 0, 0, 0, 0, 1, 0, 0, 0, 0, 0, 0, 0, 0, 0, 0], 0.010309278350515464, 3.4285714285714284), 1076: ('Pagemaster, The (1994)', [0, 1, 1, 1, 1, 0, 0, 0, 0, 1, 0, 0, 0, 0, 0, 0, 0, 0, 0], 0.018900343642611683, 2.25), 1077: ('Love and a .45 (1994)', [0, 0, 0, 0, 0, 0, 0, 0, 0, 0, 0, 0, 0, 0, 0, 0, 1, 0, 0], 0.012027491408934709, 3.125), 1078: ('Oliver & Company (1988)', [0, 0, 0, 1, 1, 0, 0, 0, 0, 0, 0, 0, 0, 0, 0, 0, 0, 0, 0], 0.03608247422680412, 2.772727272727273), 1079: (\"Joe's Apartment (1996)\", [0, 0, 0, 0, 0, 1, 0, 0, 0, 0, 0, 0, 1, 0, 0, 0, 0, 0, 0], 0.07560137457044673, 2.2444444444444445), 1080: ('Celestial Clockwork (1994)', [0, 0, 0, 0, 0, 1, 0, 0, 0, 0, 0, 0, 0, 0, 0, 0, 0, 0, 0], 0.001718213058419244, 4.0), 1081: ('Curdled (1996)', [0, 0, 0, 0, 0, 0, 1, 0, 0, 0, 0, 0, 0, 0, 0, 0, 0, 0, 0], 0.012027491408934709, 2.75), 1082: ('Female Perversions (1996)', [0, 0, 0, 0, 0, 0, 0, 0, 1, 0, 0, 0, 0, 0, 0, 0, 0, 0, 0], 0.012027491408934709, 2.625), 1083: ('Albino Alligator (1996)', [0, 0, 0, 0, 0, 0, 1, 0, 0, 0, 0, 0, 0, 0, 0, 0, 1, 0, 0], 0.00859106529209622, 2.5), 1084: ('Anne Frank Remembered (1995)', [0, 0, 0, 0, 0, 0, 0, 1, 0, 0, 0, 0, 0, 0, 0, 0, 0, 0, 0], 0.03436426116838488, 3.857142857142857), 1085: ('Carried Away (1996)', [0, 0, 0, 0, 0, 0, 0, 0, 1, 0, 0, 0, 0, 0, 1, 0, 0, 0, 0], 0.01718213058419244, 3.0), 1086: (\"It's My Party (1995)\", [0, 0, 0, 0, 0, 0, 0, 0, 1, 0, 0, 0, 0, 0, 0, 0, 0, 0, 0], 0.03436426116838488, 3.2857142857142856), 1087: ('Bloodsport 2 (1995)', [0, 1, 0, 0, 0, 0, 0, 0, 0, 0, 0, 0, 0, 0, 0, 0, 0, 0, 0], 0.015463917525773196, 1.7), 1088: ('Double Team (1997)', [0, 1, 0, 0, 0, 0, 0, 0, 0, 0, 0, 0, 0, 0, 0, 0, 0, 0, 0], 0.020618556701030927, 2.230769230769231), 1089: ('Speed 2: Cruise Control (1997)', [0, 1, 0, 0, 0, 0, 0, 0, 0, 0, 0, 0, 0, 0, 1, 0, 1, 0, 0], 0.06357388316151202, 2.1315789473684212), 1090: ('Sliver (1993)', [0, 0, 0, 0, 0, 0, 0, 0, 0, 0, 0, 0, 0, 0, 0, 0, 1, 0, 0], 0.061855670103092786, 2.4054054054054053), 1091: (\"Pete's Dragon (1977)\", [0, 0, 1, 1, 1, 0, 0, 0, 0, 0, 0, 0, 1, 0, 0, 0, 0, 0, 0], 0.07216494845360824, 2.7209302325581395), 1092: ('Dear God (1996)', [0, 0, 0, 0, 0, 1, 0, 0, 0, 0, 0, 0, 0, 0, 0, 0, 0, 0, 0], 0.018900343642611683, 2.5), 1093: ('Live Nude Girls (1995)', [0, 0, 0, 0, 0, 1, 0, 0, 0, 0, 0, 0, 0, 0, 0, 0, 0, 0, 0], 0.037800687285223365, 3.0869565217391304), 1094: ('Thin Line Between Love and Hate, A (1996)', [0, 0, 0, 0, 0, 1, 0, 0, 0, 0, 0, 0, 0, 0, 0, 0, 0, 0, 0], 0.018900343642611683, 2.4166666666666665), 1095: ('High School High (1996)', [0, 0, 0, 0, 0, 1, 0, 0, 0, 0, 0, 0, 0, 0, 0, 0, 0, 0, 0], 0.048109965635738834, 2.6206896551724137), 1096: ('Commandments (1997)', [0, 0, 0, 0, 0, 0, 0, 0, 0, 0, 0, 0, 0, 0, 1, 0, 0, 0, 0], 0.003436426116838488, 2.6666666666666665), 1097: ('Hate (Haine, La) (1995)', [0, 0, 0, 0, 0, 0, 0, 0, 1, 0, 0, 0, 0, 0, 0, 0, 0, 0, 0], 0.029209621993127148, 3.5), 1098: ('Flirting With Disaster (1996)', [0, 0, 0, 0, 0, 1, 0, 0, 0, 0, 0, 0, 0, 0, 0, 0, 0, 0, 0], 0.070446735395189, 3.6904761904761907), 1099: ('Red Firecracker, Green Firecracker (1994)', [0, 0, 0, 0, 0, 0, 0, 0, 1, 0, 0, 0, 0, 0, 0, 0, 0, 0, 0], 0.020618556701030927, 3.4615384615384617), 1100: ('What Happened Was... (1994)', [0, 0, 0, 0, 0, 1, 0, 0, 1, 0, 0, 0, 0, 0, 1, 0, 0, 0, 0], 0.012027491408934709, 2.625), 1101: ('Six Degrees of Separation (1993)', [0, 0, 0, 0, 0, 0, 0, 0, 1, 0, 0, 0, 0, 1, 0, 0, 0, 0, 0], 0.1254295532646048, 3.77027027027027), 1102: ('Two Much (1996)', [0, 0, 0, 0, 0, 1, 0, 0, 0, 0, 0, 0, 0, 0, 1, 0, 0, 0, 0], 0.010309278350515464, 2.4285714285714284), 1103: ('Trust (1990)', [0, 0, 0, 0, 0, 1, 0, 0, 1, 0, 0, 0, 0, 0, 0, 0, 0, 0, 0], 0.030927835051546393, 3.789473684210526), 1104: (\"C'est arrivé près de chez vous (1992)\", [0, 0, 0, 0, 0, 1, 1, 0, 1, 0, 0, 0, 0, 0, 0, 0, 0, 0, 0], 0.005154639175257732, 3.0), 1105: ('Firestorm (1998)', [0, 1, 1, 0, 0, 0, 0, 0, 0, 0, 0, 0, 0, 0, 0, 0, 1, 0, 0], 0.029209621993127148, 2.8333333333333335), 1106: ('Newton Boys, The (1998)', [0, 0, 0, 0, 0, 0, 1, 0, 1, 0, 0, 0, 0, 0, 0, 0, 0, 0, 0], 0.005154639175257732, 3.0), 1107: ('Beyond Rangoon (1995)', [0, 0, 0, 0, 0, 0, 0, 0, 1, 0, 0, 0, 0, 0, 0, 0, 0, 0, 0], 0.029209621993127148, 3.0555555555555554), 1108: ('Feast of July (1995)', [0, 0, 0, 0, 0, 0, 0, 0, 1, 0, 0, 0, 0, 0, 0, 0, 0, 0, 0], 0.006872852233676976, 2.4), 1109: ('Death and the Maiden (1994)', [0, 0, 0, 0, 0, 0, 0, 0, 1, 0, 0, 0, 0, 0, 0, 0, 1, 0, 0], 0.04639175257731959, 3.4285714285714284), 1110: ('Tank Girl (1995)', [0, 1, 0, 0, 0, 1, 0, 0, 0, 0, 0, 0, 1, 0, 0, 1, 0, 0, 0], 0.06872852233676977, 2.8536585365853657), 1111: ('Double Happiness (1994)', [0, 0, 0, 0, 0, 0, 0, 0, 1, 0, 0, 0, 0, 0, 0, 0, 0, 0, 0], 0.010309278350515464, 3.4285714285714284), 1112: ('Cobb (1994)', [0, 0, 0, 0, 0, 0, 0, 0, 1, 0, 0, 0, 0, 0, 0, 0, 0, 0, 0], 0.024054982817869417, 2.8), 1113: ('Mrs. Parker and the Vicious Circle (1994)', [0, 0, 0, 0, 0, 0, 0, 0, 1, 0, 0, 0, 0, 0, 0, 0, 0, 0, 0], 0.03608247422680412, 3.272727272727273), 1114: ('Faithful (1996)', [0, 0, 0, 0, 0, 1, 0, 0, 0, 0, 0, 0, 0, 0, 0, 0, 0, 0, 0], 0.015463917525773196, 3.3), 1115: ('Twelfth Night (1996)', [0, 0, 0, 0, 0, 1, 0, 0, 1, 0, 0, 0, 0, 0, 1, 0, 0, 0, 0], 0.048109965635738834, 3.413793103448276), 1116: ('Mark of Zorro, The (1940)', [0, 0, 1, 0, 0, 0, 0, 0, 0, 0, 0, 0, 0, 0, 0, 0, 0, 0, 0], 0.020618556701030927, 3.6153846153846154), 1117: ('Surviving Picasso (1996)', [0, 0, 0, 0, 0, 0, 0, 0, 1, 0, 0, 0, 0, 0, 0, 0, 0, 0, 0], 0.030927835051546393, 3.1052631578947367), 1118: ('Up in Smoke (1978)', [0, 0, 0, 0, 0, 1, 0, 0, 0, 0, 0, 0, 0, 0, 0, 0, 0, 0, 0], 0.07903780068728522, 3.25531914893617), 1119: ('Some Kind of Wonderful (1987)', [0, 0, 0, 0, 0, 0, 0, 0, 1, 0, 0, 0, 0, 0, 1, 0, 0, 0, 0], 0.09965635738831616, 3.6610169491525424), 1120: (\"I'm Not Rappaport (1996)\", [0, 0, 0, 0, 0, 1, 0, 0, 0, 0, 0, 0, 0, 0, 0, 0, 0, 0, 0], 0.027491408934707903, 3.0), 1121: ('Umbrellas of Cherbourg, The (Parapluies de Cherbourg, Les) (1964)', [0, 0, 0, 0, 0, 0, 0, 0, 1, 0, 0, 0, 1, 0, 0, 0, 0, 0, 0], 0.03436426116838488, 3.761904761904762), 1122: ('They Made Me a Criminal (1939)', [0, 0, 0, 0, 0, 0, 1, 0, 1, 0, 0, 0, 0, 0, 0, 0, 0, 0, 0], 0.0, 5.0), 1123: ('Last Time I Saw Paris, The (1954)', [0, 0, 0, 0, 0, 0, 0, 0, 1, 0, 0, 0, 0, 0, 0, 0, 0, 0, 0], 0.003436426116838488, 3.6666666666666665), 1124: ('Farewell to Arms, A (1932)', [0, 0, 0, 0, 0, 0, 0, 0, 0, 0, 0, 0, 0, 0, 1, 0, 0, 1, 0], 0.018900343642611683, 3.8333333333333335), 1125: ('Innocents, The (1961)', [0, 0, 0, 0, 0, 0, 0, 0, 0, 0, 0, 0, 0, 0, 0, 0, 1, 0, 0], 0.005154639175257732, 4.25), 1126: ('Old Man and the Sea, The (1958)', [0, 0, 1, 0, 0, 0, 0, 0, 1, 0, 0, 0, 0, 0, 0, 0, 0, 0, 0], 0.05326460481099656, 3.34375), 1127: ('Truman Show, The (1998)', [0, 0, 0, 0, 0, 0, 0, 0, 1, 0, 0, 0, 0, 0, 0, 0, 0, 0, 0], 0.01718213058419244, 2.909090909090909), 1128: ('Heidi Fleiss: Hollywood Madam (1995) ', [0, 0, 0, 0, 0, 0, 0, 1, 0, 0, 0, 0, 0, 0, 0, 0, 0, 0, 0], 0.020618556701030927, 2.6923076923076925), 1129: ('Chungking Express (1994)', [0, 0, 0, 0, 0, 0, 0, 0, 1, 0, 0, 0, 0, 1, 1, 0, 0, 0, 0], 0.04639175257731959, 3.5714285714285716), 1130: (\"Jupiter's Wife (1994)\", [0, 0, 0, 0, 0, 0, 0, 1, 0, 0, 0, 0, 0, 0, 0, 0, 0, 0, 0], 0.0, 4.0), 1131: ('Safe (1995)', [0, 0, 0, 0, 0, 0, 0, 0, 0, 0, 0, 0, 0, 0, 0, 0, 1, 0, 0], 0.020618556701030927, 4.0), 1132: ('Feeling Minnesota (1996)', [0, 0, 0, 0, 0, 0, 0, 0, 1, 0, 0, 0, 0, 0, 1, 0, 0, 0, 0], 0.05326460481099656, 2.625), 1133: ('Escape to Witch Mountain (1975)', [0, 0, 1, 0, 1, 0, 0, 0, 0, 1, 0, 0, 0, 0, 0, 0, 0, 0, 0], 0.04982817869415808, 2.966666666666667), 1134: ('Get on the Bus (1996)', [0, 0, 0, 0, 0, 0, 0, 0, 1, 0, 0, 0, 0, 0, 0, 0, 0, 0, 0], 0.06357388316151202, 3.3157894736842106), 1135: ('Doors, The (1991)', [0, 0, 0, 0, 0, 0, 0, 0, 1, 0, 0, 0, 1, 0, 0, 0, 0, 0, 0], 0.07731958762886598, 2.9782608695652173), 1136: ('Ghosts of Mississippi (1996)', [0, 0, 0, 0, 0, 0, 0, 0, 1, 0, 0, 0, 0, 0, 0, 0, 0, 0, 0], 0.048109965635738834, 3.4827586206896552), 1137: ('Beautiful Thing (1996)', [0, 0, 0, 0, 0, 0, 0, 0, 1, 0, 0, 0, 0, 0, 1, 0, 0, 0, 0], 0.048109965635738834, 3.9655172413793105), 1138: ('Best Men (1997)', [0, 1, 0, 0, 0, 1, 1, 0, 1, 0, 0, 0, 0, 0, 0, 0, 0, 0, 0], 0.006872852233676976, 3.4), 1139: ('Hackers (1995)', [0, 1, 0, 0, 0, 0, 1, 0, 0, 0, 0, 0, 0, 0, 0, 0, 1, 0, 0], 0.054982817869415807, 2.606060606060606), 1140: ('Road to Wellville, The (1994)', [0, 0, 0, 0, 0, 1, 0, 0, 0, 0, 0, 0, 0, 0, 0, 0, 0, 0, 0], 0.027491408934707903, 2.2941176470588234), 1141: ('War Room, The (1993)', [0, 0, 0, 0, 0, 0, 0, 1, 0, 0, 0, 0, 0, 0, 0, 0, 0, 0, 0], 0.013745704467353952, 3.3333333333333335), 1142: ('When We Were Kings (1996)', [0, 0, 0, 0, 0, 0, 0, 1, 0, 0, 0, 0, 0, 0, 0, 0, 0, 0, 0], 0.07388316151202749, 4.045454545454546), 1143: ('Hard Eight (1996)', [0, 0, 0, 0, 0, 0, 1, 0, 0, 0, 0, 0, 0, 0, 0, 0, 1, 0, 0], 0.024054982817869417, 4.0), 1144: ('Quiet Room, The (1996)', [0, 0, 0, 0, 0, 0, 0, 0, 1, 0, 0, 0, 0, 0, 0, 0, 0, 0, 0], 0.003436426116838488, 3.6666666666666665), 1145: ('Blue Chips (1994)', [0, 0, 0, 0, 0, 0, 0, 0, 1, 0, 0, 0, 0, 0, 0, 0, 0, 0, 0], 0.013745704467353952, 2.6666666666666665), 1146: ('Calendar Girl (1993)', [0, 0, 0, 0, 0, 0, 0, 0, 1, 0, 0, 0, 0, 0, 0, 0, 0, 0, 0], 0.003436426116838488, 2.0), 1147: ('My Family (1995)', [0, 0, 0, 0, 0, 0, 0, 0, 1, 0, 0, 0, 0, 0, 0, 0, 0, 0, 0], 0.03436426116838488, 3.6666666666666665), 1148: ('Tom & Viv (1994)', [0, 0, 0, 0, 0, 0, 0, 0, 1, 0, 0, 0, 0, 0, 0, 0, 0, 0, 0], 0.013745704467353952, 3.3333333333333335), 1149: ('Walkabout (1971)', [0, 0, 0, 0, 0, 0, 0, 0, 1, 0, 0, 0, 0, 0, 0, 0, 0, 0, 0], 0.0429553264604811, 3.8461538461538463), 1150: ('Last Dance (1996)', [0, 0, 0, 0, 0, 0, 0, 0, 1, 0, 0, 0, 0, 0, 0, 0, 0, 0, 0], 0.013745704467353952, 3.111111111111111), 1151: ('Original Gangstas (1996)', [0, 0, 0, 0, 0, 0, 1, 0, 0, 0, 0, 0, 0, 0, 0, 0, 0, 0, 0], 0.010309278350515464, 2.142857142857143), 1152: ('In Love and War (1996)', [0, 0, 0, 0, 0, 0, 0, 0, 0, 0, 0, 0, 0, 0, 1, 0, 0, 1, 0], 0.04639175257731959, 3.4285714285714284), 1153: ('Backbeat (1993)', [0, 0, 0, 0, 0, 0, 0, 0, 1, 0, 0, 0, 1, 0, 0, 0, 0, 0, 0], 0.030927835051546393, 3.473684210526316), 1154: ('Alphaville (1965)', [0, 0, 0, 0, 0, 0, 0, 0, 0, 0, 0, 0, 0, 0, 0, 1, 0, 0, 0], 0.018900343642611683, 3.3333333333333335), 1155: ('Rendezvous in Paris (Rendez-vous de Paris, Les) (1995)', [0, 0, 0, 0, 0, 1, 0, 0, 0, 0, 0, 0, 0, 0, 1, 0, 0, 0, 0], 0.003436426116838488, 3.3333333333333335), 1156: ('Cyclo (1995)', [0, 0, 0, 0, 0, 0, 1, 0, 1, 0, 0, 0, 0, 0, 0, 0, 0, 0, 0], 0.0, 3.0), 1157: ('Relic, The (1997)', [0, 0, 0, 0, 0, 0, 0, 0, 0, 0, 0, 1, 0, 0, 0, 0, 0, 0, 0], 0.041237113402061855, 2.88), 1158: ('Fille seule, La (A Single Girl) (1995)', [0, 0, 0, 0, 0, 0, 0, 0, 1, 0, 0, 0, 0, 0, 0, 0, 0, 0, 0], 0.005154639175257732, 4.0), 1159: ('Stalker (1979)', [0, 0, 0, 0, 0, 0, 0, 0, 0, 0, 0, 0, 0, 1, 0, 1, 0, 0, 0], 0.01718213058419244, 3.5454545454545454), 1160: ('Love! Valour! Compassion! (1997)', [0, 0, 0, 0, 0, 0, 0, 0, 1, 0, 0, 0, 0, 0, 1, 0, 0, 0, 0], 0.0429553264604811, 3.6153846153846154), 1161: ('Palookaville (1996)', [0, 1, 0, 0, 0, 0, 0, 0, 1, 0, 0, 0, 0, 0, 0, 0, 0, 0, 0], 0.020618556701030927, 2.923076923076923), 1162: ('Phat Beach (1996)', [0, 0, 0, 0, 0, 1, 0, 0, 0, 0, 0, 0, 0, 0, 0, 0, 0, 0, 0], 0.006872852233676976, 1.6), 1163: ('Portrait of a Lady, The (1996)', [0, 0, 0, 0, 0, 0, 0, 0, 1, 0, 0, 0, 0, 0, 0, 0, 0, 0, 0], 0.041237113402061855, 2.68), 1164: ('Zeus and Roxanne (1997)', [0, 0, 0, 0, 1, 0, 0, 0, 0, 0, 0, 0, 0, 0, 0, 0, 0, 0, 0], 0.00859106529209622, 2.1666666666666665), 1165: ('Big Bully (1996)', [0, 0, 0, 0, 0, 1, 0, 0, 1, 0, 0, 0, 0, 0, 0, 0, 0, 0, 0], 0.022336769759450172, 1.8571428571428572), 1166: ('Love & Human Remains (1993)', [0, 0, 0, 0, 0, 1, 0, 0, 0, 0, 0, 0, 0, 0, 0, 0, 0, 0, 0], 0.018900343642611683, 3.1666666666666665), 1167: ('Sum of Us, The (1994)', [0, 0, 0, 0, 0, 1, 0, 0, 0, 0, 0, 0, 0, 0, 0, 0, 0, 0, 0], 0.01718213058419244, 3.5454545454545454), 1168: ('Little Buddha (1993)', [0, 0, 0, 0, 0, 0, 0, 0, 1, 0, 0, 0, 0, 0, 0, 0, 0, 0, 0], 0.03608247422680412, 3.3181818181818183), 1169: ('Fresh (1994)', [0, 0, 0, 0, 0, 0, 0, 0, 1, 0, 0, 0, 0, 0, 0, 0, 0, 0, 0], 0.015463917525773196, 4.1), 1170: ('Spanking the Monkey (1994)', [0, 0, 0, 0, 0, 1, 0, 0, 1, 0, 0, 0, 0, 0, 0, 0, 0, 0, 0], 0.044673539518900345, 3.074074074074074), 1171: ('Wild Reeds (1994)', [0, 0, 0, 0, 0, 0, 0, 0, 1, 0, 0, 0, 0, 0, 0, 0, 0, 0, 0], 0.022336769759450172, 3.142857142857143), 1172: ('Women, The (1939)', [0, 0, 0, 0, 0, 1, 0, 0, 0, 0, 0, 0, 0, 0, 0, 0, 0, 0, 0], 0.024054982817869417, 3.6666666666666665), 1173: ('Bliss (1997)', [0, 0, 0, 0, 0, 0, 0, 0, 1, 0, 0, 0, 0, 0, 1, 0, 0, 0, 0], 0.010309278350515464, 2.5714285714285716), 1174: ('Caught (1996)', [0, 0, 0, 0, 0, 0, 0, 0, 1, 0, 0, 0, 0, 0, 0, 0, 1, 0, 0], 0.012027491408934709, 3.25), 1175: ('Hugo Pool (1997)', [0, 0, 0, 0, 0, 0, 0, 0, 0, 0, 0, 0, 0, 0, 1, 0, 0, 0, 0], 0.006872852233676976, 3.4), 1176: ('Welcome To Sarajevo (1997)', [0, 0, 0, 0, 0, 0, 0, 0, 1, 0, 0, 0, 0, 0, 0, 0, 0, 1, 0], 0.03608247422680412, 3.3636363636363638), 1177: ('Dunston Checks In (1996)', [0, 0, 0, 0, 0, 1, 0, 0, 0, 0, 0, 0, 0, 0, 0, 0, 0, 0, 0], 0.010309278350515464, 1.8571428571428572), 1178: ('Major Payne (1994)', [0, 0, 0, 0, 0, 1, 0, 0, 0, 0, 0, 0, 0, 0, 0, 0, 0, 0, 0], 0.030927835051546393, 2.473684210526316), 1179: ('Man of the House (1995)', [0, 0, 0, 0, 0, 1, 0, 0, 0, 0, 0, 0, 0, 0, 0, 0, 0, 0, 0], 0.013745704467353952, 2.111111111111111), 1180: ('I Love Trouble (1994)', [0, 1, 0, 0, 0, 1, 0, 0, 0, 0, 0, 0, 0, 0, 0, 0, 0, 0, 0], 0.015463917525773196, 2.5), 1181: ('Low Down Dirty Shame, A (1994)', [0, 1, 0, 0, 0, 1, 0, 0, 0, 0, 0, 0, 0, 0, 0, 0, 0, 0, 0], 0.015463917525773196, 2.5), 1182: ('Cops and Robbersons (1994)', [0, 0, 0, 0, 0, 1, 0, 0, 0, 0, 0, 0, 0, 0, 0, 0, 0, 0, 0], 0.020618556701030927, 2.3076923076923075), 1183: ('Cowboy Way, The (1994)', [0, 1, 0, 0, 0, 1, 0, 0, 0, 0, 0, 0, 0, 0, 0, 0, 0, 0, 0], 0.030927835051546393, 2.210526315789474), 1184: ('Endless Summer 2, The (1994)', [0, 0, 0, 0, 0, 0, 0, 1, 0, 0, 0, 0, 0, 0, 0, 0, 0, 0, 0], 0.015463917525773196, 2.5), 1185: ('In the Army Now (1994)', [0, 0, 0, 0, 0, 1, 0, 0, 0, 0, 0, 0, 0, 0, 0, 0, 0, 1, 0], 0.029209621993127148, 2.2777777777777777), 1186: ('Inkwell, The (1994)', [0, 0, 0, 0, 0, 1, 0, 0, 1, 0, 0, 0, 0, 0, 0, 0, 0, 0, 0], 0.003436426116838488, 3.3333333333333335), 1187: ('Switchblade Sisters (1975)', [0, 0, 0, 0, 0, 0, 1, 0, 0, 0, 0, 0, 0, 0, 0, 0, 0, 0, 0], 0.020618556701030927, 3.230769230769231), 1188: ('Young Guns II (1990)', [0, 1, 0, 0, 0, 1, 0, 0, 0, 0, 0, 0, 0, 0, 0, 0, 0, 0, 1], 0.07388316151202749, 2.772727272727273), 1189: ('Prefontaine (1997)', [0, 0, 0, 0, 0, 0, 0, 0, 1, 0, 0, 0, 0, 0, 0, 0, 0, 0, 0], 0.003436426116838488, 5.0), 1190: ('That Old Feeling (1997)', [0, 0, 0, 0, 0, 1, 0, 0, 0, 0, 0, 0, 0, 0, 1, 0, 0, 0, 0], 0.01718213058419244, 3.3636363636363638), 1191: ('Letter From Death Row, A (1998)', [0, 0, 0, 0, 0, 0, 1, 0, 1, 0, 0, 0, 0, 0, 0, 0, 0, 0, 0], 0.003436426116838488, 4.333333333333333), 1192: ('Boys of St. Vincent, The (1993)', [0, 0, 0, 0, 0, 0, 0, 0, 1, 0, 0, 0, 0, 0, 0, 0, 0, 0, 0], 0.020618556701030927, 3.3846153846153846), 1193: ('Before the Rain (Pred dozhdot) (1994)', [0, 0, 0, 0, 0, 0, 0, 0, 1, 0, 0, 0, 0, 0, 0, 0, 0, 0, 0], 0.015463917525773196, 3.8), 1194: ('Once Were Warriors (1994)', [0, 0, 0, 0, 0, 0, 1, 0, 1, 0, 0, 0, 0, 0, 0, 0, 0, 0, 0], 0.05154639175257732, 4.064516129032258), 1195: ('Strawberry and Chocolate (Fresa y chocolate) (1993)', [0, 0, 0, 0, 0, 0, 0, 0, 1, 0, 0, 0, 0, 0, 0, 0, 0, 0, 0], 0.01718213058419244, 3.272727272727273), 1196: ('Savage Nights (Nuits fauves, Les) (1992)', [0, 0, 0, 0, 0, 0, 0, 0, 1, 0, 0, 0, 0, 0, 0, 0, 0, 0, 0], 0.003436426116838488, 3.0), 1197: ('Family Thing, A (1996)', [0, 0, 0, 0, 0, 1, 0, 0, 1, 0, 0, 0, 0, 0, 0, 0, 0, 0, 0], 0.07560137457044673, 3.5555555555555554), 1198: ('Purple Noon (1960)', [0, 0, 0, 0, 0, 0, 1, 0, 0, 0, 0, 0, 0, 0, 0, 0, 1, 0, 0], 0.010309278350515464, 3.142857142857143), 1199: ('Cemetery Man (Dellamorte Dellamore) (1994)', [0, 0, 0, 0, 0, 1, 0, 0, 0, 0, 0, 1, 0, 0, 0, 0, 0, 0, 0], 0.037800687285223365, 2.869565217391304), 1200: ('Kim (1950)', [0, 0, 0, 0, 1, 0, 0, 0, 1, 0, 0, 0, 0, 0, 0, 0, 0, 0, 0], 0.010309278350515464, 3.2857142857142856), 1201: ('Marlene Dietrich: Shadow and Light (1996) ', [0, 0, 0, 0, 0, 0, 0, 1, 0, 0, 0, 0, 0, 0, 0, 0, 0, 0, 0], 0.0, 5.0), 1202: ('Maybe, Maybe Not (Bewegte Mann, Der) (1994)', [0, 0, 0, 0, 0, 1, 0, 0, 0, 0, 0, 0, 0, 0, 0, 0, 0, 0, 0], 0.012027491408934709, 3.5), 1203: ('Top Hat (1935)', [0, 0, 0, 0, 0, 1, 0, 0, 0, 0, 0, 0, 1, 0, 1, 0, 0, 0, 0], 0.03436426116838488, 4.0476190476190474), 1204: ('To Be or Not to Be (1942)', [0, 0, 0, 0, 0, 1, 0, 0, 1, 0, 0, 0, 0, 0, 0, 0, 0, 1, 0], 0.029209621993127148, 3.611111111111111), 1205: ('Secret Agent, The (1996)', [0, 0, 0, 0, 0, 0, 0, 0, 1, 0, 0, 0, 0, 0, 0, 0, 0, 0, 0], 0.00859106529209622, 3.0), 1206: ('Amos & Andrew (1993)', [0, 0, 0, 0, 0, 1, 0, 0, 0, 0, 0, 0, 0, 0, 0, 0, 0, 0, 0], 0.030927835051546393, 2.6842105263157894), 1207: ('Jade (1995)', [0, 0, 0, 0, 0, 0, 0, 0, 0, 0, 0, 0, 0, 0, 0, 0, 1, 0, 0], 0.027491408934707903, 2.2941176470588234), 1208: ('Kiss of Death (1995)', [0, 0, 0, 0, 0, 0, 1, 0, 1, 0, 0, 0, 0, 0, 0, 0, 1, 0, 0], 0.03264604810996564, 2.85), 1209: ('Mixed Nuts (1994)', [0, 0, 0, 0, 0, 1, 0, 0, 0, 0, 0, 0, 0, 0, 0, 0, 0, 0, 0], 0.024054982817869417, 2.533333333333333), 1210: ('Virtuosity (1995)', [0, 0, 0, 0, 0, 0, 0, 0, 0, 0, 0, 0, 0, 0, 0, 1, 1, 0, 0], 0.06357388316151202, 2.736842105263158), 1211: ('Blue Sky (1994)', [0, 0, 0, 0, 0, 0, 0, 0, 1, 0, 0, 0, 0, 0, 1, 0, 0, 0, 0], 0.018900343642611683, 3.4166666666666665), 1212: ('Flesh and Bone (1993)', [0, 0, 0, 0, 0, 0, 0, 0, 1, 0, 0, 0, 0, 1, 1, 0, 0, 0, 0], 0.00859106529209622, 2.8333333333333335), 1213: ('Guilty as Sin (1993)', [0, 0, 0, 0, 0, 0, 1, 0, 1, 0, 0, 0, 0, 0, 0, 0, 1, 0, 0], 0.00859106529209622, 2.1666666666666665), 1214: ('In the Realm of the Senses (Ai no corrida) (1976)', [0, 0, 0, 0, 0, 0, 0, 0, 1, 0, 0, 0, 0, 0, 0, 0, 0, 0, 0], 0.013745704467353952, 2.0), 1215: ('Barb Wire (1996)', [0, 1, 0, 0, 0, 0, 0, 0, 0, 0, 0, 0, 0, 0, 0, 1, 0, 0, 0], 0.04982817869415808, 1.9333333333333333), 1216: ('Kissed (1996)', [0, 0, 0, 0, 0, 0, 0, 0, 0, 0, 0, 0, 0, 0, 1, 0, 0, 0, 0], 0.00859106529209622, 3.0), 1217: ('Assassins (1995)', [0, 0, 0, 0, 0, 0, 0, 0, 0, 0, 0, 0, 0, 0, 0, 0, 1, 0, 0], 0.06529209621993128, 2.871794871794872), 1218: ('Friday (1995)', [0, 0, 0, 0, 0, 1, 0, 0, 0, 0, 0, 0, 0, 0, 0, 0, 0, 0, 0], 0.0429553264604811, 3.4615384615384617), 1219: ('Goofy Movie, A (1995)', [0, 0, 0, 1, 1, 1, 0, 0, 0, 0, 0, 0, 0, 0, 1, 0, 0, 0, 0], 0.03264604810996564, 2.9), 1220: ('Higher Learning (1995)', [0, 0, 0, 0, 0, 0, 0, 0, 1, 0, 0, 0, 0, 0, 0, 0, 0, 0, 0], 0.04982817869415808, 3.3333333333333335), 1221: ('When a Man Loves a Woman (1994)', [0, 0, 0, 0, 0, 0, 0, 0, 1, 0, 0, 0, 0, 0, 0, 0, 0, 0, 0], 0.06529209621993128, 3.4871794871794872), 1222: ('Judgment Night (1993)', [0, 1, 0, 0, 0, 0, 0, 0, 0, 0, 0, 0, 0, 0, 0, 0, 0, 0, 0], 0.041237113402061855, 2.68), 1223: ('King of the Hill (1993)', [0, 0, 0, 0, 0, 0, 0, 0, 1, 0, 0, 0, 0, 0, 0, 0, 0, 0, 0], 0.005154639175257732, 3.5), 1224: ('Scout, The (1994)', [0, 0, 0, 0, 0, 0, 0, 0, 1, 0, 0, 0, 0, 0, 0, 0, 0, 0, 0], 0.018900343642611683, 2.6666666666666665), 1225: ('Angus (1995)', [0, 0, 0, 0, 0, 1, 0, 0, 0, 0, 0, 0, 0, 0, 0, 0, 0, 0, 0], 0.022336769759450172, 2.642857142857143), 1226: ('Night Falls on Manhattan (1997)', [0, 0, 0, 0, 0, 0, 1, 0, 1, 0, 0, 0, 0, 0, 0, 0, 0, 0, 0], 0.05326460481099656, 3.375), 1227: ('Awfully Big Adventure, An (1995)', [0, 0, 0, 0, 0, 0, 0, 0, 1, 0, 0, 0, 0, 0, 0, 0, 0, 0, 0], 0.012027491408934709, 2.375), 1228: ('Under Siege 2: Dark Territory (1995)', [0, 1, 0, 0, 0, 0, 0, 0, 0, 0, 0, 0, 0, 0, 0, 0, 0, 0, 0], 0.08075601374570447, 2.4583333333333335), 1229: ('Poison Ivy II (1995)', [0, 0, 0, 0, 0, 0, 0, 0, 1, 0, 0, 0, 0, 0, 0, 0, 1, 0, 0], 0.020618556701030927, 2.1538461538461537), 1230: ('Ready to Wear (Pret-A-Porter) (1994)', [0, 0, 0, 0, 0, 1, 0, 0, 0, 0, 0, 0, 0, 0, 0, 0, 0, 0, 0], 0.029209621993127148, 1.8333333333333333), 1231: ('Marked for Death (1990)', [0, 1, 0, 0, 0, 0, 0, 0, 1, 0, 0, 0, 0, 0, 0, 0, 0, 0, 0], 0.03608247422680412, 2.5), 1232: ('Madonna: Truth or Dare (1991)', [0, 0, 0, 0, 0, 0, 0, 1, 0, 0, 0, 0, 0, 0, 0, 0, 0, 0, 0], 0.027491408934707903, 2.4705882352941178), 1233: ('Nénette et Boni (1996)', [0, 0, 0, 0, 0, 0, 0, 0, 1, 0, 0, 0, 0, 0, 0, 0, 0, 0, 0], 0.00859106529209622, 3.5), 1234: ('Chairman of the Board (1998)', [0, 0, 0, 0, 0, 1, 0, 0, 0, 0, 0, 0, 0, 0, 0, 0, 0, 0, 0], 0.012027491408934709, 2.375), 1235: ('Big Bang Theory, The (1994)', [0, 0, 0, 0, 0, 0, 1, 0, 0, 0, 0, 0, 0, 0, 0, 0, 0, 0, 0], 0.0, 4.0), 1236: ('Other Voices, Other Rooms (1997)', [0, 0, 0, 0, 0, 0, 0, 0, 1, 0, 0, 0, 0, 0, 0, 0, 0, 0, 0], 0.0, 3.0), 1237: ('Twisted (1996)', [0, 0, 0, 0, 0, 1, 0, 0, 1, 0, 0, 0, 0, 0, 0, 0, 0, 0, 0], 0.00859106529209622, 3.5), 1238: ('Full Speed (1996)', [0, 0, 0, 0, 0, 0, 0, 0, 1, 0, 0, 0, 0, 0, 0, 0, 0, 0, 0], 0.012027491408934709, 3.125), 1239: ('Cutthroat Island (1995)', [0, 1, 1, 0, 0, 0, 0, 0, 0, 0, 0, 0, 0, 0, 1, 0, 0, 0, 0], 0.029209621993127148, 2.4444444444444446), 1240: ('Ghost in the Shell (Kokaku kidotai) (1995)', [0, 0, 0, 1, 0, 0, 0, 0, 0, 0, 0, 0, 0, 0, 0, 1, 0, 0, 0], 0.0429553264604811, 3.6538461538461537), 1241: ('Van, The (1996)', [0, 0, 0, 0, 0, 1, 0, 0, 1, 0, 0, 0, 0, 0, 0, 0, 0, 0, 0], 0.00859106529209622, 2.6666666666666665), 1242: ('Old Lady Who Walked in the Sea, The (Vieille qui marchait dans la mer, La) (1991)', [0, 0, 0, 0, 0, 1, 0, 0, 0, 0, 0, 0, 0, 0, 0, 0, 0, 0, 0], 0.006872852233676976, 2.6), 1243: ('Night Flier (1997)', [0, 0, 0, 0, 0, 0, 0, 0, 0, 0, 0, 1, 0, 0, 0, 0, 0, 0, 0], 0.010309278350515464, 3.7142857142857144), 1244: ('Metro (1997)', [0, 1, 0, 0, 0, 0, 0, 0, 0, 0, 0, 0, 0, 0, 0, 0, 0, 0, 0], 0.06013745704467354, 2.9166666666666665), 1245: (\"Gridlock'd (1997)\", [0, 0, 0, 0, 0, 0, 1, 0, 0, 0, 0, 0, 0, 0, 0, 0, 0, 0, 0], 0.030927835051546393, 3.210526315789474), 1246: ('Bushwhacked (1995)', [0, 0, 0, 0, 0, 1, 0, 0, 0, 0, 0, 0, 0, 0, 0, 0, 0, 0, 0], 0.010309278350515464, 1.5714285714285714), 1247: ('Bad Girls (1994)', [0, 0, 0, 0, 0, 0, 0, 0, 0, 0, 0, 0, 0, 0, 0, 0, 0, 0, 1], 0.00859106529209622, 1.8333333333333333), 1248: ('Blink (1994)', [0, 0, 0, 0, 0, 0, 0, 0, 0, 0, 0, 0, 0, 0, 0, 0, 1, 0, 0], 0.030927835051546393, 3.0), 1249: ('For Love or Money (1993)', [0, 0, 0, 0, 0, 1, 0, 0, 0, 0, 0, 0, 0, 0, 0, 0, 0, 0, 0], 0.018900343642611683, 2.8333333333333335), 1250: ('Best of the Best 3: No Turning Back (1995)', [0, 1, 0, 0, 0, 0, 0, 0, 0, 0, 0, 0, 0, 0, 0, 0, 0, 0, 0], 0.00859106529209622, 1.5), 1251: ('A Chef in Love (1996)', [0, 0, 0, 0, 0, 1, 0, 0, 0, 0, 0, 0, 0, 0, 0, 0, 0, 0, 0], 0.012027491408934709, 4.125), 1252: ('Contempt (Mépris, Le) (1963)', [0, 0, 0, 0, 0, 0, 0, 0, 1, 0, 0, 0, 0, 0, 0, 0, 0, 0, 0], 0.013745704467353952, 3.0), 1253: ('Tie That Binds, The (1995)', [0, 0, 0, 0, 0, 0, 0, 0, 0, 0, 0, 0, 0, 0, 0, 0, 1, 0, 0], 0.010309278350515464, 2.4285714285714284), 1254: (\"Gone Fishin' (1997)\", [0, 0, 0, 0, 0, 1, 0, 0, 0, 0, 0, 0, 0, 0, 0, 0, 0, 0, 0], 0.01718213058419244, 1.8181818181818181), 1255: ('Broken English (1996)', [0, 0, 0, 0, 0, 0, 0, 0, 1, 0, 0, 0, 0, 0, 0, 0, 0, 0, 0], 0.012027491408934709, 2.25), 1256: ('Designated Mourner, The (1997)', [0, 0, 0, 0, 0, 0, 0, 0, 1, 0, 0, 0, 0, 0, 0, 0, 0, 0, 0], 0.003436426116838488, 2.0), 1257: ('Designated Mourner, The (1997)', [0, 0, 0, 0, 0, 0, 0, 0, 1, 0, 0, 0, 0, 0, 0, 0, 0, 0, 0], 0.005154639175257732, 1.75), 1258: ('Trial and Error (1997)', [0, 0, 0, 0, 0, 1, 0, 0, 0, 0, 0, 0, 0, 0, 1, 0, 0, 0, 0], 0.037800687285223365, 2.5217391304347827), 1259: ('Pie in the Sky (1995)', [0, 0, 0, 0, 0, 1, 0, 0, 0, 0, 0, 0, 0, 0, 1, 0, 0, 0, 0], 0.005154639175257732, 2.0), 1260: ('Total Eclipse (1995)', [0, 0, 0, 0, 0, 0, 0, 0, 1, 0, 0, 0, 0, 0, 0, 0, 0, 0, 0], 0.005154639175257732, 2.75), 1261: ('Run of the Country, The (1995)', [0, 0, 0, 0, 0, 0, 0, 0, 1, 0, 0, 0, 0, 0, 0, 0, 0, 0, 0], 0.005154639175257732, 3.25), 1262: ('Walking and Talking (1996)', [0, 0, 0, 0, 0, 0, 0, 0, 0, 0, 0, 0, 0, 0, 1, 0, 0, 0, 0], 0.012027491408934709, 3.625), 1263: ('Foxfire (1996)', [0, 0, 0, 0, 0, 0, 0, 0, 1, 0, 0, 0, 0, 0, 0, 0, 0, 0, 0], 0.024054982817869417, 2.933333333333333), 1264: ('Nothing to Lose (1994)', [0, 0, 0, 0, 0, 0, 0, 0, 1, 0, 0, 0, 0, 0, 0, 0, 0, 0, 0], 0.010309278350515464, 3.2857142857142856), 1265: ('Star Maps (1997)', [0, 0, 0, 0, 0, 0, 0, 0, 1, 0, 0, 0, 0, 0, 0, 0, 0, 0, 0], 0.030927835051546393, 3.0526315789473686), 1266: ('Bread and Chocolate (Pane e cioccolata) (1973)', [0, 0, 0, 0, 0, 0, 0, 0, 1, 0, 0, 0, 0, 0, 0, 0, 0, 0, 0], 0.018900343642611683, 3.1666666666666665), 1267: ('Clockers (1995)', [0, 0, 0, 0, 0, 0, 0, 0, 1, 0, 0, 0, 0, 0, 0, 0, 0, 0, 0], 0.054982817869415807, 3.0), 1268: ('Bitter Moon (1992)', [0, 0, 0, 0, 0, 0, 0, 0, 1, 0, 0, 0, 0, 0, 0, 0, 0, 0, 0], 0.015463917525773196, 3.3), 1269: ('Love in the Afternoon (1957)', [0, 0, 0, 0, 0, 1, 0, 0, 0, 0, 0, 0, 0, 0, 1, 0, 0, 0, 0], 0.015463917525773196, 3.9), 1270: ('Life with Mikey (1993)', [0, 0, 0, 0, 0, 1, 0, 0, 0, 0, 0, 0, 0, 0, 0, 0, 0, 0, 0], 0.010309278350515464, 2.2857142857142856), 1271: ('North (1994)', [0, 0, 0, 0, 0, 1, 0, 0, 0, 0, 0, 0, 0, 0, 0, 0, 0, 0, 0], 0.010309278350515464, 2.7142857142857144), 1272: ('Talking About Sex (1994)', [0, 0, 0, 0, 0, 1, 0, 0, 1, 0, 0, 0, 0, 0, 0, 0, 0, 0, 0], 0.006872852233676976, 1.8), 1273: ('Color of Night (1994)', [0, 0, 0, 0, 0, 0, 0, 0, 1, 0, 0, 0, 0, 0, 0, 0, 1, 0, 0], 0.024054982817869417, 2.7333333333333334), 1274: ('Robocop 3 (1993)', [0, 0, 0, 0, 0, 0, 0, 0, 0, 0, 0, 0, 0, 0, 0, 1, 1, 0, 0], 0.01718213058419244, 1.7272727272727273), 1275: ('Killer (Bulletproof Heart) (1994)', [0, 0, 0, 0, 0, 0, 0, 0, 0, 0, 0, 0, 0, 0, 0, 0, 1, 0, 0], 0.005154639175257732, 2.5), 1276: ('Sunset Park (1996)', [0, 0, 0, 0, 0, 0, 0, 0, 1, 0, 0, 0, 0, 0, 0, 0, 0, 0, 0], 0.012027491408934709, 2.5), 1277: ('Set It Off (1996)', [0, 1, 0, 0, 0, 0, 1, 0, 0, 0, 0, 0, 0, 0, 0, 0, 0, 0, 0], 0.030927835051546393, 3.4210526315789473), 1278: ('Selena (1997)', [0, 0, 0, 0, 0, 0, 0, 0, 1, 0, 0, 0, 1, 0, 0, 0, 0, 0, 0], 0.02577319587628866, 3.625), 1279: ('Wild America (1997)', [0, 0, 1, 0, 1, 0, 0, 0, 0, 0, 0, 0, 0, 0, 0, 0, 0, 0, 0], 0.013745704467353952, 2.888888888888889), 1280: ('Gang Related (1997)', [0, 0, 0, 0, 0, 0, 1, 0, 0, 0, 0, 0, 0, 0, 0, 0, 0, 0, 0], 0.02577319587628866, 2.6875), 1281: ('Manny & Lo (1996)', [0, 0, 0, 0, 0, 0, 0, 0, 1, 0, 0, 0, 0, 0, 0, 0, 0, 0, 0], 0.020618556701030927, 3.1538461538461537), 1282: ('Grass Harp, The (1995)', [0, 0, 0, 0, 0, 0, 0, 0, 1, 0, 0, 0, 0, 0, 0, 0, 0, 0, 0], 0.013745704467353952, 3.2222222222222223), 1283: ('Out to Sea (1997)', [0, 0, 0, 0, 0, 1, 0, 0, 0, 0, 0, 0, 0, 0, 0, 0, 0, 0, 0], 0.030927835051546393, 2.6842105263157894), 1284: ('Before and After (1996)', [0, 0, 0, 0, 0, 0, 0, 0, 1, 0, 0, 0, 0, 1, 0, 0, 0, 0, 0], 0.0429553264604811, 2.8461538461538463), 1285: ('Princess Caraboo (1994)', [0, 0, 0, 0, 0, 0, 0, 0, 1, 0, 0, 0, 0, 0, 0, 0, 0, 0, 0], 0.024054982817869417, 3.1333333333333333), 1286: ('Shall We Dance? (1937)', [0, 0, 0, 0, 0, 1, 0, 0, 0, 0, 0, 0, 1, 0, 1, 0, 0, 0, 0], 0.027491408934707903, 3.7058823529411766), 1287: ('Ed (1996)', [0, 0, 0, 0, 0, 1, 0, 0, 0, 0, 0, 0, 0, 0, 0, 0, 0, 0, 0], 0.00859106529209622, 1.3333333333333333), 1288: ('Denise Calls Up (1995)', [0, 0, 0, 0, 0, 1, 0, 0, 0, 0, 0, 0, 0, 0, 0, 0, 0, 0, 0], 0.010309278350515464, 3.0), 1289: ('Jack and Sarah (1995)', [0, 0, 0, 0, 0, 0, 0, 0, 0, 0, 0, 0, 0, 0, 1, 0, 0, 0, 0], 0.010309278350515464, 2.142857142857143), 1290: ('Country Life (1994)', [0, 0, 0, 0, 0, 0, 0, 0, 1, 0, 0, 0, 0, 0, 1, 0, 0, 0, 0], 0.001718213058419244, 1.5), 1291: ('Celtic Pride (1996)', [0, 0, 0, 0, 0, 1, 0, 0, 0, 0, 0, 0, 0, 0, 0, 0, 0, 0, 0], 0.024054982817869417, 2.2), 1292: ('Simple Wish, A (1997)', [0, 0, 0, 0, 1, 0, 0, 0, 0, 1, 0, 0, 0, 0, 0, 0, 0, 0, 0], 0.003436426116838488, 1.6666666666666667), 1293: ('Star Kid (1997)', [0, 0, 1, 0, 1, 0, 0, 0, 0, 1, 0, 0, 0, 0, 0, 1, 0, 0, 0], 0.003436426116838488, 5.0), 1294: ('Ayn Rand: A Sense of Life (1997)', [0, 0, 0, 0, 0, 0, 0, 1, 0, 0, 0, 0, 0, 0, 0, 0, 0, 0, 0], 0.010309278350515464, 3.142857142857143), 1295: ('Kicked in the Head (1997)', [0, 0, 0, 0, 0, 1, 0, 0, 1, 0, 0, 0, 0, 0, 0, 0, 0, 0, 0], 0.010309278350515464, 2.5714285714285716), 1296: ('Indian Summer (1996)', [0, 0, 0, 0, 0, 1, 0, 0, 1, 0, 0, 0, 0, 0, 0, 0, 0, 0, 0], 0.03264604810996564, 3.25), 1297: ('Love Affair (1994)', [0, 0, 0, 0, 0, 0, 0, 0, 1, 0, 0, 0, 0, 0, 1, 0, 0, 0, 0], 0.018900343642611683, 2.8333333333333335), 1298: ('Band Wagon, The (1953)', [0, 0, 0, 0, 0, 1, 0, 0, 0, 0, 0, 0, 1, 0, 0, 0, 0, 0, 0], 0.013745704467353952, 3.6666666666666665), 1299: ('Penny Serenade (1941)', [0, 0, 0, 0, 0, 0, 0, 0, 1, 0, 0, 0, 0, 0, 1, 0, 0, 0, 0], 0.012027491408934709, 3.0), 1300: (\"'Til There Was You (1997)\", [0, 0, 0, 0, 0, 0, 0, 0, 1, 0, 0, 0, 0, 0, 1, 0, 0, 0, 0], 0.013745704467353952, 2.3333333333333335), 1301: ('Stripes (1981)', [0, 0, 0, 0, 0, 1, 0, 0, 0, 0, 0, 0, 0, 0, 0, 0, 0, 0, 0], 0.006872852233676976, 3.8), 1302: ('Late Bloomers (1996)', [0, 0, 0, 0, 0, 1, 0, 0, 0, 0, 0, 0, 0, 0, 0, 0, 0, 0, 0], 0.006872852233676976, 3.4), 1303: ('Getaway, The (1994)', [0, 1, 0, 0, 0, 0, 0, 0, 0, 0, 0, 0, 0, 0, 0, 0, 0, 0, 0], 0.029209621993127148, 2.3333333333333335), 1304: ('New York Cop (1996)', [0, 1, 0, 0, 0, 0, 1, 0, 0, 0, 0, 0, 0, 0, 0, 0, 0, 0, 0], 0.001718213058419244, 2.5), 1305: (\"National Lampoon's Senior Trip (1995)\", [0, 0, 0, 0, 0, 1, 0, 0, 0, 0, 0, 0, 0, 0, 0, 0, 0, 0, 0], 0.010309278350515464, 2.4285714285714284), 1306: ('Delta of Venus (1994)', [0, 0, 0, 0, 0, 0, 0, 0, 1, 0, 0, 0, 0, 0, 0, 0, 0, 0, 0], 0.001718213058419244, 3.0), 1307: ('Carmen Miranda: Bananas Is My Business (1994)', [0, 0, 0, 0, 0, 0, 0, 1, 0, 0, 0, 0, 0, 0, 0, 0, 0, 0, 0], 0.001718213058419244, 1.5), 1308: ('Babyfever (1994)', [0, 0, 0, 0, 0, 1, 0, 0, 1, 0, 0, 0, 0, 0, 0, 0, 0, 0, 0], 0.001718213058419244, 1.0), 1309: ('Very Natural Thing, A (1974)', [0, 0, 0, 0, 0, 0, 0, 0, 1, 0, 0, 0, 0, 0, 0, 0, 0, 0, 0], 0.0, 1.0), 1310: ('Walk in the Sun, A (1945)', [0, 0, 0, 0, 0, 0, 0, 0, 1, 0, 0, 0, 0, 0, 0, 0, 0, 0, 0], 0.0, 3.0), 1311: ('Waiting to Exhale (1995)', [0, 0, 0, 0, 0, 1, 0, 0, 1, 0, 0, 0, 0, 0, 0, 0, 0, 0, 0], 0.02577319587628866, 2.5), 1312: ('Pompatus of Love, The (1996)', [0, 0, 0, 0, 0, 1, 0, 0, 1, 0, 0, 0, 0, 0, 0, 0, 0, 0, 0], 0.010309278350515464, 3.0), 1313: ('Palmetto (1998)', [0, 0, 0, 0, 0, 0, 0, 0, 0, 0, 1, 0, 0, 1, 0, 0, 1, 0, 0], 0.022336769759450172, 3.142857142857143), 1314: ('Surviving the Game (1994)', [0, 1, 1, 0, 0, 0, 0, 0, 0, 0, 0, 0, 0, 0, 0, 0, 1, 0, 0], 0.01718213058419244, 2.4545454545454546), 1315: ('Inventing the Abbotts (1997)', [0, 0, 0, 0, 0, 0, 0, 0, 1, 0, 0, 0, 0, 0, 1, 0, 0, 0, 0], 0.037800687285223365, 3.130434782608696), 1316: ('Horse Whisperer, The (1998)', [0, 0, 0, 0, 0, 0, 0, 0, 1, 0, 0, 0, 0, 0, 0, 0, 0, 0, 0], 0.010309278350515464, 2.7142857142857144), 1317: ('Journey of August King, The (1995)', [0, 0, 0, 0, 0, 0, 0, 0, 1, 0, 0, 0, 0, 0, 0, 0, 0, 0, 0], 0.005154639175257732, 2.0), 1318: ('Catwalk (1995)', [0, 0, 0, 0, 0, 0, 0, 1, 0, 0, 0, 0, 0, 0, 0, 0, 0, 0, 0], 0.003436426116838488, 1.3333333333333333), 1319: ('Neon Bible, The (1995)', [0, 0, 0, 0, 0, 0, 0, 0, 1, 0, 0, 0, 0, 0, 0, 0, 0, 0, 0], 0.005154639175257732, 1.75), 1320: ('Homage (1995)', [0, 0, 0, 0, 0, 0, 0, 0, 1, 0, 0, 0, 0, 0, 0, 0, 0, 0, 0], 0.0, 1.0), 1321: ('Open Season (1996)', [0, 0, 0, 0, 0, 1, 0, 0, 0, 0, 0, 0, 0, 0, 0, 0, 0, 0, 0], 0.001718213058419244, 2.5), 1322: ('Metisse (Café au Lait) (1993)', [0, 0, 0, 0, 0, 1, 0, 0, 0, 0, 0, 0, 0, 0, 0, 0, 0, 0, 0], 0.00859106529209622, 2.3333333333333335), 1323: (\"Wooden Man's Bride, The (Wu Kui) (1994)\", [0, 0, 0, 0, 0, 0, 0, 0, 1, 0, 0, 0, 0, 0, 0, 0, 0, 0, 0], 0.003436426116838488, 2.6666666666666665), 1324: ('Loaded (1994)', [0, 0, 0, 0, 0, 0, 0, 0, 1, 0, 0, 0, 0, 0, 0, 0, 1, 0, 0], 0.006872852233676976, 2.4), 1325: ('August (1996)', [0, 0, 0, 0, 0, 0, 0, 0, 1, 0, 0, 0, 0, 0, 0, 0, 0, 0, 0], 0.0, 1.0), 1326: ('Boys (1996)', [0, 0, 0, 0, 0, 0, 0, 0, 1, 0, 0, 0, 0, 0, 0, 0, 0, 0, 0], 0.00859106529209622, 3.3333333333333335), 1327: ('Captives (1994)', [0, 0, 0, 0, 0, 0, 0, 0, 1, 0, 0, 0, 0, 0, 0, 0, 0, 0, 0], 0.003436426116838488, 2.3333333333333335), 1328: ('Of Love and Shadows (1994)', [0, 0, 0, 0, 0, 0, 0, 0, 1, 0, 0, 0, 0, 0, 0, 0, 0, 0, 0], 0.00859106529209622, 3.1666666666666665), 1329: ('Low Life, The (1994)', [0, 0, 0, 0, 0, 0, 0, 0, 1, 0, 0, 0, 0, 0, 0, 0, 0, 0, 0], 0.0, 1.0), 1330: ('An Unforgettable Summer (1994)', [0, 0, 0, 0, 0, 0, 0, 0, 1, 0, 0, 0, 0, 0, 0, 0, 0, 0, 0], 0.005154639175257732, 2.5), 1331: ('Last Klezmer: Leopold Kozlowski, His Life and Music, The (1995)', [0, 0, 0, 0, 0, 0, 0, 1, 0, 0, 0, 0, 0, 0, 0, 0, 0, 0, 0], 0.005154639175257732, 3.0), 1332: (\"My Life and Times With Antonin Artaud (En compagnie d'Antonin Artaud) (1993)\", [0, 0, 0, 0, 0, 0, 0, 0, 1, 0, 0, 0, 0, 0, 0, 0, 0, 0, 0], 0.001718213058419244, 2.0), 1333: ('Midnight Dancers (Sibak) (1994)', [0, 0, 0, 0, 0, 1, 0, 0, 1, 0, 0, 0, 0, 0, 0, 0, 0, 0, 0], 0.006872852233676976, 2.8), 1334: ('Somebody to Love (1994)', [0, 0, 0, 0, 0, 0, 0, 0, 1, 0, 0, 0, 0, 0, 0, 0, 0, 0, 0], 0.001718213058419244, 1.0), 1335: ('American Buffalo (1996)', [0, 0, 0, 0, 0, 0, 0, 0, 1, 0, 0, 0, 0, 0, 0, 0, 0, 0, 0], 0.01718213058419244, 2.6363636363636362), 1336: ('Kazaam (1996)', [0, 0, 0, 0, 1, 1, 0, 0, 0, 1, 0, 0, 0, 0, 0, 0, 0, 0, 0], 0.015463917525773196, 1.8), 1337: ('Larger Than Life (1996)', [0, 0, 0, 0, 0, 1, 0, 0, 0, 0, 0, 0, 0, 0, 0, 0, 0, 0, 0], 0.013745704467353952, 2.3333333333333335), 1338: ('Two Deaths (1995)', [0, 0, 0, 0, 0, 0, 0, 0, 1, 0, 0, 0, 0, 0, 0, 0, 0, 0, 0], 0.005154639175257732, 2.25), 1339: ('Stefano Quantestorie (1993)', [0, 0, 0, 0, 0, 1, 0, 0, 1, 0, 0, 0, 0, 0, 0, 0, 0, 0, 0], 0.0, 1.0), 1340: ('Crude Oasis, The (1995)', [0, 0, 0, 0, 0, 0, 0, 0, 0, 0, 0, 0, 0, 0, 1, 0, 0, 0, 0], 0.0, 1.0), 1341: ('Hedd Wyn (1992)', [0, 0, 0, 0, 0, 0, 0, 0, 1, 0, 0, 0, 0, 0, 0, 0, 0, 0, 0], 0.0, 1.0), 1342: ('Convent, The (Convento, O) (1995)', [0, 0, 0, 0, 0, 0, 0, 0, 1, 0, 0, 0, 0, 0, 0, 0, 0, 0, 0], 0.001718213058419244, 2.5), 1343: ('Lotto Land (1995)', [0, 0, 0, 0, 0, 0, 0, 0, 1, 0, 0, 0, 0, 0, 0, 0, 0, 0, 0], 0.0, 1.0), 1344: ('Story of Xinghua, The (1993)', [0, 0, 0, 0, 0, 0, 0, 0, 1, 0, 0, 0, 0, 0, 0, 0, 0, 0, 0], 0.006872852233676976, 3.2), 1345: ('Day the Sun Turned Cold, The (Tianguo niezi) (1994)', [0, 0, 0, 0, 0, 0, 0, 0, 1, 0, 0, 0, 0, 0, 0, 0, 0, 0, 0], 0.001718213058419244, 2.0), 1346: ('Dingo (1992)', [0, 0, 0, 0, 0, 0, 0, 0, 1, 0, 0, 0, 0, 0, 0, 0, 0, 0, 0], 0.006872852233676976, 2.4), 1347: ('Ballad of Narayama, The (Narayama Bushiko) (1958)', [0, 0, 0, 0, 0, 0, 0, 0, 1, 0, 0, 0, 0, 0, 0, 0, 0, 0, 0], 0.005154639175257732, 2.75), 1348: ('Every Other Weekend (1990)', [0, 0, 0, 0, 0, 0, 0, 0, 1, 0, 0, 0, 0, 0, 0, 0, 0, 0, 0], 0.0, 1.0), 1349: ('Mille bolle blu (1993)', [0, 0, 0, 0, 0, 1, 0, 0, 0, 0, 0, 0, 0, 0, 0, 0, 0, 0, 0], 0.0, 1.0), 1350: ('Crows and Sparrows (1949)', [0, 0, 0, 0, 0, 0, 0, 0, 1, 0, 0, 0, 0, 0, 0, 0, 0, 0, 0], 0.001718213058419244, 1.5), 1351: (\"Lover's Knot (1996)\", [0, 0, 0, 0, 0, 1, 0, 0, 0, 0, 0, 0, 0, 0, 0, 0, 0, 0, 0], 0.003436426116838488, 2.0), 1352: ('Shadow of Angels (Schatten der Engel) (1976)', [0, 0, 0, 0, 0, 0, 0, 0, 1, 0, 0, 0, 0, 0, 0, 0, 0, 0, 0], 0.0, 1.0), 1353: ('1-900 (1994)', [0, 0, 0, 0, 0, 0, 0, 0, 0, 0, 0, 0, 0, 0, 1, 0, 0, 0, 0], 0.006872852233676976, 2.6), 1354: ('Venice/Venice (1992)', [0, 0, 0, 0, 0, 0, 0, 0, 1, 0, 0, 0, 0, 0, 0, 0, 0, 0, 0], 0.001718213058419244, 1.0), 1355: ('Infinity (1996)', [0, 0, 0, 0, 0, 0, 0, 0, 1, 0, 0, 0, 0, 0, 0, 0, 0, 0, 0], 0.00859106529209622, 2.6666666666666665), 1356: (\"Ed's Next Move (1996)\", [0, 0, 0, 0, 0, 1, 0, 0, 0, 0, 0, 0, 0, 0, 0, 0, 0, 0, 0], 0.003436426116838488, 2.6666666666666665), 1357: ('For the Moment (1994)', [0, 0, 0, 0, 0, 0, 0, 0, 0, 0, 0, 0, 0, 0, 1, 0, 0, 1, 0], 0.003436426116838488, 2.6666666666666665), 1358: ('The Deadly Cure (1996)', [0, 1, 0, 0, 0, 0, 0, 0, 0, 0, 0, 0, 0, 0, 0, 0, 0, 0, 0], 0.001718213058419244, 3.0), 1359: ('Boys in Venice (1996)', [0, 0, 0, 0, 0, 0, 0, 0, 1, 0, 0, 0, 0, 0, 0, 0, 0, 0, 0], 0.001718213058419244, 1.0), 1360: ('Sexual Life of the Belgians, The (1994)', [0, 0, 0, 0, 0, 1, 0, 0, 0, 0, 0, 0, 0, 0, 0, 0, 0, 0, 0], 0.001718213058419244, 1.5), 1361: ('Search for One-eye Jimmy, The (1996)', [0, 0, 0, 0, 0, 1, 0, 0, 0, 0, 0, 0, 0, 0, 0, 0, 0, 0, 0], 0.003436426116838488, 2.6666666666666665), 1362: ('American Strays (1996)', [0, 1, 0, 0, 0, 0, 0, 0, 0, 0, 0, 0, 0, 0, 0, 0, 0, 0, 0], 0.001718213058419244, 2.0), 1363: ('Leopard Son, The (1996)', [0, 0, 0, 0, 0, 0, 0, 1, 0, 0, 0, 0, 0, 0, 0, 0, 0, 0, 0], 0.0, 1.0), 1364: ('Bird of Prey (1996)', [0, 1, 0, 0, 0, 0, 0, 0, 0, 0, 0, 0, 0, 0, 0, 0, 0, 0, 0], 0.0, 1.0), 1365: ('Johnny 100 Pesos (1993)', [0, 1, 0, 0, 0, 0, 0, 0, 1, 0, 0, 0, 0, 0, 0, 0, 0, 0, 0], 0.001718213058419244, 1.5), 1366: ('JLG/JLG - autoportrait de décembre (1994)', [0, 0, 0, 0, 0, 0, 0, 1, 1, 0, 0, 0, 0, 0, 0, 0, 0, 0, 0], 0.0, 1.0), 1367: ('Faust (1994)', [0, 0, 0, 1, 0, 0, 0, 0, 0, 0, 0, 0, 0, 0, 0, 0, 0, 0, 0], 0.006872852233676976, 4.2), 1368: ('Mina Tannenbaum (1994)', [0, 0, 0, 0, 0, 0, 0, 0, 1, 0, 0, 0, 0, 0, 0, 0, 0, 0, 0], 0.00859106529209622, 3.6666666666666665), 1369: ('Forbidden Christ, The (Cristo proibito, Il) (1950)', [0, 0, 0, 0, 0, 0, 0, 0, 1, 0, 0, 0, 0, 0, 0, 0, 0, 0, 0], 0.005154639175257732, 2.75), 1370: (\"I Can't Sleep (J'ai pas sommeil) (1994)\", [0, 0, 0, 0, 0, 0, 0, 0, 1, 0, 0, 0, 0, 0, 0, 0, 1, 0, 0], 0.003436426116838488, 2.6666666666666665), 1371: ('Machine, The (1994)', [0, 0, 0, 0, 0, 1, 0, 0, 0, 0, 0, 1, 0, 0, 0, 0, 0, 0, 0], 0.001718213058419244, 1.5), 1372: ('Stranger, The (1994)', [0, 1, 0, 0, 0, 0, 0, 0, 0, 0, 0, 0, 0, 0, 0, 0, 0, 0, 0], 0.003436426116838488, 3.0), 1373: ('Good Morning (1971)', [1, 0, 0, 0, 0, 0, 0, 0, 0, 0, 0, 0, 0, 0, 0, 0, 0, 0, 0], 0.0, 1.0), 1374: ('Falling in Love Again (1980)', [0, 0, 0, 0, 0, 1, 0, 0, 0, 0, 0, 0, 0, 0, 0, 0, 0, 0, 0], 0.001718213058419244, 1.0), 1375: ('Cement Garden, The (1993)', [0, 0, 0, 0, 0, 0, 0, 0, 1, 0, 0, 0, 0, 0, 0, 0, 0, 0, 0], 0.015463917525773196, 3.6), 1376: ('Meet Wally Sparks (1997)', [0, 0, 0, 0, 0, 1, 0, 0, 0, 0, 0, 0, 0, 0, 0, 0, 0, 0, 0], 0.010309278350515464, 2.142857142857143), 1377: ('Hotel de Love (1996)', [0, 0, 0, 0, 0, 1, 0, 0, 0, 0, 0, 0, 0, 0, 1, 0, 0, 0, 0], 0.005154639175257732, 3.25), 1378: ('Rhyme & Reason (1997)', [0, 0, 0, 0, 0, 0, 0, 1, 0, 0, 0, 0, 0, 0, 0, 0, 0, 0, 0], 0.006872852233676976, 2.2), 1379: ('Love and Other Catastrophes (1996)', [0, 0, 0, 0, 0, 0, 0, 0, 0, 0, 0, 0, 0, 0, 1, 0, 0, 0, 0], 0.010309278350515464, 2.857142857142857), 1380: ('Hollow Reed (1996)', [0, 0, 0, 0, 0, 0, 0, 0, 1, 0, 0, 0, 0, 0, 0, 0, 0, 0, 0], 0.00859106529209622, 2.3333333333333335), 1381: ('Losing Chase (1996)', [0, 0, 0, 0, 0, 0, 0, 0, 1, 0, 0, 0, 0, 0, 0, 0, 0, 0, 0], 0.012027491408934709, 3.25), 1382: ('Bonheur, Le (1965)', [0, 0, 0, 0, 0, 0, 0, 0, 1, 0, 0, 0, 0, 0, 0, 0, 0, 0, 0], 0.005154639175257732, 2.0), 1383: ('Second Jungle Book: Mowgli & Baloo, The (1997)', [0, 0, 1, 0, 1, 0, 0, 0, 0, 0, 0, 0, 0, 0, 0, 0, 0, 0, 0], 0.00859106529209622, 2.0), 1384: ('Squeeze (1996)', [0, 0, 0, 0, 0, 0, 0, 0, 1, 0, 0, 0, 0, 0, 0, 0, 0, 0, 0], 0.003436426116838488, 1.6666666666666667), 1385: (\"Roseanna's Grave (For Roseanna) (1997)\", [0, 0, 0, 0, 0, 1, 0, 0, 0, 0, 0, 0, 0, 0, 1, 0, 0, 0, 0], 0.006872852233676976, 2.8), 1386: ('Tetsuo II: Body Hammer (1992)', [0, 0, 0, 0, 0, 0, 0, 0, 0, 0, 0, 0, 0, 0, 0, 1, 0, 0, 0], 0.00859106529209622, 2.6666666666666665), 1387: ('Fall (1997)', [0, 0, 0, 0, 0, 0, 0, 0, 0, 0, 0, 0, 0, 0, 1, 0, 0, 0, 0], 0.003436426116838488, 2.0), 1388: ('Gabbeh (1996)', [0, 0, 0, 0, 0, 0, 0, 0, 1, 0, 0, 0, 0, 0, 0, 0, 0, 0, 0], 0.00859106529209622, 3.3333333333333335), 1389: ('Mondo (1996)', [0, 0, 0, 0, 0, 0, 0, 0, 1, 0, 0, 0, 0, 0, 0, 0, 0, 0, 0], 0.003436426116838488, 3.0), 1390: ('Innocent Sleep, The (1995)', [0, 0, 0, 0, 0, 0, 1, 0, 0, 0, 0, 0, 0, 0, 0, 0, 0, 0, 0], 0.001718213058419244, 2.0), 1391: ('For Ever Mozart (1996)', [0, 0, 0, 0, 0, 0, 0, 0, 1, 0, 0, 0, 0, 0, 0, 0, 0, 0, 0], 0.003436426116838488, 2.0), 1392: ('Locusts, The (1997)', [0, 0, 0, 0, 0, 0, 0, 0, 1, 0, 0, 0, 0, 0, 0, 0, 0, 0, 0], 0.006872852233676976, 2.0), 1393: ('Stag (1997)', [0, 1, 0, 0, 0, 0, 0, 0, 0, 0, 0, 0, 0, 0, 0, 0, 1, 0, 0], 0.013745704467353952, 2.111111111111111), 1394: ('Swept from the Sea (1997)', [0, 0, 0, 0, 0, 0, 0, 0, 0, 0, 0, 0, 0, 0, 1, 0, 0, 0, 0], 0.010309278350515464, 2.4285714285714284), 1395: ('Hurricane Streets (1998)', [0, 0, 0, 0, 0, 0, 0, 0, 1, 0, 0, 0, 0, 0, 0, 0, 0, 0, 0], 0.00859106529209622, 2.3333333333333335), 1396: ('Stonewall (1995)', [0, 0, 0, 0, 0, 0, 0, 0, 1, 0, 0, 0, 0, 0, 0, 0, 0, 0, 0], 0.006872852233676976, 4.2), 1397: ('Of Human Bondage (1934)', [0, 0, 0, 0, 0, 0, 0, 0, 1, 0, 0, 0, 0, 0, 0, 0, 0, 0, 0], 0.006872852233676976, 3.2), 1398: ('Anna (1996)', [0, 0, 0, 0, 0, 0, 0, 0, 1, 0, 0, 0, 0, 0, 0, 0, 0, 0, 0], 0.001718213058419244, 4.5), 1399: ('Stranger in the House (1997)', [0, 0, 0, 0, 0, 0, 0, 0, 0, 0, 0, 0, 0, 0, 0, 0, 1, 0, 0], 0.010309278350515464, 2.4285714285714284), 1400: ('Picture Bride (1995)', [0, 0, 0, 0, 0, 0, 0, 0, 1, 0, 0, 0, 0, 0, 1, 0, 0, 0, 0], 0.015463917525773196, 3.1), 1401: ('M. Butterfly (1993)', [0, 0, 0, 0, 0, 0, 0, 0, 1, 0, 0, 0, 0, 0, 0, 0, 0, 0, 0], 0.029209621993127148, 3.2222222222222223), 1402: ('Ciao, Professore! (1993)', [0, 0, 0, 0, 0, 0, 0, 0, 1, 0, 0, 0, 0, 0, 0, 0, 0, 0, 0], 0.005154639175257732, 2.75), 1403: ('Caro Diario (Dear Diary) (1994)', [0, 0, 0, 0, 0, 1, 0, 0, 1, 0, 0, 0, 0, 0, 0, 0, 0, 0, 0], 0.005154639175257732, 2.75), 1404: ('Withnail and I (1987)', [0, 0, 0, 0, 0, 1, 0, 0, 0, 0, 0, 0, 0, 0, 0, 0, 0, 0, 0], 0.020618556701030927, 3.230769230769231), 1405: (\"Boy's Life 2 (1997)\", [0, 0, 0, 0, 0, 0, 0, 0, 1, 0, 0, 0, 0, 0, 0, 0, 0, 0, 0], 0.00859106529209622, 3.3333333333333335), 1406: ('When Night Is Falling (1995)', [0, 0, 0, 0, 0, 0, 0, 0, 1, 0, 0, 0, 0, 0, 1, 0, 0, 0, 0], 0.006872852233676976, 3.4), 1407: ('Specialist, The (1994)', [0, 1, 0, 0, 0, 0, 0, 0, 0, 0, 0, 0, 0, 0, 0, 0, 0, 0, 0], 0.03264604810996564, 2.25), 1408: ('Gordy (1995)', [0, 0, 0, 0, 0, 1, 0, 0, 0, 0, 0, 0, 0, 0, 0, 0, 0, 0, 0], 0.003436426116838488, 1.0), 1409: ('Swan Princess, The (1994)', [0, 0, 0, 1, 1, 0, 0, 0, 0, 0, 0, 0, 0, 0, 0, 0, 0, 0, 0], 0.010309278350515464, 2.857142857142857), 1410: ('Harlem (1993)', [0, 0, 0, 0, 0, 0, 0, 0, 1, 0, 0, 0, 0, 0, 0, 0, 0, 0, 0], 0.005154639175257732, 2.75), 1411: ('Barbarella (1968)', [0, 0, 1, 0, 0, 0, 0, 0, 0, 0, 0, 0, 0, 0, 0, 1, 0, 0, 0], 0.04639175257731959, 2.5714285714285716), 1412: ('Land Before Time III: The Time of the Great Giving (1995) (V)', [0, 0, 0, 1, 1, 0, 0, 0, 0, 0, 0, 0, 0, 0, 0, 0, 0, 0, 0], 0.00859106529209622, 1.6666666666666667), 1413: ('Street Fighter (1994)', [0, 1, 0, 0, 0, 0, 0, 0, 0, 0, 0, 0, 0, 0, 0, 0, 0, 0, 0], 0.012027491408934709, 2.75), 1414: ('Coldblooded (1995)', [0, 1, 0, 0, 0, 0, 0, 0, 0, 0, 0, 0, 0, 0, 0, 0, 0, 0, 0], 0.0, 2.0), 1415: ('Next Karate Kid, The (1994)', [0, 1, 0, 0, 1, 0, 0, 0, 0, 0, 0, 0, 0, 0, 0, 0, 0, 0, 0], 0.013745704467353952, 2.4444444444444446), 1416: ('No Escape (1994)', [0, 1, 0, 0, 0, 0, 0, 0, 0, 0, 0, 0, 0, 0, 0, 1, 0, 0, 0], 0.006872852233676976, 2.4), 1417: ('Turning, The (1992)', [0, 0, 0, 0, 0, 0, 0, 0, 1, 0, 0, 0, 0, 0, 0, 0, 0, 0, 0], 0.001718213058419244, 2.5), 1418: ('Joy Luck Club, The (1993)', [0, 0, 0, 0, 0, 0, 0, 0, 1, 0, 0, 0, 0, 0, 0, 0, 0, 0, 0], 0.003436426116838488, 3.6666666666666665), 1419: ('Highlander III: The Sorcerer (1994)', [0, 1, 0, 0, 0, 0, 0, 0, 0, 0, 0, 0, 0, 0, 0, 1, 0, 0, 0], 0.02577319587628866, 2.125), 1420: (\"Gilligan's Island: The Movie (1998)\", [0, 0, 0, 0, 0, 1, 0, 0, 0, 0, 0, 0, 0, 0, 0, 0, 0, 0, 0], 0.003436426116838488, 1.3333333333333333), 1421: ('My Crazy Life (Mi vida loca) (1993)', [0, 0, 0, 0, 0, 0, 0, 0, 1, 0, 0, 0, 0, 0, 0, 0, 0, 0, 0], 0.01718213058419244, 3.1818181818181817), 1422: ('Suture (1993)', [0, 0, 0, 0, 0, 0, 0, 0, 0, 0, 1, 0, 0, 0, 0, 0, 1, 0, 0], 0.005154639175257732, 2.25), 1423: ('Walking Dead, The (1995)', [0, 0, 0, 0, 0, 0, 0, 0, 1, 0, 0, 0, 0, 0, 0, 0, 0, 1, 0], 0.005154639175257732, 2.25), 1424: ('I Like It Like That (1994)', [0, 0, 0, 0, 0, 1, 0, 0, 1, 0, 0, 0, 0, 0, 1, 0, 0, 0, 0], 0.003436426116838488, 2.3333333333333335), 1425: (\"I'll Do Anything (1994)\", [0, 0, 0, 0, 0, 1, 0, 0, 1, 0, 0, 0, 0, 0, 0, 0, 0, 0, 0], 0.015463917525773196, 2.6), 1426: ('Grace of My Heart (1996)', [0, 0, 0, 0, 0, 1, 0, 0, 1, 0, 0, 0, 0, 0, 0, 0, 0, 0, 0], 0.012027491408934709, 3.25), 1427: ('Drunks (1995)', [0, 0, 0, 0, 0, 0, 0, 0, 1, 0, 0, 0, 0, 0, 0, 0, 0, 0, 0], 0.006872852233676976, 2.8), 1428: ('SubUrbia (1997)', [0, 0, 0, 0, 0, 1, 0, 0, 0, 0, 0, 0, 0, 0, 0, 0, 0, 0, 0], 0.018900343642611683, 3.6666666666666665), 1429: ('Sliding Doors (1998)', [0, 0, 0, 0, 0, 0, 0, 0, 1, 0, 0, 0, 0, 0, 1, 0, 0, 0, 0], 0.005154639175257732, 2.75), 1430: ('Ill Gotten Gains (1997)', [0, 0, 0, 0, 0, 0, 0, 0, 1, 0, 0, 0, 0, 0, 0, 0, 0, 0, 0], 0.003436426116838488, 2.3333333333333335), 1431: ('Legal Deceit (1997)', [0, 0, 0, 0, 0, 0, 0, 0, 0, 0, 0, 0, 0, 0, 0, 0, 1, 0, 0], 0.006872852233676976, 3.4), 1432: ('Mighty, The (1998)', [0, 0, 0, 0, 0, 0, 0, 0, 1, 0, 0, 0, 0, 0, 0, 0, 0, 0, 0], 0.003436426116838488, 1.0), 1433: ('Men of Means (1998)', [0, 1, 0, 0, 0, 0, 0, 0, 1, 0, 0, 0, 0, 0, 0, 0, 0, 0, 0], 0.001718213058419244, 2.0), 1434: ('Shooting Fish (1997)', [0, 0, 0, 0, 0, 0, 0, 0, 0, 0, 0, 0, 0, 0, 1, 0, 0, 0, 0], 0.015463917525773196, 2.5), 1435: ('Steal Big, Steal Little (1995)', [0, 0, 0, 0, 0, 1, 0, 0, 0, 0, 0, 0, 0, 0, 0, 0, 0, 0, 0], 0.010309278350515464, 2.5714285714285716), 1436: ('Mr. Jones (1993)', [0, 0, 0, 0, 0, 0, 0, 0, 1, 0, 0, 0, 0, 0, 1, 0, 0, 0, 0], 0.001718213058419244, 2.5), 1437: ('House Party 3 (1994)', [0, 0, 0, 0, 0, 1, 0, 0, 0, 0, 0, 0, 0, 0, 0, 0, 0, 0, 0], 0.013745704467353952, 2.0), 1438: ('Panther (1995)', [0, 0, 0, 0, 0, 0, 0, 0, 1, 0, 0, 0, 0, 0, 0, 0, 0, 0, 0], 0.006872852233676976, 2.4), 1439: (\"Jason's Lyric (1994)\", [0, 0, 0, 0, 0, 0, 1, 0, 1, 0, 0, 0, 0, 0, 0, 0, 0, 0, 0], 0.012027491408934709, 3.0), 1440: ('Above the Rim (1994)', [0, 0, 0, 0, 0, 0, 0, 0, 1, 0, 0, 0, 0, 0, 0, 0, 0, 0, 0], 0.006872852233676976, 3.0), 1441: ('Moonlight and Valentino (1995)', [0, 0, 0, 0, 0, 0, 0, 0, 1, 0, 0, 0, 0, 0, 1, 0, 0, 0, 0], 0.010309278350515464, 2.5714285714285716), 1442: ('Scarlet Letter, The (1995)', [0, 0, 0, 0, 0, 0, 0, 0, 1, 0, 0, 0, 0, 0, 0, 0, 0, 0, 0], 0.006872852233676976, 2.4), 1443: ('8 Seconds (1994)', [0, 0, 0, 0, 0, 0, 0, 0, 1, 0, 0, 0, 0, 0, 0, 0, 0, 0, 0], 0.005154639175257732, 3.75), 1444: ('That Darn Cat! (1965)', [0, 0, 0, 0, 1, 1, 0, 0, 0, 0, 0, 0, 0, 1, 0, 0, 0, 0, 0], 0.030927835051546393, 2.473684210526316), 1445: ('Ladybird Ladybird (1994)', [0, 0, 0, 0, 0, 0, 0, 0, 1, 0, 0, 0, 0, 0, 0, 0, 0, 0, 0], 0.005154639175257732, 2.75), 1446: ('Bye Bye, Love (1995)', [0, 0, 0, 0, 0, 1, 0, 0, 0, 0, 0, 0, 0, 0, 0, 0, 0, 0, 0], 0.024054982817869417, 3.1333333333333333), 1447: ('Century (1993)', [0, 0, 0, 0, 0, 0, 0, 0, 1, 0, 0, 0, 0, 0, 0, 0, 0, 0, 0], 0.0, 3.0), 1448: ('My Favorite Season (1993)', [0, 0, 0, 0, 0, 0, 0, 0, 1, 0, 0, 0, 0, 0, 0, 0, 0, 0, 0], 0.003436426116838488, 3.6666666666666665), 1449: ('Pather Panchali (1955)', [0, 0, 0, 0, 0, 0, 0, 0, 1, 0, 0, 0, 0, 0, 0, 0, 0, 0, 0], 0.012027491408934709, 4.625), 1450: ('Golden Earrings (1947)', [0, 0, 1, 0, 0, 0, 0, 0, 0, 0, 0, 0, 0, 0, 1, 0, 0, 0, 0], 0.001718213058419244, 4.0), 1451: ('Foreign Correspondent (1940)', [0, 0, 0, 0, 0, 0, 0, 0, 0, 0, 0, 0, 0, 0, 0, 0, 1, 0, 0], 0.024054982817869417, 3.8666666666666667), 1452: ('Lady of Burlesque (1943)', [0, 0, 0, 0, 0, 1, 0, 0, 0, 0, 0, 0, 0, 1, 0, 0, 0, 0, 0], 0.0, 4.0), 1453: ('Angel on My Shoulder (1946)', [0, 0, 0, 0, 0, 0, 1, 0, 1, 0, 0, 0, 0, 0, 0, 0, 0, 0, 0], 0.0, 2.0), 1454: ('Angel and the Badman (1947)', [0, 0, 0, 0, 0, 0, 0, 0, 0, 0, 0, 0, 0, 0, 0, 0, 0, 0, 1], 0.00859106529209622, 3.0), 1455: ('Outlaw, The (1943)', [0, 0, 0, 0, 0, 0, 0, 0, 0, 0, 0, 0, 0, 0, 0, 0, 0, 0, 1], 0.001718213058419244, 2.5), 1456: ('Beat the Devil (1954)', [0, 0, 0, 0, 0, 1, 0, 0, 1, 0, 0, 0, 0, 0, 0, 0, 0, 0, 0], 0.010309278350515464, 3.7142857142857144), 1457: ('Love Is All There Is (1996)', [0, 0, 0, 0, 0, 1, 0, 0, 1, 0, 0, 0, 0, 0, 0, 0, 0, 0, 0], 0.0, 3.0), 1458: ('Damsel in Distress, A (1937)', [0, 0, 0, 0, 0, 1, 0, 0, 0, 0, 0, 0, 1, 0, 1, 0, 0, 0, 0], 0.0, 4.0), 1459: ('Madame Butterfly (1995)', [0, 0, 0, 0, 0, 0, 0, 0, 0, 0, 0, 0, 1, 0, 0, 0, 0, 0, 0], 0.010309278350515464, 3.5714285714285716), 1460: ('Sleepover (1995)', [0, 0, 0, 0, 0, 1, 0, 0, 1, 0, 0, 0, 0, 0, 0, 0, 0, 0, 0], 0.0, 3.0), 1461: ('Here Comes Cookie (1935)', [0, 0, 0, 0, 0, 1, 0, 0, 0, 0, 0, 0, 0, 0, 0, 0, 0, 0, 0], 0.0, 2.0), 1462: ('Thieves (Voleurs, Les) (1996)', [0, 0, 0, 0, 0, 0, 1, 0, 1, 0, 0, 0, 0, 0, 1, 0, 0, 0, 0], 0.010309278350515464, 3.7142857142857144), 1463: ('Boys, Les (1997)', [0, 0, 0, 0, 0, 1, 0, 0, 0, 0, 0, 0, 0, 0, 0, 0, 0, 0, 0], 0.003436426116838488, 3.3333333333333335), 1464: ('Stars Fell on Henrietta, The (1995)', [0, 0, 0, 0, 0, 0, 0, 0, 1, 0, 0, 0, 0, 0, 0, 0, 0, 0, 0], 0.003436426116838488, 2.3333333333333335), 1465: ('Last Summer in the Hamptons (1995)', [0, 0, 0, 0, 0, 1, 0, 0, 1, 0, 0, 0, 0, 0, 0, 0, 0, 0, 0], 0.003436426116838488, 2.3333333333333335), 1466: (\"Margaret's Museum (1995)\", [0, 0, 0, 0, 0, 0, 0, 0, 1, 0, 0, 0, 0, 0, 0, 0, 0, 0, 0], 0.00859106529209622, 4.0), 1467: ('Saint of Fort Washington, The (1993)', [0, 0, 0, 0, 0, 0, 0, 0, 1, 0, 0, 0, 0, 0, 0, 0, 0, 0, 0], 0.001718213058419244, 5.0), 1468: ('Cure, The (1995)', [0, 0, 0, 0, 0, 0, 0, 0, 1, 0, 0, 0, 0, 0, 0, 0, 0, 0, 0], 0.00859106529209622, 3.3333333333333335), 1469: ('Tom and Huck (1995)', [0, 0, 1, 0, 1, 0, 0, 0, 0, 0, 0, 0, 0, 0, 0, 0, 0, 0, 0], 0.018900343642611683, 3.1666666666666665), 1470: ('Gumby: The Movie (1995)', [0, 0, 0, 1, 1, 0, 0, 0, 0, 0, 0, 0, 0, 0, 0, 0, 0, 0, 0], 0.006872852233676976, 2.6), 1471: ('Hideaway (1995)', [0, 0, 0, 0, 0, 0, 0, 0, 0, 0, 0, 0, 0, 0, 0, 0, 1, 0, 0], 0.013745704467353952, 2.4444444444444446), 1472: ('Visitors, The (Visiteurs, Les) (1993)', [0, 0, 0, 0, 0, 1, 0, 0, 0, 0, 0, 0, 0, 0, 0, 1, 0, 0, 0], 0.001718213058419244, 3.5), 1473: ('Little Princess, The (1939)', [0, 0, 0, 0, 1, 0, 0, 0, 1, 0, 0, 0, 0, 0, 0, 0, 0, 0, 0], 0.013745704467353952, 3.5555555555555554), 1474: ('Nina Takes a Lover (1994)', [0, 0, 0, 0, 0, 1, 0, 0, 0, 0, 0, 0, 0, 0, 1, 0, 0, 0, 0], 0.00859106529209622, 2.8333333333333335), 1475: ('Bhaji on the Beach (1993)', [0, 0, 0, 0, 0, 1, 0, 0, 1, 0, 0, 0, 0, 0, 0, 0, 0, 0, 0], 0.012027491408934709, 2.875), 1476: ('Raw Deal (1948)', [0, 0, 0, 0, 0, 0, 0, 0, 0, 0, 1, 0, 0, 0, 0, 0, 0, 0, 0], 0.0, 2.0), 1477: ('Nightwatch (1997)', [0, 0, 0, 0, 0, 0, 0, 0, 0, 0, 0, 1, 0, 0, 0, 0, 1, 0, 0], 0.001718213058419244, 2.5), 1478: ('Dead Presidents (1995)', [0, 1, 0, 0, 0, 0, 1, 0, 1, 0, 0, 0, 0, 0, 0, 0, 0, 0, 0], 0.029209621993127148, 2.7222222222222223), 1479: ('Reckless (1995)', [0, 0, 0, 0, 0, 1, 0, 0, 0, 0, 0, 0, 0, 0, 0, 0, 0, 0, 0], 0.012027491408934709, 2.75), 1480: ('Herbie Rides Again (1974)', [0, 0, 1, 0, 1, 1, 0, 0, 0, 0, 0, 0, 0, 0, 0, 0, 0, 0, 0], 0.01718213058419244, 2.272727272727273), 1481: ('S.F.W. (1994)', [0, 0, 0, 0, 0, 0, 0, 0, 1, 0, 0, 0, 0, 0, 0, 0, 0, 0, 0], 0.001718213058419244, 3.0), 1482: ('Gate of Heavenly Peace, The (1995)', [0, 0, 0, 0, 0, 0, 0, 1, 0, 0, 0, 0, 0, 0, 0, 0, 0, 0, 0], 0.0, 4.0), 1483: ('Man in the Iron Mask, The (1998)', [0, 1, 0, 0, 0, 0, 0, 0, 1, 0, 0, 0, 0, 0, 1, 0, 0, 0, 0], 0.018900343642611683, 3.4166666666666665), 1484: ('Jerky Boys, The (1994)', [0, 1, 0, 0, 0, 1, 0, 0, 0, 0, 0, 0, 0, 0, 0, 0, 0, 0, 0], 0.003436426116838488, 2.6666666666666665), 1485: ('Colonel Chabert, Le (1994)', [0, 0, 0, 0, 0, 0, 0, 0, 1, 0, 0, 0, 0, 0, 1, 0, 0, 1, 0], 0.005154639175257732, 3.5), 1486: ('Girl in the Cadillac (1995)', [0, 0, 0, 0, 0, 0, 0, 0, 1, 0, 0, 0, 0, 0, 0, 0, 0, 0, 0], 0.0, 1.0), 1487: ('Even Cowgirls Get the Blues (1993)', [0, 0, 0, 0, 0, 1, 0, 0, 0, 0, 0, 0, 0, 0, 1, 0, 0, 0, 0], 0.006872852233676976, 2.0), 1488: ('Germinal (1993)', [0, 0, 0, 0, 0, 0, 0, 0, 1, 0, 0, 0, 0, 0, 0, 0, 0, 0, 0], 0.005154639175257732, 3.0), 1489: ('Chasers (1994)', [0, 0, 0, 0, 0, 1, 0, 0, 0, 0, 0, 0, 0, 0, 0, 0, 0, 0, 0], 0.006872852233676976, 2.2), 1490: ('Fausto (1993)', [0, 0, 0, 0, 0, 1, 0, 0, 0, 0, 0, 0, 0, 0, 0, 0, 0, 0, 0], 0.003436426116838488, 3.0), 1491: ('Tough and Deadly (1995)', [0, 1, 0, 0, 0, 0, 0, 0, 1, 0, 0, 0, 0, 0, 0, 0, 1, 0, 0], 0.001718213058419244, 3.0), 1492: ('Window to Paris (1994)', [0, 0, 0, 0, 0, 1, 0, 0, 0, 0, 0, 0, 0, 0, 0, 0, 0, 0, 0], 0.0, 4.0), 1493: ('Modern Affair, A (1995)', [0, 0, 0, 0, 0, 0, 0, 0, 0, 0, 0, 0, 0, 0, 1, 0, 0, 0, 0], 0.0, 1.0), 1494: ('Mostro, Il (1994)', [0, 0, 0, 0, 0, 1, 0, 0, 0, 0, 0, 0, 0, 0, 0, 0, 0, 0, 0], 0.0, 1.0), 1495: ('Flirt (1995)', [0, 0, 0, 0, 0, 0, 0, 0, 1, 0, 0, 0, 0, 0, 0, 0, 0, 0, 0], 0.006872852233676976, 3.6), 1496: ('Carpool (1996)', [0, 0, 0, 0, 0, 1, 1, 0, 0, 0, 0, 0, 0, 0, 0, 0, 0, 0, 0], 0.006872852233676976, 2.8), 1497: ('Line King: Al Hirschfeld, The (1996)', [0, 0, 0, 0, 0, 0, 0, 1, 0, 0, 0, 0, 0, 0, 0, 0, 0, 0, 0], 0.001718213058419244, 3.0), 1498: ('Farmer & Chase (1995)', [0, 0, 0, 0, 0, 1, 0, 0, 0, 0, 0, 0, 0, 0, 0, 0, 0, 0, 0], 0.0, 4.0), 1499: ('Grosse Fatigue (1994)', [0, 0, 0, 0, 0, 1, 0, 0, 0, 0, 0, 0, 0, 0, 0, 0, 0, 0, 0], 0.005154639175257732, 3.25), 1500: ('Santa with Muscles (1996)', [0, 0, 0, 0, 0, 1, 0, 0, 0, 0, 0, 0, 0, 0, 0, 0, 0, 0, 0], 0.001718213058419244, 5.0), 1501: ('Prisoner of the Mountains (Kavkazsky Plennik) (1996)', [0, 0, 0, 0, 0, 0, 0, 0, 0, 0, 0, 0, 0, 0, 0, 0, 0, 1, 0], 0.006872852233676976, 3.0), 1502: ('Naked in New York (1994)', [0, 0, 0, 0, 0, 1, 0, 0, 0, 0, 0, 0, 0, 0, 1, 0, 0, 0, 0], 0.001718213058419244, 1.5), 1503: ('Gold Diggers: The Secret of Bear Mountain (1995)', [0, 0, 1, 0, 1, 0, 0, 0, 0, 0, 0, 0, 0, 0, 0, 0, 0, 0, 0], 0.015463917525773196, 3.1), 1504: ('Bewegte Mann, Der (1994)', [0, 0, 0, 0, 0, 1, 0, 0, 0, 0, 0, 0, 0, 0, 0, 0, 0, 0, 0], 0.003436426116838488, 3.6666666666666665), 1505: ('Killer: A Journal of Murder (1995)', [0, 0, 0, 0, 0, 0, 1, 0, 1, 0, 0, 0, 0, 0, 0, 0, 0, 0, 0], 0.0, 4.0), 1506: ('Nelly & Monsieur Arnaud (1995)', [0, 0, 0, 0, 0, 0, 0, 0, 1, 0, 0, 0, 0, 0, 0, 0, 0, 0, 0], 0.003436426116838488, 3.6666666666666665), 1507: ('Three Lives and Only One Death (1996)', [0, 0, 0, 0, 0, 1, 0, 0, 0, 0, 0, 0, 0, 0, 0, 0, 0, 0, 0], 0.0, 3.0), 1508: ('Babysitter, The (1995)', [0, 0, 0, 0, 0, 0, 0, 0, 1, 0, 0, 0, 0, 0, 0, 0, 1, 0, 0], 0.003436426116838488, 2.3333333333333335), 1509: ('Getting Even with Dad (1994)', [0, 0, 0, 0, 0, 1, 0, 0, 0, 0, 0, 0, 0, 0, 0, 0, 0, 0, 0], 0.006872852233676976, 1.6), 1510: ('Mad Dog Time (1996)', [0, 0, 0, 0, 0, 0, 1, 0, 0, 0, 0, 0, 0, 0, 0, 0, 0, 0, 0], 0.0, 3.0), 1511: ('Children of the Revolution (1996)', [0, 0, 0, 0, 0, 1, 0, 0, 0, 0, 0, 0, 0, 0, 0, 0, 0, 0, 0], 0.006872852233676976, 3.2), 1512: ('World of Apu, The (Apur Sansar) (1959)', [0, 0, 0, 0, 0, 0, 0, 0, 1, 0, 0, 0, 0, 0, 0, 0, 0, 0, 0], 0.00859106529209622, 4.0), 1513: ('Sprung (1997)', [0, 0, 0, 0, 0, 1, 0, 0, 0, 0, 0, 0, 0, 0, 0, 0, 0, 0, 0], 0.003436426116838488, 2.0), 1514: ('Dream With the Fishes (1997)', [0, 0, 0, 0, 0, 0, 0, 0, 1, 0, 0, 0, 0, 0, 0, 0, 0, 0, 0], 0.010309278350515464, 3.142857142857143), 1515: ('Wings of Courage (1995)', [0, 0, 1, 0, 0, 0, 0, 0, 0, 0, 0, 0, 0, 0, 1, 0, 0, 0, 0], 0.0, 4.0), 1516: ('Wedding Gift, The (1994)', [0, 0, 0, 0, 0, 0, 0, 0, 1, 0, 0, 0, 0, 0, 0, 0, 0, 0, 0], 0.003436426116838488, 4.0), 1517: ('Race the Sun (1996)', [0, 0, 0, 0, 0, 0, 0, 0, 1, 0, 0, 0, 0, 0, 0, 0, 0, 0, 0], 0.006872852233676976, 2.8), 1518: ('Losing Isaiah (1995)', [0, 0, 0, 0, 0, 0, 0, 0, 1, 0, 0, 0, 0, 0, 0, 0, 0, 0, 0], 0.018900343642611683, 3.0), 1519: ('New Jersey Drive (1995)', [0, 0, 0, 0, 0, 0, 1, 0, 1, 0, 0, 0, 0, 0, 0, 0, 0, 0, 0], 0.001718213058419244, 3.0), 1520: ('Fear, The (1995)', [0, 0, 0, 0, 0, 0, 0, 0, 0, 0, 0, 1, 0, 0, 0, 0, 0, 0, 0], 0.0, 3.0), 1521: ('Mr. Wonderful (1993)', [0, 0, 0, 0, 0, 1, 0, 0, 0, 0, 0, 0, 0, 0, 1, 0, 0, 0, 0], 0.005154639175257732, 3.0), 1522: ('Trial by Jury (1994)', [0, 0, 0, 0, 0, 0, 0, 0, 0, 0, 0, 0, 0, 0, 0, 0, 1, 0, 0], 0.010309278350515464, 2.4285714285714284), 1523: ('Good Man in Africa, A (1994)', [0, 1, 1, 0, 0, 0, 0, 0, 0, 0, 0, 0, 0, 0, 0, 0, 0, 0, 0], 0.001718213058419244, 3.0), 1524: ('Kaspar Hauser (1993)', [0, 0, 0, 0, 0, 0, 0, 0, 1, 0, 0, 0, 0, 0, 0, 0, 0, 0, 0], 0.012027491408934709, 4.25), 1525: ('Object of My Affection, The (1998)', [0, 0, 0, 0, 0, 1, 0, 0, 0, 0, 0, 0, 0, 0, 1, 0, 0, 0, 0], 0.0, 4.0), 1526: ('Witness (1985)', [0, 0, 0, 0, 0, 0, 0, 0, 1, 0, 0, 0, 0, 0, 1, 0, 1, 0, 0], 0.0, 4.0), 1527: ('Senseless (1998)', [0, 0, 0, 0, 0, 1, 0, 0, 0, 0, 0, 0, 0, 0, 0, 0, 0, 0, 0], 0.010309278350515464, 2.4285714285714284), 1528: ('Nowhere (1997)', [0, 0, 0, 0, 0, 0, 0, 0, 1, 0, 0, 0, 0, 0, 0, 0, 0, 0, 0], 0.003436426116838488, 2.3333333333333335), 1529: ('Underground (1995)', [0, 0, 0, 0, 0, 0, 0, 0, 0, 0, 0, 0, 0, 0, 0, 0, 0, 1, 0], 0.006872852233676976, 2.8), 1530: ('Jefferson in Paris (1995)', [0, 0, 0, 0, 0, 0, 0, 0, 1, 0, 0, 0, 0, 0, 0, 0, 0, 0, 0], 0.006872852233676976, 2.0), 1531: ('Far From Home: The Adventures of Yellow Dog (1995)', [0, 0, 1, 0, 1, 0, 0, 0, 0, 0, 0, 0, 0, 0, 0, 0, 0, 0, 0], 0.010309278350515464, 3.2857142857142856), 1532: ('Foreign Student (1994)', [0, 0, 0, 0, 0, 0, 0, 0, 1, 0, 0, 0, 0, 0, 0, 0, 0, 0, 0], 0.001718213058419244, 2.0), 1533: (\"I Don't Want to Talk About It (De eso no se habla) (1993)\", [0, 0, 0, 0, 0, 0, 0, 0, 1, 0, 0, 0, 0, 0, 0, 0, 0, 0, 0], 0.0, 4.0), 1534: ('Twin Town (1997)', [0, 0, 0, 0, 0, 1, 1, 0, 0, 0, 0, 0, 0, 0, 0, 0, 0, 0, 0], 0.00859106529209622, 2.1666666666666665), 1535: (\"Enfer, L' (1994)\", [0, 0, 0, 0, 0, 0, 0, 0, 1, 0, 0, 0, 0, 0, 0, 0, 0, 0, 0], 0.005154639175257732, 3.0), 1536: ('Aiqing wansui (1994)', [0, 0, 0, 0, 0, 0, 0, 0, 1, 0, 0, 0, 0, 0, 0, 0, 0, 0, 0], 0.0, 5.0), 1537: ('Cosi (1996)', [0, 0, 0, 0, 0, 1, 0, 0, 0, 0, 0, 0, 0, 0, 0, 0, 0, 0, 0], 0.005154639175257732, 4.0), 1538: ('All Over Me (1997)', [0, 0, 0, 0, 0, 0, 0, 0, 1, 0, 0, 0, 0, 0, 0, 0, 0, 0, 0], 0.003436426116838488, 3.0), 1539: ('Being Human (1993)', [0, 0, 0, 0, 0, 0, 0, 0, 1, 0, 0, 0, 0, 0, 0, 0, 0, 0, 0], 0.005154639175257732, 1.75), 1540: ('Amazing Panda Adventure, The (1995)', [0, 0, 1, 0, 1, 0, 0, 0, 0, 0, 0, 0, 0, 0, 0, 0, 0, 0, 0], 0.015463917525773196, 2.8), 1541: ('Beans of Egypt, Maine, The (1994)', [0, 0, 0, 0, 0, 0, 0, 0, 1, 0, 0, 0, 0, 0, 0, 0, 0, 0, 0], 0.001718213058419244, 3.5), 1542: ('Scarlet Letter, The (1926)', [0, 0, 0, 0, 0, 0, 0, 0, 1, 0, 0, 0, 0, 0, 0, 0, 0, 0, 0], 0.001718213058419244, 3.0), 1543: ('Johns (1996)', [0, 0, 0, 0, 0, 0, 0, 0, 1, 0, 0, 0, 0, 0, 0, 0, 0, 0, 0], 0.0, 3.0), 1544: ('It Takes Two (1995)', [0, 0, 0, 0, 0, 1, 0, 0, 0, 0, 0, 0, 0, 0, 0, 0, 0, 0, 0], 0.003436426116838488, 2.6666666666666665), 1545: ('Frankie Starlight (1995)', [0, 0, 0, 0, 0, 0, 0, 0, 1, 0, 0, 0, 0, 0, 1, 0, 0, 0, 0], 0.005154639175257732, 2.5), 1546: ('Shadows (Cienie) (1988)', [0, 0, 0, 0, 0, 0, 0, 0, 1, 0, 0, 0, 0, 0, 0, 0, 0, 0, 0], 0.0, 1.0), 1547: ('Show, The (1995)', [0, 0, 0, 0, 0, 0, 0, 1, 0, 0, 0, 0, 0, 0, 0, 0, 0, 0, 0], 0.001718213058419244, 3.0), 1548: ('The Courtyard (1995)', [0, 1, 0, 0, 0, 0, 0, 0, 0, 0, 0, 0, 0, 0, 0, 0, 1, 0, 0], 0.0, 1.0), 1549: ('Dream Man (1995)', [0, 0, 0, 0, 0, 0, 0, 0, 0, 0, 0, 0, 0, 0, 0, 0, 1, 0, 0], 0.001718213058419244, 1.5), 1550: ('Destiny Turns on the Radio (1995)', [0, 0, 0, 0, 0, 1, 0, 0, 0, 0, 0, 0, 0, 0, 0, 0, 0, 0, 0], 0.001718213058419244, 3.0), 1551: ('Glass Shield, The (1994)', [0, 0, 0, 0, 0, 0, 0, 0, 1, 0, 0, 0, 0, 0, 0, 0, 0, 0, 0], 0.001718213058419244, 2.0), 1552: ('Hunted, The (1995)', [0, 1, 0, 0, 0, 0, 0, 0, 0, 0, 0, 0, 0, 0, 0, 0, 0, 0, 0], 0.003436426116838488, 2.0), 1553: ('Underneath, The (1995)', [0, 0, 0, 0, 0, 0, 0, 0, 0, 0, 0, 0, 0, 1, 0, 0, 1, 0, 0], 0.005154639175257732, 2.75), 1554: ('Safe Passage (1994)', [0, 0, 0, 0, 0, 0, 0, 0, 1, 0, 0, 0, 0, 0, 0, 0, 0, 0, 0], 0.001718213058419244, 3.0), 1555: ('Secret Adventures of Tom Thumb, The (1993)', [0, 0, 1, 0, 1, 0, 0, 0, 0, 0, 0, 0, 0, 0, 0, 0, 0, 0, 0], 0.006872852233676976, 2.6), 1556: ('Condition Red (1995)', [0, 1, 0, 0, 0, 0, 0, 0, 1, 0, 0, 0, 0, 0, 0, 0, 1, 0, 0], 0.001718213058419244, 2.0), 1557: ('Yankee Zulu (1994)', [0, 0, 0, 0, 0, 1, 0, 0, 1, 0, 0, 0, 0, 0, 0, 0, 0, 0, 0], 0.0, 1.0), 1558: ('Aparajito (1956)', [0, 0, 0, 0, 0, 0, 0, 0, 1, 0, 0, 0, 0, 0, 0, 0, 0, 0, 0], 0.010309278350515464, 3.5714285714285716), 1559: ('Hostile Intentions (1994)', [0, 1, 0, 0, 0, 0, 0, 0, 1, 0, 0, 0, 0, 0, 0, 0, 1, 0, 0], 0.0, 1.0), 1560: ('Clean Slate (Coup de Torchon) (1981)', [0, 0, 0, 0, 0, 0, 1, 0, 0, 0, 0, 0, 0, 0, 0, 0, 0, 0, 0], 0.005154639175257732, 2.75), 1561: ('Tigrero: A Film That Was Never Made (1994)', [0, 0, 0, 0, 0, 0, 0, 1, 1, 0, 0, 0, 0, 0, 0, 0, 0, 0, 0], 0.0, 1.0), 1562: (\"Eye of Vichy, The (Oeil de Vichy, L') (1993)\", [0, 0, 0, 0, 0, 0, 0, 1, 0, 0, 0, 0, 0, 0, 0, 0, 0, 0, 0], 0.0, 1.0), 1563: ('Promise, The (Versprechen, Das) (1994)', [0, 0, 0, 0, 0, 0, 0, 0, 0, 0, 0, 0, 0, 0, 1, 0, 0, 0, 0], 0.0, 1.0), 1564: ('To Cross the Rubicon (1991)', [0, 0, 0, 0, 0, 0, 0, 0, 1, 0, 0, 0, 0, 0, 0, 0, 0, 0, 0], 0.0, 1.0), 1565: ('Daens (1992)', [0, 0, 0, 0, 0, 0, 0, 0, 1, 0, 0, 0, 0, 0, 0, 0, 0, 0, 0], 0.0, 1.0), 1566: ('Man from Down Under, The (1943)', [0, 0, 0, 0, 0, 0, 0, 0, 1, 0, 0, 0, 0, 0, 0, 0, 0, 0, 0], 0.0, 1.0), 1567: ('Careful (1992)', [0, 0, 0, 0, 0, 1, 0, 0, 0, 0, 0, 0, 0, 0, 0, 0, 0, 0, 0], 0.0, 1.0), 1568: ('Vermont Is For Lovers (1992)', [0, 0, 0, 0, 0, 1, 0, 0, 0, 0, 0, 0, 0, 0, 1, 0, 0, 0, 0], 0.0, 1.0), 1569: ('Vie est belle, La (Life is Rosey) (1987)', [0, 0, 0, 0, 0, 1, 0, 0, 1, 0, 0, 0, 0, 0, 0, 0, 0, 0, 0], 0.0, 1.0), 1570: ('Quartier Mozart (1992)', [0, 0, 0, 0, 0, 1, 0, 0, 0, 0, 0, 0, 0, 0, 0, 0, 0, 0, 0], 0.0, 1.0), 1571: ('Touki Bouki (Journey of the Hyena) (1973)', [0, 0, 0, 0, 0, 0, 0, 0, 1, 0, 0, 0, 0, 0, 0, 0, 0, 0, 0], 0.0, 1.0), 1572: (\"Wend Kuuni (God's Gift) (1982)\", [0, 0, 0, 0, 0, 0, 0, 0, 1, 0, 0, 0, 0, 0, 0, 0, 0, 0, 0], 0.0, 1.0), 1573: ('Spirits of the Dead (Tre passi nel delirio) (1968)', [0, 0, 0, 0, 0, 0, 0, 0, 0, 0, 0, 1, 0, 0, 0, 0, 0, 0, 0], 0.001718213058419244, 2.5), 1574: (\"Pharaoh's Army (1995)\", [0, 0, 0, 0, 0, 0, 0, 0, 0, 0, 0, 0, 0, 0, 0, 0, 0, 1, 0], 0.0, 1.0), 1575: ('I, Worst of All (Yo, la peor de todas) (1990)', [0, 0, 0, 0, 0, 0, 0, 0, 1, 0, 0, 0, 0, 0, 0, 0, 0, 0, 0], 0.0, 1.0), 1576: ('Hungarian Fairy Tale, A (1987)', [0, 0, 0, 0, 0, 0, 0, 0, 0, 1, 0, 0, 0, 0, 0, 0, 0, 0, 0], 0.0, 1.0), 1577: ('Death in the Garden (Mort en ce jardin, La) (1956)', [0, 0, 0, 0, 0, 0, 0, 0, 1, 0, 0, 0, 0, 0, 0, 0, 0, 0, 0], 0.0, 1.0), 1578: ('Collectionneuse, La (1967)', [0, 0, 0, 0, 0, 0, 0, 0, 1, 0, 0, 0, 0, 0, 0, 0, 0, 0, 0], 0.001718213058419244, 2.0), 1579: ('Baton Rouge (1988)', [0, 0, 0, 0, 0, 0, 0, 0, 0, 0, 0, 0, 0, 0, 0, 0, 1, 0, 0], 0.0, 1.0), 1580: ('Liebelei (1933)', [0, 0, 0, 0, 0, 0, 0, 0, 0, 0, 0, 0, 0, 0, 1, 0, 0, 0, 0], 0.0, 1.0), 1581: ('Woman in Question, The (1950)', [0, 0, 0, 0, 0, 0, 0, 0, 0, 0, 0, 0, 0, 1, 0, 0, 0, 0, 0], 0.0, 1.0), 1582: ('T-Men (1947)', [0, 0, 0, 0, 0, 0, 0, 0, 0, 0, 1, 0, 0, 0, 0, 0, 0, 0, 0], 0.0, 1.0), 1583: ('Invitation, The (Zaproszenie) (1986)', [0, 0, 0, 0, 0, 0, 0, 0, 1, 0, 0, 0, 0, 0, 0, 0, 0, 0, 0], 0.0, 1.0), 1584: ('Symphonie pastorale, La (1946)', [0, 0, 0, 0, 0, 0, 0, 0, 1, 0, 0, 0, 0, 0, 0, 0, 0, 0, 0], 0.0, 1.0), 1585: ('American Dream (1990)', [0, 0, 0, 0, 0, 0, 0, 1, 0, 0, 0, 0, 0, 0, 0, 0, 0, 0, 0], 0.001718213058419244, 2.5), 1586: ('Lashou shentan (1992)', [0, 1, 0, 0, 0, 0, 1, 0, 1, 0, 0, 0, 0, 0, 0, 0, 0, 0, 0], 0.0, 1.0), 1587: ('Terror in a Texas Town (1958)', [0, 0, 0, 0, 0, 0, 0, 0, 0, 0, 0, 0, 0, 0, 0, 0, 0, 0, 1], 0.0, 1.0), 1588: ('Salut cousin! (1996)', [0, 0, 0, 0, 0, 1, 0, 0, 1, 0, 0, 0, 0, 0, 0, 0, 0, 0, 0], 0.001718213058419244, 2.0), 1589: ('Schizopolis (1996)', [0, 0, 0, 0, 0, 1, 0, 0, 0, 0, 0, 0, 0, 0, 0, 0, 0, 0, 0], 0.005154639175257732, 3.0), 1590: ('To Have, or Not (1995)', [0, 0, 0, 0, 0, 0, 0, 0, 1, 0, 0, 0, 0, 0, 0, 0, 0, 0, 0], 0.001718213058419244, 2.0), 1591: ('Duoluo tianshi (1995)', [0, 0, 0, 0, 0, 0, 0, 0, 1, 0, 0, 0, 0, 0, 0, 0, 0, 0, 0], 0.00859106529209622, 3.1666666666666665), 1592: ('Magic Hour, The (1998)', [0, 0, 0, 0, 0, 0, 0, 0, 1, 0, 0, 0, 0, 0, 0, 0, 0, 0, 0], 0.006872852233676976, 3.6), 1593: ('Death in Brunswick (1991)', [0, 0, 0, 0, 0, 1, 0, 0, 0, 0, 0, 0, 0, 0, 0, 0, 0, 0, 0], 0.0, 4.0), 1594: ('Everest (1998)', [0, 0, 0, 0, 0, 0, 0, 1, 0, 0, 0, 0, 0, 0, 0, 0, 0, 0, 0], 0.001718213058419244, 4.5), 1595: ('Shopping (1994)', [0, 1, 0, 0, 0, 0, 0, 0, 0, 0, 0, 0, 0, 0, 0, 0, 1, 0, 0], 0.0, 2.0), 1596: ('Nemesis 2: Nebula (1995)', [0, 1, 0, 0, 0, 0, 0, 0, 0, 0, 0, 0, 0, 0, 0, 1, 1, 0, 0], 0.0, 2.0), 1597: ('Romper Stomper (1992)', [0, 1, 0, 0, 0, 0, 0, 0, 1, 0, 0, 0, 0, 0, 0, 0, 0, 0, 0], 0.006872852233676976, 3.0), 1598: ('City of Industry (1997)', [0, 0, 0, 0, 0, 0, 1, 0, 0, 0, 0, 0, 0, 0, 0, 0, 1, 0, 0], 0.00859106529209622, 2.5), 1599: (\"Someone Else's America (1995)\", [0, 0, 0, 0, 0, 0, 0, 0, 1, 0, 0, 0, 0, 0, 0, 0, 0, 0, 0], 0.0, 5.0), 1600: ('Guantanamera (1994)', [0, 0, 0, 0, 0, 1, 0, 0, 0, 0, 0, 0, 0, 0, 0, 0, 0, 0, 0], 0.005154639175257732, 3.75), 1601: ('Office Killer (1997)', [0, 0, 0, 0, 0, 0, 0, 0, 0, 0, 0, 0, 0, 0, 0, 0, 1, 0, 0], 0.0, 1.0), 1602: ('Price Above Rubies, A (1998)', [0, 0, 0, 0, 0, 0, 0, 0, 1, 0, 0, 0, 0, 0, 0, 0, 0, 0, 0], 0.003436426116838488, 3.3333333333333335), 1603: ('Angela (1995)', [0, 0, 0, 0, 0, 0, 0, 0, 1, 0, 0, 0, 0, 0, 0, 0, 0, 0, 0], 0.0, 3.0), 1604: ('He Walked by Night (1948)', [0, 0, 0, 0, 0, 0, 1, 0, 0, 0, 1, 0, 0, 0, 0, 0, 1, 0, 0], 0.0, 4.0), 1605: ('Love Serenade (1996)', [0, 0, 0, 0, 0, 1, 0, 0, 0, 0, 0, 0, 0, 0, 0, 0, 0, 0, 0], 0.005154639175257732, 3.0), 1606: ('Deceiver (1997)', [0, 0, 0, 0, 0, 0, 1, 0, 0, 0, 0, 0, 0, 0, 0, 0, 0, 0, 0], 0.0, 2.0), 1607: ('Hurricane Streets (1998)', [0, 0, 0, 0, 0, 0, 0, 0, 1, 0, 0, 0, 0, 0, 0, 0, 0, 0, 0], 0.003436426116838488, 3.3333333333333335), 1608: ('Buddy (1997)', [0, 0, 1, 0, 1, 0, 0, 0, 1, 0, 0, 0, 0, 0, 0, 0, 0, 0, 0], 0.005154639175257732, 2.25), 1609: ('B*A*P*S (1997)', [0, 0, 0, 0, 0, 1, 0, 0, 0, 0, 0, 0, 0, 0, 0, 0, 0, 0, 0], 0.003436426116838488, 1.6666666666666667), 1610: ('Truth or Consequences, N.M. (1997)', [0, 1, 0, 0, 0, 0, 1, 0, 0, 0, 0, 0, 0, 0, 1, 0, 0, 0, 0], 0.003436426116838488, 2.0), 1611: ('Intimate Relations (1996)', [0, 0, 0, 0, 0, 1, 0, 0, 0, 0, 0, 0, 0, 0, 0, 0, 0, 0, 0], 0.001718213058419244, 3.0), 1612: ('Leading Man, The (1996)', [0, 0, 0, 0, 0, 0, 0, 0, 0, 0, 0, 0, 0, 0, 1, 0, 0, 0, 0], 0.005154639175257732, 3.75), 1613: ('Tokyo Fist (1995)', [0, 1, 0, 0, 0, 0, 0, 0, 1, 0, 0, 0, 0, 0, 0, 0, 0, 0, 0], 0.0, 4.0), 1614: ('Reluctant Debutante, The (1958)', [0, 0, 0, 0, 0, 1, 0, 0, 1, 0, 0, 0, 0, 0, 0, 0, 0, 0, 0], 0.0, 3.0), 1615: ('Warriors of Virtue (1997)', [0, 1, 1, 0, 1, 0, 0, 0, 0, 1, 0, 0, 0, 0, 0, 0, 0, 0, 0], 0.015463917525773196, 3.0), 1616: ('Desert Winds (1995)', [0, 0, 0, 0, 0, 0, 0, 0, 1, 0, 0, 0, 0, 0, 0, 0, 0, 0, 0], 0.0, 4.0), 1617: ('Hugo Pool (1997)', [0, 0, 0, 0, 0, 0, 0, 0, 0, 0, 0, 0, 0, 0, 1, 0, 0, 0, 0], 0.001718213058419244, 3.0), 1618: ('King of New York (1990)', [0, 1, 0, 0, 0, 0, 1, 0, 0, 0, 0, 0, 0, 0, 0, 0, 0, 0, 0], 0.0, 1.0), 1619: ('All Things Fair (1996)', [0, 0, 0, 0, 0, 0, 0, 0, 1, 0, 0, 0, 0, 0, 0, 0, 0, 0, 0], 0.0, 3.0), 1620: ('Sixth Man, The (1997)', [0, 0, 0, 0, 0, 1, 0, 0, 0, 0, 0, 0, 0, 0, 0, 0, 0, 0, 0], 0.013745704467353952, 3.2222222222222223), 1621: ('Butterfly Kiss (1995)', [0, 0, 0, 0, 0, 0, 0, 0, 0, 0, 0, 0, 0, 0, 0, 0, 1, 0, 0], 0.0, 1.0), 1622: ('Paris, France (1993)', [0, 0, 0, 0, 0, 1, 0, 0, 0, 0, 0, 0, 0, 0, 0, 0, 0, 0, 0], 0.003436426116838488, 2.3333333333333335), 1623: ('Cérémonie, La (1995)', [0, 0, 0, 0, 0, 0, 0, 0, 1, 0, 0, 0, 0, 0, 0, 0, 0, 0, 0], 0.003436426116838488, 4.0), 1624: ('Hush (1998)', [0, 0, 0, 0, 0, 0, 0, 0, 0, 0, 0, 0, 0, 0, 0, 0, 1, 0, 0], 0.0, 2.0), 1625: ('Nightwatch (1997)', [0, 0, 0, 0, 0, 0, 0, 0, 0, 0, 0, 1, 0, 0, 0, 0, 1, 0, 0], 0.0, 4.0), 1626: ('Nobody Loves Me (Keiner liebt mich) (1994)', [0, 0, 0, 0, 0, 1, 0, 0, 1, 0, 0, 0, 0, 0, 0, 0, 0, 0, 0], 0.0, 1.0), 1627: ('Wife, The (1995)', [0, 0, 0, 0, 0, 1, 0, 0, 1, 0, 0, 0, 0, 0, 0, 0, 0, 0, 0], 0.0, 3.0), 1628: ('Lamerica (1994)', [0, 0, 0, 0, 0, 0, 0, 0, 1, 0, 0, 0, 0, 0, 0, 0, 0, 0, 0], 0.005154639175257732, 3.75), 1629: ('Nico Icon (1995)', [0, 0, 0, 0, 0, 0, 0, 1, 0, 0, 0, 0, 0, 0, 0, 0, 0, 0, 0], 0.001718213058419244, 4.0), 1630: ('Silence of the Palace, The (Saimt el Qusur) (1994)', [0, 0, 0, 0, 0, 0, 0, 0, 1, 0, 0, 0, 0, 0, 0, 0, 0, 0, 0], 0.0, 3.0), 1631: ('Slingshot, The (1993)', [0, 0, 0, 0, 0, 1, 0, 0, 1, 0, 0, 0, 0, 0, 0, 0, 0, 0, 0], 0.001718213058419244, 3.5), 1632: ('Land and Freedom (Tierra y libertad) (1995)', [0, 0, 0, 0, 0, 0, 0, 0, 0, 0, 0, 0, 0, 0, 0, 0, 0, 1, 0], 0.0, 3.0), 1633: ('Á köldum klaka (Cold Fever) (1994)', [0, 0, 0, 0, 0, 1, 0, 0, 1, 0, 0, 0, 0, 0, 0, 0, 0, 0, 0], 0.0, 3.0), 1634: ('Etz Hadomim Tafus (Under the Domin Tree) (1994)', [0, 0, 0, 0, 0, 0, 0, 0, 1, 0, 0, 0, 0, 0, 0, 0, 0, 0, 0], 0.0, 2.0), 1635: ('Two Friends (1986) ', [0, 0, 0, 0, 0, 0, 0, 0, 1, 0, 0, 0, 0, 0, 0, 0, 0, 0, 0], 0.0, 3.0), 1636: ('Brothers in Trouble (1995)', [0, 0, 0, 0, 0, 0, 0, 0, 1, 0, 0, 0, 0, 0, 0, 0, 0, 0, 0], 0.0, 4.0), 1637: ('Girls Town (1996)', [0, 0, 0, 0, 0, 0, 0, 0, 1, 0, 0, 0, 0, 0, 0, 0, 0, 0, 0], 0.0, 3.0), 1638: ('Normal Life (1996)', [0, 0, 0, 0, 0, 0, 1, 0, 1, 0, 0, 0, 0, 0, 0, 0, 0, 0, 0], 0.0, 3.0), 1639: ('Bitter Sugar (Azucar Amargo) (1996)', [0, 0, 0, 0, 0, 0, 0, 0, 1, 0, 0, 0, 0, 0, 0, 0, 0, 0, 0], 0.003436426116838488, 4.333333333333333), 1640: ('Eighth Day, The (1996)', [0, 0, 0, 0, 0, 0, 0, 0, 1, 0, 0, 0, 0, 0, 0, 0, 0, 0, 0], 0.0, 3.0), 1641: ('Dadetown (1995)', [0, 0, 0, 0, 0, 0, 0, 1, 0, 0, 0, 0, 0, 0, 0, 0, 0, 0, 0], 0.0, 3.0), 1642: (\"Some Mother's Son (1996)\", [0, 0, 0, 0, 0, 0, 0, 0, 1, 0, 0, 0, 0, 0, 0, 0, 0, 0, 0], 0.001718213058419244, 4.5), 1643: ('Angel Baby (1995)', [0, 0, 0, 0, 0, 0, 0, 0, 1, 0, 0, 0, 0, 0, 0, 0, 0, 0, 0], 0.005154639175257732, 3.75), 1644: ('Sudden Manhattan (1996)', [0, 0, 0, 0, 0, 1, 0, 0, 0, 0, 0, 0, 0, 0, 0, 0, 0, 0, 0], 0.001718213058419244, 1.5), 1645: ('Butcher Boy, The (1998)', [0, 0, 0, 0, 0, 0, 0, 0, 1, 0, 0, 0, 0, 0, 0, 0, 0, 0, 0], 0.0, 4.0), 1646: ('Men With Guns (1997)', [0, 1, 0, 0, 0, 0, 0, 0, 1, 0, 0, 0, 0, 0, 0, 0, 0, 0, 0], 0.001718213058419244, 3.5), 1647: ('Hana-bi (1997)', [0, 0, 0, 0, 0, 1, 1, 0, 1, 0, 0, 0, 0, 0, 0, 0, 0, 0, 0], 0.0, 3.0), 1648: ('Niagara, Niagara (1997)', [0, 0, 0, 0, 0, 0, 0, 0, 1, 0, 0, 0, 0, 0, 0, 0, 0, 0, 0], 0.0, 2.0), 1649: ('Big One, The (1997)', [0, 0, 0, 0, 0, 1, 0, 1, 0, 0, 0, 0, 0, 0, 0, 0, 0, 0, 0], 0.0, 3.0), 1650: ('Butcher Boy, The (1998)', [0, 0, 0, 0, 0, 0, 0, 0, 1, 0, 0, 0, 0, 0, 0, 0, 0, 0, 0], 0.0, 4.0), 1651: ('Spanish Prisoner, The (1997)', [0, 0, 0, 0, 0, 0, 0, 0, 1, 0, 0, 0, 0, 0, 0, 0, 1, 0, 0], 0.0, 4.0), 1652: ('Temptress Moon (Feng Yue) (1996)', [0, 0, 0, 0, 0, 0, 0, 0, 0, 0, 0, 0, 0, 0, 1, 0, 0, 0, 0], 0.003436426116838488, 1.6666666666666667), 1653: ('Entertaining Angels: The Dorothy Day Story (1996)', [0, 0, 0, 0, 0, 0, 0, 0, 1, 0, 0, 0, 0, 0, 0, 0, 0, 0, 0], 0.0, 5.0), 1654: ('Chairman of the Board (1998)', [0, 0, 0, 0, 0, 1, 0, 0, 0, 0, 0, 0, 0, 0, 0, 0, 0, 0, 0], 0.0, 1.0), 1655: ('Favor, The (1994)', [0, 0, 0, 0, 0, 1, 0, 0, 0, 0, 0, 0, 0, 0, 1, 0, 0, 0, 0], 0.0, 2.0), 1656: ('Little City (1998)', [0, 0, 0, 0, 0, 1, 0, 0, 0, 0, 0, 0, 0, 0, 1, 0, 0, 0, 0], 0.001718213058419244, 3.5), 1657: ('Target (1995)', [0, 1, 0, 0, 0, 0, 0, 0, 1, 0, 0, 0, 0, 0, 0, 0, 0, 0, 0], 0.0, 3.0), 1658: ('Substance of Fire, The (1996)', [0, 0, 0, 0, 0, 0, 0, 0, 1, 0, 0, 0, 0, 0, 0, 0, 0, 0, 0], 0.003436426116838488, 3.0), 1659: ('Getting Away With Murder (1996)', [0, 0, 0, 0, 0, 1, 0, 0, 0, 0, 0, 0, 0, 0, 0, 0, 0, 0, 0], 0.0, 1.0), 1660: ('Small Faces (1995)', [0, 0, 0, 0, 0, 0, 0, 0, 1, 0, 0, 0, 0, 0, 0, 0, 0, 0, 0], 0.0, 2.0), 1661: ('New Age, The (1994)', [0, 0, 0, 0, 0, 0, 0, 0, 1, 0, 0, 0, 0, 0, 0, 0, 0, 0, 0], 0.0, 1.0), 1662: ('Rough Magic (1995)', [0, 0, 0, 0, 0, 0, 0, 0, 1, 0, 0, 0, 0, 0, 1, 0, 0, 0, 0], 0.001718213058419244, 2.5), 1663: ('Nothing Personal (1995)', [0, 0, 0, 0, 0, 0, 0, 0, 1, 0, 0, 0, 0, 0, 0, 0, 0, 1, 0], 0.0, 2.0), 1664: ('8 Heads in a Duffel Bag (1997)', [0, 0, 0, 0, 0, 1, 0, 0, 0, 0, 0, 0, 0, 0, 0, 0, 0, 0, 0], 0.005154639175257732, 3.25), 1665: (\"Brother's Kiss, A (1997)\", [0, 0, 0, 0, 0, 0, 0, 0, 1, 0, 0, 0, 0, 0, 0, 0, 0, 0, 0], 0.0, 2.0), 1666: ('Ripe (1996)', [0, 0, 0, 0, 0, 0, 0, 0, 1, 0, 0, 0, 0, 0, 0, 0, 0, 0, 0], 0.0, 2.0), 1667: ('Next Step, The (1995)', [0, 0, 0, 0, 0, 0, 0, 0, 1, 0, 0, 0, 0, 0, 0, 0, 0, 0, 0], 0.0, 3.0), 1668: ('Wedding Bell Blues (1996)', [0, 0, 0, 0, 0, 1, 0, 0, 0, 0, 0, 0, 0, 0, 0, 0, 0, 0, 0], 0.0, 3.0), 1669: ('MURDER and murder (1996)', [0, 0, 0, 0, 0, 0, 1, 0, 1, 0, 0, 0, 0, 1, 0, 0, 0, 0, 0], 0.0, 2.0), 1670: ('Tainted (1998)', [0, 0, 0, 0, 0, 1, 0, 0, 0, 0, 0, 0, 0, 0, 0, 0, 1, 0, 0], 0.0, 3.0), 1671: ('Further Gesture, A (1996)', [0, 0, 0, 0, 0, 0, 0, 0, 1, 0, 0, 0, 0, 0, 0, 0, 0, 0, 0], 0.0, 1.0), 1672: ('Kika (1993)', [0, 0, 0, 0, 0, 0, 0, 0, 1, 0, 0, 0, 0, 0, 0, 0, 0, 0, 0], 0.001718213058419244, 2.0), 1673: ('Mirage (1995)', [0, 1, 0, 0, 0, 0, 0, 0, 0, 0, 0, 0, 0, 0, 0, 0, 1, 0, 0], 0.0, 3.0), 1674: ('Mamma Roma (1962)', [0, 0, 0, 0, 0, 0, 0, 0, 1, 0, 0, 0, 0, 0, 0, 0, 0, 0, 0], 0.0, 4.0), 1675: ('Sunchaser, The (1996)', [0, 0, 0, 0, 0, 0, 0, 0, 1, 0, 0, 0, 0, 0, 0, 0, 0, 0, 0], 0.0, 3.0), 1676: ('War at Home, The (1996)', [0, 0, 0, 0, 0, 0, 0, 0, 1, 0, 0, 0, 0, 0, 0, 0, 0, 0, 0], 0.0, 2.0), 1677: ('Sweet Nothing (1995)', [0, 0, 0, 0, 0, 0, 0, 0, 1, 0, 0, 0, 0, 0, 0, 0, 0, 0, 0], 0.0, 3.0), 1678: (\"Mat' i syn (1997)\", [0, 0, 0, 0, 0, 0, 0, 0, 1, 0, 0, 0, 0, 0, 0, 0, 0, 0, 0], 0.0, 1.0), 1679: ('B. Monkey (1998)', [0, 0, 0, 0, 0, 0, 0, 0, 0, 0, 0, 0, 0, 0, 1, 0, 1, 0, 0], 0.0, 3.0), 1680: ('Sliding Doors (1998)', [0, 0, 0, 0, 0, 0, 0, 0, 1, 0, 0, 0, 0, 0, 1, 0, 0, 0, 0], 0.0, 2.0), 1681: ('You So Crazy (1994)', [0, 0, 0, 0, 0, 1, 0, 0, 0, 0, 0, 0, 0, 0, 0, 0, 0, 0, 0], 0.0, 3.0), 1682: ('Scream of Stone (Schrei aus Stein) (1991)', [0, 0, 0, 0, 0, 0, 0, 0, 1, 0, 0, 0, 0, 0, 0, 0, 0, 0, 0], 0.0, 3.0)}\n"
     ]
    }
   ],
   "source": [
    "print(movieDict)"
   ]
  },
  {
   "cell_type": "code",
   "execution_count": 323,
   "metadata": {},
   "outputs": [],
   "source": [
    "# Function to calculate distances between movies\n",
    "def ComputeDistance(a, b):\n",
    "    genresA = a[1]\n",
    "    genresB = b[1]\n",
    "    genreDistance = spatial.distance.cosine(genresA, genresB)\n",
    "    popularityA = a[2]\n",
    "    popularityB = b[2]\n",
    "    popularityDistance = abs(popularityA - popularityB)\n",
    "    return genreDistance + popularityDistance"
   ]
  },
  {
   "cell_type": "code",
   "execution_count": 324,
   "metadata": {},
   "outputs": [
    {
     "name": "stdout",
     "output_type": "stream",
     "text": [
      "Nearest Neighbors:\n",
      "\n",
      "Delicatessen (1991) 3.876923076923077\n",
      "Junior (1994) 3.022222222222222\n",
      "Coneheads (1993) 2.2195121951219514\n",
      "Mystery Science Theater 3000: The Movie (1996) 3.4307692307692306\n",
      "Visitors, The (Visiteurs, Les) (1993) 3.5\n",
      "It Happened One Night (1934) 4.012345679012346\n",
      "Bob Roberts (1992) 3.7411764705882353\n",
      "Better Off Dead... (1985) 3.569620253164557\n",
      "Bullets Over Broadway (1994) 3.7209302325581395\n",
      "My Fellow Americans (1996) 3.1627906976744184\n"
     ]
    }
   ],
   "source": [
    "# Get the neighbor K of the given film\n",
    "def getNeighbors(movieID, K):\n",
    "    distances = []\n",
    "    for movie in movieDict:\n",
    "        if (movie != movieID):\n",
    "            dist = ComputeDistance(movieDict[movieID], movieDict[movie])\n",
    "            distances.append((movie, dist))\n",
    "    distances.sort(key=operator.itemgetter(1))\n",
    "    neighbors = []\n",
    "    for x in range(K):\n",
    "        neighbors.append(distances[x][0])\n",
    "    return neighbors\n",
    "\n",
    "# K IS THE AMOUNT OF HOW MANY NEAREST NEIGHBORS YOU WANT \n",
    "# CHANGE THAT VALUE IF YOU WANT MORE \n",
    "K = 10 \n",
    "avgRating = 0\n",
    "#### THE NUMBER IN THE BRACKET IS THE MOVIE ID \n",
    "### CHANGE THE ID IF YOU WANT TO FIND NEAREST NEIGHBORS FOR ANOTHER MOVIE BASED ON THE MOVIE ID\n",
    "neighbors = getNeighbors(152, K) \n",
    "print(\"Nearest Neighbors:\")\n",
    "print('')\n",
    "for neighbor in neighbors:\n",
    "    avgRating += movieDict[neighbor][3]\n",
    "    print(movieDict[neighbor][0] + \" \" + str(movieDict[neighbor][3]))"
   ]
  },
  {
   "cell_type": "code",
   "execution_count": 325,
   "metadata": {},
   "outputs": [
    {
     "name": "stdout",
     "output_type": "stream",
     "text": [
      "\n",
      "Estimated avg. rating:\n",
      "3.425629005803418\n"
     ]
    }
   ],
   "source": [
    "##### Average rating score calculated based on film neighbors\n",
    "avgRating /= float(K)  #### avgRating = avgRating / float(K)\n",
    "print(\"\\nEstimated avg. rating:\")\n",
    "print(avgRating)"
   ]
  },
  {
   "cell_type": "code",
   "execution_count": 326,
   "metadata": {},
   "outputs": [
    {
     "name": "stdout",
     "output_type": "stream",
     "text": [
      "\n",
      "Real avg. rating:\n",
      "3.8783185840707963\n"
     ]
    }
   ],
   "source": [
    "# Real avgerage rating\n",
    "print(\"\\nReal avg. rating:\")\n",
    "print(movieDict[1][3])"
   ]
  },
  {
   "cell_type": "markdown",
   "metadata": {},
   "source": [
    "# TASK2 EXTENDED - User based recommendations"
   ]
  },
  {
   "cell_type": "code",
   "execution_count": 327,
   "metadata": {},
   "outputs": [
    {
     "data": {
      "text/html": [
       "<div>\n",
       "<style scoped>\n",
       "    .dataframe tbody tr th:only-of-type {\n",
       "        vertical-align: middle;\n",
       "    }\n",
       "\n",
       "    .dataframe tbody tr th {\n",
       "        vertical-align: top;\n",
       "    }\n",
       "\n",
       "    .dataframe thead th {\n",
       "        text-align: right;\n",
       "    }\n",
       "</style>\n",
       "<table border=\"1\" class=\"dataframe\">\n",
       "  <thead>\n",
       "    <tr style=\"text-align: right;\">\n",
       "      <th></th>\n",
       "      <th>user_id</th>\n",
       "      <th>movie_id</th>\n",
       "      <th>rating</th>\n",
       "    </tr>\n",
       "  </thead>\n",
       "  <tbody>\n",
       "    <tr>\n",
       "      <th>0</th>\n",
       "      <td>196</td>\n",
       "      <td>242</td>\n",
       "      <td>3</td>\n",
       "    </tr>\n",
       "    <tr>\n",
       "      <th>1</th>\n",
       "      <td>186</td>\n",
       "      <td>302</td>\n",
       "      <td>3</td>\n",
       "    </tr>\n",
       "    <tr>\n",
       "      <th>2</th>\n",
       "      <td>22</td>\n",
       "      <td>377</td>\n",
       "      <td>1</td>\n",
       "    </tr>\n",
       "    <tr>\n",
       "      <th>3</th>\n",
       "      <td>244</td>\n",
       "      <td>51</td>\n",
       "      <td>2</td>\n",
       "    </tr>\n",
       "    <tr>\n",
       "      <th>4</th>\n",
       "      <td>166</td>\n",
       "      <td>346</td>\n",
       "      <td>1</td>\n",
       "    </tr>\n",
       "  </tbody>\n",
       "</table>\n",
       "</div>"
      ],
      "text/plain": [
       "   user_id  movie_id  rating\n",
       "0      196       242       3\n",
       "1      186       302       3\n",
       "2       22       377       1\n",
       "3      244        51       2\n",
       "4      166       346       1"
      ]
     },
     "execution_count": 327,
     "metadata": {},
     "output_type": "execute_result"
    }
   ],
   "source": [
    "ratings.head(5)"
   ]
  },
  {
   "cell_type": "code",
   "execution_count": 328,
   "metadata": {},
   "outputs": [
    {
     "name": "stdout",
     "output_type": "stream",
     "text": [
      "[12, 56, 56, 82, 95, 98, 100, 121, 125, 127, 151, 152, 154, 168, 171, 172, 173, 174, 181, 187, 197, 222, 222, 228, 230, 237, 258, 268, 269, 275, 294, 313, 367, 393, 403, 433, 577, 728, 845, 1472]\n"
     ]
    }
   ],
   "source": [
    "ratings\n",
    "#CHANGE THE USER NUMBER TO A SPECIFIC USER YOU WANT TO FIND RECOMMENDED MOVIES\n",
    "user = 45\n",
    "\n",
    "user_film = ratings[ratings['user_id']==user]\n",
    "user_film = user_film[user_film['rating']==5]\n",
    "\n",
    "user_film_ids = user_film['movie_id'].values\n",
    "rec_list = [] \n",
    "\n",
    "\n",
    "for film in user_film_ids:\n",
    "    recs = getNeighbors(film, 5)\n",
    "    rec_list.append(recs)\n",
    "    \n",
    "flat_list = []\n",
    "\n",
    "for sublist in rec_list:\n",
    "    for item in sublist:\n",
    "        flat_list.append(item)\n",
    "        \n",
    "        \n",
    "flat_list.sort()\n",
    "print(flat_list)"
   ]
  },
  {
   "cell_type": "code",
   "execution_count": 329,
   "metadata": {},
   "outputs": [
    {
     "name": "stdout",
     "output_type": "stream",
     "text": [
      "{12: 1, 56: 2, 82: 1, 95: 1, 98: 1, 100: 1, 121: 1, 125: 1, 127: 1, 151: 1, 152: 1, 154: 1, 168: 1, 171: 1, 172: 1, 173: 1, 174: 1, 181: 1, 187: 1, 197: 1, 222: 2, 228: 1, 230: 1, 237: 1, 258: 1, 268: 1, 269: 1, 275: 1, 294: 1, 313: 1, 367: 1, 393: 1, 403: 1, 433: 1, 577: 1, 728: 1, 845: 1, 1472: 1}\n"
     ]
    }
   ],
   "source": [
    "countList = {i:flat_list.count(i) for i in flat_list}\n",
    "print (countList)"
   ]
  },
  {
   "cell_type": "code",
   "execution_count": 330,
   "metadata": {},
   "outputs": [
    {
     "name": "stdout",
     "output_type": "stream",
     "text": [
      "[728, 845, 1472, 56, 222]\n",
      "[222, 56, 1472, 845, 728]\n"
     ]
    }
   ],
   "source": [
    "films1111 = {k: v for k, v in sorted(countList.items(), key=lambda item: item[1])}\n",
    "\n",
    "movie_recs = list(films1111.keys())[-5:]\n",
    "print(movie_recs)\n",
    "\n",
    "movie_recs.reverse()\n",
    "\n",
    "print(movie_recs)"
   ]
  },
  {
   "cell_type": "code",
   "execution_count": 331,
   "metadata": {},
   "outputs": [
    {
     "name": "stdout",
     "output_type": "stream",
     "text": [
      "Nearest Neighbors based on user id:\n",
      "\n",
      "Star Trek: First Contact (1996)\n",
      "Pulp Fiction (1994)\n",
      "Visitors, The (Visiteurs, Les) (1993)\n",
      "That Thing You Do! (1996)\n",
      "Junior (1994)\n",
      "['Star Trek: First Contact (1996)', 'Pulp Fiction (1994)', 'Visitors, The (Visiteurs, Les) (1993)', 'That Thing You Do! (1996)', 'Junior (1994)']\n"
     ]
    }
   ],
   "source": [
    "print(\"Nearest Neighbors based on user id:\")\n",
    "print('')  \n",
    "final_recs = []\n",
    "for movieid in movie_recs:\n",
    "    print(titles[titles['movieid']==movieid]['movie title'].values[0])\n",
    "    final_recs.append(titles[titles['movieid']==movieid]['movie title'].values[0])\n",
    "\n",
    "print(final_recs)"
   ]
  },
  {
   "cell_type": "markdown",
   "metadata": {},
   "source": [
    "# TASK3 - EXTEND OF TASK2 (INCLUDING U.USER DATASET)"
   ]
  },
  {
   "cell_type": "code",
   "execution_count": 333,
   "metadata": {},
   "outputs": [],
   "source": [
    "# Get ratings people give to movies\n",
    "features = ['user_id', 'movie_id', 'rating']\n",
    "newRatings = pd.read_csv('ml-100k/u.data', sep='\\t', names=features, usecols=range(3))"
   ]
  },
  {
   "cell_type": "code",
   "execution_count": 335,
   "metadata": {},
   "outputs": [
    {
     "name": "stdout",
     "output_type": "stream",
     "text": [
      "['userid' 'age' 'gender' 'occupations' 'zip code']\n"
     ]
    }
   ],
   "source": [
    "#importing u.user dataset \n",
    "features = ['user_id', 'age', 'gender','occupations','zip code']\n",
    "userData = pd.read_csv('ml-100k/u.user',sep='|',encoding='latin-1', names= features)\n",
    "print(users.columns.values)"
   ]
  },
  {
   "cell_type": "code",
   "execution_count": 336,
   "metadata": {},
   "outputs": [
    {
     "data": {
      "text/html": [
       "<div>\n",
       "<style scoped>\n",
       "    .dataframe tbody tr th:only-of-type {\n",
       "        vertical-align: middle;\n",
       "    }\n",
       "\n",
       "    .dataframe tbody tr th {\n",
       "        vertical-align: top;\n",
       "    }\n",
       "\n",
       "    .dataframe thead th {\n",
       "        text-align: right;\n",
       "    }\n",
       "</style>\n",
       "<table border=\"1\" class=\"dataframe\">\n",
       "  <thead>\n",
       "    <tr style=\"text-align: right;\">\n",
       "      <th></th>\n",
       "      <th>user_id</th>\n",
       "      <th>age</th>\n",
       "      <th>gender</th>\n",
       "      <th>occupations</th>\n",
       "      <th>zip code</th>\n",
       "    </tr>\n",
       "  </thead>\n",
       "  <tbody>\n",
       "    <tr>\n",
       "      <th>0</th>\n",
       "      <td>1</td>\n",
       "      <td>24</td>\n",
       "      <td>M</td>\n",
       "      <td>technician</td>\n",
       "      <td>85711</td>\n",
       "    </tr>\n",
       "    <tr>\n",
       "      <th>1</th>\n",
       "      <td>2</td>\n",
       "      <td>53</td>\n",
       "      <td>F</td>\n",
       "      <td>other</td>\n",
       "      <td>94043</td>\n",
       "    </tr>\n",
       "    <tr>\n",
       "      <th>2</th>\n",
       "      <td>3</td>\n",
       "      <td>23</td>\n",
       "      <td>M</td>\n",
       "      <td>writer</td>\n",
       "      <td>32067</td>\n",
       "    </tr>\n",
       "    <tr>\n",
       "      <th>3</th>\n",
       "      <td>4</td>\n",
       "      <td>24</td>\n",
       "      <td>M</td>\n",
       "      <td>technician</td>\n",
       "      <td>43537</td>\n",
       "    </tr>\n",
       "    <tr>\n",
       "      <th>4</th>\n",
       "      <td>5</td>\n",
       "      <td>33</td>\n",
       "      <td>F</td>\n",
       "      <td>other</td>\n",
       "      <td>15213</td>\n",
       "    </tr>\n",
       "  </tbody>\n",
       "</table>\n",
       "</div>"
      ],
      "text/plain": [
       "   user_id  age gender occupations zip code\n",
       "0        1   24      M  technician    85711\n",
       "1        2   53      F       other    94043\n",
       "2        3   23      M      writer    32067\n",
       "3        4   24      M  technician    43537\n",
       "4        5   33      F       other    15213"
      ]
     },
     "execution_count": 336,
     "metadata": {},
     "output_type": "execute_result"
    }
   ],
   "source": [
    "userData.head()"
   ]
  },
  {
   "cell_type": "code",
   "execution_count": 337,
   "metadata": {},
   "outputs": [
    {
     "data": {
      "text/plain": [
       "(943, 5)"
      ]
     },
     "execution_count": 337,
     "metadata": {},
     "output_type": "execute_result"
    }
   ],
   "source": [
    "userData.shape"
   ]
  },
  {
   "cell_type": "code",
   "execution_count": 338,
   "metadata": {},
   "outputs": [
    {
     "data": {
      "text/html": [
       "<div>\n",
       "<style scoped>\n",
       "    .dataframe tbody tr th:only-of-type {\n",
       "        vertical-align: middle;\n",
       "    }\n",
       "\n",
       "    .dataframe tbody tr th {\n",
       "        vertical-align: top;\n",
       "    }\n",
       "\n",
       "    .dataframe thead th {\n",
       "        text-align: right;\n",
       "    }\n",
       "</style>\n",
       "<table border=\"1\" class=\"dataframe\">\n",
       "  <thead>\n",
       "    <tr style=\"text-align: right;\">\n",
       "      <th></th>\n",
       "      <th>user_id</th>\n",
       "      <th>movie_id</th>\n",
       "      <th>rating</th>\n",
       "    </tr>\n",
       "  </thead>\n",
       "  <tbody>\n",
       "    <tr>\n",
       "      <th>0</th>\n",
       "      <td>196</td>\n",
       "      <td>242</td>\n",
       "      <td>3</td>\n",
       "    </tr>\n",
       "    <tr>\n",
       "      <th>1</th>\n",
       "      <td>186</td>\n",
       "      <td>302</td>\n",
       "      <td>3</td>\n",
       "    </tr>\n",
       "    <tr>\n",
       "      <th>2</th>\n",
       "      <td>22</td>\n",
       "      <td>377</td>\n",
       "      <td>1</td>\n",
       "    </tr>\n",
       "    <tr>\n",
       "      <th>3</th>\n",
       "      <td>244</td>\n",
       "      <td>51</td>\n",
       "      <td>2</td>\n",
       "    </tr>\n",
       "    <tr>\n",
       "      <th>4</th>\n",
       "      <td>166</td>\n",
       "      <td>346</td>\n",
       "      <td>1</td>\n",
       "    </tr>\n",
       "  </tbody>\n",
       "</table>\n",
       "</div>"
      ],
      "text/plain": [
       "   user_id  movie_id  rating\n",
       "0      196       242       3\n",
       "1      186       302       3\n",
       "2       22       377       1\n",
       "3      244        51       2\n",
       "4      166       346       1"
      ]
     },
     "execution_count": 338,
     "metadata": {},
     "output_type": "execute_result"
    }
   ],
   "source": [
    "newRatings.head(5)"
   ]
  },
  {
   "cell_type": "code",
   "execution_count": 339,
   "metadata": {},
   "outputs": [
    {
     "data": {
      "text/plain": [
       "(100000, 3)"
      ]
     },
     "execution_count": 339,
     "metadata": {},
     "output_type": "execute_result"
    }
   ],
   "source": [
    "newRatings.shape"
   ]
  },
  {
   "cell_type": "code",
   "execution_count": 340,
   "metadata": {},
   "outputs": [],
   "source": [
    "newRatings2 = pd.merge(userData, newRatings, on='user_id')"
   ]
  },
  {
   "cell_type": "code",
   "execution_count": 341,
   "metadata": {},
   "outputs": [
    {
     "data": {
      "text/html": [
       "<div>\n",
       "<style scoped>\n",
       "    .dataframe tbody tr th:only-of-type {\n",
       "        vertical-align: middle;\n",
       "    }\n",
       "\n",
       "    .dataframe tbody tr th {\n",
       "        vertical-align: top;\n",
       "    }\n",
       "\n",
       "    .dataframe thead th {\n",
       "        text-align: right;\n",
       "    }\n",
       "</style>\n",
       "<table border=\"1\" class=\"dataframe\">\n",
       "  <thead>\n",
       "    <tr style=\"text-align: right;\">\n",
       "      <th></th>\n",
       "      <th>user_id</th>\n",
       "      <th>age</th>\n",
       "      <th>gender</th>\n",
       "      <th>occupations</th>\n",
       "      <th>zip code</th>\n",
       "      <th>movie_id</th>\n",
       "      <th>rating</th>\n",
       "    </tr>\n",
       "  </thead>\n",
       "  <tbody>\n",
       "    <tr>\n",
       "      <th>0</th>\n",
       "      <td>1</td>\n",
       "      <td>24</td>\n",
       "      <td>M</td>\n",
       "      <td>technician</td>\n",
       "      <td>85711</td>\n",
       "      <td>61</td>\n",
       "      <td>4</td>\n",
       "    </tr>\n",
       "    <tr>\n",
       "      <th>1</th>\n",
       "      <td>1</td>\n",
       "      <td>24</td>\n",
       "      <td>M</td>\n",
       "      <td>technician</td>\n",
       "      <td>85711</td>\n",
       "      <td>189</td>\n",
       "      <td>3</td>\n",
       "    </tr>\n",
       "    <tr>\n",
       "      <th>2</th>\n",
       "      <td>1</td>\n",
       "      <td>24</td>\n",
       "      <td>M</td>\n",
       "      <td>technician</td>\n",
       "      <td>85711</td>\n",
       "      <td>33</td>\n",
       "      <td>4</td>\n",
       "    </tr>\n",
       "    <tr>\n",
       "      <th>3</th>\n",
       "      <td>1</td>\n",
       "      <td>24</td>\n",
       "      <td>M</td>\n",
       "      <td>technician</td>\n",
       "      <td>85711</td>\n",
       "      <td>160</td>\n",
       "      <td>4</td>\n",
       "    </tr>\n",
       "    <tr>\n",
       "      <th>4</th>\n",
       "      <td>1</td>\n",
       "      <td>24</td>\n",
       "      <td>M</td>\n",
       "      <td>technician</td>\n",
       "      <td>85711</td>\n",
       "      <td>20</td>\n",
       "      <td>4</td>\n",
       "    </tr>\n",
       "  </tbody>\n",
       "</table>\n",
       "</div>"
      ],
      "text/plain": [
       "   user_id  age gender occupations zip code  movie_id  rating\n",
       "0        1   24      M  technician    85711        61       4\n",
       "1        1   24      M  technician    85711       189       3\n",
       "2        1   24      M  technician    85711        33       4\n",
       "3        1   24      M  technician    85711       160       4\n",
       "4        1   24      M  technician    85711        20       4"
      ]
     },
     "execution_count": 341,
     "metadata": {},
     "output_type": "execute_result"
    }
   ],
   "source": [
    "newRatings2.head(5)"
   ]
  },
  {
   "cell_type": "code",
   "execution_count": 342,
   "metadata": {},
   "outputs": [
    {
     "data": {
      "text/plain": [
       "(100000, 7)"
      ]
     },
     "execution_count": 342,
     "metadata": {},
     "output_type": "execute_result"
    }
   ],
   "source": [
    "newRatings2.shape"
   ]
  },
  {
   "cell_type": "code",
   "execution_count": 344,
   "metadata": {},
   "outputs": [],
   "source": [
    "#repeat the same process from task2\n",
    "movieProperties2 = newRatings2.groupby('movie_id').agg({'rating': [np.size, np.mean]})"
   ]
  },
  {
   "cell_type": "code",
   "execution_count": 345,
   "metadata": {},
   "outputs": [
    {
     "data": {
      "text/html": [
       "<div>\n",
       "<style scoped>\n",
       "    .dataframe tbody tr th:only-of-type {\n",
       "        vertical-align: middle;\n",
       "    }\n",
       "\n",
       "    .dataframe tbody tr th {\n",
       "        vertical-align: top;\n",
       "    }\n",
       "\n",
       "    .dataframe thead tr th {\n",
       "        text-align: left;\n",
       "    }\n",
       "\n",
       "    .dataframe thead tr:last-of-type th {\n",
       "        text-align: right;\n",
       "    }\n",
       "</style>\n",
       "<table border=\"1\" class=\"dataframe\">\n",
       "  <thead>\n",
       "    <tr>\n",
       "      <th></th>\n",
       "      <th colspan=\"2\" halign=\"left\">rating</th>\n",
       "    </tr>\n",
       "    <tr>\n",
       "      <th></th>\n",
       "      <th>size</th>\n",
       "      <th>mean</th>\n",
       "    </tr>\n",
       "    <tr>\n",
       "      <th>movie_id</th>\n",
       "      <th></th>\n",
       "      <th></th>\n",
       "    </tr>\n",
       "  </thead>\n",
       "  <tbody>\n",
       "    <tr>\n",
       "      <th>1</th>\n",
       "      <td>452</td>\n",
       "      <td>3.878319</td>\n",
       "    </tr>\n",
       "    <tr>\n",
       "      <th>2</th>\n",
       "      <td>131</td>\n",
       "      <td>3.206107</td>\n",
       "    </tr>\n",
       "    <tr>\n",
       "      <th>3</th>\n",
       "      <td>90</td>\n",
       "      <td>3.033333</td>\n",
       "    </tr>\n",
       "    <tr>\n",
       "      <th>4</th>\n",
       "      <td>209</td>\n",
       "      <td>3.550239</td>\n",
       "    </tr>\n",
       "    <tr>\n",
       "      <th>5</th>\n",
       "      <td>86</td>\n",
       "      <td>3.302326</td>\n",
       "    </tr>\n",
       "  </tbody>\n",
       "</table>\n",
       "</div>"
      ],
      "text/plain": [
       "         rating          \n",
       "           size      mean\n",
       "movie_id                 \n",
       "1           452  3.878319\n",
       "2           131  3.206107\n",
       "3            90  3.033333\n",
       "4           209  3.550239\n",
       "5            86  3.302326"
      ]
     },
     "execution_count": 345,
     "metadata": {},
     "output_type": "execute_result"
    }
   ],
   "source": [
    "movieProperties2.head(5)"
   ]
  },
  {
   "cell_type": "code",
   "execution_count": 346,
   "metadata": {},
   "outputs": [
    {
     "data": {
      "text/plain": [
       "(1682, 2)"
      ]
     },
     "execution_count": 346,
     "metadata": {},
     "output_type": "execute_result"
    }
   ],
   "source": [
    "movieProperties2.shape"
   ]
  },
  {
   "cell_type": "code",
   "execution_count": 347,
   "metadata": {},
   "outputs": [],
   "source": [
    "# Normalize rating sizes of movies\n",
    "movieNumRatings2 = pd.DataFrame(movieProperties2['rating']['size'])\n",
    "movieNormalizedNumRatings = movieNumRatings2.apply(lambda x: (x - np.min(x)) / (np.max(x) - np.min(x)))"
   ]
  },
  {
   "cell_type": "code",
   "execution_count": 348,
   "metadata": {},
   "outputs": [
    {
     "data": {
      "text/html": [
       "<div>\n",
       "<style scoped>\n",
       "    .dataframe tbody tr th:only-of-type {\n",
       "        vertical-align: middle;\n",
       "    }\n",
       "\n",
       "    .dataframe tbody tr th {\n",
       "        vertical-align: top;\n",
       "    }\n",
       "\n",
       "    .dataframe thead th {\n",
       "        text-align: right;\n",
       "    }\n",
       "</style>\n",
       "<table border=\"1\" class=\"dataframe\">\n",
       "  <thead>\n",
       "    <tr style=\"text-align: right;\">\n",
       "      <th></th>\n",
       "      <th>size</th>\n",
       "    </tr>\n",
       "    <tr>\n",
       "      <th>movie_id</th>\n",
       "      <th></th>\n",
       "    </tr>\n",
       "  </thead>\n",
       "  <tbody>\n",
       "    <tr>\n",
       "      <th>1</th>\n",
       "      <td>0.774914</td>\n",
       "    </tr>\n",
       "    <tr>\n",
       "      <th>2</th>\n",
       "      <td>0.223368</td>\n",
       "    </tr>\n",
       "    <tr>\n",
       "      <th>3</th>\n",
       "      <td>0.152921</td>\n",
       "    </tr>\n",
       "    <tr>\n",
       "      <th>4</th>\n",
       "      <td>0.357388</td>\n",
       "    </tr>\n",
       "    <tr>\n",
       "      <th>5</th>\n",
       "      <td>0.146048</td>\n",
       "    </tr>\n",
       "  </tbody>\n",
       "</table>\n",
       "</div>"
      ],
      "text/plain": [
       "              size\n",
       "movie_id          \n",
       "1         0.774914\n",
       "2         0.223368\n",
       "3         0.152921\n",
       "4         0.357388\n",
       "5         0.146048"
      ]
     },
     "execution_count": 348,
     "metadata": {},
     "output_type": "execute_result"
    }
   ],
   "source": [
    "movieNormalizedNumRatings.head(5)"
   ]
  },
  {
   "cell_type": "code",
   "execution_count": 349,
   "metadata": {},
   "outputs": [
    {
     "data": {
      "text/plain": [
       "(1682, 1)"
      ]
     },
     "execution_count": 349,
     "metadata": {},
     "output_type": "execute_result"
    }
   ],
   "source": [
    "movieNormalizedNumRatings.shape"
   ]
  },
  {
   "cell_type": "code",
   "execution_count": 351,
   "metadata": {},
   "outputs": [],
   "source": [
    "# Get film data\n",
    "movieDict = {}\n",
    "with open('ml-100k/u.item', mode='r', encoding='latin-1') as f:\n",
    "    temp = ''\n",
    "    for line in f:\n",
    "        fields = line.rstrip('\\n').split('|')\n",
    "        movieID = int(fields[0])\n",
    "        name = fields[1]\n",
    "        genres = fields[5:25]\n",
    "        genres = list(map(int, genres))\n",
    "        movieDict[movieID] = (name, genres, movieNormalizedNumRatings.loc[movieID].get('size'),\n",
    "                              movieProperties.loc[movieID].rating.get('mean'))"
   ]
  },
  {
   "cell_type": "code",
   "execution_count": 352,
   "metadata": {},
   "outputs": [
    {
     "name": "stdout",
     "output_type": "stream",
     "text": [
      "{1: ('Toy Story (1995)', [0, 0, 0, 1, 1, 1, 0, 0, 0, 0, 0, 0, 0, 0, 0, 0, 0, 0, 0], 0.7749140893470791, 3.8783185840707963), 2: ('GoldenEye (1995)', [0, 1, 1, 0, 0, 0, 0, 0, 0, 0, 0, 0, 0, 0, 0, 0, 1, 0, 0], 0.22336769759450173, 3.2061068702290076), 3: ('Four Rooms (1995)', [0, 0, 0, 0, 0, 0, 0, 0, 0, 0, 0, 0, 0, 0, 0, 0, 1, 0, 0], 0.15292096219931273, 3.033333333333333), 4: ('Get Shorty (1995)', [0, 1, 0, 0, 0, 1, 0, 0, 1, 0, 0, 0, 0, 0, 0, 0, 0, 0, 0], 0.35738831615120276, 3.550239234449761), 5: ('Copycat (1995)', [0, 0, 0, 0, 0, 0, 1, 0, 1, 0, 0, 0, 0, 0, 0, 0, 1, 0, 0], 0.14604810996563575, 3.302325581395349), 6: ('Shanghai Triad (Yao a yao yao dao waipo qiao) (1995)', [0, 0, 0, 0, 0, 0, 0, 0, 1, 0, 0, 0, 0, 0, 0, 0, 0, 0, 0], 0.0429553264604811, 3.576923076923077), 7: ('Twelve Monkeys (1995)', [0, 0, 0, 0, 0, 0, 0, 0, 1, 0, 0, 0, 0, 0, 0, 1, 0, 0, 0], 0.6718213058419243, 3.798469387755102), 8: ('Babe (1995)', [0, 0, 0, 0, 1, 1, 0, 0, 1, 0, 0, 0, 0, 0, 0, 0, 0, 0, 0], 0.3745704467353952, 3.9954337899543377), 9: ('Dead Man Walking (1995)', [0, 0, 0, 0, 0, 0, 0, 0, 1, 0, 0, 0, 0, 0, 0, 0, 0, 0, 0], 0.5120274914089347, 3.8963210702341136), 10: ('Richard III (1995)', [0, 0, 0, 0, 0, 0, 0, 0, 1, 0, 0, 0, 0, 0, 0, 0, 0, 1, 0], 0.15120274914089346, 3.831460674157303), 11: ('Seven (Se7en) (1995)', [0, 0, 0, 0, 0, 0, 1, 0, 0, 0, 0, 0, 0, 0, 0, 0, 1, 0, 0], 0.40378006872852235, 3.847457627118644), 12: ('Usual Suspects, The (1995)', [0, 0, 0, 0, 0, 0, 1, 0, 0, 0, 0, 0, 0, 0, 0, 0, 1, 0, 0], 0.4570446735395189, 4.385767790262173), 13: ('Mighty Aphrodite (1995)', [0, 0, 0, 0, 0, 1, 0, 0, 0, 0, 0, 0, 0, 0, 0, 0, 0, 0, 0], 0.31443298969072164, 3.4184782608695654), 14: ('Postino, Il (1994)', [0, 0, 0, 0, 0, 0, 0, 0, 1, 0, 0, 0, 0, 0, 1, 0, 0, 0, 0], 0.3127147766323024, 3.9672131147540983), 15: (\"Mr. Holland's Opus (1995)\", [0, 0, 0, 0, 0, 0, 0, 0, 1, 0, 0, 0, 0, 0, 0, 0, 0, 0, 0], 0.5017182130584192, 3.7781569965870307), 16: ('French Twist (Gazon maudit) (1995)', [0, 0, 0, 0, 0, 1, 0, 0, 0, 0, 0, 0, 0, 0, 1, 0, 0, 0, 0], 0.06529209621993128, 3.2051282051282053), 17: ('From Dusk Till Dawn (1996)', [0, 1, 0, 0, 0, 1, 1, 0, 0, 0, 0, 1, 0, 0, 0, 0, 1, 0, 0], 0.1563573883161512, 3.119565217391304), 18: ('White Balloon, The (1995)', [0, 0, 0, 0, 0, 0, 0, 0, 1, 0, 0, 0, 0, 0, 0, 0, 0, 0, 0], 0.015463917525773196, 2.8), 19: (\"Antonia's Line (1995)\", [0, 0, 0, 0, 0, 0, 0, 0, 1, 0, 0, 0, 0, 0, 0, 0, 0, 0, 0], 0.11683848797250859, 3.9565217391304346), 20: ('Angels and Insects (1995)', [0, 0, 0, 0, 0, 0, 0, 0, 1, 0, 0, 0, 0, 0, 1, 0, 0, 0, 0], 0.12199312714776632, 3.4166666666666665), 21: ('Muppet Treasure Island (1996)', [0, 1, 1, 0, 0, 1, 0, 0, 0, 0, 0, 0, 1, 0, 0, 0, 1, 0, 0], 0.14261168384879724, 2.761904761904762), 22: ('Braveheart (1995)', [0, 1, 0, 0, 0, 0, 0, 0, 1, 0, 0, 0, 0, 0, 0, 0, 0, 1, 0], 0.5085910652920962, 4.151515151515151), 23: ('Taxi Driver (1976)', [0, 0, 0, 0, 0, 0, 0, 0, 1, 0, 0, 0, 0, 0, 0, 0, 1, 0, 0], 0.31099656357388317, 4.1208791208791204), 24: ('Rumble in the Bronx (1995)', [0, 1, 1, 0, 0, 0, 1, 0, 0, 0, 0, 0, 0, 0, 0, 0, 0, 0, 0], 0.2972508591065292, 3.4482758620689653), 25: ('Birdcage, The (1996)', [0, 0, 0, 0, 0, 1, 0, 0, 0, 0, 0, 0, 0, 0, 0, 0, 0, 0, 0], 0.5017182130584192, 3.4436860068259385), 26: ('Brothers McMullen, The (1995)', [0, 0, 0, 0, 0, 1, 0, 0, 0, 0, 0, 0, 0, 0, 0, 0, 0, 0, 0], 0.12371134020618557, 3.452054794520548), 27: ('Bad Boys (1995)', [0, 1, 0, 0, 0, 0, 0, 0, 0, 0, 0, 0, 0, 0, 0, 0, 0, 0, 0], 0.09621993127147767, 3.1052631578947367), 28: ('Apollo 13 (1995)', [0, 1, 0, 0, 0, 0, 0, 0, 1, 0, 0, 0, 0, 0, 0, 0, 1, 0, 0], 0.4725085910652921, 3.931159420289855), 29: ('Batman Forever (1995)', [0, 1, 1, 0, 0, 1, 1, 0, 0, 0, 0, 0, 0, 0, 0, 0, 0, 0, 0], 0.19415807560137457, 2.6666666666666665), 30: ('Belle de jour (1967)', [0, 0, 0, 0, 0, 0, 0, 0, 1, 0, 0, 0, 0, 0, 0, 0, 0, 0, 0], 0.061855670103092786, 3.945945945945946), 31: ('Crimson Tide (1995)', [0, 0, 0, 0, 0, 0, 0, 0, 1, 0, 0, 0, 0, 0, 0, 0, 1, 1, 0], 0.26288659793814434, 3.6298701298701297), 32: ('Crumb (1994)', [0, 0, 0, 0, 0, 0, 0, 1, 0, 0, 0, 0, 0, 0, 0, 0, 0, 0, 0], 0.13745704467353953, 3.7901234567901234), 33: ('Desperado (1995)', [0, 1, 0, 0, 0, 0, 0, 0, 0, 0, 0, 0, 0, 0, 1, 0, 1, 0, 0], 0.16494845360824742, 3.4536082474226806), 34: ('Doom Generation, The (1995)', [0, 0, 0, 0, 0, 1, 0, 0, 1, 0, 0, 0, 0, 0, 0, 0, 0, 0, 0], 0.010309278350515464, 2.7142857142857144), 35: ('Free Willy 2: The Adventure Home (1995)', [0, 0, 1, 0, 1, 0, 0, 0, 1, 0, 0, 0, 0, 0, 0, 0, 0, 0, 0], 0.01718213058419244, 2.1818181818181817), 36: ('Mad Love (1995)', [0, 0, 0, 0, 0, 0, 0, 0, 1, 0, 0, 0, 0, 0, 1, 0, 0, 0, 0], 0.020618556701030927, 2.1538461538461537), 37: ('Nadja (1994)', [0, 0, 0, 0, 0, 0, 0, 0, 1, 0, 0, 0, 0, 0, 0, 0, 0, 0, 0], 0.012027491408934709, 2.25), 38: ('Net, The (1995)', [0, 0, 0, 0, 0, 0, 0, 0, 0, 0, 0, 0, 0, 0, 0, 1, 1, 0, 0], 0.20446735395189003, 3.0083333333333333), 39: ('Strange Days (1995)', [0, 1, 0, 0, 0, 0, 1, 0, 0, 0, 0, 0, 0, 0, 0, 1, 0, 0, 0], 0.14776632302405499, 3.264367816091954), 40: ('To Wong Foo, Thanks for Everything! Julie Newmar (1995)', [0, 0, 0, 0, 0, 1, 0, 0, 0, 0, 0, 0, 0, 0, 0, 0, 0, 0, 0], 0.09621993127147767, 2.8947368421052633), 41: ('Billy Madison (1995)', [0, 0, 0, 0, 0, 1, 0, 0, 0, 0, 0, 0, 0, 0, 0, 0, 0, 0, 0], 0.061855670103092786, 3.081081081081081), 42: ('Clerks (1994)', [0, 0, 0, 0, 0, 1, 0, 0, 0, 0, 0, 0, 0, 0, 0, 0, 0, 0, 0], 0.25257731958762886, 3.804054054054054), 43: ('Disclosure (1994)', [0, 0, 0, 0, 0, 0, 0, 0, 1, 0, 0, 0, 0, 0, 0, 0, 1, 0, 0], 0.06701030927835051, 3.0), 44: ('Dolores Claiborne (1994)', [0, 0, 0, 0, 0, 0, 0, 0, 1, 0, 0, 0, 0, 0, 0, 0, 1, 0, 0], 0.13402061855670103, 3.3417721518987342), 45: ('Eat Drink Man Woman (1994)', [0, 0, 0, 0, 0, 1, 0, 0, 1, 0, 0, 0, 0, 0, 0, 0, 0, 0, 0], 0.13573883161512026, 4.05), 46: ('Exotica (1994)', [0, 0, 0, 0, 0, 0, 0, 0, 1, 0, 0, 0, 0, 0, 0, 0, 0, 0, 0], 0.044673539518900345, 3.5555555555555554), 47: ('Ed Wood (1994)', [0, 0, 0, 0, 0, 1, 0, 0, 1, 0, 0, 0, 0, 0, 0, 0, 0, 0, 0], 0.2268041237113402, 3.601503759398496), 48: ('Hoop Dreams (1994)', [0, 0, 0, 0, 0, 0, 0, 1, 0, 0, 0, 0, 0, 0, 0, 0, 0, 0, 0], 0.19931271477663232, 4.094017094017094), 49: ('I.Q. (1994)', [0, 0, 0, 0, 0, 1, 0, 0, 0, 0, 0, 0, 0, 0, 1, 0, 0, 0, 0], 0.13745704467353953, 3.3209876543209877), 50: ('Star Wars (1977)', [0, 1, 1, 0, 0, 0, 0, 0, 0, 0, 0, 0, 0, 0, 1, 1, 0, 1, 0], 1.0, 4.3584905660377355), 51: ('Legends of the Fall (1994)', [0, 0, 0, 0, 0, 0, 0, 0, 1, 0, 0, 0, 0, 0, 1, 0, 0, 1, 1], 0.13745704467353953, 3.45679012345679), 52: ('Madness of King George, The (1994)', [0, 0, 0, 0, 0, 0, 0, 0, 1, 0, 0, 0, 0, 0, 0, 0, 0, 0, 0], 0.15463917525773196, 3.769230769230769), 53: ('Natural Born Killers (1994)', [0, 1, 0, 0, 0, 0, 0, 0, 0, 0, 0, 0, 0, 0, 0, 0, 1, 0, 0], 0.218213058419244, 2.953125), 54: ('Outbreak (1995)', [0, 1, 0, 0, 0, 0, 0, 0, 1, 0, 0, 0, 0, 0, 0, 0, 1, 0, 0], 0.17697594501718214, 3.2403846153846154), 55: ('Professional, The (1994)', [0, 0, 0, 0, 0, 0, 1, 0, 1, 0, 0, 0, 0, 0, 1, 0, 1, 0, 0], 0.2542955326460481, 3.704697986577181), 56: ('Pulp Fiction (1994)', [0, 0, 0, 0, 0, 0, 1, 0, 1, 0, 0, 0, 0, 0, 0, 0, 0, 0, 0], 0.6752577319587629, 4.060913705583756), 57: ('Priest (1994)', [0, 0, 0, 0, 0, 0, 0, 0, 1, 0, 0, 0, 0, 0, 0, 0, 0, 0, 0], 0.06701030927835051, 4.0), 58: ('Quiz Show (1994)', [0, 0, 0, 0, 0, 0, 0, 0, 1, 0, 0, 0, 0, 0, 0, 0, 0, 0, 0], 0.29896907216494845, 3.645714285714286), 59: ('Three Colors: Red (1994)', [0, 0, 0, 0, 0, 0, 0, 0, 1, 0, 0, 0, 0, 0, 0, 0, 0, 0, 0], 0.140893470790378, 4.0602409638554215), 60: ('Three Colors: Blue (1993)', [0, 0, 0, 0, 0, 0, 0, 0, 1, 0, 0, 0, 0, 0, 0, 0, 0, 0, 0], 0.10824742268041238, 4.015625), 61: ('Three Colors: White (1994)', [0, 0, 0, 0, 0, 0, 0, 0, 1, 0, 0, 0, 0, 0, 0, 0, 0, 0, 0], 0.09965635738831616, 3.864406779661017), 62: ('Stargate (1994)', [0, 1, 1, 0, 0, 0, 0, 0, 0, 0, 0, 0, 0, 0, 0, 1, 0, 0, 0], 0.21649484536082475, 3.141732283464567), 63: ('Santa Clause, The (1994)', [0, 0, 0, 0, 1, 1, 0, 0, 0, 0, 0, 0, 0, 0, 0, 0, 0, 0, 0], 0.13917525773195877, 3.097560975609756), 64: ('Shawshank Redemption, The (1994)', [0, 0, 0, 0, 0, 0, 0, 0, 1, 0, 0, 0, 0, 0, 0, 0, 0, 0, 0], 0.4845360824742268, 4.445229681978798), 65: (\"What's Eating Gilbert Grape (1993)\", [0, 0, 0, 0, 0, 1, 0, 0, 1, 0, 0, 0, 0, 0, 0, 0, 0, 0, 0], 0.1958762886597938, 3.5391304347826087), 66: ('While You Were Sleeping (1995)', [0, 0, 0, 0, 0, 1, 0, 0, 0, 0, 0, 0, 0, 0, 1, 0, 0, 0, 0], 0.2766323024054983, 3.549382716049383), 67: ('Ace Ventura: Pet Detective (1994)', [0, 0, 0, 0, 0, 1, 0, 0, 0, 0, 0, 0, 0, 0, 0, 0, 0, 0, 0], 0.17525773195876287, 3.0485436893203883), 68: ('Crow, The (1994)', [0, 1, 0, 0, 0, 0, 0, 0, 0, 0, 0, 0, 0, 0, 1, 0, 1, 0, 0], 0.22852233676975944, 3.417910447761194), 69: ('Forrest Gump (1994)', [0, 0, 0, 0, 0, 1, 0, 0, 0, 0, 0, 0, 0, 0, 1, 0, 0, 1, 0], 0.5498281786941581, 3.853582554517134), 70: ('Four Weddings and a Funeral (1994)', [0, 0, 0, 0, 0, 1, 0, 0, 0, 0, 0, 0, 0, 0, 1, 0, 0, 0, 0], 0.42955326460481097, 3.6613545816733066), 71: ('Lion King, The (1994)', [0, 0, 0, 1, 1, 0, 0, 0, 0, 0, 0, 0, 1, 0, 0, 0, 0, 0, 0], 0.37628865979381443, 3.7818181818181817), 72: ('Mask, The (1994)', [0, 0, 0, 0, 0, 1, 1, 0, 0, 1, 0, 0, 0, 0, 0, 0, 0, 0, 0], 0.21993127147766323, 3.193798449612403), 73: ('Maverick (1994)', [0, 1, 0, 0, 0, 1, 0, 0, 0, 0, 0, 0, 0, 0, 0, 0, 0, 0, 1], 0.218213058419244, 3.46875), 74: ('Faster Pussycat! Kill! Kill! (1965)', [0, 1, 0, 0, 0, 1, 0, 0, 1, 0, 0, 0, 0, 0, 0, 0, 0, 0, 0], 0.010309278350515464, 3.0), 75: ('Brother Minister: The Assassination of Malcolm X (1994)', [0, 0, 0, 0, 0, 0, 0, 1, 0, 0, 0, 0, 0, 0, 0, 0, 0, 0, 0], 0.006872852233676976, 3.0), 76: (\"Carlito's Way (1993)\", [0, 0, 0, 0, 0, 0, 1, 0, 1, 0, 0, 0, 0, 0, 0, 0, 0, 0, 0], 0.09106529209621993, 3.4074074074074074), 77: ('Firm, The (1993)', [0, 0, 0, 0, 0, 0, 0, 0, 1, 0, 0, 0, 0, 0, 0, 0, 1, 0, 0], 0.25773195876288657, 3.2781456953642385), 78: ('Free Willy (1993)', [0, 0, 1, 0, 1, 0, 0, 0, 1, 0, 0, 0, 0, 0, 0, 0, 0, 0, 0], 0.054982817869415807, 2.4545454545454546), 79: ('Fugitive, The (1993)', [0, 1, 0, 0, 0, 0, 0, 0, 0, 0, 0, 0, 0, 0, 0, 0, 1, 0, 0], 0.5756013745704467, 4.044642857142857), 80: ('Hot Shots! Part Deux (1993)', [0, 1, 0, 0, 0, 1, 0, 0, 0, 0, 0, 0, 0, 0, 0, 0, 0, 1, 0], 0.11512027491408934, 2.764705882352941), 81: ('Hudsucker Proxy, The (1994)', [0, 0, 0, 0, 0, 1, 0, 0, 0, 0, 0, 0, 0, 0, 1, 0, 0, 0, 0], 0.1872852233676976, 3.5545454545454547), 82: ('Jurassic Park (1993)', [0, 1, 1, 0, 0, 0, 0, 0, 0, 0, 0, 0, 0, 0, 0, 1, 0, 0, 0], 0.44673539518900346, 3.7203065134099615), 83: ('Much Ado About Nothing (1993)', [0, 0, 0, 0, 0, 1, 0, 0, 0, 0, 0, 0, 0, 0, 1, 0, 0, 0, 0], 0.3006872852233677, 4.0625), 84: (\"Robert A. Heinlein's The Puppet Masters (1994)\", [0, 0, 0, 0, 0, 0, 0, 0, 0, 0, 0, 1, 0, 0, 0, 1, 0, 0, 0], 0.029209621993127148, 3.0), 85: ('Ref, The (1994)', [0, 0, 0, 0, 0, 1, 0, 0, 0, 0, 0, 0, 0, 0, 0, 0, 0, 0, 0], 0.0979381443298969, 3.0344827586206895), 86: ('Remains of the Day, The (1993)', [0, 0, 0, 0, 0, 0, 0, 0, 1, 0, 0, 0, 0, 0, 0, 0, 0, 0, 0], 0.25601374570446733, 3.94), 87: ('Searching for Bobby Fischer (1993)', [0, 0, 0, 0, 0, 0, 0, 0, 1, 0, 0, 0, 0, 0, 0, 0, 0, 0, 0], 0.23539518900343642, 3.9057971014492754), 88: ('Sleepless in Seattle (1993)', [0, 0, 0, 0, 0, 1, 0, 0, 0, 0, 0, 0, 0, 0, 1, 0, 0, 0, 0], 0.3642611683848797, 3.539906103286385), 89: ('Blade Runner (1982)', [0, 0, 0, 0, 0, 0, 0, 0, 0, 0, 1, 0, 0, 0, 0, 1, 0, 0, 0], 0.47079037800687284, 4.138181818181818), 90: ('So I Married an Axe Murderer (1993)', [0, 0, 0, 0, 0, 1, 0, 0, 0, 0, 0, 0, 0, 0, 1, 0, 1, 0, 0], 0.16151202749140894, 3.0526315789473686), 91: ('Nightmare Before Christmas, The (1993)', [0, 0, 0, 0, 1, 1, 0, 0, 0, 0, 0, 0, 1, 0, 0, 0, 0, 0, 0], 0.24398625429553264, 3.5874125874125875), 92: ('True Romance (1993)', [0, 1, 0, 0, 0, 0, 1, 0, 0, 0, 0, 0, 0, 0, 1, 0, 0, 0, 0], 0.17697594501718214, 3.6153846153846154), 93: ('Welcome to the Dollhouse (1995)', [0, 0, 0, 0, 0, 1, 0, 0, 1, 0, 0, 0, 0, 0, 0, 0, 0, 0, 0], 0.19072164948453607, 3.7232142857142856), 94: ('Home Alone (1990)', [0, 0, 0, 0, 1, 1, 0, 0, 0, 0, 0, 0, 0, 0, 0, 0, 0, 0, 0], 0.23367697594501718, 3.0875912408759123), 95: ('Aladdin (1992)', [0, 0, 0, 1, 1, 1, 0, 0, 0, 0, 0, 0, 1, 0, 0, 0, 0, 0, 0], 0.3745704467353952, 3.8127853881278537), 96: ('Terminator 2: Judgment Day (1991)', [0, 1, 0, 0, 0, 0, 0, 0, 0, 0, 0, 0, 0, 0, 0, 1, 1, 0, 0], 0.5051546391752577, 4.0067796610169495), 97: ('Dances with Wolves (1990)', [0, 0, 1, 0, 0, 0, 0, 0, 1, 0, 0, 0, 0, 0, 0, 0, 0, 0, 1], 0.4381443298969072, 3.79296875), 98: ('Silence of the Lambs, The (1991)', [0, 0, 0, 0, 0, 0, 0, 0, 1, 0, 0, 0, 0, 0, 0, 0, 1, 0, 0], 0.6683848797250859, 4.28974358974359), 99: ('Snow White and the Seven Dwarfs (1937)', [0, 0, 0, 1, 1, 0, 0, 0, 0, 0, 0, 0, 1, 0, 0, 0, 0, 0, 0], 0.29381443298969073, 3.7093023255813953), 100: ('Fargo (1996)', [0, 0, 0, 0, 0, 0, 1, 0, 1, 0, 0, 0, 0, 0, 0, 0, 1, 0, 0], 0.8711340206185567, 4.155511811023622), 101: ('Heavy Metal (1981)', [0, 1, 1, 1, 0, 0, 0, 0, 0, 0, 0, 1, 0, 0, 0, 1, 0, 0, 0], 0.12371134020618557, 3.26027397260274), 102: ('Aristocats, The (1970)', [0, 0, 0, 1, 1, 0, 0, 0, 0, 0, 0, 0, 0, 0, 0, 0, 0, 0, 0], 0.09106529209621993, 3.1296296296296298), 103: ('All Dogs Go to Heaven 2 (1996)', [0, 0, 0, 1, 1, 0, 0, 0, 0, 0, 0, 0, 1, 0, 0, 0, 0, 0, 0], 0.024054982817869417, 1.8666666666666667), 104: ('Theodore Rex (1995)', [0, 0, 0, 0, 0, 1, 0, 0, 0, 0, 0, 0, 0, 0, 0, 0, 0, 0, 0], 0.006872852233676976, 1.4), 105: ('Sgt. Bilko (1996)', [0, 0, 0, 0, 0, 1, 0, 0, 0, 0, 0, 0, 0, 0, 0, 0, 0, 0, 0], 0.1254295532646048, 2.5675675675675675), 106: ('Diabolique (1996)', [0, 0, 0, 0, 0, 0, 0, 0, 1, 0, 0, 0, 0, 0, 0, 0, 1, 0, 0], 0.12027491408934708, 2.887323943661972), 107: ('Moll Flanders (1996)', [0, 0, 0, 0, 0, 0, 0, 0, 1, 0, 0, 0, 0, 0, 0, 0, 0, 0, 0], 0.070446735395189, 3.5), 108: ('Kids in the Hall: Brain Candy (1996)', [0, 0, 0, 0, 0, 1, 0, 0, 0, 0, 0, 0, 0, 0, 0, 0, 0, 0, 0], 0.10996563573883161, 3.076923076923077), 109: ('Mystery Science Theater 3000: The Movie (1996)', [0, 0, 0, 0, 0, 1, 0, 0, 0, 0, 0, 0, 0, 0, 0, 1, 0, 0, 0], 0.22164948453608246, 3.4307692307692306), 110: ('Operation Dumbo Drop (1995)', [0, 1, 1, 0, 0, 1, 0, 0, 0, 0, 0, 0, 0, 0, 0, 0, 0, 1, 0], 0.05154639175257732, 2.5161290322580645), 111: ('Truth About Cats & Dogs, The (1996)', [0, 0, 0, 0, 0, 1, 0, 0, 0, 0, 0, 0, 0, 0, 1, 0, 0, 0, 0], 0.46563573883161513, 3.485294117647059), 112: ('Flipper (1996)', [0, 0, 1, 0, 1, 0, 0, 0, 0, 0, 0, 0, 0, 0, 0, 0, 0, 0, 0], 0.03264604810996564, 2.45), 113: ('Horseman on the Roof, The (Hussard sur le toit, Le) (1995)', [0, 0, 0, 0, 0, 0, 0, 0, 1, 0, 0, 0, 0, 0, 0, 0, 0, 0, 0], 0.013745704467353952, 4.111111111111111), 114: ('Wallace & Gromit: The Best of Aardman Animation (1996)', [0, 0, 0, 1, 0, 0, 0, 0, 0, 0, 0, 0, 0, 0, 0, 0, 0, 0, 0], 0.1134020618556701, 4.447761194029851), 115: ('Haunted World of Edward D. Wood Jr., The (1995)', [0, 0, 0, 0, 0, 0, 0, 1, 0, 0, 0, 0, 0, 0, 0, 0, 0, 0, 0], 0.024054982817869417, 3.7333333333333334), 116: ('Cold Comfort Farm (1995)', [0, 0, 0, 0, 0, 1, 0, 0, 0, 0, 0, 0, 0, 0, 0, 0, 0, 0, 0], 0.21305841924398625, 3.824), 117: ('Rock, The (1996)', [0, 1, 1, 0, 0, 0, 0, 0, 0, 0, 0, 0, 0, 0, 0, 0, 1, 0, 0], 0.647766323024055, 3.693121693121693), 118: ('Twister (1996)', [0, 1, 1, 0, 0, 0, 0, 0, 0, 0, 0, 0, 0, 0, 0, 0, 1, 0, 0], 0.5017182130584192, 3.2150170648464163), 119: ('Maya Lin: A Strong Clear Vision (1994)', [0, 0, 0, 0, 0, 0, 0, 1, 0, 0, 0, 0, 0, 0, 0, 0, 0, 0, 0], 0.005154639175257732, 4.5), 120: ('Striptease (1996)', [0, 0, 0, 0, 0, 1, 1, 0, 0, 0, 0, 0, 0, 0, 0, 0, 0, 0, 0], 0.1134020618556701, 2.2388059701492535), 121: ('Independence Day (ID4) (1996)', [0, 1, 0, 0, 0, 0, 0, 0, 0, 0, 0, 0, 0, 0, 0, 1, 0, 1, 0], 0.7353951890034365, 3.438228438228438), 122: ('Cable Guy, The (1996)', [0, 0, 0, 0, 0, 1, 0, 0, 0, 0, 0, 0, 0, 0, 0, 0, 0, 0, 0], 0.18041237113402062, 2.339622641509434), 123: ('Frighteners, The (1996)', [0, 0, 0, 0, 0, 1, 0, 0, 0, 0, 0, 1, 0, 0, 0, 0, 0, 0, 0], 0.1958762886597938, 3.234782608695652), 124: ('Lone Star (1996)', [0, 0, 0, 0, 0, 0, 0, 0, 1, 0, 0, 0, 0, 1, 0, 0, 0, 0, 0], 0.31958762886597936, 4.053475935828877), 125: ('Phenomenon (1996)', [0, 0, 0, 0, 0, 0, 0, 0, 1, 0, 0, 0, 0, 0, 1, 0, 0, 0, 0], 0.4175257731958763, 3.557377049180328), 126: ('Spitfire Grill, The (1996)', [0, 0, 0, 0, 0, 0, 0, 0, 1, 0, 0, 0, 0, 0, 0, 0, 0, 0, 0], 0.16494845360824742, 3.804123711340206), 127: ('Godfather, The (1972)', [0, 1, 0, 0, 0, 0, 1, 0, 1, 0, 0, 0, 0, 0, 0, 0, 0, 0, 0], 0.7079037800687286, 4.283292978208232), 128: ('Supercop (1992)', [0, 1, 0, 0, 0, 0, 0, 0, 0, 0, 0, 0, 0, 0, 0, 0, 1, 0, 0], 0.10996563573883161, 3.5384615384615383), 129: ('Bound (1996)', [0, 0, 0, 0, 0, 0, 1, 0, 1, 0, 0, 0, 0, 0, 1, 0, 1, 0, 0], 0.21993127147766323, 3.8217054263565893), 130: ('Kansas City (1996)', [0, 0, 0, 0, 0, 0, 1, 0, 0, 0, 0, 0, 0, 0, 0, 0, 0, 0, 0], 0.037800687285223365, 2.260869565217391), 131: (\"Breakfast at Tiffany's (1961)\", [0, 0, 0, 0, 0, 0, 0, 0, 1, 0, 0, 0, 0, 0, 1, 0, 0, 0, 0], 0.16151202749140894, 3.7263157894736842), 132: ('Wizard of Oz, The (1939)', [0, 0, 1, 0, 1, 0, 0, 0, 1, 0, 0, 0, 1, 0, 0, 0, 0, 0, 0], 0.4209621993127148, 4.0772357723577235), 133: ('Gone with the Wind (1939)', [0, 0, 0, 0, 0, 0, 0, 0, 1, 0, 0, 0, 0, 0, 1, 0, 0, 1, 0], 0.2920962199312715, 3.871345029239766), 134: ('Citizen Kane (1941)', [0, 0, 0, 0, 0, 0, 0, 0, 1, 0, 0, 0, 0, 0, 0, 0, 0, 0, 0], 0.3384879725085911, 4.292929292929293), 135: ('2001: A Space Odyssey (1968)', [0, 0, 0, 0, 0, 0, 0, 0, 1, 0, 0, 0, 0, 1, 0, 1, 1, 0, 0], 0.44329896907216493, 3.969111969111969), 136: ('Mr. Smith Goes to Washington (1939)', [0, 0, 0, 0, 0, 0, 0, 0, 1, 0, 0, 0, 0, 0, 0, 0, 0, 0, 0], 0.17869415807560138, 4.123809523809523), 137: ('Big Night (1996)', [0, 0, 0, 0, 0, 0, 0, 0, 1, 0, 0, 0, 0, 0, 0, 0, 0, 0, 0], 0.2920962199312715, 3.9005847953216373), 138: ('D3: The Mighty Ducks (1996)', [0, 0, 0, 0, 1, 1, 0, 0, 0, 0, 0, 0, 0, 0, 0, 0, 0, 0, 0], 0.030927835051546393, 2.5789473684210527), 139: ('Love Bug, The (1969)', [0, 0, 0, 0, 1, 1, 0, 0, 0, 0, 0, 0, 0, 0, 0, 0, 0, 0, 0], 0.08419243986254296, 2.78), 140: ('Homeward Bound: The Incredible Journey (1993)', [0, 0, 1, 0, 1, 0, 0, 0, 0, 0, 0, 0, 0, 0, 0, 0, 0, 0, 0], 0.10309278350515463, 3.2131147540983607), 141: ('20,000 Leagues Under the Sea (1954)', [0, 0, 1, 0, 1, 0, 0, 0, 0, 1, 0, 0, 0, 0, 0, 1, 0, 0, 0], 0.12199312714776632, 3.5), 142: ('Bedknobs and Broomsticks (1971)', [0, 0, 1, 0, 1, 0, 0, 0, 0, 0, 0, 0, 1, 0, 0, 0, 0, 0, 0], 0.09621993127147767, 3.0701754385964914), 143: ('Sound of Music, The (1965)', [0, 0, 0, 0, 0, 0, 0, 0, 0, 0, 0, 0, 1, 0, 0, 0, 0, 0, 0], 0.3797250859106529, 3.765765765765766), 144: ('Die Hard (1988)', [0, 1, 0, 0, 0, 0, 0, 0, 0, 0, 0, 0, 0, 0, 0, 0, 1, 0, 0], 0.41580756013745707, 3.8724279835390947), 145: ('Lawnmower Man, The (1992)', [0, 1, 0, 0, 0, 0, 0, 0, 0, 0, 0, 0, 0, 0, 0, 1, 1, 0, 0], 0.10996563573883161, 2.4461538461538463), 146: ('Unhook the Stars (1996)', [0, 0, 0, 0, 0, 0, 0, 0, 1, 0, 0, 0, 0, 0, 0, 0, 0, 0, 0], 0.015463917525773196, 2.5), 147: ('Long Kiss Goodnight, The (1996)', [0, 1, 0, 0, 0, 0, 0, 0, 0, 0, 0, 0, 0, 0, 0, 0, 1, 0, 0], 0.3161512027491409, 3.4702702702702704), 148: ('Ghost and the Darkness, The (1996)', [0, 1, 1, 0, 0, 0, 0, 0, 0, 0, 0, 0, 0, 0, 0, 0, 0, 0, 0], 0.218213058419244, 3.203125), 149: ('Jude (1996)', [0, 0, 0, 0, 0, 0, 0, 0, 1, 0, 0, 0, 0, 0, 0, 0, 0, 0, 0], 0.037800687285223365, 3.0), 150: ('Swingers (1996)', [0, 0, 0, 0, 0, 1, 0, 0, 1, 0, 0, 0, 0, 0, 0, 0, 0, 0, 0], 0.26804123711340205, 3.828025477707006), 151: ('Willy Wonka and the Chocolate Factory (1971)', [0, 0, 1, 0, 1, 1, 0, 0, 0, 0, 0, 0, 0, 0, 0, 0, 0, 0, 0], 0.5584192439862543, 3.6319018404907975), 152: ('Sleeper (1973)', [0, 0, 0, 0, 0, 1, 0, 0, 0, 0, 0, 0, 0, 0, 0, 1, 0, 0, 0], 0.13917525773195877, 3.6341463414634148), 153: ('Fish Called Wanda, A (1988)', [0, 0, 0, 0, 0, 1, 0, 0, 0, 0, 0, 0, 0, 0, 0, 0, 0, 0, 0], 0.422680412371134, 3.785425101214575), 154: (\"Monty Python's Life of Brian (1979)\", [0, 0, 0, 0, 0, 1, 0, 0, 0, 0, 0, 0, 0, 0, 0, 0, 0, 0, 0], 0.2972508591065292, 3.7471264367816093), 155: ('Dirty Dancing (1987)', [0, 0, 0, 0, 0, 0, 0, 0, 0, 0, 0, 0, 1, 0, 1, 0, 0, 0, 0], 0.16666666666666666, 3.1020408163265305), 156: ('Reservoir Dogs (1992)', [0, 0, 0, 0, 0, 0, 1, 0, 0, 0, 0, 0, 0, 0, 0, 0, 1, 0, 0], 0.25257731958762886, 3.9864864864864864), 157: ('Platoon (1986)', [0, 0, 0, 0, 0, 0, 0, 0, 1, 0, 0, 0, 0, 0, 0, 0, 0, 1, 0], 0.21649484536082475, 3.6929133858267718), 158: (\"Weekend at Bernie's (1989)\", [0, 0, 0, 0, 0, 1, 0, 0, 0, 0, 0, 0, 0, 0, 0, 0, 0, 0, 0], 0.1013745704467354, 2.6166666666666667), 159: ('Basic Instinct (1992)', [0, 0, 0, 0, 0, 0, 0, 0, 0, 0, 0, 0, 0, 1, 0, 0, 1, 0, 0], 0.1718213058419244, 3.227722772277228), 160: ('Glengarry Glen Ross (1992)', [0, 0, 0, 0, 0, 0, 0, 0, 1, 0, 0, 0, 0, 0, 0, 0, 0, 0, 0], 0.11683848797250859, 3.463768115942029), 161: ('Top Gun (1986)', [0, 1, 0, 0, 0, 0, 0, 0, 0, 0, 0, 0, 0, 0, 1, 0, 0, 0, 0], 0.37628865979381443, 3.481818181818182), 162: ('On Golden Pond (1981)', [0, 0, 0, 0, 0, 0, 0, 0, 1, 0, 0, 0, 0, 0, 0, 0, 0, 0, 0], 0.18041237113402062, 3.556603773584906), 163: ('Return of the Pink Panther, The (1974)', [0, 0, 0, 0, 0, 1, 0, 0, 0, 0, 0, 0, 0, 0, 0, 0, 0, 0, 0], 0.1563573883161512, 3.5543478260869565), 164: ('Abyss, The (1989)', [0, 1, 1, 0, 0, 0, 0, 0, 0, 0, 0, 0, 0, 0, 0, 1, 1, 0, 0], 0.25773195876288657, 3.589403973509934), 165: ('Jean de Florette (1986)', [0, 0, 0, 0, 0, 0, 0, 0, 1, 0, 0, 0, 0, 0, 0, 0, 0, 0, 0], 0.10824742268041238, 4.109375), 166: ('Manon of the Spring (Manon des sources) (1986)', [0, 0, 0, 0, 0, 0, 0, 0, 1, 0, 0, 0, 0, 0, 0, 0, 0, 0, 0], 0.0979381443298969, 4.120689655172414), 167: ('Private Benjamin (1980)', [0, 0, 0, 0, 0, 1, 0, 0, 0, 0, 0, 0, 0, 0, 0, 0, 0, 0, 0], 0.1134020618556701, 2.955223880597015), 168: ('Monty Python and the Holy Grail (1974)', [0, 0, 0, 0, 0, 1, 0, 0, 0, 0, 0, 0, 0, 0, 0, 0, 0, 0, 0], 0.5412371134020618, 4.0664556962025316), 169: ('Wrong Trousers, The (1993)', [0, 0, 0, 1, 0, 1, 0, 0, 0, 0, 0, 0, 0, 0, 0, 0, 0, 0, 0], 0.20103092783505155, 4.466101694915254), 170: ('Cinema Paradiso (1988)', [0, 0, 0, 0, 0, 1, 0, 0, 1, 0, 0, 0, 0, 0, 1, 0, 0, 0, 0], 0.20618556701030927, 4.1735537190082646), 171: ('Delicatessen (1991)', [0, 0, 0, 0, 0, 1, 0, 0, 0, 0, 0, 0, 0, 0, 0, 1, 0, 0, 0], 0.10996563573883161, 3.876923076923077), 172: ('Empire Strikes Back, The (1980)', [0, 1, 1, 0, 0, 0, 0, 0, 1, 0, 0, 0, 0, 0, 1, 1, 0, 1, 0], 0.6288659793814433, 4.204359673024523), 173: ('Princess Bride, The (1987)', [0, 1, 1, 0, 0, 1, 0, 0, 0, 0, 0, 0, 0, 0, 1, 0, 0, 0, 0], 0.5549828178694158, 4.172839506172839), 174: ('Raiders of the Lost Ark (1981)', [0, 1, 1, 0, 0, 0, 0, 0, 0, 0, 0, 0, 0, 0, 0, 0, 0, 0, 0], 0.7199312714776632, 4.252380952380952), 175: ('Brazil (1985)', [0, 0, 0, 0, 0, 0, 0, 0, 0, 0, 0, 0, 0, 0, 0, 1, 0, 0, 0], 0.3556701030927835, 3.8173076923076925), 176: ('Aliens (1986)', [0, 1, 0, 0, 0, 0, 0, 0, 0, 0, 0, 0, 0, 0, 0, 1, 1, 1, 0], 0.48625429553264604, 3.9471830985915495), 177: ('Good, The Bad and The Ugly, The (1966)', [0, 1, 0, 0, 0, 0, 0, 0, 0, 0, 0, 0, 0, 0, 0, 0, 0, 0, 1], 0.23367697594501718, 3.8613138686131387), 178: ('12 Angry Men (1957)', [0, 0, 0, 0, 0, 0, 0, 0, 1, 0, 0, 0, 0, 0, 0, 0, 0, 0, 0], 0.21305841924398625, 4.344), 179: ('Clockwork Orange, A (1971)', [0, 0, 0, 0, 0, 0, 0, 0, 0, 0, 0, 0, 0, 0, 0, 1, 0, 0, 0], 0.37800687285223367, 3.909502262443439), 180: ('Apocalypse Now (1979)', [0, 0, 0, 0, 0, 0, 0, 0, 1, 0, 0, 0, 0, 0, 0, 0, 0, 1, 0], 0.37800687285223367, 4.04524886877828), 181: ('Return of the Jedi (1983)', [0, 1, 1, 0, 0, 0, 0, 0, 0, 0, 0, 0, 0, 0, 1, 1, 0, 1, 0], 0.8694158075601375, 4.007889546351085), 182: ('GoodFellas (1990)', [0, 0, 0, 0, 0, 0, 1, 0, 1, 0, 0, 0, 0, 0, 0, 0, 0, 0, 0], 0.3865979381443299, 3.9513274336283186), 183: ('Alien (1979)', [0, 1, 0, 0, 0, 0, 0, 0, 0, 0, 0, 1, 0, 0, 0, 1, 1, 0, 0], 0.49828178694158076, 4.034364261168385), 184: ('Army of Darkness (1993)', [0, 1, 1, 0, 0, 1, 0, 0, 0, 0, 0, 1, 0, 0, 0, 1, 0, 0, 0], 0.19759450171821305, 3.4310344827586206), 185: ('Psycho (1960)', [0, 0, 0, 0, 0, 0, 0, 0, 0, 0, 0, 1, 0, 0, 1, 0, 1, 0, 0], 0.40893470790378006, 4.100418410041841), 186: ('Blues Brothers, The (1980)', [0, 1, 0, 0, 0, 1, 0, 0, 0, 0, 0, 0, 1, 0, 0, 0, 0, 0, 0], 0.42955326460481097, 3.8366533864541834), 187: ('Godfather: Part II, The (1974)', [0, 1, 0, 0, 0, 0, 1, 0, 1, 0, 0, 0, 0, 0, 0, 0, 0, 0, 0], 0.35738831615120276, 4.186602870813397), 188: ('Full Metal Jacket (1987)', [0, 1, 0, 0, 0, 0, 0, 0, 1, 0, 0, 0, 0, 0, 0, 0, 0, 1, 0], 0.29037800687285226, 3.6823529411764704), 189: ('Grand Day Out, A (1992)', [0, 0, 0, 1, 0, 1, 0, 0, 0, 0, 0, 0, 0, 0, 0, 0, 0, 0, 0], 0.11168384879725086, 4.106060606060606), 190: ('Henry V (1989)', [0, 0, 0, 0, 0, 0, 0, 0, 1, 0, 0, 0, 0, 0, 0, 0, 0, 1, 0], 0.211340206185567, 4.137096774193548), 191: ('Amadeus (1984)', [0, 0, 0, 0, 0, 0, 0, 0, 1, 0, 0, 0, 0, 1, 0, 0, 0, 0, 0], 0.4725085910652921, 4.163043478260869), 192: ('Raging Bull (1980)', [0, 0, 0, 0, 0, 0, 0, 0, 1, 0, 0, 0, 0, 0, 0, 0, 0, 0, 0], 0.19759450171821305, 4.120689655172414), 193: ('Right Stuff, The (1983)', [0, 0, 0, 0, 0, 0, 0, 0, 1, 0, 0, 0, 0, 0, 0, 0, 0, 0, 0], 0.26804123711340205, 3.917197452229299), 194: ('Sting, The (1973)', [0, 0, 0, 0, 0, 1, 1, 0, 0, 0, 0, 0, 0, 0, 0, 0, 0, 0, 0], 0.41237113402061853, 4.058091286307054), 195: ('Terminator, The (1984)', [0, 1, 0, 0, 0, 0, 0, 0, 0, 0, 0, 0, 0, 0, 0, 1, 1, 0, 0], 0.5154639175257731, 3.9335548172757475), 196: ('Dead Poets Society (1989)', [0, 0, 0, 0, 0, 0, 0, 0, 1, 0, 0, 0, 0, 0, 0, 0, 0, 0, 0], 0.42955326460481097, 3.9163346613545817), 197: ('Graduate, The (1967)', [0, 0, 0, 0, 0, 0, 0, 0, 1, 0, 0, 0, 0, 0, 1, 0, 0, 0, 0], 0.40893470790378006, 4.104602510460251), 198: ('Nikita (La Femme Nikita) (1990)', [0, 0, 0, 0, 0, 0, 0, 0, 0, 0, 0, 0, 0, 0, 0, 0, 1, 0, 0], 0.21649484536082475, 4.0078740157480315), 199: ('Bridge on the River Kwai, The (1957)', [0, 0, 0, 0, 0, 0, 0, 0, 1, 0, 0, 0, 0, 0, 0, 0, 0, 1, 0], 0.281786941580756, 4.175757575757576), 200: ('Shining, The (1980)', [0, 0, 0, 0, 0, 0, 0, 0, 0, 0, 0, 1, 0, 0, 0, 0, 0, 0, 0], 0.35223367697594504, 3.825242718446602), 201: ('Evil Dead II (1987)', [0, 1, 1, 0, 0, 1, 0, 0, 0, 0, 0, 1, 0, 0, 0, 0, 0, 0, 0], 0.15120274914089346, 3.5168539325842696), 202: ('Groundhog Day (1993)', [0, 0, 0, 0, 0, 1, 0, 0, 0, 0, 0, 0, 0, 0, 1, 0, 0, 0, 0], 0.4793814432989691, 3.7642857142857142), 203: ('Unforgiven (1992)', [0, 0, 0, 0, 0, 0, 0, 0, 0, 0, 0, 0, 0, 0, 0, 0, 0, 0, 1], 0.31099656357388317, 3.868131868131868), 204: ('Back to the Future (1985)', [0, 0, 0, 0, 0, 1, 0, 0, 0, 0, 0, 0, 0, 0, 0, 1, 0, 0, 0], 0.5996563573883161, 3.834285714285714), 205: ('Patton (1970)', [0, 0, 0, 0, 0, 0, 0, 0, 1, 0, 0, 0, 0, 0, 0, 0, 0, 1, 0], 0.23195876288659795, 3.9926470588235294), 206: ('Akira (1988)', [0, 0, 1, 1, 0, 0, 0, 0, 0, 0, 0, 0, 0, 0, 0, 1, 1, 0, 0], 0.08419243986254296, 3.38), 207: ('Cyrano de Bergerac (1990)', [0, 1, 0, 0, 0, 0, 0, 0, 1, 0, 0, 0, 0, 0, 1, 0, 0, 0, 0], 0.11168384879725086, 3.8181818181818183), 208: ('Young Frankenstein (1974)', [0, 0, 0, 0, 0, 1, 0, 0, 0, 0, 0, 1, 0, 0, 0, 0, 0, 0, 0], 0.34192439862542956, 3.945), 209: ('This Is Spinal Tap (1984)', [0, 0, 0, 0, 0, 1, 0, 0, 1, 0, 0, 0, 1, 0, 0, 0, 0, 0, 0], 0.32646048109965636, 3.905759162303665), 210: ('Indiana Jones and the Last Crusade (1989)', [0, 1, 1, 0, 0, 0, 0, 0, 0, 0, 0, 0, 0, 0, 0, 0, 0, 0, 0], 0.5670103092783505, 3.930513595166163), 211: ('M*A*S*H (1970)', [0, 0, 0, 0, 0, 1, 0, 0, 0, 0, 0, 0, 0, 0, 0, 0, 0, 1, 0], 0.35223367697594504, 3.912621359223301), 212: ('Unbearable Lightness of Being, The (1988)', [0, 0, 0, 0, 0, 0, 0, 0, 1, 0, 0, 0, 0, 0, 0, 0, 0, 0, 0], 0.1563573883161512, 3.4565217391304346), 213: ('Room with a View, A (1986)', [0, 0, 0, 0, 0, 0, 0, 0, 1, 0, 0, 0, 0, 0, 1, 0, 0, 0, 0], 0.22852233676975944, 3.985074626865672), 214: ('Pink Floyd - The Wall (1982)', [0, 0, 0, 0, 0, 0, 0, 0, 1, 0, 0, 0, 1, 0, 0, 0, 0, 1, 0], 0.19415807560137457, 3.3508771929824563), 215: ('Field of Dreams (1989)', [0, 0, 0, 0, 0, 0, 0, 0, 1, 0, 0, 0, 0, 0, 0, 0, 0, 0, 0], 0.36254295532646047, 3.69811320754717), 216: ('When Harry Met Sally... (1989)', [0, 0, 0, 0, 0, 1, 0, 0, 0, 0, 0, 0, 0, 0, 1, 0, 0, 0, 0], 0.4965635738831615, 3.910344827586207), 217: (\"Bram Stoker's Dracula (1992)\", [0, 0, 0, 0, 0, 0, 0, 0, 0, 0, 0, 1, 0, 0, 1, 0, 0, 0, 0], 0.20446735395189003, 3.158333333333333), 218: ('Cape Fear (1991)', [0, 0, 0, 0, 0, 0, 0, 0, 0, 0, 0, 0, 0, 0, 0, 0, 1, 0, 0], 0.2920962199312715, 3.456140350877193), 219: ('Nightmare on Elm Street, A (1984)', [0, 0, 0, 0, 0, 0, 0, 0, 0, 0, 0, 1, 0, 0, 0, 0, 0, 0, 0], 0.18900343642611683, 3.171171171171171), 220: ('Mirror Has Two Faces, The (1996)', [0, 0, 0, 0, 0, 1, 0, 0, 0, 0, 0, 0, 0, 0, 1, 0, 0, 0, 0], 0.11168384879725086, 3.3636363636363638), 221: ('Breaking the Waves (1996)', [0, 0, 0, 0, 0, 0, 0, 0, 1, 0, 0, 0, 0, 0, 0, 0, 0, 0, 0], 0.1254295532646048, 3.72972972972973), 222: ('Star Trek: First Contact (1996)', [0, 1, 1, 0, 0, 0, 0, 0, 0, 0, 0, 0, 0, 0, 0, 1, 0, 0, 0], 0.6254295532646048, 3.66027397260274), 223: ('Sling Blade (1996)', [0, 0, 0, 0, 0, 0, 0, 0, 1, 0, 0, 0, 0, 0, 0, 0, 1, 0, 0], 0.23195876288659795, 4.198529411764706), 224: ('Ridicule (1996)', [0, 0, 0, 0, 0, 0, 0, 0, 1, 0, 0, 0, 0, 0, 0, 0, 0, 0, 0], 0.07388316151202749, 3.7045454545454546), 225: ('101 Dalmatians (1996)', [0, 0, 0, 0, 1, 1, 0, 0, 0, 0, 0, 0, 0, 0, 0, 0, 0, 0, 0], 0.18556701030927836, 2.908256880733945), 226: ('Die Hard 2 (1990)', [0, 1, 0, 0, 0, 0, 0, 0, 0, 0, 0, 0, 0, 0, 0, 0, 1, 0, 0], 0.28350515463917525, 3.355421686746988), 227: ('Star Trek VI: The Undiscovered Country (1991)', [0, 1, 1, 0, 0, 0, 0, 0, 0, 0, 0, 0, 0, 0, 0, 1, 0, 0, 0], 0.27491408934707906, 3.279503105590062), 228: ('Star Trek: The Wrath of Khan (1982)', [0, 1, 1, 0, 0, 0, 0, 0, 0, 0, 0, 0, 0, 0, 0, 1, 0, 0, 0], 0.4175257731958763, 3.8155737704918034), 229: ('Star Trek III: The Search for Spock (1984)', [0, 1, 1, 0, 0, 0, 0, 0, 0, 0, 0, 0, 0, 0, 0, 1, 0, 0, 0], 0.2920962199312715, 3.111111111111111), 230: ('Star Trek IV: The Voyage Home (1986)', [0, 1, 1, 0, 0, 0, 0, 0, 0, 0, 0, 0, 0, 0, 0, 1, 0, 0, 0], 0.3402061855670103, 3.4472361809045227), 231: ('Batman Returns (1992)', [0, 1, 1, 0, 0, 1, 1, 0, 0, 0, 0, 0, 0, 0, 0, 0, 0, 0, 0], 0.2422680412371134, 2.683098591549296), 232: ('Young Guns (1988)', [0, 1, 0, 0, 0, 1, 0, 0, 0, 0, 0, 0, 0, 0, 0, 0, 0, 0, 1], 0.1718213058419244, 3.207920792079208), 233: ('Under Siege (1992)', [0, 1, 0, 0, 0, 0, 0, 0, 0, 0, 0, 0, 0, 0, 0, 0, 0, 0, 0], 0.211340206185567, 3.2903225806451615), 234: ('Jaws (1975)', [0, 1, 0, 0, 0, 0, 0, 0, 0, 0, 0, 1, 0, 0, 0, 0, 0, 0, 0], 0.4793814432989691, 3.775), 235: ('Mars Attacks! (1996)', [0, 1, 0, 0, 0, 1, 0, 0, 0, 0, 0, 0, 0, 0, 0, 1, 0, 1, 0], 0.3711340206185567, 2.847926267281106), 236: ('Citizen Ruth (1996)', [0, 0, 0, 0, 0, 1, 0, 0, 1, 0, 0, 0, 0, 0, 0, 0, 0, 0, 0], 0.07560137457044673, 3.6222222222222222), 237: ('Jerry Maguire (1996)', [0, 0, 0, 0, 0, 0, 0, 0, 1, 0, 0, 0, 0, 0, 1, 0, 0, 0, 0], 0.6580756013745704, 3.7109375), 238: ('Raising Arizona (1987)', [0, 0, 0, 0, 0, 1, 0, 0, 0, 0, 0, 0, 0, 0, 0, 0, 0, 0, 0], 0.4381443298969072, 3.875), 239: ('Sneakers (1992)', [0, 0, 0, 0, 0, 0, 1, 0, 1, 0, 0, 0, 0, 0, 0, 1, 0, 0, 0], 0.25601374570446733, 3.513333333333333), 240: ('Beavis and Butt-head Do America (1996)', [0, 0, 0, 1, 0, 1, 0, 0, 0, 0, 0, 0, 0, 0, 0, 0, 0, 0, 0], 0.2663230240549828, 2.7884615384615383), 241: ('Last of the Mohicans, The (1992)', [0, 1, 0, 0, 0, 0, 0, 0, 0, 0, 0, 0, 0, 0, 1, 0, 0, 1, 0], 0.218213058419244, 3.546875), 242: ('Kolya (1996)', [0, 0, 0, 0, 0, 1, 0, 0, 0, 0, 0, 0, 0, 0, 0, 0, 0, 0, 0], 0.19931271477663232, 3.9914529914529915), 243: ('Jungle2Jungle (1997)', [0, 0, 0, 0, 1, 1, 0, 0, 0, 0, 0, 0, 0, 0, 0, 0, 0, 0, 0], 0.22508591065292097, 2.4393939393939394), 244: (\"Smilla's Sense of Snow (1997)\", [0, 1, 0, 0, 0, 0, 0, 0, 1, 0, 0, 0, 0, 0, 0, 0, 1, 0, 0], 0.08075601374570447, 3.1666666666666665), 245: (\"Devil's Own, The (1997)\", [0, 1, 0, 0, 0, 0, 0, 0, 1, 0, 0, 0, 0, 0, 0, 0, 1, 1, 0], 0.4106529209621993, 3.1083333333333334), 246: ('Chasing Amy (1997)', [0, 0, 0, 0, 0, 0, 0, 0, 1, 0, 0, 0, 0, 0, 1, 0, 0, 0, 0], 0.211340206185567, 3.935483870967742), 247: ('Turbo: A Power Rangers Movie (1997)', [0, 1, 1, 0, 1, 0, 0, 0, 0, 0, 0, 0, 0, 0, 0, 0, 0, 0, 0], 0.006872852233676976, 1.8), 248: ('Grosse Pointe Blank (1997)', [0, 0, 0, 0, 0, 1, 1, 0, 0, 0, 0, 0, 0, 0, 0, 0, 0, 0, 0], 0.27319587628865977, 3.675), 249: ('Austin Powers: International Man of Mystery (1997)', [0, 0, 0, 0, 0, 1, 0, 0, 0, 0, 0, 0, 0, 0, 0, 0, 0, 0, 0], 0.22164948453608246, 3.246153846153846), 250: ('Fifth Element, The (1997)', [0, 1, 0, 0, 0, 0, 0, 0, 0, 0, 0, 0, 0, 0, 0, 1, 0, 0, 0], 0.33676975945017185, 3.4771573604060912), 251: ('Shall We Dance? (1996)', [0, 0, 0, 0, 0, 1, 0, 0, 0, 0, 0, 0, 0, 0, 0, 0, 0, 0, 0], 0.07731958762886598, 4.260869565217392), 252: ('Lost World: Jurassic Park, The (1997)', [0, 1, 1, 0, 0, 0, 0, 0, 0, 0, 0, 0, 0, 0, 0, 1, 1, 0, 0], 0.2697594501718213, 2.9430379746835444), 253: ('Pillow Book, The (1995)', [0, 0, 0, 0, 0, 0, 0, 0, 1, 0, 0, 0, 0, 0, 1, 0, 0, 0, 0], 0.0429553264604811, 3.6923076923076925), 254: ('Batman & Robin (1997)', [0, 1, 1, 0, 0, 0, 1, 0, 0, 0, 0, 0, 0, 0, 0, 0, 0, 0, 0], 0.10481099656357389, 2.4516129032258065), 255: (\"My Best Friend's Wedding (1997)\", [0, 0, 0, 0, 0, 1, 0, 0, 0, 0, 0, 0, 0, 0, 1, 0, 0, 0, 0], 0.29381443298969073, 3.36046511627907), 256: ('When the Cats Away (Chacun cherche son chat) (1996)', [0, 0, 0, 0, 0, 1, 0, 0, 0, 0, 0, 0, 0, 0, 1, 0, 0, 0, 0], 0.02577319587628866, 3.5625), 257: ('Men in Black (1997)', [0, 1, 1, 0, 0, 1, 0, 0, 0, 0, 0, 0, 0, 0, 0, 1, 0, 0, 0], 0.5189003436426117, 3.745874587458746), 258: ('Contact (1997)', [0, 0, 0, 0, 0, 0, 0, 0, 1, 0, 0, 0, 0, 0, 0, 1, 0, 0, 0], 0.872852233676976, 3.8035363457760316), 259: ('George of the Jungle (1997)', [0, 0, 0, 0, 1, 1, 0, 0, 0, 0, 0, 0, 0, 0, 0, 0, 0, 0, 0], 0.2766323024054983, 2.685185185185185), 260: ('Event Horizon (1997)', [0, 1, 0, 0, 0, 0, 0, 0, 0, 0, 0, 0, 0, 1, 0, 1, 1, 0, 0], 0.21649484536082475, 2.574803149606299), 261: ('Air Bud (1997)', [0, 0, 0, 0, 1, 1, 0, 0, 0, 0, 0, 0, 0, 0, 0, 0, 0, 0, 0], 0.07216494845360824, 2.558139534883721), 262: ('In the Company of Men (1997)', [0, 0, 0, 0, 0, 0, 0, 0, 1, 0, 0, 0, 0, 0, 0, 0, 0, 0, 0], 0.11168384879725086, 3.712121212121212), 263: ('Steel (1997)', [0, 1, 0, 0, 0, 0, 0, 0, 0, 0, 0, 0, 0, 0, 0, 0, 0, 0, 0], 0.030927835051546393, 2.1578947368421053), 264: ('Mimic (1997)', [0, 0, 0, 0, 0, 0, 0, 0, 0, 0, 0, 0, 0, 0, 0, 1, 1, 0, 0], 0.1718213058419244, 2.742574257425743), 265: ('Hunt for Red October, The (1990)', [0, 1, 0, 0, 0, 0, 0, 0, 0, 0, 0, 0, 0, 0, 0, 0, 1, 0, 0], 0.38831615120274915, 3.8634361233480177), 266: ('Kull the Conqueror (1997)', [0, 1, 1, 0, 0, 0, 0, 0, 0, 0, 0, 0, 0, 0, 0, 0, 0, 0, 0], 0.058419243986254296, 2.7142857142857144), 267: ('unknown', [1, 0, 0, 0, 0, 0, 0, 0, 0, 0, 0, 0, 0, 0, 0, 0, 0, 0, 0], 0.013745704467353952, 3.4444444444444446), 268: ('Chasing Amy (1997)', [0, 0, 0, 0, 0, 0, 0, 0, 1, 0, 0, 0, 0, 0, 1, 0, 0, 0, 0], 0.436426116838488, 3.792156862745098), 269: ('Full Monty, The (1997)', [0, 0, 0, 0, 0, 1, 0, 0, 0, 0, 0, 0, 0, 0, 0, 0, 0, 0, 0], 0.5395189003436426, 3.926984126984127), 270: ('Gattaca (1997)', [0, 0, 0, 0, 0, 0, 0, 0, 1, 0, 0, 0, 0, 0, 0, 1, 1, 0, 0], 0.23195876288659795, 3.5955882352941178), 271: ('Starship Troopers (1997)', [0, 1, 1, 0, 0, 0, 0, 0, 0, 0, 0, 0, 0, 0, 0, 1, 0, 1, 0], 0.36082474226804123, 3.2322274881516586), 272: ('Good Will Hunting (1997)', [0, 0, 0, 0, 0, 0, 0, 0, 1, 0, 0, 0, 0, 0, 0, 0, 0, 0, 0], 0.3384879725085911, 4.262626262626263), 273: ('Heat (1995)', [0, 1, 0, 0, 0, 0, 1, 0, 0, 0, 0, 0, 0, 0, 0, 0, 1, 0, 0], 0.38144329896907214, 3.569506726457399), 274: ('Sabrina (1995)', [0, 0, 0, 0, 0, 1, 0, 0, 0, 0, 0, 0, 0, 0, 1, 0, 0, 0, 0], 0.3247422680412371, 3.5), 275: ('Sense and Sensibility (1995)', [0, 0, 0, 0, 0, 0, 0, 0, 1, 0, 0, 0, 0, 0, 1, 0, 0, 0, 0], 0.4587628865979381, 4.0111940298507465), 276: ('Leaving Las Vegas (1995)', [0, 0, 0, 0, 0, 0, 0, 0, 1, 0, 0, 0, 0, 0, 1, 0, 0, 0, 0], 0.5103092783505154, 3.697986577181208), 277: ('Restoration (1995)', [0, 0, 0, 0, 0, 0, 0, 0, 1, 0, 0, 0, 0, 0, 0, 0, 0, 0, 0], 0.12027491408934708, 3.464788732394366), 278: ('Bed of Roses (1996)', [0, 0, 0, 0, 0, 0, 0, 0, 1, 0, 0, 0, 0, 0, 1, 0, 0, 0, 0], 0.1013745704467354, 3.2333333333333334), 279: ('Once Upon a Time... When We Were Colored (1995)', [0, 0, 0, 0, 0, 0, 0, 0, 1, 0, 0, 0, 0, 0, 0, 0, 0, 0, 0], 0.04639175257731959, 3.2857142857142856), 280: ('Up Close and Personal (1996)', [0, 0, 0, 0, 0, 0, 0, 0, 1, 0, 0, 0, 0, 0, 1, 0, 0, 0, 0], 0.14432989690721648, 3.1882352941176473), 281: ('River Wild, The (1994)', [0, 1, 0, 0, 0, 0, 0, 0, 0, 0, 0, 0, 0, 0, 0, 0, 1, 0, 0], 0.24914089347079038, 3.143835616438356), 282: ('Time to Kill, A (1996)', [0, 0, 0, 0, 0, 0, 0, 0, 1, 0, 0, 0, 0, 0, 0, 0, 0, 0, 0], 0.39690721649484534, 3.685344827586207), 283: ('Emma (1996)', [0, 0, 0, 0, 0, 0, 0, 0, 1, 0, 0, 0, 0, 0, 1, 0, 0, 0, 0], 0.3024054982817869, 3.7175141242937855), 284: ('Tin Cup (1996)', [0, 0, 0, 0, 0, 1, 0, 0, 0, 0, 0, 0, 0, 0, 1, 0, 0, 0, 0], 0.32989690721649484, 3.160621761658031), 285: ('Secrets & Lies (1996)', [0, 0, 0, 0, 0, 0, 0, 0, 1, 0, 0, 0, 0, 0, 0, 0, 0, 0, 0], 0.2766323024054983, 4.265432098765432), 286: ('English Patient, The (1996)', [0, 0, 0, 0, 0, 0, 0, 0, 1, 0, 0, 0, 0, 0, 1, 0, 0, 1, 0], 0.8247422680412371, 3.656964656964657), 287: (\"Marvin's Room (1996)\", [0, 0, 0, 0, 0, 0, 0, 0, 1, 0, 0, 0, 0, 0, 0, 0, 0, 0, 0], 0.1323024054982818, 3.58974358974359), 288: ('Scream (1996)', [0, 0, 0, 0, 0, 0, 0, 0, 0, 0, 0, 1, 0, 0, 0, 0, 1, 0, 0], 0.8195876288659794, 3.4414225941422596), 289: ('Evita (1996)', [0, 0, 0, 0, 0, 0, 0, 0, 1, 0, 0, 0, 1, 0, 0, 0, 0, 0, 0], 0.44329896907216493, 2.9806949806949805), 290: ('Fierce Creatures (1997)', [0, 0, 0, 0, 0, 1, 0, 0, 0, 0, 0, 0, 0, 0, 0, 0, 0, 0, 0], 0.16323024054982818, 3.1145833333333335), 291: ('Absolute Power (1997)', [0, 0, 0, 0, 0, 0, 0, 0, 0, 0, 0, 0, 0, 1, 0, 0, 1, 0, 0], 0.21649484536082475, 3.37007874015748), 292: ('Rosewood (1997)', [0, 0, 0, 0, 0, 0, 0, 0, 1, 0, 0, 0, 0, 0, 0, 0, 0, 0, 0], 0.19415807560137457, 3.6666666666666665), 293: ('Donnie Brasco (1997)', [0, 0, 0, 0, 0, 0, 1, 0, 1, 0, 0, 0, 0, 0, 0, 0, 0, 0, 0], 0.2508591065292096, 3.802721088435374), 294: ('Liar Liar (1997)', [0, 0, 0, 0, 0, 1, 0, 0, 0, 0, 0, 0, 0, 0, 0, 0, 0, 0, 0], 0.8316151202749141, 3.156701030927835), 295: ('Breakdown (1997)', [0, 1, 0, 0, 0, 0, 0, 0, 0, 0, 0, 0, 0, 0, 0, 0, 1, 0, 0], 0.13058419243986255, 3.4025974025974026), 296: ('Promesse, La (1996)', [0, 0, 0, 0, 0, 0, 0, 0, 1, 0, 0, 0, 0, 0, 0, 0, 0, 0, 0], 0.00859106529209622, 3.3333333333333335), 297: (\"Ulee's Gold (1997)\", [0, 0, 0, 0, 0, 0, 0, 0, 1, 0, 0, 0, 0, 0, 0, 0, 0, 0, 0], 0.08419243986254296, 3.96), 298: ('Face/Off (1997)', [0, 1, 0, 0, 0, 0, 0, 0, 0, 0, 0, 0, 0, 0, 0, 1, 1, 0, 0], 0.3316151202749141, 3.768041237113402), 299: ('Hoodlum (1997)', [0, 0, 0, 0, 0, 0, 1, 0, 1, 0, 1, 0, 0, 0, 0, 0, 0, 0, 0], 0.12371134020618557, 2.9315068493150687), 300: ('Air Force One (1997)', [0, 1, 0, 0, 0, 0, 0, 0, 0, 0, 0, 0, 0, 0, 0, 0, 1, 0, 0], 0.738831615120275, 3.6310904872389793), 301: ('In & Out (1997)', [0, 0, 0, 0, 0, 1, 0, 0, 0, 0, 0, 0, 0, 0, 0, 0, 0, 0, 0], 0.39347079037800686, 3.3043478260869565), 302: ('L.A. Confidential (1997)', [0, 0, 0, 0, 0, 0, 1, 0, 0, 0, 1, 0, 0, 1, 0, 0, 1, 0, 0], 0.5085910652920962, 4.161616161616162), 303: (\"Ulee's Gold (1997)\", [0, 0, 0, 0, 0, 0, 0, 0, 1, 0, 0, 0, 0, 0, 0, 0, 0, 0, 0], 0.22852233676975944, 3.6865671641791047), 304: ('Fly Away Home (1996)', [0, 0, 1, 0, 1, 0, 0, 0, 0, 0, 0, 0, 0, 0, 0, 0, 0, 0, 0], 0.2542955326460481, 3.5369127516778525), 305: ('Ice Storm, The (1997)', [0, 0, 0, 0, 0, 0, 0, 0, 1, 0, 0, 0, 0, 0, 0, 0, 0, 0, 0], 0.14776632302405499, 3.6436781609195403), 306: ('Mrs. Brown (Her Majesty, Mrs. Brown) (1997)', [0, 0, 0, 0, 0, 0, 0, 0, 1, 0, 0, 0, 0, 0, 1, 0, 0, 0, 0], 0.16323024054982818, 3.9479166666666665), 307: (\"Devil's Advocate, The (1997)\", [0, 0, 0, 0, 0, 0, 1, 0, 0, 0, 0, 1, 0, 1, 0, 0, 1, 0, 0], 0.32130584192439865, 3.515957446808511), 308: ('FairyTale: A True Story (1997)', [0, 0, 0, 0, 1, 0, 0, 0, 1, 1, 0, 0, 0, 0, 0, 0, 0, 0, 0], 0.04982817869415808, 2.966666666666667), 309: ('Deceiver (1997)', [0, 0, 0, 0, 0, 0, 1, 0, 0, 0, 0, 0, 0, 0, 0, 0, 0, 0, 0], 0.04639175257731959, 2.857142857142857), 310: ('Rainmaker, The (1997)', [0, 0, 0, 0, 0, 0, 0, 0, 1, 0, 0, 0, 0, 0, 0, 0, 0, 0, 0], 0.24742268041237114, 3.6), 311: ('Wings of the Dove, The (1997)', [0, 0, 0, 0, 0, 0, 0, 0, 1, 0, 0, 0, 0, 0, 1, 0, 1, 0, 0], 0.12714776632302405, 3.68), 312: ('Midnight in the Garden of Good and Evil (1997)', [0, 0, 0, 0, 0, 1, 1, 0, 1, 0, 0, 0, 0, 1, 0, 0, 0, 0, 0], 0.13573883161512026, 3.1625), 313: ('Titanic (1997)', [0, 1, 0, 0, 0, 0, 0, 0, 1, 0, 0, 0, 0, 0, 1, 0, 0, 0, 0], 0.5996563573883161, 4.2457142857142856), 314: ('3 Ninjas: High Noon At Mega Mountain (1998)', [0, 1, 0, 0, 1, 0, 0, 0, 0, 0, 0, 0, 0, 0, 0, 0, 0, 0, 0], 0.006872852233676976, 1.0), 315: ('Apt Pupil (1998)', [0, 0, 0, 0, 0, 0, 0, 0, 1, 0, 0, 0, 0, 0, 0, 0, 1, 0, 0], 0.27319587628865977, 4.1), 316: ('As Good As It Gets (1997)', [0, 0, 0, 0, 0, 1, 0, 0, 1, 0, 0, 0, 0, 0, 0, 0, 0, 0, 0], 0.19072164948453607, 4.196428571428571), 317: ('In the Name of the Father (1993)', [0, 0, 0, 0, 0, 0, 0, 0, 1, 0, 0, 0, 0, 0, 0, 0, 0, 0, 0], 0.17353951890034364, 3.911764705882353), 318: (\"Schindler's List (1993)\", [0, 0, 0, 0, 0, 0, 0, 0, 1, 0, 0, 0, 0, 0, 0, 0, 0, 1, 0], 0.5103092783505154, 4.466442953020135), 319: ('Everyone Says I Love You (1996)', [0, 0, 0, 0, 0, 1, 0, 0, 0, 0, 0, 0, 1, 0, 1, 0, 0, 0, 0], 0.2869415807560137, 3.2738095238095237), 320: ('Paradise Lost: The Child Murders at Robin Hood Hills (1996)', [0, 0, 0, 0, 0, 0, 0, 1, 0, 0, 0, 0, 0, 0, 0, 0, 0, 0, 0], 0.03264604810996564, 4.05), 321: ('Mother (1996)', [0, 0, 0, 0, 0, 1, 0, 0, 0, 0, 0, 0, 0, 0, 0, 0, 0, 0, 0], 0.28865979381443296, 3.1301775147928996), 322: ('Murder at 1600 (1997)', [0, 0, 0, 0, 0, 0, 0, 0, 0, 0, 0, 0, 0, 1, 0, 0, 1, 0, 0], 0.37285223367697595, 3.0871559633027523), 323: (\"Dante's Peak (1997)\", [0, 1, 0, 0, 0, 0, 0, 0, 0, 0, 0, 0, 0, 0, 0, 0, 1, 0, 0], 0.4106529209621993, 2.933333333333333), 324: ('Lost Highway (1997)', [0, 0, 0, 0, 0, 0, 0, 0, 0, 0, 0, 0, 0, 1, 0, 0, 0, 0, 0], 0.21305841924398625, 3.136), 325: ('Crash (1996)', [0, 0, 0, 0, 0, 0, 0, 0, 1, 0, 0, 0, 0, 0, 0, 0, 1, 0, 0], 0.218213058419244, 2.546875), 326: ('G.I. Jane (1997)', [0, 1, 0, 0, 0, 0, 0, 0, 1, 0, 0, 0, 0, 0, 0, 0, 0, 1, 0], 0.29896907216494845, 3.36), 327: ('Cop Land (1997)', [0, 0, 0, 0, 0, 0, 1, 0, 1, 0, 0, 0, 0, 1, 0, 0, 0, 0, 0], 0.29896907216494845, 3.3771428571428572), 328: ('Conspiracy Theory (1997)', [0, 1, 0, 0, 0, 0, 0, 0, 0, 0, 0, 0, 0, 1, 1, 0, 1, 0, 0], 0.5051546391752577, 3.4237288135593222), 329: ('Desperate Measures (1998)', [0, 0, 0, 0, 0, 0, 1, 0, 1, 0, 0, 0, 0, 0, 0, 0, 1, 0, 0], 0.07560137457044673, 3.3333333333333335), 330: ('187 (1997)', [0, 0, 0, 0, 0, 0, 0, 0, 1, 0, 0, 0, 0, 0, 0, 0, 0, 0, 0], 0.06872852233676977, 3.024390243902439), 331: ('Edge, The (1997)', [0, 0, 1, 0, 0, 0, 0, 0, 0, 0, 0, 0, 0, 0, 0, 0, 1, 0, 0], 0.19243986254295534, 3.5398230088495577), 332: ('Kiss the Girls (1997)', [0, 0, 0, 0, 0, 0, 1, 0, 1, 0, 0, 0, 0, 0, 0, 0, 1, 0, 0], 0.24398625429553264, 3.4615384615384617), 333: ('Game, The (1997)', [0, 0, 0, 0, 0, 0, 0, 0, 0, 0, 0, 0, 0, 1, 0, 0, 1, 0, 0], 0.42955326460481097, 3.593625498007968), 334: ('U Turn (1997)', [0, 1, 0, 0, 0, 0, 1, 0, 0, 0, 0, 0, 0, 1, 0, 0, 0, 0, 0], 0.10824742268041238, 3.359375), 335: ('How to Be a Player (1997)', [0, 0, 0, 0, 0, 1, 0, 0, 0, 0, 0, 0, 0, 0, 0, 0, 0, 0, 0], 0.03436426116838488, 2.761904761904762), 336: ('Playing God (1997)', [0, 0, 0, 0, 0, 0, 1, 0, 0, 0, 0, 0, 0, 0, 0, 0, 1, 0, 0], 0.07216494845360824, 2.627906976744186), 337: ('House of Yes, The (1997)', [0, 0, 0, 0, 0, 1, 0, 0, 1, 0, 0, 0, 0, 0, 0, 0, 1, 0, 0], 0.029209621993127148, 3.0), 338: ('Bean (1997)', [0, 0, 0, 0, 0, 1, 0, 0, 0, 0, 0, 0, 0, 0, 0, 0, 0, 0, 0], 0.15463917525773196, 2.659340659340659), 339: ('Mad City (1997)', [0, 1, 0, 0, 0, 0, 0, 0, 1, 0, 0, 0, 0, 0, 0, 0, 0, 0, 0], 0.07903780068728522, 3.25531914893617), 340: ('Boogie Nights (1997)', [0, 0, 0, 0, 0, 0, 0, 0, 1, 0, 0, 0, 0, 0, 0, 0, 0, 0, 0], 0.3230240549828179, 3.5873015873015874), 341: ('Critical Care (1997)', [0, 0, 0, 0, 0, 1, 0, 0, 0, 0, 0, 0, 0, 0, 0, 0, 0, 0, 0], 0.01718213058419244, 3.090909090909091), 342: ('Man Who Knew Too Little, The (1997)', [0, 0, 0, 0, 0, 1, 0, 0, 0, 0, 0, 0, 0, 1, 0, 0, 0, 0, 0], 0.08762886597938144, 2.923076923076923), 343: ('Alien: Resurrection (1997)', [0, 1, 0, 0, 0, 0, 0, 0, 0, 0, 0, 1, 0, 0, 0, 1, 0, 0, 0], 0.211340206185567, 3.096774193548387), 344: ('Apostle, The (1997)', [0, 0, 0, 0, 0, 0, 0, 0, 1, 0, 0, 0, 0, 0, 0, 0, 0, 0, 0], 0.09278350515463918, 3.6545454545454548), 345: ('Deconstructing Harry (1997)', [0, 0, 0, 0, 0, 1, 0, 0, 1, 0, 0, 0, 0, 0, 0, 0, 0, 0, 0], 0.10996563573883161, 3.4), 346: ('Jackie Brown (1997)', [0, 0, 0, 0, 0, 0, 1, 0, 1, 0, 0, 0, 0, 0, 0, 0, 0, 0, 0], 0.21477663230240548, 3.642857142857143), 347: ('Wag the Dog (1997)', [0, 0, 0, 0, 0, 1, 0, 0, 1, 0, 0, 0, 0, 0, 0, 0, 0, 0, 0], 0.23367697594501718, 3.510948905109489), 348: ('Desperate Measures (1998)', [0, 0, 0, 0, 0, 0, 1, 0, 1, 0, 0, 0, 0, 0, 0, 0, 1, 0, 0], 0.044673539518900345, 3.2962962962962963), 349: ('Hard Rain (1998)', [0, 1, 0, 0, 0, 0, 0, 0, 0, 0, 0, 0, 0, 0, 0, 0, 1, 0, 0], 0.05154639175257732, 2.903225806451613), 350: ('Fallen (1998)', [0, 1, 0, 0, 0, 0, 0, 0, 0, 0, 0, 0, 0, 1, 0, 0, 1, 0, 0], 0.06872852233676977, 3.1463414634146343), 351: ('Prophecy II, The (1998)', [0, 0, 0, 0, 0, 0, 0, 0, 0, 0, 0, 1, 0, 0, 0, 0, 0, 0, 0], 0.03264604810996564, 2.7), 352: ('Spice World (1997)', [0, 0, 0, 0, 0, 1, 0, 0, 0, 0, 0, 0, 1, 0, 0, 0, 0, 0, 0], 0.0429553264604811, 2.1153846153846154), 353: ('Deep Rising (1998)', [0, 1, 0, 0, 0, 0, 0, 0, 0, 0, 0, 1, 0, 0, 0, 1, 0, 0, 0], 0.022336769759450172, 2.4285714285714284), 354: ('Wedding Singer, The (1998)', [0, 0, 0, 0, 0, 1, 0, 0, 0, 0, 0, 0, 0, 0, 1, 0, 0, 0, 0], 0.12199312714776632, 3.486111111111111), 355: ('Sphere (1998)', [0, 0, 1, 0, 0, 0, 0, 0, 0, 0, 0, 0, 0, 0, 0, 1, 1, 0, 0], 0.06872852233676977, 2.926829268292683), 356: ('Client, The (1994)', [0, 0, 0, 0, 0, 0, 0, 0, 1, 0, 0, 0, 0, 1, 0, 0, 1, 0, 0], 0.16494845360824742, 3.381443298969072), 357: (\"One Flew Over the Cuckoo's Nest (1975)\", [0, 0, 0, 0, 0, 0, 0, 0, 1, 0, 0, 0, 0, 0, 0, 0, 0, 0, 0], 0.4518900343642612, 4.291666666666667), 358: ('Spawn (1997)', [0, 1, 1, 0, 0, 0, 0, 0, 0, 0, 0, 0, 0, 0, 0, 1, 1, 0, 0], 0.24398625429553264, 2.6153846153846154), 359: ('Assignment, The (1997)', [0, 0, 0, 0, 0, 0, 0, 0, 0, 0, 0, 0, 0, 0, 0, 0, 1, 0, 0], 0.029209621993127148, 3.5), 360: ('Wonderland (1997)', [0, 0, 0, 0, 0, 0, 0, 1, 0, 0, 0, 0, 0, 0, 0, 0, 0, 0, 0], 0.015463917525773196, 3.2), 361: ('Incognito (1997)', [0, 0, 0, 0, 0, 0, 1, 0, 0, 0, 0, 0, 0, 0, 0, 0, 1, 0, 0], 0.015463917525773196, 3.5), 362: ('Blues Brothers 2000 (1998)', [0, 1, 0, 0, 0, 1, 0, 0, 0, 0, 0, 0, 1, 0, 0, 0, 0, 0, 0], 0.04639175257731959, 2.8214285714285716), 363: ('Sudden Death (1995)', [0, 1, 0, 0, 0, 0, 0, 0, 0, 0, 0, 0, 0, 0, 0, 0, 0, 0, 0], 0.07903780068728522, 2.723404255319149), 364: ('Ace Ventura: When Nature Calls (1995)', [0, 0, 0, 0, 0, 1, 0, 0, 0, 0, 0, 0, 0, 0, 0, 0, 0, 0, 0], 0.061855670103092786, 2.675675675675676), 365: ('Powder (1995)', [0, 0, 0, 0, 0, 0, 0, 0, 1, 0, 0, 0, 0, 0, 0, 0, 0, 0, 0], 0.08075601374570447, 3.2083333333333335), 366: ('Dangerous Minds (1995)', [0, 0, 0, 0, 0, 0, 0, 0, 1, 0, 0, 0, 0, 0, 0, 0, 0, 0, 0], 0.07903780068728522, 3.3404255319148937), 367: ('Clueless (1995)', [0, 0, 0, 0, 0, 1, 0, 0, 0, 0, 0, 0, 0, 0, 0, 0, 0, 0, 0], 0.29037800687285226, 3.458823529411765), 368: ('Bio-Dome (1996)', [0, 0, 0, 0, 0, 1, 0, 0, 0, 0, 0, 0, 0, 0, 0, 0, 0, 0, 0], 0.05154639175257732, 1.903225806451613), 369: ('Black Sheep (1996)', [0, 0, 0, 0, 0, 1, 0, 0, 0, 0, 0, 0, 0, 0, 0, 0, 0, 0, 0], 0.09278350515463918, 2.6363636363636362), 370: ('Mary Reilly (1996)', [0, 0, 0, 0, 0, 0, 0, 0, 1, 0, 0, 0, 0, 0, 0, 0, 1, 0, 0], 0.06529209621993128, 2.8205128205128207), 371: ('Bridges of Madison County, The (1995)', [0, 0, 0, 0, 0, 0, 0, 0, 1, 0, 0, 0, 0, 0, 1, 0, 0, 0, 0], 0.1134020618556701, 3.1641791044776117), 372: ('Jeffrey (1995)', [0, 0, 0, 0, 0, 1, 0, 0, 0, 0, 0, 0, 0, 0, 0, 0, 0, 0, 0], 0.05670103092783505, 3.5294117647058822), 373: ('Judge Dredd (1995)', [0, 1, 1, 0, 0, 0, 0, 0, 0, 0, 0, 0, 0, 0, 0, 1, 0, 0, 0], 0.06529209621993128, 2.8974358974358974), 374: ('Mighty Morphin Power Rangers: The Movie (1995)', [0, 1, 0, 0, 1, 0, 0, 0, 0, 0, 0, 0, 0, 0, 0, 0, 0, 0, 0], 0.01718213058419244, 2.272727272727273), 375: ('Showgirls (1995)', [0, 0, 0, 0, 0, 0, 0, 0, 1, 0, 0, 0, 0, 0, 0, 0, 0, 0, 0], 0.037800687285223365, 1.9565217391304348), 376: ('Houseguest (1994)', [0, 0, 0, 0, 0, 1, 0, 0, 0, 0, 0, 0, 0, 0, 0, 0, 0, 0, 0], 0.03951890034364261, 2.8333333333333335), 377: ('Heavyweights (1994)', [0, 0, 0, 0, 1, 1, 0, 0, 0, 0, 0, 0, 0, 0, 0, 0, 0, 0, 0], 0.020618556701030927, 2.1538461538461537), 378: ('Miracle on 34th Street (1994)', [0, 0, 0, 0, 0, 0, 0, 0, 1, 0, 0, 0, 0, 0, 0, 0, 0, 0, 0], 0.1718213058419244, 3.722772277227723), 379: ('Tales From the Crypt Presents: Demon Knight (1995)', [0, 0, 0, 0, 0, 0, 0, 0, 0, 0, 0, 1, 0, 0, 0, 0, 0, 0, 0], 0.07216494845360824, 2.9767441860465116), 380: ('Star Trek: Generations (1994)', [0, 1, 1, 0, 0, 0, 0, 0, 0, 0, 0, 0, 0, 0, 0, 1, 0, 0, 0], 0.19759450171821305, 3.336206896551724), 381: (\"Muriel's Wedding (1994)\", [0, 0, 0, 0, 0, 1, 0, 0, 0, 0, 0, 0, 0, 0, 1, 0, 0, 0, 0], 0.17010309278350516, 3.55), 382: ('Adventures of Priscilla, Queen of the Desert, The (1994)', [0, 0, 0, 0, 0, 1, 0, 0, 1, 0, 0, 0, 0, 0, 0, 0, 0, 0, 0], 0.18900343642611683, 3.5945945945945947), 383: ('Flintstones, The (1994)', [0, 0, 0, 0, 1, 1, 0, 0, 0, 0, 0, 0, 0, 0, 0, 0, 0, 0, 0], 0.05154639175257732, 2.064516129032258), 384: ('Naked Gun 33 1/3: The Final Insult (1994)', [0, 0, 0, 0, 0, 1, 0, 0, 0, 0, 0, 0, 0, 0, 0, 0, 0, 0, 0], 0.11683848797250859, 2.782608695652174), 385: ('True Lies (1994)', [0, 1, 1, 0, 0, 1, 0, 0, 0, 0, 0, 0, 0, 0, 1, 0, 0, 0, 0], 0.3556701030927835, 3.5625), 386: ('Addams Family Values (1993)', [0, 0, 0, 0, 0, 1, 0, 0, 0, 0, 0, 0, 0, 0, 0, 0, 0, 0, 0], 0.14776632302405499, 2.8160919540229883), 387: ('Age of Innocence, The (1993)', [0, 0, 0, 0, 0, 0, 0, 0, 1, 0, 0, 0, 0, 0, 0, 0, 0, 0, 0], 0.10996563573883161, 3.3846153846153846), 388: ('Beverly Hills Cop III (1994)', [0, 1, 0, 0, 0, 1, 0, 0, 0, 0, 0, 0, 0, 0, 0, 0, 0, 0, 0], 0.04639175257731959, 2.392857142857143), 389: ('Black Beauty (1994)', [0, 0, 1, 0, 1, 0, 0, 0, 0, 0, 0, 0, 0, 0, 0, 0, 0, 0, 0], 0.044673539518900345, 3.4444444444444446), 390: ('Fear of a Black Hat (1993)', [0, 0, 0, 0, 0, 1, 0, 0, 0, 0, 0, 0, 0, 0, 0, 0, 0, 0, 0], 0.015463917525773196, 3.2), 391: ('Last Action Hero (1993)', [0, 1, 0, 0, 0, 1, 0, 0, 0, 0, 0, 0, 0, 0, 0, 0, 0, 0, 0], 0.09965635738831616, 2.7457627118644066), 392: ('Man Without a Face, The (1993)', [0, 0, 0, 0, 0, 0, 0, 0, 1, 0, 0, 0, 0, 0, 0, 0, 0, 0, 0], 0.11512027491408934, 3.5441176470588234), 393: ('Mrs. Doubtfire (1993)', [0, 0, 0, 0, 0, 1, 0, 0, 0, 0, 0, 0, 0, 0, 0, 0, 0, 0, 0], 0.3281786941580756, 3.4114583333333335), 394: ('Radioland Murders (1994)', [0, 0, 0, 0, 0, 1, 0, 0, 0, 0, 0, 0, 0, 1, 1, 0, 0, 0, 0], 0.018900343642611683, 3.3333333333333335), 395: ('Robin Hood: Men in Tights (1993)', [0, 0, 0, 0, 0, 1, 0, 0, 0, 0, 0, 0, 0, 0, 0, 0, 0, 0, 0], 0.09450171821305842, 2.5892857142857144), 396: ('Serial Mom (1994)', [0, 0, 0, 0, 0, 1, 1, 0, 0, 0, 0, 1, 0, 0, 0, 0, 0, 0, 0], 0.09106529209621993, 2.814814814814815), 397: ('Striking Distance (1993)', [0, 1, 0, 0, 0, 0, 0, 0, 0, 0, 0, 0, 0, 0, 0, 0, 0, 0, 0], 0.018900343642611683, 2.5833333333333335), 398: ('Super Mario Bros. (1993)', [0, 1, 1, 0, 1, 0, 0, 0, 0, 0, 0, 0, 0, 0, 0, 1, 0, 0, 0], 0.0429553264604811, 2.076923076923077), 399: ('Three Musketeers, The (1993)', [0, 1, 1, 0, 0, 1, 0, 0, 0, 0, 0, 0, 0, 0, 0, 0, 0, 0, 0], 0.15120274914089346, 3.303370786516854), 400: ('Little Rascals, The (1994)', [0, 0, 0, 0, 1, 1, 0, 0, 0, 0, 0, 0, 0, 0, 0, 0, 0, 0, 0], 0.029209621993127148, 2.7222222222222223), 401: ('Brady Bunch Movie, The (1995)', [0, 0, 0, 0, 0, 1, 0, 0, 0, 0, 0, 0, 0, 0, 0, 0, 0, 0, 0], 0.12886597938144329, 2.8026315789473686), 402: ('Ghost (1990)', [0, 0, 0, 0, 0, 1, 0, 0, 0, 0, 0, 0, 0, 0, 1, 0, 1, 0, 0], 0.29037800687285226, 3.4647058823529413), 403: ('Batman (1989)', [0, 1, 1, 0, 0, 0, 1, 0, 1, 0, 0, 0, 0, 0, 0, 0, 0, 0, 0], 0.3436426116838488, 3.427860696517413), 404: ('Pinocchio (1940)', [0, 0, 0, 1, 1, 0, 0, 0, 0, 0, 0, 0, 0, 0, 0, 0, 0, 0, 0], 0.1718213058419244, 3.6732673267326734), 405: ('Mission: Impossible (1996)', [0, 1, 1, 0, 0, 0, 0, 0, 0, 0, 0, 0, 0, 1, 0, 0, 0, 0, 0], 0.5893470790378007, 3.313953488372093), 406: ('Thinner (1996)', [0, 0, 0, 0, 0, 0, 0, 0, 0, 0, 0, 1, 0, 0, 0, 0, 1, 0, 0], 0.08247422680412371, 2.4489795918367347), 407: ('Spy Hard (1996)', [0, 0, 0, 0, 0, 1, 0, 0, 0, 0, 0, 0, 0, 0, 0, 0, 0, 0, 0], 0.07216494845360824, 2.511627906976744), 408: ('Close Shave, A (1995)', [0, 0, 0, 1, 0, 1, 0, 0, 0, 0, 0, 0, 0, 0, 0, 0, 1, 0, 0], 0.19072164948453607, 4.491071428571429), 409: ('Jack (1996)', [0, 0, 0, 0, 0, 1, 0, 0, 1, 0, 0, 0, 0, 0, 0, 0, 0, 0, 0], 0.11855670103092783, 3.142857142857143), 410: ('Kingpin (1996)', [0, 0, 0, 0, 0, 1, 0, 0, 0, 0, 0, 0, 0, 0, 0, 0, 0, 0, 0], 0.2766323024054983, 3.1296296296296298), 411: ('Nutty Professor, The (1996)', [0, 0, 0, 0, 0, 1, 0, 0, 0, 1, 0, 0, 0, 0, 1, 1, 0, 0, 0], 0.27835051546391754, 2.914110429447853), 412: ('Very Brady Sequel, A (1996)', [0, 0, 0, 0, 0, 1, 0, 0, 0, 0, 0, 0, 0, 0, 0, 0, 0, 0, 0], 0.15807560137457044, 2.3978494623655915), 413: ('Tales from the Crypt Presents: Bordello of Blood (1996)', [0, 0, 0, 0, 0, 0, 0, 0, 0, 0, 0, 1, 0, 0, 0, 0, 0, 0, 0], 0.09278350515463918, 2.6363636363636362), 414: ('My Favorite Year (1982)', [0, 0, 0, 0, 0, 1, 0, 0, 0, 0, 0, 0, 0, 0, 0, 0, 0, 0, 0], 0.10481099656357389, 3.532258064516129), 415: ('Apple Dumpling Gang, The (1975)', [0, 0, 0, 0, 1, 1, 0, 0, 0, 0, 0, 0, 0, 0, 0, 0, 0, 0, 1], 0.041237113402061855, 2.84), 416: ('Old Yeller (1957)', [0, 0, 0, 0, 1, 0, 0, 0, 1, 0, 0, 0, 0, 0, 0, 0, 0, 0, 0], 0.10824742268041238, 3.484375), 417: ('Parent Trap, The (1961)', [0, 0, 0, 0, 1, 0, 0, 0, 1, 0, 0, 0, 0, 0, 0, 0, 0, 0, 0], 0.12371134020618557, 3.095890410958904), 418: ('Cinderella (1950)', [0, 0, 0, 1, 1, 0, 0, 0, 0, 0, 0, 0, 1, 0, 0, 0, 0, 0, 0], 0.21993127147766323, 3.5813953488372094), 419: ('Mary Poppins (1964)', [0, 0, 0, 0, 1, 1, 0, 0, 0, 0, 0, 0, 1, 0, 0, 0, 0, 0, 0], 0.30412371134020616, 3.7247191011235956), 420: ('Alice in Wonderland (1951)', [0, 0, 0, 1, 1, 0, 0, 0, 0, 0, 0, 0, 1, 0, 0, 0, 0, 0, 0], 0.13745704467353953, 3.6666666666666665), 421: (\"William Shakespeare's Romeo and Juliet (1996)\", [0, 0, 0, 0, 0, 0, 0, 0, 1, 0, 0, 0, 0, 0, 1, 0, 0, 0, 0], 0.18041237113402062, 3.5943396226415096), 422: ('Aladdin and the King of Thieves (1996)', [0, 0, 0, 1, 1, 1, 0, 0, 0, 0, 0, 0, 0, 0, 0, 0, 0, 0, 0], 0.0429553264604811, 2.8461538461538463), 423: ('E.T. the Extra-Terrestrial (1982)', [0, 0, 0, 0, 1, 0, 0, 0, 1, 1, 0, 0, 0, 0, 0, 1, 0, 0, 0], 0.5137457044673539, 3.8333333333333335), 424: ('Children of the Corn: The Gathering (1996)', [0, 0, 0, 0, 0, 0, 0, 0, 0, 0, 0, 1, 0, 0, 0, 0, 0, 0, 0], 0.030927835051546393, 1.3157894736842106), 425: ('Bob Roberts (1992)', [0, 0, 0, 0, 0, 1, 0, 0, 0, 0, 0, 0, 0, 0, 0, 0, 0, 0, 0], 0.14432989690721648, 3.7411764705882353), 426: ('Transformers: The Movie, The (1986)', [0, 1, 0, 1, 1, 0, 0, 0, 0, 0, 0, 0, 0, 0, 0, 1, 1, 1, 0], 0.05326460481099656, 2.84375), 427: ('To Kill a Mockingbird (1962)', [0, 0, 0, 0, 0, 0, 0, 0, 1, 0, 0, 0, 0, 0, 0, 0, 0, 0, 0], 0.3745704467353952, 4.292237442922374), 428: ('Harold and Maude (1971)', [0, 0, 0, 0, 0, 1, 0, 0, 0, 0, 0, 0, 0, 0, 0, 0, 0, 0, 0], 0.20618556701030927, 3.8181818181818183), 429: ('Day the Earth Stood Still, The (1951)', [0, 0, 0, 0, 0, 0, 0, 0, 1, 0, 0, 0, 0, 0, 0, 1, 0, 0, 0], 0.16494845360824742, 3.9381443298969074), 430: ('Duck Soup (1933)', [0, 0, 0, 0, 0, 1, 0, 0, 0, 0, 0, 0, 0, 0, 0, 0, 0, 1, 0], 0.15807560137457044, 4.0), 431: ('Highlander (1986)', [0, 1, 1, 0, 0, 0, 0, 0, 0, 0, 0, 0, 0, 0, 0, 0, 0, 0, 0], 0.2611683848797251, 3.5359477124183005), 432: ('Fantasia (1940)', [0, 0, 0, 1, 1, 0, 0, 0, 0, 0, 0, 0, 1, 0, 0, 0, 0, 0, 0], 0.2972508591065292, 3.7701149425287355), 433: ('Heathers (1989)', [0, 0, 0, 0, 0, 1, 0, 0, 0, 0, 0, 0, 0, 0, 0, 0, 0, 0, 0], 0.2920962199312715, 3.690058479532164), 434: ('Forbidden Planet (1956)', [0, 0, 0, 0, 0, 0, 0, 0, 0, 0, 0, 0, 0, 0, 0, 1, 0, 0, 0], 0.1134020618556701, 3.8358208955223883), 435: ('Butch Cassidy and the Sundance Kid (1969)', [0, 1, 0, 0, 0, 1, 0, 0, 0, 0, 0, 0, 0, 0, 0, 0, 0, 0, 1], 0.3694158075601375, 3.949074074074074), 436: ('American Werewolf in London, An (1981)', [0, 0, 0, 0, 0, 0, 0, 0, 0, 0, 0, 1, 0, 0, 0, 0, 0, 0, 0], 0.16838487972508592, 3.5353535353535355), 437: (\"Amityville 1992: It's About Time (1992)\", [0, 0, 0, 0, 0, 0, 0, 0, 0, 0, 0, 1, 0, 0, 0, 0, 0, 0, 0], 0.006872852233676976, 1.0), 438: ('Amityville 3-D (1983)', [0, 0, 0, 0, 0, 0, 0, 0, 0, 0, 0, 1, 0, 0, 0, 0, 0, 0, 0], 0.00859106529209622, 1.1666666666666667), 439: ('Amityville: A New Generation (1993)', [0, 0, 0, 0, 0, 0, 0, 0, 0, 0, 0, 1, 0, 0, 0, 0, 0, 0, 0], 0.006872852233676976, 1.0), 440: ('Amityville II: The Possession (1982)', [0, 0, 0, 0, 0, 0, 0, 0, 0, 0, 0, 1, 0, 0, 0, 0, 0, 0, 0], 0.022336769759450172, 1.6428571428571428), 441: ('Amityville Horror, The (1979)', [0, 0, 0, 0, 0, 0, 0, 0, 0, 0, 0, 1, 0, 0, 0, 0, 0, 0, 0], 0.08934707903780069, 2.5660377358490565), 442: ('Amityville Curse, The (1990)', [0, 0, 0, 0, 0, 0, 0, 0, 0, 0, 0, 1, 0, 0, 0, 0, 0, 0, 0], 0.005154639175257732, 1.25), 443: ('Birds, The (1963)', [0, 0, 0, 0, 0, 0, 0, 0, 0, 0, 0, 1, 0, 0, 0, 0, 0, 0, 0], 0.2766323024054983, 3.808641975308642), 444: ('Blob, The (1958)', [0, 0, 0, 0, 0, 0, 0, 0, 0, 0, 0, 1, 0, 0, 0, 1, 0, 0, 0], 0.07731958762886598, 2.717391304347826), 445: ('Body Snatcher, The (1945)', [0, 0, 0, 0, 0, 0, 0, 0, 0, 0, 0, 1, 0, 0, 0, 0, 0, 0, 0], 0.03608247422680412, 3.5), 446: ('Burnt Offerings (1976)', [0, 0, 0, 0, 0, 0, 0, 0, 0, 0, 0, 1, 0, 0, 0, 0, 0, 0, 0], 0.013745704467353952, 2.4444444444444446), 447: ('Carrie (1976)', [0, 0, 0, 0, 0, 0, 0, 0, 0, 0, 0, 1, 0, 0, 0, 0, 0, 0, 0], 0.20618556701030927, 3.5041322314049586), 448: ('Omen, The (1976)', [0, 0, 0, 0, 0, 0, 0, 0, 0, 0, 0, 1, 0, 0, 0, 0, 0, 0, 0], 0.14432989690721648, 3.388235294117647), 449: ('Star Trek: The Motion Picture (1979)', [0, 1, 1, 0, 0, 0, 0, 0, 0, 0, 0, 0, 0, 0, 0, 1, 0, 0, 0], 0.19931271477663232, 3.034188034188034), 450: ('Star Trek V: The Final Frontier (1989)', [0, 1, 1, 0, 0, 0, 0, 0, 0, 0, 0, 0, 0, 0, 0, 1, 0, 0, 0], 0.10652920962199312, 2.3968253968253967), 451: ('Grease (1978)', [0, 0, 0, 0, 0, 1, 0, 0, 0, 0, 0, 0, 1, 0, 1, 0, 0, 0, 0], 0.29037800687285226, 3.347058823529412), 452: ('Jaws 2 (1978)', [0, 1, 0, 0, 0, 0, 0, 0, 0, 0, 0, 1, 0, 0, 0, 0, 0, 0, 0], 0.11168384879725086, 2.6666666666666665), 453: ('Jaws 3-D (1983)', [0, 1, 0, 0, 0, 0, 0, 0, 0, 0, 0, 1, 0, 0, 0, 0, 0, 0, 0], 0.02577319587628866, 1.9375), 454: ('Bastard Out of Carolina (1996)', [0, 0, 0, 0, 0, 0, 0, 0, 1, 0, 0, 0, 0, 0, 0, 0, 0, 0, 0], 0.02577319587628866, 2.875), 455: (\"Jackie Chan's First Strike (1996)\", [0, 1, 0, 0, 0, 0, 0, 0, 0, 0, 0, 0, 0, 0, 0, 0, 0, 0, 0], 0.24742268041237114, 3.2551724137931033), 456: ('Beverly Hills Ninja (1997)', [0, 1, 0, 0, 0, 1, 0, 0, 0, 0, 0, 0, 0, 0, 0, 0, 0, 0, 0], 0.08075601374570447, 2.3125), 457: ('Free Willy 3: The Rescue (1997)', [0, 0, 1, 0, 1, 0, 0, 0, 1, 0, 0, 0, 0, 0, 0, 0, 0, 0, 0], 0.044673539518900345, 1.7407407407407407), 458: ('Nixon (1995)', [0, 0, 0, 0, 0, 0, 0, 0, 1, 0, 0, 0, 0, 0, 0, 0, 0, 0, 0], 0.15292096219931273, 3.1222222222222222), 459: ('Cry, the Beloved Country (1995)', [0, 0, 0, 0, 0, 0, 0, 0, 1, 0, 0, 0, 0, 0, 0, 0, 0, 0, 0], 0.03951890034364261, 3.75), 460: ('Crossing Guard, The (1995)', [0, 0, 0, 0, 0, 0, 0, 0, 1, 0, 0, 0, 0, 0, 0, 0, 0, 0, 0], 0.04639175257731959, 3.0), 461: ('Smoke (1995)', [0, 0, 0, 0, 0, 0, 0, 0, 1, 0, 0, 0, 0, 0, 0, 0, 0, 0, 0], 0.1254295532646048, 3.6216216216216215), 462: ('Like Water For Chocolate (Como agua para chocolate) (1992)', [0, 0, 0, 0, 0, 0, 0, 0, 1, 0, 0, 0, 0, 0, 1, 0, 0, 0, 0], 0.25257731958762886, 3.804054054054054), 463: ('Secret of Roan Inish, The (1994)', [0, 0, 1, 0, 0, 0, 0, 0, 0, 0, 0, 0, 0, 0, 0, 0, 0, 0, 0], 0.12027491408934708, 3.859154929577465), 464: ('Vanya on 42nd Street (1994)', [0, 0, 0, 0, 0, 0, 0, 0, 1, 0, 0, 0, 0, 0, 0, 0, 0, 0, 0], 0.044673539518900345, 3.5925925925925926), 465: ('Jungle Book, The (1994)', [0, 0, 1, 0, 1, 0, 0, 0, 0, 0, 0, 0, 0, 0, 1, 0, 0, 0, 0], 0.14432989690721648, 3.5647058823529414), 466: ('Red Rock West (1992)', [0, 0, 0, 0, 0, 0, 0, 0, 0, 0, 0, 0, 0, 0, 0, 0, 1, 0, 0], 0.08762886597938144, 3.5961538461538463), 467: ('Bronx Tale, A (1993)', [0, 0, 0, 0, 0, 0, 0, 0, 1, 0, 0, 0, 0, 0, 0, 0, 0, 0, 0], 0.08075601374570447, 3.7916666666666665), 468: ('Rudy (1993)', [0, 0, 0, 0, 0, 0, 0, 0, 1, 0, 0, 0, 0, 0, 0, 0, 0, 0, 0], 0.10824742268041238, 3.3125), 469: ('Short Cuts (1993)', [0, 0, 0, 0, 0, 0, 0, 0, 1, 0, 0, 0, 0, 0, 0, 0, 0, 0, 0], 0.1134020618556701, 3.7761194029850746), 470: ('Tombstone (1993)', [0, 0, 0, 0, 0, 0, 0, 0, 0, 0, 0, 0, 0, 0, 0, 0, 0, 0, 1], 0.18384879725085912, 3.6666666666666665), 471: ('Courage Under Fire (1996)', [0, 0, 0, 0, 0, 0, 0, 0, 1, 0, 0, 0, 0, 0, 0, 0, 0, 1, 0], 0.37800687285223367, 3.6108597285067874), 472: ('Dragonheart (1996)', [0, 1, 1, 0, 0, 0, 0, 0, 0, 1, 0, 0, 0, 0, 0, 0, 0, 0, 0], 0.2697594501718213, 3.0822784810126582), 473: ('James and the Giant Peach (1996)', [0, 0, 0, 1, 1, 0, 0, 0, 0, 0, 0, 0, 1, 0, 0, 0, 0, 0, 0], 0.21477663230240548, 3.126984126984127), 474: ('Dr. Strangelove or: How I Learned to Stop Worrying and Love the Bomb (1963)', [0, 0, 0, 0, 0, 0, 0, 0, 0, 0, 0, 0, 0, 0, 0, 1, 0, 1, 0], 0.3316151202749141, 4.252577319587629), 475: ('Trainspotting (1996)', [0, 0, 0, 0, 0, 0, 0, 0, 1, 0, 0, 0, 0, 0, 0, 0, 0, 0, 0], 0.42783505154639173, 3.884), 476: ('First Wives Club, The (1996)', [0, 0, 0, 0, 0, 1, 0, 0, 0, 0, 0, 0, 0, 0, 0, 0, 0, 0, 0], 0.27319587628865977, 3.01875), 477: ('Matilda (1996)', [0, 0, 0, 0, 1, 1, 0, 0, 0, 0, 0, 0, 0, 0, 0, 0, 0, 0, 0], 0.16151202749140894, 3.210526315789474), 478: ('Philadelphia Story, The (1940)', [0, 0, 0, 0, 0, 1, 0, 0, 0, 0, 0, 0, 0, 0, 1, 0, 0, 0, 0], 0.17697594501718214, 4.115384615384615), 479: ('Vertigo (1958)', [0, 0, 0, 0, 0, 0, 0, 0, 0, 0, 0, 0, 0, 1, 0, 0, 1, 0, 0], 0.30584192439862545, 4.251396648044692), 480: ('North by Northwest (1959)', [0, 0, 0, 0, 0, 1, 0, 0, 0, 0, 0, 0, 0, 0, 0, 0, 1, 0, 0], 0.30584192439862545, 4.284916201117318), 481: ('Apartment, The (1960)', [0, 0, 0, 0, 0, 1, 0, 0, 1, 0, 0, 0, 0, 0, 0, 0, 0, 0, 0], 0.10652920962199312, 3.9365079365079363), 482: ('Some Like It Hot (1959)', [0, 0, 0, 0, 0, 1, 1, 0, 0, 0, 0, 0, 0, 0, 0, 0, 0, 0, 0], 0.218213058419244, 3.984375), 483: ('Casablanca (1942)', [0, 0, 0, 0, 0, 0, 0, 0, 1, 0, 0, 0, 0, 0, 1, 0, 0, 1, 0], 0.41580756013745707, 4.45679012345679), 484: ('Maltese Falcon, The (1941)', [0, 0, 0, 0, 0, 0, 0, 0, 0, 0, 1, 0, 0, 1, 0, 0, 0, 0, 0], 0.23539518900343642, 4.2101449275362315), 485: ('My Fair Lady (1964)', [0, 0, 0, 0, 0, 0, 0, 0, 0, 0, 0, 0, 1, 0, 1, 0, 0, 0, 0], 0.21305841924398625, 3.816), 486: ('Sabrina (1954)', [0, 0, 0, 0, 0, 1, 0, 0, 0, 0, 0, 0, 0, 0, 1, 0, 0, 0, 0], 0.10824742268041238, 3.796875), 487: ('Roman Holiday (1953)', [0, 0, 0, 0, 0, 1, 0, 0, 0, 0, 0, 0, 0, 0, 1, 0, 0, 0, 0], 0.11512027491408934, 4.102941176470588), 488: ('Sunset Blvd. (1950)', [0, 0, 0, 0, 0, 0, 0, 0, 0, 0, 1, 0, 0, 0, 0, 0, 0, 0, 0], 0.10996563573883161, 4.2), 489: ('Notorious (1946)', [0, 0, 0, 0, 0, 0, 0, 0, 0, 0, 1, 0, 0, 0, 1, 0, 1, 0, 0], 0.08762886597938144, 4.115384615384615), 490: ('To Catch a Thief (1955)', [0, 0, 0, 0, 0, 1, 0, 0, 0, 0, 0, 0, 0, 0, 1, 0, 1, 0, 0], 0.08419243986254296, 4.02), 491: ('Adventures of Robin Hood, The (1938)', [0, 1, 1, 0, 0, 0, 0, 0, 0, 0, 0, 0, 0, 0, 0, 0, 0, 0, 0], 0.1134020618556701, 3.791044776119403), 492: ('East of Eden (1955)', [0, 0, 0, 0, 0, 0, 0, 0, 1, 0, 0, 0, 0, 0, 0, 0, 0, 0, 0], 0.09965635738831616, 3.864406779661017), 493: ('Thin Man, The (1934)', [0, 0, 0, 0, 0, 0, 0, 0, 0, 0, 0, 0, 0, 1, 0, 0, 0, 0, 0], 0.1013745704467354, 4.15), 494: ('His Girl Friday (1940)', [0, 0, 0, 0, 0, 1, 0, 0, 0, 0, 0, 0, 0, 0, 0, 0, 0, 0, 0], 0.09450171821305842, 4.0), 495: ('Around the World in 80 Days (1956)', [0, 0, 1, 0, 0, 1, 0, 0, 0, 0, 0, 0, 0, 0, 0, 0, 0, 0, 0], 0.09965635738831616, 3.6610169491525424), 496: (\"It's a Wonderful Life (1946)\", [0, 0, 0, 0, 0, 0, 0, 0, 1, 0, 0, 0, 0, 0, 0, 0, 0, 0, 0], 0.3951890034364261, 4.121212121212121), 497: ('Bringing Up Baby (1938)', [0, 0, 0, 0, 0, 1, 0, 0, 0, 0, 0, 0, 0, 0, 0, 0, 0, 0, 0], 0.11512027491408934, 3.838235294117647), 498: ('African Queen, The (1951)', [0, 1, 1, 0, 0, 0, 0, 0, 0, 0, 0, 0, 0, 0, 1, 0, 0, 1, 0], 0.25945017182130586, 4.184210526315789), 499: ('Cat on a Hot Tin Roof (1958)', [0, 0, 0, 0, 0, 0, 0, 0, 1, 0, 0, 0, 0, 0, 0, 0, 0, 0, 0], 0.10481099656357389, 3.9516129032258065), 500: ('Fly Away Home (1996)', [0, 0, 1, 0, 1, 0, 0, 0, 0, 0, 0, 0, 0, 0, 0, 0, 0, 0, 0], 0.05154639175257732, 3.903225806451613), 501: ('Dumbo (1941)', [0, 0, 0, 1, 1, 0, 0, 0, 0, 0, 0, 0, 1, 0, 0, 0, 0, 0, 0], 0.20962199312714777, 3.4959349593495936), 502: ('Bananas (1971)', [0, 0, 0, 0, 0, 1, 0, 0, 0, 0, 0, 0, 0, 0, 0, 0, 0, 1, 0], 0.09621993127147767, 3.7017543859649122), 503: ('Candidate, The (1972)', [0, 0, 0, 0, 0, 0, 0, 0, 1, 0, 0, 0, 0, 0, 0, 0, 0, 0, 0], 0.06529209621993128, 3.641025641025641), 504: ('Bonnie and Clyde (1967)', [0, 0, 0, 0, 0, 0, 1, 0, 1, 0, 0, 0, 0, 0, 0, 0, 0, 0, 0], 0.20790378006872853, 3.819672131147541), 505: ('Dial M for Murder (1954)', [0, 0, 0, 0, 0, 0, 0, 0, 0, 0, 0, 0, 0, 1, 0, 0, 1, 0, 0], 0.11512027491408934, 4.0), 506: ('Rebel Without a Cause (1955)', [0, 0, 0, 0, 0, 0, 0, 0, 1, 0, 0, 0, 0, 0, 0, 0, 0, 0, 0], 0.15292096219931273, 3.8555555555555556), 507: ('Streetcar Named Desire, A (1951)', [0, 0, 0, 0, 0, 0, 0, 0, 1, 0, 0, 0, 0, 0, 0, 0, 0, 0, 0], 0.16666666666666666, 3.816326530612245), 508: ('People vs. Larry Flynt, The (1996)', [0, 0, 0, 0, 0, 0, 0, 0, 1, 0, 0, 0, 0, 0, 0, 0, 0, 0, 0], 0.36769759450171824, 3.5953488372093023), 509: ('My Left Foot (1989)', [0, 0, 0, 0, 0, 0, 0, 0, 1, 0, 0, 0, 0, 0, 0, 0, 0, 0, 0], 0.20618556701030927, 3.8512396694214877), 510: ('Magnificent Seven, The (1954)', [0, 1, 0, 0, 0, 0, 0, 0, 1, 0, 0, 0, 0, 0, 0, 0, 0, 0, 1], 0.20618556701030927, 3.9421487603305785), 511: ('Lawrence of Arabia (1962)', [0, 0, 1, 0, 0, 0, 0, 0, 0, 0, 0, 0, 0, 0, 0, 0, 0, 1, 0], 0.29553264604810997, 4.23121387283237), 512: ('Wings of Desire (1987)', [0, 0, 0, 0, 0, 1, 0, 0, 1, 0, 0, 0, 0, 0, 1, 0, 0, 0, 0], 0.09621993127147767, 4.0), 513: ('Third Man, The (1949)', [0, 0, 0, 0, 0, 0, 0, 0, 0, 0, 0, 0, 0, 1, 0, 0, 1, 0, 0], 0.12199312714776632, 4.333333333333333), 514: ('Annie Hall (1977)', [0, 0, 0, 0, 0, 1, 0, 0, 0, 0, 0, 0, 0, 0, 1, 0, 0, 0, 0], 0.3075601374570447, 3.911111111111111), 515: ('Boot, Das (1981)', [0, 1, 0, 0, 0, 0, 0, 0, 1, 0, 0, 0, 0, 0, 0, 0, 0, 1, 0], 0.3436426116838488, 4.203980099502488), 516: ('Local Hero (1983)', [0, 0, 0, 0, 0, 1, 0, 0, 0, 0, 0, 0, 0, 0, 0, 0, 0, 0, 0], 0.10652920962199312, 3.9682539682539684), 517: ('Manhattan (1979)', [0, 0, 0, 0, 0, 1, 0, 0, 1, 0, 0, 0, 0, 0, 1, 0, 0, 0, 0], 0.15463917525773196, 3.769230769230769), 518: (\"Miller's Crossing (1990)\", [0, 0, 0, 0, 0, 0, 0, 0, 1, 0, 0, 0, 0, 0, 0, 0, 0, 0, 0], 0.15120274914089346, 3.651685393258427), 519: ('Treasure of the Sierra Madre, The (1948)', [0, 0, 1, 0, 0, 0, 0, 0, 0, 0, 0, 0, 0, 0, 0, 0, 0, 0, 0], 0.13573883161512026, 4.1), 520: ('Great Escape, The (1963)', [0, 0, 1, 0, 0, 0, 0, 0, 0, 0, 0, 0, 0, 0, 0, 0, 0, 1, 0], 0.211340206185567, 4.104838709677419), 521: ('Deer Hunter, The (1978)', [0, 0, 0, 0, 0, 0, 0, 0, 1, 0, 0, 0, 0, 0, 0, 0, 0, 1, 0], 0.20446735395189003, 3.8333333333333335), 522: ('Down by Law (1986)', [0, 0, 0, 0, 0, 1, 0, 0, 1, 0, 0, 0, 0, 0, 0, 0, 0, 0, 0], 0.058419243986254296, 3.7714285714285714), 523: ('Cool Hand Luke (1967)', [0, 0, 0, 0, 0, 1, 0, 0, 1, 0, 0, 0, 0, 0, 0, 0, 0, 0, 0], 0.2800687285223368, 3.9939024390243905), 524: ('Great Dictator, The (1940)', [0, 0, 0, 0, 0, 1, 0, 0, 0, 0, 0, 0, 0, 0, 0, 0, 0, 0, 0], 0.07731958762886598, 4.021739130434782), 525: ('Big Sleep, The (1946)', [0, 0, 0, 0, 0, 0, 0, 0, 0, 0, 1, 0, 0, 1, 0, 0, 0, 0, 0], 0.12371134020618557, 4.027397260273973), 526: ('Ben-Hur (1959)', [0, 1, 1, 0, 0, 0, 0, 0, 1, 0, 0, 0, 0, 0, 0, 0, 0, 0, 0], 0.211340206185567, 3.8306451612903225), 527: ('Gandhi (1982)', [0, 0, 0, 0, 0, 0, 0, 0, 1, 0, 0, 0, 0, 0, 0, 0, 0, 0, 0], 0.3333333333333333, 4.02051282051282), 528: ('Killing Fields, The (1984)', [0, 0, 0, 0, 0, 0, 0, 0, 1, 0, 0, 0, 0, 0, 0, 0, 0, 1, 0], 0.20618556701030927, 4.132231404958677), 529: ('My Life as a Dog (Mitt liv som hund) (1985)', [0, 0, 0, 0, 0, 0, 0, 0, 1, 0, 0, 0, 0, 0, 0, 0, 0, 0, 0], 0.15807560137457044, 3.978494623655914), 530: ('Man Who Would Be King, The (1975)', [0, 0, 1, 0, 0, 0, 0, 0, 0, 0, 0, 0, 0, 0, 0, 0, 0, 0, 0], 0.13573883161512026, 4.025), 531: ('Shine (1996)', [0, 0, 0, 0, 0, 0, 0, 0, 1, 0, 0, 0, 0, 0, 1, 0, 0, 0, 0], 0.21993127147766323, 3.9224806201550386), 532: ('Kama Sutra: A Tale of Love (1996)', [0, 0, 0, 0, 0, 0, 0, 0, 0, 0, 0, 0, 0, 0, 1, 0, 0, 0, 0], 0.03608247422680412, 3.3181818181818183), 533: ('Daytrippers, The (1996)', [0, 0, 0, 0, 0, 0, 0, 0, 0, 0, 0, 0, 0, 1, 0, 0, 0, 0, 0], 0.024054982817869417, 3.6666666666666665), 534: ('Traveller (1997)', [0, 0, 0, 0, 0, 0, 0, 0, 1, 0, 0, 0, 0, 0, 0, 0, 0, 0, 0], 0.020618556701030927, 3.3076923076923075), 535: ('Addicted to Love (1997)', [0, 0, 0, 0, 0, 1, 0, 0, 0, 0, 0, 0, 0, 0, 1, 0, 0, 0, 0], 0.09106529209621993, 3.1666666666666665), 536: ('Ponette (1996)', [0, 0, 0, 0, 0, 0, 0, 0, 1, 0, 0, 0, 0, 0, 0, 0, 0, 0, 0], 0.015463917525773196, 3.3), 537: ('My Own Private Idaho (1991)', [0, 0, 0, 0, 0, 0, 0, 0, 1, 0, 0, 0, 0, 0, 0, 0, 0, 0, 0], 0.04982817869415808, 3.6333333333333333), 538: ('Anastasia (1997)', [0, 0, 0, 1, 1, 0, 0, 0, 0, 0, 0, 0, 1, 0, 0, 0, 0, 0, 0], 0.11168384879725086, 3.4242424242424243), 539: ('Mouse Hunt (1997)', [0, 0, 0, 0, 1, 1, 0, 0, 0, 0, 0, 0, 0, 0, 0, 0, 0, 0, 0], 0.07388316151202749, 2.477272727272727), 540: ('Money Train (1995)', [0, 1, 0, 0, 0, 0, 0, 0, 0, 0, 0, 0, 0, 0, 0, 0, 0, 0, 0], 0.07216494845360824, 2.511627906976744), 541: ('Mortal Kombat (1995)', [0, 1, 1, 0, 0, 0, 0, 0, 0, 0, 0, 0, 0, 0, 0, 0, 0, 0, 0], 0.08247422680412371, 2.877551020408163), 542: ('Pocahontas (1995)', [0, 0, 0, 1, 1, 0, 0, 0, 0, 0, 0, 0, 1, 0, 1, 0, 0, 0, 0], 0.0859106529209622, 2.5294117647058822), 543: ('Misérables, Les (1995)', [0, 0, 0, 0, 0, 0, 0, 0, 1, 0, 0, 0, 1, 0, 0, 0, 0, 0, 0], 0.03436426116838488, 3.619047619047619), 544: (\"Things to Do in Denver when You're Dead (1995)\", [0, 0, 0, 0, 0, 0, 1, 0, 1, 0, 0, 0, 0, 0, 1, 0, 0, 0, 0], 0.12027491408934708, 3.1549295774647885), 545: ('Vampire in Brooklyn (1995)', [0, 0, 0, 0, 0, 1, 0, 0, 0, 0, 0, 0, 0, 0, 1, 0, 0, 0, 0], 0.018900343642611683, 1.8333333333333333), 546: ('Broken Arrow (1996)', [0, 1, 0, 0, 0, 0, 0, 0, 0, 0, 0, 0, 0, 0, 0, 0, 1, 0, 0], 0.43470790378006874, 3.031496062992126), 547: (\"Young Poisoner's Handbook, The (1995)\", [0, 0, 0, 0, 0, 0, 1, 0, 0, 0, 0, 0, 0, 0, 0, 0, 0, 0, 0], 0.06872852233676977, 3.341463414634146), 548: ('NeverEnding Story III, The (1994)', [0, 0, 0, 0, 1, 0, 0, 0, 0, 1, 0, 0, 0, 0, 0, 0, 0, 0, 0], 0.018900343642611683, 2.1666666666666665), 549: ('Rob Roy (1995)', [0, 0, 0, 0, 0, 0, 0, 0, 1, 0, 0, 0, 0, 0, 1, 0, 0, 1, 0], 0.1563573883161512, 3.5652173913043477), 550: ('Die Hard: With a Vengeance (1995)', [0, 1, 0, 0, 0, 0, 0, 0, 0, 0, 0, 0, 0, 0, 0, 0, 1, 0, 0], 0.25773195876288657, 3.2847682119205297), 551: ('Lord of Illusions (1995)', [0, 0, 0, 0, 0, 0, 0, 0, 0, 0, 0, 1, 0, 0, 0, 0, 0, 0, 0], 0.03951890034364261, 2.4166666666666665), 552: ('Species (1995)', [0, 0, 0, 0, 0, 0, 0, 0, 0, 0, 0, 0, 0, 0, 0, 1, 0, 0, 0], 0.07560137457044673, 2.8666666666666667), 553: ('Walk in the Clouds, A (1995)', [0, 0, 0, 0, 0, 0, 0, 0, 1, 0, 0, 0, 0, 0, 1, 0, 0, 0, 0], 0.10652920962199312, 3.2857142857142856), 554: ('Waterworld (1995)', [0, 1, 1, 0, 0, 0, 0, 0, 0, 0, 0, 0, 0, 0, 0, 0, 0, 0, 0], 0.17353951890034364, 2.803921568627451), 555: (\"White Man's Burden (1995)\", [0, 0, 0, 0, 0, 0, 0, 0, 1, 0, 0, 0, 0, 0, 0, 0, 0, 0, 0], 0.015463917525773196, 2.0), 556: ('Wild Bill (1995)', [0, 0, 0, 0, 0, 0, 0, 0, 0, 0, 0, 0, 0, 0, 0, 0, 0, 0, 1], 0.018900343642611683, 2.5), 557: ('Farinelli: il castrato (1994)', [0, 0, 0, 0, 0, 0, 0, 0, 1, 0, 0, 0, 1, 0, 0, 0, 0, 0, 0], 0.027491408934707903, 3.1176470588235294), 558: ('Heavenly Creatures (1994)', [0, 0, 0, 0, 0, 0, 0, 0, 1, 1, 0, 0, 0, 0, 0, 0, 1, 0, 0], 0.11855670103092783, 3.6714285714285713), 559: ('Interview with the Vampire (1994)', [0, 0, 0, 0, 0, 0, 0, 0, 1, 0, 0, 1, 0, 0, 0, 0, 0, 0, 0], 0.23367697594501718, 3.1824817518248176), 560: (\"Kid in King Arthur's Court, A (1995)\", [0, 0, 1, 0, 1, 1, 0, 0, 0, 1, 0, 0, 0, 0, 1, 1, 0, 0, 0], 0.03608247422680412, 2.727272727272727), 561: (\"Mary Shelley's Frankenstein (1994)\", [0, 0, 0, 0, 0, 0, 0, 0, 1, 0, 0, 1, 0, 0, 0, 0, 0, 0, 0], 0.09965635738831616, 3.0677966101694913), 562: ('Quick and the Dead, The (1995)', [0, 1, 1, 0, 0, 0, 0, 0, 0, 0, 0, 0, 0, 0, 0, 0, 0, 0, 1], 0.08075601374570447, 3.2083333333333335), 563: (\"Stephen King's The Langoliers (1995)\", [0, 0, 0, 0, 0, 0, 0, 0, 0, 0, 0, 1, 0, 0, 0, 0, 0, 0, 0], 0.048109965635738834, 2.413793103448276), 564: ('Tales from the Hood (1995)', [0, 0, 0, 0, 0, 1, 0, 0, 0, 0, 0, 1, 0, 0, 0, 0, 0, 0, 0], 0.044673539518900345, 2.037037037037037), 565: ('Village of the Damned (1995)', [0, 0, 0, 0, 0, 0, 0, 0, 0, 0, 0, 1, 0, 0, 0, 0, 1, 0, 0], 0.03608247422680412, 2.6818181818181817), 566: ('Clear and Present Danger (1994)', [0, 1, 1, 0, 0, 0, 0, 0, 0, 0, 0, 0, 0, 0, 0, 0, 1, 0, 0], 0.30584192439862545, 3.569832402234637), 567: (\"Wes Craven's New Nightmare (1994)\", [0, 0, 0, 0, 0, 0, 0, 0, 0, 0, 0, 1, 0, 0, 0, 0, 0, 0, 0], 0.058419243986254296, 2.8), 568: ('Speed (1994)', [0, 1, 0, 0, 0, 0, 0, 0, 0, 0, 0, 0, 0, 0, 1, 0, 1, 0, 0], 0.39347079037800686, 3.6478260869565218), 569: ('Wolf (1994)', [0, 0, 0, 0, 0, 0, 0, 0, 1, 0, 0, 1, 0, 0, 0, 0, 0, 0, 0], 0.1134020618556701, 2.701492537313433), 570: ('Wyatt Earp (1994)', [0, 0, 0, 0, 0, 0, 0, 0, 0, 0, 0, 0, 0, 0, 0, 0, 0, 0, 1], 0.08419243986254296, 3.1), 571: ('Another Stakeout (1993)', [0, 0, 0, 0, 0, 1, 0, 0, 0, 0, 0, 0, 0, 0, 0, 0, 1, 0, 0], 0.04639175257731959, 2.5), 572: ('Blown Away (1994)', [0, 1, 0, 0, 0, 0, 0, 0, 0, 0, 0, 0, 0, 0, 0, 0, 1, 0, 0], 0.048109965635738834, 2.7586206896551726), 573: ('Body Snatchers (1993)', [0, 0, 0, 0, 0, 0, 0, 0, 0, 0, 0, 1, 0, 0, 0, 1, 1, 0, 0], 0.054982817869415807, 2.9393939393939394), 574: ('Boxing Helena (1993)', [0, 0, 0, 0, 0, 0, 0, 0, 0, 0, 0, 0, 0, 1, 1, 0, 1, 0, 0], 0.024054982817869417, 2.2), 575: (\"City Slickers II: The Legend of Curly's Gold (1994)\", [0, 0, 0, 0, 0, 1, 0, 0, 0, 0, 0, 0, 0, 0, 0, 0, 0, 0, 1], 0.07388316151202749, 2.5454545454545454), 576: ('Cliffhanger (1993)', [0, 1, 1, 0, 0, 0, 1, 0, 0, 0, 0, 0, 0, 0, 0, 0, 0, 0, 0], 0.15807560137457044, 3.021505376344086), 577: ('Coneheads (1993)', [0, 0, 0, 0, 0, 1, 0, 0, 0, 0, 0, 0, 0, 0, 0, 1, 0, 0, 0], 0.06872852233676977, 2.2195121951219514), 578: ('Demolition Man (1993)', [0, 1, 0, 0, 0, 0, 0, 0, 0, 0, 0, 0, 0, 0, 0, 1, 0, 0, 0], 0.1563573883161512, 3.152173913043478), 579: ('Fatal Instinct (1993)', [0, 0, 0, 0, 0, 1, 0, 0, 0, 0, 0, 0, 0, 0, 0, 0, 0, 0, 0], 0.030927835051546393, 2.6315789473684212), 580: ('Englishman Who Went Up a Hill, But Came Down a Mountain, The (1995)', [0, 0, 0, 0, 0, 1, 0, 0, 0, 0, 0, 0, 0, 0, 1, 0, 0, 0, 0], 0.05326460481099656, 3.375), 581: ('Kalifornia (1993)', [0, 0, 0, 0, 0, 0, 0, 0, 1, 0, 0, 0, 0, 0, 0, 0, 1, 0, 0], 0.09965635738831616, 3.2203389830508473), 582: ('Piano, The (1993)', [0, 0, 0, 0, 0, 0, 0, 0, 1, 0, 0, 0, 0, 0, 1, 0, 0, 0, 0], 0.2869415807560137, 3.6011904761904763), 583: ('Romeo Is Bleeding (1993)', [0, 0, 0, 0, 0, 0, 1, 0, 0, 0, 0, 0, 0, 0, 0, 0, 1, 0, 0], 0.061855670103092786, 3.0), 584: ('Secret Garden, The (1993)', [0, 0, 0, 0, 1, 0, 0, 0, 1, 0, 0, 0, 0, 0, 0, 0, 0, 0, 0], 0.13402061855670103, 3.5443037974683542), 585: ('Son in Law (1993)', [0, 0, 0, 0, 0, 1, 0, 0, 0, 0, 0, 0, 0, 0, 0, 0, 0, 0, 0], 0.06529209621993128, 2.4871794871794872), 586: ('Terminal Velocity (1994)', [0, 1, 0, 0, 0, 0, 0, 0, 0, 0, 0, 0, 0, 0, 0, 0, 0, 0, 0], 0.05670103092783505, 2.676470588235294), 587: ('Hour of the Pig, The (1993)', [0, 0, 0, 0, 0, 0, 0, 0, 1, 0, 0, 0, 0, 1, 0, 0, 0, 0, 0], 0.022336769759450172, 3.5714285714285716), 588: ('Beauty and the Beast (1991)', [0, 0, 0, 1, 1, 0, 0, 0, 0, 0, 0, 0, 1, 0, 0, 0, 0, 0, 0], 0.34536082474226804, 3.792079207920792), 589: ('Wild Bunch, The (1969)', [0, 0, 0, 0, 0, 0, 0, 0, 0, 0, 0, 0, 0, 0, 0, 0, 0, 0, 1], 0.07216494845360824, 4.023255813953488), 590: ('Hellraiser: Bloodline (1996)', [0, 1, 0, 0, 0, 0, 0, 0, 0, 0, 0, 1, 0, 0, 0, 1, 0, 0, 0], 0.029209621993127148, 2.0), 591: ('Primal Fear (1996)', [0, 0, 0, 0, 0, 0, 0, 0, 1, 0, 0, 0, 0, 0, 0, 0, 1, 0, 0], 0.30412371134020616, 3.601123595505618), 592: ('True Crime (1995)', [0, 0, 0, 0, 0, 0, 0, 0, 0, 0, 0, 0, 0, 1, 0, 0, 1, 0, 0], 0.013745704467353952, 3.3333333333333335), 593: ('Stalingrad (1993)', [0, 0, 0, 0, 0, 0, 0, 0, 0, 0, 0, 0, 0, 0, 0, 0, 0, 1, 0], 0.018900343642611683, 3.1666666666666665), 594: ('Heavy (1995)', [0, 0, 0, 0, 0, 0, 0, 0, 1, 0, 0, 0, 0, 0, 1, 0, 0, 0, 0], 0.006872852233676976, 2.4), 595: ('Fan, The (1996)', [0, 0, 0, 0, 0, 0, 0, 0, 0, 0, 0, 0, 0, 0, 0, 0, 1, 0, 0], 0.10824742268041238, 3.09375), 596: ('Hunchback of Notre Dame, The (1996)', [0, 0, 0, 1, 1, 0, 0, 0, 0, 0, 0, 0, 1, 0, 0, 0, 0, 0, 0], 0.21649484536082475, 3.377952755905512), 597: ('Eraser (1996)', [0, 1, 0, 0, 0, 0, 0, 0, 0, 0, 0, 0, 0, 0, 0, 0, 1, 0, 0], 0.35223367697594504, 3.150485436893204), 598: ('Big Squeeze, The (1996)', [0, 0, 0, 0, 0, 1, 0, 0, 1, 0, 0, 0, 0, 0, 0, 0, 0, 0, 0], 0.005154639175257732, 2.25), 599: ('Police Story 4: Project S (Chao ji ji hua) (1993)', [0, 1, 0, 0, 0, 0, 0, 0, 0, 0, 0, 0, 0, 0, 0, 0, 0, 0, 0], 0.0, 1.0), 600: (\"Daniel Defoe's Robinson Crusoe (1996)\", [0, 0, 0, 0, 1, 0, 0, 0, 0, 0, 0, 0, 0, 0, 0, 0, 0, 0, 0], 0.001718213058419244, 3.0), 601: ('For Whom the Bell Tolls (1943)', [0, 0, 1, 0, 0, 0, 0, 0, 0, 0, 0, 0, 0, 0, 0, 0, 0, 1, 0], 0.03264604810996564, 4.0), 602: ('American in Paris, An (1951)', [0, 0, 0, 0, 0, 0, 0, 0, 0, 0, 0, 0, 1, 0, 1, 0, 0, 0, 0], 0.08419243986254296, 3.7), 603: ('Rear Window (1954)', [0, 0, 0, 0, 0, 0, 0, 0, 0, 0, 0, 0, 0, 1, 0, 0, 1, 0, 0], 0.35738831615120276, 4.3875598086124405), 604: ('It Happened One Night (1934)', [0, 0, 0, 0, 0, 1, 0, 0, 0, 0, 0, 0, 0, 0, 0, 0, 0, 0, 0], 0.13745704467353953, 4.012345679012346), 605: ('Meet Me in St. Louis (1944)', [0, 0, 0, 0, 0, 0, 0, 0, 0, 0, 0, 0, 1, 0, 0, 0, 0, 0, 0], 0.05154639175257732, 3.3548387096774195), 606: ('All About Eve (1950)', [0, 0, 0, 0, 0, 0, 0, 0, 1, 0, 0, 0, 0, 0, 0, 0, 0, 0, 0], 0.11168384879725086, 4.045454545454546), 607: ('Rebecca (1940)', [0, 0, 0, 0, 0, 0, 0, 0, 0, 0, 0, 0, 0, 0, 1, 0, 1, 0, 0], 0.11168384879725086, 3.9696969696969697), 608: ('Spellbound (1945)', [0, 0, 0, 0, 0, 0, 0, 0, 0, 0, 0, 0, 0, 1, 1, 0, 1, 0, 0], 0.04982817869415808, 3.933333333333333), 609: ('Father of the Bride (1950)', [0, 0, 0, 0, 0, 1, 0, 0, 0, 0, 0, 0, 0, 0, 0, 0, 0, 0, 0], 0.1013745704467354, 3.5833333333333335), 610: ('Gigi (1958)', [0, 0, 0, 0, 0, 0, 0, 0, 0, 0, 0, 0, 1, 0, 0, 0, 0, 0, 0], 0.06872852233676977, 3.658536585365854), 611: ('Laura (1944)', [0, 0, 0, 0, 0, 0, 1, 0, 0, 0, 1, 0, 0, 1, 0, 0, 0, 0, 0], 0.06701030927835051, 4.1), 612: ('Lost Horizon (1937)', [0, 0, 0, 0, 0, 0, 0, 0, 1, 0, 0, 0, 0, 0, 0, 0, 0, 0, 0], 0.05670103092783505, 3.9411764705882355), 613: ('My Man Godfrey (1936)', [0, 0, 0, 0, 0, 1, 0, 0, 0, 0, 0, 0, 0, 0, 0, 0, 0, 0, 0], 0.044673539518900345, 4.037037037037037), 614: ('Giant (1956)', [0, 0, 0, 0, 0, 0, 0, 0, 1, 0, 0, 0, 0, 0, 0, 0, 0, 0, 0], 0.0859106529209622, 3.7450980392156863), 615: ('39 Steps, The (1935)', [0, 0, 0, 0, 0, 0, 0, 0, 0, 0, 0, 0, 0, 0, 0, 0, 1, 0, 0], 0.09965635738831616, 4.0508474576271185), 616: ('Night of the Living Dead (1968)', [0, 0, 0, 0, 0, 0, 0, 0, 0, 0, 0, 1, 0, 0, 0, 1, 0, 0, 0], 0.10824742268041238, 3.421875), 617: ('Blue Angel, The (Blaue Engel, Der) (1930)', [0, 0, 0, 0, 0, 0, 0, 0, 1, 0, 0, 0, 0, 0, 0, 0, 0, 0, 0], 0.029209621993127148, 3.7777777777777777), 618: ('Picnic (1955)', [0, 0, 0, 0, 0, 0, 0, 0, 1, 0, 0, 0, 0, 0, 0, 0, 0, 0, 0], 0.029209621993127148, 3.611111111111111), 619: ('Extreme Measures (1996)', [0, 0, 0, 0, 0, 0, 0, 0, 1, 0, 0, 0, 0, 0, 0, 0, 1, 0, 0], 0.10824742268041238, 3.171875), 620: ('Chamber, The (1996)', [0, 0, 0, 0, 0, 0, 0, 0, 1, 0, 0, 0, 0, 0, 0, 0, 0, 0, 0], 0.07216494845360824, 3.0930232558139537), 621: ('Davy Crockett, King of the Wild Frontier (1955)', [0, 0, 0, 0, 0, 0, 0, 0, 0, 0, 0, 0, 0, 0, 0, 0, 0, 0, 1], 0.01718213058419244, 2.909090909090909), 622: ('Swiss Family Robinson (1960)', [0, 0, 1, 0, 1, 0, 0, 0, 0, 0, 0, 0, 0, 0, 0, 0, 0, 0, 0], 0.06529209621993128, 3.358974358974359), 623: ('Angels in the Outfield (1994)', [0, 0, 0, 0, 1, 1, 0, 0, 0, 0, 0, 0, 0, 0, 0, 0, 0, 0, 0], 0.06529209621993128, 2.923076923076923), 624: ('Three Caballeros, The (1945)', [0, 0, 0, 1, 1, 0, 0, 0, 0, 0, 0, 0, 1, 0, 0, 0, 0, 0, 0], 0.03608247422680412, 3.272727272727273), 625: ('Sword in the Stone, The (1963)', [0, 0, 0, 1, 1, 0, 0, 0, 0, 0, 0, 0, 0, 0, 0, 0, 0, 0, 0], 0.13917525773195877, 3.3292682926829267), 626: ('So Dear to My Heart (1949)', [0, 0, 0, 0, 1, 0, 0, 0, 1, 0, 0, 0, 0, 0, 0, 0, 0, 0, 0], 0.005154639175257732, 3.25), 627: ('Robin Hood: Prince of Thieves (1991)', [0, 0, 0, 0, 0, 0, 0, 0, 1, 0, 0, 0, 0, 0, 0, 0, 0, 0, 0], 0.12714776632302405, 3.2266666666666666), 628: ('Sleepers (1996)', [0, 0, 0, 0, 0, 0, 1, 0, 1, 0, 0, 0, 0, 0, 0, 0, 0, 0, 0], 0.28865979381443296, 3.514792899408284), 629: ('Victor/Victoria (1982)', [0, 0, 0, 0, 0, 1, 0, 0, 0, 0, 0, 0, 1, 0, 0, 0, 0, 0, 0], 0.13058419243986255, 3.3376623376623376), 630: ('Great Race, The (1965)', [0, 0, 0, 0, 0, 1, 0, 0, 0, 0, 0, 0, 1, 0, 0, 0, 0, 0, 0], 0.05154639175257732, 3.2903225806451615), 631: ('Crying Game, The (1992)', [0, 1, 0, 0, 0, 0, 0, 0, 1, 0, 0, 0, 0, 0, 1, 0, 0, 1, 0], 0.2027491408934708, 3.6218487394957983), 632: (\"Sophie's Choice (1982)\", [0, 0, 0, 0, 0, 0, 0, 0, 1, 0, 0, 0, 0, 0, 0, 0, 0, 0, 0], 0.0979381443298969, 3.896551724137931), 633: ('Christmas Carol, A (1938)', [0, 0, 0, 0, 0, 0, 0, 0, 1, 0, 0, 0, 0, 0, 0, 0, 0, 0, 0], 0.11683848797250859, 4.057971014492754), 634: (\"Microcosmos: Le peuple de l'herbe (1996)\", [0, 0, 0, 0, 0, 0, 0, 1, 0, 0, 0, 0, 0, 0, 0, 0, 0, 0, 0], 0.03951890034364261, 3.75), 635: ('Fog, The (1980)', [0, 0, 0, 0, 0, 0, 0, 0, 0, 0, 0, 1, 0, 0, 0, 0, 0, 0, 0], 0.037800687285223365, 2.739130434782609), 636: ('Escape from New York (1981)', [0, 1, 1, 0, 0, 0, 0, 0, 0, 0, 0, 0, 0, 0, 0, 1, 1, 0, 0], 0.15463917525773196, 3.241758241758242), 637: ('Howling, The (1981)', [0, 0, 0, 0, 0, 1, 0, 0, 0, 0, 0, 1, 0, 0, 0, 0, 0, 0, 0], 0.06357388316151202, 3.026315789473684), 638: ('Return of Martin Guerre, The (Retour de Martin Guerre, Le) (1982)', [0, 0, 0, 0, 0, 0, 0, 0, 1, 0, 0, 0, 0, 0, 0, 0, 0, 0, 0], 0.07388316151202749, 3.772727272727273), 639: ('Tin Drum, The (Blechtrommel, Die) (1979)', [0, 0, 0, 0, 0, 0, 0, 0, 1, 0, 0, 0, 0, 0, 0, 0, 0, 0, 0], 0.06701030927835051, 3.7), 640: ('Cook the Thief His Wife & Her Lover, The (1989)', [0, 0, 0, 0, 0, 0, 0, 0, 1, 0, 0, 0, 0, 0, 0, 0, 0, 0, 0], 0.13917525773195877, 3.024390243902439), 641: ('Paths of Glory (1957)', [0, 0, 0, 0, 0, 0, 0, 0, 1, 0, 0, 0, 0, 0, 0, 0, 0, 1, 0], 0.054982817869415807, 4.212121212121212), 642: ('Grifters, The (1990)', [0, 0, 0, 0, 0, 0, 1, 0, 1, 0, 1, 0, 0, 0, 0, 0, 0, 0, 0], 0.15120274914089346, 3.4831460674157304), 643: ('The Innocent (1994)', [0, 0, 0, 0, 0, 0, 0, 0, 1, 0, 0, 0, 0, 0, 1, 0, 0, 0, 0], 0.005154639175257732, 3.0), 644: ('Thin Blue Line, The (1988)', [0, 0, 0, 0, 0, 0, 0, 1, 0, 0, 0, 0, 0, 0, 0, 0, 0, 0, 0], 0.058419243986254296, 3.7714285714285714), 645: ('Paris Is Burning (1990)', [0, 0, 0, 0, 0, 0, 0, 1, 0, 0, 0, 0, 0, 0, 0, 0, 0, 0, 0], 0.044673539518900345, 3.814814814814815), 646: ('Once Upon a Time in the West (1969)', [0, 0, 0, 0, 0, 0, 0, 0, 0, 0, 0, 0, 0, 0, 0, 0, 0, 0, 1], 0.06357388316151202, 3.8684210526315788), 647: ('Ran (1985)', [0, 0, 0, 0, 0, 0, 0, 0, 1, 0, 0, 0, 0, 0, 0, 0, 0, 1, 0], 0.11855670103092783, 4.1), 648: ('Quiet Man, The (1952)', [0, 0, 0, 0, 0, 1, 0, 0, 0, 0, 0, 0, 0, 0, 1, 0, 0, 0, 0], 0.1134020618556701, 4.029850746268656), 649: ('Once Upon a Time in America (1984)', [0, 0, 0, 0, 0, 0, 1, 0, 1, 0, 0, 0, 0, 0, 0, 0, 1, 0, 0], 0.08419243986254296, 3.4), 650: ('Seventh Seal, The (Sjunde inseglet, Det) (1957)', [0, 0, 0, 0, 0, 0, 0, 0, 1, 0, 0, 0, 0, 0, 0, 0, 0, 0, 0], 0.12199312714776632, 3.5416666666666665), 651: ('Glory (1989)', [0, 1, 0, 0, 0, 0, 0, 0, 1, 0, 0, 0, 0, 0, 0, 0, 0, 1, 0], 0.2920962199312715, 4.076023391812866), 652: ('Rosencrantz and Guildenstern Are Dead (1990)', [0, 0, 0, 0, 0, 1, 0, 0, 1, 0, 0, 0, 0, 0, 0, 0, 0, 0, 0], 0.15292096219931273, 3.888888888888889), 653: ('Touch of Evil (1958)', [0, 0, 0, 0, 0, 0, 1, 0, 0, 0, 1, 0, 0, 0, 0, 0, 1, 0, 0], 0.05670103092783505, 3.911764705882353), 654: ('Chinatown (1974)', [0, 0, 0, 0, 0, 0, 0, 0, 0, 0, 1, 0, 0, 1, 0, 0, 1, 0, 0], 0.2508591065292096, 4.136054421768708), 655: ('Stand by Me (1986)', [0, 0, 1, 0, 0, 1, 0, 0, 1, 0, 0, 0, 0, 0, 0, 0, 0, 0, 0], 0.38831615120274915, 3.881057268722467), 656: ('M (1931)', [0, 0, 0, 0, 0, 0, 1, 0, 0, 0, 1, 0, 0, 0, 0, 0, 1, 0, 0], 0.07388316151202749, 4.0), 657: ('Manchurian Candidate, The (1962)', [0, 0, 0, 0, 0, 0, 0, 0, 0, 0, 1, 0, 0, 0, 0, 0, 1, 0, 0], 0.22336769759450173, 4.259541984732825), 658: ('Pump Up the Volume (1990)', [0, 0, 0, 0, 0, 0, 0, 0, 1, 0, 0, 0, 0, 0, 0, 0, 0, 0, 0], 0.13402061855670103, 3.4177215189873418), 659: ('Arsenic and Old Lace (1944)', [0, 0, 0, 0, 0, 1, 0, 0, 0, 0, 0, 0, 0, 1, 0, 0, 1, 0, 0], 0.1958762886597938, 4.078260869565217), 660: ('Fried Green Tomatoes (1991)', [0, 0, 0, 0, 0, 0, 0, 0, 1, 0, 0, 0, 0, 0, 0, 0, 0, 0, 0], 0.2611683848797251, 3.764705882352941), 661: ('High Noon (1952)', [0, 0, 0, 0, 0, 0, 0, 0, 0, 0, 0, 0, 0, 0, 0, 0, 0, 0, 1], 0.14948453608247422, 4.1022727272727275), 662: ('Somewhere in Time (1980)', [0, 0, 0, 0, 0, 0, 0, 0, 1, 0, 0, 0, 0, 0, 1, 0, 0, 0, 0], 0.13917525773195877, 3.426829268292683), 663: ('Being There (1979)', [0, 0, 0, 0, 0, 1, 0, 0, 0, 0, 0, 0, 0, 0, 0, 0, 0, 0, 0], 0.19759450171821305, 3.9051724137931036), 664: ('Paris, Texas (1984)', [0, 0, 0, 0, 0, 0, 0, 0, 1, 0, 0, 0, 0, 0, 0, 0, 0, 0, 0], 0.07731958762886598, 3.5434782608695654), 665: ('Alien 3 (1992)', [0, 1, 0, 0, 0, 0, 0, 0, 0, 0, 0, 1, 0, 0, 0, 1, 1, 0, 0], 0.17010309278350516, 2.83), 666: (\"Blood For Dracula (Andy Warhol's Dracula) (1974)\", [0, 0, 0, 0, 0, 0, 0, 0, 0, 0, 0, 1, 0, 0, 0, 0, 0, 0, 0], 0.006872852233676976, 2.4), 667: ('Audrey Rose (1977)', [0, 0, 0, 0, 0, 0, 0, 0, 0, 0, 0, 1, 0, 0, 0, 0, 0, 0, 0], 0.018900343642611683, 2.1666666666666665), 668: ('Blood Beach (1981)', [0, 1, 0, 0, 0, 0, 0, 0, 0, 0, 0, 1, 0, 0, 0, 0, 0, 0, 0], 0.00859106529209622, 2.1666666666666665), 669: ('Body Parts (1991)', [0, 0, 0, 0, 0, 0, 0, 0, 0, 0, 0, 1, 0, 0, 0, 0, 0, 0, 0], 0.020618556701030927, 1.6153846153846154), 670: ('Body Snatchers (1993)', [0, 0, 0, 0, 0, 0, 0, 0, 0, 0, 0, 1, 0, 0, 0, 1, 1, 0, 0], 0.06013745704467354, 3.0), 671: ('Bride of Frankenstein (1935)', [0, 0, 0, 0, 0, 0, 0, 0, 0, 0, 0, 1, 0, 0, 0, 0, 0, 0, 0], 0.07731958762886598, 3.608695652173913), 672: ('Candyman (1992)', [0, 0, 0, 0, 0, 0, 0, 0, 0, 0, 0, 1, 0, 0, 0, 0, 0, 0, 0], 0.10996563573883161, 2.723076923076923), 673: ('Cape Fear (1962)', [0, 0, 0, 0, 0, 0, 0, 0, 0, 0, 1, 0, 0, 0, 0, 0, 1, 0, 0], 0.14604810996563575, 3.5232558139534884), 674: ('Cat People (1982)', [0, 0, 0, 0, 0, 0, 0, 0, 0, 0, 0, 1, 0, 0, 0, 0, 0, 0, 0], 0.08075601374570447, 2.8958333333333335), 675: ('Nosferatu (Nosferatu, eine Symphonie des Grauens) (1922)', [0, 0, 0, 0, 0, 0, 0, 0, 0, 0, 0, 1, 0, 0, 0, 0, 0, 0, 0], 0.09106529209621993, 3.5555555555555554), 676: ('Crucible, The (1996)', [0, 0, 0, 0, 0, 0, 0, 0, 1, 0, 0, 0, 0, 0, 0, 0, 0, 0, 0], 0.13058419243986255, 3.3376623376623376), 677: ('Fire on the Mountain (1996)', [0, 0, 0, 0, 0, 0, 0, 1, 0, 0, 0, 0, 0, 0, 0, 0, 0, 0, 0], 0.0, 3.0), 678: ('Volcano (1997)', [0, 0, 0, 0, 0, 0, 0, 0, 1, 0, 0, 0, 0, 0, 0, 0, 1, 0, 0], 0.3745704467353952, 2.808219178082192), 679: ('Conan the Barbarian (1981)', [0, 1, 1, 0, 0, 0, 0, 0, 0, 0, 0, 0, 0, 0, 0, 0, 0, 0, 0], 0.18213058419243985, 3.046728971962617), 680: ('Kull the Conqueror (1997)', [0, 1, 1, 0, 0, 0, 0, 0, 0, 0, 0, 0, 0, 0, 0, 0, 0, 0, 0], 0.05670103092783505, 2.5588235294117645), 681: ('Wishmaster (1997)', [0, 0, 0, 0, 0, 0, 0, 0, 0, 0, 0, 1, 0, 0, 0, 0, 0, 0, 0], 0.044673539518900345, 2.4444444444444446), 682: ('I Know What You Did Last Summer (1997)', [0, 0, 0, 0, 0, 0, 0, 0, 0, 0, 0, 1, 0, 1, 0, 0, 1, 0, 0], 0.17010309278350516, 3.06), 683: ('Rocket Man (1997)', [0, 0, 0, 0, 0, 1, 0, 0, 0, 0, 0, 0, 0, 0, 0, 0, 0, 0, 0], 0.08247422680412371, 2.4081632653061225), 684: ('In the Line of Fire (1993)', [0, 1, 0, 0, 0, 0, 0, 0, 0, 0, 0, 0, 0, 0, 0, 0, 1, 0, 0], 0.28865979381443296, 3.7928994082840237), 685: ('Executive Decision (1996)', [0, 1, 0, 0, 0, 0, 0, 0, 0, 0, 0, 0, 0, 0, 0, 0, 1, 0, 0], 0.26804123711340205, 3.356687898089172), 686: ('Perfect World, A (1993)', [0, 1, 0, 0, 0, 0, 0, 0, 1, 0, 0, 0, 0, 0, 0, 0, 0, 0, 0], 0.08419243986254296, 3.68), 687: (\"McHale's Navy (1997)\", [0, 0, 0, 0, 0, 1, 0, 0, 0, 0, 0, 0, 0, 0, 0, 0, 0, 1, 0], 0.11683848797250859, 2.1884057971014492), 688: ('Leave It to Beaver (1997)', [0, 0, 0, 0, 0, 1, 0, 0, 0, 0, 0, 0, 0, 0, 0, 0, 0, 0, 0], 0.07388316151202749, 1.8409090909090908), 689: ('Jackal, The (1997)', [0, 1, 0, 0, 0, 0, 0, 0, 0, 0, 0, 0, 0, 0, 0, 0, 1, 0, 0], 0.14776632302405499, 3.1494252873563218), 690: ('Seven Years in Tibet (1997)', [0, 0, 0, 0, 0, 0, 0, 0, 1, 0, 0, 0, 0, 0, 0, 0, 0, 1, 0], 0.2646048109965636, 3.458064516129032), 691: ('Dark City (1998)', [0, 0, 0, 0, 0, 0, 0, 0, 0, 0, 1, 0, 0, 0, 0, 1, 1, 0, 0], 0.02577319587628866, 3.5), 692: ('American President, The (1995)', [0, 0, 0, 0, 0, 1, 0, 0, 1, 0, 0, 0, 0, 0, 1, 0, 0, 0, 0], 0.2800687285223368, 3.6280487804878048), 693: ('Casino (1995)', [0, 0, 0, 0, 0, 0, 0, 0, 1, 0, 0, 0, 0, 0, 0, 0, 0, 0, 0], 0.15463917525773196, 3.6483516483516483), 694: ('Persuasion (1995)', [0, 0, 0, 0, 0, 0, 0, 0, 0, 0, 0, 0, 0, 0, 1, 0, 0, 0, 0], 0.07388316151202749, 4.045454545454546), 695: ('Kicking and Screaming (1995)', [0, 0, 0, 0, 0, 1, 0, 0, 1, 0, 0, 0, 0, 0, 0, 0, 0, 0, 0], 0.020618556701030927, 2.923076923076923), 696: ('City Hall (1996)', [0, 0, 0, 0, 0, 0, 0, 0, 1, 0, 0, 0, 0, 0, 0, 0, 1, 0, 0], 0.13402061855670103, 3.1392405063291138), 697: ('Basketball Diaries, The (1995)', [0, 0, 0, 0, 0, 0, 0, 0, 1, 0, 0, 0, 0, 0, 0, 0, 0, 0, 0], 0.06701030927835051, 3.425), 698: ('Browning Version, The (1994)', [0, 0, 0, 0, 0, 0, 0, 0, 1, 0, 0, 0, 0, 0, 0, 0, 0, 0, 0], 0.015463917525773196, 3.0), 699: ('Little Women (1994)', [0, 0, 0, 0, 0, 0, 0, 0, 1, 0, 0, 0, 0, 0, 0, 0, 0, 0, 0], 0.17353951890034364, 3.676470588235294), 700: ('Miami Rhapsody (1995)', [0, 0, 0, 0, 0, 1, 0, 0, 0, 0, 0, 0, 0, 0, 0, 0, 0, 0, 0], 0.024054982817869417, 2.6), 701: ('Wonderful, Horrible Life of Leni Riefenstahl, The (1993)', [0, 0, 0, 0, 0, 0, 0, 1, 0, 0, 0, 0, 0, 0, 0, 0, 0, 0, 0], 0.015463917525773196, 4.0), 702: ('Barcelona (1994)', [0, 0, 0, 0, 0, 1, 0, 0, 0, 0, 0, 0, 0, 0, 1, 0, 0, 0, 0], 0.08934707903780069, 3.018867924528302), 703: (\"Widows' Peak (1994)\", [0, 0, 0, 0, 0, 0, 0, 0, 1, 0, 0, 0, 0, 0, 0, 0, 0, 0, 0], 0.030927835051546393, 3.5789473684210527), 704: ('House of the Spirits, The (1993)', [0, 0, 0, 0, 0, 0, 0, 0, 1, 0, 0, 0, 0, 0, 1, 0, 0, 0, 0], 0.03951890034364261, 3.0416666666666665), 705: (\"Singin' in the Rain (1952)\", [0, 0, 0, 0, 0, 0, 0, 0, 0, 0, 0, 0, 1, 0, 1, 0, 0, 0, 0], 0.23367697594501718, 3.9927007299270074), 706: ('Bad Moon (1996)', [0, 0, 0, 0, 0, 0, 0, 0, 0, 0, 0, 1, 0, 0, 0, 0, 0, 0, 0], 0.00859106529209622, 2.6666666666666665), 707: ('Enchanted April (1991)', [0, 0, 0, 0, 0, 0, 0, 0, 1, 0, 0, 0, 0, 0, 0, 0, 0, 0, 0], 0.11855670103092783, 3.9285714285714284), 708: ('Sex, Lies, and Videotape (1989)', [0, 0, 0, 0, 0, 0, 0, 0, 1, 0, 0, 0, 0, 0, 0, 0, 0, 0, 0], 0.1718213058419244, 3.4752475247524752), 709: ('Strictly Ballroom (1992)', [0, 0, 0, 0, 0, 1, 0, 0, 0, 0, 0, 0, 0, 0, 1, 0, 0, 0, 0], 0.17697594501718214, 4.028846153846154), 710: ('Better Off Dead... (1985)', [0, 0, 0, 0, 0, 1, 0, 0, 0, 0, 0, 0, 0, 0, 0, 0, 0, 0, 0], 0.13402061855670103, 3.569620253164557), 711: ('Substance of Fire, The (1996)', [0, 0, 0, 0, 0, 0, 0, 0, 1, 0, 0, 0, 0, 0, 0, 0, 0, 0, 0], 0.0, 4.0), 712: ('Tin Men (1987)', [0, 0, 0, 0, 0, 1, 0, 0, 1, 0, 0, 0, 0, 0, 0, 0, 0, 0, 0], 0.0859106529209622, 3.0784313725490198), 713: ('Othello (1995)', [0, 0, 0, 0, 0, 0, 0, 0, 1, 0, 0, 0, 0, 0, 0, 0, 0, 0, 0], 0.12199312714776632, 3.611111111111111), 714: ('Carrington (1995)', [0, 0, 0, 0, 0, 0, 0, 0, 1, 0, 0, 0, 0, 0, 1, 0, 0, 0, 0], 0.020618556701030927, 3.230769230769231), 715: ('To Die For (1995)', [0, 0, 0, 0, 0, 1, 0, 0, 1, 0, 0, 0, 0, 0, 0, 0, 0, 0, 0], 0.14776632302405499, 3.2758620689655173), 716: ('Home for the Holidays (1995)', [0, 0, 0, 0, 0, 0, 0, 0, 1, 0, 0, 0, 0, 0, 1, 0, 0, 0, 0], 0.0979381443298969, 3.1551724137931036), 717: ('Juror, The (1996)', [0, 0, 0, 0, 0, 0, 0, 0, 1, 0, 0, 0, 0, 0, 0, 0, 1, 0, 0], 0.13917525773195877, 2.817073170731707), 718: ('In the Bleak Midwinter (1995)', [0, 0, 0, 0, 0, 1, 0, 0, 0, 0, 0, 0, 0, 0, 0, 0, 0, 0, 0], 0.02577319587628866, 3.6875), 719: ('Canadian Bacon (1994)', [0, 0, 0, 0, 0, 1, 0, 0, 0, 0, 0, 0, 0, 0, 0, 0, 0, 1, 0], 0.048109965635738834, 2.413793103448276), 720: ('First Knight (1995)', [0, 1, 1, 0, 0, 0, 0, 0, 1, 0, 0, 0, 0, 0, 1, 0, 0, 0, 0], 0.14604810996563575, 3.0232558139534884), 721: ('Mallrats (1995)', [0, 0, 0, 0, 0, 1, 0, 0, 0, 0, 0, 0, 0, 0, 0, 0, 0, 0, 0], 0.09106529209621993, 3.4444444444444446), 722: ('Nine Months (1995)', [0, 0, 0, 0, 0, 1, 0, 0, 0, 0, 0, 0, 0, 0, 0, 0, 0, 0, 0], 0.0979381443298969, 2.9310344827586206), 723: ('Boys on the Side (1995)', [0, 0, 0, 0, 0, 1, 0, 0, 1, 0, 0, 0, 0, 0, 0, 0, 0, 0, 0], 0.05670103092783505, 3.1470588235294117), 724: ('Circle of Friends (1995)', [0, 0, 0, 0, 0, 0, 0, 0, 1, 0, 0, 0, 0, 0, 1, 0, 0, 0, 0], 0.12886597938144329, 3.486842105263158), 725: ('Exit to Eden (1994)', [0, 0, 0, 0, 0, 1, 0, 0, 0, 0, 0, 0, 0, 0, 0, 0, 0, 0, 0], 0.02577319587628866, 2.75), 726: ('Fluke (1995)', [0, 0, 0, 0, 1, 0, 0, 0, 1, 0, 0, 0, 0, 0, 0, 0, 0, 0, 0], 0.022336769759450172, 2.4285714285714284), 727: ('Immortal Beloved (1994)', [0, 0, 0, 0, 0, 0, 0, 0, 1, 0, 0, 0, 0, 0, 1, 0, 0, 0, 0], 0.10652920962199312, 3.4603174603174605), 728: ('Junior (1994)', [0, 0, 0, 0, 0, 1, 0, 0, 0, 0, 0, 0, 0, 0, 0, 1, 0, 0, 0], 0.07560137457044673, 3.022222222222222), 729: ('Nell (1994)', [0, 0, 0, 0, 0, 0, 0, 0, 1, 0, 0, 0, 0, 0, 0, 0, 0, 0, 0], 0.13745704467353953, 3.4814814814814814), 730: ('Queen Margot (Reine Margot, La) (1994)', [0, 0, 0, 0, 0, 0, 0, 0, 1, 0, 0, 0, 0, 0, 1, 0, 0, 0, 0], 0.03951890034364261, 3.5), 731: ('Corrina, Corrina (1994)', [0, 0, 0, 0, 0, 1, 0, 0, 1, 0, 0, 0, 0, 0, 1, 0, 0, 0, 0], 0.06529209621993128, 3.1538461538461537), 732: ('Dave (1993)', [0, 0, 0, 0, 0, 1, 0, 0, 0, 0, 0, 0, 0, 0, 1, 0, 0, 0, 0], 0.3075601374570447, 3.65), 733: ('Go Fish (1994)', [0, 0, 0, 0, 0, 0, 0, 0, 1, 0, 0, 0, 0, 0, 1, 0, 0, 0, 0], 0.024054982817869417, 3.2), 734: ('Made in America (1993)', [0, 0, 0, 0, 0, 1, 0, 0, 0, 0, 0, 0, 0, 0, 0, 0, 0, 0, 0], 0.044673539518900345, 2.5185185185185186), 735: ('Philadelphia (1993)', [0, 0, 0, 0, 0, 0, 0, 0, 1, 0, 0, 0, 0, 0, 0, 0, 0, 0, 0], 0.23367697594501718, 3.854014598540146), 736: ('Shadowlands (1993)', [0, 0, 0, 0, 0, 0, 0, 0, 1, 0, 0, 0, 0, 0, 1, 0, 0, 0, 0], 0.1323024054982818, 3.9358974358974357), 737: ('Sirens (1994)', [0, 0, 0, 0, 0, 1, 0, 0, 1, 0, 0, 0, 0, 0, 0, 0, 0, 0, 0], 0.09965635738831616, 2.983050847457627), 738: ('Threesome (1994)', [0, 0, 0, 0, 0, 1, 0, 0, 0, 0, 0, 0, 0, 0, 1, 0, 0, 0, 0], 0.05154639175257732, 2.838709677419355), 739: ('Pretty Woman (1990)', [0, 0, 0, 0, 0, 1, 0, 0, 0, 0, 0, 0, 0, 0, 1, 0, 0, 0, 0], 0.2800687285223368, 3.323170731707317), 740: ('Jane Eyre (1996)', [0, 0, 0, 0, 0, 0, 0, 0, 1, 0, 0, 0, 0, 0, 1, 0, 0, 0, 0], 0.10652920962199312, 3.4761904761904763), 741: ('Last Supper, The (1995)', [0, 0, 0, 0, 0, 0, 0, 0, 1, 0, 0, 0, 0, 0, 0, 0, 1, 0, 0], 0.0979381443298969, 3.4482758620689653), 742: ('Ransom (1996)', [0, 0, 0, 0, 0, 0, 0, 0, 1, 0, 0, 0, 0, 0, 0, 0, 1, 0, 0], 0.4570446735395189, 3.644194756554307), 743: ('Crow: City of Angels, The (1996)', [0, 1, 0, 0, 0, 0, 0, 0, 0, 0, 0, 0, 0, 0, 0, 0, 1, 0, 0], 0.06529209621993128, 1.9487179487179487), 744: ('Michael Collins (1996)', [0, 0, 0, 0, 0, 0, 0, 0, 1, 0, 0, 0, 0, 0, 0, 0, 0, 1, 0], 0.1563573883161512, 3.4565217391304346), 745: ('Ruling Class, The (1972)', [0, 0, 0, 0, 0, 1, 0, 0, 0, 0, 0, 0, 0, 0, 0, 0, 0, 0, 0], 0.02577319587628866, 3.875), 746: ('Real Genius (1985)', [0, 0, 0, 0, 0, 1, 0, 0, 0, 0, 0, 0, 0, 0, 0, 0, 0, 0, 0], 0.2027491408934708, 3.6638655462184873), 747: ('Benny & Joon (1993)', [0, 0, 0, 0, 0, 1, 0, 0, 0, 0, 0, 0, 0, 0, 1, 0, 0, 0, 0], 0.17353951890034364, 3.4607843137254903), 748: ('Saint, The (1997)', [0, 1, 0, 0, 0, 0, 0, 0, 0, 0, 0, 0, 0, 0, 1, 0, 1, 0, 0], 0.5412371134020618, 3.1234177215189876), 749: ('MatchMaker, The (1997)', [0, 0, 0, 0, 0, 1, 0, 0, 0, 0, 0, 0, 0, 0, 1, 0, 0, 0, 0], 0.0859106529209622, 3.176470588235294), 750: ('Amistad (1997)', [0, 0, 0, 0, 0, 0, 0, 0, 1, 0, 0, 0, 0, 0, 0, 0, 0, 0, 0], 0.211340206185567, 3.8548387096774195), 751: ('Tomorrow Never Dies (1997)', [0, 1, 0, 0, 0, 0, 0, 0, 0, 0, 0, 0, 0, 0, 1, 0, 1, 0, 0], 0.3075601374570447, 3.4277777777777776), 752: ('Replacement Killers, The (1998)', [0, 1, 0, 0, 0, 0, 0, 0, 0, 0, 0, 0, 0, 0, 0, 0, 1, 0, 0], 0.06529209621993128, 3.3076923076923075), 753: ('Burnt By the Sun (1994)', [0, 0, 0, 0, 0, 0, 0, 0, 1, 0, 0, 0, 0, 0, 0, 0, 0, 0, 0], 0.03951890034364261, 3.7083333333333335), 754: ('Red Corner (1997)', [0, 0, 0, 0, 0, 0, 1, 0, 0, 0, 0, 0, 0, 0, 0, 0, 1, 0, 0], 0.09621993127147767, 3.3859649122807016), 755: ('Jumanji (1995)', [0, 1, 1, 0, 1, 0, 0, 0, 0, 1, 0, 0, 0, 0, 0, 1, 0, 0, 0], 0.16323024054982818, 3.3125), 756: ('Father of the Bride Part II (1995)', [0, 0, 0, 0, 0, 1, 0, 0, 0, 0, 0, 0, 0, 0, 0, 0, 0, 0, 0], 0.218213058419244, 2.8984375), 757: ('Across the Sea of Time (1995)', [0, 0, 0, 0, 0, 0, 0, 1, 0, 0, 0, 0, 0, 0, 0, 0, 0, 0, 0], 0.005154639175257732, 2.75), 758: ('Lawnmower Man 2: Beyond Cyberspace (1996)', [0, 0, 0, 0, 0, 0, 0, 0, 0, 0, 0, 0, 0, 0, 0, 1, 1, 0, 0], 0.03436426116838488, 1.7142857142857142), 759: ('Fair Game (1995)', [0, 1, 0, 0, 0, 0, 0, 0, 0, 0, 0, 0, 0, 0, 0, 0, 0, 0, 0], 0.01718213058419244, 2.1818181818181817), 760: ('Screamers (1995)', [0, 0, 0, 0, 0, 0, 0, 0, 0, 0, 0, 0, 0, 0, 0, 1, 0, 0, 0], 0.07731958762886598, 2.652173913043478), 761: ('Nick of Time (1995)', [0, 1, 0, 0, 0, 0, 0, 0, 0, 0, 0, 0, 0, 0, 0, 0, 1, 0, 0], 0.07388316151202749, 3.0454545454545454), 762: ('Beautiful Girls (1996)', [0, 0, 0, 0, 0, 0, 0, 0, 1, 0, 0, 0, 0, 0, 0, 0, 0, 0, 0], 0.1958762886597938, 3.391304347826087), 763: ('Happy Gilmore (1996)', [0, 0, 0, 0, 0, 1, 0, 0, 0, 0, 0, 0, 0, 0, 0, 0, 0, 0, 0], 0.2542955326460481, 3.389261744966443), 764: ('If Lucy Fell (1996)', [0, 0, 0, 0, 0, 1, 0, 0, 0, 0, 0, 0, 0, 0, 1, 0, 0, 0, 0], 0.048109965635738834, 2.7586206896551726), 765: ('Boomerang (1992)', [0, 0, 0, 0, 0, 1, 0, 0, 0, 0, 0, 0, 0, 0, 1, 0, 0, 0, 0], 0.05326460481099656, 2.8125), 766: ('Man of the Year (1995)', [0, 0, 0, 0, 0, 0, 0, 1, 0, 0, 0, 0, 0, 0, 0, 0, 0, 0, 0], 0.013745704467353952, 3.111111111111111), 767: ('Addiction, The (1995)', [0, 0, 0, 0, 0, 0, 0, 0, 0, 0, 0, 1, 0, 0, 0, 0, 0, 0, 0], 0.01718213058419244, 2.1818181818181817), 768: ('Casper (1995)', [0, 0, 1, 0, 1, 0, 0, 0, 0, 0, 0, 0, 0, 0, 0, 0, 0, 0, 0], 0.08762886597938144, 3.076923076923077), 769: ('Congo (1995)', [0, 1, 1, 0, 0, 0, 0, 0, 0, 0, 0, 0, 0, 1, 0, 1, 0, 0, 0], 0.070446735395189, 2.4523809523809526), 770: ('Devil in a Blue Dress (1995)', [0, 0, 0, 0, 0, 0, 1, 0, 0, 0, 1, 0, 0, 1, 0, 0, 1, 0, 0], 0.09621993127147767, 3.3859649122807016), 771: ('Johnny Mnemonic (1995)', [0, 1, 0, 0, 0, 0, 0, 0, 0, 0, 0, 0, 0, 0, 0, 1, 1, 0, 0], 0.06872852233676977, 2.6341463414634148), 772: ('Kids (1995)', [0, 0, 0, 0, 0, 0, 0, 0, 1, 0, 0, 0, 0, 0, 0, 0, 0, 0, 0], 0.08247422680412371, 3.061224489795918), 773: ('Mute Witness (1994)', [0, 0, 0, 0, 0, 0, 0, 0, 0, 0, 0, 0, 0, 0, 0, 0, 1, 0, 0], 0.027491408934707903, 2.9411764705882355), 774: ('Prophecy, The (1995)', [0, 0, 0, 0, 0, 0, 0, 0, 0, 0, 0, 1, 0, 0, 0, 0, 0, 0, 0], 0.05326460481099656, 2.9375), 775: ('Something to Talk About (1995)', [0, 0, 0, 0, 0, 1, 0, 0, 1, 0, 0, 0, 0, 0, 1, 0, 0, 0, 0], 0.0429553264604811, 2.769230769230769), 776: ('Three Wishes (1995)', [0, 0, 0, 0, 0, 0, 0, 0, 1, 0, 0, 0, 0, 0, 0, 0, 0, 0, 0], 0.013745704467353952, 3.2222222222222223), 777: ('Castle Freak (1995)', [0, 0, 0, 0, 0, 0, 0, 0, 0, 0, 0, 1, 0, 0, 0, 0, 0, 0, 0], 0.005154639175257732, 1.25), 778: ('Don Juan DeMarco (1995)', [0, 0, 0, 0, 0, 1, 0, 0, 1, 0, 0, 0, 0, 0, 1, 0, 0, 0, 0], 0.12886597938144329, 3.5526315789473686), 779: ('Drop Zone (1994)', [0, 1, 0, 0, 0, 0, 0, 0, 0, 0, 0, 0, 0, 0, 0, 0, 0, 0, 0], 0.05154639175257732, 2.5483870967741935), 780: ('Dumb & Dumber (1994)', [0, 0, 0, 0, 0, 1, 0, 0, 0, 0, 0, 0, 0, 0, 0, 0, 0, 0, 0], 0.11683848797250859, 3.0), 781: ('French Kiss (1995)', [0, 0, 0, 0, 0, 1, 0, 0, 0, 0, 0, 0, 0, 0, 1, 0, 0, 0, 0], 0.14261168384879724, 3.3333333333333335), 782: ('Little Odessa (1994)', [0, 0, 0, 0, 0, 0, 0, 0, 1, 0, 0, 0, 0, 0, 0, 0, 0, 0, 0], 0.015463917525773196, 2.6), 783: ('Milk Money (1994)', [0, 0, 0, 0, 0, 1, 0, 0, 0, 0, 0, 0, 0, 0, 1, 0, 0, 0, 0], 0.061855670103092786, 2.72972972972973), 784: ('Beyond Bedlam (1993)', [0, 0, 0, 0, 0, 0, 0, 0, 1, 0, 0, 1, 0, 0, 0, 0, 0, 0, 0], 0.001718213058419244, 1.0), 785: ('Only You (1994)', [0, 0, 0, 0, 0, 1, 0, 0, 0, 0, 0, 0, 0, 0, 1, 0, 0, 0, 0], 0.06529209621993128, 3.1538461538461537), 786: ('Perez Family, The (1995)', [0, 0, 0, 0, 0, 1, 0, 0, 0, 0, 0, 0, 0, 0, 1, 0, 0, 0, 0], 0.022336769759450172, 2.642857142857143), 787: ('Roommates (1995)', [0, 0, 0, 0, 0, 1, 0, 0, 1, 0, 0, 0, 0, 0, 0, 0, 0, 0, 0], 0.020618556701030927, 3.230769230769231), 788: ('Relative Fear (1994)', [0, 0, 0, 0, 0, 0, 0, 0, 0, 0, 0, 1, 0, 0, 0, 0, 1, 0, 0], 0.003436426116838488, 1.6666666666666667), 789: ('Swimming with Sharks (1995)', [0, 0, 0, 0, 0, 1, 0, 0, 1, 0, 0, 0, 0, 0, 0, 0, 0, 0, 0], 0.07903780068728522, 3.574468085106383), 790: ('Tommy Boy (1995)', [0, 0, 0, 0, 0, 1, 0, 0, 0, 0, 0, 0, 0, 0, 0, 0, 0, 0, 0], 0.11168384879725086, 2.909090909090909), 791: ('Baby-Sitters Club, The (1995)', [0, 0, 0, 0, 1, 0, 0, 0, 0, 0, 0, 0, 0, 0, 0, 0, 0, 0, 0], 0.015463917525773196, 2.5), 792: ('Bullets Over Broadway (1994)', [0, 0, 0, 0, 0, 1, 0, 0, 0, 0, 0, 0, 0, 0, 0, 0, 0, 0, 0], 0.14604810996563575, 3.7209302325581395), 793: ('Crooklyn (1994)', [0, 0, 0, 0, 0, 1, 0, 0, 0, 0, 0, 0, 0, 0, 0, 0, 0, 0, 0], 0.015463917525773196, 3.5), 794: ('It Could Happen to You (1994)', [0, 0, 0, 0, 0, 0, 0, 0, 1, 0, 0, 0, 0, 0, 1, 0, 0, 0, 0], 0.07731958762886598, 3.652173913043478), 795: ('Richie Rich (1994)', [0, 0, 0, 0, 1, 1, 0, 0, 0, 0, 0, 0, 0, 0, 0, 0, 0, 0, 0], 0.03436426116838488, 2.4285714285714284), 796: ('Speechless (1994)', [0, 0, 0, 0, 0, 1, 0, 0, 0, 0, 0, 0, 0, 0, 1, 0, 0, 0, 0], 0.06013745704467354, 3.0833333333333335), 797: ('Timecop (1994)', [0, 1, 0, 0, 0, 0, 0, 0, 0, 0, 0, 0, 0, 0, 0, 1, 0, 0, 0], 0.05154639175257732, 3.096774193548387), 798: ('Bad Company (1995)', [0, 1, 0, 0, 0, 0, 0, 0, 0, 0, 0, 0, 0, 0, 0, 0, 0, 0, 0], 0.013745704467353952, 2.2222222222222223), 799: ('Boys Life (1995)', [0, 0, 0, 0, 0, 0, 0, 0, 1, 0, 0, 0, 0, 0, 0, 0, 0, 0, 0], 0.006872852233676976, 3.2), 800: ('In the Mouth of Madness (1995)', [0, 0, 0, 0, 0, 0, 0, 0, 0, 0, 0, 1, 0, 0, 0, 0, 1, 0, 0], 0.0429553264604811, 2.8846153846153846), 801: ('Air Up There, The (1994)', [0, 0, 0, 0, 0, 1, 0, 0, 0, 0, 0, 0, 0, 0, 0, 0, 0, 0, 0], 0.02577319587628866, 2.8125), 802: ('Hard Target (1993)', [0, 1, 1, 0, 0, 0, 1, 0, 0, 0, 0, 0, 0, 0, 0, 0, 1, 0, 0], 0.06701030927835051, 2.7), 803: ('Heaven & Earth (1993)', [0, 1, 0, 0, 0, 0, 0, 0, 1, 0, 0, 0, 0, 0, 0, 0, 0, 1, 0], 0.013745704467353952, 2.5555555555555554), 804: ('Jimmy Hollywood (1994)', [0, 0, 0, 0, 0, 1, 0, 0, 0, 0, 0, 0, 0, 0, 0, 0, 0, 0, 0], 0.012027491408934709, 2.875), 805: ('Manhattan Murder Mystery (1993)', [0, 0, 0, 0, 0, 1, 0, 0, 0, 0, 0, 0, 0, 1, 0, 0, 0, 0, 0], 0.044673539518900345, 3.6296296296296298), 806: ('Menace II Society (1993)', [0, 1, 0, 0, 0, 0, 1, 0, 1, 0, 0, 0, 0, 0, 0, 0, 0, 0, 0], 0.08419243986254296, 3.46), 807: ('Poetic Justice (1993)', [0, 0, 0, 0, 0, 0, 0, 0, 1, 0, 0, 0, 0, 0, 0, 0, 0, 0, 0], 0.013745704467353952, 2.7777777777777777), 808: ('Program, The (1993)', [0, 1, 0, 0, 0, 0, 0, 0, 1, 0, 0, 0, 0, 0, 0, 0, 0, 0, 0], 0.05154639175257732, 2.838709677419355), 809: ('Rising Sun (1993)', [0, 1, 0, 0, 0, 0, 0, 0, 1, 0, 0, 0, 0, 1, 0, 0, 0, 0, 0], 0.07216494845360824, 2.9069767441860463), 810: ('Shadow, The (1994)', [0, 1, 0, 0, 0, 0, 0, 0, 0, 0, 0, 0, 0, 0, 0, 0, 0, 0, 0], 0.07560137457044673, 2.888888888888889), 811: ('Thirty-Two Short Films About Glenn Gould (1993)', [0, 0, 0, 0, 0, 0, 0, 1, 0, 0, 0, 0, 0, 0, 0, 0, 0, 0, 0], 0.029209621993127148, 3.9444444444444446), 812: ('Andre (1994)', [0, 0, 1, 0, 1, 0, 0, 0, 0, 0, 0, 0, 0, 0, 0, 0, 0, 0, 0], 0.029209621993127148, 3.111111111111111), 813: ('Celluloid Closet, The (1995)', [0, 0, 0, 0, 0, 0, 0, 1, 0, 0, 0, 0, 0, 0, 0, 0, 0, 0, 0], 0.09450171821305842, 3.892857142857143), 814: ('Great Day in Harlem, A (1994)', [0, 0, 0, 0, 0, 0, 0, 1, 0, 0, 0, 0, 0, 0, 0, 0, 0, 0, 0], 0.0, 5.0), 815: ('One Fine Day (1996)', [0, 0, 0, 0, 0, 0, 0, 0, 1, 0, 0, 0, 0, 0, 1, 0, 0, 0, 0], 0.19072164948453607, 3.232142857142857), 816: ('Candyman: Farewell to the Flesh (1995)', [0, 0, 0, 0, 0, 0, 0, 0, 0, 0, 0, 1, 0, 0, 0, 0, 0, 0, 0], 0.03436426116838488, 2.4285714285714284), 817: ('Frisk (1995)', [0, 0, 0, 0, 0, 0, 0, 0, 1, 0, 0, 0, 0, 0, 0, 0, 0, 0, 0], 0.003436426116838488, 2.6666666666666665), 818: ('Girl 6 (1996)', [0, 0, 0, 0, 0, 1, 0, 0, 0, 0, 0, 0, 0, 0, 0, 0, 0, 0, 0], 0.041237113402061855, 2.76), 819: ('Eddie (1996)', [0, 0, 0, 0, 0, 1, 0, 0, 0, 0, 0, 0, 0, 0, 0, 0, 0, 0, 0], 0.06701030927835051, 2.7), 820: ('Space Jam (1996)', [0, 0, 1, 1, 1, 1, 0, 0, 0, 1, 0, 0, 0, 0, 0, 0, 0, 0, 0], 0.15807560137457044, 2.774193548387097), 821: ('Mrs. Winterbourne (1996)', [0, 0, 0, 0, 0, 1, 0, 0, 0, 0, 0, 0, 0, 0, 1, 0, 0, 0, 0], 0.03608247422680412, 3.0454545454545454), 822: ('Faces (1968)', [0, 0, 0, 0, 0, 0, 0, 0, 1, 0, 0, 0, 0, 0, 0, 0, 0, 0, 0], 0.005154639175257732, 3.0), 823: ('Mulholland Falls (1996)', [0, 0, 0, 0, 0, 0, 1, 0, 0, 0, 1, 0, 0, 0, 0, 0, 1, 0, 0], 0.13917525773195877, 2.8780487804878048), 824: ('Great White Hype, The (1996)', [0, 0, 0, 0, 0, 1, 0, 0, 0, 0, 0, 0, 0, 0, 0, 0, 0, 0, 0], 0.08247422680412371, 2.7551020408163267), 825: ('Arrival, The (1996)', [0, 1, 0, 0, 0, 0, 0, 0, 0, 0, 0, 0, 0, 0, 0, 1, 1, 0, 0], 0.140893470790378, 3.036144578313253), 826: ('Phantom, The (1996)', [0, 0, 1, 0, 0, 0, 0, 0, 0, 0, 0, 0, 0, 0, 0, 0, 0, 0, 0], 0.13573883161512026, 2.575), 827: ('Daylight (1996)', [0, 1, 1, 0, 0, 0, 0, 0, 0, 0, 0, 0, 0, 0, 0, 0, 1, 0, 0], 0.09621993127147767, 2.7719298245614037), 828: ('Alaska (1996)', [0, 0, 1, 0, 1, 0, 0, 0, 0, 0, 0, 0, 0, 0, 0, 0, 0, 0, 0], 0.020618556701030927, 2.6923076923076925), 829: ('Fled (1996)', [0, 1, 1, 0, 0, 0, 0, 0, 0, 0, 0, 0, 0, 0, 0, 0, 0, 0, 0], 0.05670103092783505, 2.6470588235294117), 830: ('Power 98 (1995)', [0, 1, 0, 0, 0, 0, 0, 0, 0, 0, 0, 0, 0, 1, 0, 0, 1, 0, 0], 0.0, 1.0), 831: ('Escape from L.A. (1996)', [0, 1, 1, 0, 0, 0, 0, 0, 0, 0, 0, 0, 0, 0, 0, 1, 1, 0, 0], 0.15463917525773196, 2.4615384615384617), 832: ('Bogus (1996)', [0, 0, 0, 0, 1, 0, 0, 0, 1, 1, 0, 0, 0, 0, 0, 0, 0, 0, 0], 0.03608247422680412, 2.5454545454545454), 833: ('Bulletproof (1996)', [0, 1, 0, 0, 0, 0, 0, 0, 0, 0, 0, 0, 0, 0, 0, 0, 0, 0, 0], 0.08247422680412371, 3.204081632653061), 834: ('Halloween: The Curse of Michael Myers (1995)', [0, 0, 0, 0, 0, 0, 0, 0, 0, 0, 0, 1, 0, 0, 0, 0, 1, 0, 0], 0.041237113402061855, 2.2), 835: ('Gay Divorcee, The (1934)', [0, 0, 0, 0, 0, 1, 0, 0, 0, 0, 0, 0, 1, 0, 1, 0, 0, 0, 0], 0.024054982817869417, 3.8666666666666667), 836: ('Ninotchka (1939)', [0, 0, 0, 0, 0, 1, 0, 0, 0, 0, 0, 0, 0, 0, 1, 0, 0, 0, 0], 0.0429553264604811, 3.769230769230769), 837: ('Meet John Doe (1941)', [0, 0, 0, 0, 0, 0, 0, 0, 1, 0, 0, 0, 0, 0, 0, 0, 0, 0, 0], 0.041237113402061855, 3.92), 838: ('In the Line of Duty 2 (1987)', [0, 1, 0, 0, 0, 0, 0, 0, 0, 0, 0, 0, 0, 0, 0, 0, 0, 0, 0], 0.005154639175257732, 2.75), 839: ('Loch Ness (1995)', [0, 0, 0, 0, 0, 0, 0, 0, 0, 0, 0, 1, 0, 0, 0, 0, 1, 0, 0], 0.005154639175257732, 2.5), 840: ('Last Man Standing (1996)', [0, 1, 0, 0, 0, 0, 0, 0, 1, 0, 0, 0, 0, 0, 0, 0, 0, 0, 1], 0.08934707903780069, 2.660377358490566), 841: ('Glimmer Man, The (1996)', [0, 1, 0, 0, 0, 0, 0, 0, 0, 0, 0, 0, 0, 0, 0, 0, 1, 0, 0], 0.08075601374570447, 2.75), 842: ('Pollyanna (1960)', [0, 0, 0, 0, 1, 1, 0, 0, 1, 0, 0, 0, 0, 0, 0, 0, 0, 0, 0], 0.044673539518900345, 3.1481481481481484), 843: ('Shaggy Dog, The (1959)', [0, 0, 0, 0, 1, 1, 0, 0, 0, 0, 0, 0, 0, 0, 0, 0, 0, 0, 0], 0.04982817869415808, 3.0), 844: ('Freeway (1996)', [0, 0, 0, 0, 0, 0, 1, 0, 0, 0, 0, 0, 0, 0, 0, 0, 0, 0, 0], 0.070446735395189, 3.357142857142857), 845: ('That Thing You Do! (1996)', [0, 0, 0, 0, 0, 1, 0, 0, 0, 0, 0, 0, 0, 0, 0, 0, 0, 0, 0], 0.3006872852233677, 3.465909090909091), 846: ('To Gillian on Her 37th Birthday (1996)', [0, 0, 0, 0, 0, 0, 0, 0, 1, 0, 0, 0, 0, 0, 1, 0, 0, 0, 0], 0.07388316151202749, 3.0681818181818183), 847: ('Looking for Richard (1996)', [0, 0, 0, 0, 0, 0, 0, 1, 1, 0, 0, 0, 0, 0, 0, 0, 0, 0, 0], 0.09278350515463918, 3.727272727272727), 848: ('Murder, My Sweet (1944)', [0, 0, 0, 0, 0, 0, 0, 0, 0, 0, 1, 0, 0, 0, 0, 0, 1, 0, 0], 0.013745704467353952, 3.5555555555555554), 849: ('Days of Thunder (1990)', [0, 1, 0, 0, 0, 0, 0, 0, 0, 0, 0, 0, 0, 0, 1, 0, 0, 0, 0], 0.08934707903780069, 2.7169811320754715), 850: ('Perfect Candidate, A (1996)', [0, 0, 0, 0, 0, 0, 0, 1, 0, 0, 0, 0, 0, 0, 0, 0, 0, 0, 0], 0.005154639175257732, 4.0), 851: ('Two or Three Things I Know About Her (1966)', [0, 0, 0, 0, 0, 0, 0, 0, 1, 0, 0, 0, 0, 0, 0, 0, 0, 0, 0], 0.005154639175257732, 3.75), 852: ('Bloody Child, The (1996)', [0, 0, 0, 0, 0, 0, 0, 0, 1, 0, 0, 0, 0, 0, 0, 0, 1, 0, 0], 0.0, 1.0), 853: ('Braindead (1992)', [0, 0, 0, 0, 0, 1, 0, 0, 0, 0, 0, 1, 0, 0, 0, 0, 0, 0, 0], 0.022336769759450172, 3.857142857142857), 854: ('Bad Taste (1987)', [0, 0, 0, 0, 0, 1, 0, 0, 0, 0, 0, 1, 0, 0, 0, 0, 0, 0, 0], 0.02577319587628866, 3.375), 855: ('Diva (1981)', [0, 1, 0, 0, 0, 0, 0, 0, 1, 0, 0, 0, 0, 1, 1, 0, 1, 0, 0], 0.11168384879725086, 3.727272727272727), 856: ('Night on Earth (1991)', [0, 0, 0, 0, 0, 1, 0, 0, 1, 0, 0, 0, 0, 0, 0, 0, 0, 0, 0], 0.06013745704467354, 3.8333333333333335), 857: ('Paris Was a Woman (1995)', [0, 0, 0, 0, 0, 0, 0, 1, 0, 0, 0, 0, 0, 0, 0, 0, 0, 0, 0], 0.0, 3.0), 858: ('Amityville: Dollhouse (1996)', [0, 0, 0, 0, 0, 0, 0, 0, 0, 0, 0, 1, 0, 0, 0, 0, 0, 0, 0], 0.003436426116838488, 1.0), 859: (\"April Fool's Day (1986)\", [0, 0, 0, 0, 0, 1, 0, 0, 0, 0, 0, 1, 0, 0, 0, 0, 0, 0, 0], 0.024054982817869417, 2.6666666666666665), 860: ('Believers, The (1987)', [0, 0, 0, 0, 0, 0, 0, 0, 0, 0, 0, 1, 0, 0, 0, 0, 1, 0, 0], 0.02577319587628866, 2.25), 861: ('Nosferatu a Venezia (1986)', [0, 0, 0, 0, 0, 0, 0, 0, 0, 0, 0, 1, 0, 0, 0, 0, 0, 0, 0], 0.003436426116838488, 2.3333333333333335), 862: ('Jingle All the Way (1996)', [0, 0, 1, 0, 1, 1, 0, 0, 0, 0, 0, 0, 0, 0, 0, 0, 0, 0, 0], 0.029209621993127148, 2.111111111111111), 863: ('Garden of Finzi-Contini, The (Giardino dei Finzi-Contini, Il) (1970)', [0, 0, 0, 0, 0, 0, 0, 0, 1, 0, 0, 0, 0, 0, 0, 0, 0, 0, 0], 0.03951890034364261, 3.9166666666666665), 864: ('My Fellow Americans (1996)', [0, 0, 0, 0, 0, 1, 0, 0, 0, 0, 0, 0, 0, 0, 0, 0, 0, 0, 0], 0.14604810996563575, 3.1627906976744184), 865: ('Ice Storm, The (1997)', [0, 0, 0, 0, 0, 0, 0, 0, 1, 0, 0, 0, 0, 0, 0, 0, 0, 0, 0], 0.03436426116838488, 3.4761904761904763), 866: ('Michael (1996)', [0, 0, 0, 0, 0, 1, 0, 0, 0, 0, 0, 0, 0, 0, 1, 0, 0, 0, 0], 0.2027491408934708, 3.319327731092437), 867: ('Whole Wide World, The (1996)', [0, 0, 0, 0, 0, 0, 0, 0, 1, 0, 0, 0, 0, 0, 0, 0, 0, 0, 0], 0.00859106529209622, 4.0), 868: ('Hearts and Minds (1996)', [0, 0, 0, 0, 0, 0, 0, 0, 1, 0, 0, 0, 0, 0, 0, 0, 0, 0, 0], 0.006872852233676976, 3.8), 869: ('Fools Rush In (1997)', [0, 0, 0, 0, 0, 1, 0, 0, 0, 0, 0, 0, 0, 0, 1, 0, 0, 0, 0], 0.03951890034364261, 3.0), 870: ('Touch (1997)', [0, 0, 0, 0, 0, 0, 0, 0, 0, 0, 0, 0, 0, 0, 1, 0, 0, 0, 0], 0.013745704467353952, 2.7777777777777777), 871: ('Vegas Vacation (1997)', [0, 0, 0, 0, 0, 1, 0, 0, 0, 0, 0, 0, 0, 0, 0, 0, 0, 0, 0], 0.12714776632302405, 2.4), 872: ('Love Jones (1997)', [0, 0, 0, 0, 0, 0, 0, 0, 0, 0, 0, 0, 0, 0, 1, 0, 0, 0, 0], 0.070446735395189, 3.0952380952380953), 873: ('Picture Perfect (1997)', [0, 0, 0, 0, 0, 1, 0, 0, 0, 0, 0, 0, 0, 0, 1, 0, 0, 0, 0], 0.13745704467353953, 2.962962962962963), 874: ('Career Girls (1997)', [0, 0, 0, 0, 0, 0, 0, 0, 1, 0, 0, 0, 0, 0, 0, 0, 0, 0, 0], 0.06529209621993128, 3.2564102564102564), 875: (\"She's So Lovely (1997)\", [0, 0, 0, 0, 0, 0, 0, 0, 1, 0, 0, 0, 0, 0, 1, 0, 0, 0, 0], 0.08934707903780069, 2.7358490566037736), 876: ('Money Talks (1997)', [0, 1, 0, 0, 0, 1, 0, 0, 0, 0, 0, 0, 0, 0, 0, 0, 0, 0, 0], 0.07903780068728522, 2.702127659574468), 877: ('Excess Baggage (1997)', [0, 0, 1, 0, 0, 0, 0, 0, 0, 0, 0, 0, 0, 0, 1, 0, 0, 0, 0], 0.08762886597938144, 2.5384615384615383), 878: ('That Darn Cat! (1997)', [0, 0, 0, 0, 1, 1, 0, 0, 0, 0, 0, 0, 0, 1, 0, 0, 0, 0, 0], 0.054982817869415807, 2.515151515151515), 879: ('Peacemaker, The (1997)', [0, 1, 0, 0, 0, 0, 0, 0, 0, 0, 0, 0, 0, 0, 0, 0, 1, 1, 0], 0.23195876288659795, 3.2720588235294117), 880: ('Soul Food (1997)', [0, 0, 0, 0, 0, 0, 0, 0, 1, 0, 0, 0, 0, 0, 0, 0, 0, 0, 0], 0.09965635738831616, 3.169491525423729), 881: ('Money Talks (1997)', [0, 1, 0, 0, 0, 1, 0, 0, 0, 0, 0, 0, 0, 0, 0, 0, 0, 0, 0], 0.07560137457044673, 2.933333333333333), 882: ('Washington Square (1997)', [0, 0, 0, 0, 0, 0, 0, 0, 1, 0, 0, 0, 0, 0, 0, 0, 0, 0, 0], 0.05670103092783505, 3.2941176470588234), 883: ('Telling Lies in America (1997)', [0, 0, 0, 0, 0, 0, 0, 0, 1, 0, 0, 0, 0, 0, 0, 0, 0, 0, 0], 0.020618556701030927, 3.230769230769231), 884: ('Year of the Horse (1997)', [0, 0, 0, 0, 0, 0, 0, 1, 0, 0, 0, 0, 0, 0, 0, 0, 0, 0, 0], 0.010309278350515464, 3.2857142857142856), 885: ('Phantoms (1998)', [0, 0, 0, 0, 0, 0, 0, 0, 0, 0, 0, 1, 0, 0, 0, 0, 0, 0, 0], 0.020618556701030927, 2.230769230769231), 886: ('Life Less Ordinary, A (1997)', [0, 0, 0, 0, 0, 0, 0, 0, 0, 0, 0, 0, 0, 0, 1, 0, 1, 0, 0], 0.08934707903780069, 3.0754716981132075), 887: (\"Eve's Bayou (1997)\", [0, 0, 0, 0, 0, 0, 0, 0, 1, 0, 0, 0, 0, 0, 0, 0, 0, 0, 0], 0.10824742268041238, 3.609375), 888: ('One Night Stand (1997)', [0, 0, 0, 0, 0, 0, 0, 0, 1, 0, 0, 0, 0, 0, 0, 0, 0, 0, 0], 0.024054982817869417, 3.466666666666667), 889: ('Tango Lesson, The (1997)', [0, 0, 0, 0, 0, 0, 0, 0, 0, 0, 0, 0, 0, 0, 1, 0, 0, 0, 0], 0.020618556701030927, 3.3846153846153846), 890: ('Mortal Kombat: Annihilation (1997)', [0, 1, 1, 0, 0, 0, 0, 0, 0, 0, 0, 0, 0, 0, 0, 0, 0, 0, 0], 0.07216494845360824, 1.9534883720930232), 891: ('Bent (1997)', [0, 0, 0, 0, 0, 0, 0, 0, 1, 0, 0, 0, 0, 0, 0, 0, 0, 1, 0], 0.00859106529209622, 2.6666666666666665), 892: ('Flubber (1997)', [0, 0, 0, 0, 1, 1, 0, 0, 0, 1, 0, 0, 0, 0, 0, 0, 0, 0, 0], 0.08934707903780069, 2.7547169811320753), 893: ('For Richer or Poorer (1997)', [0, 0, 0, 0, 0, 1, 0, 0, 0, 0, 0, 0, 0, 0, 0, 0, 0, 0, 0], 0.022336769759450172, 2.4285714285714284), 894: ('Home Alone 3 (1997)', [0, 0, 0, 0, 1, 1, 0, 0, 0, 0, 0, 0, 0, 0, 0, 0, 0, 0, 0], 0.030927835051546393, 1.894736842105263), 895: ('Scream 2 (1997)', [0, 0, 0, 0, 0, 0, 0, 0, 0, 0, 0, 1, 0, 0, 0, 0, 1, 0, 0], 0.18041237113402062, 3.2169811320754715), 896: ('Sweet Hereafter, The (1997)', [0, 0, 0, 0, 0, 0, 0, 0, 1, 0, 0, 0, 0, 0, 0, 0, 0, 0, 0], 0.07388316151202749, 3.772727272727273), 897: ('Time Tracers (1995)', [0, 1, 1, 0, 0, 0, 0, 0, 0, 0, 0, 0, 0, 0, 0, 1, 0, 0, 0], 0.001718213058419244, 1.5), 898: ('Postman, The (1997)', [0, 0, 0, 0, 0, 0, 0, 0, 1, 0, 0, 0, 0, 0, 0, 0, 0, 0, 0], 0.0979381443298969, 3.2241379310344827), 899: ('Winter Guest, The (1997)', [0, 0, 0, 0, 0, 0, 0, 0, 1, 0, 0, 0, 0, 0, 0, 0, 0, 0, 0], 0.013745704467353952, 3.4444444444444446), 900: ('Kundun (1997)', [0, 0, 0, 0, 0, 0, 0, 0, 1, 0, 0, 0, 0, 0, 0, 0, 0, 0, 0], 0.070446735395189, 3.6904761904761907), 901: ('Mr. Magoo (1997)', [0, 0, 0, 0, 0, 1, 0, 0, 0, 0, 0, 0, 0, 0, 0, 0, 0, 0, 0], 0.018900343642611683, 1.9166666666666667), 902: ('Big Lebowski, The (1998)', [0, 0, 0, 0, 0, 1, 1, 0, 0, 0, 0, 0, 0, 1, 0, 0, 1, 0, 0], 0.070446735395189, 3.8333333333333335), 903: ('Afterglow (1997)', [0, 0, 0, 0, 0, 0, 0, 0, 1, 0, 0, 0, 0, 0, 1, 0, 0, 0, 0], 0.029209621993127148, 3.111111111111111), 904: ('Ma vie en rose (My Life in Pink) (1997)', [0, 0, 0, 0, 0, 1, 0, 0, 1, 0, 0, 0, 0, 0, 0, 0, 0, 0, 0], 0.03264604810996564, 3.45), 905: ('Great Expectations (1998)', [0, 0, 0, 0, 0, 0, 0, 0, 1, 0, 0, 0, 0, 0, 1, 0, 0, 0, 0], 0.044673539518900345, 3.2222222222222223), 906: ('Oscar & Lucinda (1997)', [0, 0, 0, 0, 0, 0, 0, 0, 1, 0, 0, 0, 0, 0, 1, 0, 0, 0, 0], 0.03436426116838488, 3.1904761904761907), 907: ('Vermin (1998)', [0, 0, 0, 0, 0, 1, 0, 0, 0, 0, 0, 0, 0, 0, 0, 0, 0, 0, 0], 0.001718213058419244, 2.0), 908: ('Half Baked (1998)', [0, 0, 0, 0, 0, 1, 0, 0, 0, 0, 0, 0, 0, 0, 0, 0, 0, 0, 0], 0.03264604810996564, 2.5), 909: ('Dangerous Beauty (1998)', [0, 0, 0, 0, 0, 0, 0, 0, 1, 0, 0, 0, 0, 0, 0, 0, 0, 0, 0], 0.020618556701030927, 3.769230769230769), 910: ('Nil By Mouth (1997)', [0, 0, 0, 0, 0, 0, 0, 0, 1, 0, 0, 0, 0, 0, 0, 0, 0, 0, 0], 0.005154639175257732, 2.0), 911: ('Twilight (1998)', [0, 0, 0, 0, 0, 0, 1, 0, 1, 0, 0, 0, 0, 0, 0, 0, 0, 0, 0], 0.005154639175257732, 2.5), 912: ('U.S. Marshalls (1998)', [0, 1, 0, 0, 0, 0, 0, 0, 0, 0, 0, 0, 0, 0, 0, 0, 1, 0, 0], 0.013745704467353952, 3.0), 913: ('Love and Death on Long Island (1997)', [0, 0, 0, 0, 0, 1, 0, 0, 0, 0, 0, 0, 0, 0, 0, 0, 0, 0, 0], 0.001718213058419244, 2.5), 914: ('Wild Things (1998)', [0, 0, 0, 0, 0, 0, 1, 0, 1, 0, 0, 0, 0, 1, 0, 0, 1, 0, 0], 0.01718213058419244, 2.727272727272727), 915: ('Primary Colors (1998)', [0, 0, 0, 0, 0, 0, 0, 0, 1, 0, 0, 0, 0, 0, 0, 0, 0, 0, 0], 0.020618556701030927, 3.923076923076923), 916: ('Lost in Space (1998)', [0, 1, 0, 0, 0, 0, 0, 0, 0, 0, 0, 0, 0, 0, 0, 1, 1, 0, 0], 0.029209621993127148, 3.1666666666666665), 917: ('Mercury Rising (1998)', [0, 1, 0, 0, 0, 0, 0, 0, 1, 0, 0, 0, 0, 0, 0, 0, 1, 0, 0], 0.010309278350515464, 3.4285714285714284), 918: ('City of Angels (1998)', [0, 0, 0, 0, 0, 0, 0, 0, 0, 0, 0, 0, 0, 0, 1, 0, 0, 0, 0], 0.012027491408934709, 3.0), 919: ('City of Lost Children, The (1995)', [0, 0, 1, 0, 0, 0, 0, 0, 0, 0, 0, 0, 0, 0, 0, 1, 0, 0, 0], 0.16323024054982818, 3.7916666666666665), 920: ('Two Bits (1995)', [0, 0, 0, 0, 0, 0, 0, 0, 1, 0, 0, 0, 0, 0, 0, 0, 0, 0, 0], 0.006872852233676976, 2.2), 921: ('Farewell My Concubine (1993)', [0, 0, 0, 0, 0, 0, 0, 0, 1, 0, 0, 0, 0, 0, 1, 0, 0, 0, 0], 0.07731958762886598, 3.9782608695652173), 922: ('Dead Man (1995)', [0, 0, 0, 0, 0, 0, 0, 0, 0, 0, 0, 0, 0, 0, 0, 0, 0, 0, 1], 0.05670103092783505, 3.823529411764706), 923: ('Raise the Red Lantern (1991)', [0, 0, 0, 0, 0, 0, 0, 0, 1, 0, 0, 0, 0, 0, 0, 0, 0, 0, 0], 0.0979381443298969, 4.155172413793103), 924: ('White Squall (1996)', [0, 0, 1, 0, 0, 0, 0, 0, 1, 0, 0, 0, 0, 0, 0, 0, 0, 0, 0], 0.14432989690721648, 3.4), 925: ('Unforgettable (1996)', [0, 0, 0, 0, 0, 0, 0, 0, 0, 0, 0, 0, 0, 0, 0, 1, 1, 0, 0], 0.05670103092783505, 3.323529411764706), 926: ('Down Periscope (1996)', [0, 0, 0, 0, 0, 1, 0, 0, 0, 0, 0, 0, 0, 0, 0, 0, 0, 0, 0], 0.1718213058419244, 2.702970297029703), 927: ('Flower of My Secret, The (Flor de mi secreto, La) (1995)', [0, 0, 0, 0, 0, 0, 0, 0, 1, 0, 0, 0, 0, 0, 0, 0, 0, 0, 0], 0.00859106529209622, 3.1666666666666665), 928: ('Craft, The (1996)', [0, 0, 0, 0, 0, 0, 0, 0, 1, 0, 0, 1, 0, 0, 0, 0, 0, 0, 0], 0.17697594501718214, 3.1153846153846154), 929: ('Harriet the Spy (1996)', [0, 0, 0, 0, 1, 1, 0, 0, 0, 0, 0, 0, 0, 0, 0, 0, 0, 0, 0], 0.06701030927835051, 2.7), 930: ('Chain Reaction (1996)', [0, 1, 1, 0, 0, 0, 0, 0, 0, 0, 0, 0, 0, 0, 0, 0, 1, 0, 0], 0.13573883161512026, 2.7), 931: ('Island of Dr. Moreau, The (1996)', [0, 0, 0, 0, 0, 0, 0, 0, 0, 0, 0, 0, 0, 0, 0, 1, 1, 0, 0], 0.09621993127147767, 2.1578947368421053), 932: ('First Kid (1996)', [0, 0, 0, 0, 1, 1, 0, 0, 0, 0, 0, 0, 0, 0, 0, 0, 0, 0, 0], 0.06701030927835051, 2.925), 933: ('Funeral, The (1996)', [0, 0, 0, 0, 0, 0, 0, 0, 1, 0, 0, 0, 0, 0, 0, 0, 0, 0, 0], 0.03436426116838488, 2.4285714285714284), 934: (\"Preacher's Wife, The (1996)\", [0, 0, 0, 0, 0, 0, 0, 0, 1, 0, 0, 0, 0, 0, 0, 0, 0, 0, 0], 0.11512027491408934, 2.926470588235294), 935: ('Paradise Road (1997)', [0, 0, 0, 0, 0, 0, 0, 0, 1, 0, 0, 0, 0, 0, 0, 0, 0, 1, 0], 0.010309278350515464, 3.2857142857142856), 936: ('Brassed Off (1996)', [0, 0, 0, 0, 0, 1, 0, 0, 1, 0, 0, 0, 0, 0, 1, 0, 0, 0, 0], 0.05326460481099656, 3.9375), 937: ('Thousand Acres, A (1997)', [0, 0, 0, 0, 0, 0, 0, 0, 1, 0, 0, 0, 0, 0, 0, 0, 0, 0, 0], 0.061855670103092786, 3.4054054054054053), 938: ('Smile Like Yours, A (1997)', [0, 0, 0, 0, 0, 1, 0, 0, 0, 0, 0, 0, 0, 0, 1, 0, 0, 0, 0], 0.041237113402061855, 2.88), 939: ('Murder in the First (1995)', [0, 0, 0, 0, 0, 0, 0, 0, 1, 0, 0, 0, 0, 0, 0, 0, 1, 0, 0], 0.1013745704467354, 3.6), 940: ('Airheads (1994)', [0, 0, 0, 0, 0, 1, 0, 0, 0, 0, 0, 0, 0, 0, 0, 0, 0, 0, 0], 0.05326460481099656, 2.34375), 941: ('With Honors (1994)', [0, 0, 0, 0, 0, 1, 0, 0, 1, 0, 0, 0, 0, 0, 0, 0, 0, 0, 0], 0.07731958762886598, 3.0652173913043477), 942: (\"What's Love Got to Do with It (1993)\", [0, 0, 0, 0, 0, 0, 0, 0, 1, 0, 0, 0, 0, 0, 0, 0, 0, 0, 0], 0.07560137457044673, 3.488888888888889), 943: ('Killing Zoe (1994)', [0, 0, 0, 0, 0, 0, 0, 0, 0, 0, 0, 0, 0, 0, 0, 0, 1, 0, 0], 0.06701030927835051, 3.475), 944: ('Renaissance Man (1994)', [0, 0, 0, 0, 0, 1, 0, 0, 1, 0, 0, 0, 0, 0, 0, 0, 0, 1, 0], 0.07216494845360824, 3.0), 945: ('Charade (1963)', [0, 0, 0, 0, 0, 1, 0, 0, 0, 0, 0, 0, 0, 1, 1, 0, 1, 0, 0], 0.06701030927835051, 3.925), 946: ('Fox and the Hound, The (1981)', [0, 0, 0, 1, 1, 0, 0, 0, 0, 0, 0, 0, 0, 0, 0, 0, 0, 0, 0], 0.10309278350515463, 3.1475409836065573), 947: ('Big Blue, The (Grand bleu, Le) (1988)', [0, 0, 1, 0, 0, 0, 0, 0, 0, 0, 0, 0, 0, 0, 1, 0, 0, 0, 0], 0.027491408934707903, 3.235294117647059), 948: ('Booty Call (1997)', [0, 0, 0, 0, 0, 1, 0, 0, 0, 0, 0, 0, 0, 0, 1, 0, 0, 0, 0], 0.08075601374570447, 2.1666666666666665), 949: ('How to Make an American Quilt (1995)', [0, 0, 0, 0, 0, 0, 0, 0, 1, 0, 0, 0, 0, 0, 1, 0, 0, 0, 0], 0.12027491408934708, 3.3380281690140845), 950: ('Georgia (1995)', [0, 0, 0, 0, 0, 0, 0, 0, 1, 0, 0, 0, 0, 0, 0, 0, 0, 0, 0], 0.04982817869415808, 2.9), 951: ('Indian in the Cupboard, The (1995)', [0, 0, 1, 0, 1, 0, 0, 0, 0, 1, 0, 0, 0, 0, 0, 0, 0, 0, 0], 0.06529209621993128, 2.8205128205128207), 952: ('Blue in the Face (1995)', [0, 0, 0, 0, 0, 1, 0, 0, 0, 0, 0, 0, 0, 0, 0, 0, 0, 0, 0], 0.07560137457044673, 3.1777777777777776), 953: ('Unstrung Heroes (1995)', [0, 0, 0, 0, 0, 1, 0, 0, 1, 0, 0, 0, 0, 0, 0, 0, 0, 0, 0], 0.03608247422680412, 3.3181818181818183), 954: ('Unzipped (1995)', [0, 0, 0, 0, 0, 0, 0, 1, 0, 0, 0, 0, 0, 0, 0, 0, 0, 0, 0], 0.01718213058419244, 3.5454545454545454), 955: ('Before Sunrise (1995)', [0, 0, 0, 0, 0, 0, 0, 0, 1, 0, 0, 0, 0, 0, 1, 0, 0, 0, 0], 0.08247422680412371, 3.4081632653061225), 956: (\"Nobody's Fool (1994)\", [0, 0, 0, 0, 0, 0, 0, 0, 1, 0, 0, 0, 0, 0, 0, 0, 0, 0, 0], 0.07731958762886598, 3.608695652173913), 957: ('Pushing Hands (1992)', [0, 0, 0, 0, 0, 1, 0, 0, 0, 0, 0, 0, 0, 0, 0, 0, 0, 0, 0], 0.001718213058419244, 2.0), 958: ('To Live (Huozhe) (1994)', [0, 0, 0, 0, 0, 0, 0, 0, 1, 0, 0, 0, 0, 0, 0, 0, 0, 0, 0], 0.022336769759450172, 3.7857142857142856), 959: ('Dazed and Confused (1993)', [0, 0, 0, 0, 0, 1, 0, 0, 0, 0, 0, 0, 0, 0, 0, 0, 0, 0, 0], 0.10824742268041238, 3.46875), 960: ('Naked (1993)', [0, 0, 0, 0, 0, 0, 0, 0, 1, 0, 0, 0, 0, 0, 0, 0, 0, 0, 0], 0.041237113402061855, 3.24), 961: ('Orlando (1993)', [0, 0, 0, 0, 0, 0, 0, 0, 1, 0, 0, 0, 0, 0, 0, 0, 0, 0, 0], 0.05670103092783505, 3.6176470588235294), 962: ('Ruby in Paradise (1993)', [0, 0, 0, 0, 0, 0, 0, 0, 1, 0, 0, 0, 0, 0, 0, 0, 0, 0, 0], 0.037800687285223365, 3.130434782608696), 963: ('Some Folks Call It a Sling Blade (1993)', [0, 0, 0, 0, 0, 0, 0, 0, 1, 0, 0, 0, 0, 0, 0, 0, 1, 0, 0], 0.06872852233676977, 4.2926829268292686), 964: ('Month by the Lake, A (1995)', [0, 0, 0, 0, 0, 1, 0, 0, 1, 0, 0, 0, 0, 0, 0, 0, 0, 0, 0], 0.013745704467353952, 3.3333333333333335), 965: ('Funny Face (1957)', [0, 0, 0, 0, 0, 1, 0, 0, 0, 0, 0, 0, 1, 0, 0, 0, 0, 0, 0], 0.03436426116838488, 3.6666666666666665), 966: ('Affair to Remember, An (1957)', [0, 0, 0, 0, 0, 0, 0, 0, 0, 0, 0, 0, 0, 0, 1, 0, 0, 0, 0], 0.0429553264604811, 4.1923076923076925), 967: ('Little Lord Fauntleroy (1936)', [0, 0, 0, 0, 0, 0, 0, 0, 1, 0, 0, 0, 0, 0, 0, 0, 0, 0, 0], 0.018900343642611683, 3.1666666666666665), 968: ('Inspector General, The (1949)', [0, 0, 0, 0, 0, 0, 0, 0, 0, 0, 0, 0, 1, 0, 0, 0, 0, 0, 0], 0.029209621993127148, 3.7222222222222223), 969: ('Winnie the Pooh and the Blustery Day (1968)', [0, 0, 0, 1, 1, 0, 0, 0, 0, 0, 0, 0, 0, 0, 0, 0, 0, 0, 0], 0.12714776632302405, 3.8), 970: ('Hear My Song (1991)', [0, 0, 0, 0, 0, 1, 0, 0, 0, 0, 0, 0, 0, 0, 0, 0, 0, 0, 0], 0.012027491408934709, 3.25), 971: ('Mediterraneo (1991)', [0, 0, 0, 0, 0, 1, 0, 0, 0, 0, 0, 0, 0, 0, 0, 0, 0, 1, 0], 0.05670103092783505, 3.676470588235294), 972: ('Passion Fish (1992)', [0, 0, 0, 0, 0, 0, 0, 0, 1, 0, 0, 0, 0, 0, 0, 0, 0, 0, 0], 0.04639175257731959, 3.1785714285714284), 973: ('Grateful Dead (1995)', [0, 0, 0, 0, 0, 0, 0, 1, 0, 0, 0, 0, 0, 0, 0, 0, 0, 0, 0], 0.005154639175257732, 3.5), 974: ('Eye for an Eye (1996)', [0, 0, 0, 0, 0, 0, 0, 0, 1, 0, 0, 0, 0, 0, 0, 0, 1, 0, 0], 0.05326460481099656, 3.03125), 975: ('Fear (1996)', [0, 0, 0, 0, 0, 0, 0, 0, 0, 0, 0, 0, 0, 0, 0, 0, 1, 0, 0], 0.07388316151202749, 3.159090909090909), 976: ('Solo (1996)', [0, 1, 0, 0, 0, 0, 0, 0, 0, 0, 0, 0, 0, 0, 0, 1, 1, 0, 0], 0.018900343642611683, 1.8333333333333333), 977: ('Substitute, The (1996)', [0, 1, 0, 0, 0, 0, 0, 0, 0, 0, 0, 0, 0, 0, 0, 0, 0, 0, 0], 0.08247422680412371, 2.693877551020408), 978: (\"Heaven's Prisoners (1996)\", [0, 0, 0, 0, 0, 0, 0, 0, 0, 0, 0, 0, 0, 1, 0, 0, 1, 0, 0], 0.044673539518900345, 2.5185185185185186), 979: ('Trigger Effect, The (1996)', [0, 0, 0, 0, 0, 0, 0, 0, 1, 0, 0, 0, 0, 0, 0, 0, 1, 0, 0], 0.058419243986254296, 3.2), 980: ('Mother Night (1996)', [0, 0, 0, 0, 0, 0, 0, 0, 1, 0, 0, 0, 0, 0, 0, 0, 0, 0, 0], 0.03608247422680412, 3.1818181818181817), 981: ('Dangerous Ground (1997)', [0, 0, 0, 0, 0, 0, 0, 0, 1, 0, 0, 0, 0, 0, 0, 0, 0, 0, 0], 0.012027491408934709, 1.75), 982: ('Maximum Risk (1996)', [0, 1, 1, 0, 0, 0, 0, 0, 0, 0, 0, 0, 0, 0, 0, 0, 1, 0, 0], 0.03264604810996564, 2.8), 983: (\"Rich Man's Wife, The (1996)\", [0, 0, 0, 0, 0, 0, 0, 0, 0, 0, 0, 0, 0, 0, 0, 0, 1, 0, 0], 0.024054982817869417, 2.4), 984: ('Shadow Conspiracy (1997)', [0, 0, 0, 0, 0, 0, 0, 0, 0, 0, 0, 0, 0, 0, 0, 0, 1, 0, 0], 0.07388316151202749, 2.8636363636363638), 985: ('Blood & Wine (1997)', [0, 0, 0, 0, 0, 0, 0, 0, 1, 0, 0, 0, 0, 0, 0, 0, 0, 0, 0], 0.03608247422680412, 2.8636363636363638), 986: ('Turbulence (1997)', [0, 0, 0, 0, 0, 0, 0, 0, 0, 0, 0, 0, 0, 0, 0, 0, 1, 0, 0], 0.037800687285223365, 2.5652173913043477), 987: ('Underworld (1997)', [0, 0, 0, 0, 0, 0, 0, 0, 0, 0, 0, 0, 0, 0, 0, 0, 1, 0, 0], 0.005154639175257732, 2.5), 988: ('Beautician and the Beast, The (1997)', [0, 0, 0, 0, 0, 1, 0, 0, 0, 0, 0, 0, 0, 0, 1, 0, 0, 0, 0], 0.14604810996563575, 2.313953488372093), 989: (\"Cats Don't Dance (1997)\", [0, 0, 0, 1, 1, 0, 0, 0, 0, 0, 0, 0, 1, 0, 0, 0, 0, 0, 0], 0.05326460481099656, 2.84375), 990: ('Anna Karenina (1997)', [0, 0, 0, 0, 0, 0, 0, 0, 1, 0, 0, 0, 0, 0, 1, 0, 0, 0, 0], 0.054982817869415807, 3.090909090909091), 991: ('Keys to Tulsa (1997)', [0, 0, 0, 0, 0, 0, 1, 0, 0, 0, 0, 0, 0, 0, 0, 0, 0, 0, 0], 0.041237113402061855, 2.24), 992: ('Head Above Water (1996)', [0, 0, 0, 0, 0, 1, 0, 0, 0, 0, 0, 0, 0, 0, 0, 0, 1, 0, 0], 0.005154639175257732, 3.0), 993: ('Hercules (1997)', [0, 0, 1, 1, 1, 1, 0, 0, 0, 0, 0, 0, 1, 0, 0, 0, 0, 0, 0], 0.11168384879725086, 3.515151515151515), 994: ('Last Time I Committed Suicide, The (1997)', [0, 0, 0, 0, 0, 0, 0, 0, 1, 0, 0, 0, 0, 0, 0, 0, 0, 0, 0], 0.010309278350515464, 2.2857142857142856), 995: ('Kiss Me, Guido (1997)', [0, 0, 0, 0, 0, 1, 0, 0, 0, 0, 0, 0, 0, 0, 0, 0, 0, 0, 0], 0.05154639175257732, 3.161290322580645), 996: ('Big Green, The (1995)', [0, 0, 0, 0, 1, 1, 0, 0, 0, 0, 0, 0, 0, 0, 0, 0, 0, 0, 0], 0.022336769759450172, 2.5), 997: ('Stuart Saves His Family (1995)', [0, 0, 0, 0, 0, 1, 0, 0, 0, 0, 0, 0, 0, 0, 0, 0, 0, 0, 0], 0.02577319587628866, 2.125), 998: ('Cabin Boy (1994)', [0, 0, 0, 0, 0, 1, 0, 0, 0, 0, 0, 0, 0, 0, 0, 0, 0, 0, 0], 0.02577319587628866, 2.5625), 999: ('Clean Slate (1994)', [0, 0, 0, 0, 0, 1, 0, 0, 0, 0, 0, 0, 0, 0, 0, 0, 0, 0, 0], 0.015463917525773196, 2.8), 1000: ('Lightning Jack (1994)', [0, 0, 0, 0, 0, 1, 0, 0, 0, 0, 0, 0, 0, 0, 0, 0, 0, 0, 1], 0.015463917525773196, 3.0), 1001: ('Stupids, The (1996)', [0, 0, 0, 0, 0, 1, 0, 0, 0, 0, 0, 0, 0, 0, 0, 0, 0, 0, 0], 0.027491408934707903, 2.0), 1002: ('Pest, The (1997)', [0, 0, 0, 0, 0, 1, 0, 0, 0, 0, 0, 0, 0, 0, 0, 0, 0, 0, 0], 0.012027491408934709, 1.875), 1003: ('That Darn Cat! (1997)', [0, 0, 0, 0, 1, 1, 0, 0, 0, 0, 0, 0, 0, 1, 0, 0, 0, 0, 0], 0.012027491408934709, 2.25), 1004: ('Geronimo: An American Legend (1993)', [0, 0, 0, 0, 0, 0, 0, 0, 1, 0, 0, 0, 0, 0, 0, 0, 0, 0, 1], 0.013745704467353952, 3.111111111111111), 1005: ('Double vie de Véronique, La (Double Life of Veronique, The) (1991)', [0, 0, 0, 0, 0, 0, 0, 0, 1, 0, 0, 0, 0, 0, 0, 0, 0, 0, 0], 0.03608247422680412, 3.6818181818181817), 1006: ('Until the End of the World (Bis ans Ende der Welt) (1991)', [0, 0, 0, 0, 0, 0, 0, 0, 1, 0, 0, 0, 0, 0, 0, 1, 0, 0, 0], 0.037800687285223365, 2.8260869565217392), 1007: ('Waiting for Guffman (1996)', [0, 0, 0, 0, 0, 1, 0, 0, 0, 0, 0, 0, 0, 0, 0, 0, 0, 0, 0], 0.07903780068728522, 4.127659574468085), 1008: ('I Shot Andy Warhol (1996)', [0, 0, 0, 0, 0, 0, 0, 0, 1, 0, 0, 0, 0, 0, 0, 0, 0, 0, 0], 0.061855670103092786, 3.3783783783783785), 1009: ('Stealing Beauty (1996)', [0, 0, 0, 0, 0, 0, 0, 0, 1, 0, 0, 0, 0, 0, 0, 0, 0, 0, 0], 0.10824742268041238, 3.375), 1010: ('Basquiat (1996)', [0, 0, 0, 0, 0, 0, 0, 0, 1, 0, 0, 0, 0, 0, 0, 0, 0, 0, 0], 0.07388316151202749, 3.25), 1011: ('2 Days in the Valley (1996)', [0, 0, 0, 0, 0, 0, 1, 0, 0, 0, 0, 0, 0, 0, 0, 0, 0, 0, 0], 0.15807560137457044, 3.225806451612903), 1012: ('Private Parts (1997)', [0, 0, 0, 0, 0, 1, 0, 0, 1, 0, 0, 0, 0, 0, 0, 0, 0, 0, 0], 0.17010309278350516, 3.53), 1013: ('Anaconda (1997)', [0, 1, 1, 0, 0, 0, 0, 0, 0, 0, 0, 0, 0, 0, 0, 0, 1, 0, 0], 0.06357388316151202, 2.289473684210526), 1014: (\"Romy and Michele's High School Reunion (1997)\", [0, 0, 0, 0, 0, 1, 0, 0, 0, 0, 0, 0, 0, 0, 0, 0, 0, 0, 0], 0.16666666666666666, 3.061224489795918), 1015: ('Shiloh (1997)', [0, 0, 0, 0, 1, 0, 0, 0, 1, 0, 0, 0, 0, 0, 0, 0, 0, 0, 0], 0.018900343642611683, 2.8333333333333335), 1016: ('Con Air (1997)', [0, 1, 1, 0, 0, 0, 0, 0, 0, 0, 0, 0, 0, 0, 0, 0, 1, 0, 0], 0.23367697594501718, 3.45985401459854), 1017: ('Trees Lounge (1996)', [0, 0, 0, 0, 0, 0, 0, 0, 1, 0, 0, 0, 0, 0, 0, 0, 0, 0, 0], 0.08419243986254296, 3.24), 1018: ('Tie Me Up! Tie Me Down! (1990)', [0, 0, 0, 0, 0, 0, 0, 0, 1, 0, 0, 0, 0, 0, 0, 0, 0, 0, 0], 0.05326460481099656, 3.1875), 1019: ('Die xue shuang xiong (Killer, The) (1989)', [0, 1, 0, 0, 0, 0, 0, 0, 0, 0, 0, 0, 0, 0, 0, 0, 1, 0, 0], 0.05154639175257732, 3.967741935483871), 1020: ('Gaslight (1944)', [0, 0, 0, 0, 0, 0, 0, 0, 0, 0, 0, 0, 0, 1, 0, 0, 1, 0, 0], 0.058419243986254296, 3.8857142857142857), 1021: ('8 1/2 (1963)', [0, 0, 0, 0, 0, 0, 0, 0, 1, 0, 0, 0, 0, 0, 0, 0, 0, 0, 0], 0.06357388316151202, 3.8157894736842106), 1022: ('Fast, Cheap & Out of Control (1997)', [0, 0, 0, 0, 0, 0, 0, 1, 0, 0, 0, 0, 0, 0, 0, 0, 0, 0, 0], 0.05326460481099656, 3.4375), 1023: (\"Fathers' Day (1997)\", [0, 0, 0, 0, 0, 1, 0, 0, 0, 0, 0, 0, 0, 0, 0, 0, 0, 0, 0], 0.05154639175257732, 2.5806451612903225), 1024: ('Mrs. Dalloway (1997)', [0, 0, 0, 0, 0, 0, 0, 0, 0, 0, 0, 0, 0, 0, 1, 0, 0, 0, 0], 0.024054982817869417, 3.6), 1025: ('Fire Down Below (1997)', [0, 1, 0, 0, 0, 0, 0, 0, 1, 0, 0, 0, 0, 0, 0, 0, 1, 0, 0], 0.07388316151202749, 2.9318181818181817), 1026: ('Lay of the Land, The (1997)', [0, 0, 0, 0, 0, 1, 0, 0, 1, 0, 0, 0, 0, 0, 0, 0, 0, 0, 0], 0.005154639175257732, 2.5), 1027: ('Shooter, The (1995)', [0, 1, 0, 0, 0, 0, 0, 0, 0, 0, 0, 0, 0, 0, 0, 0, 0, 0, 0], 0.003436426116838488, 2.6666666666666665), 1028: ('Grumpier Old Men (1995)', [0, 0, 0, 0, 0, 1, 0, 0, 0, 0, 0, 0, 0, 0, 1, 0, 0, 0, 0], 0.25257731958762886, 3.0405405405405403), 1029: ('Jury Duty (1995)', [0, 0, 0, 0, 0, 1, 0, 0, 0, 0, 0, 0, 0, 0, 0, 0, 0, 0, 0], 0.022336769759450172, 2.0), 1030: ('Beverly Hillbillies, The (1993)', [0, 0, 0, 0, 0, 1, 0, 0, 0, 0, 0, 0, 0, 0, 0, 0, 0, 0, 0], 0.03264604810996564, 2.25), 1031: ('Lassie (1994)', [0, 0, 1, 0, 1, 0, 0, 0, 0, 0, 0, 0, 0, 0, 0, 0, 0, 0, 0], 0.010309278350515464, 2.2857142857142856), 1032: ('Little Big League (1994)', [0, 0, 0, 0, 1, 1, 0, 0, 0, 0, 0, 0, 0, 0, 0, 0, 0, 0, 0], 0.02577319587628866, 2.875), 1033: ('Homeward Bound II: Lost in San Francisco (1996)', [0, 0, 1, 0, 1, 0, 0, 0, 0, 0, 0, 0, 0, 0, 0, 0, 0, 0, 0], 0.05326460481099656, 2.78125), 1034: ('Quest, The (1996)', [0, 1, 1, 0, 0, 0, 0, 0, 0, 0, 0, 0, 0, 0, 0, 0, 0, 0, 0], 0.044673539518900345, 2.5185185185185186), 1035: ('Cool Runnings (1993)', [0, 0, 0, 0, 0, 1, 0, 0, 0, 0, 0, 0, 0, 0, 0, 0, 0, 0, 0], 0.11512027491408934, 3.161764705882353), 1036: ('Drop Dead Fred (1991)', [0, 0, 0, 0, 0, 1, 0, 0, 0, 1, 0, 0, 0, 0, 0, 0, 0, 0, 0], 0.03951890034364261, 2.75), 1037: ('Grease 2 (1982)', [0, 0, 0, 0, 0, 1, 0, 0, 0, 0, 0, 0, 1, 0, 1, 0, 0, 0, 0], 0.03951890034364261, 2.0), 1038: ('Switchback (1997)', [0, 0, 0, 0, 0, 0, 0, 0, 0, 0, 0, 0, 0, 0, 0, 0, 1, 0, 0], 0.027491408934707903, 2.823529411764706), 1039: ('Hamlet (1996)', [0, 0, 0, 0, 0, 0, 0, 0, 1, 0, 0, 0, 0, 0, 0, 0, 0, 0, 0], 0.15292096219931273, 4.011111111111111), 1040: ('Two if by Sea (1996)', [0, 0, 0, 0, 0, 1, 0, 0, 0, 0, 0, 0, 0, 0, 1, 0, 0, 0, 0], 0.041237113402061855, 2.6), 1041: ('Forget Paris (1995)', [0, 0, 0, 0, 0, 1, 0, 0, 0, 0, 0, 0, 0, 0, 1, 0, 0, 0, 0], 0.10481099656357389, 3.193548387096774), 1042: ('Just Cause (1995)', [0, 0, 0, 0, 0, 0, 0, 0, 0, 0, 0, 0, 0, 1, 0, 0, 1, 0, 0], 0.04639175257731959, 3.142857142857143), 1043: ('Rent-a-Kid (1995)', [0, 0, 0, 0, 0, 1, 0, 0, 0, 0, 0, 0, 0, 0, 0, 0, 0, 0, 0], 0.012027491408934709, 3.0), 1044: ('Paper, The (1994)', [0, 0, 0, 0, 0, 1, 0, 0, 1, 0, 0, 0, 0, 0, 0, 0, 0, 0, 0], 0.06701030927835051, 3.225), 1045: ('Fearless (1993)', [0, 0, 0, 0, 0, 0, 0, 0, 1, 0, 0, 0, 0, 0, 0, 0, 0, 0, 0], 0.041237113402061855, 3.24), 1046: ('Malice (1993)', [0, 0, 0, 0, 0, 0, 0, 0, 0, 0, 0, 0, 0, 0, 0, 0, 1, 0, 0], 0.07731958762886598, 3.1739130434782608), 1047: ('Multiplicity (1996)', [0, 0, 0, 0, 0, 1, 0, 0, 0, 0, 0, 0, 0, 0, 0, 0, 0, 0, 0], 0.22852233676975944, 2.8358208955223883), 1048: (\"She's the One (1996)\", [0, 0, 0, 0, 0, 1, 0, 0, 0, 0, 0, 0, 0, 0, 1, 0, 0, 0, 0], 0.12371134020618557, 3.0136986301369864), 1049: ('House Arrest (1996)', [0, 0, 0, 0, 0, 1, 0, 0, 0, 0, 0, 0, 0, 0, 0, 0, 0, 0, 0], 0.041237113402061855, 2.52), 1050: ('Ghost and Mrs. Muir, The (1947)', [0, 0, 0, 0, 0, 0, 0, 0, 1, 0, 0, 0, 0, 0, 1, 0, 0, 0, 0], 0.07216494845360824, 3.6511627906976742), 1051: ('Associate, The (1996)', [0, 0, 0, 0, 0, 1, 0, 0, 0, 0, 0, 0, 0, 0, 0, 0, 0, 0, 0], 0.06872852233676977, 3.2439024390243905), 1052: ('Dracula: Dead and Loving It (1995)', [0, 0, 0, 0, 0, 1, 0, 0, 0, 0, 0, 1, 0, 0, 0, 0, 0, 0, 0], 0.041237113402061855, 2.28), 1053: ('Now and Then (1995)', [0, 0, 0, 0, 0, 0, 0, 0, 1, 0, 0, 0, 0, 0, 0, 0, 0, 0, 0], 0.03951890034364261, 3.4583333333333335), 1054: ('Mr. Wrong (1996)', [0, 0, 0, 0, 0, 1, 0, 0, 0, 0, 0, 0, 0, 0, 0, 0, 0, 0, 0], 0.037800687285223365, 2.3043478260869565), 1055: ('Simple Twist of Fate, A (1994)', [0, 0, 0, 0, 0, 0, 0, 0, 1, 0, 0, 0, 0, 0, 0, 0, 0, 0, 0], 0.015463917525773196, 3.2), 1056: ('Cronos (1992)', [0, 0, 0, 0, 0, 0, 0, 0, 0, 0, 0, 1, 0, 0, 0, 0, 0, 0, 0], 0.015463917525773196, 3.2), 1057: ('Pallbearer, The (1996)', [0, 0, 0, 0, 0, 1, 0, 0, 0, 0, 0, 0, 0, 0, 0, 0, 0, 0, 0], 0.03608247422680412, 2.3181818181818183), 1058: ('War, The (1994)', [0, 0, 1, 0, 0, 0, 0, 0, 1, 0, 0, 0, 0, 0, 0, 0, 0, 0, 0], 0.024054982817869417, 3.2666666666666666), 1059: (\"Don't Be a Menace to South Central While Drinking Your Juice in the Hood (1996)\", [0, 0, 0, 0, 0, 1, 0, 0, 0, 0, 0, 0, 0, 0, 0, 0, 0, 0, 0], 0.058419243986254296, 2.7714285714285714), 1060: ('Adventures of Pinocchio, The (1996)', [0, 0, 1, 0, 1, 0, 0, 0, 0, 0, 0, 0, 0, 0, 0, 0, 0, 0, 0], 0.06529209621993128, 3.051282051282051), 1061: ('Evening Star, The (1996)', [0, 0, 0, 0, 0, 1, 0, 0, 1, 0, 0, 0, 0, 0, 0, 0, 0, 0, 0], 0.048109965635738834, 2.9310344827586206), 1062: ('Four Days in September (1997)', [0, 0, 0, 0, 0, 0, 0, 0, 1, 0, 0, 0, 0, 0, 0, 0, 0, 0, 0], 0.018900343642611683, 3.75), 1063: ('Little Princess, A (1995)', [0, 0, 0, 0, 1, 0, 0, 0, 1, 0, 0, 0, 0, 0, 0, 0, 0, 0, 0], 0.06872852233676977, 3.658536585365854), 1064: ('Crossfire (1947)', [0, 0, 0, 0, 0, 0, 1, 0, 0, 0, 1, 0, 0, 0, 0, 0, 0, 0, 0], 0.005154639175257732, 4.25), 1065: ('Koyaanisqatsi (1983)', [0, 0, 0, 0, 0, 0, 0, 1, 0, 0, 0, 0, 0, 0, 0, 0, 0, 1, 0], 0.08934707903780069, 3.490566037735849), 1066: ('Balto (1995)', [0, 0, 0, 1, 1, 0, 0, 0, 0, 0, 0, 0, 0, 0, 0, 0, 0, 0, 0], 0.02577319587628866, 3.0), 1067: ('Bottle Rocket (1996)', [0, 0, 0, 0, 0, 1, 0, 0, 0, 0, 0, 0, 0, 0, 0, 0, 0, 0, 0], 0.07388316151202749, 3.4545454545454546), 1068: (\"Star Maker, The (Uomo delle stelle, L') (1995)\", [0, 0, 0, 0, 0, 0, 0, 0, 1, 0, 0, 0, 0, 0, 0, 0, 0, 0, 0], 0.018900343642611683, 3.1666666666666665), 1069: ('Amateur (1994)', [0, 0, 0, 0, 0, 0, 1, 0, 1, 0, 0, 0, 0, 0, 0, 0, 1, 0, 0], 0.029209621993127148, 3.1666666666666665), 1070: ('Living in Oblivion (1995)', [0, 0, 0, 0, 0, 1, 0, 0, 0, 0, 0, 0, 0, 0, 0, 0, 0, 0, 0], 0.044673539518900345, 3.740740740740741), 1071: ('Party Girl (1995)', [0, 0, 0, 0, 0, 1, 0, 0, 0, 0, 0, 0, 0, 0, 0, 0, 0, 0, 0], 0.02577319587628866, 2.875), 1072: (\"Pyromaniac's Love Story, A (1995)\", [0, 0, 0, 0, 0, 1, 0, 0, 0, 0, 0, 0, 0, 0, 1, 0, 0, 0, 0], 0.010309278350515464, 2.4285714285714284), 1073: ('Shallow Grave (1994)', [0, 0, 0, 0, 0, 0, 0, 0, 0, 0, 0, 0, 0, 0, 0, 0, 1, 0, 0], 0.11168384879725086, 3.8181818181818183), 1074: ('Reality Bites (1994)', [0, 0, 0, 0, 0, 1, 0, 0, 1, 0, 0, 0, 0, 0, 0, 0, 0, 0, 0], 0.13058419243986255, 2.961038961038961), 1075: ('Man of No Importance, A (1994)', [0, 0, 0, 0, 0, 0, 0, 0, 1, 0, 0, 0, 0, 0, 0, 0, 0, 0, 0], 0.010309278350515464, 3.4285714285714284), 1076: ('Pagemaster, The (1994)', [0, 1, 1, 1, 1, 0, 0, 0, 0, 1, 0, 0, 0, 0, 0, 0, 0, 0, 0], 0.018900343642611683, 2.25), 1077: ('Love and a .45 (1994)', [0, 0, 0, 0, 0, 0, 0, 0, 0, 0, 0, 0, 0, 0, 0, 0, 1, 0, 0], 0.012027491408934709, 3.125), 1078: ('Oliver & Company (1988)', [0, 0, 0, 1, 1, 0, 0, 0, 0, 0, 0, 0, 0, 0, 0, 0, 0, 0, 0], 0.03608247422680412, 2.772727272727273), 1079: (\"Joe's Apartment (1996)\", [0, 0, 0, 0, 0, 1, 0, 0, 0, 0, 0, 0, 1, 0, 0, 0, 0, 0, 0], 0.07560137457044673, 2.2444444444444445), 1080: ('Celestial Clockwork (1994)', [0, 0, 0, 0, 0, 1, 0, 0, 0, 0, 0, 0, 0, 0, 0, 0, 0, 0, 0], 0.001718213058419244, 4.0), 1081: ('Curdled (1996)', [0, 0, 0, 0, 0, 0, 1, 0, 0, 0, 0, 0, 0, 0, 0, 0, 0, 0, 0], 0.012027491408934709, 2.75), 1082: ('Female Perversions (1996)', [0, 0, 0, 0, 0, 0, 0, 0, 1, 0, 0, 0, 0, 0, 0, 0, 0, 0, 0], 0.012027491408934709, 2.625), 1083: ('Albino Alligator (1996)', [0, 0, 0, 0, 0, 0, 1, 0, 0, 0, 0, 0, 0, 0, 0, 0, 1, 0, 0], 0.00859106529209622, 2.5), 1084: ('Anne Frank Remembered (1995)', [0, 0, 0, 0, 0, 0, 0, 1, 0, 0, 0, 0, 0, 0, 0, 0, 0, 0, 0], 0.03436426116838488, 3.857142857142857), 1085: ('Carried Away (1996)', [0, 0, 0, 0, 0, 0, 0, 0, 1, 0, 0, 0, 0, 0, 1, 0, 0, 0, 0], 0.01718213058419244, 3.0), 1086: (\"It's My Party (1995)\", [0, 0, 0, 0, 0, 0, 0, 0, 1, 0, 0, 0, 0, 0, 0, 0, 0, 0, 0], 0.03436426116838488, 3.2857142857142856), 1087: ('Bloodsport 2 (1995)', [0, 1, 0, 0, 0, 0, 0, 0, 0, 0, 0, 0, 0, 0, 0, 0, 0, 0, 0], 0.015463917525773196, 1.7), 1088: ('Double Team (1997)', [0, 1, 0, 0, 0, 0, 0, 0, 0, 0, 0, 0, 0, 0, 0, 0, 0, 0, 0], 0.020618556701030927, 2.230769230769231), 1089: ('Speed 2: Cruise Control (1997)', [0, 1, 0, 0, 0, 0, 0, 0, 0, 0, 0, 0, 0, 0, 1, 0, 1, 0, 0], 0.06357388316151202, 2.1315789473684212), 1090: ('Sliver (1993)', [0, 0, 0, 0, 0, 0, 0, 0, 0, 0, 0, 0, 0, 0, 0, 0, 1, 0, 0], 0.061855670103092786, 2.4054054054054053), 1091: (\"Pete's Dragon (1977)\", [0, 0, 1, 1, 1, 0, 0, 0, 0, 0, 0, 0, 1, 0, 0, 0, 0, 0, 0], 0.07216494845360824, 2.7209302325581395), 1092: ('Dear God (1996)', [0, 0, 0, 0, 0, 1, 0, 0, 0, 0, 0, 0, 0, 0, 0, 0, 0, 0, 0], 0.018900343642611683, 2.5), 1093: ('Live Nude Girls (1995)', [0, 0, 0, 0, 0, 1, 0, 0, 0, 0, 0, 0, 0, 0, 0, 0, 0, 0, 0], 0.037800687285223365, 3.0869565217391304), 1094: ('Thin Line Between Love and Hate, A (1996)', [0, 0, 0, 0, 0, 1, 0, 0, 0, 0, 0, 0, 0, 0, 0, 0, 0, 0, 0], 0.018900343642611683, 2.4166666666666665), 1095: ('High School High (1996)', [0, 0, 0, 0, 0, 1, 0, 0, 0, 0, 0, 0, 0, 0, 0, 0, 0, 0, 0], 0.048109965635738834, 2.6206896551724137), 1096: ('Commandments (1997)', [0, 0, 0, 0, 0, 0, 0, 0, 0, 0, 0, 0, 0, 0, 1, 0, 0, 0, 0], 0.003436426116838488, 2.6666666666666665), 1097: ('Hate (Haine, La) (1995)', [0, 0, 0, 0, 0, 0, 0, 0, 1, 0, 0, 0, 0, 0, 0, 0, 0, 0, 0], 0.029209621993127148, 3.5), 1098: ('Flirting With Disaster (1996)', [0, 0, 0, 0, 0, 1, 0, 0, 0, 0, 0, 0, 0, 0, 0, 0, 0, 0, 0], 0.070446735395189, 3.6904761904761907), 1099: ('Red Firecracker, Green Firecracker (1994)', [0, 0, 0, 0, 0, 0, 0, 0, 1, 0, 0, 0, 0, 0, 0, 0, 0, 0, 0], 0.020618556701030927, 3.4615384615384617), 1100: ('What Happened Was... (1994)', [0, 0, 0, 0, 0, 1, 0, 0, 1, 0, 0, 0, 0, 0, 1, 0, 0, 0, 0], 0.012027491408934709, 2.625), 1101: ('Six Degrees of Separation (1993)', [0, 0, 0, 0, 0, 0, 0, 0, 1, 0, 0, 0, 0, 1, 0, 0, 0, 0, 0], 0.1254295532646048, 3.77027027027027), 1102: ('Two Much (1996)', [0, 0, 0, 0, 0, 1, 0, 0, 0, 0, 0, 0, 0, 0, 1, 0, 0, 0, 0], 0.010309278350515464, 2.4285714285714284), 1103: ('Trust (1990)', [0, 0, 0, 0, 0, 1, 0, 0, 1, 0, 0, 0, 0, 0, 0, 0, 0, 0, 0], 0.030927835051546393, 3.789473684210526), 1104: (\"C'est arrivé près de chez vous (1992)\", [0, 0, 0, 0, 0, 1, 1, 0, 1, 0, 0, 0, 0, 0, 0, 0, 0, 0, 0], 0.005154639175257732, 3.0), 1105: ('Firestorm (1998)', [0, 1, 1, 0, 0, 0, 0, 0, 0, 0, 0, 0, 0, 0, 0, 0, 1, 0, 0], 0.029209621993127148, 2.8333333333333335), 1106: ('Newton Boys, The (1998)', [0, 0, 0, 0, 0, 0, 1, 0, 1, 0, 0, 0, 0, 0, 0, 0, 0, 0, 0], 0.005154639175257732, 3.0), 1107: ('Beyond Rangoon (1995)', [0, 0, 0, 0, 0, 0, 0, 0, 1, 0, 0, 0, 0, 0, 0, 0, 0, 0, 0], 0.029209621993127148, 3.0555555555555554), 1108: ('Feast of July (1995)', [0, 0, 0, 0, 0, 0, 0, 0, 1, 0, 0, 0, 0, 0, 0, 0, 0, 0, 0], 0.006872852233676976, 2.4), 1109: ('Death and the Maiden (1994)', [0, 0, 0, 0, 0, 0, 0, 0, 1, 0, 0, 0, 0, 0, 0, 0, 1, 0, 0], 0.04639175257731959, 3.4285714285714284), 1110: ('Tank Girl (1995)', [0, 1, 0, 0, 0, 1, 0, 0, 0, 0, 0, 0, 1, 0, 0, 1, 0, 0, 0], 0.06872852233676977, 2.8536585365853657), 1111: ('Double Happiness (1994)', [0, 0, 0, 0, 0, 0, 0, 0, 1, 0, 0, 0, 0, 0, 0, 0, 0, 0, 0], 0.010309278350515464, 3.4285714285714284), 1112: ('Cobb (1994)', [0, 0, 0, 0, 0, 0, 0, 0, 1, 0, 0, 0, 0, 0, 0, 0, 0, 0, 0], 0.024054982817869417, 2.8), 1113: ('Mrs. Parker and the Vicious Circle (1994)', [0, 0, 0, 0, 0, 0, 0, 0, 1, 0, 0, 0, 0, 0, 0, 0, 0, 0, 0], 0.03608247422680412, 3.272727272727273), 1114: ('Faithful (1996)', [0, 0, 0, 0, 0, 1, 0, 0, 0, 0, 0, 0, 0, 0, 0, 0, 0, 0, 0], 0.015463917525773196, 3.3), 1115: ('Twelfth Night (1996)', [0, 0, 0, 0, 0, 1, 0, 0, 1, 0, 0, 0, 0, 0, 1, 0, 0, 0, 0], 0.048109965635738834, 3.413793103448276), 1116: ('Mark of Zorro, The (1940)', [0, 0, 1, 0, 0, 0, 0, 0, 0, 0, 0, 0, 0, 0, 0, 0, 0, 0, 0], 0.020618556701030927, 3.6153846153846154), 1117: ('Surviving Picasso (1996)', [0, 0, 0, 0, 0, 0, 0, 0, 1, 0, 0, 0, 0, 0, 0, 0, 0, 0, 0], 0.030927835051546393, 3.1052631578947367), 1118: ('Up in Smoke (1978)', [0, 0, 0, 0, 0, 1, 0, 0, 0, 0, 0, 0, 0, 0, 0, 0, 0, 0, 0], 0.07903780068728522, 3.25531914893617), 1119: ('Some Kind of Wonderful (1987)', [0, 0, 0, 0, 0, 0, 0, 0, 1, 0, 0, 0, 0, 0, 1, 0, 0, 0, 0], 0.09965635738831616, 3.6610169491525424), 1120: (\"I'm Not Rappaport (1996)\", [0, 0, 0, 0, 0, 1, 0, 0, 0, 0, 0, 0, 0, 0, 0, 0, 0, 0, 0], 0.027491408934707903, 3.0), 1121: ('Umbrellas of Cherbourg, The (Parapluies de Cherbourg, Les) (1964)', [0, 0, 0, 0, 0, 0, 0, 0, 1, 0, 0, 0, 1, 0, 0, 0, 0, 0, 0], 0.03436426116838488, 3.761904761904762), 1122: ('They Made Me a Criminal (1939)', [0, 0, 0, 0, 0, 0, 1, 0, 1, 0, 0, 0, 0, 0, 0, 0, 0, 0, 0], 0.0, 5.0), 1123: ('Last Time I Saw Paris, The (1954)', [0, 0, 0, 0, 0, 0, 0, 0, 1, 0, 0, 0, 0, 0, 0, 0, 0, 0, 0], 0.003436426116838488, 3.6666666666666665), 1124: ('Farewell to Arms, A (1932)', [0, 0, 0, 0, 0, 0, 0, 0, 0, 0, 0, 0, 0, 0, 1, 0, 0, 1, 0], 0.018900343642611683, 3.8333333333333335), 1125: ('Innocents, The (1961)', [0, 0, 0, 0, 0, 0, 0, 0, 0, 0, 0, 0, 0, 0, 0, 0, 1, 0, 0], 0.005154639175257732, 4.25), 1126: ('Old Man and the Sea, The (1958)', [0, 0, 1, 0, 0, 0, 0, 0, 1, 0, 0, 0, 0, 0, 0, 0, 0, 0, 0], 0.05326460481099656, 3.34375), 1127: ('Truman Show, The (1998)', [0, 0, 0, 0, 0, 0, 0, 0, 1, 0, 0, 0, 0, 0, 0, 0, 0, 0, 0], 0.01718213058419244, 2.909090909090909), 1128: ('Heidi Fleiss: Hollywood Madam (1995) ', [0, 0, 0, 0, 0, 0, 0, 1, 0, 0, 0, 0, 0, 0, 0, 0, 0, 0, 0], 0.020618556701030927, 2.6923076923076925), 1129: ('Chungking Express (1994)', [0, 0, 0, 0, 0, 0, 0, 0, 1, 0, 0, 0, 0, 1, 1, 0, 0, 0, 0], 0.04639175257731959, 3.5714285714285716), 1130: (\"Jupiter's Wife (1994)\", [0, 0, 0, 0, 0, 0, 0, 1, 0, 0, 0, 0, 0, 0, 0, 0, 0, 0, 0], 0.0, 4.0), 1131: ('Safe (1995)', [0, 0, 0, 0, 0, 0, 0, 0, 0, 0, 0, 0, 0, 0, 0, 0, 1, 0, 0], 0.020618556701030927, 4.0), 1132: ('Feeling Minnesota (1996)', [0, 0, 0, 0, 0, 0, 0, 0, 1, 0, 0, 0, 0, 0, 1, 0, 0, 0, 0], 0.05326460481099656, 2.625), 1133: ('Escape to Witch Mountain (1975)', [0, 0, 1, 0, 1, 0, 0, 0, 0, 1, 0, 0, 0, 0, 0, 0, 0, 0, 0], 0.04982817869415808, 2.966666666666667), 1134: ('Get on the Bus (1996)', [0, 0, 0, 0, 0, 0, 0, 0, 1, 0, 0, 0, 0, 0, 0, 0, 0, 0, 0], 0.06357388316151202, 3.3157894736842106), 1135: ('Doors, The (1991)', [0, 0, 0, 0, 0, 0, 0, 0, 1, 0, 0, 0, 1, 0, 0, 0, 0, 0, 0], 0.07731958762886598, 2.9782608695652173), 1136: ('Ghosts of Mississippi (1996)', [0, 0, 0, 0, 0, 0, 0, 0, 1, 0, 0, 0, 0, 0, 0, 0, 0, 0, 0], 0.048109965635738834, 3.4827586206896552), 1137: ('Beautiful Thing (1996)', [0, 0, 0, 0, 0, 0, 0, 0, 1, 0, 0, 0, 0, 0, 1, 0, 0, 0, 0], 0.048109965635738834, 3.9655172413793105), 1138: ('Best Men (1997)', [0, 1, 0, 0, 0, 1, 1, 0, 1, 0, 0, 0, 0, 0, 0, 0, 0, 0, 0], 0.006872852233676976, 3.4), 1139: ('Hackers (1995)', [0, 1, 0, 0, 0, 0, 1, 0, 0, 0, 0, 0, 0, 0, 0, 0, 1, 0, 0], 0.054982817869415807, 2.606060606060606), 1140: ('Road to Wellville, The (1994)', [0, 0, 0, 0, 0, 1, 0, 0, 0, 0, 0, 0, 0, 0, 0, 0, 0, 0, 0], 0.027491408934707903, 2.2941176470588234), 1141: ('War Room, The (1993)', [0, 0, 0, 0, 0, 0, 0, 1, 0, 0, 0, 0, 0, 0, 0, 0, 0, 0, 0], 0.013745704467353952, 3.3333333333333335), 1142: ('When We Were Kings (1996)', [0, 0, 0, 0, 0, 0, 0, 1, 0, 0, 0, 0, 0, 0, 0, 0, 0, 0, 0], 0.07388316151202749, 4.045454545454546), 1143: ('Hard Eight (1996)', [0, 0, 0, 0, 0, 0, 1, 0, 0, 0, 0, 0, 0, 0, 0, 0, 1, 0, 0], 0.024054982817869417, 4.0), 1144: ('Quiet Room, The (1996)', [0, 0, 0, 0, 0, 0, 0, 0, 1, 0, 0, 0, 0, 0, 0, 0, 0, 0, 0], 0.003436426116838488, 3.6666666666666665), 1145: ('Blue Chips (1994)', [0, 0, 0, 0, 0, 0, 0, 0, 1, 0, 0, 0, 0, 0, 0, 0, 0, 0, 0], 0.013745704467353952, 2.6666666666666665), 1146: ('Calendar Girl (1993)', [0, 0, 0, 0, 0, 0, 0, 0, 1, 0, 0, 0, 0, 0, 0, 0, 0, 0, 0], 0.003436426116838488, 2.0), 1147: ('My Family (1995)', [0, 0, 0, 0, 0, 0, 0, 0, 1, 0, 0, 0, 0, 0, 0, 0, 0, 0, 0], 0.03436426116838488, 3.6666666666666665), 1148: ('Tom & Viv (1994)', [0, 0, 0, 0, 0, 0, 0, 0, 1, 0, 0, 0, 0, 0, 0, 0, 0, 0, 0], 0.013745704467353952, 3.3333333333333335), 1149: ('Walkabout (1971)', [0, 0, 0, 0, 0, 0, 0, 0, 1, 0, 0, 0, 0, 0, 0, 0, 0, 0, 0], 0.0429553264604811, 3.8461538461538463), 1150: ('Last Dance (1996)', [0, 0, 0, 0, 0, 0, 0, 0, 1, 0, 0, 0, 0, 0, 0, 0, 0, 0, 0], 0.013745704467353952, 3.111111111111111), 1151: ('Original Gangstas (1996)', [0, 0, 0, 0, 0, 0, 1, 0, 0, 0, 0, 0, 0, 0, 0, 0, 0, 0, 0], 0.010309278350515464, 2.142857142857143), 1152: ('In Love and War (1996)', [0, 0, 0, 0, 0, 0, 0, 0, 0, 0, 0, 0, 0, 0, 1, 0, 0, 1, 0], 0.04639175257731959, 3.4285714285714284), 1153: ('Backbeat (1993)', [0, 0, 0, 0, 0, 0, 0, 0, 1, 0, 0, 0, 1, 0, 0, 0, 0, 0, 0], 0.030927835051546393, 3.473684210526316), 1154: ('Alphaville (1965)', [0, 0, 0, 0, 0, 0, 0, 0, 0, 0, 0, 0, 0, 0, 0, 1, 0, 0, 0], 0.018900343642611683, 3.3333333333333335), 1155: ('Rendezvous in Paris (Rendez-vous de Paris, Les) (1995)', [0, 0, 0, 0, 0, 1, 0, 0, 0, 0, 0, 0, 0, 0, 1, 0, 0, 0, 0], 0.003436426116838488, 3.3333333333333335), 1156: ('Cyclo (1995)', [0, 0, 0, 0, 0, 0, 1, 0, 1, 0, 0, 0, 0, 0, 0, 0, 0, 0, 0], 0.0, 3.0), 1157: ('Relic, The (1997)', [0, 0, 0, 0, 0, 0, 0, 0, 0, 0, 0, 1, 0, 0, 0, 0, 0, 0, 0], 0.041237113402061855, 2.88), 1158: ('Fille seule, La (A Single Girl) (1995)', [0, 0, 0, 0, 0, 0, 0, 0, 1, 0, 0, 0, 0, 0, 0, 0, 0, 0, 0], 0.005154639175257732, 4.0), 1159: ('Stalker (1979)', [0, 0, 0, 0, 0, 0, 0, 0, 0, 0, 0, 0, 0, 1, 0, 1, 0, 0, 0], 0.01718213058419244, 3.5454545454545454), 1160: ('Love! Valour! Compassion! (1997)', [0, 0, 0, 0, 0, 0, 0, 0, 1, 0, 0, 0, 0, 0, 1, 0, 0, 0, 0], 0.0429553264604811, 3.6153846153846154), 1161: ('Palookaville (1996)', [0, 1, 0, 0, 0, 0, 0, 0, 1, 0, 0, 0, 0, 0, 0, 0, 0, 0, 0], 0.020618556701030927, 2.923076923076923), 1162: ('Phat Beach (1996)', [0, 0, 0, 0, 0, 1, 0, 0, 0, 0, 0, 0, 0, 0, 0, 0, 0, 0, 0], 0.006872852233676976, 1.6), 1163: ('Portrait of a Lady, The (1996)', [0, 0, 0, 0, 0, 0, 0, 0, 1, 0, 0, 0, 0, 0, 0, 0, 0, 0, 0], 0.041237113402061855, 2.68), 1164: ('Zeus and Roxanne (1997)', [0, 0, 0, 0, 1, 0, 0, 0, 0, 0, 0, 0, 0, 0, 0, 0, 0, 0, 0], 0.00859106529209622, 2.1666666666666665), 1165: ('Big Bully (1996)', [0, 0, 0, 0, 0, 1, 0, 0, 1, 0, 0, 0, 0, 0, 0, 0, 0, 0, 0], 0.022336769759450172, 1.8571428571428572), 1166: ('Love & Human Remains (1993)', [0, 0, 0, 0, 0, 1, 0, 0, 0, 0, 0, 0, 0, 0, 0, 0, 0, 0, 0], 0.018900343642611683, 3.1666666666666665), 1167: ('Sum of Us, The (1994)', [0, 0, 0, 0, 0, 1, 0, 0, 0, 0, 0, 0, 0, 0, 0, 0, 0, 0, 0], 0.01718213058419244, 3.5454545454545454), 1168: ('Little Buddha (1993)', [0, 0, 0, 0, 0, 0, 0, 0, 1, 0, 0, 0, 0, 0, 0, 0, 0, 0, 0], 0.03608247422680412, 3.3181818181818183), 1169: ('Fresh (1994)', [0, 0, 0, 0, 0, 0, 0, 0, 1, 0, 0, 0, 0, 0, 0, 0, 0, 0, 0], 0.015463917525773196, 4.1), 1170: ('Spanking the Monkey (1994)', [0, 0, 0, 0, 0, 1, 0, 0, 1, 0, 0, 0, 0, 0, 0, 0, 0, 0, 0], 0.044673539518900345, 3.074074074074074), 1171: ('Wild Reeds (1994)', [0, 0, 0, 0, 0, 0, 0, 0, 1, 0, 0, 0, 0, 0, 0, 0, 0, 0, 0], 0.022336769759450172, 3.142857142857143), 1172: ('Women, The (1939)', [0, 0, 0, 0, 0, 1, 0, 0, 0, 0, 0, 0, 0, 0, 0, 0, 0, 0, 0], 0.024054982817869417, 3.6666666666666665), 1173: ('Bliss (1997)', [0, 0, 0, 0, 0, 0, 0, 0, 1, 0, 0, 0, 0, 0, 1, 0, 0, 0, 0], 0.010309278350515464, 2.5714285714285716), 1174: ('Caught (1996)', [0, 0, 0, 0, 0, 0, 0, 0, 1, 0, 0, 0, 0, 0, 0, 0, 1, 0, 0], 0.012027491408934709, 3.25), 1175: ('Hugo Pool (1997)', [0, 0, 0, 0, 0, 0, 0, 0, 0, 0, 0, 0, 0, 0, 1, 0, 0, 0, 0], 0.006872852233676976, 3.4), 1176: ('Welcome To Sarajevo (1997)', [0, 0, 0, 0, 0, 0, 0, 0, 1, 0, 0, 0, 0, 0, 0, 0, 0, 1, 0], 0.03608247422680412, 3.3636363636363638), 1177: ('Dunston Checks In (1996)', [0, 0, 0, 0, 0, 1, 0, 0, 0, 0, 0, 0, 0, 0, 0, 0, 0, 0, 0], 0.010309278350515464, 1.8571428571428572), 1178: ('Major Payne (1994)', [0, 0, 0, 0, 0, 1, 0, 0, 0, 0, 0, 0, 0, 0, 0, 0, 0, 0, 0], 0.030927835051546393, 2.473684210526316), 1179: ('Man of the House (1995)', [0, 0, 0, 0, 0, 1, 0, 0, 0, 0, 0, 0, 0, 0, 0, 0, 0, 0, 0], 0.013745704467353952, 2.111111111111111), 1180: ('I Love Trouble (1994)', [0, 1, 0, 0, 0, 1, 0, 0, 0, 0, 0, 0, 0, 0, 0, 0, 0, 0, 0], 0.015463917525773196, 2.5), 1181: ('Low Down Dirty Shame, A (1994)', [0, 1, 0, 0, 0, 1, 0, 0, 0, 0, 0, 0, 0, 0, 0, 0, 0, 0, 0], 0.015463917525773196, 2.5), 1182: ('Cops and Robbersons (1994)', [0, 0, 0, 0, 0, 1, 0, 0, 0, 0, 0, 0, 0, 0, 0, 0, 0, 0, 0], 0.020618556701030927, 2.3076923076923075), 1183: ('Cowboy Way, The (1994)', [0, 1, 0, 0, 0, 1, 0, 0, 0, 0, 0, 0, 0, 0, 0, 0, 0, 0, 0], 0.030927835051546393, 2.210526315789474), 1184: ('Endless Summer 2, The (1994)', [0, 0, 0, 0, 0, 0, 0, 1, 0, 0, 0, 0, 0, 0, 0, 0, 0, 0, 0], 0.015463917525773196, 2.5), 1185: ('In the Army Now (1994)', [0, 0, 0, 0, 0, 1, 0, 0, 0, 0, 0, 0, 0, 0, 0, 0, 0, 1, 0], 0.029209621993127148, 2.2777777777777777), 1186: ('Inkwell, The (1994)', [0, 0, 0, 0, 0, 1, 0, 0, 1, 0, 0, 0, 0, 0, 0, 0, 0, 0, 0], 0.003436426116838488, 3.3333333333333335), 1187: ('Switchblade Sisters (1975)', [0, 0, 0, 0, 0, 0, 1, 0, 0, 0, 0, 0, 0, 0, 0, 0, 0, 0, 0], 0.020618556701030927, 3.230769230769231), 1188: ('Young Guns II (1990)', [0, 1, 0, 0, 0, 1, 0, 0, 0, 0, 0, 0, 0, 0, 0, 0, 0, 0, 1], 0.07388316151202749, 2.772727272727273), 1189: ('Prefontaine (1997)', [0, 0, 0, 0, 0, 0, 0, 0, 1, 0, 0, 0, 0, 0, 0, 0, 0, 0, 0], 0.003436426116838488, 5.0), 1190: ('That Old Feeling (1997)', [0, 0, 0, 0, 0, 1, 0, 0, 0, 0, 0, 0, 0, 0, 1, 0, 0, 0, 0], 0.01718213058419244, 3.3636363636363638), 1191: ('Letter From Death Row, A (1998)', [0, 0, 0, 0, 0, 0, 1, 0, 1, 0, 0, 0, 0, 0, 0, 0, 0, 0, 0], 0.003436426116838488, 4.333333333333333), 1192: ('Boys of St. Vincent, The (1993)', [0, 0, 0, 0, 0, 0, 0, 0, 1, 0, 0, 0, 0, 0, 0, 0, 0, 0, 0], 0.020618556701030927, 3.3846153846153846), 1193: ('Before the Rain (Pred dozhdot) (1994)', [0, 0, 0, 0, 0, 0, 0, 0, 1, 0, 0, 0, 0, 0, 0, 0, 0, 0, 0], 0.015463917525773196, 3.8), 1194: ('Once Were Warriors (1994)', [0, 0, 0, 0, 0, 0, 1, 0, 1, 0, 0, 0, 0, 0, 0, 0, 0, 0, 0], 0.05154639175257732, 4.064516129032258), 1195: ('Strawberry and Chocolate (Fresa y chocolate) (1993)', [0, 0, 0, 0, 0, 0, 0, 0, 1, 0, 0, 0, 0, 0, 0, 0, 0, 0, 0], 0.01718213058419244, 3.272727272727273), 1196: ('Savage Nights (Nuits fauves, Les) (1992)', [0, 0, 0, 0, 0, 0, 0, 0, 1, 0, 0, 0, 0, 0, 0, 0, 0, 0, 0], 0.003436426116838488, 3.0), 1197: ('Family Thing, A (1996)', [0, 0, 0, 0, 0, 1, 0, 0, 1, 0, 0, 0, 0, 0, 0, 0, 0, 0, 0], 0.07560137457044673, 3.5555555555555554), 1198: ('Purple Noon (1960)', [0, 0, 0, 0, 0, 0, 1, 0, 0, 0, 0, 0, 0, 0, 0, 0, 1, 0, 0], 0.010309278350515464, 3.142857142857143), 1199: ('Cemetery Man (Dellamorte Dellamore) (1994)', [0, 0, 0, 0, 0, 1, 0, 0, 0, 0, 0, 1, 0, 0, 0, 0, 0, 0, 0], 0.037800687285223365, 2.869565217391304), 1200: ('Kim (1950)', [0, 0, 0, 0, 1, 0, 0, 0, 1, 0, 0, 0, 0, 0, 0, 0, 0, 0, 0], 0.010309278350515464, 3.2857142857142856), 1201: ('Marlene Dietrich: Shadow and Light (1996) ', [0, 0, 0, 0, 0, 0, 0, 1, 0, 0, 0, 0, 0, 0, 0, 0, 0, 0, 0], 0.0, 5.0), 1202: ('Maybe, Maybe Not (Bewegte Mann, Der) (1994)', [0, 0, 0, 0, 0, 1, 0, 0, 0, 0, 0, 0, 0, 0, 0, 0, 0, 0, 0], 0.012027491408934709, 3.5), 1203: ('Top Hat (1935)', [0, 0, 0, 0, 0, 1, 0, 0, 0, 0, 0, 0, 1, 0, 1, 0, 0, 0, 0], 0.03436426116838488, 4.0476190476190474), 1204: ('To Be or Not to Be (1942)', [0, 0, 0, 0, 0, 1, 0, 0, 1, 0, 0, 0, 0, 0, 0, 0, 0, 1, 0], 0.029209621993127148, 3.611111111111111), 1205: ('Secret Agent, The (1996)', [0, 0, 0, 0, 0, 0, 0, 0, 1, 0, 0, 0, 0, 0, 0, 0, 0, 0, 0], 0.00859106529209622, 3.0), 1206: ('Amos & Andrew (1993)', [0, 0, 0, 0, 0, 1, 0, 0, 0, 0, 0, 0, 0, 0, 0, 0, 0, 0, 0], 0.030927835051546393, 2.6842105263157894), 1207: ('Jade (1995)', [0, 0, 0, 0, 0, 0, 0, 0, 0, 0, 0, 0, 0, 0, 0, 0, 1, 0, 0], 0.027491408934707903, 2.2941176470588234), 1208: ('Kiss of Death (1995)', [0, 0, 0, 0, 0, 0, 1, 0, 1, 0, 0, 0, 0, 0, 0, 0, 1, 0, 0], 0.03264604810996564, 2.85), 1209: ('Mixed Nuts (1994)', [0, 0, 0, 0, 0, 1, 0, 0, 0, 0, 0, 0, 0, 0, 0, 0, 0, 0, 0], 0.024054982817869417, 2.533333333333333), 1210: ('Virtuosity (1995)', [0, 0, 0, 0, 0, 0, 0, 0, 0, 0, 0, 0, 0, 0, 0, 1, 1, 0, 0], 0.06357388316151202, 2.736842105263158), 1211: ('Blue Sky (1994)', [0, 0, 0, 0, 0, 0, 0, 0, 1, 0, 0, 0, 0, 0, 1, 0, 0, 0, 0], 0.018900343642611683, 3.4166666666666665), 1212: ('Flesh and Bone (1993)', [0, 0, 0, 0, 0, 0, 0, 0, 1, 0, 0, 0, 0, 1, 1, 0, 0, 0, 0], 0.00859106529209622, 2.8333333333333335), 1213: ('Guilty as Sin (1993)', [0, 0, 0, 0, 0, 0, 1, 0, 1, 0, 0, 0, 0, 0, 0, 0, 1, 0, 0], 0.00859106529209622, 2.1666666666666665), 1214: ('In the Realm of the Senses (Ai no corrida) (1976)', [0, 0, 0, 0, 0, 0, 0, 0, 1, 0, 0, 0, 0, 0, 0, 0, 0, 0, 0], 0.013745704467353952, 2.0), 1215: ('Barb Wire (1996)', [0, 1, 0, 0, 0, 0, 0, 0, 0, 0, 0, 0, 0, 0, 0, 1, 0, 0, 0], 0.04982817869415808, 1.9333333333333333), 1216: ('Kissed (1996)', [0, 0, 0, 0, 0, 0, 0, 0, 0, 0, 0, 0, 0, 0, 1, 0, 0, 0, 0], 0.00859106529209622, 3.0), 1217: ('Assassins (1995)', [0, 0, 0, 0, 0, 0, 0, 0, 0, 0, 0, 0, 0, 0, 0, 0, 1, 0, 0], 0.06529209621993128, 2.871794871794872), 1218: ('Friday (1995)', [0, 0, 0, 0, 0, 1, 0, 0, 0, 0, 0, 0, 0, 0, 0, 0, 0, 0, 0], 0.0429553264604811, 3.4615384615384617), 1219: ('Goofy Movie, A (1995)', [0, 0, 0, 1, 1, 1, 0, 0, 0, 0, 0, 0, 0, 0, 1, 0, 0, 0, 0], 0.03264604810996564, 2.9), 1220: ('Higher Learning (1995)', [0, 0, 0, 0, 0, 0, 0, 0, 1, 0, 0, 0, 0, 0, 0, 0, 0, 0, 0], 0.04982817869415808, 3.3333333333333335), 1221: ('When a Man Loves a Woman (1994)', [0, 0, 0, 0, 0, 0, 0, 0, 1, 0, 0, 0, 0, 0, 0, 0, 0, 0, 0], 0.06529209621993128, 3.4871794871794872), 1222: ('Judgment Night (1993)', [0, 1, 0, 0, 0, 0, 0, 0, 0, 0, 0, 0, 0, 0, 0, 0, 0, 0, 0], 0.041237113402061855, 2.68), 1223: ('King of the Hill (1993)', [0, 0, 0, 0, 0, 0, 0, 0, 1, 0, 0, 0, 0, 0, 0, 0, 0, 0, 0], 0.005154639175257732, 3.5), 1224: ('Scout, The (1994)', [0, 0, 0, 0, 0, 0, 0, 0, 1, 0, 0, 0, 0, 0, 0, 0, 0, 0, 0], 0.018900343642611683, 2.6666666666666665), 1225: ('Angus (1995)', [0, 0, 0, 0, 0, 1, 0, 0, 0, 0, 0, 0, 0, 0, 0, 0, 0, 0, 0], 0.022336769759450172, 2.642857142857143), 1226: ('Night Falls on Manhattan (1997)', [0, 0, 0, 0, 0, 0, 1, 0, 1, 0, 0, 0, 0, 0, 0, 0, 0, 0, 0], 0.05326460481099656, 3.375), 1227: ('Awfully Big Adventure, An (1995)', [0, 0, 0, 0, 0, 0, 0, 0, 1, 0, 0, 0, 0, 0, 0, 0, 0, 0, 0], 0.012027491408934709, 2.375), 1228: ('Under Siege 2: Dark Territory (1995)', [0, 1, 0, 0, 0, 0, 0, 0, 0, 0, 0, 0, 0, 0, 0, 0, 0, 0, 0], 0.08075601374570447, 2.4583333333333335), 1229: ('Poison Ivy II (1995)', [0, 0, 0, 0, 0, 0, 0, 0, 1, 0, 0, 0, 0, 0, 0, 0, 1, 0, 0], 0.020618556701030927, 2.1538461538461537), 1230: ('Ready to Wear (Pret-A-Porter) (1994)', [0, 0, 0, 0, 0, 1, 0, 0, 0, 0, 0, 0, 0, 0, 0, 0, 0, 0, 0], 0.029209621993127148, 1.8333333333333333), 1231: ('Marked for Death (1990)', [0, 1, 0, 0, 0, 0, 0, 0, 1, 0, 0, 0, 0, 0, 0, 0, 0, 0, 0], 0.03608247422680412, 2.5), 1232: ('Madonna: Truth or Dare (1991)', [0, 0, 0, 0, 0, 0, 0, 1, 0, 0, 0, 0, 0, 0, 0, 0, 0, 0, 0], 0.027491408934707903, 2.4705882352941178), 1233: ('Nénette et Boni (1996)', [0, 0, 0, 0, 0, 0, 0, 0, 1, 0, 0, 0, 0, 0, 0, 0, 0, 0, 0], 0.00859106529209622, 3.5), 1234: ('Chairman of the Board (1998)', [0, 0, 0, 0, 0, 1, 0, 0, 0, 0, 0, 0, 0, 0, 0, 0, 0, 0, 0], 0.012027491408934709, 2.375), 1235: ('Big Bang Theory, The (1994)', [0, 0, 0, 0, 0, 0, 1, 0, 0, 0, 0, 0, 0, 0, 0, 0, 0, 0, 0], 0.0, 4.0), 1236: ('Other Voices, Other Rooms (1997)', [0, 0, 0, 0, 0, 0, 0, 0, 1, 0, 0, 0, 0, 0, 0, 0, 0, 0, 0], 0.0, 3.0), 1237: ('Twisted (1996)', [0, 0, 0, 0, 0, 1, 0, 0, 1, 0, 0, 0, 0, 0, 0, 0, 0, 0, 0], 0.00859106529209622, 3.5), 1238: ('Full Speed (1996)', [0, 0, 0, 0, 0, 0, 0, 0, 1, 0, 0, 0, 0, 0, 0, 0, 0, 0, 0], 0.012027491408934709, 3.125), 1239: ('Cutthroat Island (1995)', [0, 1, 1, 0, 0, 0, 0, 0, 0, 0, 0, 0, 0, 0, 1, 0, 0, 0, 0], 0.029209621993127148, 2.4444444444444446), 1240: ('Ghost in the Shell (Kokaku kidotai) (1995)', [0, 0, 0, 1, 0, 0, 0, 0, 0, 0, 0, 0, 0, 0, 0, 1, 0, 0, 0], 0.0429553264604811, 3.6538461538461537), 1241: ('Van, The (1996)', [0, 0, 0, 0, 0, 1, 0, 0, 1, 0, 0, 0, 0, 0, 0, 0, 0, 0, 0], 0.00859106529209622, 2.6666666666666665), 1242: ('Old Lady Who Walked in the Sea, The (Vieille qui marchait dans la mer, La) (1991)', [0, 0, 0, 0, 0, 1, 0, 0, 0, 0, 0, 0, 0, 0, 0, 0, 0, 0, 0], 0.006872852233676976, 2.6), 1243: ('Night Flier (1997)', [0, 0, 0, 0, 0, 0, 0, 0, 0, 0, 0, 1, 0, 0, 0, 0, 0, 0, 0], 0.010309278350515464, 3.7142857142857144), 1244: ('Metro (1997)', [0, 1, 0, 0, 0, 0, 0, 0, 0, 0, 0, 0, 0, 0, 0, 0, 0, 0, 0], 0.06013745704467354, 2.9166666666666665), 1245: (\"Gridlock'd (1997)\", [0, 0, 0, 0, 0, 0, 1, 0, 0, 0, 0, 0, 0, 0, 0, 0, 0, 0, 0], 0.030927835051546393, 3.210526315789474), 1246: ('Bushwhacked (1995)', [0, 0, 0, 0, 0, 1, 0, 0, 0, 0, 0, 0, 0, 0, 0, 0, 0, 0, 0], 0.010309278350515464, 1.5714285714285714), 1247: ('Bad Girls (1994)', [0, 0, 0, 0, 0, 0, 0, 0, 0, 0, 0, 0, 0, 0, 0, 0, 0, 0, 1], 0.00859106529209622, 1.8333333333333333), 1248: ('Blink (1994)', [0, 0, 0, 0, 0, 0, 0, 0, 0, 0, 0, 0, 0, 0, 0, 0, 1, 0, 0], 0.030927835051546393, 3.0), 1249: ('For Love or Money (1993)', [0, 0, 0, 0, 0, 1, 0, 0, 0, 0, 0, 0, 0, 0, 0, 0, 0, 0, 0], 0.018900343642611683, 2.8333333333333335), 1250: ('Best of the Best 3: No Turning Back (1995)', [0, 1, 0, 0, 0, 0, 0, 0, 0, 0, 0, 0, 0, 0, 0, 0, 0, 0, 0], 0.00859106529209622, 1.5), 1251: ('A Chef in Love (1996)', [0, 0, 0, 0, 0, 1, 0, 0, 0, 0, 0, 0, 0, 0, 0, 0, 0, 0, 0], 0.012027491408934709, 4.125), 1252: ('Contempt (Mépris, Le) (1963)', [0, 0, 0, 0, 0, 0, 0, 0, 1, 0, 0, 0, 0, 0, 0, 0, 0, 0, 0], 0.013745704467353952, 3.0), 1253: ('Tie That Binds, The (1995)', [0, 0, 0, 0, 0, 0, 0, 0, 0, 0, 0, 0, 0, 0, 0, 0, 1, 0, 0], 0.010309278350515464, 2.4285714285714284), 1254: (\"Gone Fishin' (1997)\", [0, 0, 0, 0, 0, 1, 0, 0, 0, 0, 0, 0, 0, 0, 0, 0, 0, 0, 0], 0.01718213058419244, 1.8181818181818181), 1255: ('Broken English (1996)', [0, 0, 0, 0, 0, 0, 0, 0, 1, 0, 0, 0, 0, 0, 0, 0, 0, 0, 0], 0.012027491408934709, 2.25), 1256: ('Designated Mourner, The (1997)', [0, 0, 0, 0, 0, 0, 0, 0, 1, 0, 0, 0, 0, 0, 0, 0, 0, 0, 0], 0.003436426116838488, 2.0), 1257: ('Designated Mourner, The (1997)', [0, 0, 0, 0, 0, 0, 0, 0, 1, 0, 0, 0, 0, 0, 0, 0, 0, 0, 0], 0.005154639175257732, 1.75), 1258: ('Trial and Error (1997)', [0, 0, 0, 0, 0, 1, 0, 0, 0, 0, 0, 0, 0, 0, 1, 0, 0, 0, 0], 0.037800687285223365, 2.5217391304347827), 1259: ('Pie in the Sky (1995)', [0, 0, 0, 0, 0, 1, 0, 0, 0, 0, 0, 0, 0, 0, 1, 0, 0, 0, 0], 0.005154639175257732, 2.0), 1260: ('Total Eclipse (1995)', [0, 0, 0, 0, 0, 0, 0, 0, 1, 0, 0, 0, 0, 0, 0, 0, 0, 0, 0], 0.005154639175257732, 2.75), 1261: ('Run of the Country, The (1995)', [0, 0, 0, 0, 0, 0, 0, 0, 1, 0, 0, 0, 0, 0, 0, 0, 0, 0, 0], 0.005154639175257732, 3.25), 1262: ('Walking and Talking (1996)', [0, 0, 0, 0, 0, 0, 0, 0, 0, 0, 0, 0, 0, 0, 1, 0, 0, 0, 0], 0.012027491408934709, 3.625), 1263: ('Foxfire (1996)', [0, 0, 0, 0, 0, 0, 0, 0, 1, 0, 0, 0, 0, 0, 0, 0, 0, 0, 0], 0.024054982817869417, 2.933333333333333), 1264: ('Nothing to Lose (1994)', [0, 0, 0, 0, 0, 0, 0, 0, 1, 0, 0, 0, 0, 0, 0, 0, 0, 0, 0], 0.010309278350515464, 3.2857142857142856), 1265: ('Star Maps (1997)', [0, 0, 0, 0, 0, 0, 0, 0, 1, 0, 0, 0, 0, 0, 0, 0, 0, 0, 0], 0.030927835051546393, 3.0526315789473686), 1266: ('Bread and Chocolate (Pane e cioccolata) (1973)', [0, 0, 0, 0, 0, 0, 0, 0, 1, 0, 0, 0, 0, 0, 0, 0, 0, 0, 0], 0.018900343642611683, 3.1666666666666665), 1267: ('Clockers (1995)', [0, 0, 0, 0, 0, 0, 0, 0, 1, 0, 0, 0, 0, 0, 0, 0, 0, 0, 0], 0.054982817869415807, 3.0), 1268: ('Bitter Moon (1992)', [0, 0, 0, 0, 0, 0, 0, 0, 1, 0, 0, 0, 0, 0, 0, 0, 0, 0, 0], 0.015463917525773196, 3.3), 1269: ('Love in the Afternoon (1957)', [0, 0, 0, 0, 0, 1, 0, 0, 0, 0, 0, 0, 0, 0, 1, 0, 0, 0, 0], 0.015463917525773196, 3.9), 1270: ('Life with Mikey (1993)', [0, 0, 0, 0, 0, 1, 0, 0, 0, 0, 0, 0, 0, 0, 0, 0, 0, 0, 0], 0.010309278350515464, 2.2857142857142856), 1271: ('North (1994)', [0, 0, 0, 0, 0, 1, 0, 0, 0, 0, 0, 0, 0, 0, 0, 0, 0, 0, 0], 0.010309278350515464, 2.7142857142857144), 1272: ('Talking About Sex (1994)', [0, 0, 0, 0, 0, 1, 0, 0, 1, 0, 0, 0, 0, 0, 0, 0, 0, 0, 0], 0.006872852233676976, 1.8), 1273: ('Color of Night (1994)', [0, 0, 0, 0, 0, 0, 0, 0, 1, 0, 0, 0, 0, 0, 0, 0, 1, 0, 0], 0.024054982817869417, 2.7333333333333334), 1274: ('Robocop 3 (1993)', [0, 0, 0, 0, 0, 0, 0, 0, 0, 0, 0, 0, 0, 0, 0, 1, 1, 0, 0], 0.01718213058419244, 1.7272727272727273), 1275: ('Killer (Bulletproof Heart) (1994)', [0, 0, 0, 0, 0, 0, 0, 0, 0, 0, 0, 0, 0, 0, 0, 0, 1, 0, 0], 0.005154639175257732, 2.5), 1276: ('Sunset Park (1996)', [0, 0, 0, 0, 0, 0, 0, 0, 1, 0, 0, 0, 0, 0, 0, 0, 0, 0, 0], 0.012027491408934709, 2.5), 1277: ('Set It Off (1996)', [0, 1, 0, 0, 0, 0, 1, 0, 0, 0, 0, 0, 0, 0, 0, 0, 0, 0, 0], 0.030927835051546393, 3.4210526315789473), 1278: ('Selena (1997)', [0, 0, 0, 0, 0, 0, 0, 0, 1, 0, 0, 0, 1, 0, 0, 0, 0, 0, 0], 0.02577319587628866, 3.625), 1279: ('Wild America (1997)', [0, 0, 1, 0, 1, 0, 0, 0, 0, 0, 0, 0, 0, 0, 0, 0, 0, 0, 0], 0.013745704467353952, 2.888888888888889), 1280: ('Gang Related (1997)', [0, 0, 0, 0, 0, 0, 1, 0, 0, 0, 0, 0, 0, 0, 0, 0, 0, 0, 0], 0.02577319587628866, 2.6875), 1281: ('Manny & Lo (1996)', [0, 0, 0, 0, 0, 0, 0, 0, 1, 0, 0, 0, 0, 0, 0, 0, 0, 0, 0], 0.020618556701030927, 3.1538461538461537), 1282: ('Grass Harp, The (1995)', [0, 0, 0, 0, 0, 0, 0, 0, 1, 0, 0, 0, 0, 0, 0, 0, 0, 0, 0], 0.013745704467353952, 3.2222222222222223), 1283: ('Out to Sea (1997)', [0, 0, 0, 0, 0, 1, 0, 0, 0, 0, 0, 0, 0, 0, 0, 0, 0, 0, 0], 0.030927835051546393, 2.6842105263157894), 1284: ('Before and After (1996)', [0, 0, 0, 0, 0, 0, 0, 0, 1, 0, 0, 0, 0, 1, 0, 0, 0, 0, 0], 0.0429553264604811, 2.8461538461538463), 1285: ('Princess Caraboo (1994)', [0, 0, 0, 0, 0, 0, 0, 0, 1, 0, 0, 0, 0, 0, 0, 0, 0, 0, 0], 0.024054982817869417, 3.1333333333333333), 1286: ('Shall We Dance? (1937)', [0, 0, 0, 0, 0, 1, 0, 0, 0, 0, 0, 0, 1, 0, 1, 0, 0, 0, 0], 0.027491408934707903, 3.7058823529411766), 1287: ('Ed (1996)', [0, 0, 0, 0, 0, 1, 0, 0, 0, 0, 0, 0, 0, 0, 0, 0, 0, 0, 0], 0.00859106529209622, 1.3333333333333333), 1288: ('Denise Calls Up (1995)', [0, 0, 0, 0, 0, 1, 0, 0, 0, 0, 0, 0, 0, 0, 0, 0, 0, 0, 0], 0.010309278350515464, 3.0), 1289: ('Jack and Sarah (1995)', [0, 0, 0, 0, 0, 0, 0, 0, 0, 0, 0, 0, 0, 0, 1, 0, 0, 0, 0], 0.010309278350515464, 2.142857142857143), 1290: ('Country Life (1994)', [0, 0, 0, 0, 0, 0, 0, 0, 1, 0, 0, 0, 0, 0, 1, 0, 0, 0, 0], 0.001718213058419244, 1.5), 1291: ('Celtic Pride (1996)', [0, 0, 0, 0, 0, 1, 0, 0, 0, 0, 0, 0, 0, 0, 0, 0, 0, 0, 0], 0.024054982817869417, 2.2), 1292: ('Simple Wish, A (1997)', [0, 0, 0, 0, 1, 0, 0, 0, 0, 1, 0, 0, 0, 0, 0, 0, 0, 0, 0], 0.003436426116838488, 1.6666666666666667), 1293: ('Star Kid (1997)', [0, 0, 1, 0, 1, 0, 0, 0, 0, 1, 0, 0, 0, 0, 0, 1, 0, 0, 0], 0.003436426116838488, 5.0), 1294: ('Ayn Rand: A Sense of Life (1997)', [0, 0, 0, 0, 0, 0, 0, 1, 0, 0, 0, 0, 0, 0, 0, 0, 0, 0, 0], 0.010309278350515464, 3.142857142857143), 1295: ('Kicked in the Head (1997)', [0, 0, 0, 0, 0, 1, 0, 0, 1, 0, 0, 0, 0, 0, 0, 0, 0, 0, 0], 0.010309278350515464, 2.5714285714285716), 1296: ('Indian Summer (1996)', [0, 0, 0, 0, 0, 1, 0, 0, 1, 0, 0, 0, 0, 0, 0, 0, 0, 0, 0], 0.03264604810996564, 3.25), 1297: ('Love Affair (1994)', [0, 0, 0, 0, 0, 0, 0, 0, 1, 0, 0, 0, 0, 0, 1, 0, 0, 0, 0], 0.018900343642611683, 2.8333333333333335), 1298: ('Band Wagon, The (1953)', [0, 0, 0, 0, 0, 1, 0, 0, 0, 0, 0, 0, 1, 0, 0, 0, 0, 0, 0], 0.013745704467353952, 3.6666666666666665), 1299: ('Penny Serenade (1941)', [0, 0, 0, 0, 0, 0, 0, 0, 1, 0, 0, 0, 0, 0, 1, 0, 0, 0, 0], 0.012027491408934709, 3.0), 1300: (\"'Til There Was You (1997)\", [0, 0, 0, 0, 0, 0, 0, 0, 1, 0, 0, 0, 0, 0, 1, 0, 0, 0, 0], 0.013745704467353952, 2.3333333333333335), 1301: ('Stripes (1981)', [0, 0, 0, 0, 0, 1, 0, 0, 0, 0, 0, 0, 0, 0, 0, 0, 0, 0, 0], 0.006872852233676976, 3.8), 1302: ('Late Bloomers (1996)', [0, 0, 0, 0, 0, 1, 0, 0, 0, 0, 0, 0, 0, 0, 0, 0, 0, 0, 0], 0.006872852233676976, 3.4), 1303: ('Getaway, The (1994)', [0, 1, 0, 0, 0, 0, 0, 0, 0, 0, 0, 0, 0, 0, 0, 0, 0, 0, 0], 0.029209621993127148, 2.3333333333333335), 1304: ('New York Cop (1996)', [0, 1, 0, 0, 0, 0, 1, 0, 0, 0, 0, 0, 0, 0, 0, 0, 0, 0, 0], 0.001718213058419244, 2.5), 1305: (\"National Lampoon's Senior Trip (1995)\", [0, 0, 0, 0, 0, 1, 0, 0, 0, 0, 0, 0, 0, 0, 0, 0, 0, 0, 0], 0.010309278350515464, 2.4285714285714284), 1306: ('Delta of Venus (1994)', [0, 0, 0, 0, 0, 0, 0, 0, 1, 0, 0, 0, 0, 0, 0, 0, 0, 0, 0], 0.001718213058419244, 3.0), 1307: ('Carmen Miranda: Bananas Is My Business (1994)', [0, 0, 0, 0, 0, 0, 0, 1, 0, 0, 0, 0, 0, 0, 0, 0, 0, 0, 0], 0.001718213058419244, 1.5), 1308: ('Babyfever (1994)', [0, 0, 0, 0, 0, 1, 0, 0, 1, 0, 0, 0, 0, 0, 0, 0, 0, 0, 0], 0.001718213058419244, 1.0), 1309: ('Very Natural Thing, A (1974)', [0, 0, 0, 0, 0, 0, 0, 0, 1, 0, 0, 0, 0, 0, 0, 0, 0, 0, 0], 0.0, 1.0), 1310: ('Walk in the Sun, A (1945)', [0, 0, 0, 0, 0, 0, 0, 0, 1, 0, 0, 0, 0, 0, 0, 0, 0, 0, 0], 0.0, 3.0), 1311: ('Waiting to Exhale (1995)', [0, 0, 0, 0, 0, 1, 0, 0, 1, 0, 0, 0, 0, 0, 0, 0, 0, 0, 0], 0.02577319587628866, 2.5), 1312: ('Pompatus of Love, The (1996)', [0, 0, 0, 0, 0, 1, 0, 0, 1, 0, 0, 0, 0, 0, 0, 0, 0, 0, 0], 0.010309278350515464, 3.0), 1313: ('Palmetto (1998)', [0, 0, 0, 0, 0, 0, 0, 0, 0, 0, 1, 0, 0, 1, 0, 0, 1, 0, 0], 0.022336769759450172, 3.142857142857143), 1314: ('Surviving the Game (1994)', [0, 1, 1, 0, 0, 0, 0, 0, 0, 0, 0, 0, 0, 0, 0, 0, 1, 0, 0], 0.01718213058419244, 2.4545454545454546), 1315: ('Inventing the Abbotts (1997)', [0, 0, 0, 0, 0, 0, 0, 0, 1, 0, 0, 0, 0, 0, 1, 0, 0, 0, 0], 0.037800687285223365, 3.130434782608696), 1316: ('Horse Whisperer, The (1998)', [0, 0, 0, 0, 0, 0, 0, 0, 1, 0, 0, 0, 0, 0, 0, 0, 0, 0, 0], 0.010309278350515464, 2.7142857142857144), 1317: ('Journey of August King, The (1995)', [0, 0, 0, 0, 0, 0, 0, 0, 1, 0, 0, 0, 0, 0, 0, 0, 0, 0, 0], 0.005154639175257732, 2.0), 1318: ('Catwalk (1995)', [0, 0, 0, 0, 0, 0, 0, 1, 0, 0, 0, 0, 0, 0, 0, 0, 0, 0, 0], 0.003436426116838488, 1.3333333333333333), 1319: ('Neon Bible, The (1995)', [0, 0, 0, 0, 0, 0, 0, 0, 1, 0, 0, 0, 0, 0, 0, 0, 0, 0, 0], 0.005154639175257732, 1.75), 1320: ('Homage (1995)', [0, 0, 0, 0, 0, 0, 0, 0, 1, 0, 0, 0, 0, 0, 0, 0, 0, 0, 0], 0.0, 1.0), 1321: ('Open Season (1996)', [0, 0, 0, 0, 0, 1, 0, 0, 0, 0, 0, 0, 0, 0, 0, 0, 0, 0, 0], 0.001718213058419244, 2.5), 1322: ('Metisse (Café au Lait) (1993)', [0, 0, 0, 0, 0, 1, 0, 0, 0, 0, 0, 0, 0, 0, 0, 0, 0, 0, 0], 0.00859106529209622, 2.3333333333333335), 1323: (\"Wooden Man's Bride, The (Wu Kui) (1994)\", [0, 0, 0, 0, 0, 0, 0, 0, 1, 0, 0, 0, 0, 0, 0, 0, 0, 0, 0], 0.003436426116838488, 2.6666666666666665), 1324: ('Loaded (1994)', [0, 0, 0, 0, 0, 0, 0, 0, 1, 0, 0, 0, 0, 0, 0, 0, 1, 0, 0], 0.006872852233676976, 2.4), 1325: ('August (1996)', [0, 0, 0, 0, 0, 0, 0, 0, 1, 0, 0, 0, 0, 0, 0, 0, 0, 0, 0], 0.0, 1.0), 1326: ('Boys (1996)', [0, 0, 0, 0, 0, 0, 0, 0, 1, 0, 0, 0, 0, 0, 0, 0, 0, 0, 0], 0.00859106529209622, 3.3333333333333335), 1327: ('Captives (1994)', [0, 0, 0, 0, 0, 0, 0, 0, 1, 0, 0, 0, 0, 0, 0, 0, 0, 0, 0], 0.003436426116838488, 2.3333333333333335), 1328: ('Of Love and Shadows (1994)', [0, 0, 0, 0, 0, 0, 0, 0, 1, 0, 0, 0, 0, 0, 0, 0, 0, 0, 0], 0.00859106529209622, 3.1666666666666665), 1329: ('Low Life, The (1994)', [0, 0, 0, 0, 0, 0, 0, 0, 1, 0, 0, 0, 0, 0, 0, 0, 0, 0, 0], 0.0, 1.0), 1330: ('An Unforgettable Summer (1994)', [0, 0, 0, 0, 0, 0, 0, 0, 1, 0, 0, 0, 0, 0, 0, 0, 0, 0, 0], 0.005154639175257732, 2.5), 1331: ('Last Klezmer: Leopold Kozlowski, His Life and Music, The (1995)', [0, 0, 0, 0, 0, 0, 0, 1, 0, 0, 0, 0, 0, 0, 0, 0, 0, 0, 0], 0.005154639175257732, 3.0), 1332: (\"My Life and Times With Antonin Artaud (En compagnie d'Antonin Artaud) (1993)\", [0, 0, 0, 0, 0, 0, 0, 0, 1, 0, 0, 0, 0, 0, 0, 0, 0, 0, 0], 0.001718213058419244, 2.0), 1333: ('Midnight Dancers (Sibak) (1994)', [0, 0, 0, 0, 0, 1, 0, 0, 1, 0, 0, 0, 0, 0, 0, 0, 0, 0, 0], 0.006872852233676976, 2.8), 1334: ('Somebody to Love (1994)', [0, 0, 0, 0, 0, 0, 0, 0, 1, 0, 0, 0, 0, 0, 0, 0, 0, 0, 0], 0.001718213058419244, 1.0), 1335: ('American Buffalo (1996)', [0, 0, 0, 0, 0, 0, 0, 0, 1, 0, 0, 0, 0, 0, 0, 0, 0, 0, 0], 0.01718213058419244, 2.6363636363636362), 1336: ('Kazaam (1996)', [0, 0, 0, 0, 1, 1, 0, 0, 0, 1, 0, 0, 0, 0, 0, 0, 0, 0, 0], 0.015463917525773196, 1.8), 1337: ('Larger Than Life (1996)', [0, 0, 0, 0, 0, 1, 0, 0, 0, 0, 0, 0, 0, 0, 0, 0, 0, 0, 0], 0.013745704467353952, 2.3333333333333335), 1338: ('Two Deaths (1995)', [0, 0, 0, 0, 0, 0, 0, 0, 1, 0, 0, 0, 0, 0, 0, 0, 0, 0, 0], 0.005154639175257732, 2.25), 1339: ('Stefano Quantestorie (1993)', [0, 0, 0, 0, 0, 1, 0, 0, 1, 0, 0, 0, 0, 0, 0, 0, 0, 0, 0], 0.0, 1.0), 1340: ('Crude Oasis, The (1995)', [0, 0, 0, 0, 0, 0, 0, 0, 0, 0, 0, 0, 0, 0, 1, 0, 0, 0, 0], 0.0, 1.0), 1341: ('Hedd Wyn (1992)', [0, 0, 0, 0, 0, 0, 0, 0, 1, 0, 0, 0, 0, 0, 0, 0, 0, 0, 0], 0.0, 1.0), 1342: ('Convent, The (Convento, O) (1995)', [0, 0, 0, 0, 0, 0, 0, 0, 1, 0, 0, 0, 0, 0, 0, 0, 0, 0, 0], 0.001718213058419244, 2.5), 1343: ('Lotto Land (1995)', [0, 0, 0, 0, 0, 0, 0, 0, 1, 0, 0, 0, 0, 0, 0, 0, 0, 0, 0], 0.0, 1.0), 1344: ('Story of Xinghua, The (1993)', [0, 0, 0, 0, 0, 0, 0, 0, 1, 0, 0, 0, 0, 0, 0, 0, 0, 0, 0], 0.006872852233676976, 3.2), 1345: ('Day the Sun Turned Cold, The (Tianguo niezi) (1994)', [0, 0, 0, 0, 0, 0, 0, 0, 1, 0, 0, 0, 0, 0, 0, 0, 0, 0, 0], 0.001718213058419244, 2.0), 1346: ('Dingo (1992)', [0, 0, 0, 0, 0, 0, 0, 0, 1, 0, 0, 0, 0, 0, 0, 0, 0, 0, 0], 0.006872852233676976, 2.4), 1347: ('Ballad of Narayama, The (Narayama Bushiko) (1958)', [0, 0, 0, 0, 0, 0, 0, 0, 1, 0, 0, 0, 0, 0, 0, 0, 0, 0, 0], 0.005154639175257732, 2.75), 1348: ('Every Other Weekend (1990)', [0, 0, 0, 0, 0, 0, 0, 0, 1, 0, 0, 0, 0, 0, 0, 0, 0, 0, 0], 0.0, 1.0), 1349: ('Mille bolle blu (1993)', [0, 0, 0, 0, 0, 1, 0, 0, 0, 0, 0, 0, 0, 0, 0, 0, 0, 0, 0], 0.0, 1.0), 1350: ('Crows and Sparrows (1949)', [0, 0, 0, 0, 0, 0, 0, 0, 1, 0, 0, 0, 0, 0, 0, 0, 0, 0, 0], 0.001718213058419244, 1.5), 1351: (\"Lover's Knot (1996)\", [0, 0, 0, 0, 0, 1, 0, 0, 0, 0, 0, 0, 0, 0, 0, 0, 0, 0, 0], 0.003436426116838488, 2.0), 1352: ('Shadow of Angels (Schatten der Engel) (1976)', [0, 0, 0, 0, 0, 0, 0, 0, 1, 0, 0, 0, 0, 0, 0, 0, 0, 0, 0], 0.0, 1.0), 1353: ('1-900 (1994)', [0, 0, 0, 0, 0, 0, 0, 0, 0, 0, 0, 0, 0, 0, 1, 0, 0, 0, 0], 0.006872852233676976, 2.6), 1354: ('Venice/Venice (1992)', [0, 0, 0, 0, 0, 0, 0, 0, 1, 0, 0, 0, 0, 0, 0, 0, 0, 0, 0], 0.001718213058419244, 1.0), 1355: ('Infinity (1996)', [0, 0, 0, 0, 0, 0, 0, 0, 1, 0, 0, 0, 0, 0, 0, 0, 0, 0, 0], 0.00859106529209622, 2.6666666666666665), 1356: (\"Ed's Next Move (1996)\", [0, 0, 0, 0, 0, 1, 0, 0, 0, 0, 0, 0, 0, 0, 0, 0, 0, 0, 0], 0.003436426116838488, 2.6666666666666665), 1357: ('For the Moment (1994)', [0, 0, 0, 0, 0, 0, 0, 0, 0, 0, 0, 0, 0, 0, 1, 0, 0, 1, 0], 0.003436426116838488, 2.6666666666666665), 1358: ('The Deadly Cure (1996)', [0, 1, 0, 0, 0, 0, 0, 0, 0, 0, 0, 0, 0, 0, 0, 0, 0, 0, 0], 0.001718213058419244, 3.0), 1359: ('Boys in Venice (1996)', [0, 0, 0, 0, 0, 0, 0, 0, 1, 0, 0, 0, 0, 0, 0, 0, 0, 0, 0], 0.001718213058419244, 1.0), 1360: ('Sexual Life of the Belgians, The (1994)', [0, 0, 0, 0, 0, 1, 0, 0, 0, 0, 0, 0, 0, 0, 0, 0, 0, 0, 0], 0.001718213058419244, 1.5), 1361: ('Search for One-eye Jimmy, The (1996)', [0, 0, 0, 0, 0, 1, 0, 0, 0, 0, 0, 0, 0, 0, 0, 0, 0, 0, 0], 0.003436426116838488, 2.6666666666666665), 1362: ('American Strays (1996)', [0, 1, 0, 0, 0, 0, 0, 0, 0, 0, 0, 0, 0, 0, 0, 0, 0, 0, 0], 0.001718213058419244, 2.0), 1363: ('Leopard Son, The (1996)', [0, 0, 0, 0, 0, 0, 0, 1, 0, 0, 0, 0, 0, 0, 0, 0, 0, 0, 0], 0.0, 1.0), 1364: ('Bird of Prey (1996)', [0, 1, 0, 0, 0, 0, 0, 0, 0, 0, 0, 0, 0, 0, 0, 0, 0, 0, 0], 0.0, 1.0), 1365: ('Johnny 100 Pesos (1993)', [0, 1, 0, 0, 0, 0, 0, 0, 1, 0, 0, 0, 0, 0, 0, 0, 0, 0, 0], 0.001718213058419244, 1.5), 1366: ('JLG/JLG - autoportrait de décembre (1994)', [0, 0, 0, 0, 0, 0, 0, 1, 1, 0, 0, 0, 0, 0, 0, 0, 0, 0, 0], 0.0, 1.0), 1367: ('Faust (1994)', [0, 0, 0, 1, 0, 0, 0, 0, 0, 0, 0, 0, 0, 0, 0, 0, 0, 0, 0], 0.006872852233676976, 4.2), 1368: ('Mina Tannenbaum (1994)', [0, 0, 0, 0, 0, 0, 0, 0, 1, 0, 0, 0, 0, 0, 0, 0, 0, 0, 0], 0.00859106529209622, 3.6666666666666665), 1369: ('Forbidden Christ, The (Cristo proibito, Il) (1950)', [0, 0, 0, 0, 0, 0, 0, 0, 1, 0, 0, 0, 0, 0, 0, 0, 0, 0, 0], 0.005154639175257732, 2.75), 1370: (\"I Can't Sleep (J'ai pas sommeil) (1994)\", [0, 0, 0, 0, 0, 0, 0, 0, 1, 0, 0, 0, 0, 0, 0, 0, 1, 0, 0], 0.003436426116838488, 2.6666666666666665), 1371: ('Machine, The (1994)', [0, 0, 0, 0, 0, 1, 0, 0, 0, 0, 0, 1, 0, 0, 0, 0, 0, 0, 0], 0.001718213058419244, 1.5), 1372: ('Stranger, The (1994)', [0, 1, 0, 0, 0, 0, 0, 0, 0, 0, 0, 0, 0, 0, 0, 0, 0, 0, 0], 0.003436426116838488, 3.0), 1373: ('Good Morning (1971)', [1, 0, 0, 0, 0, 0, 0, 0, 0, 0, 0, 0, 0, 0, 0, 0, 0, 0, 0], 0.0, 1.0), 1374: ('Falling in Love Again (1980)', [0, 0, 0, 0, 0, 1, 0, 0, 0, 0, 0, 0, 0, 0, 0, 0, 0, 0, 0], 0.001718213058419244, 1.0), 1375: ('Cement Garden, The (1993)', [0, 0, 0, 0, 0, 0, 0, 0, 1, 0, 0, 0, 0, 0, 0, 0, 0, 0, 0], 0.015463917525773196, 3.6), 1376: ('Meet Wally Sparks (1997)', [0, 0, 0, 0, 0, 1, 0, 0, 0, 0, 0, 0, 0, 0, 0, 0, 0, 0, 0], 0.010309278350515464, 2.142857142857143), 1377: ('Hotel de Love (1996)', [0, 0, 0, 0, 0, 1, 0, 0, 0, 0, 0, 0, 0, 0, 1, 0, 0, 0, 0], 0.005154639175257732, 3.25), 1378: ('Rhyme & Reason (1997)', [0, 0, 0, 0, 0, 0, 0, 1, 0, 0, 0, 0, 0, 0, 0, 0, 0, 0, 0], 0.006872852233676976, 2.2), 1379: ('Love and Other Catastrophes (1996)', [0, 0, 0, 0, 0, 0, 0, 0, 0, 0, 0, 0, 0, 0, 1, 0, 0, 0, 0], 0.010309278350515464, 2.857142857142857), 1380: ('Hollow Reed (1996)', [0, 0, 0, 0, 0, 0, 0, 0, 1, 0, 0, 0, 0, 0, 0, 0, 0, 0, 0], 0.00859106529209622, 2.3333333333333335), 1381: ('Losing Chase (1996)', [0, 0, 0, 0, 0, 0, 0, 0, 1, 0, 0, 0, 0, 0, 0, 0, 0, 0, 0], 0.012027491408934709, 3.25), 1382: ('Bonheur, Le (1965)', [0, 0, 0, 0, 0, 0, 0, 0, 1, 0, 0, 0, 0, 0, 0, 0, 0, 0, 0], 0.005154639175257732, 2.0), 1383: ('Second Jungle Book: Mowgli & Baloo, The (1997)', [0, 0, 1, 0, 1, 0, 0, 0, 0, 0, 0, 0, 0, 0, 0, 0, 0, 0, 0], 0.00859106529209622, 2.0), 1384: ('Squeeze (1996)', [0, 0, 0, 0, 0, 0, 0, 0, 1, 0, 0, 0, 0, 0, 0, 0, 0, 0, 0], 0.003436426116838488, 1.6666666666666667), 1385: (\"Roseanna's Grave (For Roseanna) (1997)\", [0, 0, 0, 0, 0, 1, 0, 0, 0, 0, 0, 0, 0, 0, 1, 0, 0, 0, 0], 0.006872852233676976, 2.8), 1386: ('Tetsuo II: Body Hammer (1992)', [0, 0, 0, 0, 0, 0, 0, 0, 0, 0, 0, 0, 0, 0, 0, 1, 0, 0, 0], 0.00859106529209622, 2.6666666666666665), 1387: ('Fall (1997)', [0, 0, 0, 0, 0, 0, 0, 0, 0, 0, 0, 0, 0, 0, 1, 0, 0, 0, 0], 0.003436426116838488, 2.0), 1388: ('Gabbeh (1996)', [0, 0, 0, 0, 0, 0, 0, 0, 1, 0, 0, 0, 0, 0, 0, 0, 0, 0, 0], 0.00859106529209622, 3.3333333333333335), 1389: ('Mondo (1996)', [0, 0, 0, 0, 0, 0, 0, 0, 1, 0, 0, 0, 0, 0, 0, 0, 0, 0, 0], 0.003436426116838488, 3.0), 1390: ('Innocent Sleep, The (1995)', [0, 0, 0, 0, 0, 0, 1, 0, 0, 0, 0, 0, 0, 0, 0, 0, 0, 0, 0], 0.001718213058419244, 2.0), 1391: ('For Ever Mozart (1996)', [0, 0, 0, 0, 0, 0, 0, 0, 1, 0, 0, 0, 0, 0, 0, 0, 0, 0, 0], 0.003436426116838488, 2.0), 1392: ('Locusts, The (1997)', [0, 0, 0, 0, 0, 0, 0, 0, 1, 0, 0, 0, 0, 0, 0, 0, 0, 0, 0], 0.006872852233676976, 2.0), 1393: ('Stag (1997)', [0, 1, 0, 0, 0, 0, 0, 0, 0, 0, 0, 0, 0, 0, 0, 0, 1, 0, 0], 0.013745704467353952, 2.111111111111111), 1394: ('Swept from the Sea (1997)', [0, 0, 0, 0, 0, 0, 0, 0, 0, 0, 0, 0, 0, 0, 1, 0, 0, 0, 0], 0.010309278350515464, 2.4285714285714284), 1395: ('Hurricane Streets (1998)', [0, 0, 0, 0, 0, 0, 0, 0, 1, 0, 0, 0, 0, 0, 0, 0, 0, 0, 0], 0.00859106529209622, 2.3333333333333335), 1396: ('Stonewall (1995)', [0, 0, 0, 0, 0, 0, 0, 0, 1, 0, 0, 0, 0, 0, 0, 0, 0, 0, 0], 0.006872852233676976, 4.2), 1397: ('Of Human Bondage (1934)', [0, 0, 0, 0, 0, 0, 0, 0, 1, 0, 0, 0, 0, 0, 0, 0, 0, 0, 0], 0.006872852233676976, 3.2), 1398: ('Anna (1996)', [0, 0, 0, 0, 0, 0, 0, 0, 1, 0, 0, 0, 0, 0, 0, 0, 0, 0, 0], 0.001718213058419244, 4.5), 1399: ('Stranger in the House (1997)', [0, 0, 0, 0, 0, 0, 0, 0, 0, 0, 0, 0, 0, 0, 0, 0, 1, 0, 0], 0.010309278350515464, 2.4285714285714284), 1400: ('Picture Bride (1995)', [0, 0, 0, 0, 0, 0, 0, 0, 1, 0, 0, 0, 0, 0, 1, 0, 0, 0, 0], 0.015463917525773196, 3.1), 1401: ('M. Butterfly (1993)', [0, 0, 0, 0, 0, 0, 0, 0, 1, 0, 0, 0, 0, 0, 0, 0, 0, 0, 0], 0.029209621993127148, 3.2222222222222223), 1402: ('Ciao, Professore! (1993)', [0, 0, 0, 0, 0, 0, 0, 0, 1, 0, 0, 0, 0, 0, 0, 0, 0, 0, 0], 0.005154639175257732, 2.75), 1403: ('Caro Diario (Dear Diary) (1994)', [0, 0, 0, 0, 0, 1, 0, 0, 1, 0, 0, 0, 0, 0, 0, 0, 0, 0, 0], 0.005154639175257732, 2.75), 1404: ('Withnail and I (1987)', [0, 0, 0, 0, 0, 1, 0, 0, 0, 0, 0, 0, 0, 0, 0, 0, 0, 0, 0], 0.020618556701030927, 3.230769230769231), 1405: (\"Boy's Life 2 (1997)\", [0, 0, 0, 0, 0, 0, 0, 0, 1, 0, 0, 0, 0, 0, 0, 0, 0, 0, 0], 0.00859106529209622, 3.3333333333333335), 1406: ('When Night Is Falling (1995)', [0, 0, 0, 0, 0, 0, 0, 0, 1, 0, 0, 0, 0, 0, 1, 0, 0, 0, 0], 0.006872852233676976, 3.4), 1407: ('Specialist, The (1994)', [0, 1, 0, 0, 0, 0, 0, 0, 0, 0, 0, 0, 0, 0, 0, 0, 0, 0, 0], 0.03264604810996564, 2.25), 1408: ('Gordy (1995)', [0, 0, 0, 0, 0, 1, 0, 0, 0, 0, 0, 0, 0, 0, 0, 0, 0, 0, 0], 0.003436426116838488, 1.0), 1409: ('Swan Princess, The (1994)', [0, 0, 0, 1, 1, 0, 0, 0, 0, 0, 0, 0, 0, 0, 0, 0, 0, 0, 0], 0.010309278350515464, 2.857142857142857), 1410: ('Harlem (1993)', [0, 0, 0, 0, 0, 0, 0, 0, 1, 0, 0, 0, 0, 0, 0, 0, 0, 0, 0], 0.005154639175257732, 2.75), 1411: ('Barbarella (1968)', [0, 0, 1, 0, 0, 0, 0, 0, 0, 0, 0, 0, 0, 0, 0, 1, 0, 0, 0], 0.04639175257731959, 2.5714285714285716), 1412: ('Land Before Time III: The Time of the Great Giving (1995) (V)', [0, 0, 0, 1, 1, 0, 0, 0, 0, 0, 0, 0, 0, 0, 0, 0, 0, 0, 0], 0.00859106529209622, 1.6666666666666667), 1413: ('Street Fighter (1994)', [0, 1, 0, 0, 0, 0, 0, 0, 0, 0, 0, 0, 0, 0, 0, 0, 0, 0, 0], 0.012027491408934709, 2.75), 1414: ('Coldblooded (1995)', [0, 1, 0, 0, 0, 0, 0, 0, 0, 0, 0, 0, 0, 0, 0, 0, 0, 0, 0], 0.0, 2.0), 1415: ('Next Karate Kid, The (1994)', [0, 1, 0, 0, 1, 0, 0, 0, 0, 0, 0, 0, 0, 0, 0, 0, 0, 0, 0], 0.013745704467353952, 2.4444444444444446), 1416: ('No Escape (1994)', [0, 1, 0, 0, 0, 0, 0, 0, 0, 0, 0, 0, 0, 0, 0, 1, 0, 0, 0], 0.006872852233676976, 2.4), 1417: ('Turning, The (1992)', [0, 0, 0, 0, 0, 0, 0, 0, 1, 0, 0, 0, 0, 0, 0, 0, 0, 0, 0], 0.001718213058419244, 2.5), 1418: ('Joy Luck Club, The (1993)', [0, 0, 0, 0, 0, 0, 0, 0, 1, 0, 0, 0, 0, 0, 0, 0, 0, 0, 0], 0.003436426116838488, 3.6666666666666665), 1419: ('Highlander III: The Sorcerer (1994)', [0, 1, 0, 0, 0, 0, 0, 0, 0, 0, 0, 0, 0, 0, 0, 1, 0, 0, 0], 0.02577319587628866, 2.125), 1420: (\"Gilligan's Island: The Movie (1998)\", [0, 0, 0, 0, 0, 1, 0, 0, 0, 0, 0, 0, 0, 0, 0, 0, 0, 0, 0], 0.003436426116838488, 1.3333333333333333), 1421: ('My Crazy Life (Mi vida loca) (1993)', [0, 0, 0, 0, 0, 0, 0, 0, 1, 0, 0, 0, 0, 0, 0, 0, 0, 0, 0], 0.01718213058419244, 3.1818181818181817), 1422: ('Suture (1993)', [0, 0, 0, 0, 0, 0, 0, 0, 0, 0, 1, 0, 0, 0, 0, 0, 1, 0, 0], 0.005154639175257732, 2.25), 1423: ('Walking Dead, The (1995)', [0, 0, 0, 0, 0, 0, 0, 0, 1, 0, 0, 0, 0, 0, 0, 0, 0, 1, 0], 0.005154639175257732, 2.25), 1424: ('I Like It Like That (1994)', [0, 0, 0, 0, 0, 1, 0, 0, 1, 0, 0, 0, 0, 0, 1, 0, 0, 0, 0], 0.003436426116838488, 2.3333333333333335), 1425: (\"I'll Do Anything (1994)\", [0, 0, 0, 0, 0, 1, 0, 0, 1, 0, 0, 0, 0, 0, 0, 0, 0, 0, 0], 0.015463917525773196, 2.6), 1426: ('Grace of My Heart (1996)', [0, 0, 0, 0, 0, 1, 0, 0, 1, 0, 0, 0, 0, 0, 0, 0, 0, 0, 0], 0.012027491408934709, 3.25), 1427: ('Drunks (1995)', [0, 0, 0, 0, 0, 0, 0, 0, 1, 0, 0, 0, 0, 0, 0, 0, 0, 0, 0], 0.006872852233676976, 2.8), 1428: ('SubUrbia (1997)', [0, 0, 0, 0, 0, 1, 0, 0, 0, 0, 0, 0, 0, 0, 0, 0, 0, 0, 0], 0.018900343642611683, 3.6666666666666665), 1429: ('Sliding Doors (1998)', [0, 0, 0, 0, 0, 0, 0, 0, 1, 0, 0, 0, 0, 0, 1, 0, 0, 0, 0], 0.005154639175257732, 2.75), 1430: ('Ill Gotten Gains (1997)', [0, 0, 0, 0, 0, 0, 0, 0, 1, 0, 0, 0, 0, 0, 0, 0, 0, 0, 0], 0.003436426116838488, 2.3333333333333335), 1431: ('Legal Deceit (1997)', [0, 0, 0, 0, 0, 0, 0, 0, 0, 0, 0, 0, 0, 0, 0, 0, 1, 0, 0], 0.006872852233676976, 3.4), 1432: ('Mighty, The (1998)', [0, 0, 0, 0, 0, 0, 0, 0, 1, 0, 0, 0, 0, 0, 0, 0, 0, 0, 0], 0.003436426116838488, 1.0), 1433: ('Men of Means (1998)', [0, 1, 0, 0, 0, 0, 0, 0, 1, 0, 0, 0, 0, 0, 0, 0, 0, 0, 0], 0.001718213058419244, 2.0), 1434: ('Shooting Fish (1997)', [0, 0, 0, 0, 0, 0, 0, 0, 0, 0, 0, 0, 0, 0, 1, 0, 0, 0, 0], 0.015463917525773196, 2.5), 1435: ('Steal Big, Steal Little (1995)', [0, 0, 0, 0, 0, 1, 0, 0, 0, 0, 0, 0, 0, 0, 0, 0, 0, 0, 0], 0.010309278350515464, 2.5714285714285716), 1436: ('Mr. Jones (1993)', [0, 0, 0, 0, 0, 0, 0, 0, 1, 0, 0, 0, 0, 0, 1, 0, 0, 0, 0], 0.001718213058419244, 2.5), 1437: ('House Party 3 (1994)', [0, 0, 0, 0, 0, 1, 0, 0, 0, 0, 0, 0, 0, 0, 0, 0, 0, 0, 0], 0.013745704467353952, 2.0), 1438: ('Panther (1995)', [0, 0, 0, 0, 0, 0, 0, 0, 1, 0, 0, 0, 0, 0, 0, 0, 0, 0, 0], 0.006872852233676976, 2.4), 1439: (\"Jason's Lyric (1994)\", [0, 0, 0, 0, 0, 0, 1, 0, 1, 0, 0, 0, 0, 0, 0, 0, 0, 0, 0], 0.012027491408934709, 3.0), 1440: ('Above the Rim (1994)', [0, 0, 0, 0, 0, 0, 0, 0, 1, 0, 0, 0, 0, 0, 0, 0, 0, 0, 0], 0.006872852233676976, 3.0), 1441: ('Moonlight and Valentino (1995)', [0, 0, 0, 0, 0, 0, 0, 0, 1, 0, 0, 0, 0, 0, 1, 0, 0, 0, 0], 0.010309278350515464, 2.5714285714285716), 1442: ('Scarlet Letter, The (1995)', [0, 0, 0, 0, 0, 0, 0, 0, 1, 0, 0, 0, 0, 0, 0, 0, 0, 0, 0], 0.006872852233676976, 2.4), 1443: ('8 Seconds (1994)', [0, 0, 0, 0, 0, 0, 0, 0, 1, 0, 0, 0, 0, 0, 0, 0, 0, 0, 0], 0.005154639175257732, 3.75), 1444: ('That Darn Cat! (1965)', [0, 0, 0, 0, 1, 1, 0, 0, 0, 0, 0, 0, 0, 1, 0, 0, 0, 0, 0], 0.030927835051546393, 2.473684210526316), 1445: ('Ladybird Ladybird (1994)', [0, 0, 0, 0, 0, 0, 0, 0, 1, 0, 0, 0, 0, 0, 0, 0, 0, 0, 0], 0.005154639175257732, 2.75), 1446: ('Bye Bye, Love (1995)', [0, 0, 0, 0, 0, 1, 0, 0, 0, 0, 0, 0, 0, 0, 0, 0, 0, 0, 0], 0.024054982817869417, 3.1333333333333333), 1447: ('Century (1993)', [0, 0, 0, 0, 0, 0, 0, 0, 1, 0, 0, 0, 0, 0, 0, 0, 0, 0, 0], 0.0, 3.0), 1448: ('My Favorite Season (1993)', [0, 0, 0, 0, 0, 0, 0, 0, 1, 0, 0, 0, 0, 0, 0, 0, 0, 0, 0], 0.003436426116838488, 3.6666666666666665), 1449: ('Pather Panchali (1955)', [0, 0, 0, 0, 0, 0, 0, 0, 1, 0, 0, 0, 0, 0, 0, 0, 0, 0, 0], 0.012027491408934709, 4.625), 1450: ('Golden Earrings (1947)', [0, 0, 1, 0, 0, 0, 0, 0, 0, 0, 0, 0, 0, 0, 1, 0, 0, 0, 0], 0.001718213058419244, 4.0), 1451: ('Foreign Correspondent (1940)', [0, 0, 0, 0, 0, 0, 0, 0, 0, 0, 0, 0, 0, 0, 0, 0, 1, 0, 0], 0.024054982817869417, 3.8666666666666667), 1452: ('Lady of Burlesque (1943)', [0, 0, 0, 0, 0, 1, 0, 0, 0, 0, 0, 0, 0, 1, 0, 0, 0, 0, 0], 0.0, 4.0), 1453: ('Angel on My Shoulder (1946)', [0, 0, 0, 0, 0, 0, 1, 0, 1, 0, 0, 0, 0, 0, 0, 0, 0, 0, 0], 0.0, 2.0), 1454: ('Angel and the Badman (1947)', [0, 0, 0, 0, 0, 0, 0, 0, 0, 0, 0, 0, 0, 0, 0, 0, 0, 0, 1], 0.00859106529209622, 3.0), 1455: ('Outlaw, The (1943)', [0, 0, 0, 0, 0, 0, 0, 0, 0, 0, 0, 0, 0, 0, 0, 0, 0, 0, 1], 0.001718213058419244, 2.5), 1456: ('Beat the Devil (1954)', [0, 0, 0, 0, 0, 1, 0, 0, 1, 0, 0, 0, 0, 0, 0, 0, 0, 0, 0], 0.010309278350515464, 3.7142857142857144), 1457: ('Love Is All There Is (1996)', [0, 0, 0, 0, 0, 1, 0, 0, 1, 0, 0, 0, 0, 0, 0, 0, 0, 0, 0], 0.0, 3.0), 1458: ('Damsel in Distress, A (1937)', [0, 0, 0, 0, 0, 1, 0, 0, 0, 0, 0, 0, 1, 0, 1, 0, 0, 0, 0], 0.0, 4.0), 1459: ('Madame Butterfly (1995)', [0, 0, 0, 0, 0, 0, 0, 0, 0, 0, 0, 0, 1, 0, 0, 0, 0, 0, 0], 0.010309278350515464, 3.5714285714285716), 1460: ('Sleepover (1995)', [0, 0, 0, 0, 0, 1, 0, 0, 1, 0, 0, 0, 0, 0, 0, 0, 0, 0, 0], 0.0, 3.0), 1461: ('Here Comes Cookie (1935)', [0, 0, 0, 0, 0, 1, 0, 0, 0, 0, 0, 0, 0, 0, 0, 0, 0, 0, 0], 0.0, 2.0), 1462: ('Thieves (Voleurs, Les) (1996)', [0, 0, 0, 0, 0, 0, 1, 0, 1, 0, 0, 0, 0, 0, 1, 0, 0, 0, 0], 0.010309278350515464, 3.7142857142857144), 1463: ('Boys, Les (1997)', [0, 0, 0, 0, 0, 1, 0, 0, 0, 0, 0, 0, 0, 0, 0, 0, 0, 0, 0], 0.003436426116838488, 3.3333333333333335), 1464: ('Stars Fell on Henrietta, The (1995)', [0, 0, 0, 0, 0, 0, 0, 0, 1, 0, 0, 0, 0, 0, 0, 0, 0, 0, 0], 0.003436426116838488, 2.3333333333333335), 1465: ('Last Summer in the Hamptons (1995)', [0, 0, 0, 0, 0, 1, 0, 0, 1, 0, 0, 0, 0, 0, 0, 0, 0, 0, 0], 0.003436426116838488, 2.3333333333333335), 1466: (\"Margaret's Museum (1995)\", [0, 0, 0, 0, 0, 0, 0, 0, 1, 0, 0, 0, 0, 0, 0, 0, 0, 0, 0], 0.00859106529209622, 4.0), 1467: ('Saint of Fort Washington, The (1993)', [0, 0, 0, 0, 0, 0, 0, 0, 1, 0, 0, 0, 0, 0, 0, 0, 0, 0, 0], 0.001718213058419244, 5.0), 1468: ('Cure, The (1995)', [0, 0, 0, 0, 0, 0, 0, 0, 1, 0, 0, 0, 0, 0, 0, 0, 0, 0, 0], 0.00859106529209622, 3.3333333333333335), 1469: ('Tom and Huck (1995)', [0, 0, 1, 0, 1, 0, 0, 0, 0, 0, 0, 0, 0, 0, 0, 0, 0, 0, 0], 0.018900343642611683, 3.1666666666666665), 1470: ('Gumby: The Movie (1995)', [0, 0, 0, 1, 1, 0, 0, 0, 0, 0, 0, 0, 0, 0, 0, 0, 0, 0, 0], 0.006872852233676976, 2.6), 1471: ('Hideaway (1995)', [0, 0, 0, 0, 0, 0, 0, 0, 0, 0, 0, 0, 0, 0, 0, 0, 1, 0, 0], 0.013745704467353952, 2.4444444444444446), 1472: ('Visitors, The (Visiteurs, Les) (1993)', [0, 0, 0, 0, 0, 1, 0, 0, 0, 0, 0, 0, 0, 0, 0, 1, 0, 0, 0], 0.001718213058419244, 3.5), 1473: ('Little Princess, The (1939)', [0, 0, 0, 0, 1, 0, 0, 0, 1, 0, 0, 0, 0, 0, 0, 0, 0, 0, 0], 0.013745704467353952, 3.5555555555555554), 1474: ('Nina Takes a Lover (1994)', [0, 0, 0, 0, 0, 1, 0, 0, 0, 0, 0, 0, 0, 0, 1, 0, 0, 0, 0], 0.00859106529209622, 2.8333333333333335), 1475: ('Bhaji on the Beach (1993)', [0, 0, 0, 0, 0, 1, 0, 0, 1, 0, 0, 0, 0, 0, 0, 0, 0, 0, 0], 0.012027491408934709, 2.875), 1476: ('Raw Deal (1948)', [0, 0, 0, 0, 0, 0, 0, 0, 0, 0, 1, 0, 0, 0, 0, 0, 0, 0, 0], 0.0, 2.0), 1477: ('Nightwatch (1997)', [0, 0, 0, 0, 0, 0, 0, 0, 0, 0, 0, 1, 0, 0, 0, 0, 1, 0, 0], 0.001718213058419244, 2.5), 1478: ('Dead Presidents (1995)', [0, 1, 0, 0, 0, 0, 1, 0, 1, 0, 0, 0, 0, 0, 0, 0, 0, 0, 0], 0.029209621993127148, 2.7222222222222223), 1479: ('Reckless (1995)', [0, 0, 0, 0, 0, 1, 0, 0, 0, 0, 0, 0, 0, 0, 0, 0, 0, 0, 0], 0.012027491408934709, 2.75), 1480: ('Herbie Rides Again (1974)', [0, 0, 1, 0, 1, 1, 0, 0, 0, 0, 0, 0, 0, 0, 0, 0, 0, 0, 0], 0.01718213058419244, 2.272727272727273), 1481: ('S.F.W. (1994)', [0, 0, 0, 0, 0, 0, 0, 0, 1, 0, 0, 0, 0, 0, 0, 0, 0, 0, 0], 0.001718213058419244, 3.0), 1482: ('Gate of Heavenly Peace, The (1995)', [0, 0, 0, 0, 0, 0, 0, 1, 0, 0, 0, 0, 0, 0, 0, 0, 0, 0, 0], 0.0, 4.0), 1483: ('Man in the Iron Mask, The (1998)', [0, 1, 0, 0, 0, 0, 0, 0, 1, 0, 0, 0, 0, 0, 1, 0, 0, 0, 0], 0.018900343642611683, 3.4166666666666665), 1484: ('Jerky Boys, The (1994)', [0, 1, 0, 0, 0, 1, 0, 0, 0, 0, 0, 0, 0, 0, 0, 0, 0, 0, 0], 0.003436426116838488, 2.6666666666666665), 1485: ('Colonel Chabert, Le (1994)', [0, 0, 0, 0, 0, 0, 0, 0, 1, 0, 0, 0, 0, 0, 1, 0, 0, 1, 0], 0.005154639175257732, 3.5), 1486: ('Girl in the Cadillac (1995)', [0, 0, 0, 0, 0, 0, 0, 0, 1, 0, 0, 0, 0, 0, 0, 0, 0, 0, 0], 0.0, 1.0), 1487: ('Even Cowgirls Get the Blues (1993)', [0, 0, 0, 0, 0, 1, 0, 0, 0, 0, 0, 0, 0, 0, 1, 0, 0, 0, 0], 0.006872852233676976, 2.0), 1488: ('Germinal (1993)', [0, 0, 0, 0, 0, 0, 0, 0, 1, 0, 0, 0, 0, 0, 0, 0, 0, 0, 0], 0.005154639175257732, 3.0), 1489: ('Chasers (1994)', [0, 0, 0, 0, 0, 1, 0, 0, 0, 0, 0, 0, 0, 0, 0, 0, 0, 0, 0], 0.006872852233676976, 2.2), 1490: ('Fausto (1993)', [0, 0, 0, 0, 0, 1, 0, 0, 0, 0, 0, 0, 0, 0, 0, 0, 0, 0, 0], 0.003436426116838488, 3.0), 1491: ('Tough and Deadly (1995)', [0, 1, 0, 0, 0, 0, 0, 0, 1, 0, 0, 0, 0, 0, 0, 0, 1, 0, 0], 0.001718213058419244, 3.0), 1492: ('Window to Paris (1994)', [0, 0, 0, 0, 0, 1, 0, 0, 0, 0, 0, 0, 0, 0, 0, 0, 0, 0, 0], 0.0, 4.0), 1493: ('Modern Affair, A (1995)', [0, 0, 0, 0, 0, 0, 0, 0, 0, 0, 0, 0, 0, 0, 1, 0, 0, 0, 0], 0.0, 1.0), 1494: ('Mostro, Il (1994)', [0, 0, 0, 0, 0, 1, 0, 0, 0, 0, 0, 0, 0, 0, 0, 0, 0, 0, 0], 0.0, 1.0), 1495: ('Flirt (1995)', [0, 0, 0, 0, 0, 0, 0, 0, 1, 0, 0, 0, 0, 0, 0, 0, 0, 0, 0], 0.006872852233676976, 3.6), 1496: ('Carpool (1996)', [0, 0, 0, 0, 0, 1, 1, 0, 0, 0, 0, 0, 0, 0, 0, 0, 0, 0, 0], 0.006872852233676976, 2.8), 1497: ('Line King: Al Hirschfeld, The (1996)', [0, 0, 0, 0, 0, 0, 0, 1, 0, 0, 0, 0, 0, 0, 0, 0, 0, 0, 0], 0.001718213058419244, 3.0), 1498: ('Farmer & Chase (1995)', [0, 0, 0, 0, 0, 1, 0, 0, 0, 0, 0, 0, 0, 0, 0, 0, 0, 0, 0], 0.0, 4.0), 1499: ('Grosse Fatigue (1994)', [0, 0, 0, 0, 0, 1, 0, 0, 0, 0, 0, 0, 0, 0, 0, 0, 0, 0, 0], 0.005154639175257732, 3.25), 1500: ('Santa with Muscles (1996)', [0, 0, 0, 0, 0, 1, 0, 0, 0, 0, 0, 0, 0, 0, 0, 0, 0, 0, 0], 0.001718213058419244, 5.0), 1501: ('Prisoner of the Mountains (Kavkazsky Plennik) (1996)', [0, 0, 0, 0, 0, 0, 0, 0, 0, 0, 0, 0, 0, 0, 0, 0, 0, 1, 0], 0.006872852233676976, 3.0), 1502: ('Naked in New York (1994)', [0, 0, 0, 0, 0, 1, 0, 0, 0, 0, 0, 0, 0, 0, 1, 0, 0, 0, 0], 0.001718213058419244, 1.5), 1503: ('Gold Diggers: The Secret of Bear Mountain (1995)', [0, 0, 1, 0, 1, 0, 0, 0, 0, 0, 0, 0, 0, 0, 0, 0, 0, 0, 0], 0.015463917525773196, 3.1), 1504: ('Bewegte Mann, Der (1994)', [0, 0, 0, 0, 0, 1, 0, 0, 0, 0, 0, 0, 0, 0, 0, 0, 0, 0, 0], 0.003436426116838488, 3.6666666666666665), 1505: ('Killer: A Journal of Murder (1995)', [0, 0, 0, 0, 0, 0, 1, 0, 1, 0, 0, 0, 0, 0, 0, 0, 0, 0, 0], 0.0, 4.0), 1506: ('Nelly & Monsieur Arnaud (1995)', [0, 0, 0, 0, 0, 0, 0, 0, 1, 0, 0, 0, 0, 0, 0, 0, 0, 0, 0], 0.003436426116838488, 3.6666666666666665), 1507: ('Three Lives and Only One Death (1996)', [0, 0, 0, 0, 0, 1, 0, 0, 0, 0, 0, 0, 0, 0, 0, 0, 0, 0, 0], 0.0, 3.0), 1508: ('Babysitter, The (1995)', [0, 0, 0, 0, 0, 0, 0, 0, 1, 0, 0, 0, 0, 0, 0, 0, 1, 0, 0], 0.003436426116838488, 2.3333333333333335), 1509: ('Getting Even with Dad (1994)', [0, 0, 0, 0, 0, 1, 0, 0, 0, 0, 0, 0, 0, 0, 0, 0, 0, 0, 0], 0.006872852233676976, 1.6), 1510: ('Mad Dog Time (1996)', [0, 0, 0, 0, 0, 0, 1, 0, 0, 0, 0, 0, 0, 0, 0, 0, 0, 0, 0], 0.0, 3.0), 1511: ('Children of the Revolution (1996)', [0, 0, 0, 0, 0, 1, 0, 0, 0, 0, 0, 0, 0, 0, 0, 0, 0, 0, 0], 0.006872852233676976, 3.2), 1512: ('World of Apu, The (Apur Sansar) (1959)', [0, 0, 0, 0, 0, 0, 0, 0, 1, 0, 0, 0, 0, 0, 0, 0, 0, 0, 0], 0.00859106529209622, 4.0), 1513: ('Sprung (1997)', [0, 0, 0, 0, 0, 1, 0, 0, 0, 0, 0, 0, 0, 0, 0, 0, 0, 0, 0], 0.003436426116838488, 2.0), 1514: ('Dream With the Fishes (1997)', [0, 0, 0, 0, 0, 0, 0, 0, 1, 0, 0, 0, 0, 0, 0, 0, 0, 0, 0], 0.010309278350515464, 3.142857142857143), 1515: ('Wings of Courage (1995)', [0, 0, 1, 0, 0, 0, 0, 0, 0, 0, 0, 0, 0, 0, 1, 0, 0, 0, 0], 0.0, 4.0), 1516: ('Wedding Gift, The (1994)', [0, 0, 0, 0, 0, 0, 0, 0, 1, 0, 0, 0, 0, 0, 0, 0, 0, 0, 0], 0.003436426116838488, 4.0), 1517: ('Race the Sun (1996)', [0, 0, 0, 0, 0, 0, 0, 0, 1, 0, 0, 0, 0, 0, 0, 0, 0, 0, 0], 0.006872852233676976, 2.8), 1518: ('Losing Isaiah (1995)', [0, 0, 0, 0, 0, 0, 0, 0, 1, 0, 0, 0, 0, 0, 0, 0, 0, 0, 0], 0.018900343642611683, 3.0), 1519: ('New Jersey Drive (1995)', [0, 0, 0, 0, 0, 0, 1, 0, 1, 0, 0, 0, 0, 0, 0, 0, 0, 0, 0], 0.001718213058419244, 3.0), 1520: ('Fear, The (1995)', [0, 0, 0, 0, 0, 0, 0, 0, 0, 0, 0, 1, 0, 0, 0, 0, 0, 0, 0], 0.0, 3.0), 1521: ('Mr. Wonderful (1993)', [0, 0, 0, 0, 0, 1, 0, 0, 0, 0, 0, 0, 0, 0, 1, 0, 0, 0, 0], 0.005154639175257732, 3.0), 1522: ('Trial by Jury (1994)', [0, 0, 0, 0, 0, 0, 0, 0, 0, 0, 0, 0, 0, 0, 0, 0, 1, 0, 0], 0.010309278350515464, 2.4285714285714284), 1523: ('Good Man in Africa, A (1994)', [0, 1, 1, 0, 0, 0, 0, 0, 0, 0, 0, 0, 0, 0, 0, 0, 0, 0, 0], 0.001718213058419244, 3.0), 1524: ('Kaspar Hauser (1993)', [0, 0, 0, 0, 0, 0, 0, 0, 1, 0, 0, 0, 0, 0, 0, 0, 0, 0, 0], 0.012027491408934709, 4.25), 1525: ('Object of My Affection, The (1998)', [0, 0, 0, 0, 0, 1, 0, 0, 0, 0, 0, 0, 0, 0, 1, 0, 0, 0, 0], 0.0, 4.0), 1526: ('Witness (1985)', [0, 0, 0, 0, 0, 0, 0, 0, 1, 0, 0, 0, 0, 0, 1, 0, 1, 0, 0], 0.0, 4.0), 1527: ('Senseless (1998)', [0, 0, 0, 0, 0, 1, 0, 0, 0, 0, 0, 0, 0, 0, 0, 0, 0, 0, 0], 0.010309278350515464, 2.4285714285714284), 1528: ('Nowhere (1997)', [0, 0, 0, 0, 0, 0, 0, 0, 1, 0, 0, 0, 0, 0, 0, 0, 0, 0, 0], 0.003436426116838488, 2.3333333333333335), 1529: ('Underground (1995)', [0, 0, 0, 0, 0, 0, 0, 0, 0, 0, 0, 0, 0, 0, 0, 0, 0, 1, 0], 0.006872852233676976, 2.8), 1530: ('Jefferson in Paris (1995)', [0, 0, 0, 0, 0, 0, 0, 0, 1, 0, 0, 0, 0, 0, 0, 0, 0, 0, 0], 0.006872852233676976, 2.0), 1531: ('Far From Home: The Adventures of Yellow Dog (1995)', [0, 0, 1, 0, 1, 0, 0, 0, 0, 0, 0, 0, 0, 0, 0, 0, 0, 0, 0], 0.010309278350515464, 3.2857142857142856), 1532: ('Foreign Student (1994)', [0, 0, 0, 0, 0, 0, 0, 0, 1, 0, 0, 0, 0, 0, 0, 0, 0, 0, 0], 0.001718213058419244, 2.0), 1533: (\"I Don't Want to Talk About It (De eso no se habla) (1993)\", [0, 0, 0, 0, 0, 0, 0, 0, 1, 0, 0, 0, 0, 0, 0, 0, 0, 0, 0], 0.0, 4.0), 1534: ('Twin Town (1997)', [0, 0, 0, 0, 0, 1, 1, 0, 0, 0, 0, 0, 0, 0, 0, 0, 0, 0, 0], 0.00859106529209622, 2.1666666666666665), 1535: (\"Enfer, L' (1994)\", [0, 0, 0, 0, 0, 0, 0, 0, 1, 0, 0, 0, 0, 0, 0, 0, 0, 0, 0], 0.005154639175257732, 3.0), 1536: ('Aiqing wansui (1994)', [0, 0, 0, 0, 0, 0, 0, 0, 1, 0, 0, 0, 0, 0, 0, 0, 0, 0, 0], 0.0, 5.0), 1537: ('Cosi (1996)', [0, 0, 0, 0, 0, 1, 0, 0, 0, 0, 0, 0, 0, 0, 0, 0, 0, 0, 0], 0.005154639175257732, 4.0), 1538: ('All Over Me (1997)', [0, 0, 0, 0, 0, 0, 0, 0, 1, 0, 0, 0, 0, 0, 0, 0, 0, 0, 0], 0.003436426116838488, 3.0), 1539: ('Being Human (1993)', [0, 0, 0, 0, 0, 0, 0, 0, 1, 0, 0, 0, 0, 0, 0, 0, 0, 0, 0], 0.005154639175257732, 1.75), 1540: ('Amazing Panda Adventure, The (1995)', [0, 0, 1, 0, 1, 0, 0, 0, 0, 0, 0, 0, 0, 0, 0, 0, 0, 0, 0], 0.015463917525773196, 2.8), 1541: ('Beans of Egypt, Maine, The (1994)', [0, 0, 0, 0, 0, 0, 0, 0, 1, 0, 0, 0, 0, 0, 0, 0, 0, 0, 0], 0.001718213058419244, 3.5), 1542: ('Scarlet Letter, The (1926)', [0, 0, 0, 0, 0, 0, 0, 0, 1, 0, 0, 0, 0, 0, 0, 0, 0, 0, 0], 0.001718213058419244, 3.0), 1543: ('Johns (1996)', [0, 0, 0, 0, 0, 0, 0, 0, 1, 0, 0, 0, 0, 0, 0, 0, 0, 0, 0], 0.0, 3.0), 1544: ('It Takes Two (1995)', [0, 0, 0, 0, 0, 1, 0, 0, 0, 0, 0, 0, 0, 0, 0, 0, 0, 0, 0], 0.003436426116838488, 2.6666666666666665), 1545: ('Frankie Starlight (1995)', [0, 0, 0, 0, 0, 0, 0, 0, 1, 0, 0, 0, 0, 0, 1, 0, 0, 0, 0], 0.005154639175257732, 2.5), 1546: ('Shadows (Cienie) (1988)', [0, 0, 0, 0, 0, 0, 0, 0, 1, 0, 0, 0, 0, 0, 0, 0, 0, 0, 0], 0.0, 1.0), 1547: ('Show, The (1995)', [0, 0, 0, 0, 0, 0, 0, 1, 0, 0, 0, 0, 0, 0, 0, 0, 0, 0, 0], 0.001718213058419244, 3.0), 1548: ('The Courtyard (1995)', [0, 1, 0, 0, 0, 0, 0, 0, 0, 0, 0, 0, 0, 0, 0, 0, 1, 0, 0], 0.0, 1.0), 1549: ('Dream Man (1995)', [0, 0, 0, 0, 0, 0, 0, 0, 0, 0, 0, 0, 0, 0, 0, 0, 1, 0, 0], 0.001718213058419244, 1.5), 1550: ('Destiny Turns on the Radio (1995)', [0, 0, 0, 0, 0, 1, 0, 0, 0, 0, 0, 0, 0, 0, 0, 0, 0, 0, 0], 0.001718213058419244, 3.0), 1551: ('Glass Shield, The (1994)', [0, 0, 0, 0, 0, 0, 0, 0, 1, 0, 0, 0, 0, 0, 0, 0, 0, 0, 0], 0.001718213058419244, 2.0), 1552: ('Hunted, The (1995)', [0, 1, 0, 0, 0, 0, 0, 0, 0, 0, 0, 0, 0, 0, 0, 0, 0, 0, 0], 0.003436426116838488, 2.0), 1553: ('Underneath, The (1995)', [0, 0, 0, 0, 0, 0, 0, 0, 0, 0, 0, 0, 0, 1, 0, 0, 1, 0, 0], 0.005154639175257732, 2.75), 1554: ('Safe Passage (1994)', [0, 0, 0, 0, 0, 0, 0, 0, 1, 0, 0, 0, 0, 0, 0, 0, 0, 0, 0], 0.001718213058419244, 3.0), 1555: ('Secret Adventures of Tom Thumb, The (1993)', [0, 0, 1, 0, 1, 0, 0, 0, 0, 0, 0, 0, 0, 0, 0, 0, 0, 0, 0], 0.006872852233676976, 2.6), 1556: ('Condition Red (1995)', [0, 1, 0, 0, 0, 0, 0, 0, 1, 0, 0, 0, 0, 0, 0, 0, 1, 0, 0], 0.001718213058419244, 2.0), 1557: ('Yankee Zulu (1994)', [0, 0, 0, 0, 0, 1, 0, 0, 1, 0, 0, 0, 0, 0, 0, 0, 0, 0, 0], 0.0, 1.0), 1558: ('Aparajito (1956)', [0, 0, 0, 0, 0, 0, 0, 0, 1, 0, 0, 0, 0, 0, 0, 0, 0, 0, 0], 0.010309278350515464, 3.5714285714285716), 1559: ('Hostile Intentions (1994)', [0, 1, 0, 0, 0, 0, 0, 0, 1, 0, 0, 0, 0, 0, 0, 0, 1, 0, 0], 0.0, 1.0), 1560: ('Clean Slate (Coup de Torchon) (1981)', [0, 0, 0, 0, 0, 0, 1, 0, 0, 0, 0, 0, 0, 0, 0, 0, 0, 0, 0], 0.005154639175257732, 2.75), 1561: ('Tigrero: A Film That Was Never Made (1994)', [0, 0, 0, 0, 0, 0, 0, 1, 1, 0, 0, 0, 0, 0, 0, 0, 0, 0, 0], 0.0, 1.0), 1562: (\"Eye of Vichy, The (Oeil de Vichy, L') (1993)\", [0, 0, 0, 0, 0, 0, 0, 1, 0, 0, 0, 0, 0, 0, 0, 0, 0, 0, 0], 0.0, 1.0), 1563: ('Promise, The (Versprechen, Das) (1994)', [0, 0, 0, 0, 0, 0, 0, 0, 0, 0, 0, 0, 0, 0, 1, 0, 0, 0, 0], 0.0, 1.0), 1564: ('To Cross the Rubicon (1991)', [0, 0, 0, 0, 0, 0, 0, 0, 1, 0, 0, 0, 0, 0, 0, 0, 0, 0, 0], 0.0, 1.0), 1565: ('Daens (1992)', [0, 0, 0, 0, 0, 0, 0, 0, 1, 0, 0, 0, 0, 0, 0, 0, 0, 0, 0], 0.0, 1.0), 1566: ('Man from Down Under, The (1943)', [0, 0, 0, 0, 0, 0, 0, 0, 1, 0, 0, 0, 0, 0, 0, 0, 0, 0, 0], 0.0, 1.0), 1567: ('Careful (1992)', [0, 0, 0, 0, 0, 1, 0, 0, 0, 0, 0, 0, 0, 0, 0, 0, 0, 0, 0], 0.0, 1.0), 1568: ('Vermont Is For Lovers (1992)', [0, 0, 0, 0, 0, 1, 0, 0, 0, 0, 0, 0, 0, 0, 1, 0, 0, 0, 0], 0.0, 1.0), 1569: ('Vie est belle, La (Life is Rosey) (1987)', [0, 0, 0, 0, 0, 1, 0, 0, 1, 0, 0, 0, 0, 0, 0, 0, 0, 0, 0], 0.0, 1.0), 1570: ('Quartier Mozart (1992)', [0, 0, 0, 0, 0, 1, 0, 0, 0, 0, 0, 0, 0, 0, 0, 0, 0, 0, 0], 0.0, 1.0), 1571: ('Touki Bouki (Journey of the Hyena) (1973)', [0, 0, 0, 0, 0, 0, 0, 0, 1, 0, 0, 0, 0, 0, 0, 0, 0, 0, 0], 0.0, 1.0), 1572: (\"Wend Kuuni (God's Gift) (1982)\", [0, 0, 0, 0, 0, 0, 0, 0, 1, 0, 0, 0, 0, 0, 0, 0, 0, 0, 0], 0.0, 1.0), 1573: ('Spirits of the Dead (Tre passi nel delirio) (1968)', [0, 0, 0, 0, 0, 0, 0, 0, 0, 0, 0, 1, 0, 0, 0, 0, 0, 0, 0], 0.001718213058419244, 2.5), 1574: (\"Pharaoh's Army (1995)\", [0, 0, 0, 0, 0, 0, 0, 0, 0, 0, 0, 0, 0, 0, 0, 0, 0, 1, 0], 0.0, 1.0), 1575: ('I, Worst of All (Yo, la peor de todas) (1990)', [0, 0, 0, 0, 0, 0, 0, 0, 1, 0, 0, 0, 0, 0, 0, 0, 0, 0, 0], 0.0, 1.0), 1576: ('Hungarian Fairy Tale, A (1987)', [0, 0, 0, 0, 0, 0, 0, 0, 0, 1, 0, 0, 0, 0, 0, 0, 0, 0, 0], 0.0, 1.0), 1577: ('Death in the Garden (Mort en ce jardin, La) (1956)', [0, 0, 0, 0, 0, 0, 0, 0, 1, 0, 0, 0, 0, 0, 0, 0, 0, 0, 0], 0.0, 1.0), 1578: ('Collectionneuse, La (1967)', [0, 0, 0, 0, 0, 0, 0, 0, 1, 0, 0, 0, 0, 0, 0, 0, 0, 0, 0], 0.001718213058419244, 2.0), 1579: ('Baton Rouge (1988)', [0, 0, 0, 0, 0, 0, 0, 0, 0, 0, 0, 0, 0, 0, 0, 0, 1, 0, 0], 0.0, 1.0), 1580: ('Liebelei (1933)', [0, 0, 0, 0, 0, 0, 0, 0, 0, 0, 0, 0, 0, 0, 1, 0, 0, 0, 0], 0.0, 1.0), 1581: ('Woman in Question, The (1950)', [0, 0, 0, 0, 0, 0, 0, 0, 0, 0, 0, 0, 0, 1, 0, 0, 0, 0, 0], 0.0, 1.0), 1582: ('T-Men (1947)', [0, 0, 0, 0, 0, 0, 0, 0, 0, 0, 1, 0, 0, 0, 0, 0, 0, 0, 0], 0.0, 1.0), 1583: ('Invitation, The (Zaproszenie) (1986)', [0, 0, 0, 0, 0, 0, 0, 0, 1, 0, 0, 0, 0, 0, 0, 0, 0, 0, 0], 0.0, 1.0), 1584: ('Symphonie pastorale, La (1946)', [0, 0, 0, 0, 0, 0, 0, 0, 1, 0, 0, 0, 0, 0, 0, 0, 0, 0, 0], 0.0, 1.0), 1585: ('American Dream (1990)', [0, 0, 0, 0, 0, 0, 0, 1, 0, 0, 0, 0, 0, 0, 0, 0, 0, 0, 0], 0.001718213058419244, 2.5), 1586: ('Lashou shentan (1992)', [0, 1, 0, 0, 0, 0, 1, 0, 1, 0, 0, 0, 0, 0, 0, 0, 0, 0, 0], 0.0, 1.0), 1587: ('Terror in a Texas Town (1958)', [0, 0, 0, 0, 0, 0, 0, 0, 0, 0, 0, 0, 0, 0, 0, 0, 0, 0, 1], 0.0, 1.0), 1588: ('Salut cousin! (1996)', [0, 0, 0, 0, 0, 1, 0, 0, 1, 0, 0, 0, 0, 0, 0, 0, 0, 0, 0], 0.001718213058419244, 2.0), 1589: ('Schizopolis (1996)', [0, 0, 0, 0, 0, 1, 0, 0, 0, 0, 0, 0, 0, 0, 0, 0, 0, 0, 0], 0.005154639175257732, 3.0), 1590: ('To Have, or Not (1995)', [0, 0, 0, 0, 0, 0, 0, 0, 1, 0, 0, 0, 0, 0, 0, 0, 0, 0, 0], 0.001718213058419244, 2.0), 1591: ('Duoluo tianshi (1995)', [0, 0, 0, 0, 0, 0, 0, 0, 1, 0, 0, 0, 0, 0, 0, 0, 0, 0, 0], 0.00859106529209622, 3.1666666666666665), 1592: ('Magic Hour, The (1998)', [0, 0, 0, 0, 0, 0, 0, 0, 1, 0, 0, 0, 0, 0, 0, 0, 0, 0, 0], 0.006872852233676976, 3.6), 1593: ('Death in Brunswick (1991)', [0, 0, 0, 0, 0, 1, 0, 0, 0, 0, 0, 0, 0, 0, 0, 0, 0, 0, 0], 0.0, 4.0), 1594: ('Everest (1998)', [0, 0, 0, 0, 0, 0, 0, 1, 0, 0, 0, 0, 0, 0, 0, 0, 0, 0, 0], 0.001718213058419244, 4.5), 1595: ('Shopping (1994)', [0, 1, 0, 0, 0, 0, 0, 0, 0, 0, 0, 0, 0, 0, 0, 0, 1, 0, 0], 0.0, 2.0), 1596: ('Nemesis 2: Nebula (1995)', [0, 1, 0, 0, 0, 0, 0, 0, 0, 0, 0, 0, 0, 0, 0, 1, 1, 0, 0], 0.0, 2.0), 1597: ('Romper Stomper (1992)', [0, 1, 0, 0, 0, 0, 0, 0, 1, 0, 0, 0, 0, 0, 0, 0, 0, 0, 0], 0.006872852233676976, 3.0), 1598: ('City of Industry (1997)', [0, 0, 0, 0, 0, 0, 1, 0, 0, 0, 0, 0, 0, 0, 0, 0, 1, 0, 0], 0.00859106529209622, 2.5), 1599: (\"Someone Else's America (1995)\", [0, 0, 0, 0, 0, 0, 0, 0, 1, 0, 0, 0, 0, 0, 0, 0, 0, 0, 0], 0.0, 5.0), 1600: ('Guantanamera (1994)', [0, 0, 0, 0, 0, 1, 0, 0, 0, 0, 0, 0, 0, 0, 0, 0, 0, 0, 0], 0.005154639175257732, 3.75), 1601: ('Office Killer (1997)', [0, 0, 0, 0, 0, 0, 0, 0, 0, 0, 0, 0, 0, 0, 0, 0, 1, 0, 0], 0.0, 1.0), 1602: ('Price Above Rubies, A (1998)', [0, 0, 0, 0, 0, 0, 0, 0, 1, 0, 0, 0, 0, 0, 0, 0, 0, 0, 0], 0.003436426116838488, 3.3333333333333335), 1603: ('Angela (1995)', [0, 0, 0, 0, 0, 0, 0, 0, 1, 0, 0, 0, 0, 0, 0, 0, 0, 0, 0], 0.0, 3.0), 1604: ('He Walked by Night (1948)', [0, 0, 0, 0, 0, 0, 1, 0, 0, 0, 1, 0, 0, 0, 0, 0, 1, 0, 0], 0.0, 4.0), 1605: ('Love Serenade (1996)', [0, 0, 0, 0, 0, 1, 0, 0, 0, 0, 0, 0, 0, 0, 0, 0, 0, 0, 0], 0.005154639175257732, 3.0), 1606: ('Deceiver (1997)', [0, 0, 0, 0, 0, 0, 1, 0, 0, 0, 0, 0, 0, 0, 0, 0, 0, 0, 0], 0.0, 2.0), 1607: ('Hurricane Streets (1998)', [0, 0, 0, 0, 0, 0, 0, 0, 1, 0, 0, 0, 0, 0, 0, 0, 0, 0, 0], 0.003436426116838488, 3.3333333333333335), 1608: ('Buddy (1997)', [0, 0, 1, 0, 1, 0, 0, 0, 1, 0, 0, 0, 0, 0, 0, 0, 0, 0, 0], 0.005154639175257732, 2.25), 1609: ('B*A*P*S (1997)', [0, 0, 0, 0, 0, 1, 0, 0, 0, 0, 0, 0, 0, 0, 0, 0, 0, 0, 0], 0.003436426116838488, 1.6666666666666667), 1610: ('Truth or Consequences, N.M. (1997)', [0, 1, 0, 0, 0, 0, 1, 0, 0, 0, 0, 0, 0, 0, 1, 0, 0, 0, 0], 0.003436426116838488, 2.0), 1611: ('Intimate Relations (1996)', [0, 0, 0, 0, 0, 1, 0, 0, 0, 0, 0, 0, 0, 0, 0, 0, 0, 0, 0], 0.001718213058419244, 3.0), 1612: ('Leading Man, The (1996)', [0, 0, 0, 0, 0, 0, 0, 0, 0, 0, 0, 0, 0, 0, 1, 0, 0, 0, 0], 0.005154639175257732, 3.75), 1613: ('Tokyo Fist (1995)', [0, 1, 0, 0, 0, 0, 0, 0, 1, 0, 0, 0, 0, 0, 0, 0, 0, 0, 0], 0.0, 4.0), 1614: ('Reluctant Debutante, The (1958)', [0, 0, 0, 0, 0, 1, 0, 0, 1, 0, 0, 0, 0, 0, 0, 0, 0, 0, 0], 0.0, 3.0), 1615: ('Warriors of Virtue (1997)', [0, 1, 1, 0, 1, 0, 0, 0, 0, 1, 0, 0, 0, 0, 0, 0, 0, 0, 0], 0.015463917525773196, 3.0), 1616: ('Desert Winds (1995)', [0, 0, 0, 0, 0, 0, 0, 0, 1, 0, 0, 0, 0, 0, 0, 0, 0, 0, 0], 0.0, 4.0), 1617: ('Hugo Pool (1997)', [0, 0, 0, 0, 0, 0, 0, 0, 0, 0, 0, 0, 0, 0, 1, 0, 0, 0, 0], 0.001718213058419244, 3.0), 1618: ('King of New York (1990)', [0, 1, 0, 0, 0, 0, 1, 0, 0, 0, 0, 0, 0, 0, 0, 0, 0, 0, 0], 0.0, 1.0), 1619: ('All Things Fair (1996)', [0, 0, 0, 0, 0, 0, 0, 0, 1, 0, 0, 0, 0, 0, 0, 0, 0, 0, 0], 0.0, 3.0), 1620: ('Sixth Man, The (1997)', [0, 0, 0, 0, 0, 1, 0, 0, 0, 0, 0, 0, 0, 0, 0, 0, 0, 0, 0], 0.013745704467353952, 3.2222222222222223), 1621: ('Butterfly Kiss (1995)', [0, 0, 0, 0, 0, 0, 0, 0, 0, 0, 0, 0, 0, 0, 0, 0, 1, 0, 0], 0.0, 1.0), 1622: ('Paris, France (1993)', [0, 0, 0, 0, 0, 1, 0, 0, 0, 0, 0, 0, 0, 0, 0, 0, 0, 0, 0], 0.003436426116838488, 2.3333333333333335), 1623: ('Cérémonie, La (1995)', [0, 0, 0, 0, 0, 0, 0, 0, 1, 0, 0, 0, 0, 0, 0, 0, 0, 0, 0], 0.003436426116838488, 4.0), 1624: ('Hush (1998)', [0, 0, 0, 0, 0, 0, 0, 0, 0, 0, 0, 0, 0, 0, 0, 0, 1, 0, 0], 0.0, 2.0), 1625: ('Nightwatch (1997)', [0, 0, 0, 0, 0, 0, 0, 0, 0, 0, 0, 1, 0, 0, 0, 0, 1, 0, 0], 0.0, 4.0), 1626: ('Nobody Loves Me (Keiner liebt mich) (1994)', [0, 0, 0, 0, 0, 1, 0, 0, 1, 0, 0, 0, 0, 0, 0, 0, 0, 0, 0], 0.0, 1.0), 1627: ('Wife, The (1995)', [0, 0, 0, 0, 0, 1, 0, 0, 1, 0, 0, 0, 0, 0, 0, 0, 0, 0, 0], 0.0, 3.0), 1628: ('Lamerica (1994)', [0, 0, 0, 0, 0, 0, 0, 0, 1, 0, 0, 0, 0, 0, 0, 0, 0, 0, 0], 0.005154639175257732, 3.75), 1629: ('Nico Icon (1995)', [0, 0, 0, 0, 0, 0, 0, 1, 0, 0, 0, 0, 0, 0, 0, 0, 0, 0, 0], 0.001718213058419244, 4.0), 1630: ('Silence of the Palace, The (Saimt el Qusur) (1994)', [0, 0, 0, 0, 0, 0, 0, 0, 1, 0, 0, 0, 0, 0, 0, 0, 0, 0, 0], 0.0, 3.0), 1631: ('Slingshot, The (1993)', [0, 0, 0, 0, 0, 1, 0, 0, 1, 0, 0, 0, 0, 0, 0, 0, 0, 0, 0], 0.001718213058419244, 3.5), 1632: ('Land and Freedom (Tierra y libertad) (1995)', [0, 0, 0, 0, 0, 0, 0, 0, 0, 0, 0, 0, 0, 0, 0, 0, 0, 1, 0], 0.0, 3.0), 1633: ('Á köldum klaka (Cold Fever) (1994)', [0, 0, 0, 0, 0, 1, 0, 0, 1, 0, 0, 0, 0, 0, 0, 0, 0, 0, 0], 0.0, 3.0), 1634: ('Etz Hadomim Tafus (Under the Domin Tree) (1994)', [0, 0, 0, 0, 0, 0, 0, 0, 1, 0, 0, 0, 0, 0, 0, 0, 0, 0, 0], 0.0, 2.0), 1635: ('Two Friends (1986) ', [0, 0, 0, 0, 0, 0, 0, 0, 1, 0, 0, 0, 0, 0, 0, 0, 0, 0, 0], 0.0, 3.0), 1636: ('Brothers in Trouble (1995)', [0, 0, 0, 0, 0, 0, 0, 0, 1, 0, 0, 0, 0, 0, 0, 0, 0, 0, 0], 0.0, 4.0), 1637: ('Girls Town (1996)', [0, 0, 0, 0, 0, 0, 0, 0, 1, 0, 0, 0, 0, 0, 0, 0, 0, 0, 0], 0.0, 3.0), 1638: ('Normal Life (1996)', [0, 0, 0, 0, 0, 0, 1, 0, 1, 0, 0, 0, 0, 0, 0, 0, 0, 0, 0], 0.0, 3.0), 1639: ('Bitter Sugar (Azucar Amargo) (1996)', [0, 0, 0, 0, 0, 0, 0, 0, 1, 0, 0, 0, 0, 0, 0, 0, 0, 0, 0], 0.003436426116838488, 4.333333333333333), 1640: ('Eighth Day, The (1996)', [0, 0, 0, 0, 0, 0, 0, 0, 1, 0, 0, 0, 0, 0, 0, 0, 0, 0, 0], 0.0, 3.0), 1641: ('Dadetown (1995)', [0, 0, 0, 0, 0, 0, 0, 1, 0, 0, 0, 0, 0, 0, 0, 0, 0, 0, 0], 0.0, 3.0), 1642: (\"Some Mother's Son (1996)\", [0, 0, 0, 0, 0, 0, 0, 0, 1, 0, 0, 0, 0, 0, 0, 0, 0, 0, 0], 0.001718213058419244, 4.5), 1643: ('Angel Baby (1995)', [0, 0, 0, 0, 0, 0, 0, 0, 1, 0, 0, 0, 0, 0, 0, 0, 0, 0, 0], 0.005154639175257732, 3.75), 1644: ('Sudden Manhattan (1996)', [0, 0, 0, 0, 0, 1, 0, 0, 0, 0, 0, 0, 0, 0, 0, 0, 0, 0, 0], 0.001718213058419244, 1.5), 1645: ('Butcher Boy, The (1998)', [0, 0, 0, 0, 0, 0, 0, 0, 1, 0, 0, 0, 0, 0, 0, 0, 0, 0, 0], 0.0, 4.0), 1646: ('Men With Guns (1997)', [0, 1, 0, 0, 0, 0, 0, 0, 1, 0, 0, 0, 0, 0, 0, 0, 0, 0, 0], 0.001718213058419244, 3.5), 1647: ('Hana-bi (1997)', [0, 0, 0, 0, 0, 1, 1, 0, 1, 0, 0, 0, 0, 0, 0, 0, 0, 0, 0], 0.0, 3.0), 1648: ('Niagara, Niagara (1997)', [0, 0, 0, 0, 0, 0, 0, 0, 1, 0, 0, 0, 0, 0, 0, 0, 0, 0, 0], 0.0, 2.0), 1649: ('Big One, The (1997)', [0, 0, 0, 0, 0, 1, 0, 1, 0, 0, 0, 0, 0, 0, 0, 0, 0, 0, 0], 0.0, 3.0), 1650: ('Butcher Boy, The (1998)', [0, 0, 0, 0, 0, 0, 0, 0, 1, 0, 0, 0, 0, 0, 0, 0, 0, 0, 0], 0.0, 4.0), 1651: ('Spanish Prisoner, The (1997)', [0, 0, 0, 0, 0, 0, 0, 0, 1, 0, 0, 0, 0, 0, 0, 0, 1, 0, 0], 0.0, 4.0), 1652: ('Temptress Moon (Feng Yue) (1996)', [0, 0, 0, 0, 0, 0, 0, 0, 0, 0, 0, 0, 0, 0, 1, 0, 0, 0, 0], 0.003436426116838488, 1.6666666666666667), 1653: ('Entertaining Angels: The Dorothy Day Story (1996)', [0, 0, 0, 0, 0, 0, 0, 0, 1, 0, 0, 0, 0, 0, 0, 0, 0, 0, 0], 0.0, 5.0), 1654: ('Chairman of the Board (1998)', [0, 0, 0, 0, 0, 1, 0, 0, 0, 0, 0, 0, 0, 0, 0, 0, 0, 0, 0], 0.0, 1.0), 1655: ('Favor, The (1994)', [0, 0, 0, 0, 0, 1, 0, 0, 0, 0, 0, 0, 0, 0, 1, 0, 0, 0, 0], 0.0, 2.0), 1656: ('Little City (1998)', [0, 0, 0, 0, 0, 1, 0, 0, 0, 0, 0, 0, 0, 0, 1, 0, 0, 0, 0], 0.001718213058419244, 3.5), 1657: ('Target (1995)', [0, 1, 0, 0, 0, 0, 0, 0, 1, 0, 0, 0, 0, 0, 0, 0, 0, 0, 0], 0.0, 3.0), 1658: ('Substance of Fire, The (1996)', [0, 0, 0, 0, 0, 0, 0, 0, 1, 0, 0, 0, 0, 0, 0, 0, 0, 0, 0], 0.003436426116838488, 3.0), 1659: ('Getting Away With Murder (1996)', [0, 0, 0, 0, 0, 1, 0, 0, 0, 0, 0, 0, 0, 0, 0, 0, 0, 0, 0], 0.0, 1.0), 1660: ('Small Faces (1995)', [0, 0, 0, 0, 0, 0, 0, 0, 1, 0, 0, 0, 0, 0, 0, 0, 0, 0, 0], 0.0, 2.0), 1661: ('New Age, The (1994)', [0, 0, 0, 0, 0, 0, 0, 0, 1, 0, 0, 0, 0, 0, 0, 0, 0, 0, 0], 0.0, 1.0), 1662: ('Rough Magic (1995)', [0, 0, 0, 0, 0, 0, 0, 0, 1, 0, 0, 0, 0, 0, 1, 0, 0, 0, 0], 0.001718213058419244, 2.5), 1663: ('Nothing Personal (1995)', [0, 0, 0, 0, 0, 0, 0, 0, 1, 0, 0, 0, 0, 0, 0, 0, 0, 1, 0], 0.0, 2.0), 1664: ('8 Heads in a Duffel Bag (1997)', [0, 0, 0, 0, 0, 1, 0, 0, 0, 0, 0, 0, 0, 0, 0, 0, 0, 0, 0], 0.005154639175257732, 3.25), 1665: (\"Brother's Kiss, A (1997)\", [0, 0, 0, 0, 0, 0, 0, 0, 1, 0, 0, 0, 0, 0, 0, 0, 0, 0, 0], 0.0, 2.0), 1666: ('Ripe (1996)', [0, 0, 0, 0, 0, 0, 0, 0, 1, 0, 0, 0, 0, 0, 0, 0, 0, 0, 0], 0.0, 2.0), 1667: ('Next Step, The (1995)', [0, 0, 0, 0, 0, 0, 0, 0, 1, 0, 0, 0, 0, 0, 0, 0, 0, 0, 0], 0.0, 3.0), 1668: ('Wedding Bell Blues (1996)', [0, 0, 0, 0, 0, 1, 0, 0, 0, 0, 0, 0, 0, 0, 0, 0, 0, 0, 0], 0.0, 3.0), 1669: ('MURDER and murder (1996)', [0, 0, 0, 0, 0, 0, 1, 0, 1, 0, 0, 0, 0, 1, 0, 0, 0, 0, 0], 0.0, 2.0), 1670: ('Tainted (1998)', [0, 0, 0, 0, 0, 1, 0, 0, 0, 0, 0, 0, 0, 0, 0, 0, 1, 0, 0], 0.0, 3.0), 1671: ('Further Gesture, A (1996)', [0, 0, 0, 0, 0, 0, 0, 0, 1, 0, 0, 0, 0, 0, 0, 0, 0, 0, 0], 0.0, 1.0), 1672: ('Kika (1993)', [0, 0, 0, 0, 0, 0, 0, 0, 1, 0, 0, 0, 0, 0, 0, 0, 0, 0, 0], 0.001718213058419244, 2.0), 1673: ('Mirage (1995)', [0, 1, 0, 0, 0, 0, 0, 0, 0, 0, 0, 0, 0, 0, 0, 0, 1, 0, 0], 0.0, 3.0), 1674: ('Mamma Roma (1962)', [0, 0, 0, 0, 0, 0, 0, 0, 1, 0, 0, 0, 0, 0, 0, 0, 0, 0, 0], 0.0, 4.0), 1675: ('Sunchaser, The (1996)', [0, 0, 0, 0, 0, 0, 0, 0, 1, 0, 0, 0, 0, 0, 0, 0, 0, 0, 0], 0.0, 3.0), 1676: ('War at Home, The (1996)', [0, 0, 0, 0, 0, 0, 0, 0, 1, 0, 0, 0, 0, 0, 0, 0, 0, 0, 0], 0.0, 2.0), 1677: ('Sweet Nothing (1995)', [0, 0, 0, 0, 0, 0, 0, 0, 1, 0, 0, 0, 0, 0, 0, 0, 0, 0, 0], 0.0, 3.0), 1678: (\"Mat' i syn (1997)\", [0, 0, 0, 0, 0, 0, 0, 0, 1, 0, 0, 0, 0, 0, 0, 0, 0, 0, 0], 0.0, 1.0), 1679: ('B. Monkey (1998)', [0, 0, 0, 0, 0, 0, 0, 0, 0, 0, 0, 0, 0, 0, 1, 0, 1, 0, 0], 0.0, 3.0), 1680: ('Sliding Doors (1998)', [0, 0, 0, 0, 0, 0, 0, 0, 1, 0, 0, 0, 0, 0, 1, 0, 0, 0, 0], 0.0, 2.0), 1681: ('You So Crazy (1994)', [0, 0, 0, 0, 0, 1, 0, 0, 0, 0, 0, 0, 0, 0, 0, 0, 0, 0, 0], 0.0, 3.0), 1682: ('Scream of Stone (Schrei aus Stein) (1991)', [0, 0, 0, 0, 0, 0, 0, 0, 1, 0, 0, 0, 0, 0, 0, 0, 0, 0, 0], 0.0, 3.0)}\n"
     ]
    }
   ],
   "source": [
    "print(movieDict)"
   ]
  },
  {
   "cell_type": "code",
   "execution_count": 353,
   "metadata": {},
   "outputs": [],
   "source": [
    "# Function to calculate distances between movies\n",
    "def ComputeDistance(a, b):\n",
    "    genresA = a[1]\n",
    "    genresB = b[1]\n",
    "    genreDistance = spatial.distance.cosine(genresA, genresB)\n",
    "    popularityA = a[2]\n",
    "    popularityB = b[2]\n",
    "    popularityDistance = abs(popularityA - popularityB)\n",
    "    return genreDistance + popularityDistance"
   ]
  },
  {
   "cell_type": "code",
   "execution_count": 354,
   "metadata": {},
   "outputs": [
    {
     "name": "stdout",
     "output_type": "stream",
     "text": [
      "Nearest Neighbors:\n",
      "\n",
      "Fugitive, The (1993) 4.044642857142857\n",
      "Rock, The (1996) 3.693121693121693\n",
      "Broken Arrow (1996) 3.031496062992126\n",
      "Die Hard (1988) 3.8724279835390947\n",
      "Dante's Peak (1997) 2.933333333333333\n"
     ]
    }
   ],
   "source": [
    "# Get the neighbor K of the given film\n",
    "def getNeighbors(movieID, K):\n",
    "    distances = []\n",
    "    for movie in movieDict:\n",
    "        if (movie != movieID):\n",
    "            dist = ComputeDistance(movieDict[movieID], movieDict[movie])\n",
    "            distances.append((movie, dist))\n",
    "    distances.sort(key=operator.itemgetter(1))\n",
    "    neighbors = []\n",
    "    for x in range(K):\n",
    "        neighbors.append(distances[x][0])\n",
    "    return neighbors\n",
    "\n",
    "\n",
    "K = 5 # AMOUNT OF HOW MANY NEAREST NEIGHBORS YOU WANT #### CHANGE THAT VALUE IF YOU WANT MORE \n",
    "avgRating = 0\n",
    "neighbors = getNeighbors(300, K) #### THE NUMBER IN THE BRACKET IS THE MOVIE ID ### CHANGE THE ID IF YOU WANT TO FIND NEAREST NEIGHBORS FOR ANOTHER MOVIE\n",
    "print(\"Nearest Neighbors:\")\n",
    "print('')\n",
    "for neighbor in neighbors:\n",
    "    avgRating += movieDict[neighbor][3]\n",
    "    print(movieDict[neighbor][0] + \" \" + str(movieDict[neighbor][3]))"
   ]
  },
  {
   "cell_type": "code",
   "execution_count": 355,
   "metadata": {},
   "outputs": [
    {
     "name": "stdout",
     "output_type": "stream",
     "text": [
      "\n",
      "Estimated avg. rating:\n",
      "3.515004386025821\n"
     ]
    }
   ],
   "source": [
    "##### Average rating score calculated based on film neighbors\n",
    "avgRating /= float(K)  #### avgRating = avgRating / float(K)\n",
    "print(\"\\nEstimated avg. rating:\")\n",
    "print(avgRating)"
   ]
  },
  {
   "cell_type": "code",
   "execution_count": 356,
   "metadata": {},
   "outputs": [
    {
     "name": "stdout",
     "output_type": "stream",
     "text": [
      "\n",
      "Real avg. rating:\n",
      "3.8783185840707963\n"
     ]
    }
   ],
   "source": [
    "# Real avgerage rating\n",
    "print(\"\\nReal avg. rating:\")\n",
    "print(movieDict[1][3])"
   ]
  },
  {
   "cell_type": "markdown",
   "metadata": {},
   "source": [
    "# TASK3 EXTENDED - User based recommendations"
   ]
  },
  {
   "cell_type": "code",
   "execution_count": 357,
   "metadata": {},
   "outputs": [
    {
     "data": {
      "text/html": [
       "<div>\n",
       "<style scoped>\n",
       "    .dataframe tbody tr th:only-of-type {\n",
       "        vertical-align: middle;\n",
       "    }\n",
       "\n",
       "    .dataframe tbody tr th {\n",
       "        vertical-align: top;\n",
       "    }\n",
       "\n",
       "    .dataframe thead th {\n",
       "        text-align: right;\n",
       "    }\n",
       "</style>\n",
       "<table border=\"1\" class=\"dataframe\">\n",
       "  <thead>\n",
       "    <tr style=\"text-align: right;\">\n",
       "      <th></th>\n",
       "      <th>userid</th>\n",
       "      <th>movieid</th>\n",
       "      <th>age</th>\n",
       "      <th>gender_M</th>\n",
       "      <th>occupation_librarian</th>\n",
       "      <th>occupation_lawyer</th>\n",
       "      <th>occupation_homemaker</th>\n",
       "      <th>occupation_healthcare</th>\n",
       "      <th>occupation_executive</th>\n",
       "      <th>occupation_entertainment</th>\n",
       "      <th>...</th>\n",
       "      <th>occupation_programmer</th>\n",
       "      <th>occupation_other</th>\n",
       "      <th>occupation_marketing</th>\n",
       "      <th>occupation_engineer</th>\n",
       "      <th>occupation_educator</th>\n",
       "      <th>occupation_doctor</th>\n",
       "      <th>occupation_administrator</th>\n",
       "      <th>occupation_artist</th>\n",
       "      <th>timestamp</th>\n",
       "      <th>rating</th>\n",
       "    </tr>\n",
       "  </thead>\n",
       "  <tbody>\n",
       "    <tr>\n",
       "      <th>0</th>\n",
       "      <td>1</td>\n",
       "      <td>1</td>\n",
       "      <td>24</td>\n",
       "      <td>1</td>\n",
       "      <td>0</td>\n",
       "      <td>0</td>\n",
       "      <td>0</td>\n",
       "      <td>0</td>\n",
       "      <td>0</td>\n",
       "      <td>0</td>\n",
       "      <td>...</td>\n",
       "      <td>0</td>\n",
       "      <td>0</td>\n",
       "      <td>0</td>\n",
       "      <td>0</td>\n",
       "      <td>0</td>\n",
       "      <td>0</td>\n",
       "      <td>0</td>\n",
       "      <td>0</td>\n",
       "      <td>874965758</td>\n",
       "      <td>5</td>\n",
       "    </tr>\n",
       "    <tr>\n",
       "      <th>1</th>\n",
       "      <td>1</td>\n",
       "      <td>2</td>\n",
       "      <td>24</td>\n",
       "      <td>1</td>\n",
       "      <td>0</td>\n",
       "      <td>0</td>\n",
       "      <td>0</td>\n",
       "      <td>0</td>\n",
       "      <td>0</td>\n",
       "      <td>0</td>\n",
       "      <td>...</td>\n",
       "      <td>0</td>\n",
       "      <td>0</td>\n",
       "      <td>0</td>\n",
       "      <td>0</td>\n",
       "      <td>0</td>\n",
       "      <td>0</td>\n",
       "      <td>0</td>\n",
       "      <td>0</td>\n",
       "      <td>876893171</td>\n",
       "      <td>3</td>\n",
       "    </tr>\n",
       "    <tr>\n",
       "      <th>2</th>\n",
       "      <td>1</td>\n",
       "      <td>4</td>\n",
       "      <td>24</td>\n",
       "      <td>1</td>\n",
       "      <td>0</td>\n",
       "      <td>0</td>\n",
       "      <td>0</td>\n",
       "      <td>0</td>\n",
       "      <td>0</td>\n",
       "      <td>0</td>\n",
       "      <td>...</td>\n",
       "      <td>0</td>\n",
       "      <td>0</td>\n",
       "      <td>0</td>\n",
       "      <td>0</td>\n",
       "      <td>0</td>\n",
       "      <td>0</td>\n",
       "      <td>0</td>\n",
       "      <td>0</td>\n",
       "      <td>876893119</td>\n",
       "      <td>3</td>\n",
       "    </tr>\n",
       "    <tr>\n",
       "      <th>3</th>\n",
       "      <td>1</td>\n",
       "      <td>5</td>\n",
       "      <td>24</td>\n",
       "      <td>1</td>\n",
       "      <td>0</td>\n",
       "      <td>0</td>\n",
       "      <td>0</td>\n",
       "      <td>0</td>\n",
       "      <td>0</td>\n",
       "      <td>0</td>\n",
       "      <td>...</td>\n",
       "      <td>0</td>\n",
       "      <td>0</td>\n",
       "      <td>0</td>\n",
       "      <td>0</td>\n",
       "      <td>0</td>\n",
       "      <td>0</td>\n",
       "      <td>0</td>\n",
       "      <td>0</td>\n",
       "      <td>889751712</td>\n",
       "      <td>3</td>\n",
       "    </tr>\n",
       "    <tr>\n",
       "      <th>4</th>\n",
       "      <td>1</td>\n",
       "      <td>6</td>\n",
       "      <td>24</td>\n",
       "      <td>1</td>\n",
       "      <td>0</td>\n",
       "      <td>0</td>\n",
       "      <td>0</td>\n",
       "      <td>0</td>\n",
       "      <td>0</td>\n",
       "      <td>0</td>\n",
       "      <td>...</td>\n",
       "      <td>0</td>\n",
       "      <td>0</td>\n",
       "      <td>0</td>\n",
       "      <td>0</td>\n",
       "      <td>0</td>\n",
       "      <td>0</td>\n",
       "      <td>0</td>\n",
       "      <td>0</td>\n",
       "      <td>887431973</td>\n",
       "      <td>5</td>\n",
       "    </tr>\n",
       "  </tbody>\n",
       "</table>\n",
       "<p>5 rows × 26 columns</p>\n",
       "</div>"
      ],
      "text/plain": [
       "   userid  movieid  age  gender_M  occupation_librarian  occupation_lawyer  \\\n",
       "0       1        1   24         1                     0                  0   \n",
       "1       1        2   24         1                     0                  0   \n",
       "2       1        4   24         1                     0                  0   \n",
       "3       1        5   24         1                     0                  0   \n",
       "4       1        6   24         1                     0                  0   \n",
       "\n",
       "   occupation_homemaker  occupation_healthcare  occupation_executive  \\\n",
       "0                     0                      0                     0   \n",
       "1                     0                      0                     0   \n",
       "2                     0                      0                     0   \n",
       "3                     0                      0                     0   \n",
       "4                     0                      0                     0   \n",
       "\n",
       "   occupation_entertainment  ...  occupation_programmer  occupation_other  \\\n",
       "0                         0  ...                      0                 0   \n",
       "1                         0  ...                      0                 0   \n",
       "2                         0  ...                      0                 0   \n",
       "3                         0  ...                      0                 0   \n",
       "4                         0  ...                      0                 0   \n",
       "\n",
       "   occupation_marketing  occupation_engineer  occupation_educator  \\\n",
       "0                     0                    0                    0   \n",
       "1                     0                    0                    0   \n",
       "2                     0                    0                    0   \n",
       "3                     0                    0                    0   \n",
       "4                     0                    0                    0   \n",
       "\n",
       "   occupation_doctor  occupation_administrator  occupation_artist  timestamp  \\\n",
       "0                  0                         0                  0  874965758   \n",
       "1                  0                         0                  0  876893171   \n",
       "2                  0                         0                  0  876893119   \n",
       "3                  0                         0                  0  889751712   \n",
       "4                  0                         0                  0  887431973   \n",
       "\n",
       "   rating  \n",
       "0       5  \n",
       "1       3  \n",
       "2       3  \n",
       "3       3  \n",
       "4       5  \n",
       "\n",
       "[5 rows x 26 columns]"
      ]
     },
     "execution_count": 357,
     "metadata": {},
     "output_type": "execute_result"
    }
   ],
   "source": [
    "Utraindataset5.head(5)"
   ]
  },
  {
   "cell_type": "code",
   "execution_count": 358,
   "metadata": {},
   "outputs": [
    {
     "name": "stdout",
     "output_type": "stream",
     "text": [
      "[12, 56, 56, 82, 95, 98, 100, 121, 125, 127, 151, 152, 154, 168, 171, 172, 173, 174, 181, 187, 197, 222, 222, 228, 230, 237, 258, 268, 269, 275, 294, 313, 367, 393, 403, 433, 577, 728, 845, 1472]\n"
     ]
    }
   ],
   "source": [
    "Utraindataset5\n",
    "#CHANGE THE USER NUMBER TO A SPECIFIC USER YOU WANT TO FIND RECOMMENDED MOVIES\n",
    "user = 45\n",
    "\n",
    "#change the ##Utraindataset5 to another dataset that was trained above to find simalar users and recommendations\n",
    "user_film = Utraindataset5[Utraindataset5['userid']==user]\n",
    "user_film = user_film[user_film['rating']==5]\n",
    "\n",
    "user_film_ids = user_film['movieid'].values\n",
    "rec_list = [] \n",
    "\n",
    "\n",
    "for film in user_film_ids:\n",
    "    recs = getNeighbors(film, 5)\n",
    "    rec_list.append(recs)\n",
    "    \n",
    "flat_list = []\n",
    "\n",
    "for sublist in rec_list:\n",
    "    for item in sublist:\n",
    "        flat_list.append(item)\n",
    "        \n",
    "        \n",
    "flat_list.sort()\n",
    "print(flat_list)"
   ]
  },
  {
   "cell_type": "code",
   "execution_count": 359,
   "metadata": {},
   "outputs": [
    {
     "name": "stdout",
     "output_type": "stream",
     "text": [
      "{12: 1, 56: 2, 82: 1, 95: 1, 98: 1, 100: 1, 121: 1, 125: 1, 127: 1, 151: 1, 152: 1, 154: 1, 168: 1, 171: 1, 172: 1, 173: 1, 174: 1, 181: 1, 187: 1, 197: 1, 222: 2, 228: 1, 230: 1, 237: 1, 258: 1, 268: 1, 269: 1, 275: 1, 294: 1, 313: 1, 367: 1, 393: 1, 403: 1, 433: 1, 577: 1, 728: 1, 845: 1, 1472: 1}\n"
     ]
    }
   ],
   "source": [
    "countList = {i:flat_list.count(i) for i in flat_list}\n",
    "print (countList)"
   ]
  },
  {
   "cell_type": "code",
   "execution_count": 360,
   "metadata": {},
   "outputs": [
    {
     "name": "stdout",
     "output_type": "stream",
     "text": [
      "[728, 845, 1472, 56, 222]\n",
      "[222, 56, 1472, 845, 728]\n"
     ]
    }
   ],
   "source": [
    "films1111 = {k: v for k, v in sorted(countList.items(), key=lambda item: item[1])}\n",
    "\n",
    "movie_recs = list(films1111.keys())[-5:]\n",
    "print(movie_recs)\n",
    "\n",
    "movie_recs.reverse()\n",
    "\n",
    "print(movie_recs)"
   ]
  },
  {
   "cell_type": "code",
   "execution_count": 361,
   "metadata": {},
   "outputs": [
    {
     "name": "stdout",
     "output_type": "stream",
     "text": [
      "Nearest Neighbors based on user id:\n",
      "\n",
      "Star Trek: First Contact (1996)\n",
      "Pulp Fiction (1994)\n",
      "Visitors, The (Visiteurs, Les) (1993)\n",
      "That Thing You Do! (1996)\n",
      "Junior (1994)\n",
      "['Star Trek: First Contact (1996)', 'Pulp Fiction (1994)', 'Visitors, The (Visiteurs, Les) (1993)', 'That Thing You Do! (1996)', 'Junior (1994)']\n"
     ]
    }
   ],
   "source": [
    "print(\"Nearest Neighbors based on user id:\")\n",
    "print('')  \n",
    "final_recs = []\n",
    "for movieid in movie_recs:\n",
    "    print(titles[titles['movieid']==movieid]['movie title'].values[0])\n",
    "    final_recs.append(titles[titles['movieid']==movieid]['movie title'].values[0])\n",
    "\n",
    "print(final_recs)"
   ]
  },
  {
   "cell_type": "code",
   "execution_count": 2,
   "metadata": {},
   "outputs": [],
   "source": [
    "import numpy\n",
    "import pandas\n",
    "import math\n",
    "from keras.models import Sequential\n",
    "from keras.layers import Dense\n",
    "from keras.layers import LSTM\n",
    "from sklearn.preprocessing import MinMaxScaler\n",
    "from sklearn.metrics import mean_squared_error"
   ]
  },
  {
   "cell_type": "code",
   "execution_count": 3,
   "metadata": {},
   "outputs": [],
   "source": [
    "import pandas as pd\n",
    "import datetime as dt\n",
    "import urllib.request, json\n",
    "import os\n",
    "import numpy as np\n",
    "import tensorflow as tf # This code has been tested with TensorFlow 1.6\n",
    "from sklearn.preprocessing import MinMaxScaler"
   ]
  },
  {
   "cell_type": "code",
   "execution_count": 4,
   "metadata": {},
   "outputs": [],
   "source": [
    "columns = ['userid', 'movieid', 'rating', 'timestamp']\n",
    "ratings = pd.read_csv('ml-100k/u.data', sep='\\t',names= columns )"
   ]
  },
  {
   "cell_type": "code",
   "execution_count": 5,
   "metadata": {},
   "outputs": [],
   "source": [
    "df = ratings.sort_values('userid')"
   ]
  },
  {
   "cell_type": "code",
   "execution_count": 6,
   "metadata": {},
   "outputs": [
    {
     "data": {
      "text/html": [
       "<div>\n",
       "<style scoped>\n",
       "    .dataframe tbody tr th:only-of-type {\n",
       "        vertical-align: middle;\n",
       "    }\n",
       "\n",
       "    .dataframe tbody tr th {\n",
       "        vertical-align: top;\n",
       "    }\n",
       "\n",
       "    .dataframe thead th {\n",
       "        text-align: right;\n",
       "    }\n",
       "</style>\n",
       "<table border=\"1\" class=\"dataframe\">\n",
       "  <thead>\n",
       "    <tr style=\"text-align: right;\">\n",
       "      <th></th>\n",
       "      <th>userid</th>\n",
       "      <th>movieid</th>\n",
       "      <th>rating</th>\n",
       "      <th>timestamp</th>\n",
       "    </tr>\n",
       "  </thead>\n",
       "  <tbody>\n",
       "    <tr>\n",
       "      <th>66567</th>\n",
       "      <td>1</td>\n",
       "      <td>55</td>\n",
       "      <td>5</td>\n",
       "      <td>875072688</td>\n",
       "    </tr>\n",
       "    <tr>\n",
       "      <th>62820</th>\n",
       "      <td>1</td>\n",
       "      <td>203</td>\n",
       "      <td>4</td>\n",
       "      <td>878542231</td>\n",
       "    </tr>\n",
       "    <tr>\n",
       "      <th>10207</th>\n",
       "      <td>1</td>\n",
       "      <td>183</td>\n",
       "      <td>5</td>\n",
       "      <td>875072262</td>\n",
       "    </tr>\n",
       "    <tr>\n",
       "      <th>9971</th>\n",
       "      <td>1</td>\n",
       "      <td>150</td>\n",
       "      <td>5</td>\n",
       "      <td>876892196</td>\n",
       "    </tr>\n",
       "    <tr>\n",
       "      <th>22496</th>\n",
       "      <td>1</td>\n",
       "      <td>68</td>\n",
       "      <td>4</td>\n",
       "      <td>875072688</td>\n",
       "    </tr>\n",
       "    <tr>\n",
       "      <th>...</th>\n",
       "      <td>...</td>\n",
       "      <td>...</td>\n",
       "      <td>...</td>\n",
       "      <td>...</td>\n",
       "    </tr>\n",
       "    <tr>\n",
       "      <th>96823</th>\n",
       "      <td>943</td>\n",
       "      <td>427</td>\n",
       "      <td>4</td>\n",
       "      <td>888639147</td>\n",
       "    </tr>\n",
       "    <tr>\n",
       "      <th>70902</th>\n",
       "      <td>943</td>\n",
       "      <td>12</td>\n",
       "      <td>5</td>\n",
       "      <td>888639093</td>\n",
       "    </tr>\n",
       "    <tr>\n",
       "      <th>84518</th>\n",
       "      <td>943</td>\n",
       "      <td>284</td>\n",
       "      <td>2</td>\n",
       "      <td>875502192</td>\n",
       "    </tr>\n",
       "    <tr>\n",
       "      <th>72321</th>\n",
       "      <td>943</td>\n",
       "      <td>62</td>\n",
       "      <td>3</td>\n",
       "      <td>888640003</td>\n",
       "    </tr>\n",
       "    <tr>\n",
       "      <th>70713</th>\n",
       "      <td>943</td>\n",
       "      <td>210</td>\n",
       "      <td>4</td>\n",
       "      <td>888639147</td>\n",
       "    </tr>\n",
       "  </tbody>\n",
       "</table>\n",
       "<p>100000 rows × 4 columns</p>\n",
       "</div>"
      ],
      "text/plain": [
       "       userid  movieid  rating  timestamp\n",
       "66567       1       55       5  875072688\n",
       "62820       1      203       4  878542231\n",
       "10207       1      183       5  875072262\n",
       "9971        1      150       5  876892196\n",
       "22496       1       68       4  875072688\n",
       "...       ...      ...     ...        ...\n",
       "96823     943      427       4  888639147\n",
       "70902     943       12       5  888639093\n",
       "84518     943      284       2  875502192\n",
       "72321     943       62       3  888640003\n",
       "70713     943      210       4  888639147\n",
       "\n",
       "[100000 rows x 4 columns]"
      ]
     },
     "execution_count": 6,
     "metadata": {},
     "output_type": "execute_result"
    }
   ],
   "source": [
    "df"
   ]
  },
  {
   "cell_type": "code",
   "execution_count": 7,
   "metadata": {},
   "outputs": [
    {
     "ename": "AttributeError",
     "evalue": "'Series' object has no attribute 'as_matrix'",
     "output_type": "error",
     "traceback": [
      "\u001b[1;31m---------------------------------------------------------------------------\u001b[0m",
      "\u001b[1;31mAttributeError\u001b[0m                            Traceback (most recent call last)",
      "\u001b[1;32m<ipython-input-7-4cc133e32ca1>\u001b[0m in \u001b[0;36m<module>\u001b[1;34m\u001b[0m\n\u001b[1;32m----> 1\u001b[1;33m \u001b[0mhigh_prices\u001b[0m \u001b[1;33m=\u001b[0m \u001b[0mdf\u001b[0m\u001b[1;33m.\u001b[0m\u001b[0mloc\u001b[0m\u001b[1;33m[\u001b[0m\u001b[1;33m:\u001b[0m\u001b[1;33m,\u001b[0m\u001b[1;34m'rating'\u001b[0m\u001b[1;33m]\u001b[0m\u001b[1;33m.\u001b[0m\u001b[0mas_matrix\u001b[0m\u001b[1;33m(\u001b[0m\u001b[1;33m)\u001b[0m\u001b[1;33m\u001b[0m\u001b[1;33m\u001b[0m\u001b[0m\n\u001b[0m\u001b[0;32m      2\u001b[0m \u001b[0mlow_prices\u001b[0m \u001b[1;33m=\u001b[0m \u001b[0mdf\u001b[0m\u001b[1;33m.\u001b[0m\u001b[0mloc\u001b[0m\u001b[1;33m[\u001b[0m\u001b[1;33m:\u001b[0m\u001b[1;33m,\u001b[0m\u001b[1;34m'rating'\u001b[0m\u001b[1;33m]\u001b[0m\u001b[1;33m.\u001b[0m\u001b[0mas_matrix\u001b[0m\u001b[1;33m(\u001b[0m\u001b[1;33m)\u001b[0m\u001b[1;33m\u001b[0m\u001b[1;33m\u001b[0m\u001b[0m\n\u001b[0;32m      3\u001b[0m \u001b[0mmid_prices\u001b[0m \u001b[1;33m=\u001b[0m \u001b[1;33m(\u001b[0m\u001b[0mhigh_prices\u001b[0m\u001b[1;33m+\u001b[0m\u001b[0mlow_prices\u001b[0m\u001b[1;33m)\u001b[0m\u001b[1;33m/\u001b[0m\u001b[1;36m2.0\u001b[0m\u001b[1;33m\u001b[0m\u001b[1;33m\u001b[0m\u001b[0m\n",
      "\u001b[1;32mD:\\anaconda3\\lib\\site-packages\\pandas\\core\\generic.py\u001b[0m in \u001b[0;36m__getattr__\u001b[1;34m(self, name)\u001b[0m\n\u001b[0;32m   5272\u001b[0m             \u001b[1;32mif\u001b[0m \u001b[0mself\u001b[0m\u001b[1;33m.\u001b[0m\u001b[0m_info_axis\u001b[0m\u001b[1;33m.\u001b[0m\u001b[0m_can_hold_identifiers_and_holds_name\u001b[0m\u001b[1;33m(\u001b[0m\u001b[0mname\u001b[0m\u001b[1;33m)\u001b[0m\u001b[1;33m:\u001b[0m\u001b[1;33m\u001b[0m\u001b[1;33m\u001b[0m\u001b[0m\n\u001b[0;32m   5273\u001b[0m                 \u001b[1;32mreturn\u001b[0m \u001b[0mself\u001b[0m\u001b[1;33m[\u001b[0m\u001b[0mname\u001b[0m\u001b[1;33m]\u001b[0m\u001b[1;33m\u001b[0m\u001b[1;33m\u001b[0m\u001b[0m\n\u001b[1;32m-> 5274\u001b[1;33m             \u001b[1;32mreturn\u001b[0m \u001b[0mobject\u001b[0m\u001b[1;33m.\u001b[0m\u001b[0m__getattribute__\u001b[0m\u001b[1;33m(\u001b[0m\u001b[0mself\u001b[0m\u001b[1;33m,\u001b[0m \u001b[0mname\u001b[0m\u001b[1;33m)\u001b[0m\u001b[1;33m\u001b[0m\u001b[1;33m\u001b[0m\u001b[0m\n\u001b[0m\u001b[0;32m   5275\u001b[0m \u001b[1;33m\u001b[0m\u001b[0m\n\u001b[0;32m   5276\u001b[0m     \u001b[1;32mdef\u001b[0m \u001b[0m__setattr__\u001b[0m\u001b[1;33m(\u001b[0m\u001b[0mself\u001b[0m\u001b[1;33m,\u001b[0m \u001b[0mname\u001b[0m\u001b[1;33m:\u001b[0m \u001b[0mstr\u001b[0m\u001b[1;33m,\u001b[0m \u001b[0mvalue\u001b[0m\u001b[1;33m)\u001b[0m \u001b[1;33m->\u001b[0m \u001b[1;32mNone\u001b[0m\u001b[1;33m:\u001b[0m\u001b[1;33m\u001b[0m\u001b[1;33m\u001b[0m\u001b[0m\n",
      "\u001b[1;31mAttributeError\u001b[0m: 'Series' object has no attribute 'as_matrix'"
     ]
    }
   ],
   "source": [
    "high_prices = df.loc[:,'rating'].as_matrix()\n",
    "low_prices = df.loc[:,'rating'].as_matrix()\n",
    "mid_prices = (high_prices+low_prices)/2.0"
   ]
  },
  {
   "cell_type": "code",
   "execution_count": 8,
   "metadata": {},
   "outputs": [
    {
     "name": "stderr",
     "output_type": "stream",
     "text": [
      "Using TensorFlow backend.\n"
     ]
    }
   ],
   "source": [
    "#Import the libraries\n",
    "import math\n",
    "import numpy as np\n",
    "import pandas as pd\n",
    "from sklearn.preprocessing import MinMaxScaler\n",
    "from keras.models import Sequential\n",
    "from keras.layers import Dense, LSTM\n",
    "import matplotlib.pyplot as plt\n",
    "plt.style.use('fivethirtyeight')"
   ]
  },
  {
   "cell_type": "code",
   "execution_count": 9,
   "metadata": {},
   "outputs": [
    {
     "data": {
      "text/plain": [
       "(100000, 4)"
      ]
     },
     "execution_count": 9,
     "metadata": {},
     "output_type": "execute_result"
    }
   ],
   "source": [
    "columns = ['userid', 'movieid', 'rating', 'timestamp']\n",
    "features = pd.read_csv('ml-100k/u.data', sep='\\t',names= columns )\n",
    "\n",
    "features.shape"
   ]
  },
  {
   "cell_type": "code",
   "execution_count": 11,
   "metadata": {},
   "outputs": [
    {
     "name": "stdout",
     "output_type": "stream",
     "text": [
      "80000\n"
     ]
    }
   ],
   "source": [
    "training_dataset_length = math.ceil(len(features) * .80)\n",
    "print(training_dataset_length)"
   ]
  },
  {
   "cell_type": "code",
   "execution_count": 12,
   "metadata": {},
   "outputs": [],
   "source": [
    "#Scale the all of the data to be values between 0 and 1 \n",
    "scaler = MinMaxScaler(feature_range=(0, 1)) \n",
    "scaled_data = scaler.fit_transform(features)"
   ]
  },
  {
   "cell_type": "code",
   "execution_count": 13,
   "metadata": {},
   "outputs": [],
   "source": [
    "train_data = scaled_data[0:training_dataset_length  , : ]\n",
    "\n",
    "#Splitting the data\n",
    "x_train=[]\n",
    "y_train = []\n",
    "\n",
    "for i in range(10, len(train_data)):\n",
    "    x_train.append(train_data[i-10:i,0])\n",
    "    y_train.append(train_data[i,0])"
   ]
  },
  {
   "cell_type": "code",
   "execution_count": 14,
   "metadata": {},
   "outputs": [],
   "source": [
    "#Convert to numpy arrays\n",
    "x_train, y_train = np.array(x_train), np.array(y_train)\n",
    "\n",
    "#Reshape the data into 3-D array\n",
    "x_train = np.reshape(x_train, (x_train.shape[0],x_train.shape[1],1))"
   ]
  },
  {
   "cell_type": "code",
   "execution_count": 15,
   "metadata": {},
   "outputs": [],
   "source": [
    "from keras.layers import Dropout\n",
    "\n",
    "# Initialising the RNN\n",
    "model = Sequential()\n",
    "\n",
    "model.add(LSTM(units = 50, return_sequences = True, input_shape = (x_train.shape[1], 1)))\n",
    "model.add(Dropout(0.2))\n",
    "\n",
    "# Adding a second LSTM layer and Dropout layer\n",
    "model.add(LSTM(units = 50, return_sequences = True))\n",
    "model.add(Dropout(0.2))\n",
    "\n",
    "# Adding a third LSTM layer and Dropout layer\n",
    "model.add(LSTM(units = 50, return_sequences = True))\n",
    "model.add(Dropout(0.2))\n",
    "\n",
    "# Adding a fourth LSTM layer and and Dropout layer\n",
    "model.add(LSTM(units = 50))\n",
    "model.add(Dropout(0.2))\n",
    "\n",
    "# Adding the output layer\n",
    "# For Full connection layer we use dense\n",
    "# As the output is 1D so we use unit=1\n",
    "model.add(Dense(units = 1))"
   ]
  },
  {
   "cell_type": "code",
   "execution_count": 16,
   "metadata": {},
   "outputs": [
    {
     "name": "stdout",
     "output_type": "stream",
     "text": [
      "WARNING:tensorflow:From D:\\anaconda3\\lib\\site-packages\\keras\\backend\\tensorflow_backend.py:422: The name tf.global_variables is deprecated. Please use tf.compat.v1.global_variables instead.\n",
      "\n",
      "Epoch 1/30\n",
      "79990/79990 [==============================] - 22s 271us/step - loss: 0.0479\n",
      "Epoch 2/30\n",
      "79990/79990 [==============================] - 21s 261us/step - loss: 0.0450\n",
      "Epoch 3/30\n",
      "79990/79990 [==============================] - 21s 262us/step - loss: 0.0437\n",
      "Epoch 4/30\n",
      "79990/79990 [==============================] - 21s 268us/step - loss: 0.0433\n",
      "Epoch 5/30\n",
      "79990/79990 [==============================] - 22s 269us/step - loss: 0.0431\n",
      "Epoch 6/30\n",
      "79990/79990 [==============================] - 22s 273us/step - loss: 0.0429\n",
      "Epoch 7/30\n",
      "79990/79990 [==============================] - 21s 266us/step - loss: 0.0428\n",
      "Epoch 8/30\n",
      "79990/79990 [==============================] - 22s 270us/step - loss: 0.0426\n",
      "Epoch 9/30\n",
      "79990/79990 [==============================] - 22s 270us/step - loss: 0.0426\n",
      "Epoch 10/30\n",
      "79990/79990 [==============================] - 21s 263us/step - loss: 0.0425\n",
      "Epoch 11/30\n",
      "79990/79990 [==============================] - 21s 265us/step - loss: 0.0425\n",
      "Epoch 12/30\n",
      "79990/79990 [==============================] - 21s 267us/step - loss: 0.0424\n",
      "Epoch 13/30\n",
      "79990/79990 [==============================] - 21s 266us/step - loss: 0.0424\n",
      "Epoch 14/30\n",
      "79990/79990 [==============================] - 22s 272us/step - loss: 0.0424\n",
      "Epoch 15/30\n",
      "79990/79990 [==============================] - 22s 275us/step - loss: 0.0423\n",
      "Epoch 16/30\n",
      "79990/79990 [==============================] - 22s 270us/step - loss: 0.0423\n",
      "Epoch 17/30\n",
      "79990/79990 [==============================] - 22s 269us/step - loss: 0.0423\n",
      "Epoch 18/30\n",
      "79990/79990 [==============================] - 22s 270us/step - loss: 0.0423\n",
      "Epoch 19/30\n",
      "79990/79990 [==============================] - 21s 267us/step - loss: 0.0423\n",
      "Epoch 20/30\n",
      "79990/79990 [==============================] - 21s 265us/step - loss: 0.0423\n",
      "Epoch 21/30\n",
      "79990/79990 [==============================] - 22s 271us/step - loss: 0.0422\n",
      "Epoch 22/30\n",
      "79990/79990 [==============================] - 22s 273us/step - loss: 0.0422\n",
      "Epoch 23/30\n",
      "79990/79990 [==============================] - 21s 266us/step - loss: 0.0422\n",
      "Epoch 24/30\n",
      "79990/79990 [==============================] - 22s 270us/step - loss: 0.0423\n",
      "Epoch 25/30\n",
      "79990/79990 [==============================] - 22s 276us/step - loss: 0.0422\n",
      "Epoch 26/30\n",
      "79990/79990 [==============================] - 22s 274us/step - loss: 0.0422\n",
      "Epoch 27/30\n",
      "79990/79990 [==============================] - 22s 270us/step - loss: 0.0422\n",
      "Epoch 28/30\n",
      "79990/79990 [==============================] - 22s 279us/step - loss: 0.0422\n",
      "Epoch 29/30\n",
      "79990/79990 [==============================] - 22s 273us/step - loss: 0.0421\n",
      "Epoch 30/30\n",
      "79990/79990 [==============================] - 22s 277us/step - loss: 0.0422\n"
     ]
    },
    {
     "data": {
      "text/plain": [
       "<keras.callbacks.callbacks.History at 0x24643310b08>"
      ]
     },
     "execution_count": 16,
     "metadata": {},
     "output_type": "execute_result"
    }
   ],
   "source": [
    "#compile and fit the model on 30 epochs\n",
    "model.compile(optimizer = 'adam', loss = 'mean_squared_error')\n",
    "model.fit(x_train, y_train, epochs = 30, batch_size = 50)"
   ]
  },
  {
   "cell_type": "code",
   "execution_count": 20,
   "metadata": {},
   "outputs": [],
   "source": [
    "#Test data set\n",
    "test_data = scaled_data[training_dataset_length - 10: , : ]\n",
    "\n",
    "#splitting the x_test and y_test data sets\n",
    "x_test = []\n",
    "y_test =  features.values\n",
    "\n",
    "for i in range(10,len(test_data)):\n",
    "    x_test.append(test_data[i-10:i,0])\n",
    "    \n",
    "#Convert x_test to a numpy array \n",
    "x_test = np.array(x_test)\n",
    "\n",
    "#Reshape the data into 3-D array\n",
    "x_test = np.reshape(x_test, (x_test.shape[0],x_test.shape[1],1))"
   ]
  },
  {
   "cell_type": "code",
   "execution_count": 21,
   "metadata": {},
   "outputs": [
    {
     "ename": "ValueError",
     "evalue": "non-broadcastable output operand with shape (20000,1) doesn't match the broadcast shape (20000,4)",
     "output_type": "error",
     "traceback": [
      "\u001b[1;31m---------------------------------------------------------------------------\u001b[0m",
      "\u001b[1;31mValueError\u001b[0m                                Traceback (most recent call last)",
      "\u001b[1;32m<ipython-input-21-5b88e42b6451>\u001b[0m in \u001b[0;36m<module>\u001b[1;34m\u001b[0m\n\u001b[0;32m      2\u001b[0m \u001b[0mpredictions\u001b[0m \u001b[1;33m=\u001b[0m \u001b[0mmodel\u001b[0m\u001b[1;33m.\u001b[0m\u001b[0mpredict\u001b[0m\u001b[1;33m(\u001b[0m\u001b[0mx_test\u001b[0m\u001b[1;33m)\u001b[0m\u001b[1;33m\u001b[0m\u001b[1;33m\u001b[0m\u001b[0m\n\u001b[0;32m      3\u001b[0m \u001b[1;31m#Undo scaling\u001b[0m\u001b[1;33m\u001b[0m\u001b[1;33m\u001b[0m\u001b[1;33m\u001b[0m\u001b[0m\n\u001b[1;32m----> 4\u001b[1;33m \u001b[0mpredictions\u001b[0m \u001b[1;33m=\u001b[0m \u001b[0mscaler\u001b[0m\u001b[1;33m.\u001b[0m\u001b[0minverse_transform\u001b[0m\u001b[1;33m(\u001b[0m\u001b[0mpredictions\u001b[0m\u001b[1;33m)\u001b[0m\u001b[1;33m\u001b[0m\u001b[1;33m\u001b[0m\u001b[0m\n\u001b[0m\u001b[0;32m      5\u001b[0m \u001b[1;33m\u001b[0m\u001b[0m\n\u001b[0;32m      6\u001b[0m \u001b[1;31m#Calculate RMSE score\u001b[0m\u001b[1;33m\u001b[0m\u001b[1;33m\u001b[0m\u001b[1;33m\u001b[0m\u001b[0m\n",
      "\u001b[1;32mD:\\anaconda3\\lib\\site-packages\\sklearn\\preprocessing\\_data.py\u001b[0m in \u001b[0;36minverse_transform\u001b[1;34m(self, X)\u001b[0m\n\u001b[0;32m    459\u001b[0m                         force_all_finite=\"allow-nan\")\n\u001b[0;32m    460\u001b[0m \u001b[1;33m\u001b[0m\u001b[0m\n\u001b[1;32m--> 461\u001b[1;33m         \u001b[0mX\u001b[0m \u001b[1;33m-=\u001b[0m \u001b[0mself\u001b[0m\u001b[1;33m.\u001b[0m\u001b[0mmin_\u001b[0m\u001b[1;33m\u001b[0m\u001b[1;33m\u001b[0m\u001b[0m\n\u001b[0m\u001b[0;32m    462\u001b[0m         \u001b[0mX\u001b[0m \u001b[1;33m/=\u001b[0m \u001b[0mself\u001b[0m\u001b[1;33m.\u001b[0m\u001b[0mscale_\u001b[0m\u001b[1;33m\u001b[0m\u001b[1;33m\u001b[0m\u001b[0m\n\u001b[0;32m    463\u001b[0m         \u001b[1;32mreturn\u001b[0m \u001b[0mX\u001b[0m\u001b[1;33m\u001b[0m\u001b[1;33m\u001b[0m\u001b[0m\n",
      "\u001b[1;31mValueError\u001b[0m: non-broadcastable output operand with shape (20000,1) doesn't match the broadcast shape (20000,4)"
     ]
    }
   ],
   "source": [
    "#check predicted values\n",
    "predictions = model.predict(x_test) \n",
    "#Undo scaling\n",
    "predictions = scaler.inverse_transform(predictions)\n",
    "\n",
    "#Calculate RMSE score\n",
    "rmse=np.sqrt(np.mean(((predictions- y_test)**2)))\n",
    "rmse"
   ]
  },
  {
   "cell_type": "code",
   "execution_count": 22,
   "metadata": {},
   "outputs": [],
   "source": [
    "import tensorflow.keras as K"
   ]
  },
  {
   "cell_type": "code",
   "execution_count": 23,
   "metadata": {},
   "outputs": [
    {
     "name": "stdout",
     "output_type": "stream",
     "text": [
      "Downloading data from https://www.cs.toronto.edu/~kriz/cifar-10-python.tar.gz\n",
      "170500096/170498071 [==============================] - 65s 0us/step\n"
     ]
    },
    {
     "data": {
      "text/plain": [
       "((array([[[[ 59,  62,  63],\n",
       "           [ 43,  46,  45],\n",
       "           [ 50,  48,  43],\n",
       "           ...,\n",
       "           [158, 132, 108],\n",
       "           [152, 125, 102],\n",
       "           [148, 124, 103]],\n",
       "  \n",
       "          [[ 16,  20,  20],\n",
       "           [  0,   0,   0],\n",
       "           [ 18,   8,   0],\n",
       "           ...,\n",
       "           [123,  88,  55],\n",
       "           [119,  83,  50],\n",
       "           [122,  87,  57]],\n",
       "  \n",
       "          [[ 25,  24,  21],\n",
       "           [ 16,   7,   0],\n",
       "           [ 49,  27,   8],\n",
       "           ...,\n",
       "           [118,  84,  50],\n",
       "           [120,  84,  50],\n",
       "           [109,  73,  42]],\n",
       "  \n",
       "          ...,\n",
       "  \n",
       "          [[208, 170,  96],\n",
       "           [201, 153,  34],\n",
       "           [198, 161,  26],\n",
       "           ...,\n",
       "           [160, 133,  70],\n",
       "           [ 56,  31,   7],\n",
       "           [ 53,  34,  20]],\n",
       "  \n",
       "          [[180, 139,  96],\n",
       "           [173, 123,  42],\n",
       "           [186, 144,  30],\n",
       "           ...,\n",
       "           [184, 148,  94],\n",
       "           [ 97,  62,  34],\n",
       "           [ 83,  53,  34]],\n",
       "  \n",
       "          [[177, 144, 116],\n",
       "           [168, 129,  94],\n",
       "           [179, 142,  87],\n",
       "           ...,\n",
       "           [216, 184, 140],\n",
       "           [151, 118,  84],\n",
       "           [123,  92,  72]]],\n",
       "  \n",
       "  \n",
       "         [[[154, 177, 187],\n",
       "           [126, 137, 136],\n",
       "           [105, 104,  95],\n",
       "           ...,\n",
       "           [ 91,  95,  71],\n",
       "           [ 87,  90,  71],\n",
       "           [ 79,  81,  70]],\n",
       "  \n",
       "          [[140, 160, 169],\n",
       "           [145, 153, 154],\n",
       "           [125, 125, 118],\n",
       "           ...,\n",
       "           [ 96,  99,  78],\n",
       "           [ 77,  80,  62],\n",
       "           [ 71,  73,  61]],\n",
       "  \n",
       "          [[140, 155, 164],\n",
       "           [139, 146, 149],\n",
       "           [115, 115, 112],\n",
       "           ...,\n",
       "           [ 79,  82,  64],\n",
       "           [ 68,  70,  55],\n",
       "           [ 67,  69,  55]],\n",
       "  \n",
       "          ...,\n",
       "  \n",
       "          [[175, 167, 166],\n",
       "           [156, 154, 160],\n",
       "           [154, 160, 170],\n",
       "           ...,\n",
       "           [ 42,  34,  36],\n",
       "           [ 61,  53,  57],\n",
       "           [ 93,  83,  91]],\n",
       "  \n",
       "          [[165, 154, 128],\n",
       "           [156, 152, 130],\n",
       "           [159, 161, 142],\n",
       "           ...,\n",
       "           [103,  93,  96],\n",
       "           [123, 114, 120],\n",
       "           [131, 121, 131]],\n",
       "  \n",
       "          [[163, 148, 120],\n",
       "           [158, 148, 122],\n",
       "           [163, 156, 133],\n",
       "           ...,\n",
       "           [143, 133, 139],\n",
       "           [143, 134, 142],\n",
       "           [143, 133, 144]]],\n",
       "  \n",
       "  \n",
       "         [[[255, 255, 255],\n",
       "           [253, 253, 253],\n",
       "           [253, 253, 253],\n",
       "           ...,\n",
       "           [253, 253, 253],\n",
       "           [253, 253, 253],\n",
       "           [253, 253, 253]],\n",
       "  \n",
       "          [[255, 255, 255],\n",
       "           [255, 255, 255],\n",
       "           [255, 255, 255],\n",
       "           ...,\n",
       "           [255, 255, 255],\n",
       "           [255, 255, 255],\n",
       "           [255, 255, 255]],\n",
       "  \n",
       "          [[255, 255, 255],\n",
       "           [254, 254, 254],\n",
       "           [254, 254, 254],\n",
       "           ...,\n",
       "           [254, 254, 254],\n",
       "           [254, 254, 254],\n",
       "           [254, 254, 254]],\n",
       "  \n",
       "          ...,\n",
       "  \n",
       "          [[113, 120, 112],\n",
       "           [111, 118, 111],\n",
       "           [105, 112, 106],\n",
       "           ...,\n",
       "           [ 72,  81,  80],\n",
       "           [ 72,  80,  79],\n",
       "           [ 72,  80,  79]],\n",
       "  \n",
       "          [[111, 118, 110],\n",
       "           [104, 111, 104],\n",
       "           [ 99, 106,  98],\n",
       "           ...,\n",
       "           [ 68,  75,  73],\n",
       "           [ 70,  76,  75],\n",
       "           [ 78,  84,  82]],\n",
       "  \n",
       "          [[106, 113, 105],\n",
       "           [ 99, 106,  98],\n",
       "           [ 95, 102,  94],\n",
       "           ...,\n",
       "           [ 78,  85,  83],\n",
       "           [ 79,  85,  83],\n",
       "           [ 80,  86,  84]]],\n",
       "  \n",
       "  \n",
       "         ...,\n",
       "  \n",
       "  \n",
       "         [[[ 35, 178, 235],\n",
       "           [ 40, 176, 239],\n",
       "           [ 42, 176, 241],\n",
       "           ...,\n",
       "           [ 99, 177, 219],\n",
       "           [ 79, 147, 197],\n",
       "           [ 89, 148, 189]],\n",
       "  \n",
       "          [[ 57, 182, 234],\n",
       "           [ 44, 184, 250],\n",
       "           [ 50, 183, 240],\n",
       "           ...,\n",
       "           [156, 182, 200],\n",
       "           [141, 177, 206],\n",
       "           [116, 149, 175]],\n",
       "  \n",
       "          [[ 98, 197, 237],\n",
       "           [ 64, 189, 252],\n",
       "           [ 69, 192, 245],\n",
       "           ...,\n",
       "           [188, 195, 206],\n",
       "           [119, 135, 147],\n",
       "           [ 61,  79,  90]],\n",
       "  \n",
       "          ...,\n",
       "  \n",
       "          [[ 73,  79,  77],\n",
       "           [ 53,  63,  68],\n",
       "           [ 54,  68,  80],\n",
       "           ...,\n",
       "           [ 17,  40,  64],\n",
       "           [ 21,  36,  51],\n",
       "           [ 33,  48,  49]],\n",
       "  \n",
       "          [[ 61,  68,  75],\n",
       "           [ 55,  70,  86],\n",
       "           [ 57,  79, 103],\n",
       "           ...,\n",
       "           [ 24,  48,  72],\n",
       "           [ 17,  35,  53],\n",
       "           [  7,  23,  32]],\n",
       "  \n",
       "          [[ 44,  56,  73],\n",
       "           [ 46,  66,  88],\n",
       "           [ 49,  77, 105],\n",
       "           ...,\n",
       "           [ 27,  52,  77],\n",
       "           [ 21,  43,  66],\n",
       "           [ 12,  31,  50]]],\n",
       "  \n",
       "  \n",
       "         [[[189, 211, 240],\n",
       "           [186, 208, 236],\n",
       "           [185, 207, 235],\n",
       "           ...,\n",
       "           [175, 195, 224],\n",
       "           [172, 194, 222],\n",
       "           [169, 194, 220]],\n",
       "  \n",
       "          [[194, 210, 239],\n",
       "           [191, 207, 236],\n",
       "           [190, 206, 235],\n",
       "           ...,\n",
       "           [173, 192, 220],\n",
       "           [171, 191, 218],\n",
       "           [167, 190, 216]],\n",
       "  \n",
       "          [[208, 219, 244],\n",
       "           [205, 216, 240],\n",
       "           [204, 215, 239],\n",
       "           ...,\n",
       "           [175, 191, 217],\n",
       "           [172, 190, 216],\n",
       "           [169, 191, 215]],\n",
       "  \n",
       "          ...,\n",
       "  \n",
       "          [[207, 199, 181],\n",
       "           [203, 195, 175],\n",
       "           [203, 196, 173],\n",
       "           ...,\n",
       "           [135, 132, 127],\n",
       "           [162, 158, 150],\n",
       "           [168, 163, 151]],\n",
       "  \n",
       "          [[198, 190, 170],\n",
       "           [189, 181, 159],\n",
       "           [180, 172, 147],\n",
       "           ...,\n",
       "           [178, 171, 160],\n",
       "           [175, 169, 156],\n",
       "           [175, 169, 154]],\n",
       "  \n",
       "          [[198, 189, 173],\n",
       "           [189, 181, 162],\n",
       "           [178, 170, 149],\n",
       "           ...,\n",
       "           [195, 184, 169],\n",
       "           [196, 189, 171],\n",
       "           [195, 190, 171]]],\n",
       "  \n",
       "  \n",
       "         [[[229, 229, 239],\n",
       "           [236, 237, 247],\n",
       "           [234, 236, 247],\n",
       "           ...,\n",
       "           [217, 219, 233],\n",
       "           [221, 223, 234],\n",
       "           [222, 223, 233]],\n",
       "  \n",
       "          [[222, 221, 229],\n",
       "           [239, 239, 249],\n",
       "           [233, 234, 246],\n",
       "           ...,\n",
       "           [223, 223, 236],\n",
       "           [227, 228, 238],\n",
       "           [210, 211, 220]],\n",
       "  \n",
       "          [[213, 206, 211],\n",
       "           [234, 232, 239],\n",
       "           [231, 233, 244],\n",
       "           ...,\n",
       "           [220, 220, 232],\n",
       "           [220, 219, 232],\n",
       "           [202, 203, 215]],\n",
       "  \n",
       "          ...,\n",
       "  \n",
       "          [[150, 143, 135],\n",
       "           [140, 135, 127],\n",
       "           [132, 127, 120],\n",
       "           ...,\n",
       "           [224, 222, 218],\n",
       "           [230, 228, 225],\n",
       "           [241, 241, 238]],\n",
       "  \n",
       "          [[137, 132, 126],\n",
       "           [130, 127, 120],\n",
       "           [125, 121, 115],\n",
       "           ...,\n",
       "           [181, 180, 178],\n",
       "           [202, 201, 198],\n",
       "           [212, 211, 207]],\n",
       "  \n",
       "          [[122, 119, 114],\n",
       "           [118, 116, 110],\n",
       "           [120, 116, 111],\n",
       "           ...,\n",
       "           [179, 177, 173],\n",
       "           [164, 164, 162],\n",
       "           [163, 163, 161]]]], dtype=uint8),\n",
       "  array([[6],\n",
       "         [9],\n",
       "         [9],\n",
       "         ...,\n",
       "         [9],\n",
       "         [1],\n",
       "         [1]], dtype=uint8)),\n",
       " (array([[[[158, 112,  49],\n",
       "           [159, 111,  47],\n",
       "           [165, 116,  51],\n",
       "           ...,\n",
       "           [137,  95,  36],\n",
       "           [126,  91,  36],\n",
       "           [116,  85,  33]],\n",
       "  \n",
       "          [[152, 112,  51],\n",
       "           [151, 110,  40],\n",
       "           [159, 114,  45],\n",
       "           ...,\n",
       "           [136,  95,  31],\n",
       "           [125,  91,  32],\n",
       "           [119,  88,  34]],\n",
       "  \n",
       "          [[151, 110,  47],\n",
       "           [151, 109,  33],\n",
       "           [158, 111,  36],\n",
       "           ...,\n",
       "           [139,  98,  34],\n",
       "           [130,  95,  34],\n",
       "           [120,  89,  33]],\n",
       "  \n",
       "          ...,\n",
       "  \n",
       "          [[ 68, 124, 177],\n",
       "           [ 42, 100, 148],\n",
       "           [ 31,  88, 137],\n",
       "           ...,\n",
       "           [ 38,  97, 146],\n",
       "           [ 13,  64, 108],\n",
       "           [ 40,  85, 127]],\n",
       "  \n",
       "          [[ 61, 116, 168],\n",
       "           [ 49, 102, 148],\n",
       "           [ 35,  85, 132],\n",
       "           ...,\n",
       "           [ 26,  82, 130],\n",
       "           [ 29,  82, 126],\n",
       "           [ 20,  64, 107]],\n",
       "  \n",
       "          [[ 54, 107, 160],\n",
       "           [ 56, 105, 149],\n",
       "           [ 45,  89, 132],\n",
       "           ...,\n",
       "           [ 24,  77, 124],\n",
       "           [ 34,  84, 129],\n",
       "           [ 21,  67, 110]]],\n",
       "  \n",
       "  \n",
       "         [[[235, 235, 235],\n",
       "           [231, 231, 231],\n",
       "           [232, 232, 232],\n",
       "           ...,\n",
       "           [233, 233, 233],\n",
       "           [233, 233, 233],\n",
       "           [232, 232, 232]],\n",
       "  \n",
       "          [[238, 238, 238],\n",
       "           [235, 235, 235],\n",
       "           [235, 235, 235],\n",
       "           ...,\n",
       "           [236, 236, 236],\n",
       "           [236, 236, 236],\n",
       "           [235, 235, 235]],\n",
       "  \n",
       "          [[237, 237, 237],\n",
       "           [234, 234, 234],\n",
       "           [234, 234, 234],\n",
       "           ...,\n",
       "           [235, 235, 235],\n",
       "           [235, 235, 235],\n",
       "           [234, 234, 234]],\n",
       "  \n",
       "          ...,\n",
       "  \n",
       "          [[ 87,  99,  89],\n",
       "           [ 43,  51,  37],\n",
       "           [ 19,  23,  11],\n",
       "           ...,\n",
       "           [169, 184, 179],\n",
       "           [182, 197, 193],\n",
       "           [188, 202, 201]],\n",
       "  \n",
       "          [[ 82,  96,  82],\n",
       "           [ 46,  57,  36],\n",
       "           [ 36,  44,  22],\n",
       "           ...,\n",
       "           [174, 189, 183],\n",
       "           [185, 200, 196],\n",
       "           [187, 202, 200]],\n",
       "  \n",
       "          [[ 85, 101,  83],\n",
       "           [ 62,  75,  48],\n",
       "           [ 58,  67,  38],\n",
       "           ...,\n",
       "           [168, 183, 178],\n",
       "           [180, 195, 191],\n",
       "           [186, 200, 199]]],\n",
       "  \n",
       "  \n",
       "         [[[158, 190, 222],\n",
       "           [158, 187, 218],\n",
       "           [139, 166, 194],\n",
       "           ...,\n",
       "           [228, 231, 234],\n",
       "           [237, 239, 243],\n",
       "           [238, 241, 246]],\n",
       "  \n",
       "          [[170, 200, 229],\n",
       "           [172, 199, 226],\n",
       "           [151, 176, 201],\n",
       "           ...,\n",
       "           [232, 232, 236],\n",
       "           [246, 246, 250],\n",
       "           [246, 247, 251]],\n",
       "  \n",
       "          [[174, 201, 225],\n",
       "           [176, 200, 222],\n",
       "           [157, 179, 199],\n",
       "           ...,\n",
       "           [230, 229, 232],\n",
       "           [250, 249, 251],\n",
       "           [245, 244, 247]],\n",
       "  \n",
       "          ...,\n",
       "  \n",
       "          [[ 31,  40,  45],\n",
       "           [ 30,  39,  44],\n",
       "           [ 26,  35,  40],\n",
       "           ...,\n",
       "           [ 37,  40,  46],\n",
       "           [  9,  13,  14],\n",
       "           [  4,   7,   5]],\n",
       "  \n",
       "          [[ 23,  34,  39],\n",
       "           [ 27,  38,  43],\n",
       "           [ 25,  36,  41],\n",
       "           ...,\n",
       "           [ 19,  20,  24],\n",
       "           [  4,   6,   3],\n",
       "           [  5,   7,   3]],\n",
       "  \n",
       "          [[ 28,  41,  47],\n",
       "           [ 30,  43,  50],\n",
       "           [ 32,  45,  52],\n",
       "           ...,\n",
       "           [  5,   6,   8],\n",
       "           [  4,   5,   3],\n",
       "           [  7,   8,   7]]],\n",
       "  \n",
       "  \n",
       "         ...,\n",
       "  \n",
       "  \n",
       "         [[[ 20,  15,  12],\n",
       "           [ 19,  14,  11],\n",
       "           [ 15,  14,  11],\n",
       "           ...,\n",
       "           [ 10,   9,   7],\n",
       "           [ 12,  11,   9],\n",
       "           [ 13,  12,  10]],\n",
       "  \n",
       "          [[ 21,  16,  13],\n",
       "           [ 20,  16,  13],\n",
       "           [ 18,  17,  12],\n",
       "           ...,\n",
       "           [ 10,   9,   7],\n",
       "           [ 10,   9,   7],\n",
       "           [ 12,  11,   9]],\n",
       "  \n",
       "          [[ 21,  16,  13],\n",
       "           [ 21,  17,  12],\n",
       "           [ 20,  18,  11],\n",
       "           ...,\n",
       "           [ 12,  11,   9],\n",
       "           [ 12,  11,   9],\n",
       "           [ 13,  12,  10]],\n",
       "  \n",
       "          ...,\n",
       "  \n",
       "          [[ 33,  25,  13],\n",
       "           [ 34,  26,  15],\n",
       "           [ 34,  26,  15],\n",
       "           ...,\n",
       "           [ 28,  25,  52],\n",
       "           [ 29,  25,  58],\n",
       "           [ 23,  20,  42]],\n",
       "  \n",
       "          [[ 33,  25,  14],\n",
       "           [ 34,  26,  15],\n",
       "           [ 34,  26,  15],\n",
       "           ...,\n",
       "           [ 27,  24,  52],\n",
       "           [ 27,  24,  56],\n",
       "           [ 25,  22,  47]],\n",
       "  \n",
       "          [[ 31,  23,  12],\n",
       "           [ 32,  24,  13],\n",
       "           [ 33,  25,  14],\n",
       "           ...,\n",
       "           [ 24,  23,  50],\n",
       "           [ 26,  23,  53],\n",
       "           [ 25,  20,  47]]],\n",
       "  \n",
       "  \n",
       "         [[[ 25,  40,  12],\n",
       "           [ 15,  36,   3],\n",
       "           [ 23,  41,  18],\n",
       "           ...,\n",
       "           [ 61,  82,  78],\n",
       "           [ 92, 113, 112],\n",
       "           [ 75,  89,  92]],\n",
       "  \n",
       "          [[ 12,  25,   6],\n",
       "           [ 20,  37,   7],\n",
       "           [ 24,  36,  15],\n",
       "           ...,\n",
       "           [115, 134, 138],\n",
       "           [149, 168, 177],\n",
       "           [104, 117, 131]],\n",
       "  \n",
       "          [[ 12,  25,  11],\n",
       "           [ 15,  29,   6],\n",
       "           [ 34,  40,  24],\n",
       "           ...,\n",
       "           [154, 172, 182],\n",
       "           [157, 175, 192],\n",
       "           [116, 129, 151]],\n",
       "  \n",
       "          ...,\n",
       "  \n",
       "          [[100, 129,  81],\n",
       "           [103, 132,  84],\n",
       "           [104, 134,  86],\n",
       "           ...,\n",
       "           [ 97, 128,  84],\n",
       "           [ 98, 126,  84],\n",
       "           [ 91, 121,  79]],\n",
       "  \n",
       "          [[103, 132,  83],\n",
       "           [104, 131,  83],\n",
       "           [107, 135,  87],\n",
       "           ...,\n",
       "           [101, 132,  87],\n",
       "           [ 99, 127,  84],\n",
       "           [ 92, 121,  79]],\n",
       "  \n",
       "          [[ 95, 126,  78],\n",
       "           [ 95, 123,  76],\n",
       "           [101, 128,  81],\n",
       "           ...,\n",
       "           [ 93, 124,  80],\n",
       "           [ 95, 123,  81],\n",
       "           [ 92, 120,  80]]],\n",
       "  \n",
       "  \n",
       "         [[[ 73,  78,  75],\n",
       "           [ 98, 103, 113],\n",
       "           [ 99, 106, 114],\n",
       "           ...,\n",
       "           [135, 150, 152],\n",
       "           [135, 149, 154],\n",
       "           [203, 215, 223]],\n",
       "  \n",
       "          [[ 69,  73,  70],\n",
       "           [ 84,  89,  97],\n",
       "           [ 68,  75,  81],\n",
       "           ...,\n",
       "           [ 85,  95,  89],\n",
       "           [ 71,  82,  80],\n",
       "           [120, 133, 135]],\n",
       "  \n",
       "          [[ 69,  73,  70],\n",
       "           [ 90,  95, 100],\n",
       "           [ 62,  71,  74],\n",
       "           ...,\n",
       "           [ 74,  81,  70],\n",
       "           [ 53,  62,  54],\n",
       "           [ 62,  74,  69]],\n",
       "  \n",
       "          ...,\n",
       "  \n",
       "          [[123, 128,  96],\n",
       "           [132, 132, 102],\n",
       "           [129, 128, 100],\n",
       "           ...,\n",
       "           [108, 107,  88],\n",
       "           [ 62,  60,  55],\n",
       "           [ 27,  27,  28]],\n",
       "  \n",
       "          [[115, 121,  91],\n",
       "           [123, 124,  95],\n",
       "           [129, 126,  99],\n",
       "           ...,\n",
       "           [115, 116,  94],\n",
       "           [ 66,  65,  59],\n",
       "           [ 27,  27,  27]],\n",
       "  \n",
       "          [[116, 120,  90],\n",
       "           [121, 122,  94],\n",
       "           [129, 128, 101],\n",
       "           ...,\n",
       "           [116, 115,  94],\n",
       "           [ 68,  65,  58],\n",
       "           [ 27,  26,  26]]]], dtype=uint8),\n",
       "  array([[3],\n",
       "         [8],\n",
       "         [8],\n",
       "         ...,\n",
       "         [5],\n",
       "         [1],\n",
       "         [7]])))"
      ]
     },
     "execution_count": 23,
     "metadata": {},
     "output_type": "execute_result"
    }
   ],
   "source": [
    "tf.keras.datasets.cifar10.load_data()"
   ]
  },
  {
   "cell_type": "code",
   "execution_count": 24,
   "metadata": {},
   "outputs": [],
   "source": [
    "import numpy as np\n",
    "import pandas as pd\n",
    "\n",
    "import matplotlib.pyplot as plt\n",
    "%matplotlib inline \n",
    "\n",
    "import cv2\n",
    "\n",
    "import os"
   ]
  },
  {
   "cell_type": "code",
   "execution_count": 25,
   "metadata": {},
   "outputs": [],
   "source": [
    "# Fixed for our Cats & Dogs classes\n",
    "NUM_CLASSES = 2\n",
    "\n",
    "# Fixed for Cats & Dogs color images\n",
    "CHANNELS = 3\n",
    "\n",
    "IMAGE_RESIZE = 224\n",
    "RESNET50_POOLING_AVERAGE = 'avg'\n",
    "DENSE_LAYER_ACTIVATION = 'softmax'\n",
    "OBJECTIVE_FUNCTION = 'categorical_crossentropy'\n",
    "\n",
    "# Common accuracy metric for all outputs, but can use different metrics for different output\n",
    "LOSS_METRICS = ['accuracy']\n",
    "\n",
    "# EARLY_STOP_PATIENCE must be < NUM_EPOCHS\n",
    "NUM_EPOCHS = 10\n",
    "EARLY_STOP_PATIENCE = 3\n",
    "\n",
    "# These steps value should be proper FACTOR of no.-of-images in train & valid folders respectively\n",
    "# Training images processed in each step would be no.-of-train-images / STEPS_PER_EPOCH_TRAINING\n",
    "STEPS_PER_EPOCH_TRAINING = 10\n",
    "STEPS_PER_EPOCH_VALIDATION = 10\n",
    "\n",
    "# These steps value should be proper FACTOR of no.-of-images in train & valid folders respectively\n",
    "# NOTE that these BATCH* are for Keras ImageDataGenerator batching to fill epoch step input\n",
    "BATCH_SIZE_TRAINING = 100\n",
    "BATCH_SIZE_VALIDATION = 100\n",
    "\n",
    "# Using 1 to easily manage mapping between test_generator & prediction for submission preparation\n",
    "BATCH_SIZE_TESTING = 1"
   ]
  },
  {
   "cell_type": "code",
   "execution_count": 26,
   "metadata": {},
   "outputs": [],
   "source": [
    "from tensorflow.python.keras.applications import ResNet50\n",
    "from tensorflow.python.keras.models import Sequential\n",
    "from tensorflow.python.keras.layers import Dense\n",
    "\n",
    "### \n",
    "### Below systax is available with TensorFlow 1.11 onwards but this upgrade is not available for Kaggle kernel yet\n",
    "###\n",
    "#import tensorflow as tf\n",
    "#print(tf.__version__)\n",
    "#import tensorflow as tf\n",
    "#from tf.keras.applications import ResNet50\n",
    "#from tf.keras.models import Sequential"
   ]
  },
  {
   "cell_type": "code",
   "execution_count": 27,
   "metadata": {},
   "outputs": [],
   "source": [
    "resnet_weights_path = '../input/resnet50/resnet50_weights_tf_dim_ordering_tf_kernels_notop.h5'"
   ]
  },
  {
   "cell_type": "code",
   "execution_count": 28,
   "metadata": {},
   "outputs": [
    {
     "ename": "ValueError",
     "evalue": "The `weights` argument should be either `None` (random initialization), `imagenet` (pre-training on ImageNet), or the path to the weights file to be loaded.",
     "output_type": "error",
     "traceback": [
      "\u001b[1;31m---------------------------------------------------------------------------\u001b[0m",
      "\u001b[1;31mValueError\u001b[0m                                Traceback (most recent call last)",
      "\u001b[1;32m<ipython-input-28-78755d0e71c7>\u001b[0m in \u001b[0;36m<module>\u001b[1;34m\u001b[0m\n\u001b[0;32m      5\u001b[0m \u001b[1;31m# 1st layer as the lumpsum weights from resnet50_weights_tf_dim_ordering_tf_kernels_notop.h5\u001b[0m\u001b[1;33m\u001b[0m\u001b[1;33m\u001b[0m\u001b[1;33m\u001b[0m\u001b[0m\n\u001b[0;32m      6\u001b[0m \u001b[1;31m# NOTE that this layer will be set below as NOT TRAINABLE, i.e., use it as is\u001b[0m\u001b[1;33m\u001b[0m\u001b[1;33m\u001b[0m\u001b[1;33m\u001b[0m\u001b[0m\n\u001b[1;32m----> 7\u001b[1;33m \u001b[0mmodel\u001b[0m\u001b[1;33m.\u001b[0m\u001b[0madd\u001b[0m\u001b[1;33m(\u001b[0m\u001b[0mResNet50\u001b[0m\u001b[1;33m(\u001b[0m\u001b[0minclude_top\u001b[0m \u001b[1;33m=\u001b[0m \u001b[1;32mFalse\u001b[0m\u001b[1;33m,\u001b[0m \u001b[0mpooling\u001b[0m \u001b[1;33m=\u001b[0m \u001b[0mRESNET50_POOLING_AVERAGE\u001b[0m\u001b[1;33m,\u001b[0m \u001b[0mweights\u001b[0m \u001b[1;33m=\u001b[0m \u001b[0mresnet_weights_path\u001b[0m\u001b[1;33m)\u001b[0m\u001b[1;33m)\u001b[0m\u001b[1;33m\u001b[0m\u001b[1;33m\u001b[0m\u001b[0m\n\u001b[0m\u001b[0;32m      8\u001b[0m \u001b[1;33m\u001b[0m\u001b[0m\n\u001b[0;32m      9\u001b[0m \u001b[1;31m# 2nd layer as Dense for 2-class classification, i.e., dog or cat using SoftMax activation\u001b[0m\u001b[1;33m\u001b[0m\u001b[1;33m\u001b[0m\u001b[1;33m\u001b[0m\u001b[0m\n",
      "\u001b[1;32mD:\\anaconda3\\lib\\site-packages\\tensorflow\\python\\keras\\applications\\__init__.py\u001b[0m in \u001b[0;36mwrapper\u001b[1;34m(*args, **kwargs)\u001b[0m\n\u001b[0;32m     68\u001b[0m       \u001b[0mkwargs\u001b[0m\u001b[1;33m[\u001b[0m\u001b[1;34m'models'\u001b[0m\u001b[1;33m]\u001b[0m \u001b[1;33m=\u001b[0m \u001b[0mmodels\u001b[0m\u001b[1;33m\u001b[0m\u001b[1;33m\u001b[0m\u001b[0m\n\u001b[0;32m     69\u001b[0m       \u001b[0mkwargs\u001b[0m\u001b[1;33m[\u001b[0m\u001b[1;34m'utils'\u001b[0m\u001b[1;33m]\u001b[0m \u001b[1;33m=\u001b[0m \u001b[0mutils\u001b[0m\u001b[1;33m\u001b[0m\u001b[1;33m\u001b[0m\u001b[0m\n\u001b[1;32m---> 70\u001b[1;33m     \u001b[1;32mreturn\u001b[0m \u001b[0mbase_fun\u001b[0m\u001b[1;33m(\u001b[0m\u001b[1;33m*\u001b[0m\u001b[0margs\u001b[0m\u001b[1;33m,\u001b[0m \u001b[1;33m**\u001b[0m\u001b[0mkwargs\u001b[0m\u001b[1;33m)\u001b[0m\u001b[1;33m\u001b[0m\u001b[1;33m\u001b[0m\u001b[0m\n\u001b[0m\u001b[0;32m     71\u001b[0m   \u001b[1;32mreturn\u001b[0m \u001b[0mwrapper\u001b[0m\u001b[1;33m\u001b[0m\u001b[1;33m\u001b[0m\u001b[0m\n\u001b[0;32m     72\u001b[0m \u001b[1;33m\u001b[0m\u001b[0m\n",
      "\u001b[1;32mD:\\anaconda3\\lib\\site-packages\\tensorflow\\python\\keras\\applications\\resnet50.py\u001b[0m in \u001b[0;36mResNet50\u001b[1;34m(*args, **kwargs)\u001b[0m\n\u001b[0;32m     30\u001b[0m \u001b[1;33m@\u001b[0m\u001b[0mkeras_modules_injection\u001b[0m\u001b[1;33m\u001b[0m\u001b[1;33m\u001b[0m\u001b[0m\n\u001b[0;32m     31\u001b[0m \u001b[1;32mdef\u001b[0m \u001b[0mResNet50\u001b[0m\u001b[1;33m(\u001b[0m\u001b[1;33m*\u001b[0m\u001b[0margs\u001b[0m\u001b[1;33m,\u001b[0m \u001b[1;33m**\u001b[0m\u001b[0mkwargs\u001b[0m\u001b[1;33m)\u001b[0m\u001b[1;33m:\u001b[0m\u001b[1;33m\u001b[0m\u001b[1;33m\u001b[0m\u001b[0m\n\u001b[1;32m---> 32\u001b[1;33m   \u001b[1;32mreturn\u001b[0m \u001b[0mresnet50\u001b[0m\u001b[1;33m.\u001b[0m\u001b[0mResNet50\u001b[0m\u001b[1;33m(\u001b[0m\u001b[1;33m*\u001b[0m\u001b[0margs\u001b[0m\u001b[1;33m,\u001b[0m \u001b[1;33m**\u001b[0m\u001b[0mkwargs\u001b[0m\u001b[1;33m)\u001b[0m\u001b[1;33m\u001b[0m\u001b[1;33m\u001b[0m\u001b[0m\n\u001b[0m\u001b[0;32m     33\u001b[0m \u001b[1;33m\u001b[0m\u001b[0m\n\u001b[0;32m     34\u001b[0m \u001b[1;33m\u001b[0m\u001b[0m\n",
      "\u001b[1;32mD:\\anaconda3\\lib\\site-packages\\keras_applications\\resnet50.py\u001b[0m in \u001b[0;36mResNet50\u001b[1;34m(include_top, weights, input_tensor, input_shape, pooling, classes, **kwargs)\u001b[0m\n\u001b[0;32m    194\u001b[0m \u001b[1;33m\u001b[0m\u001b[0m\n\u001b[0;32m    195\u001b[0m     \u001b[1;32mif\u001b[0m \u001b[1;32mnot\u001b[0m \u001b[1;33m(\u001b[0m\u001b[0mweights\u001b[0m \u001b[1;32min\u001b[0m \u001b[1;33m{\u001b[0m\u001b[1;34m'imagenet'\u001b[0m\u001b[1;33m,\u001b[0m \u001b[1;32mNone\u001b[0m\u001b[1;33m}\u001b[0m \u001b[1;32mor\u001b[0m \u001b[0mos\u001b[0m\u001b[1;33m.\u001b[0m\u001b[0mpath\u001b[0m\u001b[1;33m.\u001b[0m\u001b[0mexists\u001b[0m\u001b[1;33m(\u001b[0m\u001b[0mweights\u001b[0m\u001b[1;33m)\u001b[0m\u001b[1;33m)\u001b[0m\u001b[1;33m:\u001b[0m\u001b[1;33m\u001b[0m\u001b[1;33m\u001b[0m\u001b[0m\n\u001b[1;32m--> 196\u001b[1;33m         raise ValueError('The `weights` argument should be either '\n\u001b[0m\u001b[0;32m    197\u001b[0m                          \u001b[1;34m'`None` (random initialization), `imagenet` '\u001b[0m\u001b[1;33m\u001b[0m\u001b[1;33m\u001b[0m\u001b[0m\n\u001b[0;32m    198\u001b[0m                          \u001b[1;34m'(pre-training on ImageNet), '\u001b[0m\u001b[1;33m\u001b[0m\u001b[1;33m\u001b[0m\u001b[0m\n",
      "\u001b[1;31mValueError\u001b[0m: The `weights` argument should be either `None` (random initialization), `imagenet` (pre-training on ImageNet), or the path to the weights file to be loaded."
     ]
    }
   ],
   "source": [
    "#Still not talking about our train/test data or any pre-processing.\n",
    "\n",
    "model = Sequential()\n",
    "\n",
    "# 1st layer as the lumpsum weights from resnet50_weights_tf_dim_ordering_tf_kernels_notop.h5\n",
    "# NOTE that this layer will be set below as NOT TRAINABLE, i.e., use it as is\n",
    "model.add(ResNet50(include_top = False, pooling = RESNET50_POOLING_AVERAGE, weights = resnet_weights_path))\n",
    "\n",
    "# 2nd layer as Dense for 2-class classification, i.e., dog or cat using SoftMax activation\n",
    "model.add(Dense(NUM_CLASSES, activation = DENSE_LAYER_ACTIVATION))\n",
    "\n",
    "# Say not to train first layer (ResNet) model as it is already trained\n",
    "model.layers[0].trainable = False"
   ]
  },
  {
   "cell_type": "code",
   "execution_count": 29,
   "metadata": {},
   "outputs": [
    {
     "ename": "KeyError",
     "evalue": "'comment_text'",
     "output_type": "error",
     "traceback": [
      "\u001b[1;31m---------------------------------------------------------------------------\u001b[0m",
      "\u001b[1;31mKeyError\u001b[0m                                  Traceback (most recent call last)",
      "\u001b[1;32mD:\\anaconda3\\lib\\site-packages\\pandas\\core\\indexes\\base.py\u001b[0m in \u001b[0;36mget_loc\u001b[1;34m(self, key, method, tolerance)\u001b[0m\n\u001b[0;32m   2645\u001b[0m             \u001b[1;32mtry\u001b[0m\u001b[1;33m:\u001b[0m\u001b[1;33m\u001b[0m\u001b[1;33m\u001b[0m\u001b[0m\n\u001b[1;32m-> 2646\u001b[1;33m                 \u001b[1;32mreturn\u001b[0m \u001b[0mself\u001b[0m\u001b[1;33m.\u001b[0m\u001b[0m_engine\u001b[0m\u001b[1;33m.\u001b[0m\u001b[0mget_loc\u001b[0m\u001b[1;33m(\u001b[0m\u001b[0mkey\u001b[0m\u001b[1;33m)\u001b[0m\u001b[1;33m\u001b[0m\u001b[1;33m\u001b[0m\u001b[0m\n\u001b[0m\u001b[0;32m   2647\u001b[0m             \u001b[1;32mexcept\u001b[0m \u001b[0mKeyError\u001b[0m\u001b[1;33m:\u001b[0m\u001b[1;33m\u001b[0m\u001b[1;33m\u001b[0m\u001b[0m\n",
      "\u001b[1;32mpandas\\_libs\\index.pyx\u001b[0m in \u001b[0;36mpandas._libs.index.IndexEngine.get_loc\u001b[1;34m()\u001b[0m\n",
      "\u001b[1;32mpandas\\_libs\\index.pyx\u001b[0m in \u001b[0;36mpandas._libs.index.IndexEngine.get_loc\u001b[1;34m()\u001b[0m\n",
      "\u001b[1;32mpandas\\_libs\\hashtable_class_helper.pxi\u001b[0m in \u001b[0;36mpandas._libs.hashtable.PyObjectHashTable.get_item\u001b[1;34m()\u001b[0m\n",
      "\u001b[1;32mpandas\\_libs\\hashtable_class_helper.pxi\u001b[0m in \u001b[0;36mpandas._libs.hashtable.PyObjectHashTable.get_item\u001b[1;34m()\u001b[0m\n",
      "\u001b[1;31mKeyError\u001b[0m: 'comment_text'",
      "\nDuring handling of the above exception, another exception occurred:\n",
      "\u001b[1;31mKeyError\u001b[0m                                  Traceback (most recent call last)",
      "\u001b[1;32m<ipython-input-29-bbb7fe322a2f>\u001b[0m in \u001b[0;36m<module>\u001b[1;34m\u001b[0m\n\u001b[0;32m     64\u001b[0m \u001b[0mtest_df\u001b[0m \u001b[1;33m=\u001b[0m \u001b[0mpd\u001b[0m\u001b[1;33m.\u001b[0m\u001b[0mread_csv\u001b[0m\u001b[1;33m(\u001b[0m\u001b[1;34m'ml-100k/ua.test'\u001b[0m\u001b[1;33m)\u001b[0m\u001b[1;33m\u001b[0m\u001b[1;33m\u001b[0m\u001b[0m\n\u001b[0;32m     65\u001b[0m \u001b[1;33m\u001b[0m\u001b[0m\n\u001b[1;32m---> 66\u001b[1;33m \u001b[0mx_train\u001b[0m \u001b[1;33m=\u001b[0m \u001b[0mtrain_df\u001b[0m\u001b[1;33m[\u001b[0m\u001b[0mTEXT_COLUMN\u001b[0m\u001b[1;33m]\u001b[0m\u001b[1;33m.\u001b[0m\u001b[0mastype\u001b[0m\u001b[1;33m(\u001b[0m\u001b[0mstr\u001b[0m\u001b[1;33m)\u001b[0m\u001b[1;33m\u001b[0m\u001b[1;33m\u001b[0m\u001b[0m\n\u001b[0m\u001b[0;32m     67\u001b[0m \u001b[0my_train\u001b[0m \u001b[1;33m=\u001b[0m \u001b[0mtrain_df\u001b[0m\u001b[1;33m[\u001b[0m\u001b[0mTARGET_COLUMN\u001b[0m\u001b[1;33m]\u001b[0m\u001b[1;33m.\u001b[0m\u001b[0mvalues\u001b[0m\u001b[1;33m\u001b[0m\u001b[1;33m\u001b[0m\u001b[0m\n\u001b[0;32m     68\u001b[0m \u001b[0my_aux_train\u001b[0m \u001b[1;33m=\u001b[0m \u001b[0mtrain_df\u001b[0m\u001b[1;33m[\u001b[0m\u001b[0mAUX_COLUMNS\u001b[0m\u001b[1;33m]\u001b[0m\u001b[1;33m.\u001b[0m\u001b[0mvalues\u001b[0m\u001b[1;33m\u001b[0m\u001b[1;33m\u001b[0m\u001b[0m\n",
      "\u001b[1;32mD:\\anaconda3\\lib\\site-packages\\pandas\\core\\frame.py\u001b[0m in \u001b[0;36m__getitem__\u001b[1;34m(self, key)\u001b[0m\n\u001b[0;32m   2798\u001b[0m             \u001b[1;32mif\u001b[0m \u001b[0mself\u001b[0m\u001b[1;33m.\u001b[0m\u001b[0mcolumns\u001b[0m\u001b[1;33m.\u001b[0m\u001b[0mnlevels\u001b[0m \u001b[1;33m>\u001b[0m \u001b[1;36m1\u001b[0m\u001b[1;33m:\u001b[0m\u001b[1;33m\u001b[0m\u001b[1;33m\u001b[0m\u001b[0m\n\u001b[0;32m   2799\u001b[0m                 \u001b[1;32mreturn\u001b[0m \u001b[0mself\u001b[0m\u001b[1;33m.\u001b[0m\u001b[0m_getitem_multilevel\u001b[0m\u001b[1;33m(\u001b[0m\u001b[0mkey\u001b[0m\u001b[1;33m)\u001b[0m\u001b[1;33m\u001b[0m\u001b[1;33m\u001b[0m\u001b[0m\n\u001b[1;32m-> 2800\u001b[1;33m             \u001b[0mindexer\u001b[0m \u001b[1;33m=\u001b[0m \u001b[0mself\u001b[0m\u001b[1;33m.\u001b[0m\u001b[0mcolumns\u001b[0m\u001b[1;33m.\u001b[0m\u001b[0mget_loc\u001b[0m\u001b[1;33m(\u001b[0m\u001b[0mkey\u001b[0m\u001b[1;33m)\u001b[0m\u001b[1;33m\u001b[0m\u001b[1;33m\u001b[0m\u001b[0m\n\u001b[0m\u001b[0;32m   2801\u001b[0m             \u001b[1;32mif\u001b[0m \u001b[0mis_integer\u001b[0m\u001b[1;33m(\u001b[0m\u001b[0mindexer\u001b[0m\u001b[1;33m)\u001b[0m\u001b[1;33m:\u001b[0m\u001b[1;33m\u001b[0m\u001b[1;33m\u001b[0m\u001b[0m\n\u001b[0;32m   2802\u001b[0m                 \u001b[0mindexer\u001b[0m \u001b[1;33m=\u001b[0m \u001b[1;33m[\u001b[0m\u001b[0mindexer\u001b[0m\u001b[1;33m]\u001b[0m\u001b[1;33m\u001b[0m\u001b[1;33m\u001b[0m\u001b[0m\n",
      "\u001b[1;32mD:\\anaconda3\\lib\\site-packages\\pandas\\core\\indexes\\base.py\u001b[0m in \u001b[0;36mget_loc\u001b[1;34m(self, key, method, tolerance)\u001b[0m\n\u001b[0;32m   2646\u001b[0m                 \u001b[1;32mreturn\u001b[0m \u001b[0mself\u001b[0m\u001b[1;33m.\u001b[0m\u001b[0m_engine\u001b[0m\u001b[1;33m.\u001b[0m\u001b[0mget_loc\u001b[0m\u001b[1;33m(\u001b[0m\u001b[0mkey\u001b[0m\u001b[1;33m)\u001b[0m\u001b[1;33m\u001b[0m\u001b[1;33m\u001b[0m\u001b[0m\n\u001b[0;32m   2647\u001b[0m             \u001b[1;32mexcept\u001b[0m \u001b[0mKeyError\u001b[0m\u001b[1;33m:\u001b[0m\u001b[1;33m\u001b[0m\u001b[1;33m\u001b[0m\u001b[0m\n\u001b[1;32m-> 2648\u001b[1;33m                 \u001b[1;32mreturn\u001b[0m \u001b[0mself\u001b[0m\u001b[1;33m.\u001b[0m\u001b[0m_engine\u001b[0m\u001b[1;33m.\u001b[0m\u001b[0mget_loc\u001b[0m\u001b[1;33m(\u001b[0m\u001b[0mself\u001b[0m\u001b[1;33m.\u001b[0m\u001b[0m_maybe_cast_indexer\u001b[0m\u001b[1;33m(\u001b[0m\u001b[0mkey\u001b[0m\u001b[1;33m)\u001b[0m\u001b[1;33m)\u001b[0m\u001b[1;33m\u001b[0m\u001b[1;33m\u001b[0m\u001b[0m\n\u001b[0m\u001b[0;32m   2649\u001b[0m         \u001b[0mindexer\u001b[0m \u001b[1;33m=\u001b[0m \u001b[0mself\u001b[0m\u001b[1;33m.\u001b[0m\u001b[0mget_indexer\u001b[0m\u001b[1;33m(\u001b[0m\u001b[1;33m[\u001b[0m\u001b[0mkey\u001b[0m\u001b[1;33m]\u001b[0m\u001b[1;33m,\u001b[0m \u001b[0mmethod\u001b[0m\u001b[1;33m=\u001b[0m\u001b[0mmethod\u001b[0m\u001b[1;33m,\u001b[0m \u001b[0mtolerance\u001b[0m\u001b[1;33m=\u001b[0m\u001b[0mtolerance\u001b[0m\u001b[1;33m)\u001b[0m\u001b[1;33m\u001b[0m\u001b[1;33m\u001b[0m\u001b[0m\n\u001b[0;32m   2650\u001b[0m         \u001b[1;32mif\u001b[0m \u001b[0mindexer\u001b[0m\u001b[1;33m.\u001b[0m\u001b[0mndim\u001b[0m \u001b[1;33m>\u001b[0m \u001b[1;36m1\u001b[0m \u001b[1;32mor\u001b[0m \u001b[0mindexer\u001b[0m\u001b[1;33m.\u001b[0m\u001b[0msize\u001b[0m \u001b[1;33m>\u001b[0m \u001b[1;36m1\u001b[0m\u001b[1;33m:\u001b[0m\u001b[1;33m\u001b[0m\u001b[1;33m\u001b[0m\u001b[0m\n",
      "\u001b[1;32mpandas\\_libs\\index.pyx\u001b[0m in \u001b[0;36mpandas._libs.index.IndexEngine.get_loc\u001b[1;34m()\u001b[0m\n",
      "\u001b[1;32mpandas\\_libs\\index.pyx\u001b[0m in \u001b[0;36mpandas._libs.index.IndexEngine.get_loc\u001b[1;34m()\u001b[0m\n",
      "\u001b[1;32mpandas\\_libs\\hashtable_class_helper.pxi\u001b[0m in \u001b[0;36mpandas._libs.hashtable.PyObjectHashTable.get_item\u001b[1;34m()\u001b[0m\n",
      "\u001b[1;32mpandas\\_libs\\hashtable_class_helper.pxi\u001b[0m in \u001b[0;36mpandas._libs.hashtable.PyObjectHashTable.get_item\u001b[1;34m()\u001b[0m\n",
      "\u001b[1;31mKeyError\u001b[0m: 'comment_text'"
     ]
    }
   ],
   "source": [
    "import numpy as np\n",
    "import pandas as pd\n",
    "from keras.models import Model\n",
    "from keras.layers import Input, Dense, Embedding, SpatialDropout1D, add, concatenate\n",
    "from keras.layers import CuDNNLSTM, Bidirectional, GlobalMaxPooling1D, GlobalAveragePooling1D\n",
    "from keras.preprocessing import text, sequence\n",
    "from gensim.models import KeyedVectors\n",
    "\n",
    "\n",
    "EMBEDDING_FILES = [\n",
    "    'ml-100k/ua.base',\n",
    "    'ml-100k/ua.test'\n",
    "]\n",
    "NUM_MODELS = 2\n",
    "BATCH_SIZE = 512\n",
    "LSTM_UNITS = 128\n",
    "DENSE_HIDDEN_UNITS = 4 * LSTM_UNITS\n",
    "EPOCHS = 4\n",
    "MAX_LEN = 220\n",
    "IDENTITY_COLUMNS =['user_id', 'movie_id', 'rating', 'unix_timestamp']\n",
    "AUX_COLUMNS = ['target', 'severe_toxicity', 'obscene', 'identity_attack', 'insult', 'threat']\n",
    "TEXT_COLUMN = 'comment_text'\n",
    "TARGET_COLUMN = 'target'\n",
    "CHARS_TO_REMOVE = '!\"#$%&()*+,-./:;<=>?@[\\\\]^_`{|}~\\t\\n“”’\\'∞θ÷α•à−β∅³π‘₹´°£€\\×™√²—'\n",
    "\n",
    "\n",
    "def build_matrix(word_index, path):\n",
    "    embedding_index = KeyedVectors.load(path, mmap='r')\n",
    "    embedding_matrix = np.zeros((len(word_index) + 1, 300))\n",
    "    for word, i in word_index.items():\n",
    "        for candidate in [word, word.lower()]:\n",
    "            if candidate in embedding_index:\n",
    "                embedding_matrix[i] = embedding_index[candidate]\n",
    "                break\n",
    "    return embedding_matrix\n",
    "    \n",
    "\n",
    "def build_model(embedding_matrix, num_aux_targets):\n",
    "    words = Input(shape=(None,))\n",
    "    x = Embedding(*embedding_matrix.shape, weights=[embedding_matrix], trainable=False)(words)\n",
    "    x = SpatialDropout1D(0.2)(x)\n",
    "    x = Bidirectional(CuDNNLSTM(LSTM_UNITS, return_sequences=True))(x)\n",
    "    x = Bidirectional(CuDNNLSTM(LSTM_UNITS, return_sequences=True))(x)\n",
    "\n",
    "    hidden = concatenate([\n",
    "        GlobalMaxPooling1D()(x),\n",
    "        GlobalAveragePooling1D()(x),\n",
    "    ])\n",
    "    hidden = add([hidden, Dense(DENSE_HIDDEN_UNITS, activation='relu')(hidden)])\n",
    "    hidden = add([hidden, Dense(DENSE_HIDDEN_UNITS, activation='relu')(hidden)])\n",
    "    result = Dense(1, activation='sigmoid')(hidden)\n",
    "    aux_result = Dense(num_aux_targets, activation='sigmoid')(hidden)\n",
    "    \n",
    "    model = Model(inputs=words, outputs=[result, aux_result])\n",
    "    model.compile(loss='binary_crossentropy', optimizer='adam')\n",
    "\n",
    "    return model\n",
    "    \n",
    "\n",
    "train_df = pd.read_csv('ml-100k/ua.base')\n",
    "test_df = pd.read_csv('ml-100k/ua.test')\n",
    "\n",
    "x_train = train_df[TEXT_COLUMN].astype(str)\n",
    "y_train = train_df[TARGET_COLUMN].values\n",
    "y_aux_train = train_df[AUX_COLUMNS].values\n",
    "x_test = test_df[TEXT_COLUMN].astype(str)\n",
    "\n",
    "for column in IDENTITY_COLUMNS + [TARGET_COLUMN]:\n",
    "    train_df[column] = np.where(train_df[column] >= 0.5, True, False)\n",
    "\n",
    "tokenizer = text.Tokenizer(filters=CHARS_TO_REMOVE, lower=False)\n",
    "tokenizer.fit_on_texts(list(x_train) + list(x_test))\n",
    "\n",
    "x_train = tokenizer.texts_to_sequences(x_train)\n",
    "x_test = tokenizer.texts_to_sequences(x_test)\n",
    "x_train = sequence.pad_sequences(x_train, maxlen=MAX_LEN)\n",
    "x_test = sequence.pad_sequences(x_test, maxlen=MAX_LEN)\n",
    "\n",
    "sample_weights = np.ones(len(x_train), dtype=np.float32)\n",
    "sample_weights += train_df[IDENTITY_COLUMNS].sum(axis=1)\n",
    "sample_weights += train_df[TARGET_COLUMN] * (~train_df[IDENTITY_COLUMNS]).sum(axis=1)\n",
    "sample_weights += (~train_df[TARGET_COLUMN]) * train_df[IDENTITY_COLUMNS].sum(axis=1) * 5\n",
    "sample_weights /= sample_weights.mean()\n",
    "\n",
    "embedding_matrix = np.concatenate(\n",
    "    [build_matrix(tokenizer.word_index, f) for f in EMBEDDING_FILES], axis=-1)\n",
    "\n",
    "checkpoint_predictions = []\n",
    "weights = []\n",
    "\n",
    "for model_idx in range(NUM_MODELS):\n",
    "    model = build_model(embedding_matrix, y_aux_train.shape[-1])\n",
    "    for global_epoch in range(EPOCHS):\n",
    "        model.fit(\n",
    "            x_train,\n",
    "            [y_train, y_aux_train],\n",
    "            batch_size=BATCH_SIZE,\n",
    "            epochs=1,\n",
    "            verbose=2,\n",
    "            sample_weight=[sample_weights.values, np.ones_like(sample_weights)]\n",
    "        )\n",
    "        checkpoint_predictions.append(model.predict(x_test, batch_size=2048)[0].flatten())\n",
    "        weights.append(2 ** global_epoch)\n",
    "\n",
    "predictions = np.average(checkpoint_predictions, weights=weights, axis=0)\n",
    "\n",
    "submission = pd.DataFrame.from_dict({\n",
    "    'id': test_df.id,\n",
    "    'prediction': predictions\n",
    "})\n",
    "submission.to_csv('submission.csv', index=False)"
   ]
  },
  {
   "cell_type": "code",
   "execution_count": 31,
   "metadata": {},
   "outputs": [],
   "source": [
    "import pandas as pd # data processing, CSV file I/O (e.g. pd.read_csv)\n",
    "import os,cv2\n",
    "from IPython.display import Image\n",
    "from keras.preprocessing import image\n",
    "from keras import optimizers\n",
    "from keras import layers,models\n",
    "from keras.applications.imagenet_utils import preprocess_input\n",
    "import matplotlib.pyplot as plt\n",
    "import seaborn as sns\n",
    "from keras import regularizers\n",
    "from keras.preprocessing.image import ImageDataGenerator\n",
    "from keras.applications.vgg16 import VGG16\n",
    "\n",
    "\n",
    "import numpy as np"
   ]
  },
  {
   "cell_type": "code",
   "execution_count": 32,
   "metadata": {},
   "outputs": [],
   "source": [
    "\n",
    "train=pd.read_csv('ml-100k/ua.base')\n",
    "\n",
    "df_test=pd.read_csv('ml-100k/ua.test')"
   ]
  },
  {
   "cell_type": "code",
   "execution_count": 34,
   "metadata": {},
   "outputs": [
    {
     "data": {
      "text/html": [
       "<div>\n",
       "<style scoped>\n",
       "    .dataframe tbody tr th:only-of-type {\n",
       "        vertical-align: middle;\n",
       "    }\n",
       "\n",
       "    .dataframe tbody tr th {\n",
       "        vertical-align: top;\n",
       "    }\n",
       "\n",
       "    .dataframe thead th {\n",
       "        text-align: right;\n",
       "    }\n",
       "</style>\n",
       "<table border=\"1\" class=\"dataframe\">\n",
       "  <thead>\n",
       "    <tr style=\"text-align: right;\">\n",
       "      <th></th>\n",
       "      <th>1\\t1\\t5\\t874965758</th>\n",
       "    </tr>\n",
       "  </thead>\n",
       "  <tbody>\n",
       "    <tr>\n",
       "      <th>0</th>\n",
       "      <td>1\\t2\\t3\\t876893171</td>\n",
       "    </tr>\n",
       "    <tr>\n",
       "      <th>1</th>\n",
       "      <td>1\\t3\\t4\\t878542960</td>\n",
       "    </tr>\n",
       "    <tr>\n",
       "      <th>2</th>\n",
       "      <td>1\\t4\\t3\\t876893119</td>\n",
       "    </tr>\n",
       "    <tr>\n",
       "      <th>3</th>\n",
       "      <td>1\\t5\\t3\\t889751712</td>\n",
       "    </tr>\n",
       "    <tr>\n",
       "      <th>4</th>\n",
       "      <td>1\\t6\\t5\\t887431973</td>\n",
       "    </tr>\n",
       "  </tbody>\n",
       "</table>\n",
       "</div>"
      ],
      "text/plain": [
       "   1\\t1\\t5\\t874965758\n",
       "0  1\\t2\\t3\\t876893171\n",
       "1  1\\t3\\t4\\t878542960\n",
       "2  1\\t4\\t3\\t876893119\n",
       "3  1\\t5\\t3\\t889751712\n",
       "4  1\\t6\\t5\\t887431973"
      ]
     },
     "execution_count": 34,
     "metadata": {},
     "output_type": "execute_result"
    }
   ],
   "source": [
    "train.head(5)\n"
   ]
  },
  {
   "cell_type": "code",
   "execution_count": 41,
   "metadata": {},
   "outputs": [],
   "source": [
    "import keras\n",
    "from keras.layers.core import Layer\n",
    "import keras.backend as K\n",
    "import tensorflow as tf\n",
    "from keras.datasets import cifar10"
   ]
  },
  {
   "cell_type": "code",
   "execution_count": 42,
   "metadata": {},
   "outputs": [],
   "source": [
    "from keras.models import Model\n",
    "from keras.layers import Conv2D, MaxPool2D,  \\\n",
    "    Dropout, Dense, Input, concatenate,      \\\n",
    "    GlobalAveragePooling2D, AveragePooling2D,\\\n",
    "    Flatten\n",
    "\n",
    "import cv2 \n",
    "import numpy as np \n",
    "from keras.datasets import cifar10 \n",
    "from keras import backend as K \n",
    "from keras.utils import np_utils\n",
    "\n",
    "import math \n",
    "from keras.optimizers import SGD \n",
    "from keras.callbacks import LearningRateScheduler"
   ]
  },
  {
   "cell_type": "code",
   "execution_count": 43,
   "metadata": {},
   "outputs": [],
   "source": [
    "num_classes = 10\n",
    "\n",
    "def load_cifar10_data(img_rows, img_cols):\n",
    "\n",
    "    # Load cifar10 training and validation sets\n",
    "    (X_train, Y_train), (X_valid, Y_valid) = cifar10.load_data()\n",
    "\n",
    "    # Resize training images\n",
    "    X_train = np.array([cv2.resize(img, (img_rows,img_cols)) for img in X_train[:,:,:,:]])\n",
    "    X_valid = np.array([cv2.resize(img, (img_rows,img_cols)) for img in X_valid[:,:,:,:]])\n",
    "\n",
    "    # Transform targets to keras compatible format\n",
    "    Y_train = np_utils.to_categorical(Y_train, num_classes)\n",
    "    Y_valid = np_utils.to_categorical(Y_valid, num_classes)\n",
    "    \n",
    "    X_train = X_train.astype('float32')\n",
    "    X_valid = X_valid.astype('float32')\n",
    "\n",
    "    # preprocess data\n",
    "    X_train = X_train / 255.0\n",
    "    X_valid = X_valid / 255.0\n",
    "\n",
    "    return X_train, Y_train, X_valid, Y_valid"
   ]
  },
  {
   "cell_type": "code",
   "execution_count": 44,
   "metadata": {},
   "outputs": [
    {
     "ename": "MemoryError",
     "evalue": "Unable to allocate 28.0 GiB for an array with shape (50000, 224, 224, 3) and data type float32",
     "output_type": "error",
     "traceback": [
      "\u001b[1;31m---------------------------------------------------------------------------\u001b[0m",
      "\u001b[1;31mMemoryError\u001b[0m                               Traceback (most recent call last)",
      "\u001b[1;32m<ipython-input-44-b6527525b759>\u001b[0m in \u001b[0;36m<module>\u001b[1;34m\u001b[0m\n\u001b[1;32m----> 1\u001b[1;33m \u001b[0mX_train\u001b[0m\u001b[1;33m,\u001b[0m \u001b[0my_train\u001b[0m\u001b[1;33m,\u001b[0m \u001b[0mX_test\u001b[0m\u001b[1;33m,\u001b[0m \u001b[0my_test\u001b[0m \u001b[1;33m=\u001b[0m \u001b[0mload_cifar10_data\u001b[0m\u001b[1;33m(\u001b[0m\u001b[1;36m224\u001b[0m\u001b[1;33m,\u001b[0m \u001b[1;36m224\u001b[0m\u001b[1;33m)\u001b[0m\u001b[1;33m\u001b[0m\u001b[1;33m\u001b[0m\u001b[0m\n\u001b[0m",
      "\u001b[1;32m<ipython-input-43-161f21971214>\u001b[0m in \u001b[0;36mload_cifar10_data\u001b[1;34m(img_rows, img_cols)\u001b[0m\n\u001b[0;32m     14\u001b[0m     \u001b[0mY_valid\u001b[0m \u001b[1;33m=\u001b[0m \u001b[0mnp_utils\u001b[0m\u001b[1;33m.\u001b[0m\u001b[0mto_categorical\u001b[0m\u001b[1;33m(\u001b[0m\u001b[0mY_valid\u001b[0m\u001b[1;33m,\u001b[0m \u001b[0mnum_classes\u001b[0m\u001b[1;33m)\u001b[0m\u001b[1;33m\u001b[0m\u001b[1;33m\u001b[0m\u001b[0m\n\u001b[0;32m     15\u001b[0m \u001b[1;33m\u001b[0m\u001b[0m\n\u001b[1;32m---> 16\u001b[1;33m     \u001b[0mX_train\u001b[0m \u001b[1;33m=\u001b[0m \u001b[0mX_train\u001b[0m\u001b[1;33m.\u001b[0m\u001b[0mastype\u001b[0m\u001b[1;33m(\u001b[0m\u001b[1;34m'float32'\u001b[0m\u001b[1;33m)\u001b[0m\u001b[1;33m\u001b[0m\u001b[1;33m\u001b[0m\u001b[0m\n\u001b[0m\u001b[0;32m     17\u001b[0m     \u001b[0mX_valid\u001b[0m \u001b[1;33m=\u001b[0m \u001b[0mX_valid\u001b[0m\u001b[1;33m.\u001b[0m\u001b[0mastype\u001b[0m\u001b[1;33m(\u001b[0m\u001b[1;34m'float32'\u001b[0m\u001b[1;33m)\u001b[0m\u001b[1;33m\u001b[0m\u001b[1;33m\u001b[0m\u001b[0m\n\u001b[0;32m     18\u001b[0m \u001b[1;33m\u001b[0m\u001b[0m\n",
      "\u001b[1;31mMemoryError\u001b[0m: Unable to allocate 28.0 GiB for an array with shape (50000, 224, 224, 3) and data type float32"
     ]
    }
   ],
   "source": [
    "X_train, y_train, X_test, y_test = load_cifar10_data(224, 224)"
   ]
  },
  {
   "cell_type": "code",
   "execution_count": 45,
   "metadata": {},
   "outputs": [],
   "source": [
    "def inception_module(x,\n",
    "                     filters_1x1,\n",
    "                     filters_3x3_reduce,\n",
    "                     filters_3x3,\n",
    "                     filters_5x5_reduce,\n",
    "                     filters_5x5,\n",
    "                     filters_pool_proj,\n",
    "                     name=None):\n",
    "    \n",
    "    conv_1x1 = Conv2D(filters_1x1, (1, 1), padding='same', activation='relu', kernel_initializer=kernel_init, bias_initializer=bias_init)(x)\n",
    "    \n",
    "    conv_3x3 = Conv2D(filters_3x3_reduce, (1, 1), padding='same', activation='relu', kernel_initializer=kernel_init, bias_initializer=bias_init)(x)\n",
    "    conv_3x3 = Conv2D(filters_3x3, (3, 3), padding='same', activation='relu', kernel_initializer=kernel_init, bias_initializer=bias_init)(conv_3x3)\n",
    "\n",
    "    conv_5x5 = Conv2D(filters_5x5_reduce, (1, 1), padding='same', activation='relu', kernel_initializer=kernel_init, bias_initializer=bias_init)(x)\n",
    "    conv_5x5 = Conv2D(filters_5x5, (5, 5), padding='same', activation='relu', kernel_initializer=kernel_init, bias_initializer=bias_init)(conv_5x5)\n",
    "\n",
    "    pool_proj = MaxPool2D((3, 3), strides=(1, 1), padding='same')(x)\n",
    "    pool_proj = Conv2D(filters_pool_proj, (1, 1), padding='same', activation='relu', kernel_initializer=kernel_init, bias_initializer=bias_init)(pool_proj)\n",
    "\n",
    "    output = concatenate([conv_1x1, conv_3x3, conv_5x5, pool_proj], axis=3, name=name)\n",
    "    \n",
    "    return output"
   ]
  },
  {
   "cell_type": "code",
   "execution_count": 47,
   "metadata": {},
   "outputs": [],
   "source": [
    "from tensorflow.keras.applications import ResNet50\n",
    "from tensorflow.keras.applications import InceptionV3\n",
    "from tensorflow.keras.applications import Xception # TensorFlow ONLY\n",
    "from tensorflow.keras.applications import VGG16\n",
    "from tensorflow.keras.applications import VGG19\n",
    "from keras.applications import imagenet_utils\n",
    "from tensorflow.keras.applications.inception_v3 import preprocess_input\n",
    "from tensorflow.keras.preprocessing.image import img_to_array\n",
    "from tensorflow.keras.preprocessing.image import load_img\n",
    "import numpy as np\n",
    "import argparse\n",
    "import cv2"
   ]
  },
  {
   "cell_type": "code",
   "execution_count": 49,
   "metadata": {},
   "outputs": [
    {
     "name": "stderr",
     "output_type": "stream",
     "text": [
      "usage: ipykernel_launcher.py [-h] -i IMAGE [-model MODEL]\n",
      "ipykernel_launcher.py: error: the following arguments are required: -i/--image\n"
     ]
    },
    {
     "ename": "SystemExit",
     "evalue": "2",
     "output_type": "error",
     "traceback": [
      "An exception has occurred, use %tb to see the full traceback.\n",
      "\u001b[1;31mSystemExit\u001b[0m\u001b[1;31m:\u001b[0m 2\n"
     ]
    }
   ],
   "source": [
    "ap = argparse.ArgumentParser()\n",
    "ap.add_argument(\"-i\", \"--image\", required=True,help=\"path to the input image\")\n",
    "ap.add_argument(\"-model\", \"--model\", type=str, default=\"vgg16\",help=\"name of pre-trained network to use\")\n",
    "args = vars(ap.parse_args())"
   ]
  },
  {
   "cell_type": "code",
   "execution_count": 50,
   "metadata": {},
   "outputs": [
    {
     "ename": "NameError",
     "evalue": "name 'args' is not defined",
     "output_type": "error",
     "traceback": [
      "\u001b[1;31m---------------------------------------------------------------------------\u001b[0m",
      "\u001b[1;31mNameError\u001b[0m                                 Traceback (most recent call last)",
      "\u001b[1;32m<ipython-input-50-6c475222ee29>\u001b[0m in \u001b[0;36m<module>\u001b[1;34m\u001b[0m\n\u001b[0;32m      9\u001b[0m }\n\u001b[0;32m     10\u001b[0m \u001b[1;31m# esnure a valid model name was supplied via command line argument\u001b[0m\u001b[1;33m\u001b[0m\u001b[1;33m\u001b[0m\u001b[1;33m\u001b[0m\u001b[0m\n\u001b[1;32m---> 11\u001b[1;33m \u001b[1;32mif\u001b[0m \u001b[0margs\u001b[0m\u001b[1;33m[\u001b[0m\u001b[1;34m\"model\"\u001b[0m\u001b[1;33m]\u001b[0m \u001b[1;32mnot\u001b[0m \u001b[1;32min\u001b[0m \u001b[0mMODELS\u001b[0m\u001b[1;33m.\u001b[0m\u001b[0mkeys\u001b[0m\u001b[1;33m(\u001b[0m\u001b[1;33m)\u001b[0m\u001b[1;33m:\u001b[0m\u001b[1;33m\u001b[0m\u001b[1;33m\u001b[0m\u001b[0m\n\u001b[0m\u001b[0;32m     12\u001b[0m \traise AssertionError(\"The --model command line argument should \"\n\u001b[0;32m     13\u001b[0m \t\t\"be a key in the `MODELS` dictionary\")\n",
      "\u001b[1;31mNameError\u001b[0m: name 'args' is not defined"
     ]
    }
   ],
   "source": [
    "# define a dictionary that maps model names to their classes\n",
    "# inside Keras\n",
    "MODELS = {\n",
    "\t\"vgg16\": VGG16,\n",
    "\t\"vgg19\": VGG19,\n",
    "\t\"inception\": InceptionV3,\n",
    "\t\"xception\": Xception, # TensorFlow ONLY\n",
    "\t\"resnet\": ResNet50\n",
    "}\n",
    "# esnure a valid model name was supplied via command line argument\n",
    "if args[\"model\"] not in MODELS.keys():\n",
    "\traise AssertionError(\"The --model command line argument should \"\n",
    "\t\t\"be a key in the `MODELS` dictionary\")"
   ]
  },
  {
   "cell_type": "code",
   "execution_count": null,
   "metadata": {},
   "outputs": [],
   "source": []
  }
 ],
 "metadata": {
  "kernelspec": {
   "display_name": "Python 3",
   "language": "python",
   "name": "python3"
  },
  "language_info": {
   "codemirror_mode": {
    "name": "ipython",
    "version": 3
   },
   "file_extension": ".py",
   "mimetype": "text/x-python",
   "name": "python",
   "nbconvert_exporter": "python",
   "pygments_lexer": "ipython3",
   "version": "3.7.6"
  }
 },
 "nbformat": 4,
 "nbformat_minor": 4
}
