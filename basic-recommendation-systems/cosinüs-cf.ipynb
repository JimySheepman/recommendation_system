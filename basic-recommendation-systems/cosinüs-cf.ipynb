{
 "cells": [
  {
   "cell_type": "markdown",
   "metadata": {},
   "source": [
    "## cosinüs "
   ]
  },
  {
   "cell_type": "code",
   "execution_count": 16,
   "metadata": {},
   "outputs": [
    {
     "name": "stdout",
     "output_type": "stream",
     "text": [
      "User-0 prediction rating: 2.0700514044722578\n",
      "User-13 prediction rating: 1.4047433367379107\n",
      "Error: 3.262602629394916\n"
     ]
    }
   ],
   "source": [
    "import numpy as np\n",
    "from scipy import io\n",
    "import warnings\n",
    "from sklearn.metrics.pairwise import pairwise_distances\n",
    "warnings.filterwarnings(\"ignore\")\n",
    "\n",
    "mat = io.loadmat('ss.mat')\n",
    "matrix=mat[\"ss\"]\n",
    "sim_list=[]\n",
    "pre_list=[]\n",
    "sim_list.append(matrix[0][0])\n",
    "sim_list.append(matrix[13][6])\n",
    "matrix[0][0]=0\n",
    "\n",
    "def user_rating_average(mat):\n",
    "    sum1=0\n",
    "    average_list=[]\n",
    "    for x in range(len(mat)):\n",
    "        for i in mat[x]:\n",
    "            sum1=sum1+i\n",
    "        sum1=sum1/len(mat[x].nonzero()[0])\n",
    "        average_list.append(sum1)\n",
    "        sum1=0\n",
    "    return average_list\n",
    "\n",
    "user_average_list=user_rating_average(matrix)\n",
    "user_average_list=np.nan_to_num(user_average_list, nan=0)\n",
    "\n",
    "user_similarity_list = pairwise_distances(matrix, metric='cosine')\n",
    "similar_n = user_similarity_list[0].argsort()\n",
    "\n",
    "def user_rating_pred(avr_list,mat_row,user_1_rating,pre_id):\n",
    "    result=0\n",
    "    pay=0\n",
    "    for usr in range(len(avr_list)):\n",
    "        if usr == pre_id:\n",
    "            continue\n",
    "        else:\n",
    "            result+=mat_row[usr]*(user_1_rating[usr][pre_id]-avr_list[usr])\n",
    "            pay+=mat_row[usr]\n",
    "    return avr_list[pre_id]+(result/pay)\n",
    "# tüm oy vermeyenleri çıkart\n",
    "# sim ilk hesapla\n",
    "telsim=user_rating_pred(user_average_list,user_similarity_list[0],matrix,similar_n[0])\n",
    "matrix[13][6]=0\n",
    "similar_n1 = user_similarity_list[13].argsort()\n",
    "telsim1=user_rating_pred(user_average_list,user_similarity_list[13],matrix,similar_n1[0])\n",
    "pre_list.append(telsim)\n",
    "pre_list.append(telsim1)\n",
    "print(\"User-{} prediction rating:\".format(similar_n[0]),telsim)\n",
    "print(\"User-{} prediction rating:\".format(similar_n1[0]),telsim1)\n",
    "\n",
    "def calulate_error_avg(list1,list2):\n",
    "    total=0\n",
    "    for i in range(len(list1)):\n",
    "        total=total+(list1[i]-list2[i])\n",
    "    return total/len(list1)\n",
    "a=calulate_error_avg(sim_list,pre_list)\n",
    "print(\"Error:\",a)"
   ]
  },
  {
   "cell_type": "code",
   "execution_count": 30,
   "metadata": {},
   "outputs": [],
   "source": [
    "import numpy as np\n",
    "from scipy import io\n",
    "import warnings\n",
    "from sklearn.metrics.pairwise import pairwise_distances\n",
    "warnings.filterwarnings(\"ignore\")\n",
    "\n",
    "mat = io.loadmat('ss.mat')\n",
    "matrix=mat[\"ss\"]\n",
    "user_similarity_list = pairwise_distances(matrix, metric='cosine')\n",
    "similar_n = user_similarity_list[13].argsort()\n"
   ]
  },
  {
   "cell_type": "code",
   "execution_count": 31,
   "metadata": {},
   "outputs": [
    {
     "data": {
      "text/plain": [
       "array([13,  5,  0, 17, 14, 12,  9, 15, 16, 10,  6,  1,  7,  8, 19, 11, 18,\n",
       "        4,  3,  2], dtype=int64)"
      ]
     },
     "execution_count": 31,
     "metadata": {},
     "output_type": "execute_result"
    }
   ],
   "source": [
    "similar_n"
   ]
  },
  {
   "cell_type": "code",
   "execution_count": 22,
   "metadata": {},
   "outputs": [],
   "source": [
    "\n",
    "user_similarity_list = pairwise_distances(matrix, metric='cosine')\n",
    "similar_n = user_similarity_list[0].argsort()"
   ]
  },
  {
   "cell_type": "code",
   "execution_count": 25,
   "metadata": {},
   "outputs": [
    {
     "data": {
      "text/plain": [
       "array([ 0, 13, 17,  5, 14, 12,  9, 15,  6, 10,  1, 16,  8, 11, 19,  7,  4,\n",
       "       18,  3,  2], dtype=int64)"
      ]
     },
     "execution_count": 25,
     "metadata": {},
     "output_type": "execute_result"
    }
   ],
   "source": [
    "similar_n"
   ]
  },
  {
   "cell_type": "code",
   "execution_count": 8,
   "metadata": {},
   "outputs": [
    {
     "data": {
      "text/plain": [
       "array([ 0, 13, 17,  5, 14, 12,  9, 15,  6, 10,  1, 16,  8, 11, 19,  7,  4,\n",
       "       18,  3,  2], dtype=int64)"
      ]
     },
     "execution_count": 8,
     "metadata": {},
     "output_type": "execute_result"
    }
   ],
   "source": [
    "similar_n"
   ]
  },
  {
   "cell_type": "code",
   "execution_count": null,
   "metadata": {},
   "outputs": [],
   "source": []
  }
 ],
 "metadata": {
  "kernelspec": {
   "display_name": "Python 3",
   "language": "python",
   "name": "python3"
  },
  "language_info": {
   "codemirror_mode": {
    "name": "ipython",
    "version": 3
   },
   "file_extension": ".py",
   "mimetype": "text/x-python",
   "name": "python",
   "nbconvert_exporter": "python",
   "pygments_lexer": "ipython3",
   "version": "3.7.6"
  }
 },
 "nbformat": 4,
 "nbformat_minor": 4
}
