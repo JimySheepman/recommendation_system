{
 "cells": [
  {
   "cell_type": "markdown",
   "metadata": {},
   "source": [
    "## pearson"
   ]
  },
  {
   "cell_type": "code",
   "execution_count": 2,
   "metadata": {},
   "outputs": [
    {
     "name": "stdout",
     "output_type": "stream",
     "text": [
      "User-0 prediction rating: 4.077400815551107\n",
      "User-13 prediction rating: 3.944898740513024\n",
      "Error: 0.4888502219679347\n"
     ]
    }
   ],
   "source": [
    "import numpy as np\n",
    "from scipy import stats, io\n",
    "import warnings\n",
    "warnings.filterwarnings(\"ignore\")\n",
    "\n",
    "mat = io.loadmat('ss.mat')\n",
    "matrix=mat[\"ss\"]\n",
    "sim_list=[]\n",
    "pre_list=[]\n",
    "sim_list.append(matrix[0][6])\n",
    "sim_list.append(matrix[13][6])\n",
    "matrix[0][0]=0\n",
    "\n",
    "\n",
    "def user_rating_average(mat):\n",
    "    sum1=0\n",
    "    average_list=[]\n",
    "    for x in range(len(mat)):\n",
    "        for i in mat[x]:\n",
    "            sum1=sum1+i\n",
    "        sum1=sum1/len(mat[x].nonzero()[0])\n",
    "        average_list.append(sum1)\n",
    "        sum1=0\n",
    "    return average_list\n",
    "\n",
    "user_average_list=user_rating_average(matrix)\n",
    "user_average_list=np.nan_to_num(user_average_list, nan=0)\n",
    "\n",
    "def pearson_similarity(mat):\n",
    "    arr=np.zeros((20, 20))\n",
    "    for i in range(len(mat)):\n",
    "        for j in range(len(mat)):\n",
    "            pearson=stats.pearsonr(mat[i],mat[j])\n",
    "            arr[i][j]=pearson[0]\n",
    "    return arr\n",
    "\n",
    "user_similarity_list=pearson_similarity(matrix)\n",
    "\n",
    "user_similarity_list=np.nan_to_num(user_similarity_list, nan=0)\n",
    "\n",
    "similar_n = user_similarity_list[0].argsort()\n",
    "\n",
    "def cal_pay(avr_list,mat_row,user_1_rating,pre_id):\n",
    "    result=0\n",
    "    pay=0\n",
    "    for item in range(len(avr_list)):\n",
    "        if item == pre_id:\n",
    "            continue\n",
    "        else:\n",
    "            result+=mat_row[item]*(user_1_rating[item][pre_id]-avr_list[item])\n",
    "            pay+=mat_row[item]\n",
    "    return avr_list[pre_id]+(result/pay)\n",
    "\n",
    "# tüm oy vermeyenleri çıkart\n",
    "# sim ilk hesapla\n",
    "telsim=cal_pay(user_average_list,user_similarity_list[0],matrix,similar_n[-1])\n",
    "matrix[13][6]=0\n",
    "similar_n1 = user_similarity_list[13].argsort()\n",
    "telsim1=cal_pay(user_average_list,user_similarity_list[13],matrix,similar_n1[-1])\n",
    "pre_list.append(telsim)\n",
    "pre_list.append(telsim1)\n",
    "print(\"User-{} prediction rating:\".format(similar_n[-1]),telsim)\n",
    "print(\"User-{} prediction rating:\".format(similar_n1[-1]),telsim1)\n",
    "def calulate_error_avg(list1,list2):\n",
    "    total=0\n",
    "    for i in range(len(list1)):\n",
    "        total=total+(list1[i]-list2[i])\n",
    "    return total/len(list1)\n",
    "a=calulate_error_avg(sim_list,pre_list)\n",
    "print(\"Error:\",a)"
   ]
  },
  {
   "cell_type": "code",
   "execution_count": 3,
   "metadata": {},
   "outputs": [
    {
     "data": {
      "text/plain": [
       "[5, 5]"
      ]
     },
     "execution_count": 3,
     "metadata": {},
     "output_type": "execute_result"
    }
   ],
   "source": [
    "sim_list"
   ]
  },
  {
   "cell_type": "code",
   "execution_count": 4,
   "metadata": {},
   "outputs": [
    {
     "data": {
      "text/plain": [
       "[4.077400815551107, 3.944898740513024]"
      ]
     },
     "execution_count": 4,
     "metadata": {},
     "output_type": "execute_result"
    }
   ],
   "source": [
    "pre_list"
   ]
  },
  {
   "cell_type": "code",
   "execution_count": null,
   "metadata": {},
   "outputs": [],
   "source": [
    "def pred(average_list,similarity_row,rating_row_matrix,pred_id):\n",
    "    pred=0   "
   ]
  }
 ],
 "metadata": {
  "kernelspec": {
   "display_name": "Python 3",
   "language": "python",
   "name": "python3"
  },
  "language_info": {
   "codemirror_mode": {
    "name": "ipython",
    "version": 3
   },
   "file_extension": ".py",
   "mimetype": "text/x-python",
   "name": "python",
   "nbconvert_exporter": "python",
   "pygments_lexer": "ipython3",
   "version": "3.7.6"
  }
 },
 "nbformat": 4,
 "nbformat_minor": 4
}
