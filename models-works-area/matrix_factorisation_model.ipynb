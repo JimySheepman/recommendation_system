{
 "cells": [
  {
   "cell_type": "markdown",
   "metadata": {},
   "source": [
    "# 1.1-) import libraries"
   ]
  },
  {
   "cell_type": "code",
   "execution_count": 1,
   "metadata": {
    "scrolled": true
   },
   "outputs": [
    {
     "name": "stderr",
     "output_type": "stream",
     "text": [
      "\n",
      "Bad key \"text.kerning_factor\" on line 4 in\n",
      "C:\\Users\\Ali\\anaconda3\\lib\\site-packages\\matplotlib\\mpl-data\\stylelib\\_classic_test_patch.mplstyle.\n",
      "You probably need to get an updated matplotlibrc file from\n",
      "http://github.com/matplotlib/matplotlib/blob/master/matplotlibrc.template\n",
      "or from the matplotlib source distribution\n"
     ]
    },
    {
     "name": "stdout",
     "output_type": "stream",
     "text": [
      "WARNING:tensorflow:From C:\\Users\\Ali\\anaconda3\\lib\\site-packages\\tensorflow\\python\\compat\\v2_compat.py:96: disable_resource_variables (from tensorflow.python.ops.variable_scope) is deprecated and will be removed in a future version.\n",
      "Instructions for updating:\n",
      "non-resource variables are not supported in the long term\n"
     ]
    }
   ],
   "source": [
    "# import essential basic libraries \n",
    "import pandas as pd\n",
    "import numpy as np\n",
    "from math import sqrt\n",
    "from scipy.sparse.linalg import svds\n",
    "\n",
    "# import matrix_factorization_utilities.py\n",
    "from models import matrix_factorization_utilities\n",
    "\n",
    "# import machine learning libraries \n",
    "from sklearn import metrics\n",
    "from sklearn.cluster import KMeans\n",
    "from sklearn.metrics import mean_squared_error\n",
    "from sklearn.metrics import mean_absolute_error\n",
    "from sklearn.model_selection import train_test_split\n",
    "\n",
    "# import visualization  libraries \n",
    "import matplotlib.pyplot as plt\n",
    "%matplotlib inline\n",
    "\n",
    "# import deep learning libraries \n",
    "import keras\n",
    "from keras.optimizers import Adam\n",
    "from keras.models import Sequential\n",
    "from keras.callbacks import EarlyStopping, ModelCheckpoint\n",
    "from keras.layers import Dense, Activation, Flatten ,Embedding, Reshape, concatenate\n",
    "\n",
    "# import warnings libraries for close warnings\n",
    "import warnings\n",
    "warnings.filterwarnings('ignore')"
   ]
  },
  {
   "cell_type": "markdown",
   "metadata": {},
   "source": [
    "#  1.2-) Dataset import and config"
   ]
  },
  {
   "cell_type": "code",
   "execution_count": 2,
   "metadata": {},
   "outputs": [],
   "source": [
    "# Reading the ratings data\n",
    "ratings = pd.read_csv('Dataset/ratings.csv')\n",
    "#Just taking the required columns\n",
    "ratings = ratings[['userId', 'movieId','rating']]\n",
    "#reading the movies dataset\n",
    "movie_list = pd.read_csv('Dataset/movies.csv')"
   ]
  },
  {
   "cell_type": "code",
   "execution_count": 3,
   "metadata": {},
   "outputs": [
    {
     "data": {
      "text/html": [
       "<div>\n",
       "<style scoped>\n",
       "    .dataframe tbody tr th:only-of-type {\n",
       "        vertical-align: middle;\n",
       "    }\n",
       "\n",
       "    .dataframe tbody tr th {\n",
       "        vertical-align: top;\n",
       "    }\n",
       "\n",
       "    .dataframe thead th {\n",
       "        text-align: right;\n",
       "    }\n",
       "</style>\n",
       "<table border=\"1\" class=\"dataframe\">\n",
       "  <thead>\n",
       "    <tr style=\"text-align: right;\">\n",
       "      <th></th>\n",
       "      <th>movieId</th>\n",
       "      <th>movie_index</th>\n",
       "    </tr>\n",
       "  </thead>\n",
       "  <tbody>\n",
       "    <tr>\n",
       "      <th>0</th>\n",
       "      <td>1</td>\n",
       "      <td>0</td>\n",
       "    </tr>\n",
       "    <tr>\n",
       "      <th>1</th>\n",
       "      <td>2</td>\n",
       "      <td>1</td>\n",
       "    </tr>\n",
       "    <tr>\n",
       "      <th>2</th>\n",
       "      <td>3</td>\n",
       "      <td>2</td>\n",
       "    </tr>\n",
       "    <tr>\n",
       "      <th>3</th>\n",
       "      <td>4</td>\n",
       "      <td>3</td>\n",
       "    </tr>\n",
       "    <tr>\n",
       "      <th>4</th>\n",
       "      <td>5</td>\n",
       "      <td>4</td>\n",
       "    </tr>\n",
       "  </tbody>\n",
       "</table>\n",
       "</div>"
      ],
      "text/plain": [
       "   movieId  movie_index\n",
       "0        1            0\n",
       "1        2            1\n",
       "2        3            2\n",
       "3        4            3\n",
       "4        5            4"
      ]
     },
     "execution_count": 3,
     "metadata": {},
     "output_type": "execute_result"
    }
   ],
   "source": [
    "#get ordered list of movieIds\n",
    "item_indices = pd.DataFrame(sorted(list(set(ratings['movieId']))),columns=['movieId'])\n",
    "#add in data frame index value to data frame\n",
    "item_indices['movie_index']=item_indices.index\n",
    "#inspect data frame\n",
    "item_indices.head()"
   ]
  },
  {
   "cell_type": "code",
   "execution_count": 4,
   "metadata": {},
   "outputs": [
    {
     "data": {
      "text/html": [
       "<div>\n",
       "<style scoped>\n",
       "    .dataframe tbody tr th:only-of-type {\n",
       "        vertical-align: middle;\n",
       "    }\n",
       "\n",
       "    .dataframe tbody tr th {\n",
       "        vertical-align: top;\n",
       "    }\n",
       "\n",
       "    .dataframe thead th {\n",
       "        text-align: right;\n",
       "    }\n",
       "</style>\n",
       "<table border=\"1\" class=\"dataframe\">\n",
       "  <thead>\n",
       "    <tr style=\"text-align: right;\">\n",
       "      <th></th>\n",
       "      <th>userId</th>\n",
       "      <th>user_index</th>\n",
       "    </tr>\n",
       "  </thead>\n",
       "  <tbody>\n",
       "    <tr>\n",
       "      <th>0</th>\n",
       "      <td>1</td>\n",
       "      <td>0</td>\n",
       "    </tr>\n",
       "    <tr>\n",
       "      <th>1</th>\n",
       "      <td>2</td>\n",
       "      <td>1</td>\n",
       "    </tr>\n",
       "    <tr>\n",
       "      <th>2</th>\n",
       "      <td>3</td>\n",
       "      <td>2</td>\n",
       "    </tr>\n",
       "    <tr>\n",
       "      <th>3</th>\n",
       "      <td>4</td>\n",
       "      <td>3</td>\n",
       "    </tr>\n",
       "    <tr>\n",
       "      <th>4</th>\n",
       "      <td>5</td>\n",
       "      <td>4</td>\n",
       "    </tr>\n",
       "  </tbody>\n",
       "</table>\n",
       "</div>"
      ],
      "text/plain": [
       "   userId  user_index\n",
       "0       1           0\n",
       "1       2           1\n",
       "2       3           2\n",
       "3       4           3\n",
       "4       5           4"
      ]
     },
     "execution_count": 4,
     "metadata": {},
     "output_type": "execute_result"
    }
   ],
   "source": [
    "#get ordered list of movieIds\n",
    "user_indices = pd.DataFrame(sorted(list(set(ratings['userId']))),columns=['userId'])\n",
    "#add in data frame index value to data frame\n",
    "user_indices['user_index']=user_indices.index\n",
    "#inspect data frame\n",
    "user_indices.head()"
   ]
  },
  {
   "cell_type": "code",
   "execution_count": 5,
   "metadata": {},
   "outputs": [
    {
     "data": {
      "text/html": [
       "<div>\n",
       "<style scoped>\n",
       "    .dataframe tbody tr th:only-of-type {\n",
       "        vertical-align: middle;\n",
       "    }\n",
       "\n",
       "    .dataframe tbody tr th {\n",
       "        vertical-align: top;\n",
       "    }\n",
       "\n",
       "    .dataframe thead th {\n",
       "        text-align: right;\n",
       "    }\n",
       "</style>\n",
       "<table border=\"1\" class=\"dataframe\">\n",
       "  <thead>\n",
       "    <tr style=\"text-align: right;\">\n",
       "      <th></th>\n",
       "      <th>userId</th>\n",
       "      <th>movieId</th>\n",
       "      <th>rating</th>\n",
       "      <th>movie_index</th>\n",
       "      <th>user_index</th>\n",
       "    </tr>\n",
       "  </thead>\n",
       "  <tbody>\n",
       "    <tr>\n",
       "      <th>0</th>\n",
       "      <td>1</td>\n",
       "      <td>2</td>\n",
       "      <td>3.5</td>\n",
       "      <td>1</td>\n",
       "      <td>0</td>\n",
       "    </tr>\n",
       "    <tr>\n",
       "      <th>1</th>\n",
       "      <td>1</td>\n",
       "      <td>29</td>\n",
       "      <td>3.5</td>\n",
       "      <td>28</td>\n",
       "      <td>0</td>\n",
       "    </tr>\n",
       "    <tr>\n",
       "      <th>2</th>\n",
       "      <td>1</td>\n",
       "      <td>32</td>\n",
       "      <td>3.5</td>\n",
       "      <td>31</td>\n",
       "      <td>0</td>\n",
       "    </tr>\n",
       "    <tr>\n",
       "      <th>3</th>\n",
       "      <td>1</td>\n",
       "      <td>47</td>\n",
       "      <td>3.5</td>\n",
       "      <td>46</td>\n",
       "      <td>0</td>\n",
       "    </tr>\n",
       "    <tr>\n",
       "      <th>4</th>\n",
       "      <td>1</td>\n",
       "      <td>50</td>\n",
       "      <td>3.5</td>\n",
       "      <td>49</td>\n",
       "      <td>0</td>\n",
       "    </tr>\n",
       "  </tbody>\n",
       "</table>\n",
       "</div>"
      ],
      "text/plain": [
       "   userId  movieId  rating  movie_index  user_index\n",
       "0       1        2     3.5            1           0\n",
       "1       1       29     3.5           28           0\n",
       "2       1       32     3.5           31           0\n",
       "3       1       47     3.5           46           0\n",
       "4       1       50     3.5           49           0"
      ]
     },
     "execution_count": 5,
     "metadata": {},
     "output_type": "execute_result"
    }
   ],
   "source": [
    "#join the movie indices\n",
    "df_with_index = pd.merge(ratings,item_indices,on='movieId')\n",
    "#join the user indices\n",
    "df_with_index=pd.merge(df_with_index,user_indices,on='userId')\n",
    "#inspec the data frame\n",
    "df_with_index.head()"
   ]
  },
  {
   "cell_type": "code",
   "execution_count": 6,
   "metadata": {},
   "outputs": [],
   "source": [
    "# Assigning a unique value to each user and movie in range 0,no_of_users and 0,no_of_movies respectively.\n",
    "ratings.userId = ratings.userId.astype('category').cat.codes.values\n",
    "ratings.movieId = ratings.movieId.astype('category').cat.codes.values"
   ]
  },
  {
   "cell_type": "code",
   "execution_count": 7,
   "metadata": {},
   "outputs": [
    {
     "data": {
      "text/plain": [
       "((838860, 3), (209715, 3))"
      ]
     },
     "execution_count": 7,
     "metadata": {},
     "output_type": "execute_result"
    }
   ],
   "source": [
    "#take 80% as the training set and 20% as the test set\n",
    "train, test= train_test_split(ratings,test_size=0.2)\n",
    "train.shape,test.shape"
   ]
  },
  {
   "cell_type": "code",
   "execution_count": 8,
   "metadata": {},
   "outputs": [
    {
     "data": {
      "text/plain": [
       "<bound method NDFrame.head of          userId  movieId  rating\n",
       "880212     5878     1481     4.0\n",
       "867463     5791     1098     3.0\n",
       "26942       207     8750     4.0\n",
       "707989     4699      918     4.0\n",
       "344891     2334     7446     3.5\n",
       "...         ...      ...     ...\n",
       "661685     4393     2784     5.0\n",
       "1039209    7045    10131     4.0\n",
       "963646     6462     3350     4.0\n",
       "73530       519     5175     3.5\n",
       "534585     3612     3540     5.0\n",
       "\n",
       "[838860 rows x 3 columns]>"
      ]
     },
     "execution_count": 8,
     "metadata": {},
     "output_type": "execute_result"
    }
   ],
   "source": [
    "train.head"
   ]
  },
  {
   "cell_type": "code",
   "execution_count": 9,
   "metadata": {},
   "outputs": [
    {
     "data": {
      "text/plain": [
       "14025"
      ]
     },
     "execution_count": 9,
     "metadata": {},
     "output_type": "execute_result"
    }
   ],
   "source": [
    "train.movieId.max()"
   ]
  },
  {
   "cell_type": "code",
   "execution_count": 10,
   "metadata": {},
   "outputs": [
    {
     "data": {
      "text/plain": [
       "<bound method NDFrame.head of         userId  movieId  rating\n",
       "617310    4128    11092     3.5\n",
       "141407     950     6699     4.5\n",
       "499840    3372      349     4.0\n",
       "217647    1506     5038     1.0\n",
       "274684    1886     4808     2.0\n",
       "...        ...      ...     ...\n",
       "775521    5156     3194     3.5\n",
       "379571    2572     3215     3.5\n",
       "359817    2422     7480     3.5\n",
       "874969    5842      294     4.0\n",
       "760304    5068      583     4.0\n",
       "\n",
       "[209715 rows x 3 columns]>"
      ]
     },
     "execution_count": 10,
     "metadata": {},
     "output_type": "execute_result"
    }
   ],
   "source": [
    "test.head"
   ]
  },
  {
   "cell_type": "code",
   "execution_count": 11,
   "metadata": {},
   "outputs": [
    {
     "data": {
      "text/plain": [
       "(7120, 14026)"
      ]
     },
     "execution_count": 11,
     "metadata": {},
     "output_type": "execute_result"
    }
   ],
   "source": [
    "n_users = ratings.userId.unique().shape[0]\n",
    "n_items = ratings.movieId.unique().shape[0]\n",
    "n_users, n_items"
   ]
  },
  {
   "cell_type": "code",
   "execution_count": 12,
   "metadata": {},
   "outputs": [
    {
     "data": {
      "text/plain": [
       "(7120, 14026)"
      ]
     },
     "execution_count": 12,
     "metadata": {},
     "output_type": "execute_result"
    }
   ],
   "source": [
    "#Create two user-item matrices, one for training and another for testing\n",
    "train_data_matrix = np.zeros((n_users, n_items))\n",
    "    #for every line in the data\n",
    "for line in train.itertuples():\n",
    "    #set the value in the column and row to \n",
    "    #line[1] is userId, line[2] is movieId and line[3] is rating, line[4] is movie_index and line[5] is user_index\n",
    "    train_data_matrix[line[1]-1,line[2]-1] = line[3]\n",
    "train_data_matrix.shape"
   ]
  },
  {
   "cell_type": "code",
   "execution_count": 13,
   "metadata": {},
   "outputs": [
    {
     "data": {
      "text/plain": [
       "(7120, 14026)"
      ]
     },
     "execution_count": 13,
     "metadata": {},
     "output_type": "execute_result"
    }
   ],
   "source": [
    "#Create two user-item matrices, one for training and another for testing\n",
    "test_data_matrix = np.zeros((n_users, n_items))\n",
    "    #for every line in the data\n",
    "for line in test.itertuples():\n",
    "    #set the value in the column and row to \n",
    "    #line[1] is userId, line[2] is movieId and line[3] is rating, line[4] is movie_index and line[5] is user_index\n",
    "    #print(line[2])\n",
    "    test_data_matrix[line[1]-1,line[2]-1] = line[3]\n",
    "test_data_matrix.shape"
   ]
  },
  {
   "cell_type": "code",
   "execution_count": 14,
   "metadata": {},
   "outputs": [
    {
     "data": {
      "text/html": [
       "<div>\n",
       "<style scoped>\n",
       "    .dataframe tbody tr th:only-of-type {\n",
       "        vertical-align: middle;\n",
       "    }\n",
       "\n",
       "    .dataframe tbody tr th {\n",
       "        vertical-align: top;\n",
       "    }\n",
       "\n",
       "    .dataframe thead th {\n",
       "        text-align: right;\n",
       "    }\n",
       "</style>\n",
       "<table border=\"1\" class=\"dataframe\">\n",
       "  <thead>\n",
       "    <tr style=\"text-align: right;\">\n",
       "      <th></th>\n",
       "      <th>0</th>\n",
       "      <th>1</th>\n",
       "      <th>2</th>\n",
       "      <th>3</th>\n",
       "      <th>4</th>\n",
       "      <th>5</th>\n",
       "      <th>6</th>\n",
       "      <th>7</th>\n",
       "      <th>8</th>\n",
       "      <th>9</th>\n",
       "      <th>...</th>\n",
       "      <th>14016</th>\n",
       "      <th>14017</th>\n",
       "      <th>14018</th>\n",
       "      <th>14019</th>\n",
       "      <th>14020</th>\n",
       "      <th>14021</th>\n",
       "      <th>14022</th>\n",
       "      <th>14023</th>\n",
       "      <th>14024</th>\n",
       "      <th>14025</th>\n",
       "    </tr>\n",
       "  </thead>\n",
       "  <tbody>\n",
       "    <tr>\n",
       "      <th>0</th>\n",
       "      <td>0.0</td>\n",
       "      <td>4.0</td>\n",
       "      <td>0.0</td>\n",
       "      <td>0.0</td>\n",
       "      <td>0.0</td>\n",
       "      <td>0.0</td>\n",
       "      <td>0.0</td>\n",
       "      <td>0.0</td>\n",
       "      <td>0.0</td>\n",
       "      <td>0.0</td>\n",
       "      <td>...</td>\n",
       "      <td>0.0</td>\n",
       "      <td>0.0</td>\n",
       "      <td>0.0</td>\n",
       "      <td>0.0</td>\n",
       "      <td>0.0</td>\n",
       "      <td>0.0</td>\n",
       "      <td>0.0</td>\n",
       "      <td>0.0</td>\n",
       "      <td>0.0</td>\n",
       "      <td>0.0</td>\n",
       "    </tr>\n",
       "    <tr>\n",
       "      <th>1</th>\n",
       "      <td>0.0</td>\n",
       "      <td>0.0</td>\n",
       "      <td>0.0</td>\n",
       "      <td>0.0</td>\n",
       "      <td>0.0</td>\n",
       "      <td>0.0</td>\n",
       "      <td>0.0</td>\n",
       "      <td>0.0</td>\n",
       "      <td>0.0</td>\n",
       "      <td>0.0</td>\n",
       "      <td>...</td>\n",
       "      <td>0.0</td>\n",
       "      <td>0.0</td>\n",
       "      <td>0.0</td>\n",
       "      <td>0.0</td>\n",
       "      <td>0.0</td>\n",
       "      <td>0.0</td>\n",
       "      <td>0.0</td>\n",
       "      <td>0.0</td>\n",
       "      <td>0.0</td>\n",
       "      <td>0.0</td>\n",
       "    </tr>\n",
       "    <tr>\n",
       "      <th>2</th>\n",
       "      <td>0.0</td>\n",
       "      <td>0.0</td>\n",
       "      <td>0.0</td>\n",
       "      <td>0.0</td>\n",
       "      <td>0.0</td>\n",
       "      <td>0.0</td>\n",
       "      <td>0.0</td>\n",
       "      <td>0.0</td>\n",
       "      <td>4.0</td>\n",
       "      <td>0.0</td>\n",
       "      <td>...</td>\n",
       "      <td>0.0</td>\n",
       "      <td>0.0</td>\n",
       "      <td>0.0</td>\n",
       "      <td>0.0</td>\n",
       "      <td>0.0</td>\n",
       "      <td>0.0</td>\n",
       "      <td>0.0</td>\n",
       "      <td>0.0</td>\n",
       "      <td>0.0</td>\n",
       "      <td>0.0</td>\n",
       "    </tr>\n",
       "    <tr>\n",
       "      <th>3</th>\n",
       "      <td>3.0</td>\n",
       "      <td>0.0</td>\n",
       "      <td>0.0</td>\n",
       "      <td>0.0</td>\n",
       "      <td>0.0</td>\n",
       "      <td>0.0</td>\n",
       "      <td>0.0</td>\n",
       "      <td>0.0</td>\n",
       "      <td>0.0</td>\n",
       "      <td>5.0</td>\n",
       "      <td>...</td>\n",
       "      <td>0.0</td>\n",
       "      <td>0.0</td>\n",
       "      <td>0.0</td>\n",
       "      <td>0.0</td>\n",
       "      <td>0.0</td>\n",
       "      <td>0.0</td>\n",
       "      <td>0.0</td>\n",
       "      <td>0.0</td>\n",
       "      <td>0.0</td>\n",
       "      <td>0.0</td>\n",
       "    </tr>\n",
       "    <tr>\n",
       "      <th>4</th>\n",
       "      <td>0.0</td>\n",
       "      <td>3.0</td>\n",
       "      <td>0.0</td>\n",
       "      <td>0.0</td>\n",
       "      <td>0.0</td>\n",
       "      <td>5.0</td>\n",
       "      <td>0.0</td>\n",
       "      <td>0.0</td>\n",
       "      <td>0.0</td>\n",
       "      <td>0.0</td>\n",
       "      <td>...</td>\n",
       "      <td>0.0</td>\n",
       "      <td>0.0</td>\n",
       "      <td>0.0</td>\n",
       "      <td>0.0</td>\n",
       "      <td>0.0</td>\n",
       "      <td>0.0</td>\n",
       "      <td>0.0</td>\n",
       "      <td>0.0</td>\n",
       "      <td>0.0</td>\n",
       "      <td>5.0</td>\n",
       "    </tr>\n",
       "  </tbody>\n",
       "</table>\n",
       "<p>5 rows × 14026 columns</p>\n",
       "</div>"
      ],
      "text/plain": [
       "   0      1      2      3      4      5      6      7      8      9      ...  \\\n",
       "0    0.0    4.0    0.0    0.0    0.0    0.0    0.0    0.0    0.0    0.0  ...   \n",
       "1    0.0    0.0    0.0    0.0    0.0    0.0    0.0    0.0    0.0    0.0  ...   \n",
       "2    0.0    0.0    0.0    0.0    0.0    0.0    0.0    0.0    4.0    0.0  ...   \n",
       "3    3.0    0.0    0.0    0.0    0.0    0.0    0.0    0.0    0.0    5.0  ...   \n",
       "4    0.0    3.0    0.0    0.0    0.0    5.0    0.0    0.0    0.0    0.0  ...   \n",
       "\n",
       "   14016  14017  14018  14019  14020  14021  14022  14023  14024  14025  \n",
       "0    0.0    0.0    0.0    0.0    0.0    0.0    0.0    0.0    0.0    0.0  \n",
       "1    0.0    0.0    0.0    0.0    0.0    0.0    0.0    0.0    0.0    0.0  \n",
       "2    0.0    0.0    0.0    0.0    0.0    0.0    0.0    0.0    0.0    0.0  \n",
       "3    0.0    0.0    0.0    0.0    0.0    0.0    0.0    0.0    0.0    0.0  \n",
       "4    0.0    0.0    0.0    0.0    0.0    0.0    0.0    0.0    0.0    5.0  \n",
       "\n",
       "[5 rows x 14026 columns]"
      ]
     },
     "execution_count": 14,
     "metadata": {},
     "output_type": "execute_result"
    }
   ],
   "source": [
    "pd.DataFrame(train_data_matrix).head()"
   ]
  },
  {
   "cell_type": "code",
   "execution_count": 15,
   "metadata": {},
   "outputs": [
    {
     "data": {
      "text/plain": [
       "5.0"
      ]
     },
     "execution_count": 15,
     "metadata": {},
     "output_type": "execute_result"
    }
   ],
   "source": [
    "train['rating'].max()"
   ]
  },
  {
   "cell_type": "markdown",
   "metadata": {},
   "source": [
    "# 2-) svd to the test data and calculate rmse score of matrix factorisation for find best n_latent"
   ]
  },
  {
   "cell_type": "code",
   "execution_count": 16,
   "metadata": {},
   "outputs": [],
   "source": [
    "# accuracy bulunacak"
   ]
  },
  {
   "cell_type": "code",
   "execution_count": 17,
   "metadata": {},
   "outputs": [],
   "source": [
    "#Calculate the rmse sscore of SVD using different values of k (latent features)\n",
    "rmse_list = []\n",
    "mae_list = []\n",
    "accuracy=[]\n",
    "pred_list=[]\n",
    "a=[1,2,5]\n",
    "for i in a:\n",
    "    #apply svd to the test data\n",
    "    u,s,vt = svds(train_data_matrix,k=i)\n",
    "    #get diagonal matrix\n",
    "    s_diag_matrix=np.diag(s)\n",
    "    #predict x with dot product of u s_diag and vt\n",
    "    X_pred = np.dot(np.dot(u,s_diag_matrix),vt)\n",
    "    pred_list.append(X_pred)\n",
    "    #calculate rmse score of matrix factorisation predictions\n",
    "    mse =mean_squared_error(test_data_matrix, X_pred)\n",
    "    \n",
    "    rmse_score = sqrt(mse)\n",
    "    rmse_list.append(round(rmse_score,4))\n",
    "    mae_score = mean_absolute_error(test_data_matrix,X_pred)\n",
    "    mae_list.append(round(mae_score,4))"
   ]
  },
  {
   "cell_type": "code",
   "execution_count": 18,
   "metadata": {},
   "outputs": [
    {
     "name": "stdout",
     "output_type": "stream",
     "text": [
      "Matrix Factorisation with 1 latent features has a RMSE of 0.1948\n",
      "Matrix Factorisation with 1 latent features has a MAE of 0.039\n"
     ]
    }
   ],
   "source": [
    "min_value_rmse=min(rmse_list)\n",
    "min_index_rmse=rmse_list.index(min_value_rmse)\n",
    "min_value_mae=min(mae_list)\n",
    "min_index_mae=mae_list.index(min_value_mae)\n",
    "\n",
    "print(\"Matrix Factorisation with \" + str(a[min_index_rmse]) +\" latent features has a RMSE of \" + str(min_value_rmse))\n",
    "print(\"Matrix Factorisation with \" + str(a[min_index_mae]) +\" latent features has a MAE of \" + str(min_value_mae))"
   ]
  },
  {
   "cell_type": "code",
   "execution_count": 19,
   "metadata": {},
   "outputs": [],
   "source": [
    "import keras\n",
    "from keras.layers import Embedding, Reshape\n",
    "from keras.models import Sequential\n",
    "from keras.optimizers import Adam\n",
    "from keras.callbacks import EarlyStopping, ModelCheckpoint"
   ]
  },
  {
   "cell_type": "code",
   "execution_count": 21,
   "metadata": {},
   "outputs": [
    {
     "name": "stdout",
     "output_type": "stream",
     "text": [
      "WARNING:tensorflow:From C:\\Users\\Ali\\anaconda3\\lib\\site-packages\\tensorflow\\python\\keras\\initializers\\initializers_v1.py:59: calling RandomUniform.__init__ (from tensorflow.python.ops.init_ops) with dtype is deprecated and will be removed in a future version.\n",
      "Instructions for updating:\n",
      "Call initializer instance with the dtype argument instead of passing it to the constructor\n"
     ]
    }
   ],
   "source": [
    "movie_input = keras.layers.Input(shape=[1],name='Item')\n",
    "movie_embedding = keras.layers.Embedding(14026 + 1, 1, name='Movie-Embedding')(movie_input)\n",
    "movie_vec = keras.layers.Flatten(name='FlattenMovies')(movie_embedding)\n",
    "user_input = keras.layers.Input(shape=[1],name='User')\n",
    "user_vec = keras.layers.Flatten(name='FlattenUsers')(keras.layers.Embedding(7120 + 1, 1,name='User-Embedding')(user_input))\n",
    "prod = keras.layers.concatenate([movie_vec, user_vec],name='DotProduct')\n",
    "result = keras.layers.Dense(1, activation='relu',name='Activation')(prod)\n",
    "adam = Adam(lr=0.005)\n",
    "model = keras.Model([user_input, movie_input], result)\n",
    "model.compile(optimizer=adam,loss= 'mean_absolute_error')"
   ]
  },
  {
   "cell_type": "code",
   "execution_count": 22,
   "metadata": {},
   "outputs": [
    {
     "name": "stdout",
     "output_type": "stream",
     "text": [
      "Model: \"model\"\n",
      "__________________________________________________________________________________________________\n",
      "Layer (type)                    Output Shape         Param #     Connected to                     \n",
      "==================================================================================================\n",
      "Item (InputLayer)               [(None, 1)]          0                                            \n",
      "__________________________________________________________________________________________________\n",
      "User (InputLayer)               [(None, 1)]          0                                            \n",
      "__________________________________________________________________________________________________\n",
      "Movie-Embedding (Embedding)     (None, 1, 1)         14027       Item[0][0]                       \n",
      "__________________________________________________________________________________________________\n",
      "User-Embedding (Embedding)      (None, 1, 1)         7121        User[0][0]                       \n",
      "__________________________________________________________________________________________________\n",
      "FlattenMovies (Flatten)         (None, 1)            0           Movie-Embedding[0][0]            \n",
      "__________________________________________________________________________________________________\n",
      "FlattenUsers (Flatten)          (None, 1)            0           User-Embedding[0][0]             \n",
      "__________________________________________________________________________________________________\n",
      "DotProduct (Concatenate)        (None, 2)            0           FlattenMovies[0][0]              \n",
      "                                                                 FlattenUsers[0][0]               \n",
      "__________________________________________________________________________________________________\n",
      "Activation (Dense)              (None, 1)            3           DotProduct[0][0]                 \n",
      "==================================================================================================\n",
      "Total params: 21,151\n",
      "Trainable params: 21,151\n",
      "Non-trainable params: 0\n",
      "__________________________________________________________________________________________________\n"
     ]
    }
   ],
   "source": [
    "model.summary()"
   ]
  },
  {
   "cell_type": "code",
   "execution_count": 23,
   "metadata": {},
   "outputs": [
    {
     "name": "stdout",
     "output_type": "stream",
     "text": [
      "Train on 754974 samples, validate on 83886 samples\n",
      "Epoch 1/10\n",
      "754974/754974 [==============================] - 5s 7us/sample - loss: 0.7381 - val_loss: 0.6702\n",
      "Epoch 2/10\n",
      "754974/754974 [==============================] - 5s 7us/sample - loss: 0.6638 - val_loss: 0.6645\n",
      "Epoch 3/10\n",
      "754974/754974 [==============================] - 5s 7us/sample - loss: 0.6576 - val_loss: 0.6628\n",
      "Epoch 4/10\n",
      "754974/754974 [==============================] - 5s 7us/sample - loss: 0.6544 - val_loss: 0.6634\n",
      "Epoch 5/10\n",
      "754974/754974 [==============================] - 5s 7us/sample - loss: 0.6523 - val_loss: 0.6607\n",
      "Epoch 6/10\n",
      "754974/754974 [==============================] - 5s 7us/sample - loss: 0.6509 - val_loss: 0.6608\n",
      "Epoch 7/10\n",
      "754974/754974 [==============================] - 5s 7us/sample - loss: 0.6497 - val_loss: 0.6602\n",
      "Epoch 8/10\n",
      "754974/754974 [==============================] - 5s 7us/sample - loss: 0.6489 - val_loss: 0.6601\n",
      "Epoch 9/10\n",
      "754974/754974 [==============================] - 5s 7us/sample - loss: 0.6481 - val_loss: 0.6603\n",
      "Epoch 10/10\n",
      "754974/754974 [==============================] - 5s 7us/sample - loss: 0.6473 - val_loss: 0.6598\n"
     ]
    }
   ],
   "source": [
    "history = model.fit([train.userId, train.movieId], train.rating,  epochs=10,batch_size=64,verbose=1, validation_split=0.1)"
   ]
  },
  {
   "cell_type": "code",
   "execution_count": 24,
   "metadata": {},
   "outputs": [],
   "source": [
    "y_hat = np.round(model.predict([test.userId, test.movieId]),0)\n",
    "y_true = test.rating"
   ]
  },
  {
   "cell_type": "code",
   "execution_count": 25,
   "metadata": {},
   "outputs": [
    {
     "data": {
      "text/plain": [
       "0.6510120878334883"
      ]
     },
     "execution_count": 25,
     "metadata": {},
     "output_type": "execute_result"
    }
   ],
   "source": [
    "mean_absolute_error(y_true, y_hat)"
   ]
  },
  {
   "cell_type": "code",
   "execution_count": 26,
   "metadata": {},
   "outputs": [
    {
     "name": "stdout",
     "output_type": "stream",
     "text": [
      "(MAE)Mean Absolute Error: 0.651\n",
      "(RMSE)Root Mean Square Error: 0.9221\n",
      " Accuracy: 77.87 %.\n"
     ]
    }
   ],
   "source": [
    "def accuracy(y_true,y_hat):\n",
    "    errors=mean_absolute_error(y_true, y_hat)\n",
    "    mape = 100 * (errors / y_true)\n",
    "    accuracy = 100 - np.mean(mape)\n",
    "    return accuracy\n",
    "print(\"(MAE)Mean Absolute Error:\",round(mean_absolute_error(y_true, y_hat),4))\n",
    "print(\"(RMSE)Root Mean Square Error:\",round(np.sqrt(mean_squared_error(y_true,y_hat)) ,4))\n",
    "print(' Accuracy:', round(accuracy(y_true,y_hat), 2), '%.')"
   ]
  },
  {
   "cell_type": "code",
   "execution_count": 136,
   "metadata": {},
   "outputs": [],
   "source": [
    "model.save(\"models/matrix_factorisation_model_with_n_latent_factors.h5\")"
   ]
  },
  {
   "cell_type": "code",
   "execution_count": 27,
   "metadata": {},
   "outputs": [
    {
     "data": {
      "text/plain": [
       "Text(0.5,1,'Mean Absolute Error Over Epochs')"
      ]
     },
     "execution_count": 27,
     "metadata": {},
     "output_type": "execute_result"
    },
    {
     "data": {
      "image/png": "[encoded data removed]",
      "text/plain": [
       "<Figure size 432x288 with 1 Axes>"
      ]
     },
     "metadata": {
      "needs_background": "light"
     },
     "output_type": "display_data"
    }
   ],
   "source": [
    "plt.plot(np.array(history.history['loss']))\n",
    "plt.plot(np.array(history.history['val_loss']))\n",
    "plt.ylabel('Mean Absolute Error')\n",
    "plt.xlabel('Epochs')\n",
    "plt.legend(['train', 'validation'])\n",
    "plt.title('Mean Absolute Error Over Epochs')"
   ]
  },
  {
   "cell_type": "markdown",
   "metadata": {},
   "source": [
    "## 2.1-) matrix_factorisation_model_with_n_latent_factors recommendation"
   ]
  },
  {
   "cell_type": "code",
   "execution_count": 28,
   "metadata": {},
   "outputs": [
    {
     "name": "stdout",
     "output_type": "stream",
     "text": [
      "\n",
      "Performing kmeans to find the nearest users...\n",
      "Found 708 neighbor users.\n"
     ]
    }
   ],
   "source": [
    "mlp_user_embedding_weights = (next(iter(filter(lambda x: x.name == 'User-Embedding', model.layers))).get_weights())\n",
    "\n",
    "# get the latent embedding for your desired user\n",
    "user_latent_matrix = mlp_user_embedding_weights[0]\n",
    "\n",
    "desired_user_id = 38\n",
    "one_user_vector = user_latent_matrix[desired_user_id,:]\n",
    "one_user_vector = np.reshape(one_user_vector, (1,a[min_index_rmse]))\n",
    "\n",
    "from sklearn.cluster import KMeans\n",
    "\n",
    "print('\\nPerforming kmeans to find the nearest users...')\n",
    "# get similar users\n",
    "kmeans = KMeans(n_clusters=20, random_state=0, verbose=0).fit(user_latent_matrix)\n",
    "desired_user_label = kmeans.predict(one_user_vector)\n",
    "user_label = kmeans.labels_\n",
    "neighbors = []\n",
    "for user_id, user_label in enumerate(user_label):\n",
    "    if user_label == desired_user_label:\n",
    "        neighbors.append(user_id)\n",
    "print('Found {0} neighbor users.'.format(len(neighbors)))"
   ]
  },
  {
   "cell_type": "code",
   "execution_count": 29,
   "metadata": {},
   "outputs": [],
   "source": [
    "    # get the movies in 3 similar users' movies\n",
    "    movies = []\n",
    "    result_list=[]\n",
    "    for user_id in neighbors:\n",
    "        movies += list(ratings[ratings['userId'] == int(user_id)]['movieId'])\n",
    "    movies = list(set(movies))\n",
    "    result_list.append('Found {0} neighbor movies from these users.'.format(len(movies)))\n",
    "\n",
    "    users = np.full(len(movies), desired_user_id, dtype='int32')\n",
    "    items = np.array(movies, dtype='int32')\n",
    "\n",
    "    result_list.append('Ranking most likely tracks using the NeuMF model...')\n",
    "    # and predict movies for my user\n",
    "    results = model.predict([users,items],batch_size=10, verbose=0) \n",
    "    results = results.tolist()\n",
    "    result_list.append('Ranked the movies!')\n",
    "\n",
    "    results = pd.DataFrame(results, columns=['pre_rating']).astype(\"float\")\n",
    "    items = pd.DataFrame(items, columns=['movieId'])\n",
    "    results = pd.concat([items, results], ignore_index=True, sort=False, axis=1)\n",
    "    results.columns =['movieId', 'pre_rating'] \n",
    "    results_df = pd.DataFrame(np.nan, index=range(len(results)), columns=['pre_rating','movieId'])\n",
    "    for index, row in results.iterrows():\n",
    "        results_df.loc[index] = [row['pre_rating'], ratings[ratings['movieId'] == row['movieId']].iloc[0]['movieId']]\n",
    "\n",
    "    results_df= results_df.sort_values(by=['pre_rating'], ascending=False)\n",
    "    results_df[\"movieId\"]=results_df[\"movieId\"].astype(int)\n",
    "    results_df=pd.merge(results_df,movie_list,on=\"movieId\")[:10]\n"
   ]
  },
  {
   "cell_type": "code",
   "execution_count": 30,
   "metadata": {},
   "outputs": [
    {
     "data": {
      "text/html": [
       "<div>\n",
       "<style scoped>\n",
       "    .dataframe tbody tr th:only-of-type {\n",
       "        vertical-align: middle;\n",
       "    }\n",
       "\n",
       "    .dataframe tbody tr th {\n",
       "        vertical-align: top;\n",
       "    }\n",
       "\n",
       "    .dataframe thead th {\n",
       "        text-align: right;\n",
       "    }\n",
       "</style>\n",
       "<table border=\"1\" class=\"dataframe\">\n",
       "  <thead>\n",
       "    <tr style=\"text-align: right;\">\n",
       "      <th></th>\n",
       "      <th>pre_rating</th>\n",
       "      <th>movieId</th>\n",
       "      <th>title</th>\n",
       "      <th>genres</th>\n",
       "    </tr>\n",
       "  </thead>\n",
       "  <tbody>\n",
       "    <tr>\n",
       "      <th>0</th>\n",
       "      <td>4.790343</td>\n",
       "      <td>7056</td>\n",
       "      <td>Public Enemy, The (1931)</td>\n",
       "      <td>Action|Crime|Drama</td>\n",
       "    </tr>\n",
       "    <tr>\n",
       "      <th>1</th>\n",
       "      <td>4.706107</td>\n",
       "      <td>647</td>\n",
       "      <td>Courage Under Fire (1996)</td>\n",
       "      <td>Action|Crime|Drama|War</td>\n",
       "    </tr>\n",
       "    <tr>\n",
       "      <th>2</th>\n",
       "      <td>4.651084</td>\n",
       "      <td>3053</td>\n",
       "      <td>Messenger: The Story of Joan of Arc, The (1999)</td>\n",
       "      <td>Drama|War</td>\n",
       "    </tr>\n",
       "    <tr>\n",
       "      <th>3</th>\n",
       "      <td>4.648019</td>\n",
       "      <td>5608</td>\n",
       "      <td>Das Experiment (Experiment, The) (2001)</td>\n",
       "      <td>Drama|Thriller</td>\n",
       "    </tr>\n",
       "    <tr>\n",
       "      <th>4</th>\n",
       "      <td>4.589684</td>\n",
       "      <td>4170</td>\n",
       "      <td>Hit and Runway (1999)</td>\n",
       "      <td>Comedy</td>\n",
       "    </tr>\n",
       "    <tr>\n",
       "      <th>5</th>\n",
       "      <td>4.575807</td>\n",
       "      <td>3048</td>\n",
       "      <td>Under the Rainbow (1981)</td>\n",
       "      <td>Comedy</td>\n",
       "    </tr>\n",
       "    <tr>\n",
       "      <th>6</th>\n",
       "      <td>4.555152</td>\n",
       "      <td>7994</td>\n",
       "      <td>Premature Burial, The (1962)</td>\n",
       "      <td>Horror</td>\n",
       "    </tr>\n",
       "    <tr>\n",
       "      <th>7</th>\n",
       "      <td>4.554189</td>\n",
       "      <td>731</td>\n",
       "      <td>Heaven's Prisoners (1996)</td>\n",
       "      <td>Crime|Thriller</td>\n",
       "    </tr>\n",
       "    <tr>\n",
       "      <th>8</th>\n",
       "      <td>4.550573</td>\n",
       "      <td>5910</td>\n",
       "      <td>Bolero (Uns et les autres, Les) (1981)</td>\n",
       "      <td>Drama|War</td>\n",
       "    </tr>\n",
       "    <tr>\n",
       "      <th>9</th>\n",
       "      <td>4.541239</td>\n",
       "      <td>6466</td>\n",
       "      <td>Mississippi Masala (1991)</td>\n",
       "      <td>Drama|Romance</td>\n",
       "    </tr>\n",
       "  </tbody>\n",
       "</table>\n",
       "</div>"
      ],
      "text/plain": [
       "   pre_rating  movieId                                            title  \\\n",
       "0    4.790343     7056                         Public Enemy, The (1931)   \n",
       "1    4.706107      647                        Courage Under Fire (1996)   \n",
       "2    4.651084     3053  Messenger: The Story of Joan of Arc, The (1999)   \n",
       "3    4.648019     5608          Das Experiment (Experiment, The) (2001)   \n",
       "4    4.589684     4170                            Hit and Runway (1999)   \n",
       "5    4.575807     3048                         Under the Rainbow (1981)   \n",
       "6    4.555152     7994                     Premature Burial, The (1962)   \n",
       "7    4.554189      731                        Heaven's Prisoners (1996)   \n",
       "8    4.550573     5910           Bolero (Uns et les autres, Les) (1981)   \n",
       "9    4.541239     6466                        Mississippi Masala (1991)   \n",
       "\n",
       "                   genres  \n",
       "0      Action|Crime|Drama  \n",
       "1  Action|Crime|Drama|War  \n",
       "2               Drama|War  \n",
       "3          Drama|Thriller  \n",
       "4                  Comedy  \n",
       "5                  Comedy  \n",
       "6                  Horror  \n",
       "7          Crime|Thriller  \n",
       "8               Drama|War  \n",
       "9           Drama|Romance  "
      ]
     },
     "execution_count": 30,
     "metadata": {},
     "output_type": "execute_result"
    }
   ],
   "source": [
    "results_df"
   ]
  },
  {
   "cell_type": "markdown",
   "metadata": {},
   "source": [
    "## 2.2-)svd matrix factorisation recommendation"
   ]
  },
  {
   "cell_type": "code",
   "execution_count": 32,
   "metadata": {},
   "outputs": [
    {
     "data": {
      "text/html": [
       "<div>\n",
       "<style scoped>\n",
       "    .dataframe tbody tr th:only-of-type {\n",
       "        vertical-align: middle;\n",
       "    }\n",
       "\n",
       "    .dataframe tbody tr th {\n",
       "        vertical-align: top;\n",
       "    }\n",
       "\n",
       "    .dataframe thead th {\n",
       "        text-align: right;\n",
       "    }\n",
       "</style>\n",
       "<table border=\"1\" class=\"dataframe\">\n",
       "  <thead>\n",
       "    <tr style=\"text-align: right;\">\n",
       "      <th></th>\n",
       "      <th>0</th>\n",
       "      <th>1</th>\n",
       "      <th>2</th>\n",
       "      <th>3</th>\n",
       "      <th>4</th>\n",
       "      <th>5</th>\n",
       "      <th>6</th>\n",
       "      <th>7</th>\n",
       "      <th>8</th>\n",
       "      <th>9</th>\n",
       "      <th>...</th>\n",
       "      <th>14016</th>\n",
       "      <th>14017</th>\n",
       "      <th>14018</th>\n",
       "      <th>14019</th>\n",
       "      <th>14020</th>\n",
       "      <th>14021</th>\n",
       "      <th>14022</th>\n",
       "      <th>14023</th>\n",
       "      <th>14024</th>\n",
       "      <th>14025</th>\n",
       "    </tr>\n",
       "  </thead>\n",
       "  <tbody>\n",
       "    <tr>\n",
       "      <th>0</th>\n",
       "      <td>0.080523</td>\n",
       "      <td>0.031886</td>\n",
       "      <td>-0.009940</td>\n",
       "      <td>-0.035299</td>\n",
       "      <td>0.281212</td>\n",
       "      <td>0.026304</td>\n",
       "      <td>0.002676</td>\n",
       "      <td>-0.001686</td>\n",
       "      <td>0.191231</td>\n",
       "      <td>0.018933</td>\n",
       "      <td>...</td>\n",
       "      <td>-0.000547</td>\n",
       "      <td>-0.002779</td>\n",
       "      <td>0.000031</td>\n",
       "      <td>-0.000435</td>\n",
       "      <td>-0.000525</td>\n",
       "      <td>-0.000927</td>\n",
       "      <td>0.000362</td>\n",
       "      <td>-0.000047</td>\n",
       "      <td>-0.001306</td>\n",
       "      <td>0.523083</td>\n",
       "    </tr>\n",
       "    <tr>\n",
       "      <th>1</th>\n",
       "      <td>0.216171</td>\n",
       "      <td>0.128445</td>\n",
       "      <td>-0.003318</td>\n",
       "      <td>-0.122396</td>\n",
       "      <td>1.030300</td>\n",
       "      <td>0.184942</td>\n",
       "      <td>0.006577</td>\n",
       "      <td>-0.010009</td>\n",
       "      <td>0.582066</td>\n",
       "      <td>0.220946</td>\n",
       "      <td>...</td>\n",
       "      <td>-0.002998</td>\n",
       "      <td>-0.006255</td>\n",
       "      <td>0.000088</td>\n",
       "      <td>-0.000869</td>\n",
       "      <td>-0.001663</td>\n",
       "      <td>-0.004523</td>\n",
       "      <td>0.001562</td>\n",
       "      <td>-0.000306</td>\n",
       "      <td>-0.002607</td>\n",
       "      <td>1.833489</td>\n",
       "    </tr>\n",
       "    <tr>\n",
       "      <th>2</th>\n",
       "      <td>0.420980</td>\n",
       "      <td>0.228571</td>\n",
       "      <td>0.068529</td>\n",
       "      <td>0.258675</td>\n",
       "      <td>0.397981</td>\n",
       "      <td>0.249536</td>\n",
       "      <td>0.045365</td>\n",
       "      <td>0.100221</td>\n",
       "      <td>0.633579</td>\n",
       "      <td>0.421941</td>\n",
       "      <td>...</td>\n",
       "      <td>0.000579</td>\n",
       "      <td>-0.000482</td>\n",
       "      <td>0.000007</td>\n",
       "      <td>-0.000221</td>\n",
       "      <td>-0.000024</td>\n",
       "      <td>0.001053</td>\n",
       "      <td>-0.000105</td>\n",
       "      <td>0.000011</td>\n",
       "      <td>-0.000662</td>\n",
       "      <td>0.522147</td>\n",
       "    </tr>\n",
       "    <tr>\n",
       "      <th>3</th>\n",
       "      <td>0.899671</td>\n",
       "      <td>0.487292</td>\n",
       "      <td>0.143510</td>\n",
       "      <td>0.494983</td>\n",
       "      <td>1.111522</td>\n",
       "      <td>0.549209</td>\n",
       "      <td>0.089300</td>\n",
       "      <td>0.203065</td>\n",
       "      <td>1.476883</td>\n",
       "      <td>0.936430</td>\n",
       "      <td>...</td>\n",
       "      <td>-0.000034</td>\n",
       "      <td>-0.002454</td>\n",
       "      <td>0.000032</td>\n",
       "      <td>-0.000551</td>\n",
       "      <td>-0.000757</td>\n",
       "      <td>0.001019</td>\n",
       "      <td>0.000498</td>\n",
       "      <td>-0.000071</td>\n",
       "      <td>-0.001652</td>\n",
       "      <td>1.534186</td>\n",
       "    </tr>\n",
       "    <tr>\n",
       "      <th>4</th>\n",
       "      <td>0.260254</td>\n",
       "      <td>0.150467</td>\n",
       "      <td>0.040925</td>\n",
       "      <td>0.153853</td>\n",
       "      <td>0.247517</td>\n",
       "      <td>0.166831</td>\n",
       "      <td>0.031112</td>\n",
       "      <td>0.060728</td>\n",
       "      <td>0.372709</td>\n",
       "      <td>0.259520</td>\n",
       "      <td>...</td>\n",
       "      <td>0.000407</td>\n",
       "      <td>-0.000535</td>\n",
       "      <td>0.000009</td>\n",
       "      <td>-0.000233</td>\n",
       "      <td>0.000068</td>\n",
       "      <td>0.000336</td>\n",
       "      <td>-0.000238</td>\n",
       "      <td>-0.000013</td>\n",
       "      <td>-0.000698</td>\n",
       "      <td>0.353762</td>\n",
       "    </tr>\n",
       "  </tbody>\n",
       "</table>\n",
       "<p>5 rows × 14026 columns</p>\n",
       "</div>"
      ],
      "text/plain": [
       "      0         1         2         3         4         5         6      \\\n",
       "0  0.080523  0.031886 -0.009940 -0.035299  0.281212  0.026304  0.002676   \n",
       "1  0.216171  0.128445 -0.003318 -0.122396  1.030300  0.184942  0.006577   \n",
       "2  0.420980  0.228571  0.068529  0.258675  0.397981  0.249536  0.045365   \n",
       "3  0.899671  0.487292  0.143510  0.494983  1.111522  0.549209  0.089300   \n",
       "4  0.260254  0.150467  0.040925  0.153853  0.247517  0.166831  0.031112   \n",
       "\n",
       "      7         8         9      ...     14016     14017     14018     14019  \\\n",
       "0 -0.001686  0.191231  0.018933  ... -0.000547 -0.002779  0.000031 -0.000435   \n",
       "1 -0.010009  0.582066  0.220946  ... -0.002998 -0.006255  0.000088 -0.000869   \n",
       "2  0.100221  0.633579  0.421941  ...  0.000579 -0.000482  0.000007 -0.000221   \n",
       "3  0.203065  1.476883  0.936430  ... -0.000034 -0.002454  0.000032 -0.000551   \n",
       "4  0.060728  0.372709  0.259520  ...  0.000407 -0.000535  0.000009 -0.000233   \n",
       "\n",
       "      14020     14021     14022     14023     14024     14025  \n",
       "0 -0.000525 -0.000927  0.000362 -0.000047 -0.001306  0.523083  \n",
       "1 -0.001663 -0.004523  0.001562 -0.000306 -0.002607  1.833489  \n",
       "2 -0.000024  0.001053 -0.000105  0.000011 -0.000662  0.522147  \n",
       "3 -0.000757  0.001019  0.000498 -0.000071 -0.001652  1.534186  \n",
       "4  0.000068  0.000336 -0.000238 -0.000013 -0.000698  0.353762  \n",
       "\n",
       "[5 rows x 14026 columns]"
      ]
     },
     "execution_count": 32,
     "metadata": {},
     "output_type": "execute_result"
    }
   ],
   "source": [
    "#Convert predictions to a DataFrame\n",
    "mf_pred = pd.DataFrame(X_pred, )\n",
    "mf_pred.head()"
   ]
  },
  {
   "cell_type": "code",
   "execution_count": 33,
   "metadata": {},
   "outputs": [
    {
     "data": {
      "text/html": [
       "<div>\n",
       "<style scoped>\n",
       "    .dataframe tbody tr th:only-of-type {\n",
       "        vertical-align: middle;\n",
       "    }\n",
       "\n",
       "    .dataframe tbody tr th {\n",
       "        vertical-align: top;\n",
       "    }\n",
       "\n",
       "    .dataframe thead th {\n",
       "        text-align: right;\n",
       "    }\n",
       "</style>\n",
       "<table border=\"1\" class=\"dataframe\">\n",
       "  <thead>\n",
       "    <tr style=\"text-align: right;\">\n",
       "      <th></th>\n",
       "      <th>userId</th>\n",
       "      <th>movieId</th>\n",
       "      <th>rating</th>\n",
       "      <th>title</th>\n",
       "      <th>genres</th>\n",
       "    </tr>\n",
       "  </thead>\n",
       "  <tbody>\n",
       "    <tr>\n",
       "      <th>0</th>\n",
       "      <td>0</td>\n",
       "      <td>1</td>\n",
       "      <td>3.5</td>\n",
       "      <td>Toy Story (1995)</td>\n",
       "      <td>Adventure|Animation|Children|Comedy|Fantasy</td>\n",
       "    </tr>\n",
       "    <tr>\n",
       "      <th>1</th>\n",
       "      <td>4</td>\n",
       "      <td>1</td>\n",
       "      <td>3.0</td>\n",
       "      <td>Toy Story (1995)</td>\n",
       "      <td>Adventure|Animation|Children|Comedy|Fantasy</td>\n",
       "    </tr>\n",
       "    <tr>\n",
       "      <th>2</th>\n",
       "      <td>12</td>\n",
       "      <td>1</td>\n",
       "      <td>3.0</td>\n",
       "      <td>Toy Story (1995)</td>\n",
       "      <td>Adventure|Animation|Children|Comedy|Fantasy</td>\n",
       "    </tr>\n",
       "    <tr>\n",
       "      <th>3</th>\n",
       "      <td>28</td>\n",
       "      <td>1</td>\n",
       "      <td>3.0</td>\n",
       "      <td>Toy Story (1995)</td>\n",
       "      <td>Adventure|Animation|Children|Comedy|Fantasy</td>\n",
       "    </tr>\n",
       "    <tr>\n",
       "      <th>4</th>\n",
       "      <td>33</td>\n",
       "      <td>1</td>\n",
       "      <td>3.0</td>\n",
       "      <td>Toy Story (1995)</td>\n",
       "      <td>Adventure|Animation|Children|Comedy|Fantasy</td>\n",
       "    </tr>\n",
       "  </tbody>\n",
       "</table>\n",
       "</div>"
      ],
      "text/plain": [
       "   userId  movieId  rating             title  \\\n",
       "0       0        1     3.5  Toy Story (1995)   \n",
       "1       4        1     3.0  Toy Story (1995)   \n",
       "2      12        1     3.0  Toy Story (1995)   \n",
       "3      28        1     3.0  Toy Story (1995)   \n",
       "4      33        1     3.0  Toy Story (1995)   \n",
       "\n",
       "                                        genres  \n",
       "0  Adventure|Animation|Children|Comedy|Fantasy  \n",
       "1  Adventure|Animation|Children|Comedy|Fantasy  \n",
       "2  Adventure|Animation|Children|Comedy|Fantasy  \n",
       "3  Adventure|Animation|Children|Comedy|Fantasy  \n",
       "4  Adventure|Animation|Children|Comedy|Fantasy  "
      ]
     },
     "execution_count": 33,
     "metadata": {},
     "output_type": "execute_result"
    }
   ],
   "source": [
    "df_names = pd.merge(ratings,movie_list,on='movieId')\n",
    "df_names.head()"
   ]
  },
  {
   "cell_type": "code",
   "execution_count": 34,
   "metadata": {},
   "outputs": [
    {
     "name": "stdout",
     "output_type": "stream",
     "text": [
      "User ID : 1 has already rated 59 movies\n"
     ]
    },
    {
     "data": {
      "text/html": [
       "<div>\n",
       "<style scoped>\n",
       "    .dataframe tbody tr th:only-of-type {\n",
       "        vertical-align: middle;\n",
       "    }\n",
       "\n",
       "    .dataframe tbody tr th {\n",
       "        vertical-align: top;\n",
       "    }\n",
       "\n",
       "    .dataframe thead th {\n",
       "        text-align: right;\n",
       "    }\n",
       "</style>\n",
       "<table border=\"1\" class=\"dataframe\">\n",
       "  <thead>\n",
       "    <tr style=\"text-align: right;\">\n",
       "      <th></th>\n",
       "      <th>userId</th>\n",
       "      <th>movieId</th>\n",
       "      <th>rating</th>\n",
       "      <th>title</th>\n",
       "      <th>genres</th>\n",
       "    </tr>\n",
       "  </thead>\n",
       "  <tbody>\n",
       "    <tr>\n",
       "      <th>12683</th>\n",
       "      <td>1</td>\n",
       "      <td>254</td>\n",
       "      <td>5.0</td>\n",
       "      <td>Jefferson in Paris (1995)</td>\n",
       "      <td>Drama</td>\n",
       "    </tr>\n",
       "    <tr>\n",
       "      <th>26381</th>\n",
       "      <td>1</td>\n",
       "      <td>531</td>\n",
       "      <td>5.0</td>\n",
       "      <td>Secret Garden, The (1993)</td>\n",
       "      <td>Children|Drama</td>\n",
       "    </tr>\n",
       "    <tr>\n",
       "      <th>27979</th>\n",
       "      <td>1</td>\n",
       "      <td>577</td>\n",
       "      <td>5.0</td>\n",
       "      <td>Andre (1994)</td>\n",
       "      <td>Adventure|Children|Drama</td>\n",
       "    </tr>\n",
       "    <tr>\n",
       "      <th>35944</th>\n",
       "      <td>1</td>\n",
       "      <td>886</td>\n",
       "      <td>5.0</td>\n",
       "      <td>Bulletproof (1996)</td>\n",
       "      <td>Action|Comedy|Crime</td>\n",
       "    </tr>\n",
       "    <tr>\n",
       "      <th>48378</th>\n",
       "      <td>1</td>\n",
       "      <td>1142</td>\n",
       "      <td>5.0</td>\n",
       "      <td>Get Over It (1996)</td>\n",
       "      <td>Drama</td>\n",
       "    </tr>\n",
       "  </tbody>\n",
       "</table>\n",
       "</div>"
      ],
      "text/plain": [
       "       userId  movieId  rating                      title  \\\n",
       "12683       1      254     5.0  Jefferson in Paris (1995)   \n",
       "26381       1      531     5.0  Secret Garden, The (1993)   \n",
       "27979       1      577     5.0               Andre (1994)   \n",
       "35944       1      886     5.0         Bulletproof (1996)   \n",
       "48378       1     1142     5.0         Get Over It (1996)   \n",
       "\n",
       "                         genres  \n",
       "12683                     Drama  \n",
       "26381            Children|Drama  \n",
       "27979  Adventure|Children|Drama  \n",
       "35944       Action|Comedy|Crime  \n",
       "48378                     Drama  "
      ]
     },
     "execution_count": 34,
     "metadata": {},
     "output_type": "execute_result"
    }
   ],
   "source": [
    "#choose a user ID\n",
    "user_id = 1\n",
    "#get movies rated by this user id\n",
    "users_movies = df_names.loc[df_names[\"userId\"]==user_id]\n",
    "#print how many ratings user has made \n",
    "print(\"User ID : \" + str(user_id) + \" has already rated \" + str(len(users_movies)) + \" movies\")\n",
    "#list movies that have been rated\n",
    "users_movies.head()"
   ]
  },
  {
   "cell_type": "code",
   "execution_count": 85,
   "metadata": {},
   "outputs": [
    {
     "name": "stdout",
     "output_type": "stream",
     "text": [
      "Top 10 predictions for User 1\n"
     ]
    },
    {
     "data": {
      "text/html": [
       "<div>\n",
       "<style scoped>\n",
       "    .dataframe tbody tr th:only-of-type {\n",
       "        vertical-align: middle;\n",
       "    }\n",
       "\n",
       "    .dataframe tbody tr th {\n",
       "        vertical-align: top;\n",
       "    }\n",
       "\n",
       "    .dataframe thead th {\n",
       "        text-align: right;\n",
       "    }\n",
       "</style>\n",
       "<table border=\"1\" class=\"dataframe\">\n",
       "  <thead>\n",
       "    <tr style=\"text-align: right;\">\n",
       "      <th></th>\n",
       "      <th>ratings</th>\n",
       "      <th>movieId</th>\n",
       "      <th>title</th>\n",
       "      <th>genres</th>\n",
       "    </tr>\n",
       "  </thead>\n",
       "  <tbody>\n",
       "    <tr>\n",
       "      <th>0</th>\n",
       "      <td>2.637725</td>\n",
       "      <td>289</td>\n",
       "      <td>Only You (1994)</td>\n",
       "      <td>Comedy|Romance</td>\n",
       "    </tr>\n",
       "    <tr>\n",
       "      <th>1</th>\n",
       "      <td>2.629090</td>\n",
       "      <td>580</td>\n",
       "      <td>Princess Caraboo (1994)</td>\n",
       "      <td>Drama</td>\n",
       "    </tr>\n",
       "    <tr>\n",
       "      <th>2</th>\n",
       "      <td>2.562000</td>\n",
       "      <td>348</td>\n",
       "      <td>Bullets Over Broadway (1994)</td>\n",
       "      <td>Comedy</td>\n",
       "    </tr>\n",
       "    <tr>\n",
       "      <th>3</th>\n",
       "      <td>2.428683</td>\n",
       "      <td>311</td>\n",
       "      <td>Relative Fear (1994)</td>\n",
       "      <td>Horror|Thriller</td>\n",
       "    </tr>\n",
       "    <tr>\n",
       "      <th>4</th>\n",
       "      <td>2.320557</td>\n",
       "      <td>469</td>\n",
       "      <td>House of the Spirits, The (1993)</td>\n",
       "      <td>Drama|Romance</td>\n",
       "    </tr>\n",
       "    <tr>\n",
       "      <th>5</th>\n",
       "      <td>2.318455</td>\n",
       "      <td>446</td>\n",
       "      <td>Farewell My Concubine (Ba wang bie ji) (1993)</td>\n",
       "      <td>Drama|Romance</td>\n",
       "    </tr>\n",
       "    <tr>\n",
       "      <th>6</th>\n",
       "      <td>2.268703</td>\n",
       "      <td>576</td>\n",
       "      <td>Fausto (1993)</td>\n",
       "      <td>Comedy</td>\n",
       "    </tr>\n",
       "    <tr>\n",
       "      <th>7</th>\n",
       "      <td>2.234048</td>\n",
       "      <td>106</td>\n",
       "      <td>Nobody Loves Me (Keiner liebt mich) (1994)</td>\n",
       "      <td>Comedy|Drama</td>\n",
       "    </tr>\n",
       "    <tr>\n",
       "      <th>8</th>\n",
       "      <td>2.199088</td>\n",
       "      <td>253</td>\n",
       "      <td>Interview with the Vampire: The Vampire Chroni...</td>\n",
       "      <td>Drama|Horror</td>\n",
       "    </tr>\n",
       "    <tr>\n",
       "      <th>9</th>\n",
       "      <td>2.176442</td>\n",
       "      <td>48</td>\n",
       "      <td>Pocahontas (1995)</td>\n",
       "      <td>Animation|Children|Drama|Musical|Romance</td>\n",
       "    </tr>\n",
       "  </tbody>\n",
       "</table>\n",
       "</div>"
      ],
      "text/plain": [
       "    ratings  movieId                                              title  \\\n",
       "0  2.637725      289                                    Only You (1994)   \n",
       "1  2.629090      580                            Princess Caraboo (1994)   \n",
       "2  2.562000      348                       Bullets Over Broadway (1994)   \n",
       "3  2.428683      311                               Relative Fear (1994)   \n",
       "4  2.320557      469                   House of the Spirits, The (1993)   \n",
       "5  2.318455      446      Farewell My Concubine (Ba wang bie ji) (1993)   \n",
       "6  2.268703      576                                      Fausto (1993)   \n",
       "7  2.234048      106         Nobody Loves Me (Keiner liebt mich) (1994)   \n",
       "8  2.199088      253  Interview with the Vampire: The Vampire Chroni...   \n",
       "9  2.176442       48                                  Pocahontas (1995)   \n",
       "\n",
       "                                     genres  \n",
       "0                            Comedy|Romance  \n",
       "1                                     Drama  \n",
       "2                                    Comedy  \n",
       "3                           Horror|Thriller  \n",
       "4                             Drama|Romance  \n",
       "5                             Drama|Romance  \n",
       "6                                    Comedy  \n",
       "7                              Comedy|Drama  \n",
       "8                              Drama|Horror  \n",
       "9  Animation|Children|Drama|Musical|Romance  "
      ]
     },
     "execution_count": 85,
     "metadata": {},
     "output_type": "execute_result"
    }
   ],
   "source": [
    "# fonksiyon yazılacak\n",
    "user_index = train.loc[train[\"userId\"]==user_id]['userId'][:1].values[0]\n",
    "#get movie ratings predicted for this user and sort by highest rating prediction\n",
    "sorted_user_predictions = pd.DataFrame(mf_pred.iloc[user_index].sort_values(ascending=False))\n",
    "#rename the columns\n",
    "sorted_user_predictions.columns=['ratings']\n",
    "#save the index values as movie id\n",
    "sorted_user_predictions['movieId']=sorted_user_predictions.index\n",
    "print(\"Top 10 predictions for User \" + str(user_id))\n",
    "#display the top 10 predictions for this user\n",
    "pd.merge(sorted_user_predictions,movie_list, on = 'movieId')[:10]"
   ]
  },
  {
   "cell_type": "markdown",
   "metadata": {},
   "source": [
    "# 3-) Neural network model "
   ]
  },
  {
   "cell_type": "code",
   "execution_count": 34,
   "metadata": {},
   "outputs": [],
   "source": [
    "n_users, n_movies = len(ratings.userId.unique()), len(ratings.movieId.unique())"
   ]
  },
  {
   "cell_type": "code",
   "execution_count": 35,
   "metadata": {},
   "outputs": [
    {
     "data": {
      "text/plain": [
       "7120"
      ]
     },
     "execution_count": 35,
     "metadata": {},
     "output_type": "execute_result"
    }
   ],
   "source": [
    "n_users"
   ]
  },
  {
   "cell_type": "code",
   "execution_count": 36,
   "metadata": {},
   "outputs": [
    {
     "data": {
      "text/plain": [
       "14026"
      ]
     },
     "execution_count": 36,
     "metadata": {},
     "output_type": "execute_result"
    }
   ],
   "source": [
    "n_movies"
   ]
  },
  {
   "cell_type": "code",
   "execution_count": 37,
   "metadata": {},
   "outputs": [
    {
     "name": "stdout",
     "output_type": "stream",
     "text": [
      "WARNING:tensorflow:From C:\\Users\\Ali\\anaconda3\\lib\\site-packages\\tensorflow\\python\\keras\\initializers\\initializers_v1.py:59: calling RandomUniform.__init__ (from tensorflow.python.ops.init_ops) with dtype is deprecated and will be removed in a future version.\n",
      "Instructions for updating:\n",
      "Call initializer instance with the dtype argument instead of passing it to the constructor\n"
     ]
    }
   ],
   "source": [
    "# Returns a neural network model which does recommendation\n",
    "    \n",
    "movie_input = keras.layers.Input(shape=[1],name='Item')\n",
    "movie_embedding = keras.layers.Embedding(14026 + 1, 20, name='Movie-Embedding')(movie_input)\n",
    "# 13 yerinen_latent_factors_movie\n",
    "movie_vec = keras.layers.Flatten(name='FlattenMovies')(movie_embedding)\n",
    "movie_vec = keras.layers.Dropout(0.2)(movie_vec)\n",
    "\n",
    "\n",
    "user_input = keras.layers.Input(shape=[1],name='User')\n",
    "user_vec = keras.layers.Flatten(name='FlattenUsers')(keras.layers.Embedding(7120 + 1, 50,name='User-Embedding')(user_input))\n",
    "#10 yerine  n_latent_factors_user\n",
    "user_vec = keras.layers.Dropout(0.2)(user_vec)\n",
    "\n",
    "\n",
    "concat = keras.layers.concatenate([movie_vec, user_vec],name='Concat')\n",
    "concat_dropout = keras.layers.Dropout(0.2)(concat)\n",
    "dense = keras.layers.Dense(100,name='FullyConnected')(concat)\n",
    "dropout_1 = keras.layers.Dropout(0.2,name='Dropout')(dense)\n",
    "dense_2 = keras.layers.Dense(50,name='FullyConnected-1')(concat)\n",
    "dropout_2 = keras.layers.Dropout(0.2,name='Dropout')(dense_2)\n",
    "dense_3 = keras.layers.Dense(20,name='FullyConnected-2')(dense_2)\n",
    "dropout_3 = keras.layers.Dropout(0.2,name='Dropout')(dense_3)\n",
    "dense_4 = keras.layers.Dense(10,name='FullyConnected-3', activation='relu')(dense_3)\n",
    "\n",
    "\n",
    "result = keras.layers.Dense(1, activation='relu',name='Activation')(dense_4)\n",
    "adam = Adam(lr=0.005)\n",
    "model = keras.Model([user_input, movie_input], result)\n",
    "model.compile(optimizer=adam,loss= 'mean_absolute_error')"
   ]
  },
  {
   "cell_type": "code",
   "execution_count": 38,
   "metadata": {},
   "outputs": [
    {
     "name": "stdout",
     "output_type": "stream",
     "text": [
      "Model: \"model\"\n",
      "__________________________________________________________________________________________________\n",
      "Layer (type)                    Output Shape         Param #     Connected to                     \n",
      "==================================================================================================\n",
      "Item (InputLayer)               [(None, 1)]          0                                            \n",
      "__________________________________________________________________________________________________\n",
      "User (InputLayer)               [(None, 1)]          0                                            \n",
      "__________________________________________________________________________________________________\n",
      "Movie-Embedding (Embedding)     (None, 1, 20)        280540      Item[0][0]                       \n",
      "__________________________________________________________________________________________________\n",
      "User-Embedding (Embedding)      (None, 1, 50)        356050      User[0][0]                       \n",
      "__________________________________________________________________________________________________\n",
      "FlattenMovies (Flatten)         (None, 20)           0           Movie-Embedding[0][0]            \n",
      "__________________________________________________________________________________________________\n",
      "FlattenUsers (Flatten)          (None, 50)           0           User-Embedding[0][0]             \n",
      "__________________________________________________________________________________________________\n",
      "dropout (Dropout)               (None, 20)           0           FlattenMovies[0][0]              \n",
      "__________________________________________________________________________________________________\n",
      "dropout_1 (Dropout)             (None, 50)           0           FlattenUsers[0][0]               \n",
      "__________________________________________________________________________________________________\n",
      "Concat (Concatenate)            (None, 70)           0           dropout[0][0]                    \n",
      "                                                                 dropout_1[0][0]                  \n",
      "__________________________________________________________________________________________________\n",
      "FullyConnected-1 (Dense)        (None, 50)           3550        Concat[0][0]                     \n",
      "__________________________________________________________________________________________________\n",
      "FullyConnected-2 (Dense)        (None, 20)           1020        FullyConnected-1[0][0]           \n",
      "__________________________________________________________________________________________________\n",
      "FullyConnected-3 (Dense)        (None, 10)           210         FullyConnected-2[0][0]           \n",
      "__________________________________________________________________________________________________\n",
      "Activation (Dense)              (None, 1)            11          FullyConnected-3[0][0]           \n",
      "==================================================================================================\n",
      "Total params: 641,381\n",
      "Trainable params: 641,381\n",
      "Non-trainable params: 0\n",
      "__________________________________________________________________________________________________\n"
     ]
    }
   ],
   "source": [
    "model.summary()"
   ]
  },
  {
   "cell_type": "code",
   "execution_count": 39,
   "metadata": {},
   "outputs": [
    {
     "name": "stdout",
     "output_type": "stream",
     "text": [
      "Train on 754974 samples, validate on 83886 samples\n",
      "Epoch 1/10\n",
      "754974/754974 [==============================] - 39s 52us/sample - loss: 0.7058 - val_loss: 0.6733\n",
      "Epoch 2/10\n",
      "754974/754974 [==============================] - 39s 52us/sample - loss: 0.6626 - val_loss: 0.6544\n",
      "Epoch 3/10\n",
      "754974/754974 [==============================] - 39s 51us/sample - loss: 0.6485 - val_loss: 0.6537\n",
      "Epoch 4/10\n",
      "754974/754974 [==============================] - 44s 58us/sample - loss: 0.6414 - val_loss: 0.6457\n",
      "Epoch 5/10\n",
      "754974/754974 [==============================] - 44s 59us/sample - loss: 0.6362 - val_loss: 0.6535\n",
      "Epoch 6/10\n",
      "754974/754974 [==============================] - 45s 59us/sample - loss: 0.6328 - val_loss: 0.6447\n",
      "Epoch 7/10\n",
      "754974/754974 [==============================] - 45s 59us/sample - loss: 0.6303 - val_loss: 0.6459\n",
      "Epoch 8/10\n",
      "754974/754974 [==============================] - 43s 57us/sample - loss: 0.6287 - val_loss: 0.6408\n",
      "Epoch 9/10\n",
      "754974/754974 [==============================] - 45s 60us/sample - loss: 0.6269 - val_loss: 0.6444\n",
      "Epoch 10/10\n",
      "754974/754974 [==============================] - 45s 60us/sample - loss: 0.6256 - val_loss: 0.6445\n"
     ]
    }
   ],
   "source": [
    "history_neural_network = model.fit([train.userId, train.movieId], train.rating, epochs=10,batch_size=64,verbose=1, validation_split=0.1)"
   ]
  },
  {
   "cell_type": "code",
   "execution_count": 51,
   "metadata": {},
   "outputs": [
    {
     "data": {
      "text/plain": [
       "Text(0.5,1,'Mean Absolute Error Over Epochs')"
      ]
     },
     "execution_count": 51,
     "metadata": {},
     "output_type": "execute_result"
    },
    {
     "data": {
      "image/png": "[encoded data removed]",
      "text/plain": [
       "<Figure size 432x288 with 1 Axes>"
      ]
     },
     "metadata": {
      "needs_background": "light"
     },
     "output_type": "display_data"
    }
   ],
   "source": [
    "plt.plot(np.array(history_neural_network.history['loss']))\n",
    "plt.plot(np.array(history_neural_network.history['val_loss']))\n",
    "plt.ylabel('Mean Absolute Error')\n",
    "plt.xlabel('Epochs')\n",
    "plt.legend(['train', 'validation'])\n",
    "plt.title('Mean Absolute Error Over Epochs')"
   ]
  },
  {
   "cell_type": "code",
   "execution_count": 55,
   "metadata": {},
   "outputs": [],
   "source": [
    "y_hat = model.predict([test.userId, test.movieId])\n",
    "y_true = test.rating"
   ]
  },
  {
   "cell_type": "code",
   "execution_count": 56,
   "metadata": {},
   "outputs": [],
   "source": [
    "def accuracy(y_true,y_hat):\n",
    "    errors=mean_absolute_error(y_true, y_hat)\n",
    "    mape = 100 * (errors / y_true)\n",
    "    accuracy = 100 - np.mean(mape)\n",
    "    return accuracy"
   ]
  },
  {
   "cell_type": "code",
   "execution_count": 57,
   "metadata": {},
   "outputs": [
    {
     "name": "stdout",
     "output_type": "stream",
     "text": [
      "(MAE)Mean Absolute Error: 0.6446\n",
      "(RMSE)Root Mean Square Error: 0.8685\n",
      " Accuracy: 78.09 %.\n"
     ]
    }
   ],
   "source": [
    "print(\"(MAE)Mean Absolute Error:\",round(mean_absolute_error(y_true, y_hat),4))\n",
    "print(\"(RMSE)Root Mean Square Error:\",round(np.sqrt(mean_squared_error(y_true,y_hat)) ,4))\n",
    "print(' Accuracy:', round(accuracy(y_true,y_hat), 2), '%.')"
   ]
  },
  {
   "cell_type": "markdown",
   "metadata": {},
   "source": [
    "## 3.1-) Neural network model recommendation"
   ]
  },
  {
   "cell_type": "code",
   "execution_count": 58,
   "metadata": {},
   "outputs": [
    {
     "name": "stdout",
     "output_type": "stream",
     "text": [
      "\n",
      "Performing kmeans to find the nearest users...\n",
      "Found 652 neighbor users.\n"
     ]
    }
   ],
   "source": [
    "mlp_user_embedding_weights = (next(iter(filter(lambda x: x.name == 'User-Embedding', model.layers))).get_weights())\n",
    "\n",
    "# get the latent embedding for your desired user\n",
    "user_latent_matrix = mlp_user_embedding_weights[0]\n",
    "\n",
    "desired_user_id = 38 # User: Xinyue Liu \n",
    "one_user_vector = user_latent_matrix[desired_user_id,:]\n",
    "one_user_vector = np.reshape(one_user_vector, (1,50))\n",
    "\n",
    "from sklearn.cluster import KMeans\n",
    "\n",
    "print('\\nPerforming kmeans to find the nearest users...')\n",
    "# get similar users\n",
    "kmeans = KMeans(n_clusters=20, random_state=0, verbose=0).fit(user_latent_matrix)\n",
    "desired_user_label = kmeans.predict(one_user_vector)\n",
    "user_label = kmeans.labels_\n",
    "neighbors = []\n",
    "for user_id, user_label in enumerate(user_label):\n",
    "    if user_label == desired_user_label:\n",
    "        neighbors.append(user_id)\n",
    "print('Found {0} neighbor users.'.format(len(neighbors)))"
   ]
  },
  {
   "cell_type": "code",
   "execution_count": 59,
   "metadata": {},
   "outputs": [
    {
     "name": "stdout",
     "output_type": "stream",
     "text": [
      "Found 7397 neighbor movies from these users.\n"
     ]
    }
   ],
   "source": [
    "# get the movies in 3 similar users' movies\n",
    "movies = []\n",
    "for user_id in neighbors:\n",
    "    movies += list(ratings[ratings['userId'] == int(user_id)]['movieId'])\n",
    "movies = list(set(movies))\n",
    "print('Found {0} neighbor movies from these users.'.format(len(movies)))"
   ]
  },
  {
   "cell_type": "code",
   "execution_count": 60,
   "metadata": {},
   "outputs": [
    {
     "name": "stdout",
     "output_type": "stream",
     "text": [
      "\n",
      "Ranking most likely tracks using the NeuMF model...\n",
      "Ranked the movies!\n"
     ]
    }
   ],
   "source": [
    "users = np.full(len(movies), desired_user_id, dtype='int32')\n",
    "items = np.array(movies, dtype='int32')\n",
    "\n",
    "print('\\nRanking most likely tracks using the NeuMF model...')\n",
    "# and predict movies for my user\n",
    "results = model.predict([users,items],batch_size=10, verbose=0) \n",
    "results = results.tolist()\n",
    "print('Ranked the movies!')"
   ]
  },
  {
   "cell_type": "code",
   "execution_count": 61,
   "metadata": {},
   "outputs": [
    {
     "data": {
      "text/html": [
       "<div>\n",
       "<style scoped>\n",
       "    .dataframe tbody tr th:only-of-type {\n",
       "        vertical-align: middle;\n",
       "    }\n",
       "\n",
       "    .dataframe tbody tr th {\n",
       "        vertical-align: top;\n",
       "    }\n",
       "\n",
       "    .dataframe thead th {\n",
       "        text-align: right;\n",
       "    }\n",
       "</style>\n",
       "<table border=\"1\" class=\"dataframe\">\n",
       "  <thead>\n",
       "    <tr style=\"text-align: right;\">\n",
       "      <th></th>\n",
       "      <th>pre_rating</th>\n",
       "      <th>movieId</th>\n",
       "      <th>title</th>\n",
       "      <th>genres</th>\n",
       "    </tr>\n",
       "  </thead>\n",
       "  <tbody>\n",
       "    <tr>\n",
       "      <th>0</th>\n",
       "      <td>4.670856</td>\n",
       "      <td>4472</td>\n",
       "      <td>Bad Dreams (1988)</td>\n",
       "      <td>Horror|Thriller</td>\n",
       "    </tr>\n",
       "    <tr>\n",
       "      <th>1</th>\n",
       "      <td>4.629296</td>\n",
       "      <td>2471</td>\n",
       "      <td>Crocodile Dundee II (1988)</td>\n",
       "      <td>Action|Adventure|Comedy</td>\n",
       "    </tr>\n",
       "    <tr>\n",
       "      <th>2</th>\n",
       "      <td>4.617923</td>\n",
       "      <td>312</td>\n",
       "      <td>Stuart Saves His Family (1995)</td>\n",
       "      <td>Comedy</td>\n",
       "    </tr>\n",
       "    <tr>\n",
       "      <th>3</th>\n",
       "      <td>4.602695</td>\n",
       "      <td>824</td>\n",
       "      <td>Kaspar Hauser (1993)</td>\n",
       "      <td>Drama|Mystery</td>\n",
       "    </tr>\n",
       "    <tr>\n",
       "      <th>4</th>\n",
       "      <td>4.586013</td>\n",
       "      <td>6977</td>\n",
       "      <td>New Jack City (1991)</td>\n",
       "      <td>Action|Crime|Drama</td>\n",
       "    </tr>\n",
       "    <tr>\n",
       "      <th>5</th>\n",
       "      <td>4.531926</td>\n",
       "      <td>8272</td>\n",
       "      <td>Cromwell (1970)</td>\n",
       "      <td>Drama</td>\n",
       "    </tr>\n",
       "    <tr>\n",
       "      <th>6</th>\n",
       "      <td>4.501283</td>\n",
       "      <td>3526</td>\n",
       "      <td>Parenthood (1989)</td>\n",
       "      <td>Comedy|Drama</td>\n",
       "    </tr>\n",
       "    <tr>\n",
       "      <th>7</th>\n",
       "      <td>4.497003</td>\n",
       "      <td>517</td>\n",
       "      <td>Rising Sun (1993)</td>\n",
       "      <td>Action|Drama|Mystery</td>\n",
       "    </tr>\n",
       "    <tr>\n",
       "      <th>8</th>\n",
       "      <td>4.488319</td>\n",
       "      <td>49</td>\n",
       "      <td>When Night Is Falling (1995)</td>\n",
       "      <td>Drama|Romance</td>\n",
       "    </tr>\n",
       "    <tr>\n",
       "      <th>9</th>\n",
       "      <td>4.475947</td>\n",
       "      <td>3411</td>\n",
       "      <td>Babymother (1998)</td>\n",
       "      <td>Drama</td>\n",
       "    </tr>\n",
       "  </tbody>\n",
       "</table>\n",
       "</div>"
      ],
      "text/plain": [
       "   pre_rating  movieId                           title  \\\n",
       "0    4.670856     4472               Bad Dreams (1988)   \n",
       "1    4.629296     2471      Crocodile Dundee II (1988)   \n",
       "2    4.617923      312  Stuart Saves His Family (1995)   \n",
       "3    4.602695      824            Kaspar Hauser (1993)   \n",
       "4    4.586013     6977            New Jack City (1991)   \n",
       "5    4.531926     8272                 Cromwell (1970)   \n",
       "6    4.501283     3526               Parenthood (1989)   \n",
       "7    4.497003      517               Rising Sun (1993)   \n",
       "8    4.488319       49    When Night Is Falling (1995)   \n",
       "9    4.475947     3411               Babymother (1998)   \n",
       "\n",
       "                    genres  \n",
       "0          Horror|Thriller  \n",
       "1  Action|Adventure|Comedy  \n",
       "2                   Comedy  \n",
       "3            Drama|Mystery  \n",
       "4       Action|Crime|Drama  \n",
       "5                    Drama  \n",
       "6             Comedy|Drama  \n",
       "7     Action|Drama|Mystery  \n",
       "8            Drama|Romance  \n",
       "9                    Drama  "
      ]
     },
     "execution_count": 61,
     "metadata": {},
     "output_type": "execute_result"
    }
   ],
   "source": [
    "results = pd.DataFrame(results, columns=['pre_rating']).astype(\"float\")\n",
    "items = pd.DataFrame(items, columns=['movieId'])\n",
    "results = pd.concat([items, results], ignore_index=True, sort=False, axis=1)\n",
    "results.columns =['movieId', 'pre_rating'] \n",
    "results_df = pd.DataFrame(np.nan, index=range(len(results)), columns=['pre_rating','movieId'])\n",
    "for index, row in results.iterrows():\n",
    "    results_df.loc[index] = [row['pre_rating'], ratings[ratings['movieId'] == row['movieId']].iloc[0]['movieId']]\n",
    "   \n",
    "results_df= results_df.sort_values(by=['pre_rating'], ascending=False)\n",
    "results_df[\"movieId\"]=results_df[\"movieId\"].astype(int)\n",
    "results_df=pd.merge(results_df,movie_list,on=\"movieId\")\n",
    "\n",
    "results_df.head(10)"
   ]
  },
  {
   "cell_type": "code",
   "execution_count": 62,
   "metadata": {},
   "outputs": [],
   "source": [
    "model.save(\"models/neural_network_model.h5\")"
   ]
  },
  {
   "cell_type": "markdown",
   "metadata": {},
   "source": [
    "# 4-) Neural collaborative filtering model"
   ]
  },
  {
   "cell_type": "code",
   "execution_count": 63,
   "metadata": {},
   "outputs": [],
   "source": [
    "y_true = test.rating "
   ]
  },
  {
   "cell_type": "code",
   "execution_count": 64,
   "metadata": {},
   "outputs": [],
   "source": [
    "n_users_base,n_items_base   = len(ratings.userId.unique()), len(ratings.movieId.unique())"
   ]
  },
  {
   "cell_type": "code",
   "execution_count": 65,
   "metadata": {},
   "outputs": [
    {
     "data": {
      "text/plain": [
       "(7120, 14026)"
      ]
     },
     "execution_count": 65,
     "metadata": {},
     "output_type": "execute_result"
    }
   ],
   "source": [
    "n_users_base,n_items_base  "
   ]
  },
  {
   "cell_type": "code",
   "execution_count": 66,
   "metadata": {},
   "outputs": [],
   "source": [
    "n_latent_factors_user = 50\n",
    "n_latent_factors_movie = 25\n",
    "n_latent_factors_mf = 3\n",
    "n_users = ratings['userId'].unique().max()\n",
    "n_movies = ratings['movieId'].unique().max()"
   ]
  },
  {
   "cell_type": "code",
   "execution_count": 67,
   "metadata": {},
   "outputs": [
    {
     "data": {
      "text/plain": [
       "(7119, 14025)"
      ]
     },
     "execution_count": 67,
     "metadata": {},
     "output_type": "execute_result"
    }
   ],
   "source": [
    "n_users,n_movies"
   ]
  },
  {
   "cell_type": "code",
   "execution_count": 68,
   "metadata": {},
   "outputs": [],
   "source": [
    "movie_input = keras.layers.Input(shape=[1],name='Item')\n",
    "movie_embedding_mlp = keras.layers.Embedding(14026 + 1, 25, name='Movie-Embedding-MLP')(movie_input)\n",
    "movie_vec_mlp = keras.layers.Flatten(name='FlattenMovies-MLP')(movie_embedding_mlp)\n",
    "movie_vec_mlp = keras.layers.Dropout(0.2)(movie_vec_mlp)\n",
    "\n",
    "movie_embedding_mf = keras.layers.Embedding(14026 + 1, 3, name='Movie-Embedding-MF')(movie_input)\n",
    "movie_vec_mf = keras.layers.Flatten(name='FlattenMovies-MF')(movie_embedding_mf)\n",
    "movie_vec_mf = keras.layers.Dropout(0.2)(movie_vec_mf)\n",
    "\n",
    "user_input = keras.layers.Input(shape=[1],name='User')\n",
    "user_vec_mlp = keras.layers.Flatten(name='FlattenUsers-MLP')(keras.layers.Embedding(7120 + 1, 50,name='User-Embedding-MLP')(user_input))\n",
    "user_vec_mlp = keras.layers.Dropout(0.2)(user_vec_mlp)\n",
    "\n",
    "user_vec_mf = keras.layers.Flatten(name='FlattenUsers-MF')(keras.layers.Embedding(7120 + 1, 3,name='User-Embedding-MF')(user_input))\n",
    "user_vec_mf = keras.layers.Dropout(0.2)(user_vec_mf)\n",
    "\n",
    "concat = keras.layers.concatenate([movie_vec_mlp, user_vec_mlp], axis=1, name='Concat')\n",
    "\n",
    "concat_dropout = keras.layers.Dropout(0.2)(concat)\n",
    "dense = keras.layers.Dense(200,name='FullyConnected', activation='relu')(concat_dropout)\n",
    "dense_batch = keras.layers.BatchNormalization(name='Batch')(dense)\n",
    "dropout_1 = keras.layers.Dropout(0.2,name='Dropout-1')(dense_batch)\n",
    "dense_2 = keras.layers.Dense(100,name='FullyConnected-1',activation='relu')(dropout_1)\n",
    "dense_batch_2 = keras.layers.BatchNormalization(name='Batch-2')(dense_2)\n",
    "\n",
    "dropout_2 = keras.layers.Dropout(0.2,name='Dropout-2')(dense_batch_2)\n",
    "dense_3 = keras.layers.Dense(50,name='FullyConnected-2', activation='relu')(dropout_2)\n",
    "dense_4 = keras.layers.Dense(20,name='FullyConnected-3', activation='relu')(dense_3)\n",
    "\n",
    "pred_mf = keras.layers.Multiply()([movie_vec_mf, user_vec_mf])\n",
    "pred_mlp = keras.layers.Dense(1, activation='relu',name='Activation')(dense_4)\n",
    "combine_mlp_mf = keras.layers.concatenate([pred_mf, pred_mlp],name='Concat-MF-MLP')\n",
    "\n",
    "result_combine = keras.layers.Dense(100,name='Combine-MF-MLP')(combine_mlp_mf)\n",
    "deep_combine = keras.layers.Dense(100,name='FullyConnected-4')(result_combine)\n",
    "\n",
    "result = keras.layers.Dense(1,name='Prediction', activation='relu')(result_combine)\n",
    "model_2 = keras.Model([user_input, movie_input], result)\n",
    "opt = keras.optimizers.Adam(lr =0.01)\n",
    "model_2.compile(optimizer='adam',loss= 'mean_absolute_error')"
   ]
  },
  {
   "cell_type": "code",
   "execution_count": 69,
   "metadata": {},
   "outputs": [
    {
     "name": "stdout",
     "output_type": "stream",
     "text": [
      "Model: \"model_1\"\n",
      "__________________________________________________________________________________________________\n",
      "Layer (type)                    Output Shape         Param #     Connected to                     \n",
      "==================================================================================================\n",
      "Item (InputLayer)               [(None, 1)]          0                                            \n",
      "__________________________________________________________________________________________________\n",
      "User (InputLayer)               [(None, 1)]          0                                            \n",
      "__________________________________________________________________________________________________\n",
      "Movie-Embedding-MLP (Embedding) (None, 1, 25)        350675      Item[0][0]                       \n",
      "__________________________________________________________________________________________________\n",
      "User-Embedding-MLP (Embedding)  (None, 1, 50)        356050      User[0][0]                       \n",
      "__________________________________________________________________________________________________\n",
      "FlattenMovies-MLP (Flatten)     (None, 25)           0           Movie-Embedding-MLP[0][0]        \n",
      "__________________________________________________________________________________________________\n",
      "FlattenUsers-MLP (Flatten)      (None, 50)           0           User-Embedding-MLP[0][0]         \n",
      "__________________________________________________________________________________________________\n",
      "dropout_3 (Dropout)             (None, 25)           0           FlattenMovies-MLP[0][0]          \n",
      "__________________________________________________________________________________________________\n",
      "dropout_5 (Dropout)             (None, 50)           0           FlattenUsers-MLP[0][0]           \n",
      "__________________________________________________________________________________________________\n",
      "Concat (Concatenate)            (None, 75)           0           dropout_3[0][0]                  \n",
      "                                                                 dropout_5[0][0]                  \n",
      "__________________________________________________________________________________________________\n",
      "dropout_7 (Dropout)             (None, 75)           0           Concat[0][0]                     \n",
      "__________________________________________________________________________________________________\n",
      "FullyConnected (Dense)          (None, 200)          15200       dropout_7[0][0]                  \n",
      "__________________________________________________________________________________________________\n",
      "Batch (BatchNormalization)      (None, 200)          800         FullyConnected[0][0]             \n",
      "__________________________________________________________________________________________________\n",
      "Dropout-1 (Dropout)             (None, 200)          0           Batch[0][0]                      \n",
      "__________________________________________________________________________________________________\n",
      "FullyConnected-1 (Dense)        (None, 100)          20100       Dropout-1[0][0]                  \n",
      "__________________________________________________________________________________________________\n",
      "Batch-2 (BatchNormalization)    (None, 100)          400         FullyConnected-1[0][0]           \n",
      "__________________________________________________________________________________________________\n",
      "Movie-Embedding-MF (Embedding)  (None, 1, 3)         42081       Item[0][0]                       \n",
      "__________________________________________________________________________________________________\n",
      "User-Embedding-MF (Embedding)   (None, 1, 3)         21363       User[0][0]                       \n",
      "__________________________________________________________________________________________________\n",
      "Dropout-2 (Dropout)             (None, 100)          0           Batch-2[0][0]                    \n",
      "__________________________________________________________________________________________________\n",
      "FlattenMovies-MF (Flatten)      (None, 3)            0           Movie-Embedding-MF[0][0]         \n",
      "__________________________________________________________________________________________________\n",
      "FlattenUsers-MF (Flatten)       (None, 3)            0           User-Embedding-MF[0][0]          \n",
      "__________________________________________________________________________________________________\n",
      "FullyConnected-2 (Dense)        (None, 50)           5050        Dropout-2[0][0]                  \n",
      "__________________________________________________________________________________________________\n",
      "dropout_4 (Dropout)             (None, 3)            0           FlattenMovies-MF[0][0]           \n",
      "__________________________________________________________________________________________________\n",
      "dropout_6 (Dropout)             (None, 3)            0           FlattenUsers-MF[0][0]            \n",
      "__________________________________________________________________________________________________\n",
      "FullyConnected-3 (Dense)        (None, 20)           1020        FullyConnected-2[0][0]           \n",
      "__________________________________________________________________________________________________\n",
      "multiply (Multiply)             (None, 3)            0           dropout_4[0][0]                  \n",
      "                                                                 dropout_6[0][0]                  \n",
      "__________________________________________________________________________________________________\n",
      "Activation (Dense)              (None, 1)            21          FullyConnected-3[0][0]           \n",
      "__________________________________________________________________________________________________\n",
      "Concat-MF-MLP (Concatenate)     (None, 4)            0           multiply[0][0]                   \n",
      "                                                                 Activation[0][0]                 \n",
      "__________________________________________________________________________________________________\n",
      "Combine-MF-MLP (Dense)          (None, 100)          500         Concat-MF-MLP[0][0]              \n",
      "__________________________________________________________________________________________________\n",
      "Prediction (Dense)              (None, 1)            101         Combine-MF-MLP[0][0]             \n",
      "==================================================================================================\n",
      "Total params: 813,361\n",
      "Trainable params: 812,761\n",
      "Non-trainable params: 600\n",
      "__________________________________________________________________________________________________\n"
     ]
    }
   ],
   "source": [
    "model_2.summary()"
   ]
  },
  {
   "cell_type": "code",
   "execution_count": 70,
   "metadata": {},
   "outputs": [
    {
     "name": "stdout",
     "output_type": "stream",
     "text": [
      "Train on 754974 samples, validate on 83886 samples\n",
      "Epoch 1/10\n",
      "754974/754974 [==============================] - 47s 62us/sample - loss: 0.7267 - val_loss: 0.6807\n",
      "Epoch 2/10\n",
      "754974/754974 [==============================] - 47s 63us/sample - loss: 0.6797 - val_loss: 0.6774\n",
      "Epoch 3/10\n",
      "754974/754974 [==============================] - 47s 63us/sample - loss: 0.6665 - val_loss: 0.6629\n",
      "Epoch 4/10\n",
      "754974/754974 [==============================] - 48s 64us/sample - loss: 0.6572 - val_loss: 0.6550\n",
      "Epoch 5/10\n",
      "754974/754974 [==============================] - 48s 64us/sample - loss: 0.6483 - val_loss: 0.6518\n",
      "Epoch 6/10\n",
      "754974/754974 [==============================] - 50s 66us/sample - loss: 0.6416 - val_loss: 0.6479\n",
      "Epoch 7/10\n",
      "754974/754974 [==============================] - 53s 70us/sample - loss: 0.6353 - val_loss: 0.6453\n",
      "Epoch 8/10\n",
      "754974/754974 [==============================] - 54s 71us/sample - loss: 0.6306 - val_loss: 0.6459\n",
      "Epoch 9/10\n",
      "754974/754974 [==============================] - 54s 71us/sample - loss: 0.6267 - val_loss: 0.6423\n",
      "Epoch 10/10\n",
      "754974/754974 [==============================] - 54s 72us/sample - loss: 0.6234 - val_loss: 0.6406\n"
     ]
    }
   ],
   "source": [
    "history = model_2.fit([train.userId, train.movieId], train.rating, epochs=10, verbose=1,batch_size=64, validation_split=0.1)"
   ]
  },
  {
   "cell_type": "code",
   "execution_count": 71,
   "metadata": {},
   "outputs": [
    {
     "data": {
      "image/png": "[encoded data removed]",
      "text/plain": [
       "<Figure size 432x288 with 1 Axes>"
      ]
     },
     "metadata": {
      "needs_background": "light"
     },
     "output_type": "display_data"
    }
   ],
   "source": [
    "def plot_acc(history):\n",
    "    plt.plot(np.array(history.history['loss']))\n",
    "    plt.plot(np.array(history.history['val_loss']))\n",
    "    plt.ylabel('Mean Absolute Error')\n",
    "    plt.xlabel('Epochs')\n",
    "    plt.legend(['train', 'validation'])\n",
    "    plt.title('Mean Absolute Error Over Epochs')\n",
    "    \n",
    "plot_acc(history)"
   ]
  },
  {
   "cell_type": "code",
   "execution_count": 72,
   "metadata": {
    "scrolled": false
   },
   "outputs": [
    {
     "name": "stdout",
     "output_type": "stream",
     "text": [
      "MAE for testing: 0.6415\n",
      "Root Mean Square Error: 0.8856\n",
      "Accuracy: 78.2 %.\n"
     ]
    }
   ],
   "source": [
    "print('MAE for testing: {}'.format(round(mean_absolute_error(y_true, model_2.predict([test.userId, test.movieId])),4)))\n",
    "rmse = np.sqrt(mean_squared_error(y_true,model_2.predict([test.userId, test.movieId]))) \n",
    "print(\"Root Mean Square Error:\",round(rmse,4))\n",
    "print('Accuracy:', round(accuracy(y_true, model_2.predict([test.userId, test.movieId])), 2), '%.')"
   ]
  },
  {
   "cell_type": "code",
   "execution_count": 73,
   "metadata": {},
   "outputs": [],
   "source": [
    "model_2.save(\"models/neural_collaborative_filtering.h5\")"
   ]
  },
  {
   "cell_type": "markdown",
   "metadata": {},
   "source": [
    "## 4.1-) # 4-) Neural collaborative filtering model recommendation"
   ]
  },
  {
   "cell_type": "code",
   "execution_count": 74,
   "metadata": {},
   "outputs": [
    {
     "name": "stdout",
     "output_type": "stream",
     "text": [
      "\n",
      "Performing kmeans to find the nearest users...\n",
      "Found 398 neighbor users.\n"
     ]
    }
   ],
   "source": [
    "mlp_user_embedding_weights = (next(iter(filter(lambda x: x.name == 'User-Embedding-MLP', model_2.layers))).get_weights())\n",
    "\n",
    "# get the latent embedding for your desired user\n",
    "user_latent_matrix = mlp_user_embedding_weights[0]\n",
    "\n",
    "desired_user_id = 38\n",
    "one_user_vector = user_latent_matrix[desired_user_id,:]\n",
    "one_user_vector = np.reshape(one_user_vector, (1,50))\n",
    "\n",
    "from sklearn.cluster import KMeans\n",
    "\n",
    "print('\\nPerforming kmeans to find the nearest users...')\n",
    "# get similar users\n",
    "kmeans = KMeans(n_clusters=20, random_state=0, verbose=0).fit(user_latent_matrix)\n",
    "desired_user_label = kmeans.predict(one_user_vector)\n",
    "user_label = kmeans.labels_\n",
    "neighbors = []\n",
    "for user_id, user_label in enumerate(user_label):\n",
    "    if user_label == desired_user_label:\n",
    "        neighbors.append(user_id)\n",
    "print('Found {0} neighbor users.'.format(len(neighbors)))"
   ]
  },
  {
   "cell_type": "code",
   "execution_count": 75,
   "metadata": {},
   "outputs": [
    {
     "name": "stdout",
     "output_type": "stream",
     "text": [
      "Found 6193 neighbor movies from these users.\n"
     ]
    }
   ],
   "source": [
    "movies = []\n",
    "for user_id in neighbors:\n",
    "    movies += list(ratings[ratings['userId'] == int(user_id)]['movieId'])\n",
    "movies = list(set(movies))\n",
    "print('Found {0} neighbor movies from these users.'.format(len(movies)))"
   ]
  },
  {
   "cell_type": "code",
   "execution_count": 76,
   "metadata": {},
   "outputs": [
    {
     "name": "stdout",
     "output_type": "stream",
     "text": [
      "\n",
      "Ranking most likely tracks using the NeuMF model...\n",
      "Ranked the movies!\n"
     ]
    }
   ],
   "source": [
    "users = np.full(len(movies), desired_user_id, dtype='int32')\n",
    "items = np.array(movies, dtype='int32')\n",
    "\n",
    "print('\\nRanking most likely tracks using the NeuMF model...')\n",
    "# and predict movies for my user\n",
    "results = model_2.predict([users,items],batch_size=10, verbose=0) \n",
    "results = results.tolist()\n",
    "print('Ranked the movies!')"
   ]
  },
  {
   "cell_type": "code",
   "execution_count": 77,
   "metadata": {},
   "outputs": [
    {
     "data": {
      "text/html": [
       "<div>\n",
       "<style scoped>\n",
       "    .dataframe tbody tr th:only-of-type {\n",
       "        vertical-align: middle;\n",
       "    }\n",
       "\n",
       "    .dataframe tbody tr th {\n",
       "        vertical-align: top;\n",
       "    }\n",
       "\n",
       "    .dataframe thead th {\n",
       "        text-align: right;\n",
       "    }\n",
       "</style>\n",
       "<table border=\"1\" class=\"dataframe\">\n",
       "  <thead>\n",
       "    <tr style=\"text-align: right;\">\n",
       "      <th></th>\n",
       "      <th>pre_rating</th>\n",
       "      <th>movieId</th>\n",
       "      <th>title</th>\n",
       "      <th>genres</th>\n",
       "    </tr>\n",
       "  </thead>\n",
       "  <tbody>\n",
       "    <tr>\n",
       "      <th>0</th>\n",
       "      <td>4.844340</td>\n",
       "      <td>312</td>\n",
       "      <td>Stuart Saves His Family (1995)</td>\n",
       "      <td>Comedy</td>\n",
       "    </tr>\n",
       "    <tr>\n",
       "      <th>1</th>\n",
       "      <td>4.821636</td>\n",
       "      <td>824</td>\n",
       "      <td>Kaspar Hauser (1993)</td>\n",
       "      <td>Drama|Mystery</td>\n",
       "    </tr>\n",
       "    <tr>\n",
       "      <th>2</th>\n",
       "      <td>4.732200</td>\n",
       "      <td>517</td>\n",
       "      <td>Rising Sun (1993)</td>\n",
       "      <td>Action|Drama|Mystery</td>\n",
       "    </tr>\n",
       "    <tr>\n",
       "      <th>3</th>\n",
       "      <td>4.666759</td>\n",
       "      <td>616</td>\n",
       "      <td>Aristocats, The (1970)</td>\n",
       "      <td>Animation|Children</td>\n",
       "    </tr>\n",
       "    <tr>\n",
       "      <th>4</th>\n",
       "      <td>4.662996</td>\n",
       "      <td>2178</td>\n",
       "      <td>Frenzy (1972)</td>\n",
       "      <td>Thriller</td>\n",
       "    </tr>\n",
       "    <tr>\n",
       "      <th>5</th>\n",
       "      <td>4.655131</td>\n",
       "      <td>647</td>\n",
       "      <td>Courage Under Fire (1996)</td>\n",
       "      <td>Action|Crime|Drama|War</td>\n",
       "    </tr>\n",
       "    <tr>\n",
       "      <th>6</th>\n",
       "      <td>4.634731</td>\n",
       "      <td>1615</td>\n",
       "      <td>Edge, The (1997)</td>\n",
       "      <td>Adventure|Drama</td>\n",
       "    </tr>\n",
       "    <tr>\n",
       "      <th>7</th>\n",
       "      <td>4.625141</td>\n",
       "      <td>722</td>\n",
       "      <td>Haunted World of Edward D. Wood Jr., The (1996)</td>\n",
       "      <td>Documentary</td>\n",
       "    </tr>\n",
       "    <tr>\n",
       "      <th>8</th>\n",
       "      <td>4.623024</td>\n",
       "      <td>2921</td>\n",
       "      <td>High Plains Drifter (1973)</td>\n",
       "      <td>Western</td>\n",
       "    </tr>\n",
       "    <tr>\n",
       "      <th>9</th>\n",
       "      <td>4.620769</td>\n",
       "      <td>2775</td>\n",
       "      <td>Head On (1998)</td>\n",
       "      <td>Drama</td>\n",
       "    </tr>\n",
       "  </tbody>\n",
       "</table>\n",
       "</div>"
      ],
      "text/plain": [
       "   pre_rating  movieId                                            title  \\\n",
       "0    4.844340      312                   Stuart Saves His Family (1995)   \n",
       "1    4.821636      824                             Kaspar Hauser (1993)   \n",
       "2    4.732200      517                                Rising Sun (1993)   \n",
       "3    4.666759      616                           Aristocats, The (1970)   \n",
       "4    4.662996     2178                                    Frenzy (1972)   \n",
       "5    4.655131      647                        Courage Under Fire (1996)   \n",
       "6    4.634731     1615                                 Edge, The (1997)   \n",
       "7    4.625141      722  Haunted World of Edward D. Wood Jr., The (1996)   \n",
       "8    4.623024     2921                       High Plains Drifter (1973)   \n",
       "9    4.620769     2775                                   Head On (1998)   \n",
       "\n",
       "                   genres  \n",
       "0                  Comedy  \n",
       "1           Drama|Mystery  \n",
       "2    Action|Drama|Mystery  \n",
       "3      Animation|Children  \n",
       "4                Thriller  \n",
       "5  Action|Crime|Drama|War  \n",
       "6         Adventure|Drama  \n",
       "7             Documentary  \n",
       "8                 Western  \n",
       "9                   Drama  "
      ]
     },
     "execution_count": 77,
     "metadata": {},
     "output_type": "execute_result"
    }
   ],
   "source": [
    "results = pd.DataFrame(results, columns=['pre_rating']).astype(\"float\")\n",
    "items = pd.DataFrame(items, columns=['movieId'])\n",
    "results = pd.concat([items, results], ignore_index=True, sort=False, axis=1)\n",
    "results.columns =['movieId', 'pre_rating'] \n",
    "\n",
    "results_df = pd.DataFrame(np.nan, index=range(len(results)), columns=['pre_rating','movieId'])\n",
    "\n",
    "for index, row in results.iterrows():\n",
    "    results_df.loc[index] = [row['pre_rating'], ratings[ratings['movieId'] == row['movieId']].iloc[0]['movieId']]\n",
    "   \n",
    "# output\n",
    "results_df= results_df.sort_values(by=['pre_rating'], ascending=False)\n",
    "results_df[\"movieId\"]=results_df[\"movieId\"].astype(int)\n",
    "results_df=pd.merge(results_df,movie_list,on=\"movieId\")\n",
    "\n",
    "results_df.head(10)"
   ]
  },
  {
   "cell_type": "code",
   "execution_count": null,
   "metadata": {},
   "outputs": [],
   "source": []
  }
 ],
 "metadata": {
  "kernelspec": {
   "display_name": "Python 3",
   "language": "python",
   "name": "python3"
  },
  "language_info": {
   "codemirror_mode": {
    "name": "ipython",
    "version": 3
   },
   "file_extension": ".py",
   "mimetype": "text/x-python",
   "name": "python",
   "nbconvert_exporter": "python",
   "pygments_lexer": "ipython3",
   "version": "3.7.6"
  }
 },
 "nbformat": 4,
 "nbformat_minor": 4
}
